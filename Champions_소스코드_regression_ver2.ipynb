{
 "cells": [
  {
   "cell_type": "code",
   "execution_count": 1,
   "metadata": {},
   "outputs": [],
   "source": [
    "import pandas as pd\n",
    "import numpy as np\n",
    "import matplotlib.pyplot as plt\n",
    "import seaborn as sns"
   ]
  },
  {
   "cell_type": "code",
   "execution_count": 2,
   "metadata": {},
   "outputs": [],
   "source": [
    "X_train = pd.read_csv('X_train_ver2.csv')\n",
    "X_test = pd.read_csv('X_test_ver2.csv')\n",
    "y_train = pd.read_csv('/home/user3/anaconda3/빅콘테스트/train_label.csv', engine = 'python')"
   ]
  },
  {
   "cell_type": "code",
   "execution_count": 3,
   "metadata": {},
   "outputs": [
    {
     "name": "stderr",
     "output_type": "stream",
     "text": [
      "/home/user3/.conda/envs/hun/lib/python3.6/site-packages/ipykernel_launcher.py:2: SettingWithCopyWarning: \n",
      "A value is trying to be set on a copy of a slice from a DataFrame\n",
      "\n",
      "See the caveats in the documentation: http://pandas.pydata.org/pandas-docs/stable/indexing.html#indexing-view-versus-copy\n",
      "  \n"
     ]
    }
   ],
   "source": [
    "y_train['leave'] = 0\n",
    "y_train['leave'][y_train.survival_time < 64] = 1"
   ]
  },
  {
   "cell_type": "code",
   "execution_count": 4,
   "metadata": {},
   "outputs": [
    {
     "name": "stderr",
     "output_type": "stream",
     "text": [
      "/home/user3/.conda/envs/hun/lib/python3.6/site-packages/ipykernel_launcher.py:2: SettingWithCopyWarning: \n",
      "A value is trying to be set on a copy of a slice from a DataFrame\n",
      "\n",
      "See the caveats in the documentation: http://pandas.pydata.org/pandas-docs/stable/indexing.html#indexing-view-versus-copy\n",
      "  \n"
     ]
    }
   ],
   "source": [
    "y_train['amount'] = 0\n",
    "y_train['amount'][y_train.amount_spent > 0] = 1"
   ]
  },
  {
   "cell_type": "code",
   "execution_count": 5,
   "metadata": {},
   "outputs": [],
   "source": [
    "from sklearn.model_selection import StratifiedShuffleSplit\n",
    "\n",
    "split = StratifiedShuffleSplit(n_splits = 1, test_size = 0.25, random_state = 42)\n",
    "for train_index, test_index in split.split(y_train, y_train['leave']):\n",
    "    strat_y_train = y_train.loc[train_index]\n",
    "    strat_y_test = y_train.loc[test_index]"
   ]
  },
  {
   "cell_type": "code",
   "execution_count": 6,
   "metadata": {},
   "outputs": [
    {
     "data": {
      "text/plain": [
       "(30000, 10000)"
      ]
     },
     "execution_count": 6,
     "metadata": {},
     "output_type": "execute_result"
    }
   ],
   "source": [
    "len(strat_y_train), len(strat_y_test)"
   ]
  },
  {
   "cell_type": "code",
   "execution_count": 7,
   "metadata": {},
   "outputs": [
    {
     "data": {
      "text/plain": [
       "(0.4501, 0.4501)"
      ]
     },
     "execution_count": 7,
     "metadata": {},
     "output_type": "execute_result"
    }
   ],
   "source": [
    "strat_y_train['leave'].mean(), strat_y_test['leave'].mean()"
   ]
  },
  {
   "cell_type": "code",
   "execution_count": 8,
   "metadata": {},
   "outputs": [],
   "source": [
    "y_train = strat_y_train.sort_values(['acc_id'], ascending = True)\n",
    "y_test = strat_y_test.sort_values(['acc_id'], ascending = True)"
   ]
  },
  {
   "cell_type": "code",
   "execution_count": 9,
   "metadata": {},
   "outputs": [],
   "source": [
    "train = pd.merge(X_train, y_train, how = 'left', on = 'acc_id')\n",
    "test = pd.merge(X_test, y_test, how = 'left', on = 'acc_id')"
   ]
  },
  {
   "cell_type": "code",
   "execution_count": 10,
   "metadata": {},
   "outputs": [],
   "source": [
    "train_leave = train[train['leave'] == 1]\n",
    "train_amount = train[train['amount'] == 1]"
   ]
  },
  {
   "cell_type": "markdown",
   "metadata": {},
   "source": [
    "## 추가 생존 기간"
   ]
  },
  {
   "cell_type": "code",
   "execution_count": 11,
   "metadata": {},
   "outputs": [
    {
     "data": {
      "text/html": [
       "<div>\n",
       "<style scoped>\n",
       "    .dataframe tbody tr th:only-of-type {\n",
       "        vertical-align: middle;\n",
       "    }\n",
       "\n",
       "    .dataframe tbody tr th {\n",
       "        vertical-align: top;\n",
       "    }\n",
       "\n",
       "    .dataframe thead th {\n",
       "        text-align: right;\n",
       "    }\n",
       "</style>\n",
       "<table border=\"1\" class=\"dataframe\">\n",
       "  <thead>\n",
       "    <tr style=\"text-align: right;\">\n",
       "      <th></th>\n",
       "      <th>acc_id</th>\n",
       "      <th>level</th>\n",
       "      <th>playtime_1</th>\n",
       "      <th>playtime_2</th>\n",
       "      <th>playtime_3</th>\n",
       "      <th>playtime_4</th>\n",
       "      <th>npc_kill_1</th>\n",
       "      <th>npc_kill_2</th>\n",
       "      <th>npc_kill_3</th>\n",
       "      <th>npc_kill_4</th>\n",
       "      <th>...</th>\n",
       "      <th>source_armor</th>\n",
       "      <th>target_armor</th>\n",
       "      <th>source_accessory</th>\n",
       "      <th>target_accessory</th>\n",
       "      <th>source_spell</th>\n",
       "      <th>target_spell</th>\n",
       "      <th>survival_time</th>\n",
       "      <th>amount_spent</th>\n",
       "      <th>leave</th>\n",
       "      <th>amount</th>\n",
       "    </tr>\n",
       "  </thead>\n",
       "  <tbody>\n",
       "    <tr>\n",
       "      <th>1</th>\n",
       "      <td>5.0</td>\n",
       "      <td>15</td>\n",
       "      <td>0.000000</td>\n",
       "      <td>0.589845</td>\n",
       "      <td>0.213000</td>\n",
       "      <td>5.313287</td>\n",
       "      <td>0.000000</td>\n",
       "      <td>0.310229</td>\n",
       "      <td>0.162887</td>\n",
       "      <td>2.763336</td>\n",
       "      <td>...</td>\n",
       "      <td>0</td>\n",
       "      <td>0</td>\n",
       "      <td>0</td>\n",
       "      <td>0</td>\n",
       "      <td>0</td>\n",
       "      <td>0</td>\n",
       "      <td>60</td>\n",
       "      <td>0.000000</td>\n",
       "      <td>1</td>\n",
       "      <td>0</td>\n",
       "    </tr>\n",
       "    <tr>\n",
       "      <th>5</th>\n",
       "      <td>31.0</td>\n",
       "      <td>17</td>\n",
       "      <td>19.586603</td>\n",
       "      <td>22.231543</td>\n",
       "      <td>21.236765</td>\n",
       "      <td>19.027186</td>\n",
       "      <td>15.761864</td>\n",
       "      <td>13.541598</td>\n",
       "      <td>18.448150</td>\n",
       "      <td>17.846955</td>\n",
       "      <td>...</td>\n",
       "      <td>0</td>\n",
       "      <td>1</td>\n",
       "      <td>0</td>\n",
       "      <td>1</td>\n",
       "      <td>0</td>\n",
       "      <td>1</td>\n",
       "      <td>45</td>\n",
       "      <td>0.051316</td>\n",
       "      <td>1</td>\n",
       "      <td>1</td>\n",
       "    </tr>\n",
       "    <tr>\n",
       "      <th>7</th>\n",
       "      <td>41.0</td>\n",
       "      <td>0</td>\n",
       "      <td>0.000000</td>\n",
       "      <td>0.000000</td>\n",
       "      <td>0.000000</td>\n",
       "      <td>0.004681</td>\n",
       "      <td>0.000000</td>\n",
       "      <td>0.000000</td>\n",
       "      <td>0.000000</td>\n",
       "      <td>0.000000</td>\n",
       "      <td>...</td>\n",
       "      <td>0</td>\n",
       "      <td>0</td>\n",
       "      <td>0</td>\n",
       "      <td>0</td>\n",
       "      <td>0</td>\n",
       "      <td>0</td>\n",
       "      <td>3</td>\n",
       "      <td>0.000000</td>\n",
       "      <td>1</td>\n",
       "      <td>0</td>\n",
       "    </tr>\n",
       "    <tr>\n",
       "      <th>11</th>\n",
       "      <td>54.0</td>\n",
       "      <td>11</td>\n",
       "      <td>2.359380</td>\n",
       "      <td>8.381886</td>\n",
       "      <td>8.868743</td>\n",
       "      <td>11.019805</td>\n",
       "      <td>0.650535</td>\n",
       "      <td>0.000000</td>\n",
       "      <td>0.000000</td>\n",
       "      <td>0.000000</td>\n",
       "      <td>...</td>\n",
       "      <td>0</td>\n",
       "      <td>0</td>\n",
       "      <td>0</td>\n",
       "      <td>0</td>\n",
       "      <td>0</td>\n",
       "      <td>0</td>\n",
       "      <td>50</td>\n",
       "      <td>0.059060</td>\n",
       "      <td>1</td>\n",
       "      <td>1</td>\n",
       "    </tr>\n",
       "    <tr>\n",
       "      <th>13</th>\n",
       "      <td>63.0</td>\n",
       "      <td>17</td>\n",
       "      <td>5.435001</td>\n",
       "      <td>15.591104</td>\n",
       "      <td>5.989737</td>\n",
       "      <td>8.611271</td>\n",
       "      <td>0.000000</td>\n",
       "      <td>0.000000</td>\n",
       "      <td>0.026697</td>\n",
       "      <td>0.809029</td>\n",
       "      <td>...</td>\n",
       "      <td>0</td>\n",
       "      <td>1</td>\n",
       "      <td>0</td>\n",
       "      <td>0</td>\n",
       "      <td>0</td>\n",
       "      <td>0</td>\n",
       "      <td>22</td>\n",
       "      <td>0.067853</td>\n",
       "      <td>1</td>\n",
       "      <td>1</td>\n",
       "    </tr>\n",
       "  </tbody>\n",
       "</table>\n",
       "<p>5 rows × 151 columns</p>\n",
       "</div>"
      ],
      "text/plain": [
       "    acc_id  level  playtime_1  playtime_2  playtime_3  playtime_4  npc_kill_1  \\\n",
       "1      5.0     15    0.000000    0.589845    0.213000    5.313287    0.000000   \n",
       "5     31.0     17   19.586603   22.231543   21.236765   19.027186   15.761864   \n",
       "7     41.0      0    0.000000    0.000000    0.000000    0.004681    0.000000   \n",
       "11    54.0     11    2.359380    8.381886    8.868743   11.019805    0.650535   \n",
       "13    63.0     17    5.435001   15.591104    5.989737    8.611271    0.000000   \n",
       "\n",
       "    npc_kill_2  npc_kill_3  npc_kill_4  ...  source_armor  target_armor  \\\n",
       "1     0.310229    0.162887    2.763336  ...             0             0   \n",
       "5    13.541598   18.448150   17.846955  ...             0             1   \n",
       "7     0.000000    0.000000    0.000000  ...             0             0   \n",
       "11    0.000000    0.000000    0.000000  ...             0             0   \n",
       "13    0.000000    0.026697    0.809029  ...             0             1   \n",
       "\n",
       "    source_accessory  target_accessory  source_spell  target_spell  \\\n",
       "1                  0                 0             0             0   \n",
       "5                  0                 1             0             1   \n",
       "7                  0                 0             0             0   \n",
       "11                 0                 0             0             0   \n",
       "13                 0                 0             0             0   \n",
       "\n",
       "    survival_time  amount_spent  leave  amount  \n",
       "1              60      0.000000      1       0  \n",
       "5              45      0.051316      1       1  \n",
       "7               3      0.000000      1       0  \n",
       "11             50      0.059060      1       1  \n",
       "13             22      0.067853      1       1  \n",
       "\n",
       "[5 rows x 151 columns]"
      ]
     },
     "execution_count": 11,
     "metadata": {},
     "output_type": "execute_result"
    }
   ],
   "source": [
    "train_leave.head()"
   ]
  },
  {
   "cell_type": "code",
   "execution_count": 12,
   "metadata": {},
   "outputs": [
    {
     "name": "stdout",
     "output_type": "stream",
     "text": [
      "Fitting 5 folds for each of 12 candidates, totalling 60 fits\n"
     ]
    },
    {
     "name": "stderr",
     "output_type": "stream",
     "text": [
      "[Parallel(n_jobs=-1)]: Using backend LokyBackend with 32 concurrent workers.\n",
      "[Parallel(n_jobs=-1)]: Done  28 out of  60 | elapsed:   45.0s remaining:   51.5s\n",
      "[Parallel(n_jobs=-1)]: Done  60 out of  60 | elapsed:  1.3min finished\n"
     ]
    },
    {
     "data": {
      "text/plain": [
       "GridSearchCV(cv=5, error_score='raise-deprecating',\n",
       "             estimator=RandomForestRegressor(bootstrap=True, criterion='mse',\n",
       "                                             max_depth=None,\n",
       "                                             max_features='auto',\n",
       "                                             max_leaf_nodes=None,\n",
       "                                             min_impurity_decrease=0.0,\n",
       "                                             min_impurity_split=None,\n",
       "                                             min_samples_leaf=1,\n",
       "                                             min_samples_split=2,\n",
       "                                             min_weight_fraction_leaf=0.0,\n",
       "                                             n_estimators='warn', n_jobs=None,\n",
       "                                             oob_score=False, random_state=42,\n",
       "                                             verbose=0, warm_start=False),\n",
       "             iid='warn', n_jobs=-1,\n",
       "             param_grid=[{'max_features': [12, 13, 14, 15],\n",
       "                          'n_estimators': [300, 500, 750]}],\n",
       "             pre_dispatch='2*n_jobs', refit=True, return_train_score=False,\n",
       "             scoring='neg_mean_squared_error', verbose=2)"
      ]
     },
     "execution_count": 12,
     "metadata": {},
     "output_type": "execute_result"
    }
   ],
   "source": [
    "from sklearn.model_selection import GridSearchCV\n",
    "from sklearn.ensemble import RandomForestRegressor\n",
    "\n",
    "rf = RandomForestRegressor(random_state=42)\n",
    "\n",
    "param_grid = [\n",
    "    {'n_estimators' : [300, 500, 750], 'max_features' : [12, 13, 14, 15]}\n",
    "  ]\n",
    "\n",
    "grid_search = GridSearchCV(rf, param_grid, cv = 5,\n",
    "                           scoring = 'neg_mean_squared_error', verbose = 2, n_jobs = -1)\n",
    "\n",
    "grid_search.fit(train_leave.iloc[:, 1:-4], train_leave['survival_time'])"
   ]
  },
  {
   "cell_type": "code",
   "execution_count": 13,
   "metadata": {},
   "outputs": [
    {
     "name": "stdout",
     "output_type": "stream",
     "text": [
      "-204.21454773835353\n",
      "{'max_features': 14, 'n_estimators': 750}\n"
     ]
    }
   ],
   "source": [
    "print(grid_search.best_score_)\n",
    "print(grid_search.best_params_)"
   ]
  },
  {
   "cell_type": "code",
   "execution_count": 16,
   "metadata": {},
   "outputs": [
    {
     "name": "stdout",
     "output_type": "stream",
     "text": [
      "RandomForestRegressor(bootstrap=True, criterion='mse', max_depth=None,\n",
      "                      max_features=14, max_leaf_nodes=None,\n",
      "                      min_impurity_decrease=0.0, min_impurity_split=None,\n",
      "                      min_samples_leaf=1, min_samples_split=2,\n",
      "                      min_weight_fraction_leaf=0.0, n_estimators=750,\n",
      "                      n_jobs=None, oob_score=False, random_state=42, verbose=0,\n",
      "                      warm_start=False)\n"
     ]
    },
    {
     "data": {
      "text/plain": [
       "['./빅콘테스트/model/version2/rf_leave_reg_version2.pkl']"
      ]
     },
     "execution_count": 16,
     "metadata": {},
     "output_type": "execute_result"
    }
   ],
   "source": [
    "from sklearn.externals import joblib\n",
    "\n",
    "rf_leave_reg = grid_search.best_estimator_\n",
    "print(rf_leave_reg)\n",
    "joblib.dump(rf_leave_reg, './빅콘테스트/model/version2/rf_leave_reg_version2.pkl')"
   ]
  },
  {
   "cell_type": "code",
   "execution_count": 17,
   "metadata": {},
   "outputs": [
    {
     "data": {
      "text/html": [
       "<div>\n",
       "<style scoped>\n",
       "    .dataframe tbody tr th:only-of-type {\n",
       "        vertical-align: middle;\n",
       "    }\n",
       "\n",
       "    .dataframe tbody tr th {\n",
       "        vertical-align: top;\n",
       "    }\n",
       "\n",
       "    .dataframe thead th {\n",
       "        text-align: right;\n",
       "    }\n",
       "</style>\n",
       "<table border=\"1\" class=\"dataframe\">\n",
       "  <thead>\n",
       "    <tr style=\"text-align: right;\">\n",
       "      <th></th>\n",
       "      <th>feature</th>\n",
       "      <th>importance</th>\n",
       "    </tr>\n",
       "  </thead>\n",
       "  <tbody>\n",
       "    <tr>\n",
       "      <th>49</th>\n",
       "      <td>enchant_count_1</td>\n",
       "      <td>0.000031</td>\n",
       "    </tr>\n",
       "    <tr>\n",
       "      <th>50</th>\n",
       "      <td>enchant_count_2</td>\n",
       "      <td>0.000042</td>\n",
       "    </tr>\n",
       "    <tr>\n",
       "      <th>52</th>\n",
       "      <td>enchant_count_4</td>\n",
       "      <td>0.000112</td>\n",
       "    </tr>\n",
       "    <tr>\n",
       "      <th>51</th>\n",
       "      <td>enchant_count_3</td>\n",
       "      <td>0.000181</td>\n",
       "    </tr>\n",
       "    <tr>\n",
       "      <th>108</th>\n",
       "      <td>source_type_0_week3_enchant_scroll</td>\n",
       "      <td>0.000373</td>\n",
       "    </tr>\n",
       "    <tr>\n",
       "      <th>106</th>\n",
       "      <td>source_type_0_week1_enchant_scroll</td>\n",
       "      <td>0.000407</td>\n",
       "    </tr>\n",
       "    <tr>\n",
       "      <th>85</th>\n",
       "      <td>server_group_2</td>\n",
       "      <td>0.000419</td>\n",
       "    </tr>\n",
       "    <tr>\n",
       "      <th>110</th>\n",
       "      <td>source_type_1_week1_enchant_scroll</td>\n",
       "      <td>0.000429</td>\n",
       "    </tr>\n",
       "    <tr>\n",
       "      <th>112</th>\n",
       "      <td>source_type_1_week3_enchant_scroll</td>\n",
       "      <td>0.000459</td>\n",
       "    </tr>\n",
       "    <tr>\n",
       "      <th>83</th>\n",
       "      <td>server_group_0</td>\n",
       "      <td>0.000467</td>\n",
       "    </tr>\n",
       "    <tr>\n",
       "      <th>109</th>\n",
       "      <td>source_type_0_week4_enchant_scroll</td>\n",
       "      <td>0.000469</td>\n",
       "    </tr>\n",
       "    <tr>\n",
       "      <th>113</th>\n",
       "      <td>source_type_1_week4_enchant_scroll</td>\n",
       "      <td>0.000472</td>\n",
       "    </tr>\n",
       "    <tr>\n",
       "      <th>107</th>\n",
       "      <td>source_type_0_week2_enchant_scroll</td>\n",
       "      <td>0.000490</td>\n",
       "    </tr>\n",
       "    <tr>\n",
       "      <th>70</th>\n",
       "      <td>combat_same_pledge_cnt_2</td>\n",
       "      <td>0.000496</td>\n",
       "    </tr>\n",
       "    <tr>\n",
       "      <th>118</th>\n",
       "      <td>target_type_1_week1_enchant_scroll</td>\n",
       "      <td>0.000516</td>\n",
       "    </tr>\n",
       "    <tr>\n",
       "      <th>72</th>\n",
       "      <td>combat_same_pledge_cnt_4</td>\n",
       "      <td>0.000539</td>\n",
       "    </tr>\n",
       "    <tr>\n",
       "      <th>111</th>\n",
       "      <td>source_type_1_week2_enchant_scroll</td>\n",
       "      <td>0.000549</td>\n",
       "    </tr>\n",
       "    <tr>\n",
       "      <th>120</th>\n",
       "      <td>target_type_1_week3_enchant_scroll</td>\n",
       "      <td>0.000556</td>\n",
       "    </tr>\n",
       "    <tr>\n",
       "      <th>121</th>\n",
       "      <td>target_type_1_week4_enchant_scroll</td>\n",
       "      <td>0.000590</td>\n",
       "    </tr>\n",
       "    <tr>\n",
       "      <th>119</th>\n",
       "      <td>target_type_1_week2_enchant_scroll</td>\n",
       "      <td>0.000609</td>\n",
       "    </tr>\n",
       "    <tr>\n",
       "      <th>92</th>\n",
       "      <td>class_6</td>\n",
       "      <td>0.000627</td>\n",
       "    </tr>\n",
       "    <tr>\n",
       "      <th>57</th>\n",
       "      <td>combat_random_attacker_cnt_1</td>\n",
       "      <td>0.000640</td>\n",
       "    </tr>\n",
       "    <tr>\n",
       "      <th>71</th>\n",
       "      <td>combat_same_pledge_cnt_3</td>\n",
       "      <td>0.000641</td>\n",
       "    </tr>\n",
       "    <tr>\n",
       "      <th>84</th>\n",
       "      <td>server_group_1</td>\n",
       "      <td>0.000722</td>\n",
       "    </tr>\n",
       "    <tr>\n",
       "      <th>35</th>\n",
       "      <td>exp_recovery_3</td>\n",
       "      <td>0.000725</td>\n",
       "    </tr>\n",
       "    <tr>\n",
       "      <th>36</th>\n",
       "      <td>exp_recovery_4</td>\n",
       "      <td>0.000788</td>\n",
       "    </tr>\n",
       "    <tr>\n",
       "      <th>34</th>\n",
       "      <td>exp_recovery_2</td>\n",
       "      <td>0.000796</td>\n",
       "    </tr>\n",
       "    <tr>\n",
       "      <th>58</th>\n",
       "      <td>combat_random_attacker_cnt_2</td>\n",
       "      <td>0.000830</td>\n",
       "    </tr>\n",
       "    <tr>\n",
       "      <th>59</th>\n",
       "      <td>combat_random_attacker_cnt_3</td>\n",
       "      <td>0.000840</td>\n",
       "    </tr>\n",
       "    <tr>\n",
       "      <th>60</th>\n",
       "      <td>combat_random_attacker_cnt_4</td>\n",
       "      <td>0.000866</td>\n",
       "    </tr>\n",
       "    <tr>\n",
       "      <th>...</th>\n",
       "      <td>...</td>\n",
       "      <td>...</td>\n",
       "    </tr>\n",
       "    <tr>\n",
       "      <th>79</th>\n",
       "      <td>combat_num_opponent_3</td>\n",
       "      <td>0.010278</td>\n",
       "    </tr>\n",
       "    <tr>\n",
       "      <th>38</th>\n",
       "      <td>fishing_2</td>\n",
       "      <td>0.010415</td>\n",
       "    </tr>\n",
       "    <tr>\n",
       "      <th>76</th>\n",
       "      <td>combat_etc_cnt_4</td>\n",
       "      <td>0.011278</td>\n",
       "    </tr>\n",
       "    <tr>\n",
       "      <th>16</th>\n",
       "      <td>party_exp_4</td>\n",
       "      <td>0.011953</td>\n",
       "    </tr>\n",
       "    <tr>\n",
       "      <th>17</th>\n",
       "      <td>quest_exp_1</td>\n",
       "      <td>0.012692</td>\n",
       "    </tr>\n",
       "    <tr>\n",
       "      <th>37</th>\n",
       "      <td>fishing_1</td>\n",
       "      <td>0.012735</td>\n",
       "    </tr>\n",
       "    <tr>\n",
       "      <th>0</th>\n",
       "      <td>level</td>\n",
       "      <td>0.013020</td>\n",
       "    </tr>\n",
       "    <tr>\n",
       "      <th>6</th>\n",
       "      <td>npc_kill_2</td>\n",
       "      <td>0.013630</td>\n",
       "    </tr>\n",
       "    <tr>\n",
       "      <th>10</th>\n",
       "      <td>solo_exp_2</td>\n",
       "      <td>0.013804</td>\n",
       "    </tr>\n",
       "    <tr>\n",
       "      <th>39</th>\n",
       "      <td>fishing_3</td>\n",
       "      <td>0.014228</td>\n",
       "    </tr>\n",
       "    <tr>\n",
       "      <th>18</th>\n",
       "      <td>quest_exp_2</td>\n",
       "      <td>0.014488</td>\n",
       "    </tr>\n",
       "    <tr>\n",
       "      <th>80</th>\n",
       "      <td>combat_num_opponent_4</td>\n",
       "      <td>0.014503</td>\n",
       "    </tr>\n",
       "    <tr>\n",
       "      <th>9</th>\n",
       "      <td>solo_exp_1</td>\n",
       "      <td>0.015170</td>\n",
       "    </tr>\n",
       "    <tr>\n",
       "      <th>45</th>\n",
       "      <td>game_money_change_1</td>\n",
       "      <td>0.015640</td>\n",
       "    </tr>\n",
       "    <tr>\n",
       "      <th>5</th>\n",
       "      <td>npc_kill_1</td>\n",
       "      <td>0.017438</td>\n",
       "    </tr>\n",
       "    <tr>\n",
       "      <th>46</th>\n",
       "      <td>game_money_change_2</td>\n",
       "      <td>0.018044</td>\n",
       "    </tr>\n",
       "    <tr>\n",
       "      <th>47</th>\n",
       "      <td>game_money_change_3</td>\n",
       "      <td>0.018761</td>\n",
       "    </tr>\n",
       "    <tr>\n",
       "      <th>40</th>\n",
       "      <td>fishing_4</td>\n",
       "      <td>0.018899</td>\n",
       "    </tr>\n",
       "    <tr>\n",
       "      <th>19</th>\n",
       "      <td>quest_exp_3</td>\n",
       "      <td>0.019265</td>\n",
       "    </tr>\n",
       "    <tr>\n",
       "      <th>11</th>\n",
       "      <td>solo_exp_3</td>\n",
       "      <td>0.019595</td>\n",
       "    </tr>\n",
       "    <tr>\n",
       "      <th>82</th>\n",
       "      <td>amount_mean</td>\n",
       "      <td>0.019648</td>\n",
       "    </tr>\n",
       "    <tr>\n",
       "      <th>20</th>\n",
       "      <td>quest_exp_4</td>\n",
       "      <td>0.019670</td>\n",
       "    </tr>\n",
       "    <tr>\n",
       "      <th>12</th>\n",
       "      <td>solo_exp_4</td>\n",
       "      <td>0.020791</td>\n",
       "    </tr>\n",
       "    <tr>\n",
       "      <th>7</th>\n",
       "      <td>npc_kill_3</td>\n",
       "      <td>0.021615</td>\n",
       "    </tr>\n",
       "    <tr>\n",
       "      <th>48</th>\n",
       "      <td>game_money_change_4</td>\n",
       "      <td>0.022958</td>\n",
       "    </tr>\n",
       "    <tr>\n",
       "      <th>2</th>\n",
       "      <td>playtime_2</td>\n",
       "      <td>0.027577</td>\n",
       "    </tr>\n",
       "    <tr>\n",
       "      <th>1</th>\n",
       "      <td>playtime_1</td>\n",
       "      <td>0.028629</td>\n",
       "    </tr>\n",
       "    <tr>\n",
       "      <th>8</th>\n",
       "      <td>npc_kill_4</td>\n",
       "      <td>0.037168</td>\n",
       "    </tr>\n",
       "    <tr>\n",
       "      <th>3</th>\n",
       "      <td>playtime_3</td>\n",
       "      <td>0.041710</td>\n",
       "    </tr>\n",
       "    <tr>\n",
       "      <th>4</th>\n",
       "      <td>playtime_4</td>\n",
       "      <td>0.054546</td>\n",
       "    </tr>\n",
       "  </tbody>\n",
       "</table>\n",
       "<p>146 rows × 2 columns</p>\n",
       "</div>"
      ],
      "text/plain": [
       "                                feature  importance\n",
       "49                      enchant_count_1    0.000031\n",
       "50                      enchant_count_2    0.000042\n",
       "52                      enchant_count_4    0.000112\n",
       "51                      enchant_count_3    0.000181\n",
       "108  source_type_0_week3_enchant_scroll    0.000373\n",
       "106  source_type_0_week1_enchant_scroll    0.000407\n",
       "85                       server_group_2    0.000419\n",
       "110  source_type_1_week1_enchant_scroll    0.000429\n",
       "112  source_type_1_week3_enchant_scroll    0.000459\n",
       "83                       server_group_0    0.000467\n",
       "109  source_type_0_week4_enchant_scroll    0.000469\n",
       "113  source_type_1_week4_enchant_scroll    0.000472\n",
       "107  source_type_0_week2_enchant_scroll    0.000490\n",
       "70             combat_same_pledge_cnt_2    0.000496\n",
       "118  target_type_1_week1_enchant_scroll    0.000516\n",
       "72             combat_same_pledge_cnt_4    0.000539\n",
       "111  source_type_1_week2_enchant_scroll    0.000549\n",
       "120  target_type_1_week3_enchant_scroll    0.000556\n",
       "121  target_type_1_week4_enchant_scroll    0.000590\n",
       "119  target_type_1_week2_enchant_scroll    0.000609\n",
       "92                              class_6    0.000627\n",
       "57         combat_random_attacker_cnt_1    0.000640\n",
       "71             combat_same_pledge_cnt_3    0.000641\n",
       "84                       server_group_1    0.000722\n",
       "35                       exp_recovery_3    0.000725\n",
       "36                       exp_recovery_4    0.000788\n",
       "34                       exp_recovery_2    0.000796\n",
       "58         combat_random_attacker_cnt_2    0.000830\n",
       "59         combat_random_attacker_cnt_3    0.000840\n",
       "60         combat_random_attacker_cnt_4    0.000866\n",
       "..                                  ...         ...\n",
       "79                combat_num_opponent_3    0.010278\n",
       "38                            fishing_2    0.010415\n",
       "76                     combat_etc_cnt_4    0.011278\n",
       "16                          party_exp_4    0.011953\n",
       "17                          quest_exp_1    0.012692\n",
       "37                            fishing_1    0.012735\n",
       "0                                 level    0.013020\n",
       "6                            npc_kill_2    0.013630\n",
       "10                           solo_exp_2    0.013804\n",
       "39                            fishing_3    0.014228\n",
       "18                          quest_exp_2    0.014488\n",
       "80                combat_num_opponent_4    0.014503\n",
       "9                            solo_exp_1    0.015170\n",
       "45                  game_money_change_1    0.015640\n",
       "5                            npc_kill_1    0.017438\n",
       "46                  game_money_change_2    0.018044\n",
       "47                  game_money_change_3    0.018761\n",
       "40                            fishing_4    0.018899\n",
       "19                          quest_exp_3    0.019265\n",
       "11                           solo_exp_3    0.019595\n",
       "82                          amount_mean    0.019648\n",
       "20                          quest_exp_4    0.019670\n",
       "12                           solo_exp_4    0.020791\n",
       "7                            npc_kill_3    0.021615\n",
       "48                  game_money_change_4    0.022958\n",
       "2                            playtime_2    0.027577\n",
       "1                            playtime_1    0.028629\n",
       "8                            npc_kill_4    0.037168\n",
       "3                            playtime_3    0.041710\n",
       "4                            playtime_4    0.054546\n",
       "\n",
       "[146 rows x 2 columns]"
      ]
     },
     "execution_count": 17,
     "metadata": {},
     "output_type": "execute_result"
    }
   ],
   "source": [
    "Importance = pd.DataFrame({'feature' : train_leave.columns[1:-4], 'importance' : rf_leave_reg.feature_importances_}).sort_values(by = 'importance', ascending = True)\n",
    "Importance"
   ]
  },
  {
   "cell_type": "code",
   "execution_count": 18,
   "metadata": {},
   "outputs": [
    {
     "name": "stdout",
     "output_type": "stream",
     "text": [
      "Fitting 5 folds for each of 36 candidates, totalling 180 fits\n"
     ]
    },
    {
     "name": "stderr",
     "output_type": "stream",
     "text": [
      "[Parallel(n_jobs=-1)]: Using backend LokyBackend with 32 concurrent workers.\n",
      "[Parallel(n_jobs=-1)]: Done  98 tasks      | elapsed:  1.1min\n",
      "[Parallel(n_jobs=-1)]: Done 180 out of 180 | elapsed:  2.0min finished\n"
     ]
    },
    {
     "data": {
      "text/plain": [
       "GridSearchCV(cv=5, error_score='raise-deprecating',\n",
       "             estimator=XGBRegressor(base_score=0.5, booster='gbtree',\n",
       "                                    colsample_bylevel=1, colsample_bytree=1,\n",
       "                                    gamma=0, learning_rate=0.1,\n",
       "                                    max_delta_step=0, max_depth=3,\n",
       "                                    min_child_weight=1, missing=None,\n",
       "                                    n_estimators=100, n_jobs=1, nthread=None,\n",
       "                                    objective='reg:linear', random_state=42,\n",
       "                                    reg_alpha=0, reg_lambda=1,\n",
       "                                    scale_pos_weight=1, seed=None, silent=True,\n",
       "                                    subsample=1),\n",
       "             iid='warn', n_jobs=-1,\n",
       "             param_grid=[{'gamma': [0, 1, 3],\n",
       "                          'learning_rate': [0.001, 0.01, 0.1],\n",
       "                          'max_depth': [9, 10, 11, 12]}],\n",
       "             pre_dispatch='2*n_jobs', refit=True, return_train_score=False,\n",
       "             scoring='neg_mean_squared_error', verbose=2)"
      ]
     },
     "execution_count": 18,
     "metadata": {},
     "output_type": "execute_result"
    }
   ],
   "source": [
    "from xgboost import XGBRegressor\n",
    "\n",
    "xgb = XGBRegressor(random_state=42)\n",
    "\n",
    "param_grid = [\n",
    "    {'learning_rate' : [0.001, 0.01, 0.1], 'max_depth' : [9, 10, 11, 12], 'gamma' : [0, 1, 3]}\n",
    "  ]\n",
    "\n",
    "grid_search = GridSearchCV(xgb, param_grid, cv = 5,\n",
    "                           scoring = 'neg_mean_squared_error', verbose = 2, n_jobs = -1)\n",
    "\n",
    "grid_search.fit(train_leave.iloc[:, 1:-4], train_leave['survival_time'])"
   ]
  },
  {
   "cell_type": "code",
   "execution_count": 19,
   "metadata": {},
   "outputs": [
    {
     "name": "stdout",
     "output_type": "stream",
     "text": [
      "-211.16980140049122\n",
      "{'gamma': 1, 'learning_rate': 0.1, 'max_depth': 9}\n"
     ]
    }
   ],
   "source": [
    "print(grid_search.best_score_)\n",
    "print(grid_search.best_params_)"
   ]
  },
  {
   "cell_type": "code",
   "execution_count": 20,
   "metadata": {},
   "outputs": [
    {
     "name": "stdout",
     "output_type": "stream",
     "text": [
      "XGBRegressor(base_score=0.5, booster='gbtree', colsample_bylevel=1,\n",
      "             colsample_bytree=1, gamma=1, learning_rate=0.1, max_delta_step=0,\n",
      "             max_depth=9, min_child_weight=1, missing=None, n_estimators=100,\n",
      "             n_jobs=1, nthread=None, objective='reg:linear', random_state=42,\n",
      "             reg_alpha=0, reg_lambda=1, scale_pos_weight=1, seed=None,\n",
      "             silent=True, subsample=1)\n"
     ]
    },
    {
     "data": {
      "text/plain": [
       "['./빅콘테스트/model/version2/xgb_leave_reg_version2.pkl']"
      ]
     },
     "execution_count": 20,
     "metadata": {},
     "output_type": "execute_result"
    }
   ],
   "source": [
    "xgb_leave_reg = grid_search.best_estimator_\n",
    "print(xgb_leave_reg)\n",
    "joblib.dump(xgb_leave_reg, './빅콘테스트/model/version2/xgb_leave_reg_version2.pkl')"
   ]
  },
  {
   "cell_type": "code",
   "execution_count": 21,
   "metadata": {},
   "outputs": [
    {
     "data": {
      "text/html": [
       "<div>\n",
       "<style scoped>\n",
       "    .dataframe tbody tr th:only-of-type {\n",
       "        vertical-align: middle;\n",
       "    }\n",
       "\n",
       "    .dataframe tbody tr th {\n",
       "        vertical-align: top;\n",
       "    }\n",
       "\n",
       "    .dataframe thead th {\n",
       "        text-align: right;\n",
       "    }\n",
       "</style>\n",
       "<table border=\"1\" class=\"dataframe\">\n",
       "  <thead>\n",
       "    <tr style=\"text-align: right;\">\n",
       "      <th></th>\n",
       "      <th>feature</th>\n",
       "      <th>importance</th>\n",
       "    </tr>\n",
       "  </thead>\n",
       "  <tbody>\n",
       "    <tr>\n",
       "      <th>50</th>\n",
       "      <td>enchant_count_2</td>\n",
       "      <td>0.000000</td>\n",
       "    </tr>\n",
       "    <tr>\n",
       "      <th>51</th>\n",
       "      <td>enchant_count_3</td>\n",
       "      <td>0.000000</td>\n",
       "    </tr>\n",
       "    <tr>\n",
       "      <th>49</th>\n",
       "      <td>enchant_count_1</td>\n",
       "      <td>0.000055</td>\n",
       "    </tr>\n",
       "    <tr>\n",
       "      <th>108</th>\n",
       "      <td>source_type_0_week3_enchant_scroll</td>\n",
       "      <td>0.000055</td>\n",
       "    </tr>\n",
       "    <tr>\n",
       "      <th>52</th>\n",
       "      <td>enchant_count_4</td>\n",
       "      <td>0.000109</td>\n",
       "    </tr>\n",
       "    <tr>\n",
       "      <th>85</th>\n",
       "      <td>server_group_2</td>\n",
       "      <td>0.000219</td>\n",
       "    </tr>\n",
       "    <tr>\n",
       "      <th>84</th>\n",
       "      <td>server_group_1</td>\n",
       "      <td>0.000219</td>\n",
       "    </tr>\n",
       "    <tr>\n",
       "      <th>70</th>\n",
       "      <td>combat_same_pledge_cnt_2</td>\n",
       "      <td>0.000328</td>\n",
       "    </tr>\n",
       "    <tr>\n",
       "      <th>107</th>\n",
       "      <td>source_type_0_week2_enchant_scroll</td>\n",
       "      <td>0.000328</td>\n",
       "    </tr>\n",
       "    <tr>\n",
       "      <th>106</th>\n",
       "      <td>source_type_0_week1_enchant_scroll</td>\n",
       "      <td>0.000328</td>\n",
       "    </tr>\n",
       "    <tr>\n",
       "      <th>119</th>\n",
       "      <td>target_type_1_week2_enchant_scroll</td>\n",
       "      <td>0.000492</td>\n",
       "    </tr>\n",
       "    <tr>\n",
       "      <th>92</th>\n",
       "      <td>class_6</td>\n",
       "      <td>0.000492</td>\n",
       "    </tr>\n",
       "    <tr>\n",
       "      <th>34</th>\n",
       "      <td>exp_recovery_2</td>\n",
       "      <td>0.000547</td>\n",
       "    </tr>\n",
       "    <tr>\n",
       "      <th>72</th>\n",
       "      <td>combat_same_pledge_cnt_4</td>\n",
       "      <td>0.000547</td>\n",
       "    </tr>\n",
       "    <tr>\n",
       "      <th>109</th>\n",
       "      <td>source_type_0_week4_enchant_scroll</td>\n",
       "      <td>0.000547</td>\n",
       "    </tr>\n",
       "    <tr>\n",
       "      <th>118</th>\n",
       "      <td>target_type_1_week1_enchant_scroll</td>\n",
       "      <td>0.000602</td>\n",
       "    </tr>\n",
       "    <tr>\n",
       "      <th>57</th>\n",
       "      <td>combat_random_attacker_cnt_1</td>\n",
       "      <td>0.000656</td>\n",
       "    </tr>\n",
       "    <tr>\n",
       "      <th>144</th>\n",
       "      <td>source_spell</td>\n",
       "      <td>0.000656</td>\n",
       "    </tr>\n",
       "    <tr>\n",
       "      <th>35</th>\n",
       "      <td>exp_recovery_3</td>\n",
       "      <td>0.000656</td>\n",
       "    </tr>\n",
       "    <tr>\n",
       "      <th>83</th>\n",
       "      <td>server_group_0</td>\n",
       "      <td>0.000711</td>\n",
       "    </tr>\n",
       "    <tr>\n",
       "      <th>33</th>\n",
       "      <td>exp_recovery_1</td>\n",
       "      <td>0.000875</td>\n",
       "    </tr>\n",
       "    <tr>\n",
       "      <th>69</th>\n",
       "      <td>combat_same_pledge_cnt_1</td>\n",
       "      <td>0.000875</td>\n",
       "    </tr>\n",
       "    <tr>\n",
       "      <th>59</th>\n",
       "      <td>combat_random_attacker_cnt_3</td>\n",
       "      <td>0.000930</td>\n",
       "    </tr>\n",
       "    <tr>\n",
       "      <th>58</th>\n",
       "      <td>combat_random_attacker_cnt_2</td>\n",
       "      <td>0.000930</td>\n",
       "    </tr>\n",
       "    <tr>\n",
       "      <th>71</th>\n",
       "      <td>combat_same_pledge_cnt_3</td>\n",
       "      <td>0.000984</td>\n",
       "    </tr>\n",
       "    <tr>\n",
       "      <th>123</th>\n",
       "      <td>source_type_0_week2_etc</td>\n",
       "      <td>0.000984</td>\n",
       "    </tr>\n",
       "    <tr>\n",
       "      <th>111</th>\n",
       "      <td>source_type_1_week2_enchant_scroll</td>\n",
       "      <td>0.000984</td>\n",
       "    </tr>\n",
       "    <tr>\n",
       "      <th>120</th>\n",
       "      <td>target_type_1_week3_enchant_scroll</td>\n",
       "      <td>0.000984</td>\n",
       "    </tr>\n",
       "    <tr>\n",
       "      <th>36</th>\n",
       "      <td>exp_recovery_4</td>\n",
       "      <td>0.001039</td>\n",
       "    </tr>\n",
       "    <tr>\n",
       "      <th>91</th>\n",
       "      <td>class_5</td>\n",
       "      <td>0.001039</td>\n",
       "    </tr>\n",
       "    <tr>\n",
       "      <th>...</th>\n",
       "      <td>...</td>\n",
       "      <td>...</td>\n",
       "    </tr>\n",
       "    <tr>\n",
       "      <th>137</th>\n",
       "      <td>target_type_1_week4_etc</td>\n",
       "      <td>0.008313</td>\n",
       "    </tr>\n",
       "    <tr>\n",
       "      <th>133</th>\n",
       "      <td>target_type_0_week4_etc</td>\n",
       "      <td>0.008477</td>\n",
       "    </tr>\n",
       "    <tr>\n",
       "      <th>15</th>\n",
       "      <td>party_exp_3</td>\n",
       "      <td>0.008641</td>\n",
       "    </tr>\n",
       "    <tr>\n",
       "      <th>14</th>\n",
       "      <td>party_exp_2</td>\n",
       "      <td>0.009844</td>\n",
       "    </tr>\n",
       "    <tr>\n",
       "      <th>39</th>\n",
       "      <td>fishing_3</td>\n",
       "      <td>0.010391</td>\n",
       "    </tr>\n",
       "    <tr>\n",
       "      <th>17</th>\n",
       "      <td>quest_exp_1</td>\n",
       "      <td>0.010664</td>\n",
       "    </tr>\n",
       "    <tr>\n",
       "      <th>13</th>\n",
       "      <td>party_exp_1</td>\n",
       "      <td>0.010993</td>\n",
       "    </tr>\n",
       "    <tr>\n",
       "      <th>19</th>\n",
       "      <td>quest_exp_3</td>\n",
       "      <td>0.012579</td>\n",
       "    </tr>\n",
       "    <tr>\n",
       "      <th>18</th>\n",
       "      <td>quest_exp_2</td>\n",
       "      <td>0.012797</td>\n",
       "    </tr>\n",
       "    <tr>\n",
       "      <th>40</th>\n",
       "      <td>fishing_4</td>\n",
       "      <td>0.013454</td>\n",
       "    </tr>\n",
       "    <tr>\n",
       "      <th>16</th>\n",
       "      <td>party_exp_4</td>\n",
       "      <td>0.013508</td>\n",
       "    </tr>\n",
       "    <tr>\n",
       "      <th>11</th>\n",
       "      <td>solo_exp_3</td>\n",
       "      <td>0.014110</td>\n",
       "    </tr>\n",
       "    <tr>\n",
       "      <th>9</th>\n",
       "      <td>solo_exp_1</td>\n",
       "      <td>0.015805</td>\n",
       "    </tr>\n",
       "    <tr>\n",
       "      <th>10</th>\n",
       "      <td>solo_exp_2</td>\n",
       "      <td>0.016133</td>\n",
       "    </tr>\n",
       "    <tr>\n",
       "      <th>82</th>\n",
       "      <td>amount_mean</td>\n",
       "      <td>0.016133</td>\n",
       "    </tr>\n",
       "    <tr>\n",
       "      <th>20</th>\n",
       "      <td>quest_exp_4</td>\n",
       "      <td>0.016899</td>\n",
       "    </tr>\n",
       "    <tr>\n",
       "      <th>7</th>\n",
       "      <td>npc_kill_3</td>\n",
       "      <td>0.017719</td>\n",
       "    </tr>\n",
       "    <tr>\n",
       "      <th>6</th>\n",
       "      <td>npc_kill_2</td>\n",
       "      <td>0.017774</td>\n",
       "    </tr>\n",
       "    <tr>\n",
       "      <th>45</th>\n",
       "      <td>game_money_change_1</td>\n",
       "      <td>0.018157</td>\n",
       "    </tr>\n",
       "    <tr>\n",
       "      <th>12</th>\n",
       "      <td>solo_exp_4</td>\n",
       "      <td>0.019524</td>\n",
       "    </tr>\n",
       "    <tr>\n",
       "      <th>46</th>\n",
       "      <td>game_money_change_2</td>\n",
       "      <td>0.019852</td>\n",
       "    </tr>\n",
       "    <tr>\n",
       "      <th>5</th>\n",
       "      <td>npc_kill_1</td>\n",
       "      <td>0.019962</td>\n",
       "    </tr>\n",
       "    <tr>\n",
       "      <th>47</th>\n",
       "      <td>game_money_change_3</td>\n",
       "      <td>0.022313</td>\n",
       "    </tr>\n",
       "    <tr>\n",
       "      <th>48</th>\n",
       "      <td>game_money_change_4</td>\n",
       "      <td>0.024610</td>\n",
       "    </tr>\n",
       "    <tr>\n",
       "      <th>8</th>\n",
       "      <td>npc_kill_4</td>\n",
       "      <td>0.025321</td>\n",
       "    </tr>\n",
       "    <tr>\n",
       "      <th>2</th>\n",
       "      <td>playtime_2</td>\n",
       "      <td>0.040744</td>\n",
       "    </tr>\n",
       "    <tr>\n",
       "      <th>3</th>\n",
       "      <td>playtime_3</td>\n",
       "      <td>0.041838</td>\n",
       "    </tr>\n",
       "    <tr>\n",
       "      <th>4</th>\n",
       "      <td>playtime_4</td>\n",
       "      <td>0.041947</td>\n",
       "    </tr>\n",
       "    <tr>\n",
       "      <th>0</th>\n",
       "      <td>level</td>\n",
       "      <td>0.058846</td>\n",
       "    </tr>\n",
       "    <tr>\n",
       "      <th>1</th>\n",
       "      <td>playtime_1</td>\n",
       "      <td>0.066393</td>\n",
       "    </tr>\n",
       "  </tbody>\n",
       "</table>\n",
       "<p>146 rows × 2 columns</p>\n",
       "</div>"
      ],
      "text/plain": [
       "                                feature  importance\n",
       "50                      enchant_count_2    0.000000\n",
       "51                      enchant_count_3    0.000000\n",
       "49                      enchant_count_1    0.000055\n",
       "108  source_type_0_week3_enchant_scroll    0.000055\n",
       "52                      enchant_count_4    0.000109\n",
       "85                       server_group_2    0.000219\n",
       "84                       server_group_1    0.000219\n",
       "70             combat_same_pledge_cnt_2    0.000328\n",
       "107  source_type_0_week2_enchant_scroll    0.000328\n",
       "106  source_type_0_week1_enchant_scroll    0.000328\n",
       "119  target_type_1_week2_enchant_scroll    0.000492\n",
       "92                              class_6    0.000492\n",
       "34                       exp_recovery_2    0.000547\n",
       "72             combat_same_pledge_cnt_4    0.000547\n",
       "109  source_type_0_week4_enchant_scroll    0.000547\n",
       "118  target_type_1_week1_enchant_scroll    0.000602\n",
       "57         combat_random_attacker_cnt_1    0.000656\n",
       "144                        source_spell    0.000656\n",
       "35                       exp_recovery_3    0.000656\n",
       "83                       server_group_0    0.000711\n",
       "33                       exp_recovery_1    0.000875\n",
       "69             combat_same_pledge_cnt_1    0.000875\n",
       "59         combat_random_attacker_cnt_3    0.000930\n",
       "58         combat_random_attacker_cnt_2    0.000930\n",
       "71             combat_same_pledge_cnt_3    0.000984\n",
       "123             source_type_0_week2_etc    0.000984\n",
       "111  source_type_1_week2_enchant_scroll    0.000984\n",
       "120  target_type_1_week3_enchant_scroll    0.000984\n",
       "36                       exp_recovery_4    0.001039\n",
       "91                              class_5    0.001039\n",
       "..                                  ...         ...\n",
       "137             target_type_1_week4_etc    0.008313\n",
       "133             target_type_0_week4_etc    0.008477\n",
       "15                          party_exp_3    0.008641\n",
       "14                          party_exp_2    0.009844\n",
       "39                            fishing_3    0.010391\n",
       "17                          quest_exp_1    0.010664\n",
       "13                          party_exp_1    0.010993\n",
       "19                          quest_exp_3    0.012579\n",
       "18                          quest_exp_2    0.012797\n",
       "40                            fishing_4    0.013454\n",
       "16                          party_exp_4    0.013508\n",
       "11                           solo_exp_3    0.014110\n",
       "9                            solo_exp_1    0.015805\n",
       "10                           solo_exp_2    0.016133\n",
       "82                          amount_mean    0.016133\n",
       "20                          quest_exp_4    0.016899\n",
       "7                            npc_kill_3    0.017719\n",
       "6                            npc_kill_2    0.017774\n",
       "45                  game_money_change_1    0.018157\n",
       "12                           solo_exp_4    0.019524\n",
       "46                  game_money_change_2    0.019852\n",
       "5                            npc_kill_1    0.019962\n",
       "47                  game_money_change_3    0.022313\n",
       "48                  game_money_change_4    0.024610\n",
       "8                            npc_kill_4    0.025321\n",
       "2                            playtime_2    0.040744\n",
       "3                            playtime_3    0.041838\n",
       "4                            playtime_4    0.041947\n",
       "0                                 level    0.058846\n",
       "1                            playtime_1    0.066393\n",
       "\n",
       "[146 rows x 2 columns]"
      ]
     },
     "execution_count": 21,
     "metadata": {},
     "output_type": "execute_result"
    }
   ],
   "source": [
    "Importance = pd.DataFrame({'feature' : train_leave.columns[1:-4], 'importance' : xgb_leave_reg.feature_importances_}).sort_values(by = 'importance', ascending = True)\n",
    "Importance"
   ]
  },
  {
   "cell_type": "code",
   "execution_count": 22,
   "metadata": {},
   "outputs": [
    {
     "data": {
      "text/plain": [
       "-204.19417144497024"
      ]
     },
     "execution_count": 22,
     "metadata": {},
     "output_type": "execute_result"
    }
   ],
   "source": [
    "from sklearn.ensemble import VotingRegressor\n",
    "from sklearn.model_selection import cross_val_score\n",
    "\n",
    "voting_leave_reg = VotingRegressor(\n",
    "    estimators=[('rf', rf_leave_reg), ('xgb', xgb_leave_reg)])\n",
    "\n",
    "cv_value = cross_val_score(voting_leave_reg, train_leave.iloc[:, 1:-4],\n",
    "                           train_leave['survival_time'], cv = 5,\n",
    "                           scoring = \"neg_mean_squared_error\")\n",
    "\n",
    "np.mean(cv_value)"
   ]
  },
  {
   "cell_type": "code",
   "execution_count": 23,
   "metadata": {},
   "outputs": [
    {
     "name": "stdout",
     "output_type": "stream",
     "text": [
      "VotingRegressor(estimators=[('rf',\n",
      "                             RandomForestRegressor(bootstrap=True,\n",
      "                                                   criterion='mse',\n",
      "                                                   max_depth=None,\n",
      "                                                   max_features=14,\n",
      "                                                   max_leaf_nodes=None,\n",
      "                                                   min_impurity_decrease=0.0,\n",
      "                                                   min_impurity_split=None,\n",
      "                                                   min_samples_leaf=1,\n",
      "                                                   min_samples_split=2,\n",
      "                                                   min_weight_fraction_leaf=0.0,\n",
      "                                                   n_estimators=750,\n",
      "                                                   n_jobs=None, oob_score=False,\n",
      "                                                   random_state=42, verbose=0,\n",
      "                                                   warm_start=False)),\n",
      "                            ('xgb',\n",
      "                             XGBRegressor(base_score=0.5, booster='gbtree',\n",
      "                                          colsample_bylevel=1,\n",
      "                                          colsample_bytree=1, gamma=1,\n",
      "                                          learning_rate=0.1, max_delta_step=0,\n",
      "                                          max_depth=9, min_child_weight=1,\n",
      "                                          missing=None, n_estimators=100,\n",
      "                                          n_jobs=1, nthread=None,\n",
      "                                          objective='reg:linear',\n",
      "                                          random_state=42, reg_alpha=0,\n",
      "                                          reg_lambda=1, scale_pos_weight=1,\n",
      "                                          seed=None, silent=True,\n",
      "                                          subsample=1))],\n",
      "                n_jobs=None, weights=None)\n"
     ]
    },
    {
     "data": {
      "text/plain": [
       "['./빅콘테스트/model/version2/voting_leave_reg_version2.pkl']"
      ]
     },
     "execution_count": 23,
     "metadata": {},
     "output_type": "execute_result"
    }
   ],
   "source": [
    "voting_leave_reg.fit(train_leave.iloc[:, 1:-4], train_leave['survival_time'])\n",
    "print(voting_leave_reg)\n",
    "joblib.dump(voting_leave_reg, './빅콘테스트/model/version2/voting_leave_reg_version2.pkl')"
   ]
  },
  {
   "cell_type": "markdown",
   "metadata": {},
   "source": [
    "## 일 평균 결제 금액"
   ]
  },
  {
   "cell_type": "code",
   "execution_count": 24,
   "metadata": {},
   "outputs": [
    {
     "data": {
      "text/html": [
       "<div>\n",
       "<style scoped>\n",
       "    .dataframe tbody tr th:only-of-type {\n",
       "        vertical-align: middle;\n",
       "    }\n",
       "\n",
       "    .dataframe tbody tr th {\n",
       "        vertical-align: top;\n",
       "    }\n",
       "\n",
       "    .dataframe thead th {\n",
       "        text-align: right;\n",
       "    }\n",
       "</style>\n",
       "<table border=\"1\" class=\"dataframe\">\n",
       "  <thead>\n",
       "    <tr style=\"text-align: right;\">\n",
       "      <th></th>\n",
       "      <th>acc_id</th>\n",
       "      <th>level</th>\n",
       "      <th>playtime_1</th>\n",
       "      <th>playtime_2</th>\n",
       "      <th>playtime_3</th>\n",
       "      <th>playtime_4</th>\n",
       "      <th>npc_kill_1</th>\n",
       "      <th>npc_kill_2</th>\n",
       "      <th>npc_kill_3</th>\n",
       "      <th>npc_kill_4</th>\n",
       "      <th>...</th>\n",
       "      <th>source_armor</th>\n",
       "      <th>target_armor</th>\n",
       "      <th>source_accessory</th>\n",
       "      <th>target_accessory</th>\n",
       "      <th>source_spell</th>\n",
       "      <th>target_spell</th>\n",
       "      <th>survival_time</th>\n",
       "      <th>amount_spent</th>\n",
       "      <th>leave</th>\n",
       "      <th>amount</th>\n",
       "    </tr>\n",
       "  </thead>\n",
       "  <tbody>\n",
       "    <tr>\n",
       "      <th>2</th>\n",
       "      <td>8.0</td>\n",
       "      <td>16</td>\n",
       "      <td>4.987936</td>\n",
       "      <td>4.889629</td>\n",
       "      <td>4.653223</td>\n",
       "      <td>4.267014</td>\n",
       "      <td>26.808113</td>\n",
       "      <td>1.325063</td>\n",
       "      <td>1.444694</td>\n",
       "      <td>1.594739</td>\n",
       "      <td>...</td>\n",
       "      <td>0</td>\n",
       "      <td>0</td>\n",
       "      <td>0</td>\n",
       "      <td>0</td>\n",
       "      <td>1</td>\n",
       "      <td>0</td>\n",
       "      <td>64</td>\n",
       "      <td>0.020310</td>\n",
       "      <td>0</td>\n",
       "      <td>1</td>\n",
       "    </tr>\n",
       "    <tr>\n",
       "      <th>3</th>\n",
       "      <td>17.0</td>\n",
       "      <td>16</td>\n",
       "      <td>5.406914</td>\n",
       "      <td>9.048973</td>\n",
       "      <td>7.831832</td>\n",
       "      <td>6.176989</td>\n",
       "      <td>25.931158</td>\n",
       "      <td>1.328780</td>\n",
       "      <td>1.362575</td>\n",
       "      <td>1.834339</td>\n",
       "      <td>...</td>\n",
       "      <td>0</td>\n",
       "      <td>1</td>\n",
       "      <td>1</td>\n",
       "      <td>1</td>\n",
       "      <td>0</td>\n",
       "      <td>1</td>\n",
       "      <td>64</td>\n",
       "      <td>0.070642</td>\n",
       "      <td>0</td>\n",
       "      <td>1</td>\n",
       "    </tr>\n",
       "    <tr>\n",
       "      <th>4</th>\n",
       "      <td>21.0</td>\n",
       "      <td>16</td>\n",
       "      <td>6.048253</td>\n",
       "      <td>7.363701</td>\n",
       "      <td>4.966870</td>\n",
       "      <td>3.452466</td>\n",
       "      <td>4.379366</td>\n",
       "      <td>4.602406</td>\n",
       "      <td>0.654252</td>\n",
       "      <td>1.135141</td>\n",
       "      <td>...</td>\n",
       "      <td>0</td>\n",
       "      <td>1</td>\n",
       "      <td>0</td>\n",
       "      <td>1</td>\n",
       "      <td>0</td>\n",
       "      <td>0</td>\n",
       "      <td>64</td>\n",
       "      <td>0.184267</td>\n",
       "      <td>0</td>\n",
       "      <td>1</td>\n",
       "    </tr>\n",
       "    <tr>\n",
       "      <th>5</th>\n",
       "      <td>31.0</td>\n",
       "      <td>17</td>\n",
       "      <td>19.586603</td>\n",
       "      <td>22.231543</td>\n",
       "      <td>21.236765</td>\n",
       "      <td>19.027186</td>\n",
       "      <td>15.761864</td>\n",
       "      <td>13.541598</td>\n",
       "      <td>18.448150</td>\n",
       "      <td>17.846955</td>\n",
       "      <td>...</td>\n",
       "      <td>0</td>\n",
       "      <td>1</td>\n",
       "      <td>0</td>\n",
       "      <td>1</td>\n",
       "      <td>0</td>\n",
       "      <td>1</td>\n",
       "      <td>45</td>\n",
       "      <td>0.051316</td>\n",
       "      <td>1</td>\n",
       "      <td>1</td>\n",
       "    </tr>\n",
       "    <tr>\n",
       "      <th>6</th>\n",
       "      <td>38.0</td>\n",
       "      <td>17</td>\n",
       "      <td>21.463808</td>\n",
       "      <td>21.093985</td>\n",
       "      <td>11.897550</td>\n",
       "      <td>16.354158</td>\n",
       "      <td>49.506198</td>\n",
       "      <td>13.210755</td>\n",
       "      <td>8.478579</td>\n",
       "      <td>11.016509</td>\n",
       "      <td>...</td>\n",
       "      <td>1</td>\n",
       "      <td>0</td>\n",
       "      <td>0</td>\n",
       "      <td>0</td>\n",
       "      <td>0</td>\n",
       "      <td>0</td>\n",
       "      <td>64</td>\n",
       "      <td>0.517168</td>\n",
       "      <td>0</td>\n",
       "      <td>1</td>\n",
       "    </tr>\n",
       "  </tbody>\n",
       "</table>\n",
       "<p>5 rows × 151 columns</p>\n",
       "</div>"
      ],
      "text/plain": [
       "   acc_id  level  playtime_1  playtime_2  playtime_3  playtime_4  npc_kill_1  \\\n",
       "2     8.0     16    4.987936    4.889629    4.653223    4.267014   26.808113   \n",
       "3    17.0     16    5.406914    9.048973    7.831832    6.176989   25.931158   \n",
       "4    21.0     16    6.048253    7.363701    4.966870    3.452466    4.379366   \n",
       "5    31.0     17   19.586603   22.231543   21.236765   19.027186   15.761864   \n",
       "6    38.0     17   21.463808   21.093985   11.897550   16.354158   49.506198   \n",
       "\n",
       "   npc_kill_2  npc_kill_3  npc_kill_4  ...  source_armor  target_armor  \\\n",
       "2    1.325063    1.444694    1.594739  ...             0             0   \n",
       "3    1.328780    1.362575    1.834339  ...             0             1   \n",
       "4    4.602406    0.654252    1.135141  ...             0             1   \n",
       "5   13.541598   18.448150   17.846955  ...             0             1   \n",
       "6   13.210755    8.478579   11.016509  ...             1             0   \n",
       "\n",
       "   source_accessory  target_accessory  source_spell  target_spell  \\\n",
       "2                 0                 0             1             0   \n",
       "3                 1                 1             0             1   \n",
       "4                 0                 1             0             0   \n",
       "5                 0                 1             0             1   \n",
       "6                 0                 0             0             0   \n",
       "\n",
       "   survival_time  amount_spent  leave  amount  \n",
       "2             64      0.020310      0       1  \n",
       "3             64      0.070642      0       1  \n",
       "4             64      0.184267      0       1  \n",
       "5             45      0.051316      1       1  \n",
       "6             64      0.517168      0       1  \n",
       "\n",
       "[5 rows x 151 columns]"
      ]
     },
     "execution_count": 24,
     "metadata": {},
     "output_type": "execute_result"
    }
   ],
   "source": [
    "train_amount.head()"
   ]
  },
  {
   "cell_type": "code",
   "execution_count": 25,
   "metadata": {},
   "outputs": [
    {
     "name": "stdout",
     "output_type": "stream",
     "text": [
      "Fitting 5 folds for each of 12 candidates, totalling 60 fits\n"
     ]
    },
    {
     "name": "stderr",
     "output_type": "stream",
     "text": [
      "[Parallel(n_jobs=-1)]: Using backend LokyBackend with 32 concurrent workers.\n",
      "[Parallel(n_jobs=-1)]: Done  28 out of  60 | elapsed:  1.9min remaining:  2.2min\n",
      "[Parallel(n_jobs=-1)]: Done  60 out of  60 | elapsed:  3.2min finished\n"
     ]
    },
    {
     "data": {
      "text/plain": [
       "GridSearchCV(cv=5, error_score='raise-deprecating',\n",
       "             estimator=RandomForestRegressor(bootstrap=True, criterion='mse',\n",
       "                                             max_depth=None,\n",
       "                                             max_features='auto',\n",
       "                                             max_leaf_nodes=None,\n",
       "                                             min_impurity_decrease=0.0,\n",
       "                                             min_impurity_split=None,\n",
       "                                             min_samples_leaf=1,\n",
       "                                             min_samples_split=2,\n",
       "                                             min_weight_fraction_leaf=0.0,\n",
       "                                             n_estimators='warn', n_jobs=None,\n",
       "                                             oob_score=False, random_state=42,\n",
       "                                             verbose=0, warm_start=False),\n",
       "             iid='warn', n_jobs=-1,\n",
       "             param_grid=[{'max_features': [12, 13, 14, 15],\n",
       "                          'n_estimators': [300, 500, 750]}],\n",
       "             pre_dispatch='2*n_jobs', refit=True, return_train_score=False,\n",
       "             scoring='neg_mean_squared_error', verbose=2)"
      ]
     },
     "execution_count": 25,
     "metadata": {},
     "output_type": "execute_result"
    }
   ],
   "source": [
    "rf = RandomForestRegressor(random_state=42)\n",
    "\n",
    "param_grid = [\n",
    "    {'n_estimators' : [300, 500, 750], 'max_features' : [12, 13, 14, 15]}\n",
    "  ]\n",
    "\n",
    "grid_search = GridSearchCV(rf, param_grid, cv = 5,\n",
    "                           scoring = 'neg_mean_squared_error', verbose = 2, n_jobs = -1)\n",
    "\n",
    "grid_search.fit(train_amount.iloc[:, 1:-4], train_amount['amount_spent'])"
   ]
  },
  {
   "cell_type": "code",
   "execution_count": 26,
   "metadata": {},
   "outputs": [
    {
     "name": "stdout",
     "output_type": "stream",
     "text": [
      "-0.7281713953912863\n",
      "{'max_features': 13, 'n_estimators': 300}\n"
     ]
    }
   ],
   "source": [
    "print(grid_search.best_score_)\n",
    "print(grid_search.best_params_)"
   ]
  },
  {
   "cell_type": "code",
   "execution_count": 27,
   "metadata": {},
   "outputs": [
    {
     "name": "stdout",
     "output_type": "stream",
     "text": [
      "RandomForestRegressor(bootstrap=True, criterion='mse', max_depth=None,\n",
      "                      max_features=13, max_leaf_nodes=None,\n",
      "                      min_impurity_decrease=0.0, min_impurity_split=None,\n",
      "                      min_samples_leaf=1, min_samples_split=2,\n",
      "                      min_weight_fraction_leaf=0.0, n_estimators=300,\n",
      "                      n_jobs=None, oob_score=False, random_state=42, verbose=0,\n",
      "                      warm_start=False)\n"
     ]
    },
    {
     "data": {
      "text/plain": [
       "['./빅콘테스트/model/version2/rf_amount_reg_version2.pkl']"
      ]
     },
     "execution_count": 27,
     "metadata": {},
     "output_type": "execute_result"
    }
   ],
   "source": [
    "rf_amount_reg = grid_search.best_estimator_\n",
    "print(rf_amount_reg)\n",
    "joblib.dump(rf_amount_reg, './빅콘테스트/model/version2/rf_amount_reg_version2.pkl')"
   ]
  },
  {
   "cell_type": "code",
   "execution_count": 28,
   "metadata": {},
   "outputs": [
    {
     "name": "stdout",
     "output_type": "stream",
     "text": [
      "Fitting 5 folds for each of 36 candidates, totalling 180 fits\n"
     ]
    },
    {
     "name": "stderr",
     "output_type": "stream",
     "text": [
      "[Parallel(n_jobs=-1)]: Using backend LokyBackend with 32 concurrent workers.\n",
      "[Parallel(n_jobs=-1)]: Done  98 tasks      | elapsed:  1.5min\n",
      "[Parallel(n_jobs=-1)]: Done 180 out of 180 | elapsed:  2.4min finished\n"
     ]
    },
    {
     "data": {
      "text/plain": [
       "GridSearchCV(cv=5, error_score='raise-deprecating',\n",
       "             estimator=XGBRegressor(base_score=0.5, booster='gbtree',\n",
       "                                    colsample_bylevel=1, colsample_bytree=1,\n",
       "                                    gamma=0, learning_rate=0.1,\n",
       "                                    max_delta_step=0, max_depth=3,\n",
       "                                    min_child_weight=1, missing=None,\n",
       "                                    n_estimators=100, n_jobs=1, nthread=None,\n",
       "                                    objective='reg:linear', random_state=42,\n",
       "                                    reg_alpha=0, reg_lambda=1,\n",
       "                                    scale_pos_weight=1, seed=None, silent=True,\n",
       "                                    subsample=1),\n",
       "             iid='warn', n_jobs=-1,\n",
       "             param_grid=[{'gamma': [0, 1, 3],\n",
       "                          'learning_rate': [0.001, 0.01, 0.1],\n",
       "                          'max_depth': [9, 10, 11, 12]}],\n",
       "             pre_dispatch='2*n_jobs', refit=True, return_train_score=False,\n",
       "             scoring='neg_mean_squared_error', verbose=2)"
      ]
     },
     "execution_count": 28,
     "metadata": {},
     "output_type": "execute_result"
    }
   ],
   "source": [
    "xgb = XGBRegressor(random_state=42)\n",
    "\n",
    "param_grid = [\n",
    "    {'learning_rate' : [0.001, 0.01, 0.1], 'max_depth' : [9, 10, 11, 12], 'gamma' : [0, 1, 3]}\n",
    "  ]\n",
    "\n",
    "grid_search = GridSearchCV(xgb, param_grid, cv = 5,\n",
    "                           scoring = 'neg_mean_squared_error', verbose = 2, n_jobs = -1)\n",
    "\n",
    "grid_search.fit(train_amount.iloc[:, 1:-4], train_amount['amount_spent'])"
   ]
  },
  {
   "cell_type": "code",
   "execution_count": 29,
   "metadata": {},
   "outputs": [
    {
     "name": "stdout",
     "output_type": "stream",
     "text": [
      "-0.8351116045072274\n",
      "{'gamma': 1, 'learning_rate': 0.01, 'max_depth': 9}\n"
     ]
    }
   ],
   "source": [
    "print(grid_search.best_score_)\n",
    "print(grid_search.best_params_)"
   ]
  },
  {
   "cell_type": "code",
   "execution_count": 30,
   "metadata": {},
   "outputs": [
    {
     "name": "stdout",
     "output_type": "stream",
     "text": [
      "XGBRegressor(base_score=0.5, booster='gbtree', colsample_bylevel=1,\n",
      "             colsample_bytree=1, gamma=1, learning_rate=0.01, max_delta_step=0,\n",
      "             max_depth=9, min_child_weight=1, missing=None, n_estimators=100,\n",
      "             n_jobs=1, nthread=None, objective='reg:linear', random_state=42,\n",
      "             reg_alpha=0, reg_lambda=1, scale_pos_weight=1, seed=None,\n",
      "             silent=True, subsample=1)\n"
     ]
    },
    {
     "data": {
      "text/plain": [
       "['./빅콘테스트/model/version2/xgb_amount_reg_version2.pkl']"
      ]
     },
     "execution_count": 30,
     "metadata": {},
     "output_type": "execute_result"
    }
   ],
   "source": [
    "xgb_amount_reg = grid_search.best_estimator_\n",
    "print(xgb_amount_reg)\n",
    "joblib.dump(xgb_amount_reg, './빅콘테스트/model/version2/xgb_amount_reg_version2.pkl')"
   ]
  },
  {
   "cell_type": "code",
   "execution_count": 31,
   "metadata": {},
   "outputs": [
    {
     "data": {
      "text/plain": [
       "-0.7603123146247154"
      ]
     },
     "execution_count": 31,
     "metadata": {},
     "output_type": "execute_result"
    }
   ],
   "source": [
    "from sklearn.ensemble import VotingRegressor\n",
    "from sklearn.model_selection import cross_val_score\n",
    "\n",
    "voting_amount_reg = VotingRegressor(\n",
    "    estimators=[('rf', rf_amount_reg), ('xgb', xgb_amount_reg)])\n",
    "\n",
    "cv_value = cross_val_score(voting_amount_reg, train_amount.iloc[:, 1:-4],\n",
    "                           train_amount['amount_spent'], cv = 5,\n",
    "                           scoring = \"neg_mean_squared_error\")\n",
    "\n",
    "np.mean(cv_value)"
   ]
  },
  {
   "cell_type": "code",
   "execution_count": 32,
   "metadata": {},
   "outputs": [
    {
     "name": "stdout",
     "output_type": "stream",
     "text": [
      "VotingRegressor(estimators=[('rf',\n",
      "                             RandomForestRegressor(bootstrap=True,\n",
      "                                                   criterion='mse',\n",
      "                                                   max_depth=None,\n",
      "                                                   max_features=13,\n",
      "                                                   max_leaf_nodes=None,\n",
      "                                                   min_impurity_decrease=0.0,\n",
      "                                                   min_impurity_split=None,\n",
      "                                                   min_samples_leaf=1,\n",
      "                                                   min_samples_split=2,\n",
      "                                                   min_weight_fraction_leaf=0.0,\n",
      "                                                   n_estimators=300,\n",
      "                                                   n_jobs=None, oob_score=False,\n",
      "                                                   random_state=42, verbose=0,\n",
      "                                                   warm_start=False)),\n",
      "                            ('xgb',\n",
      "                             XGBRegressor(base_score=0.5, booster='gbtree',\n",
      "                                          colsample_bylevel=1,\n",
      "                                          colsample_bytree=1, gamma=1,\n",
      "                                          learning_rate=0.01, max_delta_step=0,\n",
      "                                          max_depth=9, min_child_weight=1,\n",
      "                                          missing=None, n_estimators=100,\n",
      "                                          n_jobs=1, nthread=None,\n",
      "                                          objective='reg:linear',\n",
      "                                          random_state=42, reg_alpha=0,\n",
      "                                          reg_lambda=1, scale_pos_weight=1,\n",
      "                                          seed=None, silent=True,\n",
      "                                          subsample=1))],\n",
      "                n_jobs=None, weights=None)\n"
     ]
    },
    {
     "data": {
      "text/plain": [
       "['./빅콘테스트/model/version2/voting_amount_reg_version2.pkl']"
      ]
     },
     "execution_count": 32,
     "metadata": {},
     "output_type": "execute_result"
    }
   ],
   "source": [
    "voting_amount_reg.fit(train_amount.iloc[:, 1:-4], train_amount['survival_time'])\n",
    "print(voting_amount_reg)\n",
    "joblib.dump(voting_amount_reg, './빅콘테스트/model/version2/voting_amount_reg_version2.pkl')"
   ]
  },
  {
   "cell_type": "markdown",
   "metadata": {},
   "source": [
    "## 일 평균 결제 금액(all data)"
   ]
  },
  {
   "cell_type": "code",
   "execution_count": 11,
   "metadata": {},
   "outputs": [
    {
     "data": {
      "text/html": [
       "<div>\n",
       "<style scoped>\n",
       "    .dataframe tbody tr th:only-of-type {\n",
       "        vertical-align: middle;\n",
       "    }\n",
       "\n",
       "    .dataframe tbody tr th {\n",
       "        vertical-align: top;\n",
       "    }\n",
       "\n",
       "    .dataframe thead th {\n",
       "        text-align: right;\n",
       "    }\n",
       "</style>\n",
       "<table border=\"1\" class=\"dataframe\">\n",
       "  <thead>\n",
       "    <tr style=\"text-align: right;\">\n",
       "      <th></th>\n",
       "      <th>acc_id</th>\n",
       "      <th>level</th>\n",
       "      <th>playtime_1</th>\n",
       "      <th>playtime_2</th>\n",
       "      <th>playtime_3</th>\n",
       "      <th>playtime_4</th>\n",
       "      <th>npc_kill_1</th>\n",
       "      <th>npc_kill_2</th>\n",
       "      <th>npc_kill_3</th>\n",
       "      <th>npc_kill_4</th>\n",
       "      <th>...</th>\n",
       "      <th>source_armor</th>\n",
       "      <th>target_armor</th>\n",
       "      <th>source_accessory</th>\n",
       "      <th>target_accessory</th>\n",
       "      <th>source_spell</th>\n",
       "      <th>target_spell</th>\n",
       "      <th>survival_time</th>\n",
       "      <th>amount_spent</th>\n",
       "      <th>leave</th>\n",
       "      <th>amount</th>\n",
       "    </tr>\n",
       "  </thead>\n",
       "  <tbody>\n",
       "    <tr>\n",
       "      <th>0</th>\n",
       "      <td>2.0</td>\n",
       "      <td>0</td>\n",
       "      <td>22.919696</td>\n",
       "      <td>22.980553</td>\n",
       "      <td>22.659883</td>\n",
       "      <td>22.973531</td>\n",
       "      <td>0.000000</td>\n",
       "      <td>0.000000</td>\n",
       "      <td>0.000000</td>\n",
       "      <td>0.000000</td>\n",
       "      <td>...</td>\n",
       "      <td>1</td>\n",
       "      <td>0</td>\n",
       "      <td>0</td>\n",
       "      <td>0</td>\n",
       "      <td>0</td>\n",
       "      <td>0</td>\n",
       "      <td>64</td>\n",
       "      <td>0.000000</td>\n",
       "      <td>0</td>\n",
       "      <td>0</td>\n",
       "    </tr>\n",
       "    <tr>\n",
       "      <th>1</th>\n",
       "      <td>5.0</td>\n",
       "      <td>15</td>\n",
       "      <td>0.000000</td>\n",
       "      <td>0.589845</td>\n",
       "      <td>0.213000</td>\n",
       "      <td>5.313287</td>\n",
       "      <td>0.000000</td>\n",
       "      <td>0.310229</td>\n",
       "      <td>0.162887</td>\n",
       "      <td>2.763336</td>\n",
       "      <td>...</td>\n",
       "      <td>0</td>\n",
       "      <td>0</td>\n",
       "      <td>0</td>\n",
       "      <td>0</td>\n",
       "      <td>0</td>\n",
       "      <td>0</td>\n",
       "      <td>60</td>\n",
       "      <td>0.000000</td>\n",
       "      <td>1</td>\n",
       "      <td>0</td>\n",
       "    </tr>\n",
       "    <tr>\n",
       "      <th>2</th>\n",
       "      <td>8.0</td>\n",
       "      <td>16</td>\n",
       "      <td>4.987936</td>\n",
       "      <td>4.889629</td>\n",
       "      <td>4.653223</td>\n",
       "      <td>4.267014</td>\n",
       "      <td>26.808113</td>\n",
       "      <td>1.325063</td>\n",
       "      <td>1.444694</td>\n",
       "      <td>1.594739</td>\n",
       "      <td>...</td>\n",
       "      <td>0</td>\n",
       "      <td>0</td>\n",
       "      <td>0</td>\n",
       "      <td>0</td>\n",
       "      <td>1</td>\n",
       "      <td>0</td>\n",
       "      <td>64</td>\n",
       "      <td>0.020310</td>\n",
       "      <td>0</td>\n",
       "      <td>1</td>\n",
       "    </tr>\n",
       "    <tr>\n",
       "      <th>3</th>\n",
       "      <td>17.0</td>\n",
       "      <td>16</td>\n",
       "      <td>5.406914</td>\n",
       "      <td>9.048973</td>\n",
       "      <td>7.831832</td>\n",
       "      <td>6.176989</td>\n",
       "      <td>25.931158</td>\n",
       "      <td>1.328780</td>\n",
       "      <td>1.362575</td>\n",
       "      <td>1.834339</td>\n",
       "      <td>...</td>\n",
       "      <td>0</td>\n",
       "      <td>1</td>\n",
       "      <td>1</td>\n",
       "      <td>1</td>\n",
       "      <td>0</td>\n",
       "      <td>1</td>\n",
       "      <td>64</td>\n",
       "      <td>0.070642</td>\n",
       "      <td>0</td>\n",
       "      <td>1</td>\n",
       "    </tr>\n",
       "    <tr>\n",
       "      <th>4</th>\n",
       "      <td>21.0</td>\n",
       "      <td>16</td>\n",
       "      <td>6.048253</td>\n",
       "      <td>7.363701</td>\n",
       "      <td>4.966870</td>\n",
       "      <td>3.452466</td>\n",
       "      <td>4.379366</td>\n",
       "      <td>4.602406</td>\n",
       "      <td>0.654252</td>\n",
       "      <td>1.135141</td>\n",
       "      <td>...</td>\n",
       "      <td>0</td>\n",
       "      <td>1</td>\n",
       "      <td>0</td>\n",
       "      <td>1</td>\n",
       "      <td>0</td>\n",
       "      <td>0</td>\n",
       "      <td>64</td>\n",
       "      <td>0.184267</td>\n",
       "      <td>0</td>\n",
       "      <td>1</td>\n",
       "    </tr>\n",
       "  </tbody>\n",
       "</table>\n",
       "<p>5 rows × 151 columns</p>\n",
       "</div>"
      ],
      "text/plain": [
       "   acc_id  level  playtime_1  playtime_2  playtime_3  playtime_4  npc_kill_1  \\\n",
       "0     2.0      0   22.919696   22.980553   22.659883   22.973531    0.000000   \n",
       "1     5.0     15    0.000000    0.589845    0.213000    5.313287    0.000000   \n",
       "2     8.0     16    4.987936    4.889629    4.653223    4.267014   26.808113   \n",
       "3    17.0     16    5.406914    9.048973    7.831832    6.176989   25.931158   \n",
       "4    21.0     16    6.048253    7.363701    4.966870    3.452466    4.379366   \n",
       "\n",
       "   npc_kill_2  npc_kill_3  npc_kill_4  ...  source_armor  target_armor  \\\n",
       "0    0.000000    0.000000    0.000000  ...             1             0   \n",
       "1    0.310229    0.162887    2.763336  ...             0             0   \n",
       "2    1.325063    1.444694    1.594739  ...             0             0   \n",
       "3    1.328780    1.362575    1.834339  ...             0             1   \n",
       "4    4.602406    0.654252    1.135141  ...             0             1   \n",
       "\n",
       "   source_accessory  target_accessory  source_spell  target_spell  \\\n",
       "0                 0                 0             0             0   \n",
       "1                 0                 0             0             0   \n",
       "2                 0                 0             1             0   \n",
       "3                 1                 1             0             1   \n",
       "4                 0                 1             0             0   \n",
       "\n",
       "   survival_time  amount_spent  leave  amount  \n",
       "0             64      0.000000      0       0  \n",
       "1             60      0.000000      1       0  \n",
       "2             64      0.020310      0       1  \n",
       "3             64      0.070642      0       1  \n",
       "4             64      0.184267      0       1  \n",
       "\n",
       "[5 rows x 151 columns]"
      ]
     },
     "execution_count": 11,
     "metadata": {},
     "output_type": "execute_result"
    }
   ],
   "source": [
    "train.head()"
   ]
  },
  {
   "cell_type": "code",
   "execution_count": 19,
   "metadata": {},
   "outputs": [
    {
     "name": "stdout",
     "output_type": "stream",
     "text": [
      "Fitting 5 folds for each of 12 candidates, totalling 60 fits\n"
     ]
    },
    {
     "name": "stderr",
     "output_type": "stream",
     "text": [
      "[Parallel(n_jobs=-1)]: Using backend LokyBackend with 32 concurrent workers.\n",
      "[Parallel(n_jobs=-1)]: Done  28 out of  60 | elapsed:  1.8min remaining:  2.1min\n",
      "[Parallel(n_jobs=-1)]: Done  60 out of  60 | elapsed:  3.4min finished\n"
     ]
    },
    {
     "data": {
      "text/plain": [
       "GridSearchCV(cv=5, error_score='raise-deprecating',\n",
       "             estimator=RandomForestRegressor(bootstrap=True, criterion='mse',\n",
       "                                             max_depth=None,\n",
       "                                             max_features='auto',\n",
       "                                             max_leaf_nodes=None,\n",
       "                                             min_impurity_decrease=0.0,\n",
       "                                             min_impurity_split=None,\n",
       "                                             min_samples_leaf=1,\n",
       "                                             min_samples_split=2,\n",
       "                                             min_weight_fraction_leaf=0.0,\n",
       "                                             n_estimators='warn', n_jobs=None,\n",
       "                                             oob_score=False, random_state=42,\n",
       "                                             verbose=0, warm_start=False),\n",
       "             iid='warn', n_jobs=-1,\n",
       "             param_grid=[{'max_features': [10, 11, 12, 13],\n",
       "                          'n_estimators': [300, 500, 750]}],\n",
       "             pre_dispatch='2*n_jobs', refit=True, return_train_score=False,\n",
       "             scoring='neg_mean_squared_error', verbose=2)"
      ]
     },
     "execution_count": 19,
     "metadata": {},
     "output_type": "execute_result"
    }
   ],
   "source": [
    "from sklearn.model_selection import GridSearchCV\n",
    "from sklearn.ensemble import RandomForestRegressor\n",
    "\n",
    "rf = RandomForestRegressor(random_state=42)\n",
    "\n",
    "param_grid = [\n",
    "    {'n_estimators' : [300, 500, 750], 'max_features' : [10, 11, 12, 13]}\n",
    "  ]\n",
    "\n",
    "grid_search = GridSearchCV(rf, param_grid, cv = 5,\n",
    "                           scoring = 'neg_mean_squared_error', verbose = 2, n_jobs = -1)\n",
    "\n",
    "grid_search.fit(train.iloc[:, 1:-4], train['amount_spent'])"
   ]
  },
  {
   "cell_type": "code",
   "execution_count": 20,
   "metadata": {},
   "outputs": [
    {
     "name": "stdout",
     "output_type": "stream",
     "text": [
      "-0.4656225210644694\n",
      "{'max_features': 12, 'n_estimators': 300}\n"
     ]
    }
   ],
   "source": [
    "print(grid_search.best_score_)\n",
    "print(grid_search.best_params_)"
   ]
  },
  {
   "cell_type": "code",
   "execution_count": 21,
   "metadata": {},
   "outputs": [
    {
     "name": "stdout",
     "output_type": "stream",
     "text": [
      "RandomForestRegressor(bootstrap=True, criterion='mse', max_depth=None,\n",
      "                      max_features=12, max_leaf_nodes=None,\n",
      "                      min_impurity_decrease=0.0, min_impurity_split=None,\n",
      "                      min_samples_leaf=1, min_samples_split=2,\n",
      "                      min_weight_fraction_leaf=0.0, n_estimators=300,\n",
      "                      n_jobs=None, oob_score=False, random_state=42, verbose=0,\n",
      "                      warm_start=False)\n"
     ]
    },
    {
     "data": {
      "text/plain": [
       "['./빅콘테스트/model/version2/rf_amount_all_reg_version2.pkl']"
      ]
     },
     "execution_count": 21,
     "metadata": {},
     "output_type": "execute_result"
    }
   ],
   "source": [
    "from sklearn.externals import joblib\n",
    "\n",
    "rf_amount_all_reg = grid_search.best_estimator_\n",
    "print(rf_amount_all_reg)\n",
    "joblib.dump(rf_amount_all_reg, './빅콘테스트/model/version2/rf_amount_all_reg_version2.pkl')"
   ]
  },
  {
   "cell_type": "code",
   "execution_count": 22,
   "metadata": {},
   "outputs": [
    {
     "name": "stdout",
     "output_type": "stream",
     "text": [
      "Fitting 5 folds for each of 48 candidates, totalling 240 fits\n"
     ]
    },
    {
     "name": "stderr",
     "output_type": "stream",
     "text": [
      "[Parallel(n_jobs=-1)]: Using backend LokyBackend with 32 concurrent workers.\n",
      "[Parallel(n_jobs=-1)]: Done  98 tasks      | elapsed:  1.8min\n",
      "[Parallel(n_jobs=-1)]: Done 240 out of 240 | elapsed:  3.9min finished\n"
     ]
    },
    {
     "data": {
      "text/plain": [
       "GridSearchCV(cv=5, error_score='raise-deprecating',\n",
       "             estimator=XGBRegressor(base_score=0.5, booster='gbtree',\n",
       "                                    colsample_bylevel=1, colsample_bytree=1,\n",
       "                                    gamma=0, learning_rate=0.1,\n",
       "                                    max_delta_step=0, max_depth=3,\n",
       "                                    min_child_weight=1, missing=None,\n",
       "                                    n_estimators=100, n_jobs=1, nthread=None,\n",
       "                                    objective='reg:linear', random_state=42,\n",
       "                                    reg_alpha=0, reg_lambda=1,\n",
       "                                    scale_pos_weight=1, seed=None, silent=True,\n",
       "                                    subsample=1),\n",
       "             iid='warn', n_jobs=-1,\n",
       "             param_grid=[{'gamma': [0, 1, 3, 5],\n",
       "                          'learning_rate': [0.001, 0.01, 0.1],\n",
       "                          'max_depth': [7, 8, 9, 10]}],\n",
       "             pre_dispatch='2*n_jobs', refit=True, return_train_score=False,\n",
       "             scoring='neg_mean_squared_error', verbose=2)"
      ]
     },
     "execution_count": 22,
     "metadata": {},
     "output_type": "execute_result"
    }
   ],
   "source": [
    "from xgboost import XGBRegressor\n",
    "\n",
    "xgb = XGBRegressor(random_state=42)\n",
    "\n",
    "param_grid = [\n",
    "    {'learning_rate' : [0.001, 0.01, 0.1], 'max_depth' : [7, 8, 9, 10], 'gamma' : [0, 1, 3, 5]}\n",
    "  ]\n",
    "\n",
    "grid_search = GridSearchCV(xgb, param_grid, cv = 5,\n",
    "                           scoring = 'neg_mean_squared_error', verbose = 2, n_jobs = -1)\n",
    "\n",
    "grid_search.fit(train.iloc[:, 1:-4], train['amount_spent'])"
   ]
  },
  {
   "cell_type": "code",
   "execution_count": 23,
   "metadata": {},
   "outputs": [
    {
     "name": "stdout",
     "output_type": "stream",
     "text": [
      "-0.5110501074116188\n",
      "{'gamma': 3, 'learning_rate': 0.01, 'max_depth': 8}\n"
     ]
    }
   ],
   "source": [
    "print(grid_search.best_score_)\n",
    "print(grid_search.best_params_)"
   ]
  },
  {
   "cell_type": "code",
   "execution_count": 24,
   "metadata": {},
   "outputs": [
    {
     "name": "stdout",
     "output_type": "stream",
     "text": [
      "XGBRegressor(base_score=0.5, booster='gbtree', colsample_bylevel=1,\n",
      "             colsample_bytree=1, gamma=3, learning_rate=0.01, max_delta_step=0,\n",
      "             max_depth=8, min_child_weight=1, missing=None, n_estimators=100,\n",
      "             n_jobs=1, nthread=None, objective='reg:linear', random_state=42,\n",
      "             reg_alpha=0, reg_lambda=1, scale_pos_weight=1, seed=None,\n",
      "             silent=True, subsample=1)\n"
     ]
    },
    {
     "data": {
      "text/plain": [
       "['./빅콘테스트/model/version2/xgb_amount_all_reg_version2.pkl']"
      ]
     },
     "execution_count": 24,
     "metadata": {},
     "output_type": "execute_result"
    }
   ],
   "source": [
    "from sklearn.externals import joblib\n",
    "\n",
    "xgb_amount_all_reg = grid_search.best_estimator_\n",
    "print(xgb_amount_all_reg)\n",
    "joblib.dump(xgb_amount_all_reg, './빅콘테스트/model/version2/xgb_amount_all_reg_version2.pkl')"
   ]
  },
  {
   "cell_type": "code",
   "execution_count": 25,
   "metadata": {},
   "outputs": [
    {
     "data": {
      "text/plain": [
       "-0.4727506325806855"
      ]
     },
     "execution_count": 25,
     "metadata": {},
     "output_type": "execute_result"
    }
   ],
   "source": [
    "from sklearn.ensemble import VotingRegressor\n",
    "from sklearn.model_selection import cross_val_score\n",
    "\n",
    "voting_amount_all_reg = VotingRegressor(\n",
    "    estimators=[('rf', rf_amount_all_reg), ('xgb', xgb_amount_all_reg)])\n",
    "\n",
    "cv_value = cross_val_score(voting_amount_all_reg, train.iloc[:, 1:-4],\n",
    "                           train['amount_spent'], cv = 5,\n",
    "                           scoring = \"neg_mean_squared_error\")\n",
    "\n",
    "np.mean(cv_value)"
   ]
  },
  {
   "cell_type": "code",
   "execution_count": 26,
   "metadata": {},
   "outputs": [
    {
     "name": "stdout",
     "output_type": "stream",
     "text": [
      "VotingRegressor(estimators=[('rf',\n",
      "                             RandomForestRegressor(bootstrap=True,\n",
      "                                                   criterion='mse',\n",
      "                                                   max_depth=None,\n",
      "                                                   max_features=12,\n",
      "                                                   max_leaf_nodes=None,\n",
      "                                                   min_impurity_decrease=0.0,\n",
      "                                                   min_impurity_split=None,\n",
      "                                                   min_samples_leaf=1,\n",
      "                                                   min_samples_split=2,\n",
      "                                                   min_weight_fraction_leaf=0.0,\n",
      "                                                   n_estimators=300,\n",
      "                                                   n_jobs=None, oob_score=False,\n",
      "                                                   random_state=42, verbose=0,\n",
      "                                                   warm_start=False)),\n",
      "                            ('xgb',\n",
      "                             XGBRegressor(base_score=0.5, booster='gbtree',\n",
      "                                          colsample_bylevel=1,\n",
      "                                          colsample_bytree=1, gamma=3,\n",
      "                                          learning_rate=0.01, max_delta_step=0,\n",
      "                                          max_depth=8, min_child_weight=1,\n",
      "                                          missing=None, n_estimators=100,\n",
      "                                          n_jobs=1, nthread=None,\n",
      "                                          objective='reg:linear',\n",
      "                                          random_state=42, reg_alpha=0,\n",
      "                                          reg_lambda=1, scale_pos_weight=1,\n",
      "                                          seed=None, silent=True,\n",
      "                                          subsample=1))],\n",
      "                n_jobs=None, weights=None)\n"
     ]
    },
    {
     "data": {
      "text/plain": [
       "['./빅콘테스트/model/version2/voting_amount_all_reg_version2.pkl']"
      ]
     },
     "execution_count": 26,
     "metadata": {},
     "output_type": "execute_result"
    }
   ],
   "source": [
    "voting_amount_all_reg.fit(train.iloc[:, 1:-4], train['survival_time'])\n",
    "print(voting_amount_all_reg)\n",
    "joblib.dump(voting_amount_all_reg, './빅콘테스트/model/version2/voting_amount_all_reg_version2.pkl')"
   ]
  },
  {
   "cell_type": "markdown",
   "metadata": {},
   "source": [
    "## 일 평균 결제 금액(이탈 & 결제)"
   ]
  },
  {
   "cell_type": "code",
   "execution_count": 27,
   "metadata": {},
   "outputs": [],
   "source": [
    "train_sub = train[(train['leave'] == 1) & (train['amount'] == 1)]"
   ]
  },
  {
   "cell_type": "code",
   "execution_count": 29,
   "metadata": {},
   "outputs": [
    {
     "data": {
      "text/html": [
       "<div>\n",
       "<style scoped>\n",
       "    .dataframe tbody tr th:only-of-type {\n",
       "        vertical-align: middle;\n",
       "    }\n",
       "\n",
       "    .dataframe tbody tr th {\n",
       "        vertical-align: top;\n",
       "    }\n",
       "\n",
       "    .dataframe thead th {\n",
       "        text-align: right;\n",
       "    }\n",
       "</style>\n",
       "<table border=\"1\" class=\"dataframe\">\n",
       "  <thead>\n",
       "    <tr style=\"text-align: right;\">\n",
       "      <th></th>\n",
       "      <th>acc_id</th>\n",
       "      <th>level</th>\n",
       "      <th>playtime_1</th>\n",
       "      <th>playtime_2</th>\n",
       "      <th>playtime_3</th>\n",
       "      <th>playtime_4</th>\n",
       "      <th>npc_kill_1</th>\n",
       "      <th>npc_kill_2</th>\n",
       "      <th>npc_kill_3</th>\n",
       "      <th>npc_kill_4</th>\n",
       "      <th>...</th>\n",
       "      <th>source_armor</th>\n",
       "      <th>target_armor</th>\n",
       "      <th>source_accessory</th>\n",
       "      <th>target_accessory</th>\n",
       "      <th>source_spell</th>\n",
       "      <th>target_spell</th>\n",
       "      <th>survival_time</th>\n",
       "      <th>amount_spent</th>\n",
       "      <th>leave</th>\n",
       "      <th>amount</th>\n",
       "    </tr>\n",
       "  </thead>\n",
       "  <tbody>\n",
       "    <tr>\n",
       "      <th>5</th>\n",
       "      <td>31.0</td>\n",
       "      <td>17</td>\n",
       "      <td>19.586603</td>\n",
       "      <td>22.231543</td>\n",
       "      <td>21.236765</td>\n",
       "      <td>19.027186</td>\n",
       "      <td>15.761864</td>\n",
       "      <td>13.541598</td>\n",
       "      <td>18.448150</td>\n",
       "      <td>17.846955</td>\n",
       "      <td>...</td>\n",
       "      <td>0</td>\n",
       "      <td>1</td>\n",
       "      <td>0</td>\n",
       "      <td>1</td>\n",
       "      <td>0</td>\n",
       "      <td>1</td>\n",
       "      <td>45</td>\n",
       "      <td>0.051316</td>\n",
       "      <td>1</td>\n",
       "      <td>1</td>\n",
       "    </tr>\n",
       "    <tr>\n",
       "      <th>11</th>\n",
       "      <td>54.0</td>\n",
       "      <td>11</td>\n",
       "      <td>2.359380</td>\n",
       "      <td>8.381886</td>\n",
       "      <td>8.868743</td>\n",
       "      <td>11.019805</td>\n",
       "      <td>0.650535</td>\n",
       "      <td>0.000000</td>\n",
       "      <td>0.000000</td>\n",
       "      <td>0.000000</td>\n",
       "      <td>...</td>\n",
       "      <td>0</td>\n",
       "      <td>0</td>\n",
       "      <td>0</td>\n",
       "      <td>0</td>\n",
       "      <td>0</td>\n",
       "      <td>0</td>\n",
       "      <td>50</td>\n",
       "      <td>0.059060</td>\n",
       "      <td>1</td>\n",
       "      <td>1</td>\n",
       "    </tr>\n",
       "    <tr>\n",
       "      <th>13</th>\n",
       "      <td>63.0</td>\n",
       "      <td>17</td>\n",
       "      <td>5.435001</td>\n",
       "      <td>15.591104</td>\n",
       "      <td>5.989737</td>\n",
       "      <td>8.611271</td>\n",
       "      <td>0.000000</td>\n",
       "      <td>0.000000</td>\n",
       "      <td>0.026697</td>\n",
       "      <td>0.809029</td>\n",
       "      <td>...</td>\n",
       "      <td>0</td>\n",
       "      <td>1</td>\n",
       "      <td>0</td>\n",
       "      <td>0</td>\n",
       "      <td>0</td>\n",
       "      <td>0</td>\n",
       "      <td>22</td>\n",
       "      <td>0.067853</td>\n",
       "      <td>1</td>\n",
       "      <td>1</td>\n",
       "    </tr>\n",
       "    <tr>\n",
       "      <th>15</th>\n",
       "      <td>66.0</td>\n",
       "      <td>16</td>\n",
       "      <td>10.018004</td>\n",
       "      <td>8.644040</td>\n",
       "      <td>12.496758</td>\n",
       "      <td>15.420237</td>\n",
       "      <td>19.709681</td>\n",
       "      <td>0.694805</td>\n",
       "      <td>3.805544</td>\n",
       "      <td>4.134021</td>\n",
       "      <td>...</td>\n",
       "      <td>1</td>\n",
       "      <td>1</td>\n",
       "      <td>0</td>\n",
       "      <td>1</td>\n",
       "      <td>0</td>\n",
       "      <td>0</td>\n",
       "      <td>42</td>\n",
       "      <td>0.033763</td>\n",
       "      <td>1</td>\n",
       "      <td>1</td>\n",
       "    </tr>\n",
       "    <tr>\n",
       "      <th>34</th>\n",
       "      <td>154.0</td>\n",
       "      <td>15</td>\n",
       "      <td>4.880266</td>\n",
       "      <td>2.080842</td>\n",
       "      <td>3.527367</td>\n",
       "      <td>1.888909</td>\n",
       "      <td>6.550969</td>\n",
       "      <td>0.431887</td>\n",
       "      <td>0.924266</td>\n",
       "      <td>1.148658</td>\n",
       "      <td>...</td>\n",
       "      <td>0</td>\n",
       "      <td>0</td>\n",
       "      <td>1</td>\n",
       "      <td>1</td>\n",
       "      <td>1</td>\n",
       "      <td>1</td>\n",
       "      <td>2</td>\n",
       "      <td>0.049217</td>\n",
       "      <td>1</td>\n",
       "      <td>1</td>\n",
       "    </tr>\n",
       "  </tbody>\n",
       "</table>\n",
       "<p>5 rows × 151 columns</p>\n",
       "</div>"
      ],
      "text/plain": [
       "    acc_id  level  playtime_1  playtime_2  playtime_3  playtime_4  npc_kill_1  \\\n",
       "5     31.0     17   19.586603   22.231543   21.236765   19.027186   15.761864   \n",
       "11    54.0     11    2.359380    8.381886    8.868743   11.019805    0.650535   \n",
       "13    63.0     17    5.435001   15.591104    5.989737    8.611271    0.000000   \n",
       "15    66.0     16   10.018004    8.644040   12.496758   15.420237   19.709681   \n",
       "34   154.0     15    4.880266    2.080842    3.527367    1.888909    6.550969   \n",
       "\n",
       "    npc_kill_2  npc_kill_3  npc_kill_4  ...  source_armor  target_armor  \\\n",
       "5    13.541598   18.448150   17.846955  ...             0             1   \n",
       "11    0.000000    0.000000    0.000000  ...             0             0   \n",
       "13    0.000000    0.026697    0.809029  ...             0             1   \n",
       "15    0.694805    3.805544    4.134021  ...             1             1   \n",
       "34    0.431887    0.924266    1.148658  ...             0             0   \n",
       "\n",
       "    source_accessory  target_accessory  source_spell  target_spell  \\\n",
       "5                  0                 1             0             1   \n",
       "11                 0                 0             0             0   \n",
       "13                 0                 0             0             0   \n",
       "15                 0                 1             0             0   \n",
       "34                 1                 1             1             1   \n",
       "\n",
       "    survival_time  amount_spent  leave  amount  \n",
       "5              45      0.051316      1       1  \n",
       "11             50      0.059060      1       1  \n",
       "13             22      0.067853      1       1  \n",
       "15             42      0.033763      1       1  \n",
       "34              2      0.049217      1       1  \n",
       "\n",
       "[5 rows x 151 columns]"
      ]
     },
     "execution_count": 29,
     "metadata": {},
     "output_type": "execute_result"
    }
   ],
   "source": [
    "train_sub.head()"
   ]
  },
  {
   "cell_type": "code",
   "execution_count": 30,
   "metadata": {},
   "outputs": [
    {
     "name": "stdout",
     "output_type": "stream",
     "text": [
      "Fitting 5 folds for each of 12 candidates, totalling 60 fits\n"
     ]
    },
    {
     "name": "stderr",
     "output_type": "stream",
     "text": [
      "[Parallel(n_jobs=-1)]: Using backend LokyBackend with 32 concurrent workers.\n",
      "[Parallel(n_jobs=-1)]: Done  28 out of  60 | elapsed:   24.3s remaining:   27.8s\n",
      "[Parallel(n_jobs=-1)]: Done  60 out of  60 | elapsed:   43.9s finished\n"
     ]
    },
    {
     "data": {
      "text/plain": [
       "GridSearchCV(cv=5, error_score='raise-deprecating',\n",
       "             estimator=RandomForestRegressor(bootstrap=True, criterion='mse',\n",
       "                                             max_depth=None,\n",
       "                                             max_features='auto',\n",
       "                                             max_leaf_nodes=None,\n",
       "                                             min_impurity_decrease=0.0,\n",
       "                                             min_impurity_split=None,\n",
       "                                             min_samples_leaf=1,\n",
       "                                             min_samples_split=2,\n",
       "                                             min_weight_fraction_leaf=0.0,\n",
       "                                             n_estimators='warn', n_jobs=None,\n",
       "                                             oob_score=False, random_state=42,\n",
       "                                             verbose=0, warm_start=False),\n",
       "             iid='warn', n_jobs=-1,\n",
       "             param_grid=[{'max_features': [10, 11, 12, 13],\n",
       "                          'n_estimators': [300, 500, 750]}],\n",
       "             pre_dispatch='2*n_jobs', refit=True, return_train_score=False,\n",
       "             scoring='neg_mean_squared_error', verbose=2)"
      ]
     },
     "execution_count": 30,
     "metadata": {},
     "output_type": "execute_result"
    }
   ],
   "source": [
    "from sklearn.model_selection import GridSearchCV\n",
    "from sklearn.ensemble import RandomForestRegressor\n",
    "\n",
    "rf = RandomForestRegressor(random_state=42)\n",
    "\n",
    "param_grid = [\n",
    "    {'n_estimators' : [300, 500, 750], 'max_features' : [10, 11, 12, 13]}\n",
    "  ]\n",
    "\n",
    "grid_search = GridSearchCV(rf, param_grid, cv = 5,\n",
    "                           scoring = 'neg_mean_squared_error', verbose = 2, n_jobs = -1)\n",
    "\n",
    "grid_search.fit(train_sub.iloc[:, 1:-4], train_sub['amount_spent'])"
   ]
  },
  {
   "cell_type": "code",
   "execution_count": 31,
   "metadata": {},
   "outputs": [
    {
     "name": "stdout",
     "output_type": "stream",
     "text": [
      "-1.9012098216383093\n",
      "{'max_features': 11, 'n_estimators': 500}\n"
     ]
    }
   ],
   "source": [
    "print(grid_search.best_score_)\n",
    "print(grid_search.best_params_)"
   ]
  },
  {
   "cell_type": "code",
   "execution_count": 32,
   "metadata": {},
   "outputs": [
    {
     "name": "stdout",
     "output_type": "stream",
     "text": [
      "RandomForestRegressor(bootstrap=True, criterion='mse', max_depth=None,\n",
      "                      max_features=11, max_leaf_nodes=None,\n",
      "                      min_impurity_decrease=0.0, min_impurity_split=None,\n",
      "                      min_samples_leaf=1, min_samples_split=2,\n",
      "                      min_weight_fraction_leaf=0.0, n_estimators=500,\n",
      "                      n_jobs=None, oob_score=False, random_state=42, verbose=0,\n",
      "                      warm_start=False)\n"
     ]
    },
    {
     "data": {
      "text/plain": [
       "['./빅콘테스트/model/version2/rf_amount_sub_reg_version2.pkl']"
      ]
     },
     "execution_count": 32,
     "metadata": {},
     "output_type": "execute_result"
    }
   ],
   "source": [
    "from sklearn.externals import joblib\n",
    "\n",
    "rf_amount_sub_reg = grid_search.best_estimator_\n",
    "print(rf_amount_sub_reg)\n",
    "joblib.dump(rf_amount_sub_reg, './빅콘테스트/model/version2/rf_amount_sub_reg_version2.pkl')"
   ]
  },
  {
   "cell_type": "code",
   "execution_count": 41,
   "metadata": {},
   "outputs": [
    {
     "name": "stdout",
     "output_type": "stream",
     "text": [
      "Fitting 5 folds for each of 48 candidates, totalling 240 fits\n"
     ]
    },
    {
     "name": "stderr",
     "output_type": "stream",
     "text": [
      "[Parallel(n_jobs=-1)]: Using backend LokyBackend with 32 concurrent workers.\n",
      "[Parallel(n_jobs=-1)]: Done  98 tasks      | elapsed:    7.4s\n",
      "[Parallel(n_jobs=-1)]: Done 240 out of 240 | elapsed:   17.1s finished\n"
     ]
    },
    {
     "data": {
      "text/plain": [
       "GridSearchCV(cv=5, error_score='raise-deprecating',\n",
       "             estimator=XGBRegressor(base_score=0.5, booster='gbtree',\n",
       "                                    colsample_bylevel=1, colsample_bytree=1,\n",
       "                                    gamma=0, learning_rate=0.1,\n",
       "                                    max_delta_step=0, max_depth=3,\n",
       "                                    min_child_weight=1, missing=None,\n",
       "                                    n_estimators=100, n_jobs=1, nthread=None,\n",
       "                                    objective='reg:linear', random_state=42,\n",
       "                                    reg_alpha=0, reg_lambda=1,\n",
       "                                    scale_pos_weight=1, seed=None, silent=True,\n",
       "                                    subsample=1),\n",
       "             iid='warn', n_jobs=-1,\n",
       "             param_grid=[{'gamma': [0, 1, 3, 10],\n",
       "                          'learning_rate': [0.001, 0.01, 0.1],\n",
       "                          'max_depth': [1, 2, 3, 4]}],\n",
       "             pre_dispatch='2*n_jobs', refit=True, return_train_score=False,\n",
       "             scoring='neg_mean_squared_error', verbose=2)"
      ]
     },
     "execution_count": 41,
     "metadata": {},
     "output_type": "execute_result"
    }
   ],
   "source": [
    "from xgboost import XGBRegressor\n",
    "\n",
    "xgb = XGBRegressor(random_state=42)\n",
    "\n",
    "param_grid = [\n",
    "    {'learning_rate' : [0.001, 0.01, 0.1], 'max_depth' : [1, 2, 3, 4], 'gamma' : [0, 1, 3, 10]}\n",
    "  ]\n",
    "\n",
    "grid_search = GridSearchCV(xgb, param_grid, cv = 5,\n",
    "                           scoring = 'neg_mean_squared_error', verbose = 2, n_jobs = -1)\n",
    "\n",
    "grid_search.fit(train_sub.iloc[:, 1:-4], train_sub['amount_spent'])"
   ]
  },
  {
   "cell_type": "code",
   "execution_count": 42,
   "metadata": {},
   "outputs": [
    {
     "name": "stdout",
     "output_type": "stream",
     "text": [
      "-1.9869484252715186\n",
      "{'gamma': 0, 'learning_rate': 0.01, 'max_depth': 1}\n"
     ]
    }
   ],
   "source": [
    "print(grid_search.best_score_)\n",
    "print(grid_search.best_params_)"
   ]
  },
  {
   "cell_type": "code",
   "execution_count": 43,
   "metadata": {},
   "outputs": [
    {
     "name": "stdout",
     "output_type": "stream",
     "text": [
      "XGBRegressor(base_score=0.5, booster='gbtree', colsample_bylevel=1,\n",
      "             colsample_bytree=1, gamma=0, learning_rate=0.01, max_delta_step=0,\n",
      "             max_depth=1, min_child_weight=1, missing=None, n_estimators=100,\n",
      "             n_jobs=1, nthread=None, objective='reg:linear', random_state=42,\n",
      "             reg_alpha=0, reg_lambda=1, scale_pos_weight=1, seed=None,\n",
      "             silent=True, subsample=1)\n"
     ]
    },
    {
     "data": {
      "text/plain": [
       "['./빅콘테스트/model/version2/xgb_amount_sub_reg_version2.pkl']"
      ]
     },
     "execution_count": 43,
     "metadata": {},
     "output_type": "execute_result"
    }
   ],
   "source": [
    "from sklearn.externals import joblib\n",
    "\n",
    "xgb_amount_sub_reg = grid_search.best_estimator_\n",
    "print(xgb_amount_sub_reg)\n",
    "joblib.dump(xgb_amount_sub_reg, './빅콘테스트/model/version2/xgb_amount_sub_reg_version2.pkl')"
   ]
  },
  {
   "cell_type": "code",
   "execution_count": 44,
   "metadata": {},
   "outputs": [
    {
     "data": {
      "text/plain": [
       "-1.9064826612472736"
      ]
     },
     "execution_count": 44,
     "metadata": {},
     "output_type": "execute_result"
    }
   ],
   "source": [
    "from sklearn.ensemble import VotingRegressor\n",
    "from sklearn.model_selection import cross_val_score\n",
    "\n",
    "voting_amount_sub_reg = VotingRegressor(\n",
    "    estimators=[('rf', rf_amount_sub_reg), ('xgb', xgb_amount_sub_reg)])\n",
    "\n",
    "cv_value = cross_val_score(voting_amount_sub_reg, train_sub.iloc[:, 1:-4],\n",
    "                           train_sub['amount_spent'], cv = 5,\n",
    "                           scoring = \"neg_mean_squared_error\")\n",
    "\n",
    "np.mean(cv_value)"
   ]
  },
  {
   "cell_type": "code",
   "execution_count": 45,
   "metadata": {},
   "outputs": [
    {
     "name": "stdout",
     "output_type": "stream",
     "text": [
      "VotingRegressor(estimators=[('rf',\n",
      "                             RandomForestRegressor(bootstrap=True,\n",
      "                                                   criterion='mse',\n",
      "                                                   max_depth=None,\n",
      "                                                   max_features=11,\n",
      "                                                   max_leaf_nodes=None,\n",
      "                                                   min_impurity_decrease=0.0,\n",
      "                                                   min_impurity_split=None,\n",
      "                                                   min_samples_leaf=1,\n",
      "                                                   min_samples_split=2,\n",
      "                                                   min_weight_fraction_leaf=0.0,\n",
      "                                                   n_estimators=500,\n",
      "                                                   n_jobs=None, oob_score=False,\n",
      "                                                   random_state=42, verbose=0,\n",
      "                                                   warm_start=False)),\n",
      "                            ('xgb',\n",
      "                             XGBRegressor(base_score=0.5, booster='gbtree',\n",
      "                                          colsample_bylevel=1,\n",
      "                                          colsample_bytree=1, gamma=0,\n",
      "                                          learning_rate=0.01, max_delta_step=0,\n",
      "                                          max_depth=1, min_child_weight=1,\n",
      "                                          missing=None, n_estimators=100,\n",
      "                                          n_jobs=1, nthread=None,\n",
      "                                          objective='reg:linear',\n",
      "                                          random_state=42, reg_alpha=0,\n",
      "                                          reg_lambda=1, scale_pos_weight=1,\n",
      "                                          seed=None, silent=True,\n",
      "                                          subsample=1))],\n",
      "                n_jobs=None, weights=None)\n"
     ]
    },
    {
     "data": {
      "text/plain": [
       "['./빅콘테스트/model/version2/voting_amount_sub_reg_version2.pkl']"
      ]
     },
     "execution_count": 45,
     "metadata": {},
     "output_type": "execute_result"
    }
   ],
   "source": [
    "voting_amount_sub_reg.fit(train_sub.iloc[:, 1:-4], train_sub['survival_time'])\n",
    "print(voting_amount_sub_reg)\n",
    "joblib.dump(voting_amount_sub_reg, './빅콘테스트/model/version2/voting_amount_sub_reg_version2.pkl')"
   ]
  },
  {
   "cell_type": "markdown",
   "metadata": {},
   "source": [
    "# non class"
   ]
  },
  {
   "cell_type": "code",
   "execution_count": 47,
   "metadata": {},
   "outputs": [],
   "source": [
    "X_train_non_class = pd.read_csv('X_train_ver2_non_class.csv')\n",
    "X_test_non_class = pd.read_csv('X_test_ver2_non_class.csv')\n",
    "y_train = pd.read_csv('/home/user3/anaconda3/빅콘테스트/train_label.csv', engine = 'python')"
   ]
  },
  {
   "cell_type": "code",
   "execution_count": 48,
   "metadata": {},
   "outputs": [
    {
     "name": "stderr",
     "output_type": "stream",
     "text": [
      "/home/user3/.conda/envs/hun/lib/python3.6/site-packages/ipykernel_launcher.py:2: SettingWithCopyWarning: \n",
      "A value is trying to be set on a copy of a slice from a DataFrame\n",
      "\n",
      "See the caveats in the documentation: http://pandas.pydata.org/pandas-docs/stable/indexing.html#indexing-view-versus-copy\n",
      "  \n"
     ]
    }
   ],
   "source": [
    "y_train['leave'] = 0\n",
    "y_train['leave'][y_train.survival_time < 64] = 1"
   ]
  },
  {
   "cell_type": "code",
   "execution_count": 49,
   "metadata": {},
   "outputs": [
    {
     "name": "stderr",
     "output_type": "stream",
     "text": [
      "/home/user3/.conda/envs/hun/lib/python3.6/site-packages/ipykernel_launcher.py:2: SettingWithCopyWarning: \n",
      "A value is trying to be set on a copy of a slice from a DataFrame\n",
      "\n",
      "See the caveats in the documentation: http://pandas.pydata.org/pandas-docs/stable/indexing.html#indexing-view-versus-copy\n",
      "  \n"
     ]
    }
   ],
   "source": [
    "y_train['amount'] = 0\n",
    "y_train['amount'][y_train.amount_spent > 0] = 1"
   ]
  },
  {
   "cell_type": "code",
   "execution_count": 50,
   "metadata": {},
   "outputs": [],
   "source": [
    "from sklearn.model_selection import StratifiedShuffleSplit\n",
    "\n",
    "split = StratifiedShuffleSplit(n_splits = 1, test_size = 0.25, random_state = 42)\n",
    "for train_index, test_index in split.split(y_train, y_train['leave']):\n",
    "    strat_y_train = y_train.loc[train_index]\n",
    "    strat_y_test = y_train.loc[test_index]"
   ]
  },
  {
   "cell_type": "code",
   "execution_count": 51,
   "metadata": {},
   "outputs": [
    {
     "data": {
      "text/plain": [
       "(30000, 10000)"
      ]
     },
     "execution_count": 51,
     "metadata": {},
     "output_type": "execute_result"
    }
   ],
   "source": [
    "len(strat_y_train), len(strat_y_test)"
   ]
  },
  {
   "cell_type": "code",
   "execution_count": 52,
   "metadata": {},
   "outputs": [
    {
     "data": {
      "text/plain": [
       "(0.4501, 0.4501)"
      ]
     },
     "execution_count": 52,
     "metadata": {},
     "output_type": "execute_result"
    }
   ],
   "source": [
    "strat_y_train['leave'].mean(), strat_y_test['leave'].mean()"
   ]
  },
  {
   "cell_type": "code",
   "execution_count": 53,
   "metadata": {},
   "outputs": [],
   "source": [
    "y_train = strat_y_train.sort_values(['acc_id'], ascending = True)\n",
    "y_test = strat_y_test.sort_values(['acc_id'], ascending = True)"
   ]
  },
  {
   "cell_type": "code",
   "execution_count": 54,
   "metadata": {},
   "outputs": [],
   "source": [
    "train_non_class = pd.merge(X_train_non_class, y_train, how = 'left', on = 'acc_id')\n",
    "test_non_class = pd.merge(X_test_non_class, y_test, how = 'left', on = 'acc_id')"
   ]
  },
  {
   "cell_type": "code",
   "execution_count": 55,
   "metadata": {},
   "outputs": [],
   "source": [
    "train_non_class_leave = train_non_class[train_non_class['leave'] == 1]\n",
    "train_non_class_sub = train_non_class[(train_non_class['leave'] == 1) & (train_non_class['amount'] == 1)]"
   ]
  },
  {
   "cell_type": "markdown",
   "metadata": {},
   "source": [
    "## 추가 생존 기간"
   ]
  },
  {
   "cell_type": "markdown",
   "metadata": {},
   "source": [
    "### RandomForest"
   ]
  },
  {
   "cell_type": "code",
   "execution_count": 56,
   "metadata": {},
   "outputs": [
    {
     "name": "stdout",
     "output_type": "stream",
     "text": [
      "Fitting 5 folds for each of 12 candidates, totalling 60 fits\n"
     ]
    },
    {
     "name": "stderr",
     "output_type": "stream",
     "text": [
      "[Parallel(n_jobs=-1)]: Using backend LokyBackend with 32 concurrent workers.\n",
      "[Parallel(n_jobs=-1)]: Done  28 out of  60 | elapsed:   46.1s remaining:   52.7s\n",
      "[Parallel(n_jobs=-1)]: Done  60 out of  60 | elapsed:  1.4min finished\n"
     ]
    },
    {
     "data": {
      "text/plain": [
       "GridSearchCV(cv=5, error_score='raise-deprecating',\n",
       "             estimator=RandomForestRegressor(bootstrap=True, criterion='mse',\n",
       "                                             max_depth=None,\n",
       "                                             max_features='auto',\n",
       "                                             max_leaf_nodes=None,\n",
       "                                             min_impurity_decrease=0.0,\n",
       "                                             min_impurity_split=None,\n",
       "                                             min_samples_leaf=1,\n",
       "                                             min_samples_split=2,\n",
       "                                             min_weight_fraction_leaf=0.0,\n",
       "                                             n_estimators='warn', n_jobs=None,\n",
       "                                             oob_score=False, random_state=42,\n",
       "                                             verbose=0, warm_start=False),\n",
       "             iid='warn', n_jobs=-1,\n",
       "             param_grid=[{'max_features': [12, 13, 14, 15],\n",
       "                          'n_estimators': [300, 500, 750]}],\n",
       "             pre_dispatch='2*n_jobs', refit=True, return_train_score=False,\n",
       "             scoring='neg_mean_squared_error', verbose=2)"
      ]
     },
     "execution_count": 56,
     "metadata": {},
     "output_type": "execute_result"
    }
   ],
   "source": [
    "from sklearn.model_selection import GridSearchCV\n",
    "from sklearn.ensemble import RandomForestRegressor\n",
    "\n",
    "rf = RandomForestRegressor(random_state=42)\n",
    "\n",
    "param_grid = [\n",
    "    {'n_estimators' : [300, 500, 750], 'max_features' : [12, 13, 14, 15]}\n",
    "  ]\n",
    "\n",
    "grid_search = GridSearchCV(rf, param_grid, cv = 5,\n",
    "                           scoring = 'neg_mean_squared_error', verbose = 2, n_jobs = -1)\n",
    "\n",
    "grid_search.fit(train_non_class_leave.iloc[:, 1:-4], train_non_class_leave['survival_time'])"
   ]
  },
  {
   "cell_type": "code",
   "execution_count": 57,
   "metadata": {},
   "outputs": [
    {
     "name": "stdout",
     "output_type": "stream",
     "text": [
      "-204.25867123026995\n",
      "{'max_features': 14, 'n_estimators': 750}\n"
     ]
    }
   ],
   "source": [
    "print(grid_search.best_score_)\n",
    "print(grid_search.best_params_)"
   ]
  },
  {
   "cell_type": "code",
   "execution_count": 58,
   "metadata": {},
   "outputs": [
    {
     "name": "stdout",
     "output_type": "stream",
     "text": [
      "RandomForestRegressor(bootstrap=True, criterion='mse', max_depth=None,\n",
      "                      max_features=14, max_leaf_nodes=None,\n",
      "                      min_impurity_decrease=0.0, min_impurity_split=None,\n",
      "                      min_samples_leaf=1, min_samples_split=2,\n",
      "                      min_weight_fraction_leaf=0.0, n_estimators=750,\n",
      "                      n_jobs=None, oob_score=False, random_state=42, verbose=0,\n",
      "                      warm_start=False)\n"
     ]
    },
    {
     "data": {
      "text/plain": [
       "['./빅콘테스트/model/version2/rf_leave_non_class_reg_version2.pkl']"
      ]
     },
     "execution_count": 58,
     "metadata": {},
     "output_type": "execute_result"
    }
   ],
   "source": [
    "from sklearn.externals import joblib\n",
    "\n",
    "rf_leave_non_class_reg = grid_search.best_estimator_\n",
    "print(rf_leave_non_class_reg)\n",
    "joblib.dump(rf_leave_non_class_reg, './빅콘테스트/model/version2/rf_leave_non_class_reg_version2.pkl')"
   ]
  },
  {
   "cell_type": "markdown",
   "metadata": {},
   "source": [
    "### XGBoost"
   ]
  },
  {
   "cell_type": "code",
   "execution_count": 59,
   "metadata": {},
   "outputs": [
    {
     "name": "stdout",
     "output_type": "stream",
     "text": [
      "Fitting 5 folds for each of 36 candidates, totalling 180 fits\n"
     ]
    },
    {
     "name": "stderr",
     "output_type": "stream",
     "text": [
      "[Parallel(n_jobs=-1)]: Using backend LokyBackend with 32 concurrent workers.\n",
      "[Parallel(n_jobs=-1)]: Done  98 tasks      | elapsed:  1.0min\n",
      "[Parallel(n_jobs=-1)]: Done 180 out of 180 | elapsed:  1.7min finished\n"
     ]
    },
    {
     "data": {
      "text/plain": [
       "GridSearchCV(cv=5, error_score='raise-deprecating',\n",
       "             estimator=XGBRegressor(base_score=0.5, booster='gbtree',\n",
       "                                    colsample_bylevel=1, colsample_bytree=1,\n",
       "                                    gamma=0, learning_rate=0.1,\n",
       "                                    max_delta_step=0, max_depth=3,\n",
       "                                    min_child_weight=1, missing=None,\n",
       "                                    n_estimators=100, n_jobs=1, nthread=None,\n",
       "                                    objective='reg:linear', random_state=42,\n",
       "                                    reg_alpha=0, reg_lambda=1,\n",
       "                                    scale_pos_weight=1, seed=None, silent=True,\n",
       "                                    subsample=1),\n",
       "             iid='warn', n_jobs=-1,\n",
       "             param_grid=[{'gamma': [0, 1, 3],\n",
       "                          'learning_rate': [0.001, 0.01, 0.1],\n",
       "                          'max_depth': [9, 10, 11, 12]}],\n",
       "             pre_dispatch='2*n_jobs', refit=True, return_train_score=False,\n",
       "             scoring='neg_mean_squared_error', verbose=2)"
      ]
     },
     "execution_count": 59,
     "metadata": {},
     "output_type": "execute_result"
    }
   ],
   "source": [
    "from xgboost import XGBRegressor\n",
    "\n",
    "xgb = XGBRegressor(random_state=42)\n",
    "\n",
    "param_grid = [\n",
    "    {'learning_rate' : [0.001, 0.01, 0.1], 'max_depth' : [9, 10, 11, 12], 'gamma' : [0, 1, 3]}\n",
    "  ]\n",
    "\n",
    "grid_search = GridSearchCV(xgb, param_grid, cv = 5,\n",
    "                           scoring = 'neg_mean_squared_error', verbose = 2, n_jobs = -1)\n",
    "\n",
    "grid_search.fit(train_non_class_leave.iloc[:, 1:-4], train_non_class_leave['survival_time'])"
   ]
  },
  {
   "cell_type": "code",
   "execution_count": 60,
   "metadata": {},
   "outputs": [
    {
     "name": "stdout",
     "output_type": "stream",
     "text": [
      "-212.0057736319297\n",
      "{'gamma': 1, 'learning_rate': 0.1, 'max_depth': 9}\n"
     ]
    }
   ],
   "source": [
    "print(grid_search.best_score_)\n",
    "print(grid_search.best_params_)"
   ]
  },
  {
   "cell_type": "code",
   "execution_count": 61,
   "metadata": {},
   "outputs": [
    {
     "name": "stdout",
     "output_type": "stream",
     "text": [
      "XGBRegressor(base_score=0.5, booster='gbtree', colsample_bylevel=1,\n",
      "             colsample_bytree=1, gamma=1, learning_rate=0.1, max_delta_step=0,\n",
      "             max_depth=9, min_child_weight=1, missing=None, n_estimators=100,\n",
      "             n_jobs=1, nthread=None, objective='reg:linear', random_state=42,\n",
      "             reg_alpha=0, reg_lambda=1, scale_pos_weight=1, seed=None,\n",
      "             silent=True, subsample=1)\n"
     ]
    },
    {
     "data": {
      "text/plain": [
       "['./빅콘테스트/model/version2/xgb_leave_non_class_reg_version2.pkl']"
      ]
     },
     "execution_count": 61,
     "metadata": {},
     "output_type": "execute_result"
    }
   ],
   "source": [
    "xgb_leave_non_class_reg = grid_search.best_estimator_\n",
    "print(xgb_leave_non_class_reg)\n",
    "joblib.dump(xgb_leave_non_class_reg, './빅콘테스트/model/version2/xgb_leave_non_class_reg_version2.pkl')"
   ]
  },
  {
   "cell_type": "markdown",
   "metadata": {},
   "source": [
    "### Ensemble"
   ]
  },
  {
   "cell_type": "code",
   "execution_count": 62,
   "metadata": {},
   "outputs": [
    {
     "data": {
      "text/plain": [
       "-204.61099470835364"
      ]
     },
     "execution_count": 62,
     "metadata": {},
     "output_type": "execute_result"
    }
   ],
   "source": [
    "from sklearn.ensemble import VotingRegressor\n",
    "from sklearn.model_selection import cross_val_score\n",
    "\n",
    "voting_leave_non_class_reg = VotingRegressor(\n",
    "    estimators=[('rf', rf_leave_non_class_reg), ('xgb', xgb_leave_non_class_reg)])\n",
    "\n",
    "cv_value = cross_val_score(voting_leave_non_class_reg, train_non_class_leave.iloc[:, 1:-4],\n",
    "                           train_non_class_leave['survival_time'], cv = 5,\n",
    "                           scoring = \"neg_mean_squared_error\")\n",
    "\n",
    "np.mean(cv_value)"
   ]
  },
  {
   "cell_type": "code",
   "execution_count": 63,
   "metadata": {},
   "outputs": [
    {
     "name": "stdout",
     "output_type": "stream",
     "text": [
      "VotingRegressor(estimators=[('rf',\n",
      "                             RandomForestRegressor(bootstrap=True,\n",
      "                                                   criterion='mse',\n",
      "                                                   max_depth=None,\n",
      "                                                   max_features=14,\n",
      "                                                   max_leaf_nodes=None,\n",
      "                                                   min_impurity_decrease=0.0,\n",
      "                                                   min_impurity_split=None,\n",
      "                                                   min_samples_leaf=1,\n",
      "                                                   min_samples_split=2,\n",
      "                                                   min_weight_fraction_leaf=0.0,\n",
      "                                                   n_estimators=750,\n",
      "                                                   n_jobs=None, oob_score=False,\n",
      "                                                   random_state=42, verbose=0,\n",
      "                                                   warm_start=False)),\n",
      "                            ('xgb',\n",
      "                             XGBRegressor(base_score=0.5, booster='gbtree',\n",
      "                                          colsample_bylevel=1,\n",
      "                                          colsample_bytree=1, gamma=1,\n",
      "                                          learning_rate=0.1, max_delta_step=0,\n",
      "                                          max_depth=9, min_child_weight=1,\n",
      "                                          missing=None, n_estimators=100,\n",
      "                                          n_jobs=1, nthread=None,\n",
      "                                          objective='reg:linear',\n",
      "                                          random_state=42, reg_alpha=0,\n",
      "                                          reg_lambda=1, scale_pos_weight=1,\n",
      "                                          seed=None, silent=True,\n",
      "                                          subsample=1))],\n",
      "                n_jobs=None, weights=None)\n"
     ]
    },
    {
     "data": {
      "text/plain": [
       "['./빅콘테스트/model/version2/voting_leave_non_class_reg_version2.pkl']"
      ]
     },
     "execution_count": 63,
     "metadata": {},
     "output_type": "execute_result"
    }
   ],
   "source": [
    "voting_leave_non_class_reg.fit(train_non_class_leave.iloc[:, 1:-4], train_non_class_leave['survival_time'])\n",
    "print(voting_leave_non_class_reg)\n",
    "joblib.dump(voting_leave_non_class_reg, './빅콘테스트/model/version2/voting_leave_non_class_reg_version2.pkl')"
   ]
  },
  {
   "cell_type": "markdown",
   "metadata": {},
   "source": [
    "## 일 평균 결제 금액"
   ]
  },
  {
   "cell_type": "markdown",
   "metadata": {},
   "source": [
    "### RandomForest"
   ]
  },
  {
   "cell_type": "code",
   "execution_count": 65,
   "metadata": {},
   "outputs": [
    {
     "name": "stdout",
     "output_type": "stream",
     "text": [
      "Fitting 5 folds for each of 12 candidates, totalling 60 fits\n"
     ]
    },
    {
     "name": "stderr",
     "output_type": "stream",
     "text": [
      "[Parallel(n_jobs=-1)]: Using backend LokyBackend with 32 concurrent workers.\n",
      "[Parallel(n_jobs=-1)]: Done  28 out of  60 | elapsed:   25.8s remaining:   29.5s\n",
      "[Parallel(n_jobs=-1)]: Done  60 out of  60 | elapsed:   45.2s finished\n"
     ]
    },
    {
     "data": {
      "text/plain": [
       "GridSearchCV(cv=5, error_score='raise-deprecating',\n",
       "             estimator=RandomForestRegressor(bootstrap=True, criterion='mse',\n",
       "                                             max_depth=None,\n",
       "                                             max_features='auto',\n",
       "                                             max_leaf_nodes=None,\n",
       "                                             min_impurity_decrease=0.0,\n",
       "                                             min_impurity_split=None,\n",
       "                                             min_samples_leaf=1,\n",
       "                                             min_samples_split=2,\n",
       "                                             min_weight_fraction_leaf=0.0,\n",
       "                                             n_estimators='warn', n_jobs=None,\n",
       "                                             oob_score=False, random_state=42,\n",
       "                                             verbose=0, warm_start=False),\n",
       "             iid='warn', n_jobs=-1,\n",
       "             param_grid=[{'max_features': [10, 11, 12, 13],\n",
       "                          'n_estimators': [300, 500, 750]}],\n",
       "             pre_dispatch='2*n_jobs', refit=True, return_train_score=False,\n",
       "             scoring='neg_mean_squared_error', verbose=2)"
      ]
     },
     "execution_count": 65,
     "metadata": {},
     "output_type": "execute_result"
    }
   ],
   "source": [
    "from sklearn.model_selection import GridSearchCV\n",
    "from sklearn.ensemble import RandomForestRegressor\n",
    "\n",
    "rf = RandomForestRegressor(random_state=42)\n",
    "\n",
    "param_grid = [\n",
    "    {'n_estimators' : [300, 500, 750], 'max_features' : [10, 11, 12, 13]}\n",
    "  ]\n",
    "\n",
    "grid_search = GridSearchCV(rf, param_grid, cv = 5,\n",
    "                           scoring = 'neg_mean_squared_error', verbose = 2, n_jobs = -1)\n",
    "\n",
    "grid_search.fit(train_non_class_sub.iloc[:, 1:-4], train_non_class_sub['amount_spent'])"
   ]
  },
  {
   "cell_type": "code",
   "execution_count": 66,
   "metadata": {},
   "outputs": [
    {
     "name": "stdout",
     "output_type": "stream",
     "text": [
      "-1.9002387579085536\n",
      "{'max_features': 10, 'n_estimators': 300}\n"
     ]
    }
   ],
   "source": [
    "print(grid_search.best_score_)\n",
    "print(grid_search.best_params_)"
   ]
  },
  {
   "cell_type": "code",
   "execution_count": 67,
   "metadata": {},
   "outputs": [
    {
     "name": "stdout",
     "output_type": "stream",
     "text": [
      "RandomForestRegressor(bootstrap=True, criterion='mse', max_depth=None,\n",
      "                      max_features=10, max_leaf_nodes=None,\n",
      "                      min_impurity_decrease=0.0, min_impurity_split=None,\n",
      "                      min_samples_leaf=1, min_samples_split=2,\n",
      "                      min_weight_fraction_leaf=0.0, n_estimators=300,\n",
      "                      n_jobs=None, oob_score=False, random_state=42, verbose=0,\n",
      "                      warm_start=False)\n"
     ]
    },
    {
     "data": {
      "text/plain": [
       "['./빅콘테스트/model/version2/rf_amount_non_class_sub_reg_version2.pkl']"
      ]
     },
     "execution_count": 67,
     "metadata": {},
     "output_type": "execute_result"
    }
   ],
   "source": [
    "from sklearn.externals import joblib\n",
    "\n",
    "rf_amount_non_class_sub_reg = grid_search.best_estimator_\n",
    "print(rf_amount_non_class_sub_reg)\n",
    "joblib.dump(rf_amount_non_class_sub_reg, './빅콘테스트/model/version2/rf_amount_non_class_sub_reg_version2.pkl')"
   ]
  },
  {
   "cell_type": "markdown",
   "metadata": {},
   "source": [
    "### XGBoost"
   ]
  },
  {
   "cell_type": "code",
   "execution_count": 68,
   "metadata": {},
   "outputs": [
    {
     "name": "stdout",
     "output_type": "stream",
     "text": [
      "Fitting 5 folds for each of 48 candidates, totalling 240 fits\n"
     ]
    },
    {
     "name": "stderr",
     "output_type": "stream",
     "text": [
      "[Parallel(n_jobs=-1)]: Using backend LokyBackend with 32 concurrent workers.\n",
      "[Parallel(n_jobs=-1)]: Done  98 tasks      | elapsed:    7.4s\n",
      "[Parallel(n_jobs=-1)]: Done 240 out of 240 | elapsed:   17.0s finished\n"
     ]
    },
    {
     "data": {
      "text/plain": [
       "GridSearchCV(cv=5, error_score='raise-deprecating',\n",
       "             estimator=XGBRegressor(base_score=0.5, booster='gbtree',\n",
       "                                    colsample_bylevel=1, colsample_bytree=1,\n",
       "                                    gamma=0, learning_rate=0.1,\n",
       "                                    max_delta_step=0, max_depth=3,\n",
       "                                    min_child_weight=1, missing=None,\n",
       "                                    n_estimators=100, n_jobs=1, nthread=None,\n",
       "                                    objective='reg:linear', random_state=42,\n",
       "                                    reg_alpha=0, reg_lambda=1,\n",
       "                                    scale_pos_weight=1, seed=None, silent=True,\n",
       "                                    subsample=1),\n",
       "             iid='warn', n_jobs=-1,\n",
       "             param_grid=[{'gamma': [0, 1, 3, 10],\n",
       "                          'learning_rate': [0.001, 0.01, 0.1],\n",
       "                          'max_depth': [1, 2, 3, 4]}],\n",
       "             pre_dispatch='2*n_jobs', refit=True, return_train_score=False,\n",
       "             scoring='neg_mean_squared_error', verbose=2)"
      ]
     },
     "execution_count": 68,
     "metadata": {},
     "output_type": "execute_result"
    }
   ],
   "source": [
    "from xgboost import XGBRegressor\n",
    "\n",
    "xgb = XGBRegressor(random_state=42)\n",
    "\n",
    "param_grid = [\n",
    "    {'learning_rate' : [0.001, 0.01, 0.1], 'max_depth' : [1, 2, 3, 4], 'gamma' : [0, 1, 3, 10]}\n",
    "  ]\n",
    "\n",
    "grid_search = GridSearchCV(xgb, param_grid, cv = 5,\n",
    "                           scoring = 'neg_mean_squared_error', verbose = 2, n_jobs = -1)\n",
    "\n",
    "grid_search.fit(train_non_class_sub.iloc[:, 1:-4], train_non_class_sub['amount_spent'])"
   ]
  },
  {
   "cell_type": "code",
   "execution_count": 69,
   "metadata": {},
   "outputs": [
    {
     "name": "stdout",
     "output_type": "stream",
     "text": [
      "-1.9869484252715186\n",
      "{'gamma': 0, 'learning_rate': 0.01, 'max_depth': 1}\n"
     ]
    }
   ],
   "source": [
    "print(grid_search.best_score_)\n",
    "print(grid_search.best_params_)"
   ]
  },
  {
   "cell_type": "code",
   "execution_count": 70,
   "metadata": {},
   "outputs": [
    {
     "name": "stdout",
     "output_type": "stream",
     "text": [
      "XGBRegressor(base_score=0.5, booster='gbtree', colsample_bylevel=1,\n",
      "             colsample_bytree=1, gamma=0, learning_rate=0.01, max_delta_step=0,\n",
      "             max_depth=1, min_child_weight=1, missing=None, n_estimators=100,\n",
      "             n_jobs=1, nthread=None, objective='reg:linear', random_state=42,\n",
      "             reg_alpha=0, reg_lambda=1, scale_pos_weight=1, seed=None,\n",
      "             silent=True, subsample=1)\n"
     ]
    },
    {
     "data": {
      "text/plain": [
       "['./빅콘테스트/model/version2/xgb_amount_non_class_sub_reg_version2.pkl']"
      ]
     },
     "execution_count": 70,
     "metadata": {},
     "output_type": "execute_result"
    }
   ],
   "source": [
    "from sklearn.externals import joblib\n",
    "\n",
    "xgb_amount_non_class_sub_reg = grid_search.best_estimator_\n",
    "print(xgb_amount_non_class_sub_reg)\n",
    "joblib.dump(xgb_amount_non_class_sub_reg, './빅콘테스트/model/version2/xgb_amount_non_class_sub_reg_version2.pkl')"
   ]
  },
  {
   "cell_type": "markdown",
   "metadata": {},
   "source": [
    "### Ensemble"
   ]
  },
  {
   "cell_type": "code",
   "execution_count": 71,
   "metadata": {},
   "outputs": [
    {
     "data": {
      "text/plain": [
       "-1.9017403430575317"
      ]
     },
     "execution_count": 71,
     "metadata": {},
     "output_type": "execute_result"
    }
   ],
   "source": [
    "from sklearn.ensemble import VotingRegressor\n",
    "from sklearn.model_selection import cross_val_score\n",
    "\n",
    "voting_amount_non_class_sub_reg = VotingRegressor(\n",
    "    estimators=[('rf', rf_amount_non_class_sub_reg), ('xgb', xgb_amount_non_class_sub_reg)])\n",
    "\n",
    "cv_value = cross_val_score(voting_amount_non_class_sub_reg, train_non_class_sub.iloc[:, 1:-4],\n",
    "                           train_non_class_sub['amount_spent'], cv = 5,\n",
    "                           scoring = \"neg_mean_squared_error\")\n",
    "\n",
    "np.mean(cv_value)"
   ]
  },
  {
   "cell_type": "code",
   "execution_count": 72,
   "metadata": {},
   "outputs": [
    {
     "name": "stdout",
     "output_type": "stream",
     "text": [
      "VotingRegressor(estimators=[('rf',\n",
      "                             RandomForestRegressor(bootstrap=True,\n",
      "                                                   criterion='mse',\n",
      "                                                   max_depth=None,\n",
      "                                                   max_features=10,\n",
      "                                                   max_leaf_nodes=None,\n",
      "                                                   min_impurity_decrease=0.0,\n",
      "                                                   min_impurity_split=None,\n",
      "                                                   min_samples_leaf=1,\n",
      "                                                   min_samples_split=2,\n",
      "                                                   min_weight_fraction_leaf=0.0,\n",
      "                                                   n_estimators=300,\n",
      "                                                   n_jobs=None, oob_score=False,\n",
      "                                                   random_state=42, verbose=0,\n",
      "                                                   warm_start=False)),\n",
      "                            ('xgb',\n",
      "                             XGBRegressor(base_score=0.5, booster='gbtree',\n",
      "                                          colsample_bylevel=1,\n",
      "                                          colsample_bytree=1, gamma=0,\n",
      "                                          learning_rate=0.01, max_delta_step=0,\n",
      "                                          max_depth=1, min_child_weight=1,\n",
      "                                          missing=None, n_estimators=100,\n",
      "                                          n_jobs=1, nthread=None,\n",
      "                                          objective='reg:linear',\n",
      "                                          random_state=42, reg_alpha=0,\n",
      "                                          reg_lambda=1, scale_pos_weight=1,\n",
      "                                          seed=None, silent=True,\n",
      "                                          subsample=1))],\n",
      "                n_jobs=None, weights=None)\n"
     ]
    },
    {
     "data": {
      "text/plain": [
       "['./빅콘테스트/model/version2/voting_amount_non_class_sub_reg_version2.pkl']"
      ]
     },
     "execution_count": 72,
     "metadata": {},
     "output_type": "execute_result"
    }
   ],
   "source": [
    "voting_amount_non_class_sub_reg.fit(train_non_class_sub.iloc[:, 1:-4], train_non_class_sub['survival_time'])\n",
    "print(voting_amount_non_class_sub_reg)\n",
    "joblib.dump(voting_amount_non_class_sub_reg, './빅콘테스트/model/version2/voting_amount_non_class_sub_reg_version2.pkl')"
   ]
  },
  {
   "cell_type": "markdown",
   "metadata": {},
   "source": [
    "# 플레이 시간 변동"
   ]
  },
  {
   "cell_type": "code",
   "execution_count": 510,
   "metadata": {},
   "outputs": [],
   "source": [
    "X_train_fluctuation = pd.read_csv('X_train_ver2_fluctuation.csv')\n",
    "X_test_fluctuation = pd.read_csv('X_test_ver2_fluctuation.csv')\n",
    "y_train = pd.read_csv('/home/user3/anaconda3/빅콘테스트/train_label.csv', engine = 'python')"
   ]
  },
  {
   "cell_type": "code",
   "execution_count": 511,
   "metadata": {},
   "outputs": [
    {
     "name": "stderr",
     "output_type": "stream",
     "text": [
      "/home/user3/.conda/envs/hun/lib/python3.6/site-packages/ipykernel_launcher.py:2: SettingWithCopyWarning: \n",
      "A value is trying to be set on a copy of a slice from a DataFrame\n",
      "\n",
      "See the caveats in the documentation: http://pandas.pydata.org/pandas-docs/stable/indexing.html#indexing-view-versus-copy\n",
      "  \n"
     ]
    }
   ],
   "source": [
    "y_train['leave'] = 0\n",
    "y_train['leave'][y_train.survival_time < 64] = 1"
   ]
  },
  {
   "cell_type": "code",
   "execution_count": 512,
   "metadata": {},
   "outputs": [
    {
     "name": "stderr",
     "output_type": "stream",
     "text": [
      "/home/user3/.conda/envs/hun/lib/python3.6/site-packages/ipykernel_launcher.py:2: SettingWithCopyWarning: \n",
      "A value is trying to be set on a copy of a slice from a DataFrame\n",
      "\n",
      "See the caveats in the documentation: http://pandas.pydata.org/pandas-docs/stable/indexing.html#indexing-view-versus-copy\n",
      "  \n"
     ]
    }
   ],
   "source": [
    "y_train['amount'] = 0\n",
    "y_train['amount'][y_train.amount_spent > 0] = 1"
   ]
  },
  {
   "cell_type": "code",
   "execution_count": 513,
   "metadata": {},
   "outputs": [],
   "source": [
    "from sklearn.model_selection import StratifiedShuffleSplit\n",
    "\n",
    "split = StratifiedShuffleSplit(n_splits = 1, test_size = 0.25, random_state = 42)\n",
    "for train_index, test_index in split.split(y_train, y_train['leave']):\n",
    "    strat_y_train = y_train.loc[train_index]\n",
    "    strat_y_test = y_train.loc[test_index]"
   ]
  },
  {
   "cell_type": "code",
   "execution_count": 514,
   "metadata": {},
   "outputs": [
    {
     "data": {
      "text/plain": [
       "(30000, 10000)"
      ]
     },
     "execution_count": 514,
     "metadata": {},
     "output_type": "execute_result"
    }
   ],
   "source": [
    "len(strat_y_train), len(strat_y_test)"
   ]
  },
  {
   "cell_type": "code",
   "execution_count": 515,
   "metadata": {},
   "outputs": [
    {
     "data": {
      "text/plain": [
       "(0.4501, 0.4501)"
      ]
     },
     "execution_count": 515,
     "metadata": {},
     "output_type": "execute_result"
    }
   ],
   "source": [
    "strat_y_train['leave'].mean(), strat_y_test['leave'].mean()"
   ]
  },
  {
   "cell_type": "code",
   "execution_count": 516,
   "metadata": {},
   "outputs": [],
   "source": [
    "y_train = strat_y_train.sort_values(['acc_id'], ascending = True)\n",
    "y_test = strat_y_test.sort_values(['acc_id'], ascending = True)"
   ]
  },
  {
   "cell_type": "code",
   "execution_count": 517,
   "metadata": {},
   "outputs": [],
   "source": [
    "train_fluctuation = pd.merge(X_train_fluctuation, y_train, how = 'left', on = 'acc_id')\n",
    "test_fluctuation = pd.merge(X_test_fluctuation, y_test, how = 'left', on = 'acc_id')"
   ]
  },
  {
   "cell_type": "code",
   "execution_count": 518,
   "metadata": {},
   "outputs": [],
   "source": [
    "train_fluctuation_leave = train_fluctuation[train_fluctuation['leave'] == 1]\n",
    "train_fluctuation_sub = train_fluctuation[(train_fluctuation['leave'] == 1) & (train_fluctuation['amount'] == 1)]"
   ]
  },
  {
   "cell_type": "markdown",
   "metadata": {},
   "source": [
    "## 추가 생존 기간"
   ]
  },
  {
   "cell_type": "markdown",
   "metadata": {},
   "source": [
    "### RandomForest"
   ]
  },
  {
   "cell_type": "code",
   "execution_count": 519,
   "metadata": {},
   "outputs": [
    {
     "name": "stdout",
     "output_type": "stream",
     "text": [
      "Fitting 5 folds for each of 12 candidates, totalling 60 fits\n"
     ]
    },
    {
     "name": "stderr",
     "output_type": "stream",
     "text": [
      "[Parallel(n_jobs=-1)]: Using backend LokyBackend with 32 concurrent workers.\n",
      "[Parallel(n_jobs=-1)]: Done  28 out of  60 | elapsed:  2.0min remaining:  2.3min\n",
      "[Parallel(n_jobs=-1)]: Done  60 out of  60 | elapsed:  3.2min finished\n"
     ]
    },
    {
     "data": {
      "text/plain": [
       "GridSearchCV(cv=5, error_score='raise-deprecating',\n",
       "             estimator=RandomForestRegressor(bootstrap=True, criterion='mse',\n",
       "                                             max_depth=None,\n",
       "                                             max_features='auto',\n",
       "                                             max_leaf_nodes=None,\n",
       "                                             min_impurity_decrease=0.0,\n",
       "                                             min_impurity_split=None,\n",
       "                                             min_samples_leaf=1,\n",
       "                                             min_samples_split=2,\n",
       "                                             min_weight_fraction_leaf=0.0,\n",
       "                                             n_estimators='warn', n_jobs=None,\n",
       "                                             oob_score=False, random_state=42,\n",
       "                                             verbose=0, warm_start=False),\n",
       "             iid='warn', n_jobs=-1,\n",
       "             param_grid=[{'max_features': [12, 13, 14, 15],\n",
       "                          'n_estimators': [300, 500, 750]}],\n",
       "             pre_dispatch='2*n_jobs', refit=True, return_train_score=False,\n",
       "             scoring='neg_mean_squared_error', verbose=2)"
      ]
     },
     "execution_count": 519,
     "metadata": {},
     "output_type": "execute_result"
    }
   ],
   "source": [
    "from sklearn.model_selection import GridSearchCV\n",
    "from sklearn.ensemble import RandomForestRegressor\n",
    "\n",
    "rf = RandomForestRegressor(random_state=42)\n",
    "\n",
    "# 12, 13, 14, 15\n",
    "param_grid = [\n",
    "    {'n_estimators' : [300, 500, 750], 'max_features' : [12, 13, 14, 15]}\n",
    "  ]\n",
    "\n",
    "grid_search = GridSearchCV(rf, param_grid, cv = 5,\n",
    "                           scoring = 'neg_mean_squared_error', verbose = 2, n_jobs = -1)\n",
    "\n",
    "grid_search.fit(train_fluctuation_leave.iloc[:, 1:-4], train_fluctuation_leave['survival_time'])"
   ]
  },
  {
   "cell_type": "code",
   "execution_count": 520,
   "metadata": {},
   "outputs": [
    {
     "name": "stdout",
     "output_type": "stream",
     "text": [
      "-202.65353874334156\n",
      "{'max_features': 14, 'n_estimators': 750}\n"
     ]
    }
   ],
   "source": [
    "print(grid_search.best_score_)\n",
    "print(grid_search.best_params_)"
   ]
  },
  {
   "cell_type": "code",
   "execution_count": 521,
   "metadata": {},
   "outputs": [
    {
     "name": "stdout",
     "output_type": "stream",
     "text": [
      "RandomForestRegressor(bootstrap=True, criterion='mse', max_depth=None,\n",
      "                      max_features=14, max_leaf_nodes=None,\n",
      "                      min_impurity_decrease=0.0, min_impurity_split=None,\n",
      "                      min_samples_leaf=1, min_samples_split=2,\n",
      "                      min_weight_fraction_leaf=0.0, n_estimators=750,\n",
      "                      n_jobs=None, oob_score=False, random_state=42, verbose=0,\n",
      "                      warm_start=False)\n"
     ]
    },
    {
     "data": {
      "text/plain": [
       "['./빅콘테스트/model/version2/rf_leave_fluctuation_reg_version2.pkl']"
      ]
     },
     "execution_count": 521,
     "metadata": {},
     "output_type": "execute_result"
    }
   ],
   "source": [
    "from sklearn.externals import joblib\n",
    "\n",
    "# rf_leave_fluctuation_reg = RandomForestClassifier(random_state = 42, max_features = 14, n_estimators = 750)\n",
    "# rf_leave_fluctuation_reg.fit(train_fluctuation_leave.iloc[:, 1:-4], train_fluctuation_leave['survival_time'])\n",
    "rf_leave_fluctuation_reg = grid_search.best_estimator_\n",
    "print(rf_leave_fluctuation_reg)\n",
    "joblib.dump(rf_leave_fluctuation_reg, './빅콘테스트/model/version2/rf_leave_fluctuation_reg_version2.pkl')"
   ]
  },
  {
   "cell_type": "markdown",
   "metadata": {},
   "source": [
    "### XGBoost"
   ]
  },
  {
   "cell_type": "code",
   "execution_count": 522,
   "metadata": {},
   "outputs": [
    {
     "name": "stdout",
     "output_type": "stream",
     "text": [
      "Fitting 5 folds for each of 48 candidates, totalling 240 fits\n"
     ]
    },
    {
     "name": "stderr",
     "output_type": "stream",
     "text": [
      "[Parallel(n_jobs=-1)]: Using backend LokyBackend with 32 concurrent workers.\n",
      "[Parallel(n_jobs=-1)]: Done  98 tasks      | elapsed:  1.1min\n",
      "[Parallel(n_jobs=-1)]: Done 240 out of 240 | elapsed:  2.3min finished\n"
     ]
    },
    {
     "data": {
      "text/plain": [
       "GridSearchCV(cv=5, error_score='raise-deprecating',\n",
       "             estimator=XGBRegressor(base_score=0.5, booster='gbtree',\n",
       "                                    colsample_bylevel=1, colsample_bytree=1,\n",
       "                                    gamma=0, learning_rate=0.1,\n",
       "                                    max_delta_step=0, max_depth=3,\n",
       "                                    min_child_weight=1, missing=None,\n",
       "                                    n_estimators=100, n_jobs=1, nthread=None,\n",
       "                                    objective='reg:linear', random_state=42,\n",
       "                                    reg_alpha=0, reg_lambda=1,\n",
       "                                    scale_pos_weight=1, seed=None, silent=True,\n",
       "                                    subsample=1),\n",
       "             iid='warn', n_jobs=-1,\n",
       "             param_grid=[{'gamma': [0, 1, 3, 5],\n",
       "                          'learning_rate': [0.001, 0.01, 0.1],\n",
       "                          'max_depth': [9, 10, 11, 12]}],\n",
       "             pre_dispatch='2*n_jobs', refit=True, return_train_score=False,\n",
       "             scoring='neg_mean_squared_error', verbose=2)"
      ]
     },
     "execution_count": 522,
     "metadata": {},
     "output_type": "execute_result"
    }
   ],
   "source": [
    "from xgboost import XGBRegressor\n",
    "\n",
    "xgb = XGBRegressor(random_state=42)\n",
    "\n",
    "# 9, 10, 11, 12\n",
    "param_grid = [\n",
    "    {'learning_rate' : [0.001, 0.01, 0.1], 'max_depth' : [9, 10, 11, 12], 'gamma' : [0, 1, 3, 5]}\n",
    "  ]\n",
    "\n",
    "grid_search = GridSearchCV(xgb, param_grid, cv = 5,\n",
    "                           scoring = 'neg_mean_squared_error', verbose = 2, n_jobs = -1)\n",
    "\n",
    "grid_search.fit(train_fluctuation_leave.iloc[:, 1:-4], train_fluctuation_leave['survival_time'])"
   ]
  },
  {
   "cell_type": "code",
   "execution_count": 523,
   "metadata": {},
   "outputs": [
    {
     "name": "stdout",
     "output_type": "stream",
     "text": [
      "-211.56103242840211\n",
      "{'gamma': 0, 'learning_rate': 0.1, 'max_depth': 9}\n"
     ]
    }
   ],
   "source": [
    "print(grid_search.best_score_)\n",
    "print(grid_search.best_params_)"
   ]
  },
  {
   "cell_type": "code",
   "execution_count": 524,
   "metadata": {},
   "outputs": [
    {
     "name": "stdout",
     "output_type": "stream",
     "text": [
      "XGBRegressor(base_score=0.5, booster='gbtree', colsample_bylevel=1,\n",
      "             colsample_bytree=1, gamma=0, learning_rate=0.1, max_delta_step=0,\n",
      "             max_depth=9, min_child_weight=1, missing=None, n_estimators=100,\n",
      "             n_jobs=1, nthread=None, objective='reg:linear', random_state=42,\n",
      "             reg_alpha=0, reg_lambda=1, scale_pos_weight=1, seed=None,\n",
      "             silent=True, subsample=1)\n"
     ]
    },
    {
     "data": {
      "text/plain": [
       "['./빅콘테스트/model/version2/xgb_leave_fluctuation_reg_version2.pkl']"
      ]
     },
     "execution_count": 524,
     "metadata": {},
     "output_type": "execute_result"
    }
   ],
   "source": [
    "# xgb_leave_fluctuation_reg = XGBClassifier(random_state = 42, learning_rate = 0.1, gamma = 0, max_depth = 9)\n",
    "# xgb_leave_fluctuation_reg.fit(train_fluctuation_leave.iloc[:, 1:-4], train_fluctuation_leave['survival_time'])\n",
    "\n",
    "xgb_leave_fluctuation_reg = grid_search.best_estimator_\n",
    "print(xgb_leave_fluctuation_reg)\n",
    "joblib.dump(xgb_leave_fluctuation_reg, './빅콘테스트/model/version2/xgb_leave_fluctuation_reg_version2.pkl')"
   ]
  },
  {
   "cell_type": "markdown",
   "metadata": {},
   "source": [
    "### Ensemble"
   ]
  },
  {
   "cell_type": "code",
   "execution_count": 525,
   "metadata": {},
   "outputs": [
    {
     "data": {
      "text/plain": [
       "-203.67826900395812"
      ]
     },
     "execution_count": 525,
     "metadata": {},
     "output_type": "execute_result"
    }
   ],
   "source": [
    "from sklearn.ensemble import VotingRegressor\n",
    "from sklearn.model_selection import cross_val_score\n",
    "\n",
    "voting_leave_fluctuation_reg = VotingRegressor(\n",
    "    estimators=[('rf', rf_leave_fluctuation_reg), ('xgb', xgb_leave_fluctuation_reg)])\n",
    "\n",
    "cv_value = cross_val_score(voting_leave_fluctuation_reg, train_fluctuation_leave.iloc[:, 1:-4],\n",
    "                           train_fluctuation_leave['survival_time'], cv = 5,\n",
    "                           scoring = \"neg_mean_squared_error\")\n",
    "\n",
    "np.mean(cv_value)"
   ]
  },
  {
   "cell_type": "code",
   "execution_count": 526,
   "metadata": {},
   "outputs": [
    {
     "name": "stdout",
     "output_type": "stream",
     "text": [
      "VotingRegressor(estimators=[('rf',\n",
      "                             RandomForestRegressor(bootstrap=True,\n",
      "                                                   criterion='mse',\n",
      "                                                   max_depth=None,\n",
      "                                                   max_features=14,\n",
      "                                                   max_leaf_nodes=None,\n",
      "                                                   min_impurity_decrease=0.0,\n",
      "                                                   min_impurity_split=None,\n",
      "                                                   min_samples_leaf=1,\n",
      "                                                   min_samples_split=2,\n",
      "                                                   min_weight_fraction_leaf=0.0,\n",
      "                                                   n_estimators=750,\n",
      "                                                   n_jobs=None, oob_score=False,\n",
      "                                                   random_state=42, verbose=0,\n",
      "                                                   warm_start=False)),\n",
      "                            ('xgb',\n",
      "                             XGBRegressor(base_score=0.5, booster='gbtree',\n",
      "                                          colsample_bylevel=1,\n",
      "                                          colsample_bytree=1, gamma=0,\n",
      "                                          learning_rate=0.1, max_delta_step=0,\n",
      "                                          max_depth=9, min_child_weight=1,\n",
      "                                          missing=None, n_estimators=100,\n",
      "                                          n_jobs=1, nthread=None,\n",
      "                                          objective='reg:linear',\n",
      "                                          random_state=42, reg_alpha=0,\n",
      "                                          reg_lambda=1, scale_pos_weight=1,\n",
      "                                          seed=None, silent=True,\n",
      "                                          subsample=1))],\n",
      "                n_jobs=None, weights=None)\n"
     ]
    },
    {
     "data": {
      "text/plain": [
       "['./빅콘테스트/model/version2/voting_leave_fluctuation_reg_version2.pkl']"
      ]
     },
     "execution_count": 526,
     "metadata": {},
     "output_type": "execute_result"
    }
   ],
   "source": [
    "voting_leave_fluctuation_reg.fit(train_fluctuation_leave.iloc[:, 1:-4], train_fluctuation_leave['survival_time'])\n",
    "print(voting_leave_fluctuation_reg)\n",
    "joblib.dump(voting_leave_fluctuation_reg, './빅콘테스트/model/version2/voting_leave_fluctuation_reg_version2.pkl')"
   ]
  },
  {
   "cell_type": "markdown",
   "metadata": {},
   "source": [
    "## 일 평균 결제 금액"
   ]
  },
  {
   "cell_type": "markdown",
   "metadata": {},
   "source": [
    "### RandomForest"
   ]
  },
  {
   "cell_type": "code",
   "execution_count": 527,
   "metadata": {},
   "outputs": [
    {
     "name": "stdout",
     "output_type": "stream",
     "text": [
      "Fitting 5 folds for each of 12 candidates, totalling 60 fits\n"
     ]
    },
    {
     "name": "stderr",
     "output_type": "stream",
     "text": [
      "[Parallel(n_jobs=-1)]: Using backend LokyBackend with 32 concurrent workers.\n",
      "[Parallel(n_jobs=-1)]: Done  28 out of  60 | elapsed:   35.3s remaining:   40.4s\n",
      "[Parallel(n_jobs=-1)]: Done  60 out of  60 | elapsed:   54.6s finished\n"
     ]
    },
    {
     "data": {
      "text/plain": [
       "GridSearchCV(cv=5, error_score='raise-deprecating',\n",
       "             estimator=RandomForestRegressor(bootstrap=True, criterion='mse',\n",
       "                                             max_depth=None,\n",
       "                                             max_features='auto',\n",
       "                                             max_leaf_nodes=None,\n",
       "                                             min_impurity_decrease=0.0,\n",
       "                                             min_impurity_split=None,\n",
       "                                             min_samples_leaf=1,\n",
       "                                             min_samples_split=2,\n",
       "                                             min_weight_fraction_leaf=0.0,\n",
       "                                             n_estimators='warn', n_jobs=None,\n",
       "                                             oob_score=False, random_state=42,\n",
       "                                             verbose=0, warm_start=False),\n",
       "             iid='warn', n_jobs=-1,\n",
       "             param_grid=[{'max_features': [8, 9, 10, 11],\n",
       "                          'n_estimators': [300, 500, 750]}],\n",
       "             pre_dispatch='2*n_jobs', refit=True, return_train_score=False,\n",
       "             scoring='neg_mean_squared_error', verbose=2)"
      ]
     },
     "execution_count": 527,
     "metadata": {},
     "output_type": "execute_result"
    }
   ],
   "source": [
    "from sklearn.model_selection import GridSearchCV\n",
    "from sklearn.ensemble import RandomForestRegressor\n",
    "\n",
    "rf = RandomForestRegressor(random_state=42)\n",
    "\n",
    "param_grid = [\n",
    "    {'n_estimators' : [300, 500, 750], 'max_features' : [8, 9, 10, 11]}\n",
    "  ]\n",
    "\n",
    "grid_search = GridSearchCV(rf, param_grid, cv = 5,\n",
    "                           scoring = 'neg_mean_squared_error', verbose = 2, n_jobs = -1)\n",
    "\n",
    "grid_search.fit(train_fluctuation_sub.iloc[:, 1:-4], train_fluctuation_sub['amount_spent'])"
   ]
  },
  {
   "cell_type": "code",
   "execution_count": 528,
   "metadata": {},
   "outputs": [
    {
     "name": "stdout",
     "output_type": "stream",
     "text": [
      "-1.9092445241882556\n",
      "{'max_features': 9, 'n_estimators': 300}\n"
     ]
    }
   ],
   "source": [
    "print(grid_search.best_score_)\n",
    "print(grid_search.best_params_)"
   ]
  },
  {
   "cell_type": "code",
   "execution_count": 529,
   "metadata": {},
   "outputs": [
    {
     "name": "stdout",
     "output_type": "stream",
     "text": [
      "RandomForestRegressor(bootstrap=True, criterion='mse', max_depth=None,\n",
      "                      max_features=9, max_leaf_nodes=None,\n",
      "                      min_impurity_decrease=0.0, min_impurity_split=None,\n",
      "                      min_samples_leaf=1, min_samples_split=2,\n",
      "                      min_weight_fraction_leaf=0.0, n_estimators=300,\n",
      "                      n_jobs=None, oob_score=False, random_state=42, verbose=0,\n",
      "                      warm_start=False)\n"
     ]
    },
    {
     "data": {
      "text/plain": [
       "['./빅콘테스트/model/version2/rf_amount_fluctuation_sub_reg_version2.pkl']"
      ]
     },
     "execution_count": 529,
     "metadata": {},
     "output_type": "execute_result"
    }
   ],
   "source": [
    "from sklearn.externals import joblib\n",
    "\n",
    "# rf_amount_fluctuation_sub_reg = RandomForestClassifier(random_state = 42, max_features = 9, n_estimators = 300)\n",
    "# rf_amount_fluctuation_sub_reg.fit(train_fluctuation_sub.iloc[:, 1:-4], train_fluctuation_sub['amount_spent'])\n",
    "rf_amount_fluctuation_sub_reg = grid_search.best_estimator_\n",
    "print(rf_amount_fluctuation_sub_reg)\n",
    "joblib.dump(rf_amount_fluctuation_sub_reg, './빅콘테스트/model/version2/rf_amount_fluctuation_sub_reg_version2.pkl')"
   ]
  },
  {
   "cell_type": "markdown",
   "metadata": {},
   "source": [
    "### XGBoost"
   ]
  },
  {
   "cell_type": "code",
   "execution_count": 530,
   "metadata": {},
   "outputs": [
    {
     "name": "stdout",
     "output_type": "stream",
     "text": [
      "Fitting 5 folds for each of 48 candidates, totalling 240 fits\n"
     ]
    },
    {
     "name": "stderr",
     "output_type": "stream",
     "text": [
      "[Parallel(n_jobs=-1)]: Using backend LokyBackend with 32 concurrent workers.\n",
      "[Parallel(n_jobs=-1)]: Done  98 tasks      | elapsed:    7.3s\n",
      "[Parallel(n_jobs=-1)]: Done 240 out of 240 | elapsed:   16.5s finished\n"
     ]
    },
    {
     "data": {
      "text/plain": [
       "GridSearchCV(cv=5, error_score='raise-deprecating',\n",
       "             estimator=XGBRegressor(base_score=0.5, booster='gbtree',\n",
       "                                    colsample_bylevel=1, colsample_bytree=1,\n",
       "                                    gamma=0, learning_rate=0.1,\n",
       "                                    max_delta_step=0, max_depth=3,\n",
       "                                    min_child_weight=1, missing=None,\n",
       "                                    n_estimators=100, n_jobs=1, nthread=None,\n",
       "                                    objective='reg:linear', random_state=42,\n",
       "                                    reg_alpha=0, reg_lambda=1,\n",
       "                                    scale_pos_weight=1, seed=None, silent=True,\n",
       "                                    subsample=1),\n",
       "             iid='warn', n_jobs=-1,\n",
       "             param_grid=[{'gamma': [0, 1, 3, 10],\n",
       "                          'learning_rate': [0.001, 0.01, 0.1],\n",
       "                          'max_depth': [1, 2, 3, 4]}],\n",
       "             pre_dispatch='2*n_jobs', refit=True, return_train_score=False,\n",
       "             scoring='neg_mean_squared_error', verbose=2)"
      ]
     },
     "execution_count": 530,
     "metadata": {},
     "output_type": "execute_result"
    }
   ],
   "source": [
    "from xgboost import XGBRegressor\n",
    "\n",
    "xgb = XGBRegressor(random_state=42)\n",
    "\n",
    "param_grid = [\n",
    "    {'learning_rate' : [0.001, 0.01, 0.1], 'max_depth' : [1, 2, 3, 4], 'gamma' : [0, 1, 3, 10]}\n",
    "  ]\n",
    "\n",
    "grid_search = GridSearchCV(xgb, param_grid, cv = 5,\n",
    "                           scoring = 'neg_mean_squared_error', verbose = 2, n_jobs = -1)\n",
    "\n",
    "grid_search.fit(train_fluctuation_sub.iloc[:, 1:-4], train_fluctuation_sub['amount_spent'])"
   ]
  },
  {
   "cell_type": "code",
   "execution_count": 531,
   "metadata": {},
   "outputs": [
    {
     "name": "stdout",
     "output_type": "stream",
     "text": [
      "-1.9869484252715186\n",
      "{'gamma': 0, 'learning_rate': 0.01, 'max_depth': 1}\n"
     ]
    }
   ],
   "source": [
    "print(grid_search.best_score_)\n",
    "print(grid_search.best_params_)"
   ]
  },
  {
   "cell_type": "code",
   "execution_count": 532,
   "metadata": {},
   "outputs": [
    {
     "name": "stdout",
     "output_type": "stream",
     "text": [
      "XGBRegressor(base_score=0.5, booster='gbtree', colsample_bylevel=1,\n",
      "             colsample_bytree=1, gamma=0, learning_rate=0.01, max_delta_step=0,\n",
      "             max_depth=1, min_child_weight=1, missing=None, n_estimators=100,\n",
      "             n_jobs=1, nthread=None, objective='reg:linear', random_state=42,\n",
      "             reg_alpha=0, reg_lambda=1, scale_pos_weight=1, seed=None,\n",
      "             silent=True, subsample=1)\n"
     ]
    },
    {
     "data": {
      "text/plain": [
       "['./빅콘테스트/model/version2/xgb_amount_fluctuation_sub_reg_version2.pkl']"
      ]
     },
     "execution_count": 532,
     "metadata": {},
     "output_type": "execute_result"
    }
   ],
   "source": [
    "from sklearn.externals import joblib\n",
    "\n",
    "# xgb_amount_fluctuation_sub_reg = XGBClassifier(random_state = 42, learning_rate = 0.01, gamma = 0, max_depth = 1)\n",
    "# xgb_amount_fluctuation_sub_reg.fit(train_fluctuation_sub.iloc[:, 1:-4], train_fluctuation_sub['amount_spent'])\n",
    "xgb_amount_fluctuation_sub_reg = grid_search.best_estimator_\n",
    "print(xgb_amount_fluctuation_sub_reg)\n",
    "joblib.dump(xgb_amount_fluctuation_sub_reg, './빅콘테스트/model/version2/xgb_amount_fluctuation_sub_reg_version2.pkl')"
   ]
  },
  {
   "cell_type": "markdown",
   "metadata": {},
   "source": [
    "### Ensemble"
   ]
  },
  {
   "cell_type": "code",
   "execution_count": 533,
   "metadata": {},
   "outputs": [
    {
     "data": {
      "text/plain": [
       "-1.9063391581715519"
      ]
     },
     "execution_count": 533,
     "metadata": {},
     "output_type": "execute_result"
    }
   ],
   "source": [
    "from sklearn.ensemble import VotingRegressor\n",
    "from sklearn.model_selection import cross_val_score\n",
    "\n",
    "voting_amount_fluctuation_sub_reg = VotingRegressor(\n",
    "    estimators=[('rf', rf_amount_fluctuation_sub_reg), ('xgb', xgb_amount_fluctuation_sub_reg)])\n",
    "\n",
    "cv_value = cross_val_score(voting_amount_fluctuation_sub_reg, train_fluctuation_sub.iloc[:, 1:-4],\n",
    "                           train_fluctuation_sub['amount_spent'], cv = 5,\n",
    "                           scoring = \"neg_mean_squared_error\")\n",
    "\n",
    "np.mean(cv_value)"
   ]
  },
  {
   "cell_type": "code",
   "execution_count": 534,
   "metadata": {},
   "outputs": [
    {
     "name": "stdout",
     "output_type": "stream",
     "text": [
      "VotingRegressor(estimators=[('rf',\n",
      "                             RandomForestRegressor(bootstrap=True,\n",
      "                                                   criterion='mse',\n",
      "                                                   max_depth=None,\n",
      "                                                   max_features=9,\n",
      "                                                   max_leaf_nodes=None,\n",
      "                                                   min_impurity_decrease=0.0,\n",
      "                                                   min_impurity_split=None,\n",
      "                                                   min_samples_leaf=1,\n",
      "                                                   min_samples_split=2,\n",
      "                                                   min_weight_fraction_leaf=0.0,\n",
      "                                                   n_estimators=300,\n",
      "                                                   n_jobs=None, oob_score=False,\n",
      "                                                   random_state=42, verbose=0,\n",
      "                                                   warm_start=False)),\n",
      "                            ('xgb',\n",
      "                             XGBRegressor(base_score=0.5, booster='gbtree',\n",
      "                                          colsample_bylevel=1,\n",
      "                                          colsample_bytree=1, gamma=0,\n",
      "                                          learning_rate=0.01, max_delta_step=0,\n",
      "                                          max_depth=1, min_child_weight=1,\n",
      "                                          missing=None, n_estimators=100,\n",
      "                                          n_jobs=1, nthread=None,\n",
      "                                          objective='reg:linear',\n",
      "                                          random_state=42, reg_alpha=0,\n",
      "                                          reg_lambda=1, scale_pos_weight=1,\n",
      "                                          seed=None, silent=True,\n",
      "                                          subsample=1))],\n",
      "                n_jobs=None, weights=None)\n"
     ]
    },
    {
     "data": {
      "text/plain": [
       "['./빅콘테스트/model/version2/voting_amount_fluctuation_sub_reg_version2.pkl']"
      ]
     },
     "execution_count": 534,
     "metadata": {},
     "output_type": "execute_result"
    }
   ],
   "source": [
    "voting_amount_fluctuation_sub_reg.fit(train_fluctuation_sub.iloc[:, 1:-4], train_fluctuation_sub['amount_spent'])\n",
    "print(voting_amount_fluctuation_sub_reg)\n",
    "joblib.dump(voting_amount_fluctuation_sub_reg, './빅콘테스트/model/version2/voting_amount_fluctuation_sub_reg_version2.pkl')"
   ]
  },
  {
   "cell_type": "markdown",
   "metadata": {},
   "source": [
    "# 교차검증 X"
   ]
  },
  {
   "cell_type": "code",
   "execution_count": 559,
   "metadata": {},
   "outputs": [],
   "source": [
    "X_train_fluctuation = pd.read_csv('X_train_ver2_fluctuation.csv')\n",
    "X_test_fluctuation = pd.read_csv('X_test_ver2_fluctuation.csv')\n",
    "y_train = pd.read_csv('/home/user3/anaconda3/빅콘테스트/train_label.csv', engine = 'python')"
   ]
  },
  {
   "cell_type": "code",
   "execution_count": 560,
   "metadata": {},
   "outputs": [
    {
     "name": "stderr",
     "output_type": "stream",
     "text": [
      "/home/user3/.conda/envs/hun/lib/python3.6/site-packages/ipykernel_launcher.py:2: SettingWithCopyWarning: \n",
      "A value is trying to be set on a copy of a slice from a DataFrame\n",
      "\n",
      "See the caveats in the documentation: http://pandas.pydata.org/pandas-docs/stable/indexing.html#indexing-view-versus-copy\n",
      "  \n"
     ]
    }
   ],
   "source": [
    "y_train['leave'] = 0\n",
    "y_train['leave'][y_train.survival_time < 64] = 1"
   ]
  },
  {
   "cell_type": "code",
   "execution_count": 561,
   "metadata": {},
   "outputs": [
    {
     "name": "stderr",
     "output_type": "stream",
     "text": [
      "/home/user3/.conda/envs/hun/lib/python3.6/site-packages/ipykernel_launcher.py:2: SettingWithCopyWarning: \n",
      "A value is trying to be set on a copy of a slice from a DataFrame\n",
      "\n",
      "See the caveats in the documentation: http://pandas.pydata.org/pandas-docs/stable/indexing.html#indexing-view-versus-copy\n",
      "  \n"
     ]
    }
   ],
   "source": [
    "y_train['amount'] = 0\n",
    "y_train['amount'][y_train.amount_spent > 0] = 1"
   ]
  },
  {
   "cell_type": "code",
   "execution_count": 562,
   "metadata": {},
   "outputs": [],
   "source": [
    "from sklearn.model_selection import StratifiedShuffleSplit\n",
    "\n",
    "split = StratifiedShuffleSplit(n_splits = 1, test_size = 0.25, random_state = 42)\n",
    "for train_index, test_index in split.split(y_train, y_train['leave']):\n",
    "    strat_y_train = y_train.loc[train_index]\n",
    "    strat_y_test = y_train.loc[test_index]"
   ]
  },
  {
   "cell_type": "code",
   "execution_count": 563,
   "metadata": {},
   "outputs": [
    {
     "data": {
      "text/plain": [
       "(30000, 10000)"
      ]
     },
     "execution_count": 563,
     "metadata": {},
     "output_type": "execute_result"
    }
   ],
   "source": [
    "len(strat_y_train), len(strat_y_test)"
   ]
  },
  {
   "cell_type": "code",
   "execution_count": 564,
   "metadata": {},
   "outputs": [
    {
     "data": {
      "text/plain": [
       "(0.4501, 0.4501)"
      ]
     },
     "execution_count": 564,
     "metadata": {},
     "output_type": "execute_result"
    }
   ],
   "source": [
    "strat_y_train['leave'].mean(), strat_y_test['leave'].mean()"
   ]
  },
  {
   "cell_type": "code",
   "execution_count": 596,
   "metadata": {},
   "outputs": [],
   "source": [
    "y_train = strat_y_train.sort_values(['acc_id'], ascending = True)\n",
    "y_test = strat_y_test.sort_values(['acc_id'], ascending = True)"
   ]
  },
  {
   "cell_type": "code",
   "execution_count": 597,
   "metadata": {},
   "outputs": [],
   "source": [
    "train_fluctuation = pd.merge(X_train_fluctuation, y_train, how = 'left', on = 'acc_id')\n",
    "test_fluctuation = pd.merge(X_test_fluctuation, y_test, how = 'left', on = 'acc_id')"
   ]
  },
  {
   "cell_type": "code",
   "execution_count": 598,
   "metadata": {},
   "outputs": [],
   "source": [
    "train_fluctuation_leave = train_fluctuation[train_fluctuation['leave'] == 1]\n",
    "train_fluctuation_sub = train_fluctuation[(train_fluctuation['leave'] == 1) & (train_fluctuation['amount'] == 1)]"
   ]
  },
  {
   "cell_type": "markdown",
   "metadata": {},
   "source": [
    "## 추가 생존 기간"
   ]
  },
  {
   "cell_type": "code",
   "execution_count": 568,
   "metadata": {},
   "outputs": [
    {
     "data": {
      "text/plain": [
       "['./빅콘테스트/model/version2/rf_leave_fluctuation_reg_version2.pkl']"
      ]
     },
     "execution_count": 568,
     "metadata": {},
     "output_type": "execute_result"
    }
   ],
   "source": [
    "from sklearn.ensemble import RandomForestRegressor\n",
    "from sklearn.externals import joblib\n",
    "\n",
    "rf_leave_fluctuation_reg = RandomForestRegressor(random_state = 42, max_features = 14, n_estimators = 750)\n",
    "rf_leave_fluctuation_reg.fit(train_fluctuation_leave.iloc[:, 1:-4], train_fluctuation_leave['survival_time'])\n",
    "joblib.dump(rf_leave_fluctuation_reg, './빅콘테스트/model/version2/rf_leave_fluctuation_reg_version2.pkl')"
   ]
  },
  {
   "cell_type": "code",
   "execution_count": 664,
   "metadata": {},
   "outputs": [
    {
     "data": {
      "text/plain": [
       "['./빅콘테스트/model/version2/xgb_leave_fluctuation_reg_version2.pkl']"
      ]
     },
     "execution_count": 664,
     "metadata": {},
     "output_type": "execute_result"
    }
   ],
   "source": [
    "from xgboost import XGBRegressor\n",
    "from sklearn.externals import joblib\n",
    "\n",
    "xgb_leave_fluctuation_reg = XGBRegressor(random_state = 42, learning_rate = 0.1, gamma = 0, max_depth = 9)\n",
    "xgb_leave_fluctuation_reg.fit(train_fluctuation_leave.iloc[:, 1:-4], train_fluctuation_leave['survival_time'])\n",
    "joblib.dump(xgb_leave_fluctuation_reg, './빅콘테스트/model/version2/xgb_leave_fluctuation_reg_version2.pkl')"
   ]
  },
  {
   "cell_type": "code",
   "execution_count": 665,
   "metadata": {},
   "outputs": [
    {
     "name": "stdout",
     "output_type": "stream",
     "text": [
      "Fitting 5 folds for each of 12 candidates, totalling 60 fits\n"
     ]
    },
    {
     "name": "stderr",
     "output_type": "stream",
     "text": [
      "[Parallel(n_jobs=-1)]: Using backend LokyBackend with 32 concurrent workers.\n",
      "[Parallel(n_jobs=-1)]: Done  28 out of  60 | elapsed:   51.6s remaining:   58.9s\n",
      "[Parallel(n_jobs=-1)]: Done  60 out of  60 | elapsed:  1.1min finished\n"
     ]
    },
    {
     "data": {
      "text/plain": [
       "GridSearchCV(cv=5, error_score='raise-deprecating',\n",
       "             estimator=ExtraTreesRegressor(bootstrap=True, criterion='mse',\n",
       "                                           max_depth=None, max_features='auto',\n",
       "                                           max_leaf_nodes=None,\n",
       "                                           min_impurity_decrease=0.0,\n",
       "                                           min_impurity_split=None,\n",
       "                                           min_samples_leaf=1,\n",
       "                                           min_samples_split=2,\n",
       "                                           min_weight_fraction_leaf=0.0,\n",
       "                                           n_estimators='warn', n_jobs=None,\n",
       "                                           oob_score=False, random_state=42,\n",
       "                                           verbose=0, warm_start=False),\n",
       "             iid='warn', n_jobs=-1,\n",
       "             param_grid=[{'max_features': [12, 13, 14, 15],\n",
       "                          'n_estimators': [300, 500, 750]}],\n",
       "             pre_dispatch='2*n_jobs', refit=True, return_train_score=False,\n",
       "             scoring='neg_mean_squared_error', verbose=2)"
      ]
     },
     "execution_count": 665,
     "metadata": {},
     "output_type": "execute_result"
    }
   ],
   "source": [
    "from sklearn.ensemble import ExtraTreesRegressor\n",
    "from sklearn.model_selection import GridSearchCV\n",
    "\n",
    "extree = ExtraTreesRegressor(random_state = 42, bootstrap = True)\n",
    "\n",
    "param_grid = [\n",
    "    {'n_estimators' : [300, 500, 750], 'max_features' : [12, 13, 14, 15]}\n",
    "  ]\n",
    "\n",
    "grid_search = GridSearchCV(extree, param_grid, cv = 5,\n",
    "                           scoring = 'neg_mean_squared_error', verbose = 2, n_jobs = -1)\n",
    "\n",
    "grid_search.fit(train_fluctuation_leave.iloc[:, 1:-4], train_fluctuation_leave['survival_time'])"
   ]
  },
  {
   "cell_type": "code",
   "execution_count": 666,
   "metadata": {},
   "outputs": [
    {
     "name": "stdout",
     "output_type": "stream",
     "text": [
      "-206.56077085587813\n",
      "{'max_features': 15, 'n_estimators': 300}\n"
     ]
    }
   ],
   "source": [
    "print(grid_search.best_score_)\n",
    "print(grid_search.best_params_)"
   ]
  },
  {
   "cell_type": "code",
   "execution_count": 667,
   "metadata": {},
   "outputs": [
    {
     "data": {
      "text/plain": [
       "['./빅콘테스트/model/version2/extree_leave_fluctuation_reg_version2.pkl']"
      ]
     },
     "execution_count": 667,
     "metadata": {},
     "output_type": "execute_result"
    }
   ],
   "source": [
    "from sklearn.externals import joblib\n",
    "\n",
    "extree_leave_fluctuation_reg = ExtraTreesRegressor(random_state = 42, bootstrap = True, max_features = 8, n_estimators = 500)\n",
    "extree_leave_fluctuation_reg.fit(train_fluctuation_leave.iloc[:, 1:-4], train_fluctuation_leave['survival_time'])\n",
    "joblib.dump(extree_leave_fluctuation_reg, './빅콘테스트/model/version2/extree_leave_fluctuation_reg_version2.pkl')"
   ]
  },
  {
   "cell_type": "code",
   "execution_count": 668,
   "metadata": {},
   "outputs": [
    {
     "name": "stdout",
     "output_type": "stream",
     "text": [
      "Fitting 5 folds for each of 28 candidates, totalling 140 fits\n"
     ]
    },
    {
     "name": "stderr",
     "output_type": "stream",
     "text": [
      "[Parallel(n_jobs=-1)]: Using backend LokyBackend with 32 concurrent workers.\n",
      "[Parallel(n_jobs=-1)]: Done 140 out of 140 | elapsed:    2.2s finished\n"
     ]
    },
    {
     "data": {
      "text/plain": [
       "GridSearchCV(cv=5, error_score='raise-deprecating',\n",
       "             estimator=ElasticNet(alpha=1.0, copy_X=True, fit_intercept=True,\n",
       "                                  l1_ratio=0.5, max_iter=1000, normalize=False,\n",
       "                                  positive=False, precompute=False,\n",
       "                                  random_state=42, selection='cyclic',\n",
       "                                  tol=0.0001, warm_start=False),\n",
       "             iid='warn', n_jobs=-1,\n",
       "             param_grid=[{'alpha': [0.1, 1, 3, 5],\n",
       "                          'l1_ratio': [0.2, 0.3, 0.4, 0.5, 0.6, 0.7, 0.8]}],\n",
       "             pre_dispatch='2*n_jobs', refit=True, return_train_score=False,\n",
       "             scoring='neg_mean_squared_error', verbose=2)"
      ]
     },
     "execution_count": 668,
     "metadata": {},
     "output_type": "execute_result"
    }
   ],
   "source": [
    "from sklearn.linear_model import ElasticNet\n",
    "from sklearn.model_selection import GridSearchCV\n",
    "\n",
    "lr = ElasticNet(random_state = 42)\n",
    "\n",
    "param_grid = [\n",
    "    {'alpha' : [0.1, 1, 3, 5], 'l1_ratio' : [0.2, 0.3, 0.4, 0.5, 0.6, 0.7, 0.8]}\n",
    "  ]\n",
    "\n",
    "grid_search = GridSearchCV(lr, param_grid, cv = 5,\n",
    "                           scoring = 'neg_mean_squared_error', verbose = 2, n_jobs = -1)\n",
    "grid_search.fit(train_fluctuation_leave.iloc[:, 1:-4], train_fluctuation_leave['survival_time'])"
   ]
  },
  {
   "cell_type": "code",
   "execution_count": 669,
   "metadata": {},
   "outputs": [
    {
     "name": "stdout",
     "output_type": "stream",
     "text": [
      "-244.2091386898045\n",
      "{'alpha': 0.1, 'l1_ratio': 0.6}\n"
     ]
    }
   ],
   "source": [
    "print(grid_search.best_score_)\n",
    "print(grid_search.best_params_)"
   ]
  },
  {
   "cell_type": "code",
   "execution_count": 670,
   "metadata": {},
   "outputs": [
    {
     "data": {
      "text/plain": [
       "['./빅콘테스트/model/version2/lr_leave_fluctuation_reg_version2.pkl']"
      ]
     },
     "execution_count": 670,
     "metadata": {},
     "output_type": "execute_result"
    }
   ],
   "source": [
    "from sklearn.externals import joblib\n",
    "\n",
    "lr_leave_fluctuation_reg = ElasticNet(random_state = 42, alpha = 0.1, l1_ratio = 0.6)\n",
    "lr_leave_fluctuation_reg.fit(train_fluctuation_leave.iloc[:, 1:-4], train_fluctuation_leave['survival_time'])\n",
    "joblib.dump(lr_leave_fluctuation_reg, './빅콘테스트/model/version2/lr_leave_fluctuation_reg_version2.pkl')"
   ]
  },
  {
   "cell_type": "markdown",
   "metadata": {},
   "source": [
    "## 일 평균 결제 금액"
   ]
  },
  {
   "cell_type": "code",
   "execution_count": 599,
   "metadata": {},
   "outputs": [
    {
     "data": {
      "text/plain": [
       "['./빅콘테스트/model/version2/rf_amount_fluctuation_sub_reg_version2.pkl']"
      ]
     },
     "execution_count": 599,
     "metadata": {},
     "output_type": "execute_result"
    }
   ],
   "source": [
    "from sklearn.ensemble import RandomForestRegressor\n",
    "from sklearn.externals import joblib\n",
    "\n",
    "rf_amount_fluctuation_sub_reg = RandomForestRegressor(random_state = 42, max_features = 9, n_estimators = 300)\n",
    "rf_amount_fluctuation_sub_reg.fit(train_fluctuation_sub.iloc[:, 1:-4], train_fluctuation_sub['amount_spent'])\n",
    "joblib.dump(rf_amount_fluctuation_sub_reg, './빅콘테스트/model/version2/rf_amount_fluctuation_sub_reg_version2.pkl')"
   ]
  },
  {
   "cell_type": "code",
   "execution_count": 616,
   "metadata": {},
   "outputs": [
    {
     "data": {
      "text/plain": [
       "['./빅콘테스트/model/version2/xgb_amount_fluctuation_sub_reg_version2.pkl']"
      ]
     },
     "execution_count": 616,
     "metadata": {},
     "output_type": "execute_result"
    }
   ],
   "source": [
    "from xgboost import XGBRegressor\n",
    "from sklearn.externals import joblib\n",
    "\n",
    "xgb_amount_fluctuation_sub_reg = XGBRegressor(random_state = 42, learning_rate = 0.01, gamma = 0, max_depth = 1)\n",
    "xgb_amount_fluctuation_sub_reg.fit(train_fluctuation_sub.iloc[:, 1:-4], train_fluctuation_sub['amount_spent'])\n",
    "joblib.dump(xgb_amount_fluctuation_sub_reg, './빅콘테스트/model/version2/xgb_amount_fluctuation_sub_reg_version2.pkl')"
   ]
  },
  {
   "cell_type": "code",
   "execution_count": 619,
   "metadata": {},
   "outputs": [
    {
     "name": "stdout",
     "output_type": "stream",
     "text": [
      "Fitting 5 folds for each of 12 candidates, totalling 60 fits\n"
     ]
    },
    {
     "name": "stderr",
     "output_type": "stream",
     "text": [
      "[Parallel(n_jobs=-1)]: Using backend LokyBackend with 32 concurrent workers.\n",
      "[Parallel(n_jobs=-1)]: Done  28 out of  60 | elapsed:   25.3s remaining:   28.9s\n",
      "[Parallel(n_jobs=-1)]: Done  60 out of  60 | elapsed:   32.2s finished\n"
     ]
    },
    {
     "data": {
      "text/plain": [
       "GridSearchCV(cv=5, error_score='raise-deprecating',\n",
       "             estimator=ExtraTreesRegressor(bootstrap=True, criterion='mse',\n",
       "                                           max_depth=None, max_features='auto',\n",
       "                                           max_leaf_nodes=None,\n",
       "                                           min_impurity_decrease=0.0,\n",
       "                                           min_impurity_split=None,\n",
       "                                           min_samples_leaf=1,\n",
       "                                           min_samples_split=2,\n",
       "                                           min_weight_fraction_leaf=0.0,\n",
       "                                           n_estimators='warn', n_jobs=None,\n",
       "                                           oob_score=False, random_state=42,\n",
       "                                           verbose=0, warm_start=False),\n",
       "             iid='warn', n_jobs=-1,\n",
       "             param_grid=[{'max_features': [8, 9, 10, 11],\n",
       "                          'n_estimators': [300, 500, 750]}],\n",
       "             pre_dispatch='2*n_jobs', refit=True, return_train_score=False,\n",
       "             scoring='neg_mean_squared_error', verbose=2)"
      ]
     },
     "execution_count": 619,
     "metadata": {},
     "output_type": "execute_result"
    }
   ],
   "source": [
    "from sklearn.ensemble import ExtraTreesRegressor\n",
    "from sklearn.model_selection import GridSearchCV\n",
    "\n",
    "extree = ExtraTreesRegressor(random_state = 42, bootstrap = True)\n",
    "\n",
    "param_grid = [\n",
    "    {'n_estimators' : [300, 500, 750], 'max_features' : [8, 9, 10, 11]}\n",
    "  ]\n",
    "\n",
    "grid_search = GridSearchCV(extree, param_grid, cv = 5,\n",
    "                           scoring = 'neg_mean_squared_error', verbose = 2, n_jobs = -1)\n",
    "\n",
    "grid_search.fit(train_fluctuation_sub.iloc[:, 1:-4], train_fluctuation_sub['amount_spent'])"
   ]
  },
  {
   "cell_type": "code",
   "execution_count": 620,
   "metadata": {},
   "outputs": [
    {
     "name": "stdout",
     "output_type": "stream",
     "text": [
      "-1.9346072029486734\n",
      "{'max_features': 8, 'n_estimators': 500}\n"
     ]
    }
   ],
   "source": [
    "print(grid_search.best_score_)\n",
    "print(grid_search.best_params_)"
   ]
  },
  {
   "cell_type": "code",
   "execution_count": 621,
   "metadata": {},
   "outputs": [
    {
     "data": {
      "text/plain": [
       "['./빅콘테스트/model/version2/extree_amount_fluctuation_sub_reg_version2.pkl']"
      ]
     },
     "execution_count": 621,
     "metadata": {},
     "output_type": "execute_result"
    }
   ],
   "source": [
    "from sklearn.externals import joblib\n",
    "\n",
    "extree_amount_fluctuation_sub_reg = ExtraTreesRegressor(random_state = 42, bootstrap = True, max_features = 8, n_estimators = 500)\n",
    "extree_amount_fluctuation_sub_reg.fit(train_fluctuation_sub.iloc[:, 1:-4], train_fluctuation_sub['amount_spent'])\n",
    "joblib.dump(extree_amount_fluctuation_sub_reg, './빅콘테스트/model/version2/extree_amount_fluctuation_sub_reg_version2.pkl')"
   ]
  },
  {
   "cell_type": "code",
   "execution_count": 622,
   "metadata": {},
   "outputs": [
    {
     "name": "stdout",
     "output_type": "stream",
     "text": [
      "Fitting 5 folds for each of 28 candidates, totalling 140 fits\n"
     ]
    },
    {
     "name": "stderr",
     "output_type": "stream",
     "text": [
      "[Parallel(n_jobs=-1)]: Using backend LokyBackend with 32 concurrent workers.\n",
      "[Parallel(n_jobs=-1)]: Done 140 out of 140 | elapsed:    0.7s finished\n"
     ]
    },
    {
     "data": {
      "text/plain": [
       "GridSearchCV(cv=5, error_score='raise-deprecating',\n",
       "             estimator=ElasticNet(alpha=1.0, copy_X=True, fit_intercept=True,\n",
       "                                  l1_ratio=0.5, max_iter=1000, normalize=False,\n",
       "                                  positive=False, precompute=False,\n",
       "                                  random_state=42, selection='cyclic',\n",
       "                                  tol=0.0001, warm_start=False),\n",
       "             iid='warn', n_jobs=-1,\n",
       "             param_grid=[{'alpha': [0.1, 1, 3, 5],\n",
       "                          'l1_ratio': [0.2, 0.3, 0.4, 0.5, 0.6, 0.7, 0.8]}],\n",
       "             pre_dispatch='2*n_jobs', refit=True, return_train_score=False,\n",
       "             scoring='neg_mean_squared_error', verbose=2)"
      ]
     },
     "execution_count": 622,
     "metadata": {},
     "output_type": "execute_result"
    }
   ],
   "source": [
    "from sklearn.linear_model import ElasticNet\n",
    "from sklearn.model_selection import GridSearchCV\n",
    "\n",
    "lr = ElasticNet(random_state = 42)\n",
    "\n",
    "param_grid = [\n",
    "    {'alpha' : [0.1, 1, 3, 5], 'l1_ratio' : [0.2, 0.3, 0.4, 0.5, 0.6, 0.7, 0.8]}\n",
    "  ]\n",
    "\n",
    "grid_search = GridSearchCV(lr, param_grid, cv = 5,\n",
    "                           scoring = 'neg_mean_squared_error', verbose = 2, n_jobs = -1)\n",
    "grid_search.fit(train_fluctuation_sub.iloc[:, 1:-4], train_fluctuation_sub['amount_spent'])"
   ]
  },
  {
   "cell_type": "code",
   "execution_count": 623,
   "metadata": {},
   "outputs": [
    {
     "name": "stdout",
     "output_type": "stream",
     "text": [
      "-2.032606803135335\n",
      "{'alpha': 0.1, 'l1_ratio': 0.4}\n"
     ]
    }
   ],
   "source": [
    "print(grid_search.best_score_)\n",
    "print(grid_search.best_params_)"
   ]
  },
  {
   "cell_type": "code",
   "execution_count": 624,
   "metadata": {},
   "outputs": [
    {
     "data": {
      "text/plain": [
       "['./빅콘테스트/model/version2/lr_amount_fluctuation_sub_reg_version2.pkl']"
      ]
     },
     "execution_count": 624,
     "metadata": {},
     "output_type": "execute_result"
    }
   ],
   "source": [
    "from sklearn.externals import joblib\n",
    "\n",
    "lr_amount_fluctuation_sub_reg = ElasticNet(random_state = 42, alpha = 0.1, l1_ratio = 0.4)\n",
    "lr_amount_fluctuation_sub_reg.fit(train_fluctuation_sub.iloc[:, 1:-4], train_fluctuation_sub['amount_spent'])\n",
    "joblib.dump(lr_amount_fluctuation_sub_reg, './빅콘테스트/model/version2/lr_amount_fluctuation_sub_reg_version2.pkl')"
   ]
  },
  {
   "cell_type": "code",
   "execution_count": 627,
   "metadata": {},
   "outputs": [],
   "source": [
    "def predict(model1, model2, model3, model4, model5, model6, model7, data, w1, w2, w3, w4):\n",
    "    '''\n",
    "    model1 : 생존 여부 예측(classifier)\n",
    "    model2 : 결제 여부 예측(classifier)\n",
    "    model3 : 추가 생존 기간 예측(regressor)\n",
    "    model4~7 : 일 평균 결제 금액 예측(regressor)\n",
    "    data : test data\n",
    "    '''\n",
    "    \n",
    "    pred1 = model1.predict(data.iloc[:, 1:])\n",
    "    pred2 = model2.predict(data.iloc[:, 1:])\n",
    "    pred3 = model3.predict(data.iloc[:, 1:])\n",
    "    pred4 = ((w1 * model4.predict(data.iloc[:, 1:])) + (w2 * model5.predict(data.iloc[:, 1:]))\n",
    "            + (w3 * model6.predict(data.iloc[:, 1:])) + (w4 * model7.predict(data.iloc[:, 1:])))\n",
    "    \n",
    "    pred3[pred1 == 0] = 64\n",
    "    pred4[pred2 == 0] = 0\n",
    "    pred3[pred3 <= 1] = 1\n",
    "    pred4[pred4 <= 0] = 0\n",
    "    \n",
    "    array = np.concatenate([data.iloc[:, 0].values.reshape(-1, 1), pred3.reshape(-1, 1), pred4.reshape(-1, 1)], axis = 1)\n",
    "    df = pd.DataFrame(array)\n",
    "    df.columns = ['acc_id', 'survival_time', 'amount_spent']\n",
    "    df['acc_id'] = df['acc_id'].astype('int32')\n",
    "    df['survival_time'] = round(df['survival_time']).astype('int32')\n",
    "    \n",
    "    return df"
   ]
  },
  {
   "cell_type": "code",
   "execution_count": 628,
   "metadata": {},
   "outputs": [],
   "source": [
    "X_test_fluctuation = pd.read_csv('X_test_ver2_fluctuation.csv')\n",
    "X_test1_fluctuation = pd.read_csv('X_test1_ver2_fluctuation.csv')\n",
    "X_test2_fluctuation = pd.read_csv('X_test2_ver2_fluctuation.csv')"
   ]
  },
  {
   "cell_type": "code",
   "execution_count": 629,
   "metadata": {},
   "outputs": [],
   "source": [
    "voting_leave_fluctuation_clf_2 = joblib.load('./빅콘테스트/model/version2/voting_leave_fluctuation_clf_2_version2.pkl')\n",
    "voting_amount_fluctuation_clf_2 = joblib.load('./빅콘테스트/model/version2/voting_amount_fluctuation_clf_2_version2.pkl')\n",
    "rf_leave_fluctuation_reg = joblib.load('./빅콘테스트/model/version2/rf_leave_fluctuation_reg_version2.pkl')\n",
    "rf_amount_fluctuation_sub_reg = joblib.load('./빅콘테스트/model/version2/rf_amount_fluctuation_sub_reg_version2.pkl')\n",
    "xgb_amount_fluctuation_sub_reg = joblib.load('./빅콘테스트/model/version2/xgb_amount_fluctuation_sub_reg_version2.pkl')\n",
    "extree_amount_fluctuation_sub_reg = joblib.load('./빅콘테스트/model/version2/extree_amount_fluctuation_sub_reg_version2.pkl')\n",
    "lr_amount_fluctuation_sub_reg = joblib.load('./빅콘테스트/model/version2/lr_amount_fluctuation_sub_reg_version2.pkl')"
   ]
  },
  {
   "cell_type": "code",
   "execution_count": 639,
   "metadata": {},
   "outputs": [
    {
     "name": "stdout",
     "output_type": "stream",
     "text": [
      "3640.767211032496\n",
      "w1 : 0.1 w2 : 0.1 w3 : 0.1 w4 : 0.7 \t score : 3640.767211032496\n",
      "3829.1210008854146\n",
      "w1 : 0.1 w2 : 0.1 w3 : 0.7 w4 : 0.1 \t score : 3829.1210008854146\n",
      "3463.651043618372\n",
      "w1 : 0.1 w2 : 0.7 w3 : 0.1 w4 : 0.1 \t score : 3463.651043618372\n",
      "3793.33419724041\n",
      "w1 : 0.7 w2 : 0.1 w3 : 0.1 w4 : 0.1 \t score : 3793.33419724041\n",
      "3685.6106830920303\n",
      "w1 : 0.1 w2 : 0.1 w3 : 0.2 w4 : 0.6 \t score : 3685.6106830920303\n",
      "3810.5799845224137\n",
      "w1 : 0.1 w2 : 0.2 w3 : 0.6 w4 : 0.1 \t score : 3810.5799845224137\n",
      "3575.118851309865\n",
      "w1 : 0.2 w2 : 0.6 w3 : 0.1 w4 : 0.1 \t score : 3575.118851309865\n",
      "3783.863933433345\n",
      "w1 : 0.6 w2 : 0.1 w3 : 0.1 w4 : 0.2 \t score : 3783.863933433345\n",
      "3722.3885260243915\n",
      "w1 : 0.1 w2 : 0.1 w3 : 0.3 w4 : 0.5 \t score : 3722.3885260243915\n",
      "3782.820789795731\n",
      "w1 : 0.1 w2 : 0.3 w3 : 0.5 w4 : 0.1 \t score : 3782.820789795731\n",
      "3669.8572272603033\n",
      "w1 : 0.3 w2 : 0.5 w3 : 0.1 w4 : 0.1 \t score : 3669.8572272603033\n",
      "3768.5415534086524\n",
      "w1 : 0.5 w2 : 0.1 w3 : 0.1 w4 : 0.3 \t score : 3768.5415534086524\n",
      "3757.0562074463346\n",
      "w1 : 0.1 w2 : 0.1 w3 : 0.4 w4 : 0.4 \t score : 3757.0562074463346\n",
      "3742.755543853211\n",
      "w1 : 0.1 w2 : 0.4 w3 : 0.4 w4 : 0.1 \t score : 3742.755543853211\n",
      "3725.8243180355157\n",
      "w1 : 0.4 w2 : 0.4 w3 : 0.1 w4 : 0.1 \t score : 3725.8243180355157\n",
      "3745.293248419468\n",
      "w1 : 0.4 w2 : 0.1 w3 : 0.1 w4 : 0.4 \t score : 3745.293248419468\n",
      "3704.0706003944265\n",
      "w1 : 0.1 w2 : 0.2 w3 : 0.2 w4 : 0.5 \t score : 3704.0706003944265\n",
      "3807.0061213060358\n",
      "w1 : 0.2 w2 : 0.2 w3 : 0.5 w4 : 0.1 \t score : 3807.0061213060358\n",
      "3636.6223348564367\n",
      "w1 : 0.2 w2 : 0.5 w3 : 0.1 w4 : 0.2 \t score : 3636.6223348564367\n",
      "3790.108112100202\n",
      "w1 : 0.5 w2 : 0.1 w3 : 0.2 w4 : 0.2 \t score : 3790.108112100202\n",
      "3737.100117999169\n",
      "w1 : 0.1 w2 : 0.2 w3 : 0.3 w4 : 0.4 \t score : 3737.100117999169\n",
      "3778.999968154794\n",
      "w1 : 0.2 w2 : 0.3 w3 : 0.4 w4 : 0.1 \t score : 3778.999968154794\n",
      "3709.010725755792\n",
      "w1 : 0.3 w2 : 0.4 w3 : 0.1 w4 : 0.2 \t score : 3709.010725755792\n",
      "3774.128073433606\n",
      "w1 : 0.4 w2 : 0.1 w3 : 0.2 w4 : 0.3 \t score : 3774.128073433606\n",
      "3734.709208849581\n",
      "w1 : 0.2 w2 : 0.2 w3 : 0.2 w4 : 0.4 \t score : 3734.709208849581\n",
      "3786.5591636228814\n",
      "w1 : 0.2 w2 : 0.2 w3 : 0.4 w4 : 0.2 \t score : 3786.5591636228814\n",
      "3716.8756974109842\n",
      "w1 : 0.2 w2 : 0.4 w3 : 0.2 w4 : 0.2 \t score : 3716.8756974109842\n",
      "3777.428773766369\n",
      "w1 : 0.4 w2 : 0.2 w3 : 0.2 w4 : 0.2 \t score : 3777.428773766369\n",
      "3763.089973927234\n",
      "w1 : 0.2 w2 : 0.2 w3 : 0.3 w4 : 0.3 \t score : 3763.089973927234\n",
      "3759.645618509602\n",
      "w1 : 0.2 w2 : 0.3 w3 : 0.3 w4 : 0.2 \t score : 3759.645618509602\n",
      "3756.229880515394\n",
      "w1 : 0.3 w2 : 0.3 w3 : 0.2 w4 : 0.2 \t score : 3756.229880515394\n",
      "3759.838674925776\n",
      "w1 : 0.3 w2 : 0.2 w3 : 0.2 w4 : 0.3 \t score : 3759.838674925776\n"
     ]
    }
   ],
   "source": [
    "from score_function import score_function\n",
    "\n",
    "w_list = [[0.1, 0.1, 0.1, 0.7], [0.1, 0.1, 0.2, 0.6], [0.1, 0.1, 0.3, 0.5], [0.1, 0.1, 0.4, 0.4],\n",
    "          [0.1, 0.2, 0.2, 0.5], [0.1, 0.2, 0.3, 0.4], [0.2, 0.2, 0.2, 0.4], [0.2, 0.2, 0.3, 0.3]]\n",
    "\n",
    "for i in range(0, len(w_list)):\n",
    "    for j in range(0, 4):\n",
    "        w1 = w_list[i][j % 4]\n",
    "        w2 = w_list[i][(j + 1) % 4]\n",
    "        w3 = w_list[i][(j + 2) % 4]\n",
    "        w4 = w_list[i][(j + 3) % 4]\n",
    "        \n",
    "        test_pred = predict(model1 = voting_leave_fluctuation_clf_2, model2 = voting_amount_fluctuation_clf_2, \n",
    "                            model3 = rf_leave_fluctuation_reg, model4 = rf_amount_fluctuation_sub_reg, \n",
    "                            model5 = xgb_amount_fluctuation_sub_reg, model6 = extree_amount_fluctuation_sub_reg,\n",
    "                            model7 = lr_amount_fluctuation_sub_reg, data = X_test_fluctuation,\n",
    "                            w1 = w1, w2 = w2, w3 = w3, w4 = w4)\n",
    "        \n",
    "        test_pred.to_csv('y_pred_ver2.csv', index = False)\n",
    "        score = score_function('y_pred_ver2.csv', 'true.csv')\n",
    "        print('w1 :', w1, 'w2 :', w2, 'w3 :', w3, 'w4 :', w4, '\\t score :', score)"
   ]
  },
  {
   "cell_type": "code",
   "execution_count": 641,
   "metadata": {
    "scrolled": true
   },
   "outputs": [
    {
     "name": "stdout",
     "output_type": "stream",
     "text": [
      "4160.541067908602\n",
      "w1 : 0.1    w2 : 0.1    w3 : 0.1    w4 : 1.2 \t score : 4160.541067908602\n",
      "4421.273543027562\n",
      "w1 : 0.1    w2 : 0.1    w3 : 1.2    w4 : 0.1 \t score : 4421.273543027562\n",
      "4096.956601983207\n",
      "w1 : 0.1    w2 : 1.2    w3 : 0.1    w4 : 0.1 \t score : 4096.956601983207\n",
      "4405.254524529977\n",
      "w1 : 1.2    w2 : 0.1    w3 : 0.1    w4 : 0.1 \t score : 4405.254524529977\n",
      "4204.702383041608\n",
      "w1 : 0.1    w2 : 0.1    w3 : 0.2    w4 : 1.1 \t score : 4204.702383041608\n",
      "4426.422102547244\n",
      "w1 : 0.1    w2 : 0.2    w3 : 1.1    w4 : 0.1 \t score : 4426.422102547244\n",
      "4162.605129355092\n",
      "w1 : 0.2    w2 : 1.1    w3 : 0.1    w4 : 0.1 \t score : 4162.605129355092\n",
      "4412.021898253924\n",
      "w1 : 1.1    w2 : 0.1    w3 : 0.1    w4 : 0.2 \t score : 4412.021898253924\n",
      "4246.97582173398\n",
      "w1 : 0.1    w2 : 0.1    w3 : 0.3    w4 : 1.0 \t score : 4246.97582173398\n",
      "4428.815348938445\n",
      "w1 : 0.1    w2 : 0.3    w3 : 1.0    w4 : 0.1 \t score : 4428.815348938445\n",
      "4210.4999725033695\n",
      "w1 : 0.3    w2 : 1.0    w3 : 0.1    w4 : 0.1 \t score : 4210.4999725033695\n",
      "4416.7284695579565\n",
      "w1 : 1.0    w2 : 0.1    w3 : 0.1    w4 : 0.3 \t score : 4416.7284695579565\n",
      "4291.47467897403\n",
      "w1 : 0.1    w2 : 0.1    w3 : 0.4    w4 : 0.9 \t score : 4291.47467897403\n",
      "4427.468813284232\n",
      "w1 : 0.1    w2 : 0.4    w3 : 0.9    w4 : 0.1 \t score : 4427.468813284232\n",
      "4254.815616233151\n",
      "w1 : 0.4    w2 : 0.9    w3 : 0.1    w4 : 0.1 \t score : 4254.815616233151\n",
      "4418.902156187107\n",
      "w1 : 0.9    w2 : 0.1    w3 : 0.1    w4 : 0.4 \t score : 4418.902156187107\n",
      "4333.308802679516\n",
      "w1 : 0.1    w2 : 0.1    w3 : 0.5    w4 : 0.8 \t score : 4333.308802679516\n",
      "4409.384730279159\n",
      "w1 : 0.1    w2 : 0.5    w3 : 0.8    w4 : 0.1 \t score : 4409.384730279159\n",
      "4298.482403107228\n",
      "w1 : 0.5    w2 : 0.8    w3 : 0.1    w4 : 0.1 \t score : 4298.482403107228\n",
      "4414.616931924574\n",
      "w1 : 0.8    w2 : 0.1    w3 : 0.1    w4 : 0.5 \t score : 4414.616931924574\n",
      "4368.302108942692\n",
      "w1 : 0.1    w2 : 0.1    w3 : 0.6    w4 : 0.7 \t score : 4368.302108942692\n",
      "4380.252683629068\n",
      "w1 : 0.1    w2 : 0.6    w3 : 0.7    w4 : 0.1 \t score : 4380.252683629068\n",
      "4339.944542950884\n",
      "w1 : 0.6    w2 : 0.7    w3 : 0.1    w4 : 0.1 \t score : 4339.944542950884\n",
      "4399.221981813981\n",
      "w1 : 0.7    w2 : 0.1    w3 : 0.1    w4 : 0.6 \t score : 4399.221981813981\n",
      "4229.939901784664\n",
      "w1 : 0.1    w2 : 0.2    w3 : 0.2    w4 : 1.0 \t score : 4229.939901784664\n",
      "4426.957423040438\n",
      "w1 : 0.2    w2 : 0.2    w3 : 1.0    w4 : 0.1 \t score : 4426.957423040438\n",
      "4190.32387188081\n",
      "w1 : 0.2    w2 : 1.0    w3 : 0.1    w4 : 0.2 \t score : 4190.32387188081\n",
      "4418.508803023757\n",
      "w1 : 1.0    w2 : 0.1    w3 : 0.2    w4 : 0.2 \t score : 4418.508803023757\n",
      "4272.128933735479\n",
      "w1 : 0.1    w2 : 0.2    w3 : 0.3    w4 : 0.9 \t score : 4272.128933735479\n",
      "4429.631157908503\n",
      "w1 : 0.2    w2 : 0.3    w3 : 0.9    w4 : 0.1 \t score : 4429.631157908503\n",
      "4236.118329404648\n",
      "w1 : 0.3    w2 : 0.9    w3 : 0.1    w4 : 0.2 \t score : 4236.118329404648\n",
      "4422.4013525852215\n",
      "w1 : 0.9    w2 : 0.1    w3 : 0.2    w4 : 0.3 \t score : 4422.4013525852215\n",
      "4310.024132664584\n",
      "w1 : 0.1    w2 : 0.2    w3 : 0.4    w4 : 0.8 \t score : 4310.024132664584\n",
      "4428.6202605320095\n",
      "w1 : 0.2    w2 : 0.4    w3 : 0.8    w4 : 0.1 \t score : 4428.6202605320095\n",
      "4280.533235694781\n",
      "w1 : 0.4    w2 : 0.8    w3 : 0.1    w4 : 0.2 \t score : 4280.533235694781\n",
      "4422.647469383125\n",
      "w1 : 0.8    w2 : 0.1    w3 : 0.2    w4 : 0.4 \t score : 4422.647469383125\n",
      "4346.592531232432\n",
      "w1 : 0.1    w2 : 0.2    w3 : 0.5    w4 : 0.7 \t score : 4346.592531232432\n",
      "4410.335409896515\n",
      "w1 : 0.2    w2 : 0.5    w3 : 0.7    w4 : 0.1 \t score : 4410.335409896515\n",
      "4323.325824042975\n",
      "w1 : 0.5    w2 : 0.7    w3 : 0.1    w4 : 0.2 \t score : 4323.325824042975\n",
      "4417.25097028801\n",
      "w1 : 0.7    w2 : 0.1    w3 : 0.2    w4 : 0.5 \t score : 4417.25097028801\n",
      "4381.359922969808\n",
      "w1 : 0.1    w2 : 0.2    w3 : 0.6    w4 : 0.6 \t score : 4381.359922969808\n",
      "4381.358484314105\n",
      "w1 : 0.2    w2 : 0.6    w3 : 0.6    w4 : 0.1 \t score : 4381.358484314105\n",
      "4362.923508332741\n",
      "w1 : 0.6    w2 : 0.6    w3 : 0.1    w4 : 0.2 \t score : 4362.923508332741\n",
      "4401.304123125382\n",
      "w1 : 0.6    w2 : 0.1    w3 : 0.2    w4 : 0.6 \t score : 4401.304123125382\n",
      "4277.958515602297\n",
      "w1 : 0.1    w2 : 0.3    w3 : 0.3    w4 : 0.8 \t score : 4277.958515602297\n",
      "4430.429954046225\n",
      "w1 : 0.3    w2 : 0.3    w3 : 0.8    w4 : 0.1 \t score : 4430.429954046225\n",
      "4258.196852182507\n",
      "w1 : 0.3    w2 : 0.8    w3 : 0.1    w4 : 0.3 \t score : 4258.196852182507\n",
      "4427.212917047841\n",
      "w1 : 0.8    w2 : 0.1    w3 : 0.3    w4 : 0.3 \t score : 4427.212917047841\n",
      "4314.56223555129\n",
      "w1 : 0.1    w2 : 0.3    w3 : 0.4    w4 : 0.7 \t score : 4314.56223555129\n",
      "4428.895771648209\n",
      "w1 : 0.3    w2 : 0.4    w3 : 0.7    w4 : 0.1 \t score : 4428.895771648209\n",
      "4300.896674909167\n",
      "w1 : 0.4    w2 : 0.7    w3 : 0.1    w4 : 0.3 \t score : 4300.896674909167\n",
      "4425.810143543294\n",
      "w1 : 0.7    w2 : 0.1    w3 : 0.3    w4 : 0.4 \t score : 4425.810143543294\n",
      "4352.073346418932\n",
      "w1 : 0.1    w2 : 0.3    w3 : 0.5    w4 : 0.6 \t score : 4352.073346418932\n",
      "4410.981369468617\n",
      "w1 : 0.3    w2 : 0.5    w3 : 0.6    w4 : 0.1 \t score : 4410.981369468617\n",
      "4340.865256269808\n",
      "w1 : 0.5    w2 : 0.6    w3 : 0.1    w4 : 0.3 \t score : 4340.865256269808\n",
      "4419.217369415997\n",
      "w1 : 0.6    w2 : 0.1    w3 : 0.3    w4 : 0.5 \t score : 4419.217369415997\n",
      "4317.219865203323\n",
      "w1 : 0.1    w2 : 0.4    w3 : 0.4    w4 : 0.6 \t score : 4317.219865203323\n",
      "4428.501648943969\n",
      "w1 : 0.4    w2 : 0.4    w3 : 0.6    w4 : 0.1 \t score : 4428.501648943969\n",
      "4310.036526851715\n",
      "w1 : 0.4    w2 : 0.6    w3 : 0.1    w4 : 0.4 \t score : 4310.036526851715\n",
      "4427.508398145346\n",
      "w1 : 0.6    w2 : 0.1    w3 : 0.4    w4 : 0.4 \t score : 4427.508398145346\n",
      "4350.739259367729\n",
      "w1 : 0.1    w2 : 0.4    w3 : 0.5    w4 : 0.5 \t score : 4350.739259367729\n",
      "4411.154007460527\n",
      "w1 : 0.4    w2 : 0.5    w3 : 0.5    w4 : 0.1 \t score : 4411.154007460527\n",
      "4348.179223264114\n",
      "w1 : 0.5    w2 : 0.5    w3 : 0.1    w4 : 0.4 \t score : 4348.179223264114\n",
      "4419.626187466527\n",
      "w1 : 0.5    w2 : 0.1    w3 : 0.4    w4 : 0.5 \t score : 4419.626187466527\n",
      "4272.503114305011\n",
      "w1 : 0.2    w2 : 0.2    w3 : 0.2    w4 : 0.9 \t score : 4272.503114305011\n",
      "4431.953080952284\n",
      "w1 : 0.2    w2 : 0.2    w3 : 0.9    w4 : 0.2 \t score : 4431.953080952284\n",
      "4235.811971517813\n",
      "w1 : 0.2    w2 : 0.9    w3 : 0.2    w4 : 0.2 \t score : 4235.811971517813\n",
      "4426.228965277609\n",
      "w1 : 0.9    w2 : 0.2    w3 : 0.2    w4 : 0.2 \t score : 4426.228965277609\n",
      "4311.256687178401\n",
      "w1 : 0.2    w2 : 0.2    w3 : 0.3    w4 : 0.8 \t score : 4311.256687178401\n",
      "4434.016457865456\n",
      "w1 : 0.2    w2 : 0.3    w3 : 0.8    w4 : 0.2 \t score : 4434.016457865456\n",
      "4280.919515103591\n",
      "w1 : 0.3    w2 : 0.8    w3 : 0.2    w4 : 0.2 \t score : 4280.919515103591\n",
      "4427.501373220156\n",
      "w1 : 0.8    w2 : 0.2    w3 : 0.2    w4 : 0.3 \t score : 4427.501373220156\n",
      "4349.425420208939\n",
      "w1 : 0.2    w2 : 0.2    w3 : 0.4    w4 : 0.7 \t score : 4349.425420208939\n",
      "4424.702686242358\n",
      "w1 : 0.2    w2 : 0.4    w3 : 0.7    w4 : 0.2 \t score : 4424.702686242358\n",
      "4324.169905460534\n",
      "w1 : 0.4    w2 : 0.7    w3 : 0.2    w4 : 0.2 \t score : 4324.169905460534\n",
      "4424.697354453326\n",
      "w1 : 0.7    w2 : 0.2    w3 : 0.2    w4 : 0.4 \t score : 4424.697354453326\n",
      "4384.601094414354\n",
      "w1 : 0.2    w2 : 0.2    w3 : 0.5    w4 : 0.6 \t score : 4384.601094414354\n",
      "4400.303896979327\n",
      "w1 : 0.2    w2 : 0.5    w3 : 0.6    w4 : 0.2 \t score : 4400.303896979327\n",
      "4364.683912899323\n",
      "w1 : 0.5    w2 : 0.6    w3 : 0.2    w4 : 0.2 \t score : 4364.683912899323\n",
      "4412.287693931494\n",
      "w1 : 0.6    w2 : 0.2    w3 : 0.2    w4 : 0.5 \t score : 4412.287693931494\n",
      "4316.534950580591\n",
      "w1 : 0.2    w2 : 0.3    w3 : 0.3    w4 : 0.7 \t score : 4316.534950580591\n",
      "4436.054118766241\n",
      "w1 : 0.3    w2 : 0.3    w3 : 0.7    w4 : 0.2 \t score : 4436.054118766241\n",
      "4300.522131154918\n",
      "w1 : 0.3    w2 : 0.7    w3 : 0.2    w4 : 0.3 \t score : 4300.522131154918\n",
      "4431.358485258435\n",
      "w1 : 0.7    w2 : 0.2    w3 : 0.3    w4 : 0.3 \t score : 4431.358485258435\n",
      "4353.632009930493\n",
      "w1 : 0.2    w2 : 0.3    w3 : 0.4    w4 : 0.6 \t score : 4353.632009930493\n",
      "4426.262586262131\n",
      "w1 : 0.3    w2 : 0.4    w3 : 0.6    w4 : 0.2 \t score : 4426.262586262131\n",
      "4341.404178900019\n",
      "w1 : 0.4    w2 : 0.6    w3 : 0.2    w4 : 0.3 \t score : 4341.404178900019\n",
      "4427.299515003729\n",
      "w1 : 0.6    w2 : 0.2    w3 : 0.3    w4 : 0.4 \t score : 4427.299515003729\n",
      "4387.0927048119365\n",
      "w1 : 0.2    w2 : 0.3    w3 : 0.5    w4 : 0.5 \t score : 4387.0927048119365\n",
      "4402.158079479387\n",
      "w1 : 0.3    w2 : 0.5    w3 : 0.5    w4 : 0.2 \t score : 4402.158079479387\n",
      "4379.280379417836\n",
      "w1 : 0.5    w2 : 0.5    w3 : 0.2    w4 : 0.3 \t score : 4379.280379417836\n"
     ]
    },
    {
     "name": "stdout",
     "output_type": "stream",
     "text": [
      "4413.3683364303715\n",
      "w1 : 0.5    w2 : 0.2    w3 : 0.3    w4 : 0.5 \t score : 4413.3683364303715\n",
      "4352.32424716088\n",
      "w1 : 0.2    w2 : 0.4    w3 : 0.4    w4 : 0.5 \t score : 4352.32424716088\n",
      "4427.738994000685\n",
      "w1 : 0.4    w2 : 0.4    w3 : 0.5    w4 : 0.2 \t score : 4427.738994000685\n",
      "4348.54836014545\n",
      "w1 : 0.4    w2 : 0.5    w3 : 0.2    w4 : 0.4 \t score : 4348.54836014545\n",
      "4428.622643078275\n",
      "w1 : 0.5    w2 : 0.2    w3 : 0.4    w4 : 0.4 \t score : 4428.622643078275\n",
      "4355.137524552851\n",
      "w1 : 0.3    w2 : 0.3    w3 : 0.3    w4 : 0.6 \t score : 4355.137524552851\n",
      "4430.182716960669\n",
      "w1 : 0.3    w2 : 0.3    w3 : 0.6    w4 : 0.3 \t score : 4430.182716960669\n",
      "4340.949775352894\n",
      "w1 : 0.3    w2 : 0.6    w3 : 0.3    w4 : 0.3 \t score : 4340.949775352894\n",
      "4429.983362361364\n",
      "w1 : 0.6    w2 : 0.3    w3 : 0.3    w4 : 0.3 \t score : 4429.983362361364\n",
      "4388.618539980445\n",
      "w1 : 0.3    w2 : 0.3    w3 : 0.4    w4 : 0.5 \t score : 4388.618539980445\n",
      "4412.045262402331\n",
      "w1 : 0.3    w2 : 0.4    w3 : 0.5    w4 : 0.3 \t score : 4412.045262402331\n",
      "4379.904818598728\n",
      "w1 : 0.4    w2 : 0.5    w3 : 0.3    w4 : 0.3 \t score : 4379.904818598728\n",
      "4414.311087087791\n",
      "w1 : 0.5    w2 : 0.3    w3 : 0.3    w4 : 0.4 \t score : 4414.311087087791\n",
      "4384.866744610721\n",
      "w1 : 0.3    w2 : 0.4    w3 : 0.4    w4 : 0.4 \t score : 4384.866744610721\n",
      "4412.455907977388\n",
      "w1 : 0.4    w2 : 0.4    w3 : 0.4    w4 : 0.3 \t score : 4412.455907977388\n",
      "4385.469321029986\n",
      "w1 : 0.4    w2 : 0.4    w3 : 0.3    w4 : 0.4 \t score : 4385.469321029986\n",
      "4413.991305066575\n",
      "w1 : 0.4    w2 : 0.3    w3 : 0.4    w4 : 0.4 \t score : 4413.991305066575\n"
     ]
    }
   ],
   "source": [
    "from score_function import score_function\n",
    "\n",
    "w_list = [[0.1, 0.1, 0.1, 1.2], [0.1, 0.1, 0.2, 1.1], [0.1, 0.1, 0.3, 1.0], [0.1, 0.1, 0.4, 0.9],\n",
    "          [0.1, 0.1, 0.5, 0.8], [0.1, 0.1, 0.6, 0.7], [0.1, 0.2, 0.2, 1.0], [0.1, 0.2, 0.3, 0.9],\n",
    "          [0.1, 0.2, 0.4, 0.8], [0.1, 0.2, 0.5, 0.7], [0.1, 0.2, 0.6, 0.6], [0.1, 0.3, 0.3, 0.8],\n",
    "          [0.1, 0.3, 0.4, 0.7], [0.1, 0.3, 0.5, 0.6], [0.1, 0.4, 0.4, 0.6], [0.1, 0.4, 0.5, 0.5],\n",
    "          [0.2, 0.2, 0.2, 0.9], [0.2, 0.2, 0.3, 0.8], [0.2, 0.2, 0.4, 0.7], [0.2, 0.2, 0.5, 0.6],\n",
    "          [0.2, 0.3, 0.3, 0.7], [0.2, 0.3, 0.4, 0.6], [0.2, 0.3, 0.5, 0.5], [0.2, 0.4, 0.4, 0.5],\n",
    "          [0.3, 0.3, 0.3, 0.6], [0.3, 0.3, 0.4, 0.5], [0.3, 0.4, 0.4, 0.4]]\n",
    "\n",
    "for i in range(0, len(w_list)):\n",
    "    for j in range(0, 4):\n",
    "        w1 = w_list[i][j % 4]\n",
    "        w2 = w_list[i][(j + 1) % 4]\n",
    "        w3 = w_list[i][(j + 2) % 4]\n",
    "        w4 = w_list[i][(j + 3) % 4]\n",
    "        \n",
    "        test_pred = predict(model1 = voting_leave_fluctuation_clf_2, model2 = voting_amount_fluctuation_clf_2, \n",
    "                            model3 = rf_leave_fluctuation_reg, model4 = rf_amount_fluctuation_sub_reg, \n",
    "                            model5 = xgb_amount_fluctuation_sub_reg, model6 = extree_amount_fluctuation_sub_reg,\n",
    "                            model7 = lr_amount_fluctuation_sub_reg, data = X_test_fluctuation,\n",
    "                            w1 = w1, w2 = w2, w3 = w3, w4 = w4)\n",
    "        \n",
    "        test_pred.to_csv('y_pred_ver2.csv', index = False)\n",
    "        score = score_function('y_pred_ver2.csv', 'true.csv')\n",
    "        print('w1 :', w1, '   w2 :', w2, '   w3 :', w3, '   w4 :', w4, '\\t score :', score)"
   ]
  },
  {
   "cell_type": "code",
   "execution_count": 657,
   "metadata": {
    "scrolled": true
   },
   "outputs": [
    {
     "name": "stdout",
     "output_type": "stream",
     "text": [
      "4531.849821204991\n",
      "w1 : 0.1    w2 : 0.1    w3 : 0.1    w4 : 1.7 \t score : 4531.849821204991\n",
      "4753.79992343031\n",
      "w1 : 0.1    w2 : 0.1    w3 : 1.7    w4 : 0.1 \t score : 4753.79992343031\n",
      "4400.740323543372\n",
      "w1 : 0.1    w2 : 1.7    w3 : 0.1    w4 : 0.1 \t score : 4400.740323543372\n",
      "4765.658279963931\n",
      "w1 : 1.7    w2 : 0.1    w3 : 0.1    w4 : 0.1 \t score : 4765.658279963931\n",
      "4564.326025715472\n",
      "w1 : 0.1    w2 : 0.1    w3 : 0.2    w4 : 1.6 \t score : 4564.326025715472\n",
      "4760.021155919261\n",
      "w1 : 0.1    w2 : 0.2    w3 : 1.6    w4 : 0.1 \t score : 4760.021155919261\n",
      "4452.133081708799\n",
      "w1 : 0.2    w2 : 1.6    w3 : 0.1    w4 : 0.1 \t score : 4452.133081708799\n",
      "4775.981031960594\n",
      "w1 : 1.6    w2 : 0.1    w3 : 0.1    w4 : 0.2 \t score : 4775.981031960594\n",
      "4587.318322921732\n",
      "w1 : 0.1    w2 : 0.1    w3 : 0.3    w4 : 1.5 \t score : 4587.318322921732\n",
      "4761.530507379546\n",
      "w1 : 0.1    w2 : 0.3    w3 : 1.5    w4 : 0.1 \t score : 4761.530507379546\n",
      "4503.473333574199\n",
      "w1 : 0.3    w2 : 1.5    w3 : 0.1    w4 : 0.1 \t score : 4503.473333574199\n",
      "4778.574802895852\n",
      "w1 : 1.5    w2 : 0.1    w3 : 0.1    w4 : 0.3 \t score : 4778.574802895852\n",
      "4607.827868585156\n",
      "w1 : 0.1    w2 : 0.1    w3 : 0.4    w4 : 1.4 \t score : 4607.827868585156\n",
      "4759.672747774073\n",
      "w1 : 0.1    w2 : 0.4    w3 : 1.4    w4 : 0.1 \t score : 4759.672747774073\n",
      "4554.687659469242\n",
      "w1 : 0.4    w2 : 1.4    w3 : 0.1    w4 : 0.1 \t score : 4554.687659469242\n",
      "4775.729064917019\n",
      "w1 : 1.4    w2 : 0.1    w3 : 0.1    w4 : 0.4 \t score : 4775.729064917019\n",
      "4629.566146240634\n",
      "w1 : 0.1    w2 : 0.1    w3 : 0.5    w4 : 1.3 \t score : 4629.566146240634\n",
      "4756.12739325442\n",
      "w1 : 0.1    w2 : 0.5    w3 : 1.3    w4 : 0.1 \t score : 4756.12739325442\n",
      "4605.6838804008785\n",
      "w1 : 0.5    w2 : 1.3    w3 : 0.1    w4 : 0.1 \t score : 4605.6838804008785\n",
      "4771.683389738129\n",
      "w1 : 1.3    w2 : 0.1    w3 : 0.1    w4 : 0.5 \t score : 4771.683389738129\n",
      "4652.057940907834\n",
      "w1 : 0.1    w2 : 0.1    w3 : 0.6    w4 : 1.2 \t score : 4652.057940907834\n",
      "4750.100652455381\n",
      "w1 : 0.1    w2 : 0.6    w3 : 1.2    w4 : 0.1 \t score : 4750.100652455381\n",
      "4655.345582975697\n",
      "w1 : 0.6    w2 : 1.2    w3 : 0.1    w4 : 0.1 \t score : 4655.345582975697\n",
      "4766.100453421756\n",
      "w1 : 1.2    w2 : 0.1    w3 : 0.1    w4 : 0.6 \t score : 4766.100453421756\n",
      "4671.80699738257\n",
      "w1 : 0.1    w2 : 0.1    w3 : 0.7    w4 : 1.1 \t score : 4671.80699738257\n",
      "4743.471399826532\n",
      "w1 : 0.1    w2 : 0.7    w3 : 1.1    w4 : 0.1 \t score : 4743.471399826532\n",
      "4690.317533609306\n",
      "w1 : 0.7    w2 : 1.1    w3 : 0.1    w4 : 0.1 \t score : 4690.317533609306\n",
      "4757.196096749214\n",
      "w1 : 1.1    w2 : 0.1    w3 : 0.1    w4 : 0.7 \t score : 4757.196096749214\n",
      "4688.934869818204\n",
      "w1 : 0.1    w2 : 0.1    w3 : 0.8    w4 : 1.0 \t score : 4688.934869818204\n",
      "4736.389832593014\n",
      "w1 : 0.1    w2 : 0.8    w3 : 1.0    w4 : 0.1 \t score : 4736.389832593014\n",
      "4709.389199134379\n",
      "w1 : 0.8    w2 : 1.0    w3 : 0.1    w4 : 0.1 \t score : 4709.389199134379\n",
      "4743.135397797992\n",
      "w1 : 1.0    w2 : 0.1    w3 : 0.1    w4 : 0.8 \t score : 4743.135397797992\n",
      "4702.697760568503\n",
      "w1 : 0.1    w2 : 0.1    w3 : 0.9    w4 : 0.9 \t score : 4702.697760568503\n",
      "4725.964130224057\n",
      "w1 : 0.1    w2 : 0.9    w3 : 0.9    w4 : 0.1 \t score : 4725.964130224057\n",
      "4722.8075148781245\n",
      "w1 : 0.9    w2 : 0.9    w3 : 0.1    w4 : 0.1 \t score : 4722.8075148781245\n",
      "4726.806700554806\n",
      "w1 : 0.9    w2 : 0.1    w3 : 0.1    w4 : 0.9 \t score : 4726.806700554806\n",
      "4593.989397172313\n",
      "w1 : 0.1    w2 : 0.2    w3 : 0.2    w4 : 1.5 \t score : 4593.989397172313\n",
      "4766.2168692395735\n",
      "w1 : 0.2    w2 : 0.2    w3 : 1.5    w4 : 0.1 \t score : 4766.2168692395735\n",
      "4479.571670848086\n",
      "w1 : 0.2    w2 : 1.5    w3 : 0.1    w4 : 0.2 \t score : 4479.571670848086\n",
      "4781.856553588949\n",
      "w1 : 1.5    w2 : 0.1    w3 : 0.2    w4 : 0.2 \t score : 4781.856553588949\n",
      "4617.990243022926\n",
      "w1 : 0.1    w2 : 0.2    w3 : 0.3    w4 : 1.4 \t score : 4617.990243022926\n",
      "4767.105778198565\n",
      "w1 : 0.2    w2 : 0.3    w3 : 1.4    w4 : 0.1 \t score : 4767.105778198565\n",
      "4530.906128755116\n",
      "w1 : 0.3    w2 : 1.4    w3 : 0.1    w4 : 0.2 \t score : 4530.906128755116\n",
      "4783.113568456772\n",
      "w1 : 1.4    w2 : 0.1    w3 : 0.2    w4 : 0.3 \t score : 4783.113568456772\n",
      "4640.695425057552\n",
      "w1 : 0.1    w2 : 0.2    w3 : 0.4    w4 : 1.3 \t score : 4640.695425057552\n",
      "4765.3695115016135\n",
      "w1 : 0.2    w2 : 0.4    w3 : 1.3    w4 : 0.1 \t score : 4765.3695115016135\n",
      "4582.326589786541\n",
      "w1 : 0.4    w2 : 1.3    w3 : 0.1    w4 : 0.2 \t score : 4582.326589786541\n",
      "4778.890893655972\n",
      "w1 : 1.3    w2 : 0.1    w3 : 0.2    w4 : 0.4 \t score : 4778.890893655972\n",
      "4661.232775894969\n",
      "w1 : 0.1    w2 : 0.2    w3 : 0.5    w4 : 1.2 \t score : 4661.232775894969\n",
      "4760.760563601788\n",
      "w1 : 0.2    w2 : 0.5    w3 : 1.2    w4 : 0.1 \t score : 4760.760563601788\n",
      "4633.274932705359\n",
      "w1 : 0.5    w2 : 1.2    w3 : 0.1    w4 : 0.2 \t score : 4633.274932705359\n",
      "4773.892064091479\n",
      "w1 : 1.2    w2 : 0.1    w3 : 0.2    w4 : 0.5 \t score : 4773.892064091479\n",
      "4677.946850209431\n",
      "w1 : 0.1    w2 : 0.2    w3 : 0.6    w4 : 1.1 \t score : 4677.946850209431\n",
      "4754.654870203793\n",
      "w1 : 0.2    w2 : 0.6    w3 : 1.1    w4 : 0.1 \t score : 4754.654870203793\n",
      "4678.590982157597\n",
      "w1 : 0.6    w2 : 1.1    w3 : 0.1    w4 : 0.2 \t score : 4678.590982157597\n",
      "4765.445210635855\n",
      "w1 : 1.1    w2 : 0.1    w3 : 0.2    w4 : 0.6 \t score : 4765.445210635855\n",
      "4692.08503005414\n",
      "w1 : 0.1    w2 : 0.2    w3 : 0.7    w4 : 1.0 \t score : 4692.08503005414\n",
      "4748.090274040192\n",
      "w1 : 0.2    w2 : 0.7    w3 : 1.0    w4 : 0.1 \t score : 4748.090274040192\n",
      "4707.759855771237\n",
      "w1 : 0.7    w2 : 1.0    w3 : 0.1    w4 : 0.2 \t score : 4707.759855771237\n",
      "4755.245017024747\n",
      "w1 : 1.0    w2 : 0.1    w3 : 0.2    w4 : 0.7 \t score : 4755.245017024747\n",
      "4704.717259463543\n",
      "w1 : 0.1    w2 : 0.2    w3 : 0.8    w4 : 0.9 \t score : 4704.717259463543\n",
      "4739.5487879093\n",
      "w1 : 0.2    w2 : 0.8    w3 : 0.9    w4 : 0.1 \t score : 4739.5487879093\n",
      "4723.0340962011405\n",
      "w1 : 0.8    w2 : 0.9    w3 : 0.1    w4 : 0.2 \t score : 4723.0340962011405\n",
      "4741.104724688544\n",
      "w1 : 0.9    w2 : 0.1    w3 : 0.2    w4 : 0.8 \t score : 4741.104724688544\n",
      "4645.300068671097\n",
      "w1 : 0.1    w2 : 0.3    w3 : 0.3    w4 : 1.3 \t score : 4645.300068671097\n",
      "4772.343224418517\n",
      "w1 : 0.3    w2 : 0.3    w3 : 1.3    w4 : 0.1 \t score : 4772.343224418517\n",
      "4556.162329246389\n",
      "w1 : 0.3    w2 : 1.3    w3 : 0.1    w4 : 0.3 \t score : 4556.162329246389\n",
      "4785.711781485685\n",
      "w1 : 1.3    w2 : 0.1    w3 : 0.3    w4 : 0.3 \t score : 4785.711781485685\n",
      "4662.924427962404\n",
      "w1 : 0.1    w2 : 0.3    w3 : 0.4    w4 : 1.2 \t score : 4662.924427962404\n",
      "4770.6897730359915\n",
      "w1 : 0.3    w2 : 0.4    w3 : 1.2    w4 : 0.1 \t score : 4770.6897730359915\n",
      "4607.808080019334\n",
      "w1 : 0.4    w2 : 1.2    w3 : 0.1    w4 : 0.3 \t score : 4607.808080019334\n",
      "4781.341138500078\n",
      "w1 : 1.2    w2 : 0.1    w3 : 0.3    w4 : 0.4 \t score : 4781.341138500078\n",
      "4677.068714889543\n",
      "w1 : 0.1    w2 : 0.3    w3 : 0.5    w4 : 1.1 \t score : 4677.068714889543\n",
      "4765.223988889754\n",
      "w1 : 0.3    w2 : 0.5    w3 : 1.1    w4 : 0.1 \t score : 4765.223988889754\n",
      "4658.537491622677\n",
      "w1 : 0.5    w2 : 1.1    w3 : 0.1    w4 : 0.3 \t score : 4658.537491622677\n",
      "4773.276469128441\n",
      "w1 : 1.1    w2 : 0.1    w3 : 0.3    w4 : 0.5 \t score : 4773.276469128441\n",
      "4690.134370730553\n",
      "w1 : 0.1    w2 : 0.3    w3 : 0.6    w4 : 1.0 \t score : 4690.134370730553\n",
      "4758.886317167749\n",
      "w1 : 0.3    w2 : 0.6    w3 : 1.0    w4 : 0.1 \t score : 4758.886317167749\n",
      "4698.350862907801\n",
      "w1 : 0.6    w2 : 1.0    w3 : 0.1    w4 : 0.3 \t score : 4698.350862907801\n",
      "4763.987175024726\n",
      "w1 : 1.0    w2 : 0.1    w3 : 0.3    w4 : 0.6 \t score : 4763.987175024726\n",
      "4703.893884642248\n",
      "w1 : 0.1    w2 : 0.3    w3 : 0.7    w4 : 0.9 \t score : 4703.893884642248\n",
      "4750.871156618864\n",
      "w1 : 0.3    w2 : 0.7    w3 : 0.9    w4 : 0.1 \t score : 4750.871156618864\n",
      "4720.963954030475\n",
      "w1 : 0.7    w2 : 0.9    w3 : 0.1    w4 : 0.3 \t score : 4720.963954030475\n",
      "4753.247896064702\n",
      "w1 : 0.9    w2 : 0.1    w3 : 0.3    w4 : 0.7 \t score : 4753.247896064702\n",
      "4717.497122868878\n",
      "w1 : 0.1    w2 : 0.3    w3 : 0.8    w4 : 0.8 \t score : 4717.497122868878\n",
      "4739.733266893168\n",
      "w1 : 0.3    w2 : 0.8    w3 : 0.8    w4 : 0.1 \t score : 4739.733266893168\n",
      "4734.356956481799\n",
      "w1 : 0.8    w2 : 0.8    w3 : 0.1    w4 : 0.3 \t score : 4734.356956481799\n",
      "4739.0141680437855\n",
      "w1 : 0.8    w2 : 0.1    w3 : 0.3    w4 : 0.8 \t score : 4739.0141680437855\n",
      "4674.302996509535\n",
      "w1 : 0.1    w2 : 0.4    w3 : 0.4    w4 : 1.1 \t score : 4674.302996509535\n",
      "4774.537974579639\n",
      "w1 : 0.4    w2 : 0.4    w3 : 1.1    w4 : 0.1 \t score : 4774.537974579639\n",
      "4631.778189408221\n",
      "w1 : 0.4    w2 : 1.1    w3 : 0.1    w4 : 0.4 \t score : 4631.778189408221\n"
     ]
    },
    {
     "name": "stdout",
     "output_type": "stream",
     "text": [
      "4780.703432298006\n",
      "w1 : 1.1    w2 : 0.1    w3 : 0.4    w4 : 0.4 \t score : 4780.703432298006\n",
      "4687.275190631407\n",
      "w1 : 0.1    w2 : 0.4    w3 : 0.5    w4 : 1.0 \t score : 4687.275190631407\n",
      "4768.917759404262\n",
      "w1 : 0.4    w2 : 0.5    w3 : 1.0    w4 : 0.1 \t score : 4768.917759404262\n",
      "4680.730889013387\n",
      "w1 : 0.5    w2 : 1.0    w3 : 0.1    w4 : 0.4 \t score : 4680.730889013387\n",
      "4771.9707568053645\n",
      "w1 : 1.0    w2 : 0.1    w3 : 0.4    w4 : 0.5 \t score : 4771.9707568053645\n",
      "4702.47962910192\n",
      "w1 : 0.1    w2 : 0.4    w3 : 0.6    w4 : 0.9 \t score : 4702.47962910192\n",
      "4761.341231685654\n",
      "w1 : 0.4    w2 : 0.6    w3 : 0.9    w4 : 0.1 \t score : 4761.341231685654\n",
      "4714.455000520872\n",
      "w1 : 0.6    w2 : 0.9    w3 : 0.1    w4 : 0.4 \t score : 4714.455000520872\n",
      "4762.462713185534\n",
      "w1 : 0.9    w2 : 0.1    w3 : 0.4    w4 : 0.6 \t score : 4762.462713185534\n",
      "4714.974240415777\n",
      "w1 : 0.1    w2 : 0.4    w3 : 0.7    w4 : 0.8 \t score : 4714.974240415777\n",
      "4751.8493637903175\n",
      "w1 : 0.4    w2 : 0.7    w3 : 0.8    w4 : 0.1 \t score : 4751.8493637903175\n",
      "4730.719302056762\n",
      "w1 : 0.7    w2 : 0.8    w3 : 0.1    w4 : 0.4 \t score : 4730.719302056762\n",
      "4751.250775104666\n",
      "w1 : 0.8    w2 : 0.1    w3 : 0.4    w4 : 0.7 \t score : 4751.250775104666\n",
      "4699.664307780813\n",
      "w1 : 0.1    w2 : 0.5    w3 : 0.5    w4 : 0.9 \t score : 4699.664307780813\n",
      "4771.1617464607925\n",
      "w1 : 0.5    w2 : 0.5    w3 : 0.9    w4 : 0.1 \t score : 4771.1617464607925\n",
      "4695.754067379725\n",
      "w1 : 0.5    w2 : 0.9    w3 : 0.1    w4 : 0.5 \t score : 4695.754067379725\n",
      "4770.3946554571385\n",
      "w1 : 0.9    w2 : 0.1    w3 : 0.5    w4 : 0.5 \t score : 4770.3946554571385\n",
      "4711.483831538805\n",
      "w1 : 0.1    w2 : 0.5    w3 : 0.6    w4 : 0.8 \t score : 4711.483831538805\n",
      "4763.440415484833\n",
      "w1 : 0.5    w2 : 0.6    w3 : 0.8    w4 : 0.1 \t score : 4763.440415484833\n",
      "4722.574538595099\n",
      "w1 : 0.6    w2 : 0.8    w3 : 0.1    w4 : 0.5 \t score : 4722.574538595099\n",
      "4760.93825134632\n",
      "w1 : 0.8    w2 : 0.1    w3 : 0.5    w4 : 0.6 \t score : 4760.93825134632\n",
      "4723.141456475657\n",
      "w1 : 0.1    w2 : 0.5    w3 : 0.7    w4 : 0.7 \t score : 4723.141456475657\n",
      "4751.306126625454\n",
      "w1 : 0.5    w2 : 0.7    w3 : 0.7    w4 : 0.1 \t score : 4751.306126625454\n",
      "4733.966758408247\n",
      "w1 : 0.7    w2 : 0.7    w3 : 0.1    w4 : 0.5 \t score : 4733.966758408247\n",
      "4749.253654144607\n",
      "w1 : 0.7    w2 : 0.1    w3 : 0.5    w4 : 0.7 \t score : 4749.253654144607\n",
      "4716.987586512589\n",
      "w1 : 0.1    w2 : 0.6    w3 : 0.6    w4 : 0.7 \t score : 4716.987586512589\n",
      "4762.995185352713\n",
      "w1 : 0.6    w2 : 0.6    w3 : 0.7    w4 : 0.1 \t score : 4762.995185352713\n",
      "4725.585842303694\n",
      "w1 : 0.6    w2 : 0.7    w3 : 0.1    w4 : 0.6 \t score : 4725.585842303694\n",
      "4759.304724811047\n",
      "w1 : 0.7    w2 : 0.1    w3 : 0.6    w4 : 0.6 \t score : 4759.304724811047\n",
      "4620.495813639708\n",
      "w1 : 0.2    w2 : 0.2    w3 : 0.2    w4 : 1.4 \t score : 4620.495813639708\n",
      "4767.300918515232\n",
      "w1 : 0.2    w2 : 0.2    w3 : 1.4    w4 : 0.2 \t score : 4767.300918515232\n",
      "4530.655741145398\n",
      "w1 : 0.2    w2 : 1.4    w3 : 0.2    w4 : 0.2 \t score : 4530.655741145398\n",
      "4783.0269961325475\n",
      "w1 : 1.4    w2 : 0.2    w3 : 0.2    w4 : 0.2 \t score : 4783.0269961325475\n",
      "4644.040655334103\n",
      "w1 : 0.2    w2 : 0.2    w3 : 0.3    w4 : 1.3 \t score : 4644.040655334103\n",
      "4766.674938957291\n",
      "w1 : 0.2    w2 : 0.3    w3 : 1.3    w4 : 0.2 \t score : 4766.674938957291\n",
      "4581.881977411324\n",
      "w1 : 0.3    w2 : 1.3    w3 : 0.2    w4 : 0.2 \t score : 4581.881977411324\n",
      "4781.507474022693\n",
      "w1 : 1.3    w2 : 0.2    w3 : 0.2    w4 : 0.3 \t score : 4781.507474022693\n",
      "4664.902306719519\n",
      "w1 : 0.2    w2 : 0.2    w3 : 0.4    w4 : 1.2 \t score : 4664.902306719519\n",
      "4765.72983894049\n",
      "w1 : 0.2    w2 : 0.4    w3 : 1.2    w4 : 0.2 \t score : 4765.72983894049\n",
      "4632.823988441208\n",
      "w1 : 0.4    w2 : 1.2    w3 : 0.2    w4 : 0.2 \t score : 4632.823988441208\n",
      "4776.22482792761\n",
      "w1 : 1.2    w2 : 0.2    w3 : 0.2    w4 : 0.4 \t score : 4776.22482792761\n",
      "4682.050289490212\n",
      "w1 : 0.2    w2 : 0.2    w3 : 0.5    w4 : 1.1 \t score : 4682.050289490212\n",
      "4760.605875079569\n",
      "w1 : 0.2    w2 : 0.5    w3 : 1.1    w4 : 0.2 \t score : 4760.605875079569\n",
      "4678.401856724924\n",
      "w1 : 0.5    w2 : 1.1    w3 : 0.2    w4 : 0.2 \t score : 4678.401856724924\n",
      "4770.996313381368\n",
      "w1 : 1.1    w2 : 0.2    w3 : 0.2    w4 : 0.5 \t score : 4770.996313381368\n",
      "4696.276004713427\n",
      "w1 : 0.2    w2 : 0.2    w3 : 0.6    w4 : 1.0 \t score : 4696.276004713427\n",
      "4753.852582534424\n",
      "w1 : 0.2    w2 : 0.6    w3 : 1.0    w4 : 0.2 \t score : 4753.852582534424\n",
      "4708.554382588832\n",
      "w1 : 0.6    w2 : 1.0    w3 : 0.2    w4 : 0.2 \t score : 4708.554382588832\n",
      "4763.245032871918\n",
      "w1 : 1.0    w2 : 0.2    w3 : 0.2    w4 : 0.6 \t score : 4763.245032871918\n",
      "4709.022881958175\n",
      "w1 : 0.2    w2 : 0.2    w3 : 0.7    w4 : 0.9 \t score : 4709.022881958175\n",
      "4746.315310652726\n",
      "w1 : 0.2    w2 : 0.7    w3 : 0.9    w4 : 0.2 \t score : 4746.315310652726\n",
      "4724.0733611217065\n",
      "w1 : 0.7    w2 : 0.9    w3 : 0.2    w4 : 0.2 \t score : 4724.0733611217065\n",
      "4753.0162709743\n",
      "w1 : 0.9    w2 : 0.2    w3 : 0.2    w4 : 0.7 \t score : 4753.0162709743\n",
      "4721.943220572724\n",
      "w1 : 0.2    w2 : 0.2    w3 : 0.8    w4 : 0.8 \t score : 4721.943220572724\n",
      "4737.917431826933\n",
      "w1 : 0.2    w2 : 0.8    w3 : 0.8    w4 : 0.2 \t score : 4737.917431826933\n",
      "4736.610991596146\n",
      "w1 : 0.8    w2 : 0.8    w3 : 0.2    w4 : 0.2 \t score : 4736.610991596146\n",
      "4740.356763264807\n",
      "w1 : 0.8    w2 : 0.2    w3 : 0.2    w4 : 0.8 \t score : 4740.356763264807\n",
      "4666.319869366059\n",
      "w1 : 0.2    w2 : 0.3    w3 : 0.3    w4 : 1.2 \t score : 4666.319869366059\n",
      "4771.654498077419\n",
      "w1 : 0.3    w2 : 0.3    w3 : 1.2    w4 : 0.2 \t score : 4771.654498077419\n",
      "4607.131795129555\n",
      "w1 : 0.3    w2 : 1.2    w3 : 0.2    w4 : 0.3 \t score : 4607.131795129555\n",
      "4783.724548522303\n",
      "w1 : 1.2    w2 : 0.2    w3 : 0.3    w4 : 0.3 \t score : 4783.724548522303\n",
      "4681.286193688353\n",
      "w1 : 0.2    w2 : 0.3    w3 : 0.4    w4 : 1.1 \t score : 4681.286193688353\n",
      "4769.431359420962\n",
      "w1 : 0.3    w2 : 0.4    w3 : 1.1    w4 : 0.2 \t score : 4769.431359420962\n",
      "4658.393609691645\n",
      "w1 : 0.4    w2 : 1.1    w3 : 0.2    w4 : 0.3 \t score : 4658.393609691645\n",
      "4778.533256218526\n",
      "w1 : 1.1    w2 : 0.2    w3 : 0.3    w4 : 0.4 \t score : 4778.533256218526\n",
      "4694.5236138696755\n",
      "w1 : 0.2    w2 : 0.3    w3 : 0.5    w4 : 1.0 \t score : 4694.5236138696755\n",
      "4764.411753563361\n",
      "w1 : 0.3    w2 : 0.5    w3 : 1.0    w4 : 0.2 \t score : 4764.411753563361\n",
      "4698.660829061264\n",
      "w1 : 0.5    w2 : 1.0    w3 : 0.2    w4 : 0.3 \t score : 4698.660829061264\n",
      "4770.9344316471825\n",
      "w1 : 1.0    w2 : 0.2    w3 : 0.3    w4 : 0.5 \t score : 4770.9344316471825\n",
      "4708.132290394598\n",
      "w1 : 0.2    w2 : 0.3    w3 : 0.6    w4 : 0.9 \t score : 4708.132290394598\n",
      "4757.166253880854\n",
      "w1 : 0.3    w2 : 0.6    w3 : 0.9    w4 : 0.2 \t score : 4757.166253880854\n",
      "4721.730662251162\n",
      "w1 : 0.6    w2 : 0.9    w3 : 0.2    w4 : 0.3 \t score : 4721.730662251162\n",
      "4761.720571032727\n",
      "w1 : 0.9    w2 : 0.2    w3 : 0.3    w4 : 0.6 \t score : 4761.720571032727\n",
      "4721.743538101795\n",
      "w1 : 0.2    w2 : 0.3    w3 : 0.7    w4 : 0.8 \t score : 4721.743538101795\n",
      "4748.816600671213\n",
      "w1 : 0.3    w2 : 0.7    w3 : 0.8    w4 : 0.2 \t score : 4748.816600671213\n",
      "4734.398097968948\n",
      "w1 : 0.7    w2 : 0.8    w3 : 0.2    w4 : 0.3 \t score : 4734.398097968948\n",
      "4751.01262833769\n",
      "w1 : 0.8    w2 : 0.2    w3 : 0.3    w4 : 0.7 \t score : 4751.01262833769\n",
      "4691.158049021111\n",
      "w1 : 0.2    w2 : 0.4    w3 : 0.4    w4 : 1.0 \t score : 4691.158049021111\n",
      "4772.878087747795\n",
      "w1 : 0.4    w2 : 0.4    w3 : 1.0    w4 : 0.2 \t score : 4772.878087747795\n",
      "4680.196290592232\n",
      "w1 : 0.4    w2 : 1.0    w3 : 0.2    w4 : 0.4 \t score : 4680.196290592232\n",
      "4778.571282745424\n",
      "w1 : 1.0    w2 : 0.2    w3 : 0.4    w4 : 0.4 \t score : 4778.571282745424\n",
      "4706.690662184481\n",
      "w1 : 0.2    w2 : 0.4    w3 : 0.5    w4 : 0.9 \t score : 4706.690662184481\n",
      "4767.537037448622\n",
      "w1 : 0.4    w2 : 0.5    w3 : 0.9    w4 : 0.2 \t score : 4767.537037448622\n",
      "4714.771869945414\n",
      "w1 : 0.5    w2 : 0.9    w3 : 0.2    w4 : 0.4 \t score : 4714.771869945414\n",
      "4769.360494816631\n",
      "w1 : 0.9    w2 : 0.2    w3 : 0.4    w4 : 0.5 \t score : 4769.360494816631\n",
      "4719.327272173144\n",
      "w1 : 0.2    w2 : 0.4    w3 : 0.6    w4 : 0.8 \t score : 4719.327272173144\n",
      "4759.66754389933\n",
      "w1 : 0.4    w2 : 0.6    w3 : 0.8    w4 : 0.2 \t score : 4759.66754389933\n",
      "4730.7296306836115\n",
      "w1 : 0.6    w2 : 0.8    w3 : 0.2    w4 : 0.4 \t score : 4730.7296306836115\n",
      "4760.194779553779\n",
      "w1 : 0.8    w2 : 0.2    w3 : 0.4    w4 : 0.6 \t score : 4760.194779553779\n",
      "4730.2804112953045\n",
      "w1 : 0.2    w2 : 0.4    w3 : 0.7    w4 : 0.7 \t score : 4730.2804112953045\n"
     ]
    },
    {
     "name": "stdout",
     "output_type": "stream",
     "text": [
      "4749.910957091748\n",
      "w1 : 0.4    w2 : 0.7    w3 : 0.7    w4 : 0.2 \t score : 4749.910957091748\n",
      "4742.421772522048\n",
      "w1 : 0.7    w2 : 0.7    w3 : 0.2    w4 : 0.4 \t score : 4742.421772522048\n",
      "4748.645982393008\n",
      "w1 : 0.7    w2 : 0.2    w3 : 0.4    w4 : 0.7 \t score : 4748.645982393008\n",
      "4714.862219269482\n",
      "w1 : 0.2    w2 : 0.5    w3 : 0.5    w4 : 0.8 \t score : 4714.862219269482\n",
      "4770.01246335398\n",
      "w1 : 0.5    w2 : 0.5    w3 : 0.8    w4 : 0.2 \t score : 4770.01246335398\n",
      "4722.401534820453\n",
      "w1 : 0.5    w2 : 0.8    w3 : 0.2    w4 : 0.5 \t score : 4722.401534820453\n",
      "4767.785809646316\n",
      "w1 : 0.8    w2 : 0.2    w3 : 0.5    w4 : 0.5 \t score : 4767.785809646316\n",
      "4726.519693729717\n",
      "w1 : 0.2    w2 : 0.5    w3 : 0.6    w4 : 0.7 \t score : 4726.519693729717\n",
      "4762.19340235565\n",
      "w1 : 0.5    w2 : 0.6    w3 : 0.7    w4 : 0.2 \t score : 4762.19340235565\n",
      "4734.458119289754\n",
      "w1 : 0.6    w2 : 0.7    w3 : 0.2    w4 : 0.5 \t score : 4734.458119289754\n",
      "4758.342842909536\n",
      "w1 : 0.7    w2 : 0.2    w3 : 0.5    w4 : 0.6 \t score : 4758.342842909536\n",
      "4728.401728636688\n",
      "w1 : 0.2    w2 : 0.6    w3 : 0.6    w4 : 0.6 \t score : 4728.401728636688\n",
      "4761.88357273892\n",
      "w1 : 0.6    w2 : 0.6    w3 : 0.6    w4 : 0.2 \t score : 4761.88357273892\n",
      "4736.694675992417\n",
      "w1 : 0.6    w2 : 0.6    w3 : 0.2    w4 : 0.6 \t score : 4736.694675992417\n",
      "4756.210259975493\n",
      "w1 : 0.6    w2 : 0.2    w3 : 0.6    w4 : 0.6 \t score : 4756.210259975493\n",
      "4684.238599394148\n",
      "w1 : 0.3    w2 : 0.3    w3 : 0.3    w4 : 1.1 \t score : 4684.238599394148\n",
      "4768.459995722015\n",
      "w1 : 0.3    w2 : 0.3    w3 : 1.1    w4 : 0.3 \t score : 4768.459995722015\n",
      "4658.041643377634\n",
      "w1 : 0.3    w2 : 1.1    w3 : 0.3    w4 : 0.3 \t score : 4658.041643377634\n",
      "4781.238117847642\n",
      "w1 : 1.1    w2 : 0.3    w3 : 0.3    w4 : 0.3 \t score : 4781.238117847642\n",
      "4697.964916913291\n",
      "w1 : 0.3    w2 : 0.3    w3 : 0.4    w4 : 1.0 \t score : 4697.964916913291\n",
      "4765.457324355408\n",
      "w1 : 0.3    w2 : 0.4    w3 : 1.0    w4 : 0.3 \t score : 4765.457324355408\n",
      "4699.1127644342905\n",
      "w1 : 0.4    w2 : 1.0    w3 : 0.3    w4 : 0.3 \t score : 4699.1127644342905\n",
      "4775.086086597354\n",
      "w1 : 1.0    w2 : 0.3    w3 : 0.3    w4 : 0.4 \t score : 4775.086086597354\n",
      "4712.00874630714\n",
      "w1 : 0.3    w2 : 0.3    w3 : 0.5    w4 : 0.9 \t score : 4712.00874630714\n",
      "4760.670008468839\n",
      "w1 : 0.3    w2 : 0.5    w3 : 0.9    w4 : 0.3 \t score : 4760.670008468839\n",
      "4721.569067065473\n",
      "w1 : 0.5    w2 : 0.9    w3 : 0.3    w4 : 0.3 \t score : 4721.569067065473\n",
      "4767.151337620843\n",
      "w1 : 0.9    w2 : 0.3    w3 : 0.3    w4 : 0.5 \t score : 4767.151337620843\n",
      "4725.9260966681\n",
      "w1 : 0.3    w2 : 0.3    w3 : 0.6    w4 : 0.8 \t score : 4725.9260966681\n",
      "4753.363615923082\n",
      "w1 : 0.3    w2 : 0.6    w3 : 0.8    w4 : 0.3 \t score : 4753.363615923082\n",
      "4734.396140393761\n",
      "w1 : 0.6    w2 : 0.8    w3 : 0.3    w4 : 0.3 \t score : 4734.396140393761\n",
      "4757.8534312830525\n",
      "w1 : 0.8    w2 : 0.3    w3 : 0.3    w4 : 0.6 \t score : 4757.8534312830525\n",
      "4736.239981446196\n",
      "w1 : 0.3    w2 : 0.3    w3 : 0.7    w4 : 0.7 \t score : 4736.239981446196\n",
      "4745.6034089611385\n",
      "w1 : 0.3    w2 : 0.7    w3 : 0.7    w4 : 0.3 \t score : 4745.6034089611385\n",
      "4746.69807733365\n",
      "w1 : 0.7    w2 : 0.7    w3 : 0.3    w4 : 0.3 \t score : 4746.69807733365\n",
      "4746.309842850174\n",
      "w1 : 0.7    w2 : 0.3    w3 : 0.3    w4 : 0.7 \t score : 4746.309842850174\n",
      "4709.690079840099\n",
      "w1 : 0.3    w2 : 0.4    w3 : 0.4    w4 : 0.9 \t score : 4709.690079840099\n",
      "4768.802983333481\n",
      "w1 : 0.4    w2 : 0.4    w3 : 0.9    w4 : 0.3 \t score : 4768.802983333481\n",
      "4714.322482669087\n",
      "w1 : 0.4    w2 : 0.9    w3 : 0.3    w4 : 0.4 \t score : 4714.322482669087\n",
      "4775.863202138538\n",
      "w1 : 0.9    w2 : 0.3    w3 : 0.4    w4 : 0.4 \t score : 4775.863202138538\n",
      "4722.4545828279215\n",
      "w1 : 0.3    w2 : 0.4    w3 : 0.5    w4 : 0.8 \t score : 4722.4545828279215\n",
      "4763.269589805213\n",
      "w1 : 0.4    w2 : 0.5    w3 : 0.8    w4 : 0.3 \t score : 4763.269589805213\n",
      "4730.739959310447\n",
      "w1 : 0.5    w2 : 0.8    w3 : 0.3    w4 : 0.4 \t score : 4730.739959310447\n",
      "4765.166744795386\n",
      "w1 : 0.8    w2 : 0.3    w3 : 0.4    w4 : 0.5 \t score : 4765.166744795386\n",
      "4733.604794151628\n",
      "w1 : 0.3    w2 : 0.4    w3 : 0.6    w4 : 0.7 \t score : 4733.604794151628\n",
      "4755.901480916356\n",
      "w1 : 0.4    w2 : 0.6    w3 : 0.7    w4 : 0.3 \t score : 4755.901480916356\n",
      "4742.640995579423\n",
      "w1 : 0.6    w2 : 0.7    w3 : 0.3    w4 : 0.4 \t score : 4742.640995579423\n",
      "4755.792054667287\n",
      "w1 : 0.7    w2 : 0.3    w3 : 0.4    w4 : 0.6 \t score : 4755.792054667287\n",
      "4729.1498509901\n",
      "w1 : 0.3    w2 : 0.5    w3 : 0.5    w4 : 0.7 \t score : 4729.1498509901\n",
      "4765.95341479056\n",
      "w1 : 0.5    w2 : 0.5    w3 : 0.7    w4 : 0.3 \t score : 4765.95341479056\n",
      "4734.651342639472\n",
      "w1 : 0.5    w2 : 0.7    w3 : 0.3    w4 : 0.5 \t score : 4734.651342639472\n",
      "4763.18215196993\n",
      "w1 : 0.7    w2 : 0.3    w3 : 0.5    w4 : 0.5 \t score : 4763.18215196993\n",
      "4737.505582979674\n",
      "w1 : 0.3    w2 : 0.5    w3 : 0.6    w4 : 0.6 \t score : 4737.505582979674\n",
      "4758.563786291226\n",
      "w1 : 0.5    w2 : 0.6    w3 : 0.6    w4 : 0.3 \t score : 4758.563786291226\n",
      "4744.770967929508\n",
      "w1 : 0.6    w2 : 0.6    w3 : 0.3    w4 : 0.5 \t score : 4744.770967929508\n",
      "4753.65979300356\n",
      "w1 : 0.6    w2 : 0.3    w3 : 0.5    w4 : 0.6 \t score : 4753.65979300356\n",
      "4725.237257952735\n",
      "w1 : 0.4    w2 : 0.4    w3 : 0.4    w4 : 0.8 \t score : 4725.237257952735\n",
      "4760.871329749944\n",
      "w1 : 0.4    w2 : 0.4    w3 : 0.8    w4 : 0.4 \t score : 4760.871329749944\n",
      "4730.661007980174\n",
      "w1 : 0.4    w2 : 0.8    w3 : 0.4    w4 : 0.4 \t score : 4730.661007980174\n",
      "4769.782814080701\n",
      "w1 : 0.8    w2 : 0.4    w3 : 0.4    w4 : 0.4 \t score : 4769.782814080701\n",
      "4736.0892886964975\n",
      "w1 : 0.4    w2 : 0.4    w3 : 0.5    w4 : 0.7 \t score : 4736.0892886964975\n",
      "4756.7077883838865\n",
      "w1 : 0.4    w2 : 0.5    w3 : 0.7    w4 : 0.4 \t score : 4756.7077883838865\n",
      "4742.651368928652\n",
      "w1 : 0.5    w2 : 0.7    w3 : 0.4    w4 : 0.4 \t score : 4742.651368928652\n",
      "4759.567025251645\n",
      "w1 : 0.7    w2 : 0.4    w3 : 0.4    w4 : 0.5 \t score : 4759.567025251645\n",
      "4744.728610439637\n",
      "w1 : 0.4    w2 : 0.4    w3 : 0.6    w4 : 0.6 \t score : 4744.728610439637\n",
      "4750.783991249614\n",
      "w1 : 0.4    w2 : 0.6    w3 : 0.6    w4 : 0.4 \t score : 4750.783991249614\n",
      "4753.203426656402\n",
      "w1 : 0.6    w2 : 0.6    w3 : 0.4    w4 : 0.4 \t score : 4753.203426656402\n",
      "4749.617252621717\n",
      "w1 : 0.6    w2 : 0.4    w3 : 0.4    w4 : 0.6 \t score : 4749.617252621717\n",
      "4739.975490444203\n",
      "w1 : 0.4    w2 : 0.5    w3 : 0.5    w4 : 0.6 \t score : 4739.975490444203\n",
      "4759.327041646638\n",
      "w1 : 0.5    w2 : 0.5    w3 : 0.6    w4 : 0.4 \t score : 4759.327041646638\n",
      "4745.164895714593\n",
      "w1 : 0.5    w2 : 0.6    w3 : 0.4    w4 : 0.5 \t score : 4745.164895714593\n",
      "4757.466922158152\n",
      "w1 : 0.6    w2 : 0.4    w3 : 0.5    w4 : 0.5 \t score : 4757.466922158152\n",
      "4750.743077575142\n",
      "w1 : 0.5    w2 : 0.5    w3 : 0.5    w4 : 0.5 \t score : 4750.743077575142\n",
      "4750.743077575142\n",
      "w1 : 0.5    w2 : 0.5    w3 : 0.5    w4 : 0.5 \t score : 4750.743077575142\n",
      "4750.743077575142\n",
      "w1 : 0.5    w2 : 0.5    w3 : 0.5    w4 : 0.5 \t score : 4750.743077575142\n",
      "4750.743077575142\n",
      "w1 : 0.5    w2 : 0.5    w3 : 0.5    w4 : 0.5 \t score : 4750.743077575142\n"
     ]
    }
   ],
   "source": [
    "from score_function import score_function\n",
    "\n",
    "w_list = [[0.1, 0.1, 0.1, 1.7], [0.1, 0.1, 0.2, 1.6], [0.1, 0.1, 0.3, 1.5], [0.1, 0.1, 0.4, 1.4],\n",
    "          [0.1, 0.1, 0.5, 1.3], [0.1, 0.1, 0.6, 1.2], [0.1, 0.1, 0.7, 1.1], [0.1, 0.1, 0.8, 1.0],\n",
    "          [0.1, 0.1, 0.9, 0.9], [0.1, 0.2, 0.2, 1.5], [0.1, 0.2, 0.3, 1.4], [0.1, 0.2, 0.4, 1.3],\n",
    "          [0.1, 0.2, 0.5, 1.2], [0.1, 0.2, 0.6, 1.1], [0.1, 0.2, 0.7, 1.0], [0.1, 0.2, 0.8, 0.9],\n",
    "          [0.1, 0.3, 0.3, 1.3], [0.1, 0.3, 0.4, 1.2], [0.1, 0.3, 0.5, 1.1], [0.1, 0.3, 0.6, 1.0],\n",
    "          [0.1, 0.3, 0.7, 0.9], [0.1, 0.3, 0.8, 0.8], [0.1, 0.4, 0.4, 1.1], [0.1, 0.4, 0.5, 1.0],\n",
    "          [0.1, 0.4, 0.6, 0.9], [0.1, 0.4, 0.7, 0.8], [0.1, 0.5, 0.5, 0.9], [0.1, 0.5, 0.6, 0.8],\n",
    "          [0.1, 0.5, 0.7, 0.7], [0.1, 0.6, 0.6, 0.7], [0.2, 0.2, 0.2, 1.4], [0.2, 0.2, 0.3, 1.3],\n",
    "          [0.2, 0.2, 0.4, 1.2], [0.2, 0.2, 0.5, 1.1], [0.2, 0.2, 0.6, 1.0], [0.2, 0.2, 0.7, 0.9],\n",
    "          [0.2, 0.2, 0.8, 0.8], [0.2, 0.3, 0.3, 1.2], [0.2, 0.3, 0.4, 1.1], [0.2, 0.3, 0.5, 1.0],\n",
    "          [0.2, 0.3, 0.6, 0.9], [0.2, 0.3, 0.7, 0.8], [0.2, 0.4, 0.4, 1.0], [0.2, 0.4, 0.5, 0.9],\n",
    "          [0.2, 0.4, 0.6, 0.8], [0.2, 0.4, 0.7, 0.7], [0.2, 0.5, 0.5, 0.8], [0.2, 0.5, 0.6, 0.7],\n",
    "          [0.2, 0.6, 0.6, 0.6], [0.3, 0.3, 0.3, 1.1], [0.3, 0.3, 0.4, 1.0], [0.3, 0.3, 0.5, 0.9],\n",
    "          [0.3, 0.3, 0.6, 0.8], [0.3, 0.3, 0.7, 0.7], [0.3, 0.4, 0.4, 0.9], [0.3, 0.4, 0.5, 0.8],\n",
    "          [0.3, 0.4, 0.6, 0.7], [0.3, 0.5, 0.5, 0.7], [0.3, 0.5, 0.6, 0.6], [0.4, 0.4, 0.4, 0.8],\n",
    "          [0.4, 0.4, 0.5, 0.7], [0.4, 0.4, 0.6, 0.6], [0.4, 0.5, 0.5, 0.6], [0.5, 0.5, 0.5, 0.5]]\n",
    "\n",
    "for i in range(0, len(w_list)):\n",
    "    for j in range(0, 4):\n",
    "        w1 = w_list[i][j % 4]\n",
    "        w2 = w_list[i][(j + 1) % 4]\n",
    "        w3 = w_list[i][(j + 2) % 4]\n",
    "        w4 = w_list[i][(j + 3) % 4]\n",
    "        \n",
    "        test_pred = predict(model1 = voting_leave_fluctuation_clf_2, model2 = voting_amount_fluctuation_clf_2, \n",
    "                            model3 = rf_leave_fluctuation_reg, model4 = rf_amount_fluctuation_sub_reg, \n",
    "                            model5 = xgb_amount_fluctuation_sub_reg, model6 = extree_amount_fluctuation_sub_reg,\n",
    "                            model7 = lr_amount_fluctuation_sub_reg, data = X_test_fluctuation,\n",
    "                            w1 = w1, w2 = w2, w3 = w3, w4 = w4)\n",
    "        \n",
    "        test_pred.to_csv('y_pred_ver2.csv', index = False)\n",
    "        score = score_function('y_pred_ver2.csv', 'true.csv')\n",
    "        print('w1 :', w1, '   w2 :', w2, '   w3 :', w3, '   w4 :', w4, '\\t score :', score)"
   ]
  },
  {
   "cell_type": "code",
   "execution_count": 658,
   "metadata": {},
   "outputs": [],
   "source": [
    "test1_pred = predict(model1 = voting_leave_fluctuation_clf_2, model2 = voting_amount_fluctuation_clf_2, \n",
    "                            model3 = rf_leave_fluctuation_reg, model4 = rf_amount_fluctuation_sub_reg, \n",
    "                            model5 = xgb_amount_fluctuation_sub_reg, model6 = extree_amount_fluctuation_sub_reg,\n",
    "                            model7 = lr_amount_fluctuation_sub_reg, data = X_test1_fluctuation,\n",
    "                            w1 = 1.3, w2 = 0.1, w3 = 0.3, w4 = 0.3)"
   ]
  },
  {
   "cell_type": "code",
   "execution_count": 659,
   "metadata": {},
   "outputs": [],
   "source": [
    "test2_pred = predict(model1 = voting_leave_fluctuation_clf_2, model2 = voting_amount_fluctuation_clf_2, \n",
    "                            model3 = rf_leave_fluctuation_reg, model4 = rf_amount_fluctuation_sub_reg, \n",
    "                            model5 = xgb_amount_fluctuation_sub_reg, model6 = extree_amount_fluctuation_sub_reg,\n",
    "                            model7 = lr_amount_fluctuation_sub_reg, data = X_test2_fluctuation,\n",
    "                            w1 = 1.3, w2 = 0.1, w3 = 0.3, w4 = 0.3)"
   ]
  },
  {
   "cell_type": "code",
   "execution_count": 660,
   "metadata": {},
   "outputs": [
    {
     "name": "stdout",
     "output_type": "stream",
     "text": [
      "0\n",
      "0\n",
      "0\n",
      "0\n"
     ]
    }
   ],
   "source": [
    "print((test1_pred['survival_time'] > 64).sum())\n",
    "print((test2_pred['survival_time'] > 64).sum())\n",
    "print((test1_pred['survival_time'] <= 0).sum())\n",
    "print((test2_pred['survival_time'] <= 0).sum())"
   ]
  },
  {
   "cell_type": "code",
   "execution_count": 661,
   "metadata": {},
   "outputs": [
    {
     "name": "stdout",
     "output_type": "stream",
     "text": [
      "0\n",
      "0\n"
     ]
    }
   ],
   "source": [
    "print((test1_pred['amount_spent'] < 0).sum())\n",
    "print((test2_pred['amount_spent'] < 0).sum())"
   ]
  },
  {
   "cell_type": "code",
   "execution_count": 662,
   "metadata": {},
   "outputs": [
    {
     "name": "stdout",
     "output_type": "stream",
     "text": [
      "3946.30190619997\n",
      "11250.677488128511\n",
      "14704.461428453784\n"
     ]
    }
   ],
   "source": [
    "print(test_pred['amount_spent'].sum())\n",
    "print(test1_pred['amount_spent'].sum())\n",
    "print(test2_pred['amount_spent'].sum())"
   ]
  },
  {
   "cell_type": "code",
   "execution_count": 663,
   "metadata": {},
   "outputs": [],
   "source": [
    "test1_pred.to_csv('test1_predict.csv', index = False)\n",
    "test2_pred.to_csv('test2_predict.csv', index = False)"
   ]
  },
  {
   "cell_type": "code",
   "execution_count": 671,
   "metadata": {},
   "outputs": [],
   "source": [
    "def predict(model1, model2, model3, model4, model5, model6, model7, model8, model9, model10, data,\n",
    "            w1, w2, w3, w4, w5, w6, w7, w8):\n",
    "    '''\n",
    "    model1 : 생존 여부 예측(classifier)\n",
    "    model2 : 결제 여부 예측(classifier)\n",
    "    model3~6 : 추가 생존 기간 예측(regressor)\n",
    "    model7~10 : 일 평균 결제 금액 예측(regressor)\n",
    "    data : test data\n",
    "    '''\n",
    "    \n",
    "    pred1 = model1.predict(data.iloc[:, 1:])\n",
    "    pred2 = model2.predict(data.iloc[:, 1:])\n",
    "    pred3 = ((w1 * model3.predict(data.iloc[:, 1:])) + (w2 * model4.predict(data.iloc[:, 1:]))\n",
    "            + (w3 * model5.predict(data.iloc[:, 1:])) + (w4 * model6.predict(data.iloc[:, 1:])))\n",
    "    pred4 = ((w5 * model7.predict(data.iloc[:, 1:])) + (w6 * model8.predict(data.iloc[:, 1:]))\n",
    "            + (w7 * model9.predict(data.iloc[:, 1:])) + (w8 * model10.predict(data.iloc[:, 1:])))\n",
    "    \n",
    "    pred3[pred1 == 0] = 64\n",
    "    pred4[pred2 == 0] = 0\n",
    "    pred3[pred3 <= 1] = 1\n",
    "    pred3[pred3 >= 64] = 64\n",
    "    pred4[pred4 <= 0] = 0\n",
    "    \n",
    "    array = np.concatenate([data.iloc[:, 0].values.reshape(-1, 1), pred3.reshape(-1, 1), pred4.reshape(-1, 1)], axis = 1)\n",
    "    df = pd.DataFrame(array)\n",
    "    df.columns = ['acc_id', 'survival_time', 'amount_spent']\n",
    "    df['acc_id'] = df['acc_id'].astype('int32')\n",
    "    df['survival_time'] = round(df['survival_time']).astype('int32')\n",
    "    \n",
    "    return df"
   ]
  },
  {
   "cell_type": "code",
   "execution_count": 4,
   "metadata": {},
   "outputs": [],
   "source": [
    "X_test_fluctuation = pd.read_csv('X_test_ver2_fluctuation.csv')\n",
    "X_test1_fluctuation = pd.read_csv('X_test1_ver2_fluctuation.csv')\n",
    "X_test2_fluctuation = pd.read_csv('X_test2_ver2_fluctuation.csv')"
   ]
  },
  {
   "cell_type": "code",
   "execution_count": 7,
   "metadata": {},
   "outputs": [
    {
     "ename": "ModuleNotFoundError",
     "evalue": "No module named 'sklearn.ensemble.voting'",
     "output_type": "error",
     "traceback": [
      "\u001b[0;31m---------------------------------------------------------------------------\u001b[0m",
      "\u001b[0;31mModuleNotFoundError\u001b[0m                       Traceback (most recent call last)",
      "\u001b[0;32m<ipython-input-7-91df65d0e0b6>\u001b[0m in \u001b[0;36m<module>\u001b[0;34m()\u001b[0m\n\u001b[1;32m      2\u001b[0m \u001b[0;32mfrom\u001b[0m \u001b[0msklearn\u001b[0m\u001b[0;34m.\u001b[0m\u001b[0mensemble\u001b[0m \u001b[0;32mimport\u001b[0m \u001b[0mVotingClassifier\u001b[0m\u001b[0;34m\u001b[0m\u001b[0m\n\u001b[1;32m      3\u001b[0m \u001b[0;34m\u001b[0m\u001b[0m\n\u001b[0;32m----> 4\u001b[0;31m \u001b[0mvoting_leave_fluctuation_clf_2\u001b[0m \u001b[0;34m=\u001b[0m \u001b[0mjoblib\u001b[0m\u001b[0;34m.\u001b[0m\u001b[0mload\u001b[0m\u001b[0;34m(\u001b[0m\u001b[0;34m'./빅콘테스트/model/version2/voting_leave_fluctuation_clf_2_version2.pkl'\u001b[0m\u001b[0;34m)\u001b[0m\u001b[0;34m\u001b[0m\u001b[0m\n\u001b[0m\u001b[1;32m      5\u001b[0m \u001b[0mvoting_amount_fluctuation_clf_2\u001b[0m \u001b[0;34m=\u001b[0m \u001b[0mjoblib\u001b[0m\u001b[0;34m.\u001b[0m\u001b[0mload\u001b[0m\u001b[0;34m(\u001b[0m\u001b[0;34m'./빅콘테스트/model/version2/voting_amount_fluctuation_clf_2_version2.pkl'\u001b[0m\u001b[0;34m)\u001b[0m\u001b[0;34m\u001b[0m\u001b[0m\n\u001b[1;32m      6\u001b[0m \u001b[0mrf_leave_fluctuation_reg\u001b[0m \u001b[0;34m=\u001b[0m \u001b[0mjoblib\u001b[0m\u001b[0;34m.\u001b[0m\u001b[0mload\u001b[0m\u001b[0;34m(\u001b[0m\u001b[0;34m'./빅콘테스트/model/version2/rf_leave_fluctuation_reg_version2.pkl'\u001b[0m\u001b[0;34m)\u001b[0m\u001b[0;34m\u001b[0m\u001b[0m\n",
      "\u001b[0;32m~/anaconda3/lib/python3.6/site-packages/sklearn/externals/joblib/numpy_pickle.py\u001b[0m in \u001b[0;36mload\u001b[0;34m(filename, mmap_mode)\u001b[0m\n\u001b[1;32m    576\u001b[0m                     \u001b[0;32mreturn\u001b[0m \u001b[0mload_compatibility\u001b[0m\u001b[0;34m(\u001b[0m\u001b[0mfobj\u001b[0m\u001b[0;34m)\u001b[0m\u001b[0;34m\u001b[0m\u001b[0m\n\u001b[1;32m    577\u001b[0m \u001b[0;34m\u001b[0m\u001b[0m\n\u001b[0;32m--> 578\u001b[0;31m                 \u001b[0mobj\u001b[0m \u001b[0;34m=\u001b[0m \u001b[0m_unpickle\u001b[0m\u001b[0;34m(\u001b[0m\u001b[0mfobj\u001b[0m\u001b[0;34m,\u001b[0m \u001b[0mfilename\u001b[0m\u001b[0;34m,\u001b[0m \u001b[0mmmap_mode\u001b[0m\u001b[0;34m)\u001b[0m\u001b[0;34m\u001b[0m\u001b[0m\n\u001b[0m\u001b[1;32m    579\u001b[0m \u001b[0;34m\u001b[0m\u001b[0m\n\u001b[1;32m    580\u001b[0m     \u001b[0;32mreturn\u001b[0m \u001b[0mobj\u001b[0m\u001b[0;34m\u001b[0m\u001b[0m\n",
      "\u001b[0;32m~/anaconda3/lib/python3.6/site-packages/sklearn/externals/joblib/numpy_pickle.py\u001b[0m in \u001b[0;36m_unpickle\u001b[0;34m(fobj, filename, mmap_mode)\u001b[0m\n\u001b[1;32m    506\u001b[0m     \u001b[0mobj\u001b[0m \u001b[0;34m=\u001b[0m \u001b[0;32mNone\u001b[0m\u001b[0;34m\u001b[0m\u001b[0m\n\u001b[1;32m    507\u001b[0m     \u001b[0;32mtry\u001b[0m\u001b[0;34m:\u001b[0m\u001b[0;34m\u001b[0m\u001b[0m\n\u001b[0;32m--> 508\u001b[0;31m         \u001b[0mobj\u001b[0m \u001b[0;34m=\u001b[0m \u001b[0munpickler\u001b[0m\u001b[0;34m.\u001b[0m\u001b[0mload\u001b[0m\u001b[0;34m(\u001b[0m\u001b[0;34m)\u001b[0m\u001b[0;34m\u001b[0m\u001b[0m\n\u001b[0m\u001b[1;32m    509\u001b[0m         \u001b[0;32mif\u001b[0m \u001b[0munpickler\u001b[0m\u001b[0;34m.\u001b[0m\u001b[0mcompat_mode\u001b[0m\u001b[0;34m:\u001b[0m\u001b[0;34m\u001b[0m\u001b[0m\n\u001b[1;32m    510\u001b[0m             warnings.warn(\"The file '%s' has been generated with a \"\n",
      "\u001b[0;32m~/anaconda3/lib/python3.6/pickle.py\u001b[0m in \u001b[0;36mload\u001b[0;34m(self)\u001b[0m\n\u001b[1;32m   1048\u001b[0m                     \u001b[0;32mraise\u001b[0m \u001b[0mEOFError\u001b[0m\u001b[0;34m\u001b[0m\u001b[0m\n\u001b[1;32m   1049\u001b[0m                 \u001b[0;32massert\u001b[0m \u001b[0misinstance\u001b[0m\u001b[0;34m(\u001b[0m\u001b[0mkey\u001b[0m\u001b[0;34m,\u001b[0m \u001b[0mbytes_types\u001b[0m\u001b[0;34m)\u001b[0m\u001b[0;34m\u001b[0m\u001b[0m\n\u001b[0;32m-> 1050\u001b[0;31m                 \u001b[0mdispatch\u001b[0m\u001b[0;34m[\u001b[0m\u001b[0mkey\u001b[0m\u001b[0;34m[\u001b[0m\u001b[0;36m0\u001b[0m\u001b[0;34m]\u001b[0m\u001b[0;34m]\u001b[0m\u001b[0;34m(\u001b[0m\u001b[0mself\u001b[0m\u001b[0;34m)\u001b[0m\u001b[0;34m\u001b[0m\u001b[0m\n\u001b[0m\u001b[1;32m   1051\u001b[0m         \u001b[0;32mexcept\u001b[0m \u001b[0m_Stop\u001b[0m \u001b[0;32mas\u001b[0m \u001b[0mstopinst\u001b[0m\u001b[0;34m:\u001b[0m\u001b[0;34m\u001b[0m\u001b[0m\n\u001b[1;32m   1052\u001b[0m             \u001b[0;32mreturn\u001b[0m \u001b[0mstopinst\u001b[0m\u001b[0;34m.\u001b[0m\u001b[0mvalue\u001b[0m\u001b[0;34m\u001b[0m\u001b[0m\n",
      "\u001b[0;32m~/anaconda3/lib/python3.6/pickle.py\u001b[0m in \u001b[0;36mload_global\u001b[0;34m(self)\u001b[0m\n\u001b[1;32m   1336\u001b[0m         \u001b[0mmodule\u001b[0m \u001b[0;34m=\u001b[0m \u001b[0mself\u001b[0m\u001b[0;34m.\u001b[0m\u001b[0mreadline\u001b[0m\u001b[0;34m(\u001b[0m\u001b[0;34m)\u001b[0m\u001b[0;34m[\u001b[0m\u001b[0;34m:\u001b[0m\u001b[0;34m-\u001b[0m\u001b[0;36m1\u001b[0m\u001b[0;34m]\u001b[0m\u001b[0;34m.\u001b[0m\u001b[0mdecode\u001b[0m\u001b[0;34m(\u001b[0m\u001b[0;34m\"utf-8\"\u001b[0m\u001b[0;34m)\u001b[0m\u001b[0;34m\u001b[0m\u001b[0m\n\u001b[1;32m   1337\u001b[0m         \u001b[0mname\u001b[0m \u001b[0;34m=\u001b[0m \u001b[0mself\u001b[0m\u001b[0;34m.\u001b[0m\u001b[0mreadline\u001b[0m\u001b[0;34m(\u001b[0m\u001b[0;34m)\u001b[0m\u001b[0;34m[\u001b[0m\u001b[0;34m:\u001b[0m\u001b[0;34m-\u001b[0m\u001b[0;36m1\u001b[0m\u001b[0;34m]\u001b[0m\u001b[0;34m.\u001b[0m\u001b[0mdecode\u001b[0m\u001b[0;34m(\u001b[0m\u001b[0;34m\"utf-8\"\u001b[0m\u001b[0;34m)\u001b[0m\u001b[0;34m\u001b[0m\u001b[0m\n\u001b[0;32m-> 1338\u001b[0;31m         \u001b[0mklass\u001b[0m \u001b[0;34m=\u001b[0m \u001b[0mself\u001b[0m\u001b[0;34m.\u001b[0m\u001b[0mfind_class\u001b[0m\u001b[0;34m(\u001b[0m\u001b[0mmodule\u001b[0m\u001b[0;34m,\u001b[0m \u001b[0mname\u001b[0m\u001b[0;34m)\u001b[0m\u001b[0;34m\u001b[0m\u001b[0m\n\u001b[0m\u001b[1;32m   1339\u001b[0m         \u001b[0mself\u001b[0m\u001b[0;34m.\u001b[0m\u001b[0mappend\u001b[0m\u001b[0;34m(\u001b[0m\u001b[0mklass\u001b[0m\u001b[0;34m)\u001b[0m\u001b[0;34m\u001b[0m\u001b[0m\n\u001b[1;32m   1340\u001b[0m     \u001b[0mdispatch\u001b[0m\u001b[0;34m[\u001b[0m\u001b[0mGLOBAL\u001b[0m\u001b[0;34m[\u001b[0m\u001b[0;36m0\u001b[0m\u001b[0;34m]\u001b[0m\u001b[0;34m]\u001b[0m \u001b[0;34m=\u001b[0m \u001b[0mload_global\u001b[0m\u001b[0;34m\u001b[0m\u001b[0m\n",
      "\u001b[0;32m~/anaconda3/lib/python3.6/pickle.py\u001b[0m in \u001b[0;36mfind_class\u001b[0;34m(self, module, name)\u001b[0m\n\u001b[1;32m   1386\u001b[0m             \u001b[0;32melif\u001b[0m \u001b[0mmodule\u001b[0m \u001b[0;32min\u001b[0m \u001b[0m_compat_pickle\u001b[0m\u001b[0;34m.\u001b[0m\u001b[0mIMPORT_MAPPING\u001b[0m\u001b[0;34m:\u001b[0m\u001b[0;34m\u001b[0m\u001b[0m\n\u001b[1;32m   1387\u001b[0m                 \u001b[0mmodule\u001b[0m \u001b[0;34m=\u001b[0m \u001b[0m_compat_pickle\u001b[0m\u001b[0;34m.\u001b[0m\u001b[0mIMPORT_MAPPING\u001b[0m\u001b[0;34m[\u001b[0m\u001b[0mmodule\u001b[0m\u001b[0;34m]\u001b[0m\u001b[0;34m\u001b[0m\u001b[0m\n\u001b[0;32m-> 1388\u001b[0;31m         \u001b[0m__import__\u001b[0m\u001b[0;34m(\u001b[0m\u001b[0mmodule\u001b[0m\u001b[0;34m,\u001b[0m \u001b[0mlevel\u001b[0m\u001b[0;34m=\u001b[0m\u001b[0;36m0\u001b[0m\u001b[0;34m)\u001b[0m\u001b[0;34m\u001b[0m\u001b[0m\n\u001b[0m\u001b[1;32m   1389\u001b[0m         \u001b[0;32mif\u001b[0m \u001b[0mself\u001b[0m\u001b[0;34m.\u001b[0m\u001b[0mproto\u001b[0m \u001b[0;34m>=\u001b[0m \u001b[0;36m4\u001b[0m\u001b[0;34m:\u001b[0m\u001b[0;34m\u001b[0m\u001b[0m\n\u001b[1;32m   1390\u001b[0m             \u001b[0;32mreturn\u001b[0m \u001b[0m_getattribute\u001b[0m\u001b[0;34m(\u001b[0m\u001b[0msys\u001b[0m\u001b[0;34m.\u001b[0m\u001b[0mmodules\u001b[0m\u001b[0;34m[\u001b[0m\u001b[0mmodule\u001b[0m\u001b[0;34m]\u001b[0m\u001b[0;34m,\u001b[0m \u001b[0mname\u001b[0m\u001b[0;34m)\u001b[0m\u001b[0;34m[\u001b[0m\u001b[0;36m0\u001b[0m\u001b[0;34m]\u001b[0m\u001b[0;34m\u001b[0m\u001b[0m\n",
      "\u001b[0;31mModuleNotFoundError\u001b[0m: No module named 'sklearn.ensemble.voting'"
     ]
    }
   ],
   "source": [
    "from sklearn.externals import joblib\n",
    "from sklearn.ensemble import VotingClassifier\n",
    "\n",
    "voting_leave_fluctuation_clf_2 = joblib.load('./빅콘테스트/model/version2/voting_leave_fluctuation_clf_2_version2.pkl')\n",
    "voting_amount_fluctuation_clf_2 = joblib.load('./빅콘테스트/model/version2/voting_amount_fluctuation_clf_2_version2.pkl')\n",
    "rf_leave_fluctuation_reg = joblib.load('./빅콘테스트/model/version2/rf_leave_fluctuation_reg_version2.pkl')\n",
    "xgb_leave_fluctuation_reg = joblib.load('./빅콘테스트/model/version2/xgb_leave_fluctuation_reg_version2.pkl')\n",
    "extree_leave_fluctuation_reg = joblib.load('./빅콘테스트/model/version2/extree_leave_fluctuation_reg_version2.pkl')\n",
    "lr_leave_fluctuation_reg = joblib.load('./빅콘테스트/model/version2/lr_leave_fluctuation_reg_version2.pkl')\n",
    "rf_amount_fluctuation_sub_reg = joblib.load('./빅콘테스트/model/version2/rf_amount_fluctuation_sub_reg_version2.pkl')\n",
    "xgb_amount_fluctuation_sub_reg = joblib.load('./빅콘테스트/model/version2/xgb_amount_fluctuation_sub_reg_version2.pkl')\n",
    "extree_amount_fluctuation_sub_reg = joblib.load('./빅콘테스트/model/version2/extree_amount_fluctuation_sub_reg_version2.pkl')\n",
    "lr_amount_fluctuation_sub_reg = joblib.load('./빅콘테스트/model/version2/lr_amount_fluctuation_sub_reg_version2.pkl')"
   ]
  },
  {
   "cell_type": "code",
   "execution_count": 675,
   "metadata": {},
   "outputs": [
    {
     "name": "stdout",
     "output_type": "stream",
     "text": [
      "4390.43529592148\n",
      "w1 : 0.1    w2 : 0.1    w3 : 0.1    w4 : 0.7 \t score : 4390.43529592148\n",
      "4747.324262672277\n",
      "w1 : 0.1    w2 : 0.1    w3 : 0.7    w4 : 0.1 \t score : 4747.324262672277\n",
      "4803.956817448573\n",
      "w1 : 0.1    w2 : 0.7    w3 : 0.1    w4 : 0.1 \t score : 4803.956817448573\n",
      "4779.592161150238\n",
      "w1 : 0.7    w2 : 0.1    w3 : 0.1    w4 : 0.1 \t score : 4779.592161150238\n",
      "4441.9229636899245\n",
      "w1 : 0.1    w2 : 0.1    w3 : 0.15    w4 : 0.65 \t score : 4441.9229636899245\n",
      "4756.811097509668\n",
      "w1 : 0.1    w2 : 0.15    w3 : 0.65    w4 : 0.1 \t score : 4756.811097509668\n",
      "4805.59298390803\n",
      "w1 : 0.15    w2 : 0.65    w3 : 0.1    w4 : 0.1 \t score : 4805.59298390803\n",
      "4765.540679497262\n",
      "w1 : 0.65    w2 : 0.1    w3 : 0.1    w4 : 0.15 \t score : 4765.540679497262\n",
      "4483.780372892104\n",
      "w1 : 0.1    w2 : 0.1    w3 : 0.2    w4 : 0.6 \t score : 4483.780372892104\n",
      "4761.148522231858\n",
      "w1 : 0.1    w2 : 0.2    w3 : 0.6    w4 : 0.1 \t score : 4761.148522231858\n",
      "4801.03627184851\n",
      "w1 : 0.2    w2 : 0.6    w3 : 0.1    w4 : 0.1 \t score : 4801.03627184851\n",
      "4738.841923813305\n",
      "w1 : 0.6    w2 : 0.1    w3 : 0.1    w4 : 0.2 \t score : 4738.841923813305\n",
      "4523.322247360876\n",
      "w1 : 0.1    w2 : 0.1    w3 : 0.25    w4 : 0.55 \t score : 4523.322247360876\n",
      "4770.319132124857\n",
      "w1 : 0.1    w2 : 0.25    w3 : 0.55    w4 : 0.1 \t score : 4770.319132124857\n",
      "4800.806821122554\n",
      "w1 : 0.25    w2 : 0.55    w3 : 0.1    w4 : 0.1 \t score : 4800.806821122554\n",
      "4716.935971020783\n",
      "w1 : 0.55    w2 : 0.1    w3 : 0.1    w4 : 0.25 \t score : 4716.935971020783\n",
      "4556.570874614934\n",
      "w1 : 0.1    w2 : 0.1    w3 : 0.3    w4 : 0.5 \t score : 4556.570874614934\n",
      "4771.719630634873\n",
      "w1 : 0.1    w2 : 0.3    w3 : 0.5    w4 : 0.1 \t score : 4771.719630634873\n",
      "4796.96496363112\n",
      "w1 : 0.3    w2 : 0.5    w3 : 0.1    w4 : 0.1 \t score : 4796.96496363112\n",
      "4699.456819552647\n",
      "w1 : 0.5    w2 : 0.1    w3 : 0.1    w4 : 0.3 \t score : 4699.456819552647\n",
      "4594.19752691606\n",
      "w1 : 0.1    w2 : 0.1    w3 : 0.35    w4 : 0.45 \t score : 4594.19752691606\n",
      "4773.341995816633\n",
      "w1 : 0.1    w2 : 0.35    w3 : 0.45    w4 : 0.1 \t score : 4773.341995816633\n",
      "4797.928418677726\n",
      "w1 : 0.35    w2 : 0.45    w3 : 0.1    w4 : 0.1 \t score : 4797.928418677726\n",
      "4672.292388626463\n",
      "w1 : 0.45    w2 : 0.1    w3 : 0.1    w4 : 0.35 \t score : 4672.292388626463\n",
      "4628.380356128981\n",
      "w1 : 0.1    w2 : 0.1    w3 : 0.4    w4 : 0.4 \t score : 4628.380356128981\n",
      "4779.732477287619\n",
      "w1 : 0.1    w2 : 0.4    w3 : 0.4    w4 : 0.1 \t score : 4779.732477287619\n",
      "4798.5895611616625\n",
      "w1 : 0.4    w2 : 0.4    w3 : 0.1    w4 : 0.1 \t score : 4798.5895611616625\n",
      "4644.548378475557\n",
      "w1 : 0.4    w2 : 0.1    w3 : 0.1    w4 : 0.4 \t score : 4644.548378475557\n",
      "4494.933311528135\n",
      "w1 : 0.1    w2 : 0.15    w3 : 0.15    w4 : 0.6 \t score : 4494.933311528135\n",
      "4761.013889973374\n",
      "w1 : 0.15    w2 : 0.15    w3 : 0.6    w4 : 0.1 \t score : 4761.013889973374\n",
      "4786.975062406357\n",
      "w1 : 0.15    w2 : 0.6    w3 : 0.1    w4 : 0.15 \t score : 4786.975062406357\n",
      "4766.327669576761\n",
      "w1 : 0.6    w2 : 0.1    w3 : 0.15    w4 : 0.15 \t score : 4766.327669576761\n",
      "4526.018004331069\n",
      "w1 : 0.1    w2 : 0.15    w3 : 0.2    w4 : 0.55 \t score : 4526.018004331069\n",
      "4759.5596210618505\n",
      "w1 : 0.15    w2 : 0.2    w3 : 0.55    w4 : 0.1 \t score : 4759.5596210618505\n",
      "4786.045957570301\n",
      "w1 : 0.2    w2 : 0.55    w3 : 0.1    w4 : 0.15 \t score : 4786.045957570301\n",
      "4743.086008296733\n",
      "w1 : 0.55    w2 : 0.1    w3 : 0.15    w4 : 0.2 \t score : 4743.086008296733\n",
      "4566.203333013962\n",
      "w1 : 0.1    w2 : 0.15    w3 : 0.25    w4 : 0.5 \t score : 4566.203333013962\n",
      "4767.874380159336\n",
      "w1 : 0.15    w2 : 0.25    w3 : 0.5    w4 : 0.1 \t score : 4767.874380159336\n",
      "4778.494190941307\n",
      "w1 : 0.25    w2 : 0.5    w3 : 0.1    w4 : 0.15 \t score : 4778.494190941307\n",
      "4717.280477573199\n",
      "w1 : 0.5    w2 : 0.1    w3 : 0.15    w4 : 0.25 \t score : 4717.280477573199\n",
      "4601.477854608661\n",
      "w1 : 0.1    w2 : 0.15    w3 : 0.3    w4 : 0.45 \t score : 4601.477854608661\n",
      "4771.41691449823\n",
      "w1 : 0.15    w2 : 0.3    w3 : 0.45    w4 : 0.1 \t score : 4771.41691449823\n",
      "4777.257979655003\n",
      "w1 : 0.3    w2 : 0.45    w3 : 0.1    w4 : 0.15 \t score : 4777.257979655003\n",
      "4695.962841302549\n",
      "w1 : 0.45    w2 : 0.1    w3 : 0.15    w4 : 0.3 \t score : 4695.962841302549\n",
      "4629.188239073552\n",
      "w1 : 0.1    w2 : 0.15    w3 : 0.35    w4 : 0.4 \t score : 4629.188239073552\n",
      "4774.55607491393\n",
      "w1 : 0.15    w2 : 0.35    w3 : 0.4    w4 : 0.1 \t score : 4774.55607491393\n",
      "4776.233779213323\n",
      "w1 : 0.35    w2 : 0.4    w3 : 0.1    w4 : 0.15 \t score : 4776.233779213323\n",
      "4670.247012715949\n",
      "w1 : 0.4    w2 : 0.1    w3 : 0.15    w4 : 0.35 \t score : 4670.247012715949\n",
      "4571.4452690642365\n",
      "w1 : 0.1    w2 : 0.2    w3 : 0.2    w4 : 0.5 \t score : 4571.4452690642365\n",
      "4766.409559455993\n",
      "w1 : 0.2    w2 : 0.2    w3 : 0.5    w4 : 0.1 \t score : 4766.409559455993\n",
      "4762.555425753866\n",
      "w1 : 0.2    w2 : 0.5    w3 : 0.1    w4 : 0.2 \t score : 4762.555425753866\n",
      "4739.520810997942\n",
      "w1 : 0.5    w2 : 0.1    w3 : 0.2    w4 : 0.2 \t score : 4739.520810997942\n",
      "4601.800013966302\n",
      "w1 : 0.1    w2 : 0.2    w3 : 0.25    w4 : 0.45 \t score : 4601.800013966302\n",
      "4770.809589420079\n",
      "w1 : 0.2    w2 : 0.25    w3 : 0.45    w4 : 0.1 \t score : 4770.809589420079\n",
      "4756.668090989656\n",
      "w1 : 0.25    w2 : 0.45    w3 : 0.1    w4 : 0.2 \t score : 4756.668090989656\n",
      "4716.913617835698\n",
      "w1 : 0.45    w2 : 0.1    w3 : 0.2    w4 : 0.25 \t score : 4716.913617835698\n",
      "4631.515939402055\n",
      "w1 : 0.1    w2 : 0.2    w3 : 0.3    w4 : 0.4 \t score : 4631.515939402055\n",
      "4769.304341257691\n",
      "w1 : 0.2    w2 : 0.3    w3 : 0.4    w4 : 0.1 \t score : 4769.304341257691\n",
      "4757.287177736221\n",
      "w1 : 0.3    w2 : 0.4    w3 : 0.1    w4 : 0.2 \t score : 4757.287177736221\n",
      "4689.853064372979\n",
      "w1 : 0.4    w2 : 0.1    w3 : 0.2    w4 : 0.3 \t score : 4689.853064372979\n",
      "4664.676640229565\n",
      "w1 : 0.1    w2 : 0.2    w3 : 0.35    w4 : 0.35 \t score : 4664.676640229565\n",
      "4775.345757558488\n",
      "w1 : 0.2    w2 : 0.35    w3 : 0.35    w4 : 0.1 \t score : 4775.345757558488\n",
      "4759.853980323561\n",
      "w1 : 0.35    w2 : 0.35    w3 : 0.1    w4 : 0.2 \t score : 4759.853980323561\n",
      "4663.774439509519\n",
      "w1 : 0.35    w2 : 0.1    w3 : 0.2    w4 : 0.35 \t score : 4663.774439509519\n",
      "4640.722673724513\n",
      "w1 : 0.1    w2 : 0.25    w3 : 0.25    w4 : 0.4 \t score : 4640.722673724513\n",
      "4769.437015985525\n",
      "w1 : 0.25    w2 : 0.25    w3 : 0.4    w4 : 0.1 \t score : 4769.437015985525\n",
      "4744.008170616996\n",
      "w1 : 0.25    w2 : 0.4    w3 : 0.1    w4 : 0.25 \t score : 4744.008170616996\n",
      "4713.203207310711\n",
      "w1 : 0.4    w2 : 0.1    w3 : 0.25    w4 : 0.25 \t score : 4713.203207310711\n",
      "4664.648050048834\n",
      "w1 : 0.1    w2 : 0.25    w3 : 0.3    w4 : 0.35 \t score : 4664.648050048834\n",
      "4772.768364468389\n",
      "w1 : 0.25    w2 : 0.3    w3 : 0.35    w4 : 0.1 \t score : 4772.768364468389\n",
      "4736.690138181094\n",
      "w1 : 0.3    w2 : 0.35    w3 : 0.1    w4 : 0.25 \t score : 4736.690138181094\n",
      "4689.569741390609\n",
      "w1 : 0.35    w2 : 0.1    w3 : 0.25    w4 : 0.3 \t score : 4689.569741390609\n",
      "4704.999099971181\n",
      "w1 : 0.1    w2 : 0.3    w3 : 0.3    w4 : 0.3 \t score : 4704.999099971181\n",
      "4779.948008049519\n",
      "w1 : 0.3    w2 : 0.3    w3 : 0.3    w4 : 0.1 \t score : 4779.948008049519\n",
      "4703.8135490311115\n",
      "w1 : 0.3    w2 : 0.3    w3 : 0.1    w4 : 0.3 \t score : 4703.8135490311115\n",
      "4683.14850813179\n",
      "w1 : 0.3    w2 : 0.1    w3 : 0.3    w4 : 0.3 \t score : 4683.14850813179\n",
      "4530.9896703848135\n",
      "w1 : 0.15    w2 : 0.15    w3 : 0.15    w4 : 0.55 \t score : 4530.9896703848135\n",
      "4745.380931736516\n",
      "w1 : 0.15    w2 : 0.15    w3 : 0.55    w4 : 0.15 \t score : 4745.380931736516\n",
      "4782.551057438516\n",
      "w1 : 0.15    w2 : 0.55    w3 : 0.15    w4 : 0.15 \t score : 4782.551057438516\n",
      "4766.001068104813\n",
      "w1 : 0.55    w2 : 0.15    w3 : 0.15    w4 : 0.15 \t score : 4766.001068104813\n",
      "4567.463823308914\n",
      "w1 : 0.15    w2 : 0.15    w3 : 0.2    w4 : 0.5 \t score : 4567.463823308914\n",
      "4753.0116980454095\n",
      "w1 : 0.15    w2 : 0.2    w3 : 0.5    w4 : 0.15 \t score : 4753.0116980454095\n",
      "4780.4406985272635\n",
      "w1 : 0.2    w2 : 0.5    w3 : 0.15    w4 : 0.15 \t score : 4780.4406985272635\n",
      "4748.493640785822\n",
      "w1 : 0.5    w2 : 0.15    w3 : 0.15    w4 : 0.2 \t score : 4748.493640785822\n",
      "4601.2251608047\n",
      "w1 : 0.15    w2 : 0.15    w3 : 0.25    w4 : 0.45 \t score : 4601.2251608047\n",
      "4755.618658688234\n",
      "w1 : 0.15    w2 : 0.25    w3 : 0.45    w4 : 0.15 \t score : 4755.618658688234\n",
      "4775.068772427704\n",
      "w1 : 0.25    w2 : 0.45    w3 : 0.15    w4 : 0.15 \t score : 4775.068772427704\n",
      "4726.985049938427\n",
      "w1 : 0.45    w2 : 0.15    w3 : 0.15    w4 : 0.25 \t score : 4726.985049938427\n",
      "4632.634756639766\n",
      "w1 : 0.15    w2 : 0.15    w3 : 0.3    w4 : 0.4 \t score : 4632.634756639766\n"
     ]
    },
    {
     "name": "stdout",
     "output_type": "stream",
     "text": [
      "4764.317947216658\n",
      "w1 : 0.15    w2 : 0.3    w3 : 0.4    w4 : 0.15 \t score : 4764.317947216658\n",
      "4774.302500636768\n",
      "w1 : 0.3    w2 : 0.4    w3 : 0.15    w4 : 0.15 \t score : 4774.302500636768\n",
      "4694.744262503414\n",
      "w1 : 0.4    w2 : 0.15    w3 : 0.15    w4 : 0.3 \t score : 4694.744262503414\n",
      "4662.512577139302\n",
      "w1 : 0.15    w2 : 0.15    w3 : 0.35    w4 : 0.35 \t score : 4662.512577139302\n",
      "4766.3609438938065\n",
      "w1 : 0.15    w2 : 0.35    w3 : 0.35    w4 : 0.15 \t score : 4766.3609438938065\n",
      "4772.517748063041\n",
      "w1 : 0.35    w2 : 0.35    w3 : 0.15    w4 : 0.15 \t score : 4772.517748063041\n",
      "4675.794028836311\n",
      "w1 : 0.35    w2 : 0.15    w3 : 0.15    w4 : 0.35 \t score : 4675.794028836311\n",
      "4606.650707812594\n",
      "w1 : 0.15    w2 : 0.2    w3 : 0.2    w4 : 0.45 \t score : 4606.650707812594\n",
      "4755.018874451832\n",
      "w1 : 0.2    w2 : 0.2    w3 : 0.45    w4 : 0.15 \t score : 4755.018874451832\n",
      "4760.278048473725\n",
      "w1 : 0.2    w2 : 0.45    w3 : 0.15    w4 : 0.2 \t score : 4760.278048473725\n",
      "4745.5287259607085\n",
      "w1 : 0.45    w2 : 0.15    w3 : 0.2    w4 : 0.2 \t score : 4745.5287259607085\n",
      "4631.574547239845\n",
      "w1 : 0.15    w2 : 0.2    w3 : 0.25    w4 : 0.4 \t score : 4631.574547239845\n",
      "4756.379915472298\n",
      "w1 : 0.2    w2 : 0.25    w3 : 0.4    w4 : 0.15 \t score : 4756.379915472298\n",
      "4755.886011066388\n",
      "w1 : 0.25    w2 : 0.4    w3 : 0.15    w4 : 0.2 \t score : 4755.886011066388\n",
      "4715.682229103035\n",
      "w1 : 0.4    w2 : 0.15    w3 : 0.2    w4 : 0.25 \t score : 4715.682229103035\n",
      "4660.337351265727\n",
      "w1 : 0.15    w2 : 0.2    w3 : 0.3    w4 : 0.35 \t score : 4660.337351265727\n",
      "4762.370376964294\n",
      "w1 : 0.2    w2 : 0.3    w3 : 0.35    w4 : 0.15 \t score : 4762.370376964294\n",
      "4756.5180374705205\n",
      "w1 : 0.3    w2 : 0.35    w3 : 0.15    w4 : 0.2 \t score : 4756.5180374705205\n",
      "4694.118797683549\n",
      "w1 : 0.35    w2 : 0.15    w3 : 0.2    w4 : 0.3 \t score : 4694.118797683549\n",
      "4664.145947174488\n",
      "w1 : 0.15    w2 : 0.25    w3 : 0.25    w4 : 0.35 \t score : 4664.145947174488\n",
      "4757.155689305733\n",
      "w1 : 0.25    w2 : 0.25    w3 : 0.35    w4 : 0.15 \t score : 4757.155689305733\n",
      "4734.025614641456\n",
      "w1 : 0.25    w2 : 0.35    w3 : 0.15    w4 : 0.25 \t score : 4734.025614641456\n",
      "4716.135672147048\n",
      "w1 : 0.35    w2 : 0.15    w3 : 0.25    w4 : 0.25 \t score : 4716.135672147048\n",
      "4700.199027989854\n",
      "w1 : 0.15    w2 : 0.25    w3 : 0.3    w4 : 0.3 \t score : 4700.199027989854\n",
      "4763.149672374568\n",
      "w1 : 0.25    w2 : 0.3    w3 : 0.3    w4 : 0.15 \t score : 4763.149672374568\n",
      "4730.956879942065\n",
      "w1 : 0.3    w2 : 0.3    w3 : 0.15    w4 : 0.25 \t score : 4730.956879942065\n",
      "4690.266895375111\n",
      "w1 : 0.3    w2 : 0.15    w3 : 0.25    w4 : 0.3 \t score : 4690.266895375111\n",
      "4631.441298090186\n",
      "w1 : 0.2    w2 : 0.2    w3 : 0.2    w4 : 0.4 \t score : 4631.441298090186\n",
      "4736.704040485919\n",
      "w1 : 0.2    w2 : 0.2    w3 : 0.4    w4 : 0.2 \t score : 4736.704040485919\n",
      "4754.202644308801\n",
      "w1 : 0.2    w2 : 0.4    w3 : 0.2    w4 : 0.2 \t score : 4754.202644308801\n",
      "4749.954263309191\n",
      "w1 : 0.4    w2 : 0.2    w3 : 0.2    w4 : 0.2 \t score : 4749.954263309191\n",
      "4658.247656050273\n",
      "w1 : 0.2    w2 : 0.2    w3 : 0.25    w4 : 0.35 \t score : 4658.247656050273\n",
      "4744.981224925289\n",
      "w1 : 0.2    w2 : 0.25    w3 : 0.35    w4 : 0.2 \t score : 4744.981224925289\n",
      "4749.658341496412\n",
      "w1 : 0.25    w2 : 0.35    w3 : 0.2    w4 : 0.2 \t score : 4749.658341496412\n",
      "4724.847354073838\n",
      "w1 : 0.35    w2 : 0.2    w3 : 0.2    w4 : 0.25 \t score : 4724.847354073838\n",
      "4695.568137946653\n",
      "w1 : 0.2    w2 : 0.2    w3 : 0.3    w4 : 0.3 \t score : 4695.568137946653\n",
      "4748.902687108445\n",
      "w1 : 0.2    w2 : 0.3    w3 : 0.3    w4 : 0.2 \t score : 4748.902687108445\n",
      "4752.68620805302\n",
      "w1 : 0.3    w2 : 0.3    w3 : 0.2    w4 : 0.2 \t score : 4752.68620805302\n",
      "4695.991034815416\n",
      "w1 : 0.3    w2 : 0.2    w3 : 0.2    w4 : 0.3 \t score : 4695.991034815416\n",
      "4729.111600731845\n",
      "w1 : 0.25    w2 : 0.25    w3 : 0.25    w4 : 0.25 \t score : 4729.111600731845\n",
      "4729.111600731845\n",
      "w1 : 0.25    w2 : 0.25    w3 : 0.25    w4 : 0.25 \t score : 4729.111600731845\n",
      "4729.111600731845\n",
      "w1 : 0.25    w2 : 0.25    w3 : 0.25    w4 : 0.25 \t score : 4729.111600731845\n",
      "4729.111600731845\n",
      "w1 : 0.25    w2 : 0.25    w3 : 0.25    w4 : 0.25 \t score : 4729.111600731845\n"
     ]
    }
   ],
   "source": [
    "from score_function import score_function\n",
    "\n",
    "w_list = [[0.1, 0.1, 0.1, 0.7], [0.1, 0.1, 0.15, 0.65], [0.1, 0.1, 0.2, 0.6], [0.1, 0.1, 0.25, 0.55],\n",
    "          [0.1, 0.1, 0.3, 0.5], [0.1, 0.1, 0.35, 0.45], [0.1, 0.1, 0.4, 0.4], [0.1, 0.15, 0.15, 0.6],\n",
    "          [0.1, 0.15, 0.2, 0.55], [0.1, 0.15, 0.25, 0.5], [0.1, 0.15, 0.3, 0.45], [0.1, 0.15, 0.35, 0.4],\n",
    "          [0.1, 0.2, 0.2, 0.5], [0.1, 0.2, 0.25, 0.45], [0.1, 0.2, 0.3, 0.4], [0.1, 0.2, 0.35, 0.35],\n",
    "          [0.1, 0.25, 0.25, 0.4], [0.1, 0.25, 0.3, 0.35], [0.1, 0.3, 0.3, 0.3], [0.15, 0.15, 0.15, 0.55],\n",
    "          [0.15, 0.15, 0.2, 0.5], [0.15, 0.15, 0.25, 0.45], [0.15, 0.15, 0.3, 0.4], [0.15, 0.15, 0.35, 0.35],\n",
    "          [0.15, 0.2, 0.2, 0.45], [0.15, 0.2, 0.25, 0.4], [0.15, 0.2, 0.3, 0.35], [0.15, 0.25, 0.25, 0.35],\n",
    "          [0.15, 0.25, 0.3, 0.3], [0.2, 0.2, 0.2, 0.4], [0.2, 0.2, 0.25, 0.35], [0.2, 0.2, 0.3, 0.3],\n",
    "          [0.25, 0.25, 0.25, 0.25]]\n",
    "\n",
    "for i in range(0, len(w_list)):\n",
    "    for j in range(0, 4):\n",
    "        w1 = w_list[i][j % 4]\n",
    "        w2 = w_list[i][(j + 1) % 4]\n",
    "        w3 = w_list[i][(j + 2) % 4]\n",
    "        w4 = w_list[i][(j + 3) % 4]\n",
    "        \n",
    "        test_pred = predict(model1 = voting_leave_fluctuation_clf_2, model2 = voting_amount_fluctuation_clf_2, \n",
    "                            model3 = rf_leave_fluctuation_reg, model4 = xgb_leave_fluctuation_reg,\n",
    "                            model5 = extree_leave_fluctuation_reg, model6 = lr_leave_fluctuation_reg,\n",
    "                            model7 = rf_amount_fluctuation_sub_reg, model8 = xgb_amount_fluctuation_sub_reg,\n",
    "                            model9 = extree_amount_fluctuation_sub_reg, model10 = lr_amount_fluctuation_sub_reg,\n",
    "                            data = X_test_fluctuation,\n",
    "                            w1 = w1, w2 = w2, w3 = w3, w4 = w4, w5 = 1.3, w6 = 0.1, w7 = 0.3, w8 = 0.3)\n",
    "        \n",
    "        test_pred.to_csv('y_pred_ver2.csv', index = False)\n",
    "        score = score_function('y_pred_ver2.csv', 'true.csv')\n",
    "        print('w1 :', w1, '   w2 :', w2, '   w3 :', w3, '   w4 :', w4, '\\t score :', score)"
   ]
  },
  {
   "cell_type": "code",
   "execution_count": 703,
   "metadata": {
    "scrolled": true
   },
   "outputs": [],
   "source": [
    "test_pred = predict(model1 = voting_leave_fluctuation_clf_2, model2 = voting_amount_fluctuation_clf_2, \n",
    "                            model3 = rf_leave_fluctuation_reg, model4 = xgb_leave_fluctuation_reg,\n",
    "                            model5 = extree_leave_fluctuation_reg, model6 = lr_leave_fluctuation_reg,\n",
    "                            model7 = rf_amount_fluctuation_sub_reg, model8 = xgb_amount_fluctuation_sub_reg,\n",
    "                            model9 = extree_amount_fluctuation_sub_reg, model10 = lr_amount_fluctuation_sub_reg,\n",
    "                            data = X_test_fluctuation,\n",
    "                            w1 = 0.15, w2 = 0.65, w3 = 0.1, w4 = 0.1, w5 = 1.4 * 1.5, w6 = 0.2 * 1.5, w7 = 0.2 * 1.5, w8 = 0.2 * 1.5) "
   ]
  },
  {
   "cell_type": "code",
   "execution_count": 704,
   "metadata": {},
   "outputs": [
    {
     "name": "stdout",
     "output_type": "stream",
     "text": [
      "5232.479803251927\n"
     ]
    }
   ],
   "source": [
    "test_pred.to_csv('y_pred_ver2.csv', index = False)\n",
    "score = score_function('y_pred_ver2.csv', 'true.csv')"
   ]
  },
  {
   "cell_type": "code",
   "execution_count": 705,
   "metadata": {},
   "outputs": [],
   "source": [
    "test1_pred = predict(model1 = voting_leave_fluctuation_clf_2, model2 = voting_amount_fluctuation_clf_2, \n",
    "                            model3 = rf_leave_fluctuation_reg, model4 = xgb_leave_fluctuation_reg,\n",
    "                            model5 = extree_leave_fluctuation_reg, model6 = lr_leave_fluctuation_reg,\n",
    "                            model7 = rf_amount_fluctuation_sub_reg, model8 = xgb_amount_fluctuation_sub_reg,\n",
    "                            model9 = extree_amount_fluctuation_sub_reg, model10 = lr_amount_fluctuation_sub_reg,\n",
    "                            data = X_test1_fluctuation,\n",
    "                            w1 = 0.15, w2 = 0.65, w3 = 0.1, w4 = 0.1, w5 = 1.4 * 1.5, w6 = 0.2 * 1.5, w7 = 0.2 * 1.5, w8 = 0.2 * 1.5)"
   ]
  },
  {
   "cell_type": "code",
   "execution_count": 706,
   "metadata": {},
   "outputs": [],
   "source": [
    "test2_pred = predict(model1 = voting_leave_fluctuation_clf_2, model2 = voting_amount_fluctuation_clf_2, \n",
    "                            model3 = rf_leave_fluctuation_reg, model4 = xgb_leave_fluctuation_reg,\n",
    "                            model5 = extree_leave_fluctuation_reg, model6 = lr_leave_fluctuation_reg,\n",
    "                            model7 = rf_amount_fluctuation_sub_reg, model8 = xgb_amount_fluctuation_sub_reg,\n",
    "                            model9 = extree_amount_fluctuation_sub_reg, model10 = lr_amount_fluctuation_sub_reg,\n",
    "                            data = X_test2_fluctuation,\n",
    "                            w1 = 0.15, w2 = 0.65, w3 = 0.1, w4 = 0.1, w5 = 1.4 * 1.5, w6 = 0.2 * 1.5, w7 = 0.2 * 1.5, w8 = 0.2 * 1.5)"
   ]
  },
  {
   "cell_type": "code",
   "execution_count": 707,
   "metadata": {},
   "outputs": [
    {
     "name": "stdout",
     "output_type": "stream",
     "text": [
      "0\n",
      "0\n",
      "0\n",
      "0\n"
     ]
    }
   ],
   "source": [
    "print((test1_pred['survival_time'] > 64).sum())\n",
    "print((test2_pred['survival_time'] > 64).sum())\n",
    "print((test1_pred['survival_time'] <= 0).sum())\n",
    "print((test2_pred['survival_time'] <= 0).sum())"
   ]
  },
  {
   "cell_type": "code",
   "execution_count": 708,
   "metadata": {},
   "outputs": [
    {
     "name": "stdout",
     "output_type": "stream",
     "text": [
      "0\n",
      "0\n"
     ]
    }
   ],
   "source": [
    "print((test1_pred['amount_spent'] < 0).sum())\n",
    "print((test2_pred['amount_spent'] < 0).sum())"
   ]
  },
  {
   "cell_type": "code",
   "execution_count": 709,
   "metadata": {},
   "outputs": [
    {
     "name": "stdout",
     "output_type": "stream",
     "text": [
      "5969.78460560885\n",
      "17298.998635161137\n",
      "22546.065712006937\n"
     ]
    }
   ],
   "source": [
    "print(test_pred['amount_spent'].sum())\n",
    "print(test1_pred['amount_spent'].sum())\n",
    "print(test2_pred['amount_spent'].sum())"
   ]
  },
  {
   "cell_type": "code",
   "execution_count": 710,
   "metadata": {},
   "outputs": [],
   "source": [
    "test1_pred.to_csv('test1_predict.csv', index = False)\n",
    "test2_pred.to_csv('test2_predict.csv', index = False)"
   ]
  },
  {
   "cell_type": "markdown",
   "metadata": {},
   "source": [
    "# bayesian optimization"
   ]
  },
  {
   "cell_type": "code",
   "execution_count": 711,
   "metadata": {},
   "outputs": [],
   "source": [
    "def black_box_function(w1, w2, w3, w4, w5, w6, w7, w8):\n",
    "    test_pred = predict(model1 = voting_leave_fluctuation_clf_2, model2 = voting_amount_fluctuation_clf_2, \n",
    "                            model3 = rf_leave_fluctuation_reg, model4 = xgb_leave_fluctuation_reg,\n",
    "                            model5 = extree_leave_fluctuation_reg, model6 = lr_leave_fluctuation_reg,\n",
    "                            model7 = rf_amount_fluctuation_sub_reg, model8 = xgb_amount_fluctuation_sub_reg,\n",
    "                            model9 = extree_amount_fluctuation_sub_reg, model10 = lr_amount_fluctuation_sub_reg,\n",
    "                            data = X_test_fluctuation,\n",
    "                            w1 = w1, w2 = w2, w3 = w3, w4 = w4, w5 = w5, w6 = w6, w7 = w7, w8 = w8)\n",
    "    \n",
    "    test_pred.to_csv('y_pred_ver2.csv', index = False)\n",
    "    score = score_function('y_pred_ver2.csv', 'true.csv')\n",
    "    return score"
   ]
  },
  {
   "cell_type": "code",
   "execution_count": 719,
   "metadata": {},
   "outputs": [
    {
     "ename": "ModuleNotFoundError",
     "evalue": "No module named 'sklearn.gaussian_process'",
     "output_type": "error",
     "traceback": [
      "\u001b[0;31m---------------------------------------------------------------------------\u001b[0m",
      "\u001b[0;31mModuleNotFoundError\u001b[0m                       Traceback (most recent call last)",
      "\u001b[0;32m<ipython-input-719-e3a36ef75568>\u001b[0m in \u001b[0;36m<module>\u001b[0;34m\u001b[0m\n\u001b[0;32m----> 1\u001b[0;31m \u001b[0;32mfrom\u001b[0m \u001b[0mbayes_opt\u001b[0m \u001b[0;32mimport\u001b[0m \u001b[0mBayesianOptimization\u001b[0m\u001b[0;34m\u001b[0m\u001b[0;34m\u001b[0m\u001b[0m\n\u001b[0m\u001b[1;32m      2\u001b[0m \u001b[0;34m\u001b[0m\u001b[0m\n\u001b[1;32m      3\u001b[0m pbounds = {'w1' : (0, 1), 'w2' : (0, 1), 'w3' : (0, 1), 'w4' : (0, 1),\n\u001b[1;32m      4\u001b[0m           'w5' : (0, 3), 'w6' : (0, 3), 'w7' : (0, 3), 'w8' : (0, 3)}\n\u001b[1;32m      5\u001b[0m \u001b[0;34m\u001b[0m\u001b[0m\n",
      "\u001b[0;32m~/anaconda3/bayes_opt/__init__.py\u001b[0m in \u001b[0;36m<module>\u001b[0;34m\u001b[0m\n\u001b[0;32m----> 1\u001b[0;31m \u001b[0;32mfrom\u001b[0m \u001b[0;34m.\u001b[0m\u001b[0mbayesian_optimization\u001b[0m \u001b[0;32mimport\u001b[0m \u001b[0mBayesianOptimization\u001b[0m\u001b[0;34m,\u001b[0m \u001b[0mEvents\u001b[0m\u001b[0;34m\u001b[0m\u001b[0;34m\u001b[0m\u001b[0m\n\u001b[0m\u001b[1;32m      2\u001b[0m \u001b[0;32mfrom\u001b[0m \u001b[0;34m.\u001b[0m\u001b[0mutil\u001b[0m \u001b[0;32mimport\u001b[0m \u001b[0mUtilityFunction\u001b[0m\u001b[0;34m\u001b[0m\u001b[0;34m\u001b[0m\u001b[0m\n\u001b[1;32m      3\u001b[0m \u001b[0;32mfrom\u001b[0m \u001b[0;34m.\u001b[0m\u001b[0mlogger\u001b[0m \u001b[0;32mimport\u001b[0m \u001b[0mScreenLogger\u001b[0m\u001b[0;34m,\u001b[0m \u001b[0mJSONLogger\u001b[0m\u001b[0;34m\u001b[0m\u001b[0;34m\u001b[0m\u001b[0m\n\u001b[1;32m      4\u001b[0m \u001b[0;34m\u001b[0m\u001b[0m\n\u001b[1;32m      5\u001b[0m __all__ = [\n",
      "\u001b[0;32m~/anaconda3/bayes_opt/bayesian_optimization.py\u001b[0m in \u001b[0;36m<module>\u001b[0;34m\u001b[0m\n\u001b[1;32m      7\u001b[0m \u001b[0;32mfrom\u001b[0m \u001b[0;34m.\u001b[0m\u001b[0mutil\u001b[0m \u001b[0;32mimport\u001b[0m \u001b[0mUtilityFunction\u001b[0m\u001b[0;34m,\u001b[0m \u001b[0macq_max\u001b[0m\u001b[0;34m,\u001b[0m \u001b[0mensure_rng\u001b[0m\u001b[0;34m\u001b[0m\u001b[0;34m\u001b[0m\u001b[0m\n\u001b[1;32m      8\u001b[0m \u001b[0;34m\u001b[0m\u001b[0m\n\u001b[0;32m----> 9\u001b[0;31m \u001b[0;32mfrom\u001b[0m \u001b[0msklearn\u001b[0m\u001b[0;34m.\u001b[0m\u001b[0mgaussian_process\u001b[0m\u001b[0;34m.\u001b[0m\u001b[0mkernels\u001b[0m \u001b[0;32mimport\u001b[0m \u001b[0mMatern\u001b[0m\u001b[0;34m\u001b[0m\u001b[0;34m\u001b[0m\u001b[0m\n\u001b[0m\u001b[1;32m     10\u001b[0m \u001b[0;32mfrom\u001b[0m \u001b[0msklearn\u001b[0m\u001b[0;34m.\u001b[0m\u001b[0mgaussian_process\u001b[0m \u001b[0;32mimport\u001b[0m \u001b[0mGaussianProcessRegressor\u001b[0m\u001b[0;34m\u001b[0m\u001b[0;34m\u001b[0m\u001b[0m\n\u001b[1;32m     11\u001b[0m \u001b[0;34m\u001b[0m\u001b[0m\n",
      "\u001b[0;31mModuleNotFoundError\u001b[0m: No module named 'sklearn.gaussian_process'"
     ]
    }
   ],
   "source": [
    "from bayes_opt import BayesianOptimization\n",
    "\n",
    "pbounds = {'w1' : (0, 1), 'w2' : (0, 1), 'w3' : (0, 1), 'w4' : (0, 1),\n",
    "          'w5' : (0, 3), 'w6' : (0, 3), 'w7' : (0, 3), 'w8' : (0, 3)}\n",
    "\n",
    "optimizer = BayesianOptimization(\n",
    "    f = black_box_function,\n",
    "    pbounds = pbounds,\n",
    "    random_state = 42,\n",
    ")"
   ]
  },
  {
   "cell_type": "code",
   "execution_count": null,
   "metadata": {},
   "outputs": [],
   "source": []
  },
  {
   "cell_type": "code",
   "execution_count": null,
   "metadata": {},
   "outputs": [],
   "source": []
  },
  {
   "cell_type": "markdown",
   "metadata": {},
   "source": [
    "#### 앙상블"
   ]
  },
  {
   "cell_type": "code",
   "execution_count": 613,
   "metadata": {},
   "outputs": [],
   "source": [
    "from sklearn.ensemble import RandomForestRegressor\n",
    "from sklearn.externals import joblib\n",
    "\n",
    "for i in range(1, 16):\n",
    "    rf_amount_fluctuation_sub_reg = RandomForestRegressor(random_state = 10 * i, max_features = 9, n_estimators = 300)\n",
    "    rf_amount_fluctuation_sub_reg.fit(train_fluctuation_sub.iloc[:, 1:-4], train_fluctuation_sub['amount_spent'])\n",
    "    model_path = './빅콘테스트/model/version2/rf_amount_fluctuation_sub_reg_' + str(i) + '_version2.pkl'\n",
    "    joblib.dump(rf_amount_fluctuation_sub_reg, model_path)"
   ]
  },
  {
   "cell_type": "code",
   "execution_count": null,
   "metadata": {},
   "outputs": [],
   "source": []
  }
 ],
 "metadata": {
  "kernelspec": {
   "display_name": "Python 3",
   "language": "python",
   "name": "python3"
  },
  "language_info": {
   "codemirror_mode": {
    "name": "ipython",
    "version": 3
   },
   "file_extension": ".py",
   "mimetype": "text/x-python",
   "name": "python",
   "nbconvert_exporter": "python",
   "pygments_lexer": "ipython3",
   "version": "3.6.4"
  }
 },
 "nbformat": 4,
 "nbformat_minor": 2
}
