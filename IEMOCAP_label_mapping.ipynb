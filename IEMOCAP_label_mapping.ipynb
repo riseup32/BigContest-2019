{
 "cells": [
  {
   "cell_type": "code",
   "execution_count": 1,
   "metadata": {},
   "outputs": [],
   "source": [
    "import os\n",
    "import glob\n",
    "import pandas as pd"
   ]
  },
  {
   "cell_type": "code",
   "execution_count": 2,
   "metadata": {},
   "outputs": [],
   "source": [
    "sample_name = []\n",
    "sample_label = []\n",
    "\n",
    "for i in range(1, 6):\n",
    "    root_dir = './wav_data/raw/IEMOCAP/Session%d/dialog/EmoEvaluation/'%i\n",
    "    samples_dir = glob.glob(os.path.join(root_dir, '*.txt'), recursive=True)\n",
    "    samples_dir = sorted(samples_dir)\n",
    "    for j in range(len(samples_dir)):\n",
    "        f = open(samples_dir[j], 'r')\n",
    "        lines = f.readlines()\n",
    "        for line in lines:\n",
    "            if 'Ses' in line:\n",
    "                sample_name.append(line.split('\\t')[1])\n",
    "                sample_label.append(line.split('\\t')[2])"
   ]
  },
  {
   "cell_type": "code",
   "execution_count": 3,
   "metadata": {},
   "outputs": [
    {
     "data": {
      "text/plain": [
       "(10039, 10039)"
      ]
     },
     "execution_count": 3,
     "metadata": {},
     "output_type": "execute_result"
    }
   ],
   "source": [
    "len(sample_name), len(sample_label)"
   ]
  },
  {
   "cell_type": "code",
   "execution_count": 4,
   "metadata": {},
   "outputs": [],
   "source": [
    "df = pd.DataFrame({'sample_name': sample_name, 'sample_label': sample_label})"
   ]
  },
  {
   "cell_type": "code",
   "execution_count": 5,
   "metadata": {},
   "outputs": [],
   "source": [
    "df.to_csv('IEMOCAP_label.csv', index=False)"
   ]
  },
  {
   "cell_type": "code",
   "execution_count": null,
   "metadata": {},
   "outputs": [],
   "source": []
  }
 ],
 "metadata": {
  "kernelspec": {
   "display_name": "Python 3",
   "language": "python",
   "name": "python3"
  },
  "language_info": {
   "codemirror_mode": {
    "name": "ipython",
    "version": 3
   },
   "file_extension": ".py",
   "mimetype": "text/x-python",
   "name": "python",
   "nbconvert_exporter": "python",
   "pygments_lexer": "ipython3",
   "version": "3.6.9"
  }
 },
 "nbformat": 4,
 "nbformat_minor": 4
}
