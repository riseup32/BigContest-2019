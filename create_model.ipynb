{
 "cells": [
  {
   "cell_type": "code",
   "execution_count": 1,
   "metadata": {},
   "outputs": [],
   "source": [
    "import os\n",
    "import pandas as pd\n",
    "import numpy as np"
   ]
  },
  {
   "cell_type": "code",
   "execution_count": 2,
   "metadata": {},
   "outputs": [],
   "source": [
    "__file__ = os.getcwd()\n",
    "path_data_train = os.path.join(os.path.realpath(__file__).rsplit('/', 1)[0], 'preprocess', 'train_preprocess_2.csv')\n",
    "path_label = os.path.join(os.path.realpath(__file__).rsplit('/', 1)[0], 'raw', 'train_label.csv')"
   ]
  },
  {
   "cell_type": "code",
   "execution_count": 3,
   "metadata": {},
   "outputs": [],
   "source": [
    "X_train = pd.read_csv(path_data_train, engine = 'python')\n",
    "y_train = pd.read_csv(path_label, engine = 'python')"
   ]
  },
  {
   "cell_type": "code",
   "execution_count": 4,
   "metadata": {},
   "outputs": [
    {
     "name": "stderr",
     "output_type": "stream",
     "text": [
      "/home/user3/anaconda3/bigcontest/model:3: SettingWithCopyWarning: \n",
      "A value is trying to be set on a copy of a slice from a DataFrame\n",
      "\n",
      "See the caveats in the documentation: http://pandas.pydata.org/pandas-docs/stable/user_guide/indexing.html#returning-a-view-versus-a-copy\n"
     ]
    }
   ],
   "source": [
    "# 잔존 고객 0, 이탈 고객 1\n",
    "y_train['leave'] = 0\n",
    "y_train['leave'][y_train.survival_time < 64] = 1"
   ]
  },
  {
   "cell_type": "code",
   "execution_count": 5,
   "metadata": {},
   "outputs": [
    {
     "name": "stderr",
     "output_type": "stream",
     "text": [
      "/home/user3/anaconda3/bigcontest/model:3: SettingWithCopyWarning: \n",
      "A value is trying to be set on a copy of a slice from a DataFrame\n",
      "\n",
      "See the caveats in the documentation: http://pandas.pydata.org/pandas-docs/stable/user_guide/indexing.html#returning-a-view-versus-a-copy\n"
     ]
    }
   ],
   "source": [
    "# 결제 기록이 없으면 0, 결제 기록이 있으면 1\n",
    "y_train['amount'] = 0\n",
    "y_train['amount'][y_train.amount_spent > 0] = 1"
   ]
  },
  {
   "cell_type": "code",
   "execution_count": 6,
   "metadata": {},
   "outputs": [],
   "source": [
    "from sklearn.model_selection import StratifiedShuffleSplit\n",
    "\n",
    "split = StratifiedShuffleSplit(n_splits = 1, test_size = 0.25, random_state = 42)\n",
    "for train_index, test_index in split.split(y_train, y_train['leave']):\n",
    "    strat_y_train = y_train.loc[train_index]\n",
    "    strat_y_test = y_train.loc[test_index]"
   ]
  },
  {
   "cell_type": "code",
   "execution_count": 7,
   "metadata": {},
   "outputs": [],
   "source": [
    "y_train = strat_y_train.sort_values(['acc_id'], ascending = True)\n",
    "y_test = strat_y_test.sort_values(['acc_id'], ascending = True)"
   ]
  },
  {
   "cell_type": "markdown",
   "metadata": {},
   "source": [
    "# 모델링"
   ]
  },
  {
   "cell_type": "markdown",
   "metadata": {},
   "source": [
    "모델링 과정에서 교차검증을 통해 얻은 hyperparameter를 그대로 사용하지 않고 근처의 값을 사용하였는데, 이는 실제 평가 척도인 기대 이익에 최적화하는 과정에서 더 나은 결과를 보이는 hyperparameter를 사용하였기 때문입니다."
   ]
  },
  {
   "cell_type": "markdown",
   "metadata": {},
   "source": [
    "## 이탈 여부"
   ]
  },
  {
   "cell_type": "markdown",
   "metadata": {},
   "source": [
    "### RandomForest"
   ]
  },
  {
   "cell_type": "code",
   "execution_count": 8,
   "metadata": {},
   "outputs": [
    {
     "name": "stdout",
     "output_type": "stream",
     "text": [
      "Fitting 5 folds for each of 12 candidates, totalling 60 fits\n"
     ]
    },
    {
     "name": "stderr",
     "output_type": "stream",
     "text": [
      "[Parallel(n_jobs=-1)]: Using backend LokyBackend with 32 concurrent workers.\n",
      "[Parallel(n_jobs=-1)]: Done  28 out of  60 | elapsed:  2.1min remaining:  2.4min\n",
      "[Parallel(n_jobs=-1)]: Done  60 out of  60 | elapsed:  3.8min finished\n"
     ]
    },
    {
     "data": {
      "text/plain": [
       "GridSearchCV(cv=5, error_score='raise-deprecating',\n",
       "             estimator=RandomForestClassifier(bootstrap=True, class_weight=None,\n",
       "                                              criterion='gini', max_depth=None,\n",
       "                                              max_features='auto',\n",
       "                                              max_leaf_nodes=None,\n",
       "                                              min_impurity_decrease=0.0,\n",
       "                                              min_impurity_split=None,\n",
       "                                              min_samples_leaf=1,\n",
       "                                              min_samples_split=2,\n",
       "                                              min_weight_fraction_leaf=0.0,\n",
       "                                              n_estimators='warn', n_jobs=None,\n",
       "                                              oob_score=False, random_state=42,\n",
       "                                              verbose=0, warm_start=False),\n",
       "             iid='warn', n_jobs=-1,\n",
       "             param_grid=[{'max_features': [14, 15, 16, 17],\n",
       "                          'n_estimators': [300, 500, 750]}],\n",
       "             pre_dispatch='2*n_jobs', refit=True, return_train_score=False,\n",
       "             scoring='accuracy', verbose=2)"
      ]
     },
     "execution_count": 8,
     "metadata": {},
     "output_type": "execute_result"
    }
   ],
   "source": [
    "from sklearn.ensemble import RandomForestClassifier\n",
    "from sklearn.model_selection import GridSearchCV\n",
    "\n",
    "rf = RandomForestClassifier(random_state=42)\n",
    "\n",
    "param_grid = [\n",
    "    {'n_estimators' : [300, 500, 750], 'max_features' : [14, 15, 16, 17]}\n",
    "  ]\n",
    "\n",
    "grid_search = GridSearchCV(rf, param_grid, cv = 5,\n",
    "                           scoring = 'accuracy', verbose = 2, n_jobs = -1)\n",
    "\n",
    "grid_search.fit(X_train.iloc[:, 1:], y_train['leave'])"
   ]
  },
  {
   "cell_type": "code",
   "execution_count": 9,
   "metadata": {},
   "outputs": [
    {
     "name": "stdout",
     "output_type": "stream",
     "text": [
      "0.7696333333333333\n",
      "{'max_features': 16, 'n_estimators': 750}\n"
     ]
    }
   ],
   "source": [
    "print(grid_search.best_score_)\n",
    "print(grid_search.best_params_)"
   ]
  },
  {
   "cell_type": "code",
   "execution_count": 10,
   "metadata": {},
   "outputs": [
    {
     "name": "stderr",
     "output_type": "stream",
     "text": [
      "/home/user3/anaconda3/envs/hun/lib/python3.6/site-packages/sklearn/externals/joblib/__init__.py:15: DeprecationWarning: sklearn.externals.joblib is deprecated in 0.21 and will be removed in 0.23. Please import this functionality directly from joblib, which can be installed with: pip install joblib. If this warning is raised when loading pickled models, you may need to re-serialize those models with scikit-learn 0.21+.\n",
      "  warnings.warn(msg, category=DeprecationWarning)\n"
     ]
    },
    {
     "data": {
      "text/plain": [
       "['./rf_leave_clf.pkl']"
      ]
     },
     "execution_count": 10,
     "metadata": {},
     "output_type": "execute_result"
    }
   ],
   "source": [
    "from sklearn.externals import joblib\n",
    "\n",
    "rf_leave_clf = RandomForestClassifier(random_state = 42, max_features = 15, n_estimators = 750, n_jobs = -1)\n",
    "rf_leave_clf.fit(X_train.iloc[:, 1:], y_train['leave'])\n",
    "joblib.dump(rf_leave_clf, './rf_leave_clf.pkl')"
   ]
  },
  {
   "cell_type": "markdown",
   "metadata": {},
   "source": [
    "### XGBoost"
   ]
  },
  {
   "cell_type": "code",
   "execution_count": 11,
   "metadata": {},
   "outputs": [
    {
     "name": "stdout",
     "output_type": "stream",
     "text": [
      "Fitting 5 folds for each of 36 candidates, totalling 180 fits\n"
     ]
    },
    {
     "name": "stderr",
     "output_type": "stream",
     "text": [
      "[Parallel(n_jobs=-1)]: Using backend LokyBackend with 32 concurrent workers.\n",
      "[Parallel(n_jobs=-1)]: Done  98 tasks      | elapsed:  4.3min\n",
      "[Parallel(n_jobs=-1)]: Done 180 out of 180 | elapsed:  6.9min finished\n"
     ]
    },
    {
     "data": {
      "text/plain": [
       "GridSearchCV(cv=5, error_score='raise-deprecating',\n",
       "             estimator=XGBClassifier(base_score=0.5, booster='gbtree',\n",
       "                                     colsample_bylevel=1, colsample_bynode=1,\n",
       "                                     colsample_bytree=1, gamma=0,\n",
       "                                     learning_rate=0.1, max_delta_step=0,\n",
       "                                     max_depth=3, min_child_weight=1,\n",
       "                                     missing=None, n_estimators=100, n_jobs=1,\n",
       "                                     nthread=None, objective='binary:logistic',\n",
       "                                     random_state=42, reg_alpha=0, reg_lambda=1,\n",
       "                                     scale_pos_weight=1, seed=None, silent=None,\n",
       "                                     subsample=1, verbosity=1),\n",
       "             iid='warn', n_jobs=-1,\n",
       "             param_grid=[{'gamma': [0, 1, 3],\n",
       "                          'learning_rate': [0.001, 0.01, 0.1],\n",
       "                          'max_depth': [13, 14, 15, 16]}],\n",
       "             pre_dispatch='2*n_jobs', refit=True, return_train_score=False,\n",
       "             scoring='accuracy', verbose=2)"
      ]
     },
     "execution_count": 11,
     "metadata": {},
     "output_type": "execute_result"
    }
   ],
   "source": [
    "from xgboost import XGBClassifier\n",
    "from sklearn.model_selection import GridSearchCV\n",
    "\n",
    "xgb = XGBClassifier(random_state=42)\n",
    "\n",
    "param_grid = [\n",
    "    {'learning_rate' : [0.001, 0.01, 0.1], 'max_depth' : [13, 14, 15, 16], 'gamma' : [0, 1, 3]}\n",
    "  ]\n",
    "\n",
    "grid_search = GridSearchCV(xgb, param_grid, cv = 5,\n",
    "                           scoring = 'accuracy', verbose = 2, n_jobs = -1)\n",
    "\n",
    "grid_search.fit(X_train.iloc[:, 1:], y_train['leave'])"
   ]
  },
  {
   "cell_type": "code",
   "execution_count": 12,
   "metadata": {},
   "outputs": [
    {
     "name": "stdout",
     "output_type": "stream",
     "text": [
      "0.7633333333333333\n",
      "{'gamma': 0, 'learning_rate': 0.1, 'max_depth': 14}\n"
     ]
    }
   ],
   "source": [
    "print(grid_search.best_score_)\n",
    "print(grid_search.best_params_)"
   ]
  },
  {
   "cell_type": "code",
   "execution_count": 13,
   "metadata": {},
   "outputs": [
    {
     "data": {
      "text/plain": [
       "['./xgb_leave_clf.pkl']"
      ]
     },
     "execution_count": 13,
     "metadata": {},
     "output_type": "execute_result"
    }
   ],
   "source": [
    "from sklearn.externals import joblib\n",
    "\n",
    "xgb_leave_clf = XGBClassifier(random_state = 42, learning_rate = 0.1, gamma = 3, max_depth = 14, n_jobs = -1)\n",
    "xgb_leave_clf.fit(X_train.iloc[:, 1:], y_train['leave'])\n",
    "joblib.dump(xgb_leave_clf, './xgb_leave_clf.pkl')"
   ]
  },
  {
   "cell_type": "markdown",
   "metadata": {},
   "source": [
    "### Ensemble"
   ]
  },
  {
   "cell_type": "code",
   "execution_count": 14,
   "metadata": {},
   "outputs": [
    {
     "data": {
      "text/plain": [
       "VotingClassifier(estimators=[('rf',\n",
       "                              RandomForestClassifier(bootstrap=True,\n",
       "                                                     class_weight=None,\n",
       "                                                     criterion='gini',\n",
       "                                                     max_depth=None,\n",
       "                                                     max_features=15,\n",
       "                                                     max_leaf_nodes=None,\n",
       "                                                     min_impurity_decrease=0.0,\n",
       "                                                     min_impurity_split=None,\n",
       "                                                     min_samples_leaf=1,\n",
       "                                                     min_samples_split=2,\n",
       "                                                     min_weight_fraction_leaf=0.0,\n",
       "                                                     n_estimators=750,\n",
       "                                                     n_jobs=-1, oob_score=False,\n",
       "                                                     random_state=42, verbose=0,\n",
       "                                                     warm...\n",
       "                                            colsample_bynode=1,\n",
       "                                            colsample_bytree=1, gamma=3,\n",
       "                                            learning_rate=0.1, max_delta_step=0,\n",
       "                                            max_depth=14, min_child_weight=1,\n",
       "                                            missing=None, n_estimators=100,\n",
       "                                            n_jobs=-1, nthread=None,\n",
       "                                            objective='binary:logistic',\n",
       "                                            random_state=42, reg_alpha=0,\n",
       "                                            reg_lambda=1, scale_pos_weight=1,\n",
       "                                            seed=None, silent=None, subsample=1,\n",
       "                                            verbosity=1))],\n",
       "                 flatten_transform=True, n_jobs=-1, voting='soft',\n",
       "                 weights=None)"
      ]
     },
     "execution_count": 14,
     "metadata": {},
     "output_type": "execute_result"
    }
   ],
   "source": [
    "from sklearn.ensemble import VotingClassifier\n",
    "\n",
    "ensemble_leave_clf = VotingClassifier(\n",
    "    estimators = [('rf', rf_leave_clf), ('xgb', xgb_leave_clf)],\n",
    "    voting = 'soft', n_jobs = -1)\n",
    "\n",
    "ensemble_leave_clf.fit(X_train.iloc[:, 1:], y_train['leave'])"
   ]
  },
  {
   "cell_type": "code",
   "execution_count": 15,
   "metadata": {},
   "outputs": [
    {
     "data": {
      "text/plain": [
       "['./ensemble_leave_clf.pkl']"
      ]
     },
     "execution_count": 15,
     "metadata": {},
     "output_type": "execute_result"
    }
   ],
   "source": [
    "from sklearn.externals import joblib\n",
    "\n",
    "joblib.dump(ensemble_leave_clf, './ensemble_leave_clf.pkl')"
   ]
  },
  {
   "cell_type": "markdown",
   "metadata": {},
   "source": [
    "## 결제 여부"
   ]
  },
  {
   "cell_type": "markdown",
   "metadata": {},
   "source": [
    "### RandomForest"
   ]
  },
  {
   "cell_type": "code",
   "execution_count": 16,
   "metadata": {},
   "outputs": [
    {
     "name": "stdout",
     "output_type": "stream",
     "text": [
      "Fitting 5 folds for each of 12 candidates, totalling 60 fits\n"
     ]
    },
    {
     "name": "stderr",
     "output_type": "stream",
     "text": [
      "[Parallel(n_jobs=-1)]: Using backend LokyBackend with 32 concurrent workers.\n",
      "[Parallel(n_jobs=-1)]: Done  28 out of  60 | elapsed:  1.8min remaining:  2.0min\n",
      "[Parallel(n_jobs=-1)]: Done  60 out of  60 | elapsed:  3.2min finished\n"
     ]
    },
    {
     "data": {
      "text/plain": [
       "GridSearchCV(cv=5, error_score='raise-deprecating',\n",
       "             estimator=RandomForestClassifier(bootstrap=True, class_weight=None,\n",
       "                                              criterion='gini', max_depth=None,\n",
       "                                              max_features='auto',\n",
       "                                              max_leaf_nodes=None,\n",
       "                                              min_impurity_decrease=0.0,\n",
       "                                              min_impurity_split=None,\n",
       "                                              min_samples_leaf=1,\n",
       "                                              min_samples_split=2,\n",
       "                                              min_weight_fraction_leaf=0.0,\n",
       "                                              n_estimators='warn', n_jobs=None,\n",
       "                                              oob_score=False, random_state=42,\n",
       "                                              verbose=0, warm_start=False),\n",
       "             iid='warn', n_jobs=-1,\n",
       "             param_grid=[{'max_features': [11, 12, 13, 14],\n",
       "                          'n_estimators': [300, 500, 750]}],\n",
       "             pre_dispatch='2*n_jobs', refit=True, return_train_score=False,\n",
       "             scoring='accuracy', verbose=2)"
      ]
     },
     "execution_count": 16,
     "metadata": {},
     "output_type": "execute_result"
    }
   ],
   "source": [
    "from sklearn.ensemble import RandomForestClassifier\n",
    "from sklearn.model_selection import GridSearchCV\n",
    "\n",
    "rf = RandomForestClassifier(random_state=42)\n",
    "\n",
    "param_grid = [\n",
    "    {'n_estimators' : [300, 500, 750], 'max_features' : [11, 12, 13, 14]}\n",
    "  ]\n",
    "\n",
    "grid_search = GridSearchCV(rf, param_grid, cv = 5,\n",
    "                           scoring = 'accuracy', verbose = 2, n_jobs = -1)\n",
    "\n",
    "grid_search.fit(X_train.iloc[:, 1:], y_train['amount'])"
   ]
  },
  {
   "cell_type": "code",
   "execution_count": 17,
   "metadata": {},
   "outputs": [
    {
     "name": "stdout",
     "output_type": "stream",
     "text": [
      "0.8580333333333333\n",
      "{'max_features': 13, 'n_estimators': 300}\n"
     ]
    }
   ],
   "source": [
    "print(grid_search.best_score_)\n",
    "print(grid_search.best_params_)"
   ]
  },
  {
   "cell_type": "code",
   "execution_count": 18,
   "metadata": {},
   "outputs": [
    {
     "data": {
      "text/plain": [
       "['./rf_amount_clf.pkl']"
      ]
     },
     "execution_count": 18,
     "metadata": {},
     "output_type": "execute_result"
    }
   ],
   "source": [
    "from sklearn.externals import joblib\n",
    "\n",
    "rf_amount_clf = RandomForestClassifier(random_state = 42, max_features = 11, n_estimators = 750, n_jobs = -1)\n",
    "rf_amount_clf.fit(X_train.iloc[:, 1:], y_train['amount'])\n",
    "joblib.dump(rf_amount_clf, './rf_amount_clf.pkl')"
   ]
  },
  {
   "cell_type": "markdown",
   "metadata": {},
   "source": [
    "### XGBoost "
   ]
  },
  {
   "cell_type": "code",
   "execution_count": 19,
   "metadata": {},
   "outputs": [
    {
     "name": "stdout",
     "output_type": "stream",
     "text": [
      "Fitting 5 folds for each of 36 candidates, totalling 180 fits\n"
     ]
    },
    {
     "name": "stderr",
     "output_type": "stream",
     "text": [
      "[Parallel(n_jobs=-1)]: Using backend LokyBackend with 32 concurrent workers.\n",
      "[Parallel(n_jobs=-1)]: Done  98 tasks      | elapsed:  3.1min\n",
      "[Parallel(n_jobs=-1)]: Done 180 out of 180 | elapsed:  5.1min finished\n"
     ]
    },
    {
     "data": {
      "text/plain": [
       "GridSearchCV(cv=5, error_score='raise-deprecating',\n",
       "             estimator=XGBClassifier(base_score=0.5, booster='gbtree',\n",
       "                                     colsample_bylevel=1, colsample_bynode=1,\n",
       "                                     colsample_bytree=1, gamma=0,\n",
       "                                     learning_rate=0.1, max_delta_step=0,\n",
       "                                     max_depth=3, min_child_weight=1,\n",
       "                                     missing=None, n_estimators=100, n_jobs=1,\n",
       "                                     nthread=None, objective='binary:logistic',\n",
       "                                     random_state=42, reg_alpha=0, reg_lambda=1,\n",
       "                                     scale_pos_weight=1, seed=None, silent=None,\n",
       "                                     subsample=1, verbosity=1),\n",
       "             iid='warn', n_jobs=-1,\n",
       "             param_grid=[{'gamma': [0, 1, 3],\n",
       "                          'learning_rate': [0.001, 0.01, 0.1],\n",
       "                          'max_depth': [10, 11, 12, 13]}],\n",
       "             pre_dispatch='2*n_jobs', refit=True, return_train_score=False,\n",
       "             scoring='accuracy', verbose=2)"
      ]
     },
     "execution_count": 19,
     "metadata": {},
     "output_type": "execute_result"
    }
   ],
   "source": [
    "from xgboost import XGBClassifier\n",
    "from sklearn.model_selection import GridSearchCV\n",
    "\n",
    "xgb = XGBClassifier(random_state=42)\n",
    "\n",
    "param_grid = [\n",
    "    {'learning_rate' : [0.001, 0.01, 0.1], 'max_depth' : [10, 11, 12, 13], 'gamma' : [0, 1, 3]}\n",
    "  ]\n",
    "\n",
    "grid_search = GridSearchCV(xgb, param_grid, cv = 5,\n",
    "                           scoring = 'accuracy', verbose = 2, n_jobs = -1)\n",
    "\n",
    "grid_search.fit(X_train.iloc[:, 1:], y_train['amount'])"
   ]
  },
  {
   "cell_type": "code",
   "execution_count": 20,
   "metadata": {},
   "outputs": [
    {
     "name": "stdout",
     "output_type": "stream",
     "text": [
      "0.8575\n",
      "{'gamma': 0, 'learning_rate': 0.1, 'max_depth': 11}\n"
     ]
    }
   ],
   "source": [
    "print(grid_search.best_score_)\n",
    "print(grid_search.best_params_)"
   ]
  },
  {
   "cell_type": "code",
   "execution_count": 21,
   "metadata": {},
   "outputs": [
    {
     "data": {
      "text/plain": [
       "['./xgb_amount_clf.pkl']"
      ]
     },
     "execution_count": 21,
     "metadata": {},
     "output_type": "execute_result"
    }
   ],
   "source": [
    "from sklearn.externals import joblib\n",
    "\n",
    "xgb_amount_clf = XGBClassifier(random_state = 42, learning_rate = 0.1, gamma = 3, max_depth = 10, n_jobs = -1)\n",
    "xgb_amount_clf.fit(X_train.iloc[:, 1:], y_train['amount'])\n",
    "joblib.dump(xgb_amount_clf, './xgb_amount_clf.pkl')"
   ]
  },
  {
   "cell_type": "markdown",
   "metadata": {},
   "source": [
    "### Ensemble"
   ]
  },
  {
   "cell_type": "code",
   "execution_count": 22,
   "metadata": {},
   "outputs": [
    {
     "data": {
      "text/plain": [
       "VotingClassifier(estimators=[('rf',\n",
       "                              RandomForestClassifier(bootstrap=True,\n",
       "                                                     class_weight=None,\n",
       "                                                     criterion='gini',\n",
       "                                                     max_depth=None,\n",
       "                                                     max_features=11,\n",
       "                                                     max_leaf_nodes=None,\n",
       "                                                     min_impurity_decrease=0.0,\n",
       "                                                     min_impurity_split=None,\n",
       "                                                     min_samples_leaf=1,\n",
       "                                                     min_samples_split=2,\n",
       "                                                     min_weight_fraction_leaf=0.0,\n",
       "                                                     n_estimators=750,\n",
       "                                                     n_jobs=-1, oob_score=False,\n",
       "                                                     random_state=42, verbose=0,\n",
       "                                                     warm...\n",
       "                                            colsample_bynode=1,\n",
       "                                            colsample_bytree=1, gamma=3,\n",
       "                                            learning_rate=0.1, max_delta_step=0,\n",
       "                                            max_depth=10, min_child_weight=1,\n",
       "                                            missing=None, n_estimators=100,\n",
       "                                            n_jobs=-1, nthread=None,\n",
       "                                            objective='binary:logistic',\n",
       "                                            random_state=42, reg_alpha=0,\n",
       "                                            reg_lambda=1, scale_pos_weight=1,\n",
       "                                            seed=None, silent=None, subsample=1,\n",
       "                                            verbosity=1))],\n",
       "                 flatten_transform=True, n_jobs=-1, voting='soft',\n",
       "                 weights=None)"
      ]
     },
     "execution_count": 22,
     "metadata": {},
     "output_type": "execute_result"
    }
   ],
   "source": [
    "from sklearn.ensemble import VotingClassifier\n",
    "\n",
    "ensemble_amount_clf = VotingClassifier(\n",
    "    estimators = [('rf', rf_amount_clf), ('xgb', xgb_amount_clf)],\n",
    "    voting = 'soft', n_jobs = -1)\n",
    "\n",
    "ensemble_amount_clf.fit(X_train.iloc[:, 1:], y_train['amount'])"
   ]
  },
  {
   "cell_type": "code",
   "execution_count": 23,
   "metadata": {},
   "outputs": [
    {
     "data": {
      "text/plain": [
       "['./ensemble_amount_clf.pkl']"
      ]
     },
     "execution_count": 23,
     "metadata": {},
     "output_type": "execute_result"
    }
   ],
   "source": [
    "from sklearn.externals import joblib\n",
    "\n",
    "joblib.dump(ensemble_amount_clf, './ensemble_amount_clf.pkl')"
   ]
  },
  {
   "cell_type": "markdown",
   "metadata": {},
   "source": [
    "## 추가 생존 기간"
   ]
  },
  {
   "cell_type": "code",
   "execution_count": 24,
   "metadata": {},
   "outputs": [],
   "source": [
    "train = pd.merge(X_train, y_train, how = 'left', on = 'acc_id')"
   ]
  },
  {
   "cell_type": "code",
   "execution_count": 25,
   "metadata": {},
   "outputs": [],
   "source": [
    "train_leave = train[train['leave'] == 1]\n",
    "train_amount = train[(train['leave'] == 1) & (train['amount'] == 1)]"
   ]
  },
  {
   "cell_type": "markdown",
   "metadata": {},
   "source": [
    "### RandomForest"
   ]
  },
  {
   "cell_type": "code",
   "execution_count": 26,
   "metadata": {},
   "outputs": [
    {
     "name": "stdout",
     "output_type": "stream",
     "text": [
      "Fitting 5 folds for each of 12 candidates, totalling 60 fits\n"
     ]
    },
    {
     "name": "stderr",
     "output_type": "stream",
     "text": [
      "[Parallel(n_jobs=-1)]: Using backend LokyBackend with 32 concurrent workers.\n",
      "[Parallel(n_jobs=-1)]: Done  28 out of  60 | elapsed:  1.1min remaining:  1.2min\n",
      "[Parallel(n_jobs=-1)]: Done  60 out of  60 | elapsed:  1.9min finished\n"
     ]
    },
    {
     "data": {
      "text/plain": [
       "GridSearchCV(cv=5, error_score='raise-deprecating',\n",
       "             estimator=RandomForestRegressor(bootstrap=True, criterion='mse',\n",
       "                                             max_depth=None,\n",
       "                                             max_features='auto',\n",
       "                                             max_leaf_nodes=None,\n",
       "                                             min_impurity_decrease=0.0,\n",
       "                                             min_impurity_split=None,\n",
       "                                             min_samples_leaf=1,\n",
       "                                             min_samples_split=2,\n",
       "                                             min_weight_fraction_leaf=0.0,\n",
       "                                             n_estimators='warn', n_jobs=None,\n",
       "                                             oob_score=False, random_state=42,\n",
       "                                             verbose=0, warm_start=False),\n",
       "             iid='warn', n_jobs=-1,\n",
       "             param_grid=[{'max_features': [16, 17, 18, 19],\n",
       "                          'n_estimators': [300, 500, 750]}],\n",
       "             pre_dispatch='2*n_jobs', refit=True, return_train_score=False,\n",
       "             scoring='neg_mean_squared_error', verbose=2)"
      ]
     },
     "execution_count": 26,
     "metadata": {},
     "output_type": "execute_result"
    }
   ],
   "source": [
    "from sklearn.ensemble import RandomForestRegressor\n",
    "from sklearn.model_selection import GridSearchCV\n",
    "\n",
    "rf = RandomForestRegressor(random_state=42)\n",
    "\n",
    "param_grid = [\n",
    "    {'n_estimators' : [300, 500, 750], 'max_features' : [16, 17, 18, 19]}\n",
    "  ]\n",
    "\n",
    "grid_search = GridSearchCV(rf, param_grid, cv = 5,\n",
    "                           scoring = 'neg_mean_squared_error', verbose = 2, n_jobs = -1)\n",
    "\n",
    "grid_search.fit(train_leave.iloc[:, 1:-4], train_leave['survival_time'])"
   ]
  },
  {
   "cell_type": "code",
   "execution_count": 27,
   "metadata": {},
   "outputs": [
    {
     "name": "stdout",
     "output_type": "stream",
     "text": [
      "-201.72938098608364\n",
      "{'max_features': 17, 'n_estimators': 750}\n"
     ]
    }
   ],
   "source": [
    "print(grid_search.best_score_)\n",
    "print(grid_search.best_params_)"
   ]
  },
  {
   "cell_type": "code",
   "execution_count": 28,
   "metadata": {},
   "outputs": [
    {
     "data": {
      "text/plain": [
       "['./rf_leave_reg.pkl']"
      ]
     },
     "execution_count": 28,
     "metadata": {},
     "output_type": "execute_result"
    }
   ],
   "source": [
    "from sklearn.externals import joblib\n",
    "\n",
    "rf_leave_reg = RandomForestRegressor(random_state = 42, max_features = 18, n_estimators = 750, n_jobs = -1)\n",
    "rf_leave_reg.fit(train_leave.iloc[:, 1:-4], train_leave['survival_time'])\n",
    "joblib.dump(rf_leave_reg, './rf_leave_reg.pkl')"
   ]
  },
  {
   "cell_type": "markdown",
   "metadata": {},
   "source": [
    "### XGBoost"
   ]
  },
  {
   "cell_type": "code",
   "execution_count": 29,
   "metadata": {},
   "outputs": [
    {
     "name": "stdout",
     "output_type": "stream",
     "text": [
      "Fitting 5 folds for each of 36 candidates, totalling 180 fits\n"
     ]
    },
    {
     "name": "stderr",
     "output_type": "stream",
     "text": [
      "[Parallel(n_jobs=-1)]: Using backend LokyBackend with 32 concurrent workers.\n",
      "[Parallel(n_jobs=-1)]: Done  98 tasks      | elapsed:   53.6s\n",
      "[Parallel(n_jobs=-1)]: Done 180 out of 180 | elapsed:  1.5min finished\n",
      "/home/user3/anaconda3/envs/hun/lib/python3.6/site-packages/xgboost/core.py:587: FutureWarning: Series.base is deprecated and will be removed in a future version\n",
      "  if getattr(data, 'base', None) is not None and \\\n",
      "/home/user3/anaconda3/envs/hun/lib/python3.6/site-packages/xgboost/core.py:588: FutureWarning: Series.base is deprecated and will be removed in a future version\n",
      "  data.base is not None and isinstance(data, np.ndarray) \\\n"
     ]
    },
    {
     "name": "stdout",
     "output_type": "stream",
     "text": [
      "[14:22:22] WARNING: src/objective/regression_obj.cu:152: reg:linear is now deprecated in favor of reg:squarederror.\n"
     ]
    },
    {
     "data": {
      "text/plain": [
       "GridSearchCV(cv=5, error_score='raise-deprecating',\n",
       "             estimator=XGBRegressor(base_score=0.5, booster='gbtree',\n",
       "                                    colsample_bylevel=1, colsample_bynode=1,\n",
       "                                    colsample_bytree=1, gamma=0,\n",
       "                                    importance_type='gain', learning_rate=0.1,\n",
       "                                    max_delta_step=0, max_depth=3,\n",
       "                                    min_child_weight=1, missing=None,\n",
       "                                    n_estimators=100, n_jobs=1, nthread=None,\n",
       "                                    objective='reg:linear', random_state=42,\n",
       "                                    reg_alpha=0, reg_lambda=1,\n",
       "                                    scale_pos_weight=1, seed=None, silent=None,\n",
       "                                    subsample=1, verbosity=1),\n",
       "             iid='warn', n_jobs=-1,\n",
       "             param_grid=[{'gamma': [1, 3, 5],\n",
       "                          'learning_rate': [0.001, 0.01, 0.1],\n",
       "                          'max_depth': [7, 8, 9, 10]}],\n",
       "             pre_dispatch='2*n_jobs', refit=True, return_train_score=False,\n",
       "             scoring='neg_mean_squared_error', verbose=2)"
      ]
     },
     "execution_count": 29,
     "metadata": {},
     "output_type": "execute_result"
    }
   ],
   "source": [
    "from xgboost import XGBRegressor\n",
    "from sklearn.model_selection import GridSearchCV\n",
    "\n",
    "xgb = XGBRegressor(random_state=42)\n",
    "\n",
    "param_grid = [\n",
    "    {'learning_rate' : [0.001, 0.01, 0.1], 'max_depth' : [7, 8, 9, 10], 'gamma' : [1, 3, 5]}\n",
    "  ]\n",
    "\n",
    "grid_search = GridSearchCV(xgb, param_grid, cv = 5,\n",
    "                           scoring = 'neg_mean_squared_error', verbose = 2, n_jobs = -1)\n",
    "\n",
    "grid_search.fit(train_leave.iloc[:, 1:-4], train_leave['survival_time'])"
   ]
  },
  {
   "cell_type": "code",
   "execution_count": 30,
   "metadata": {},
   "outputs": [
    {
     "name": "stdout",
     "output_type": "stream",
     "text": [
      "-208.996915600758\n",
      "{'gamma': 3, 'learning_rate': 0.1, 'max_depth': 9}\n"
     ]
    }
   ],
   "source": [
    "print(grid_search.best_score_)\n",
    "print(grid_search.best_params_)"
   ]
  },
  {
   "cell_type": "code",
   "execution_count": 31,
   "metadata": {},
   "outputs": [
    {
     "name": "stdout",
     "output_type": "stream",
     "text": [
      "[14:22:33] WARNING: src/objective/regression_obj.cu:152: reg:linear is now deprecated in favor of reg:squarederror.\n"
     ]
    },
    {
     "data": {
      "text/plain": [
       "['./xgb_leave_reg.pkl']"
      ]
     },
     "execution_count": 31,
     "metadata": {},
     "output_type": "execute_result"
    }
   ],
   "source": [
    "from sklearn.externals import joblib\n",
    "\n",
    "xgb_leave_reg = XGBRegressor(random_state = 42, learning_rate = 0.1, gamma = 5, max_depth = 8, n_jobs = -1)\n",
    "xgb_leave_reg.fit(train_leave.iloc[:, 1:-4], train_leave['survival_time'])\n",
    "joblib.dump(xgb_leave_reg, './xgb_leave_reg.pkl')"
   ]
  },
  {
   "cell_type": "markdown",
   "metadata": {},
   "source": [
    "### ExtraTrees"
   ]
  },
  {
   "cell_type": "code",
   "execution_count": 32,
   "metadata": {},
   "outputs": [
    {
     "name": "stdout",
     "output_type": "stream",
     "text": [
      "Fitting 5 folds for each of 12 candidates, totalling 60 fits\n"
     ]
    },
    {
     "name": "stderr",
     "output_type": "stream",
     "text": [
      "[Parallel(n_jobs=-1)]: Using backend LokyBackend with 32 concurrent workers.\n",
      "[Parallel(n_jobs=-1)]: Done  28 out of  60 | elapsed:   36.7s remaining:   42.0s\n",
      "[Parallel(n_jobs=-1)]: Done  60 out of  60 | elapsed:   58.8s finished\n"
     ]
    },
    {
     "data": {
      "text/plain": [
       "GridSearchCV(cv=5, error_score='raise-deprecating',\n",
       "             estimator=ExtraTreesRegressor(bootstrap=True, criterion='mse',\n",
       "                                           max_depth=None, max_features='auto',\n",
       "                                           max_leaf_nodes=None,\n",
       "                                           min_impurity_decrease=0.0,\n",
       "                                           min_impurity_split=None,\n",
       "                                           min_samples_leaf=1,\n",
       "                                           min_samples_split=2,\n",
       "                                           min_weight_fraction_leaf=0.0,\n",
       "                                           n_estimators='warn', n_jobs=None,\n",
       "                                           oob_score=False, random_state=42,\n",
       "                                           verbose=0, warm_start=False),\n",
       "             iid='warn', n_jobs=-1,\n",
       "             param_grid=[{'max_features': [19, 20, 21, 22],\n",
       "                          'n_estimators': [300, 500, 750]}],\n",
       "             pre_dispatch='2*n_jobs', refit=True, return_train_score=False,\n",
       "             scoring='neg_mean_squared_error', verbose=2)"
      ]
     },
     "execution_count": 32,
     "metadata": {},
     "output_type": "execute_result"
    }
   ],
   "source": [
    "from sklearn.ensemble import ExtraTreesRegressor\n",
    "from sklearn.model_selection import GridSearchCV\n",
    "\n",
    "extree = ExtraTreesRegressor(random_state = 42, bootstrap = True)\n",
    "\n",
    "param_grid = [\n",
    "    {'n_estimators' : [300, 500, 750], 'max_features' : [19, 20, 21, 22]}\n",
    "  ]\n",
    "\n",
    "grid_search = GridSearchCV(extree, param_grid, cv = 5,\n",
    "                           scoring = 'neg_mean_squared_error', verbose = 2, n_jobs = -1)\n",
    "\n",
    "grid_search.fit(train_leave.iloc[:, 1:-4], train_leave['survival_time'])"
   ]
  },
  {
   "cell_type": "code",
   "execution_count": 33,
   "metadata": {},
   "outputs": [
    {
     "name": "stdout",
     "output_type": "stream",
     "text": [
      "-203.39616221817192\n",
      "{'max_features': 21, 'n_estimators': 750}\n"
     ]
    }
   ],
   "source": [
    "print(grid_search.best_score_)\n",
    "print(grid_search.best_params_)"
   ]
  },
  {
   "cell_type": "code",
   "execution_count": 34,
   "metadata": {},
   "outputs": [
    {
     "data": {
      "text/plain": [
       "['./extree_leave_reg.pkl']"
      ]
     },
     "execution_count": 34,
     "metadata": {},
     "output_type": "execute_result"
    }
   ],
   "source": [
    "from sklearn.externals import joblib\n",
    "\n",
    "extree_leave_reg = ExtraTreesRegressor(random_state = 42, bootstrap = True, max_features = 22, n_estimators = 750, n_jobs = -1)\n",
    "extree_leave_reg.fit(train_leave.iloc[:, 1:-4], train_leave['survival_time'])\n",
    "joblib.dump(extree_leave_reg, './extree_leave_reg.pkl')"
   ]
  },
  {
   "cell_type": "markdown",
   "metadata": {},
   "source": [
    "### ElasticNet"
   ]
  },
  {
   "cell_type": "code",
   "execution_count": 35,
   "metadata": {},
   "outputs": [
    {
     "name": "stdout",
     "output_type": "stream",
     "text": [
      "Fitting 5 folds for each of 45 candidates, totalling 225 fits\n"
     ]
    },
    {
     "name": "stderr",
     "output_type": "stream",
     "text": [
      "[Parallel(n_jobs=-1)]: Using backend LokyBackend with 32 concurrent workers.\n",
      "[Parallel(n_jobs=-1)]: Done  98 tasks      | elapsed:   10.7s\n",
      "[Parallel(n_jobs=-1)]: Done 225 out of 225 | elapsed:   11.7s finished\n"
     ]
    },
    {
     "data": {
      "text/plain": [
       "GridSearchCV(cv=5, error_score='raise-deprecating',\n",
       "             estimator=ElasticNet(alpha=1.0, copy_X=True, fit_intercept=True,\n",
       "                                  l1_ratio=0.5, max_iter=1000, normalize=False,\n",
       "                                  positive=False, precompute=False,\n",
       "                                  random_state=42, selection='cyclic',\n",
       "                                  tol=0.0001, warm_start=False),\n",
       "             iid='warn', n_jobs=-1,\n",
       "             param_grid=[{'alpha': [0, 0.1, 1, 3, 5],\n",
       "                          'l1_ratio': [0.1, 0.2, 0.3, 0.4, 0.5, 0.6, 0.7, 0.8,\n",
       "                                       0.9]}],\n",
       "             pre_dispatch='2*n_jobs', refit=True, return_train_score=False,\n",
       "             scoring='neg_mean_squared_error', verbose=2)"
      ]
     },
     "execution_count": 35,
     "metadata": {},
     "output_type": "execute_result"
    }
   ],
   "source": [
    "from sklearn.linear_model import ElasticNet\n",
    "from sklearn.model_selection import GridSearchCV\n",
    "\n",
    "lr = ElasticNet(random_state = 42)\n",
    "\n",
    "param_grid = [\n",
    "    {'alpha' : [0, 0.1, 1, 3, 5], 'l1_ratio' : [0.1, 0.2, 0.3, 0.4, 0.5, 0.6, 0.7, 0.8, 0.9]}\n",
    "  ]\n",
    "\n",
    "grid_search = GridSearchCV(lr, param_grid, cv = 5,\n",
    "                           scoring = 'neg_mean_squared_error', verbose = 2, n_jobs = -1)\n",
    "grid_search.fit(train_leave.iloc[:, 1:-4], train_leave['survival_time'])"
   ]
  },
  {
   "cell_type": "code",
   "execution_count": 36,
   "metadata": {},
   "outputs": [
    {
     "name": "stdout",
     "output_type": "stream",
     "text": [
      "-238.25250958102515\n",
      "{'alpha': 0.1, 'l1_ratio': 0.4}\n"
     ]
    }
   ],
   "source": [
    "print(grid_search.best_score_)\n",
    "print(grid_search.best_params_)"
   ]
  },
  {
   "cell_type": "code",
   "execution_count": 37,
   "metadata": {},
   "outputs": [
    {
     "data": {
      "text/plain": [
       "['./lr_leave_reg.pkl']"
      ]
     },
     "execution_count": 37,
     "metadata": {},
     "output_type": "execute_result"
    }
   ],
   "source": [
    "from sklearn.externals import joblib\n",
    "\n",
    "lr_leave_reg = ElasticNet(random_state = 42, alpha = 0.1, l1_ratio = 0.8)\n",
    "lr_leave_reg.fit(train_leave.iloc[:, 1:-4], train_leave['survival_time'])\n",
    "joblib.dump(lr_leave_reg, './lr_leave_reg.pkl')"
   ]
  },
  {
   "cell_type": "markdown",
   "metadata": {},
   "source": [
    "## 일 평균 결제 금액"
   ]
  },
  {
   "cell_type": "markdown",
   "metadata": {},
   "source": [
    "### RandomForest"
   ]
  },
  {
   "cell_type": "code",
   "execution_count": 38,
   "metadata": {},
   "outputs": [
    {
     "name": "stdout",
     "output_type": "stream",
     "text": [
      "Fitting 5 folds for each of 12 candidates, totalling 60 fits\n"
     ]
    },
    {
     "name": "stderr",
     "output_type": "stream",
     "text": [
      "[Parallel(n_jobs=-1)]: Using backend LokyBackend with 32 concurrent workers.\n",
      "[Parallel(n_jobs=-1)]: Done  28 out of  60 | elapsed:   14.2s remaining:   16.2s\n",
      "[Parallel(n_jobs=-1)]: Done  60 out of  60 | elapsed:   29.3s finished\n"
     ]
    },
    {
     "data": {
      "text/plain": [
       "GridSearchCV(cv=5, error_score='raise-deprecating',\n",
       "             estimator=RandomForestRegressor(bootstrap=True, criterion='mse',\n",
       "                                             max_depth=None,\n",
       "                                             max_features='auto',\n",
       "                                             max_leaf_nodes=None,\n",
       "                                             min_impurity_decrease=0.0,\n",
       "                                             min_impurity_split=None,\n",
       "                                             min_samples_leaf=1,\n",
       "                                             min_samples_split=2,\n",
       "                                             min_weight_fraction_leaf=0.0,\n",
       "                                             n_estimators='warn', n_jobs=None,\n",
       "                                             oob_score=False, random_state=42,\n",
       "                                             verbose=0, warm_start=False),\n",
       "             iid='warn', n_jobs=-1,\n",
       "             param_grid=[{'max_features': [5, 6, 7, 8],\n",
       "                          'n_estimators': [300, 500, 750]}],\n",
       "             pre_dispatch='2*n_jobs', refit=True, return_train_score=False,\n",
       "             scoring='neg_mean_squared_error', verbose=2)"
      ]
     },
     "execution_count": 38,
     "metadata": {},
     "output_type": "execute_result"
    }
   ],
   "source": [
    "from sklearn.ensemble import RandomForestRegressor\n",
    "from sklearn.model_selection import GridSearchCV\n",
    "\n",
    "rf = RandomForestRegressor(random_state=42)\n",
    "\n",
    "param_grid = [\n",
    "    {'n_estimators' : [300, 500, 750], 'max_features' : [5, 6, 7, 8]}\n",
    "  ]\n",
    "\n",
    "grid_search = GridSearchCV(rf, param_grid, cv = 5,\n",
    "                           scoring = 'neg_mean_squared_error', verbose = 2, n_jobs = -1)\n",
    "\n",
    "grid_search.fit(train_amount.iloc[:, 1:-4], train_amount['amount_spent'])"
   ]
  },
  {
   "cell_type": "code",
   "execution_count": 39,
   "metadata": {},
   "outputs": [
    {
     "name": "stdout",
     "output_type": "stream",
     "text": [
      "-1.9007880353495359\n",
      "{'max_features': 6, 'n_estimators': 500}\n"
     ]
    }
   ],
   "source": [
    "print(grid_search.best_score_)\n",
    "print(grid_search.best_params_)"
   ]
  },
  {
   "cell_type": "code",
   "execution_count": 40,
   "metadata": {},
   "outputs": [
    {
     "data": {
      "text/plain": [
       "['./rf_amount_reg.pkl']"
      ]
     },
     "execution_count": 40,
     "metadata": {},
     "output_type": "execute_result"
    }
   ],
   "source": [
    "from sklearn.externals import joblib\n",
    "\n",
    "rf_amount_reg = RandomForestRegressor(random_state = 42, max_features = 7, n_estimators = 500, n_jobs = -1)\n",
    "rf_amount_reg.fit(train_amount.iloc[:, 1:-4], train_amount['amount_spent'])\n",
    "joblib.dump(rf_amount_reg, './rf_amount_reg.pkl')"
   ]
  },
  {
   "cell_type": "markdown",
   "metadata": {},
   "source": [
    "### XGBoost"
   ]
  },
  {
   "cell_type": "code",
   "execution_count": 41,
   "metadata": {},
   "outputs": [
    {
     "name": "stdout",
     "output_type": "stream",
     "text": [
      "Fitting 5 folds for each of 48 candidates, totalling 240 fits\n"
     ]
    },
    {
     "name": "stderr",
     "output_type": "stream",
     "text": [
      "[Parallel(n_jobs=-1)]: Using backend LokyBackend with 32 concurrent workers.\n",
      "[Parallel(n_jobs=-1)]: Done  98 tasks      | elapsed:    7.6s\n",
      "[Parallel(n_jobs=-1)]: Done 240 out of 240 | elapsed:   17.4s finished\n",
      "/home/user3/anaconda3/envs/hun/lib/python3.6/site-packages/xgboost/core.py:587: FutureWarning: Series.base is deprecated and will be removed in a future version\n",
      "  if getattr(data, 'base', None) is not None and \\\n",
      "/home/user3/anaconda3/envs/hun/lib/python3.6/site-packages/xgboost/core.py:588: FutureWarning: Series.base is deprecated and will be removed in a future version\n",
      "  data.base is not None and isinstance(data, np.ndarray) \\\n"
     ]
    },
    {
     "name": "stdout",
     "output_type": "stream",
     "text": [
      "[14:25:12] WARNING: src/objective/regression_obj.cu:152: reg:linear is now deprecated in favor of reg:squarederror.\n"
     ]
    },
    {
     "data": {
      "text/plain": [
       "GridSearchCV(cv=5, error_score='raise-deprecating',\n",
       "             estimator=XGBRegressor(base_score=0.5, booster='gbtree',\n",
       "                                    colsample_bylevel=1, colsample_bynode=1,\n",
       "                                    colsample_bytree=1, gamma=0,\n",
       "                                    importance_type='gain', learning_rate=0.1,\n",
       "                                    max_delta_step=0, max_depth=3,\n",
       "                                    min_child_weight=1, missing=None,\n",
       "                                    n_estimators=100, n_jobs=1, nthread=None,\n",
       "                                    objective='reg:linear', random_state=42,\n",
       "                                    reg_alpha=0, reg_lambda=1,\n",
       "                                    scale_pos_weight=1, seed=None, silent=None,\n",
       "                                    subsample=1, verbosity=1),\n",
       "             iid='warn', n_jobs=-1,\n",
       "             param_grid=[{'gamma': [0, 1, 3, 5],\n",
       "                          'learning_rate': [0.001, 0.01, 0.1],\n",
       "                          'max_depth': [1, 2, 3, 4]}],\n",
       "             pre_dispatch='2*n_jobs', refit=True, return_train_score=False,\n",
       "             scoring='neg_mean_squared_error', verbose=2)"
      ]
     },
     "execution_count": 41,
     "metadata": {},
     "output_type": "execute_result"
    }
   ],
   "source": [
    "from xgboost import XGBRegressor\n",
    "from sklearn.model_selection import GridSearchCV\n",
    "\n",
    "xgb = XGBRegressor(random_state=42)\n",
    "\n",
    "param_grid = [\n",
    "    {'learning_rate' : [0.001, 0.01, 0.1], 'max_depth' : [1, 2, 3, 4], 'gamma' : [0, 1, 3, 5]}\n",
    "  ]\n",
    "\n",
    "grid_search = GridSearchCV(xgb, param_grid, cv = 5,\n",
    "                           scoring = 'neg_mean_squared_error', verbose = 2, n_jobs = -1)\n",
    "\n",
    "grid_search.fit(train_amount.iloc[:, 1:-4], train_amount['amount_spent'])"
   ]
  },
  {
   "cell_type": "code",
   "execution_count": 42,
   "metadata": {},
   "outputs": [
    {
     "name": "stdout",
     "output_type": "stream",
     "text": [
      "-1.9764363700601124\n",
      "{'gamma': 0, 'learning_rate': 0.01, 'max_depth': 2}\n"
     ]
    }
   ],
   "source": [
    "print(grid_search.best_score_)\n",
    "print(grid_search.best_params_)"
   ]
  },
  {
   "cell_type": "code",
   "execution_count": 43,
   "metadata": {},
   "outputs": [
    {
     "name": "stdout",
     "output_type": "stream",
     "text": [
      "[14:25:14] WARNING: src/objective/regression_obj.cu:152: reg:linear is now deprecated in favor of reg:squarederror.\n"
     ]
    },
    {
     "data": {
      "text/plain": [
       "['./xgb_amount_reg.pkl']"
      ]
     },
     "execution_count": 43,
     "metadata": {},
     "output_type": "execute_result"
    }
   ],
   "source": [
    "from sklearn.externals import joblib\n",
    "\n",
    "xgb_amount_reg = XGBRegressor(random_state = 42, learning_rate = 0.01, gamma = 3, max_depth = 2, n_jobs = -1)\n",
    "xgb_amount_reg.fit(train_amount.iloc[:, 1:-4], train_amount['amount_spent'])\n",
    "joblib.dump(xgb_amount_reg, './xgb_amount_reg.pkl')"
   ]
  },
  {
   "cell_type": "markdown",
   "metadata": {},
   "source": [
    "### ExtraTrees"
   ]
  },
  {
   "cell_type": "code",
   "execution_count": 44,
   "metadata": {},
   "outputs": [
    {
     "name": "stdout",
     "output_type": "stream",
     "text": [
      "Fitting 5 folds for each of 12 candidates, totalling 60 fits\n"
     ]
    },
    {
     "name": "stderr",
     "output_type": "stream",
     "text": [
      "[Parallel(n_jobs=-1)]: Using backend LokyBackend with 32 concurrent workers.\n",
      "[Parallel(n_jobs=-1)]: Done  28 out of  60 | elapsed:    8.1s remaining:    9.2s\n",
      "[Parallel(n_jobs=-1)]: Done  60 out of  60 | elapsed:   13.9s finished\n"
     ]
    },
    {
     "data": {
      "text/plain": [
       "GridSearchCV(cv=5, error_score='raise-deprecating',\n",
       "             estimator=ExtraTreesRegressor(bootstrap=True, criterion='mse',\n",
       "                                           max_depth=None, max_features='auto',\n",
       "                                           max_leaf_nodes=None,\n",
       "                                           min_impurity_decrease=0.0,\n",
       "                                           min_impurity_split=None,\n",
       "                                           min_samples_leaf=1,\n",
       "                                           min_samples_split=2,\n",
       "                                           min_weight_fraction_leaf=0.0,\n",
       "                                           n_estimators='warn', n_jobs=None,\n",
       "                                           oob_score=False, random_state=42,\n",
       "                                           verbose=0, warm_start=False),\n",
       "             iid='warn', n_jobs=-1,\n",
       "             param_grid=[{'max_features': [6, 7, 8, 9],\n",
       "                          'n_estimators': [300, 500, 750]}],\n",
       "             pre_dispatch='2*n_jobs', refit=True, return_train_score=False,\n",
       "             scoring='neg_mean_squared_error', verbose=2)"
      ]
     },
     "execution_count": 44,
     "metadata": {},
     "output_type": "execute_result"
    }
   ],
   "source": [
    "from sklearn.ensemble import ExtraTreesRegressor\n",
    "from sklearn.model_selection import GridSearchCV\n",
    "\n",
    "extree = ExtraTreesRegressor(random_state = 42, bootstrap = True)\n",
    "\n",
    "param_grid = [\n",
    "    {'n_estimators' : [300, 500, 750], 'max_features' : [6, 7, 8, 9]}\n",
    "  ]\n",
    "\n",
    "grid_search = GridSearchCV(extree, param_grid, cv = 5,\n",
    "                           scoring = 'neg_mean_squared_error', verbose = 2, n_jobs = -1)\n",
    "\n",
    "grid_search.fit(train_amount.iloc[:, 1:-4], train_amount['amount_spent'])"
   ]
  },
  {
   "cell_type": "code",
   "execution_count": 45,
   "metadata": {},
   "outputs": [
    {
     "name": "stdout",
     "output_type": "stream",
     "text": [
      "-1.9511252908936363\n",
      "{'max_features': 7, 'n_estimators': 750}\n"
     ]
    }
   ],
   "source": [
    "print(grid_search.best_score_)\n",
    "print(grid_search.best_params_)"
   ]
  },
  {
   "cell_type": "code",
   "execution_count": 46,
   "metadata": {},
   "outputs": [
    {
     "data": {
      "text/plain": [
       "['./extree_amount_reg.pkl']"
      ]
     },
     "execution_count": 46,
     "metadata": {},
     "output_type": "execute_result"
    }
   ],
   "source": [
    "from sklearn.externals import joblib\n",
    "\n",
    "extree_amount_reg = ExtraTreesRegressor(random_state = 42, bootstrap = True, max_features = 7, n_estimators = 300, n_jobs = -1)\n",
    "extree_amount_reg.fit(train_amount.iloc[:, 1:-4], train_amount['amount_spent'])\n",
    "joblib.dump(extree_amount_reg, './extree_amount_reg.pkl')"
   ]
  },
  {
   "cell_type": "markdown",
   "metadata": {},
   "source": [
    "### ElasticNet"
   ]
  },
  {
   "cell_type": "code",
   "execution_count": 47,
   "metadata": {},
   "outputs": [
    {
     "name": "stdout",
     "output_type": "stream",
     "text": [
      "Fitting 5 folds for each of 45 candidates, totalling 225 fits\n"
     ]
    },
    {
     "name": "stderr",
     "output_type": "stream",
     "text": [
      "[Parallel(n_jobs=-1)]: Using backend LokyBackend with 32 concurrent workers.\n",
      "[Parallel(n_jobs=-1)]: Done  98 tasks      | elapsed:    3.2s\n",
      "[Parallel(n_jobs=-1)]: Done 225 out of 225 | elapsed:    4.0s finished\n"
     ]
    },
    {
     "data": {
      "text/plain": [
       "GridSearchCV(cv=5, error_score='raise-deprecating',\n",
       "             estimator=ElasticNet(alpha=1.0, copy_X=True, fit_intercept=True,\n",
       "                                  l1_ratio=0.5, max_iter=1000, normalize=False,\n",
       "                                  positive=False, precompute=False,\n",
       "                                  random_state=42, selection='cyclic',\n",
       "                                  tol=0.0001, warm_start=False),\n",
       "             iid='warn', n_jobs=-1,\n",
       "             param_grid=[{'alpha': [0, 0.1, 1, 3, 5],\n",
       "                          'l1_ratio': [0.1, 0.2, 0.3, 0.4, 0.5, 0.6, 0.7, 0.8,\n",
       "                                       0.9]}],\n",
       "             pre_dispatch='2*n_jobs', refit=True, return_train_score=False,\n",
       "             scoring='neg_mean_squared_error', verbose=2)"
      ]
     },
     "execution_count": 47,
     "metadata": {},
     "output_type": "execute_result"
    }
   ],
   "source": [
    "from sklearn.linear_model import ElasticNet\n",
    "from sklearn.model_selection import GridSearchCV\n",
    "\n",
    "lr = ElasticNet(random_state = 42)\n",
    "\n",
    "param_grid = [\n",
    "    {'alpha' : [0, 0.1, 1, 3, 5], 'l1_ratio' : [0.1, 0.2, 0.3, 0.4, 0.5, 0.6, 0.7, 0.8, 0.9]}\n",
    "  ]\n",
    "\n",
    "grid_search = GridSearchCV(lr, param_grid, cv = 5,\n",
    "                           scoring = 'neg_mean_squared_error', verbose = 2, n_jobs = -1)\n",
    "\n",
    "grid_search.fit(train_amount.iloc[:, 1:-4], train_amount['amount_spent'])"
   ]
  },
  {
   "cell_type": "code",
   "execution_count": 48,
   "metadata": {},
   "outputs": [
    {
     "name": "stdout",
     "output_type": "stream",
     "text": [
      "-2.0195345870598507\n",
      "{'alpha': 0.1, 'l1_ratio': 0.3}\n"
     ]
    }
   ],
   "source": [
    "print(grid_search.best_score_)\n",
    "print(grid_search.best_params_)"
   ]
  },
  {
   "cell_type": "code",
   "execution_count": 49,
   "metadata": {},
   "outputs": [
    {
     "data": {
      "text/plain": [
       "['./lr_amount_reg.pkl']"
      ]
     },
     "execution_count": 49,
     "metadata": {},
     "output_type": "execute_result"
    }
   ],
   "source": [
    "from sklearn.externals import joblib\n",
    "\n",
    "lr_amount_reg = ElasticNet(random_state = 42, alpha = 0.1, l1_ratio = 0.2)\n",
    "lr_amount_reg.fit(train_amount.iloc[:, 1:-4], train_amount['amount_spent'])\n",
    "joblib.dump(lr_amount_reg, './lr_amount_reg.pkl')"
   ]
  },
  {
   "cell_type": "markdown",
   "metadata": {},
   "source": [
    "# 테스트"
   ]
  },
  {
   "cell_type": "code",
   "execution_count": 50,
   "metadata": {},
   "outputs": [],
   "source": [
    "path_data_test = os.path.join(os.path.realpath(__file__).rsplit('/', 1)[0], 'preprocess', 'test_preprocess_2.csv')"
   ]
  },
  {
   "cell_type": "code",
   "execution_count": 51,
   "metadata": {},
   "outputs": [],
   "source": [
    "X_test = pd.read_csv(path_data_test, engine = 'python')"
   ]
  },
  {
   "cell_type": "markdown",
   "metadata": {},
   "source": [
    "## 이탈 여부"
   ]
  },
  {
   "cell_type": "markdown",
   "metadata": {},
   "source": [
    "### RandomForest"
   ]
  },
  {
   "cell_type": "code",
   "execution_count": 52,
   "metadata": {},
   "outputs": [
    {
     "name": "stdout",
     "output_type": "stream",
     "text": [
      "acc : 0.7726\n",
      "recall : 0.7065096645189958\n",
      "precision : 0.7694168884587467\n",
      "f1 score : 0.7366226546212647\n"
     ]
    },
    {
     "data": {
      "text/plain": [
       "array([[4546,  953],\n",
       "       [1321, 3180]])"
      ]
     },
     "execution_count": 52,
     "metadata": {},
     "output_type": "execute_result"
    }
   ],
   "source": [
    "from sklearn.metrics import accuracy_score, recall_score, precision_score, f1_score, confusion_matrix\n",
    "\n",
    "y_pred_rf = rf_leave_clf.predict(X_test.iloc[:, 1:])\n",
    "print('acc :', accuracy_score(y_test['leave'], y_pred_rf))\n",
    "print('recall :', recall_score(y_test['leave'], y_pred_rf))\n",
    "print('precision :', precision_score(y_test['leave'], y_pred_rf))\n",
    "print('f1 score :', f1_score(y_test['leave'], y_pred_rf))\n",
    "confusion_matrix(y_test['leave'], y_pred_rf)"
   ]
  },
  {
   "cell_type": "markdown",
   "metadata": {},
   "source": [
    "### XGBoost"
   ]
  },
  {
   "cell_type": "code",
   "execution_count": 53,
   "metadata": {},
   "outputs": [
    {
     "name": "stdout",
     "output_type": "stream",
     "text": [
      "acc : 0.7631\n",
      "recall : 0.705620973117085\n",
      "precision : 0.75260663507109\n",
      "f1 score : 0.7283568398119481\n"
     ]
    },
    {
     "data": {
      "text/plain": [
       "array([[4455, 1044],\n",
       "       [1325, 3176]])"
      ]
     },
     "execution_count": 53,
     "metadata": {},
     "output_type": "execute_result"
    }
   ],
   "source": [
    "from sklearn.metrics import accuracy_score, recall_score, precision_score, f1_score, confusion_matrix\n",
    "\n",
    "y_pred_xgb = xgb_leave_clf.predict(X_test.iloc[:, 1:])\n",
    "print('acc :', accuracy_score(y_test['leave'], y_pred_xgb))\n",
    "print('recall :', recall_score(y_test['leave'], y_pred_xgb))\n",
    "print('precision :', precision_score(y_test['leave'], y_pred_xgb))\n",
    "print('f1 score :', f1_score(y_test['leave'], y_pred_xgb))\n",
    "confusion_matrix(y_test['leave'], y_pred_xgb)"
   ]
  },
  {
   "cell_type": "markdown",
   "metadata": {},
   "source": [
    "### Ensemble"
   ]
  },
  {
   "cell_type": "code",
   "execution_count": 54,
   "metadata": {},
   "outputs": [
    {
     "name": "stdout",
     "output_type": "stream",
     "text": [
      "acc : 0.7706\n",
      "recall : 0.7073983559209065\n",
      "precision : 0.7652006729151646\n",
      "f1 score : 0.7351650888940199\n"
     ]
    },
    {
     "data": {
      "text/plain": [
       "array([[4522,  977],\n",
       "       [1317, 3184]])"
      ]
     },
     "execution_count": 54,
     "metadata": {},
     "output_type": "execute_result"
    }
   ],
   "source": [
    "from sklearn.metrics import accuracy_score, recall_score, precision_score, f1_score, confusion_matrix\n",
    "\n",
    "y_pred_ensemble = ensemble_leave_clf.predict(X_test.iloc[:, 1:])\n",
    "print('acc :', accuracy_score(y_test['leave'], y_pred_ensemble))\n",
    "print('recall :', recall_score(y_test['leave'], y_pred_ensemble))\n",
    "print('precision :', precision_score(y_test['leave'], y_pred_ensemble))\n",
    "print('f1 score :', f1_score(y_test['leave'], y_pred_ensemble))\n",
    "confusion_matrix(y_test['leave'], y_pred_ensemble)"
   ]
  },
  {
   "cell_type": "markdown",
   "metadata": {},
   "source": [
    "## 결제 여부"
   ]
  },
  {
   "cell_type": "markdown",
   "metadata": {},
   "source": [
    "### RandomForest"
   ]
  },
  {
   "cell_type": "code",
   "execution_count": 55,
   "metadata": {},
   "outputs": [
    {
     "name": "stdout",
     "output_type": "stream",
     "text": [
      "acc : 0.8574\n",
      "recall : 0.921885753613214\n",
      "precision : 0.8464454976303317\n",
      "f1 score : 0.8825564157469937\n"
     ]
    },
    {
     "data": {
      "text/plain": [
       "array([[3216,  972],\n",
       "       [ 454, 5358]])"
      ]
     },
     "execution_count": 55,
     "metadata": {},
     "output_type": "execute_result"
    }
   ],
   "source": [
    "from sklearn.metrics import accuracy_score, recall_score, precision_score, f1_score, confusion_matrix\n",
    "\n",
    "y_pred_rf = rf_amount_clf.predict(X_test.iloc[:, 1:])\n",
    "print('acc :', accuracy_score(y_test['amount'], y_pred_rf))\n",
    "print('recall :', recall_score(y_test['amount'], y_pred_rf))\n",
    "print('precision :', precision_score(y_test['amount'], y_pred_rf))\n",
    "print('f1 score :', f1_score(y_test['amount'], y_pred_rf))\n",
    "confusion_matrix(y_test['amount'], y_pred_rf)"
   ]
  },
  {
   "cell_type": "markdown",
   "metadata": {},
   "source": [
    "### XGBoost"
   ]
  },
  {
   "cell_type": "code",
   "execution_count": 56,
   "metadata": {},
   "outputs": [
    {
     "name": "stdout",
     "output_type": "stream",
     "text": [
      "acc : 0.8561\n",
      "recall : 0.9091534755677908\n",
      "precision : 0.8529459241323648\n",
      "f1 score : 0.8801532439410343\n"
     ]
    },
    {
     "data": {
      "text/plain": [
       "array([[3277,  911],\n",
       "       [ 528, 5284]])"
      ]
     },
     "execution_count": 56,
     "metadata": {},
     "output_type": "execute_result"
    }
   ],
   "source": [
    "from sklearn.metrics import accuracy_score, recall_score, precision_score, f1_score, confusion_matrix\n",
    "\n",
    "y_pred_xgb = xgb_amount_clf.predict(X_test.iloc[:, 1:])\n",
    "print('acc :', accuracy_score(y_test['amount'], y_pred_xgb))\n",
    "print('recall :', recall_score(y_test['amount'], y_pred_xgb))\n",
    "print('precision :', precision_score(y_test['amount'], y_pred_xgb))\n",
    "print('f1 score :', f1_score(y_test['amount'], y_pred_xgb))\n",
    "confusion_matrix(y_test['amount'], y_pred_xgb)"
   ]
  },
  {
   "cell_type": "markdown",
   "metadata": {},
   "source": [
    "### Ensemble"
   ]
  },
  {
   "cell_type": "code",
   "execution_count": 57,
   "metadata": {},
   "outputs": [
    {
     "name": "stdout",
     "output_type": "stream",
     "text": [
      "acc : 0.8572\n",
      "recall : 0.9172401927047488\n",
      "precision : 0.849155782096209\n",
      "f1 score : 0.8818858560794044\n"
     ]
    },
    {
     "data": {
      "text/plain": [
       "array([[3241,  947],\n",
       "       [ 481, 5331]])"
      ]
     },
     "execution_count": 57,
     "metadata": {},
     "output_type": "execute_result"
    }
   ],
   "source": [
    "from sklearn.metrics import accuracy_score, recall_score, precision_score, f1_score, confusion_matrix\n",
    "\n",
    "y_pred_ensemble = ensemble_amount_clf.predict(X_test.iloc[:, 1:])\n",
    "print('acc :', accuracy_score(y_test['amount'], y_pred_ensemble))\n",
    "print('recall :', recall_score(y_test['amount'], y_pred_ensemble))\n",
    "print('precision :', precision_score(y_test['amount'], y_pred_ensemble))\n",
    "print('f1 score :', f1_score(y_test['amount'], y_pred_ensemble))\n",
    "confusion_matrix(y_test['amount'], y_pred_ensemble)"
   ]
  },
  {
   "cell_type": "markdown",
   "metadata": {},
   "source": [
    "## 추가 생존 기간"
   ]
  },
  {
   "cell_type": "markdown",
   "metadata": {},
   "source": [
    "### RandomForest"
   ]
  },
  {
   "cell_type": "code",
   "execution_count": 58,
   "metadata": {},
   "outputs": [
    {
     "name": "stdout",
     "output_type": "stream",
     "text": [
      "mse : 823.7027374009992\n"
     ]
    }
   ],
   "source": [
    "from sklearn.metrics import mean_squared_error\n",
    "\n",
    "y_pred_rf = rf_leave_reg.predict(X_test.iloc[:, 1:])\n",
    "print('mse :', mean_squared_error(y_test['survival_time'], y_pred_rf))"
   ]
  },
  {
   "cell_type": "markdown",
   "metadata": {},
   "source": [
    "### XGBoost"
   ]
  },
  {
   "cell_type": "code",
   "execution_count": 59,
   "metadata": {},
   "outputs": [
    {
     "name": "stdout",
     "output_type": "stream",
     "text": [
      "mse : 830.4630963338064\n"
     ]
    }
   ],
   "source": [
    "from sklearn.metrics import mean_squared_error\n",
    "\n",
    "y_pred_xgb = xgb_leave_reg.predict(X_test.iloc[:, 1:])\n",
    "print('mse :', mean_squared_error(y_test['survival_time'], y_pred_xgb))"
   ]
  },
  {
   "cell_type": "markdown",
   "metadata": {},
   "source": [
    "### ExtraTrees"
   ]
  },
  {
   "cell_type": "code",
   "execution_count": 60,
   "metadata": {},
   "outputs": [
    {
     "name": "stdout",
     "output_type": "stream",
     "text": [
      "mse : 840.4614706520662\n"
     ]
    }
   ],
   "source": [
    "from sklearn.metrics import mean_squared_error\n",
    "\n",
    "y_pred_extree = extree_leave_reg.predict(X_test.iloc[:, 1:])\n",
    "print('mse :', mean_squared_error(y_test['survival_time'], y_pred_extree))"
   ]
  },
  {
   "cell_type": "markdown",
   "metadata": {},
   "source": [
    "### ElasticNet"
   ]
  },
  {
   "cell_type": "code",
   "execution_count": 61,
   "metadata": {},
   "outputs": [
    {
     "name": "stdout",
     "output_type": "stream",
     "text": [
      "mse : 835.941754613301\n"
     ]
    }
   ],
   "source": [
    "from sklearn.metrics import mean_squared_error\n",
    "\n",
    "y_pred_lr = lr_leave_reg.predict(X_test.iloc[:, 1:])\n",
    "print('mse :', mean_squared_error(y_test['survival_time'], y_pred_lr))"
   ]
  },
  {
   "cell_type": "markdown",
   "metadata": {},
   "source": [
    "## 일 평균 결제 금액"
   ]
  },
  {
   "cell_type": "markdown",
   "metadata": {},
   "source": [
    "### RandomForest"
   ]
  },
  {
   "cell_type": "code",
   "execution_count": 62,
   "metadata": {},
   "outputs": [
    {
     "name": "stdout",
     "output_type": "stream",
     "text": [
      "mse : 0.8968534380831418\n"
     ]
    }
   ],
   "source": [
    "from sklearn.metrics import mean_squared_error\n",
    "\n",
    "y_pred_rf = rf_amount_reg.predict(X_test.iloc[:, 1:])\n",
    "print('mse :', mean_squared_error(y_test['amount_spent'], y_pred_rf))"
   ]
  },
  {
   "cell_type": "markdown",
   "metadata": {},
   "source": [
    "### XGBoost"
   ]
  },
  {
   "cell_type": "code",
   "execution_count": 63,
   "metadata": {},
   "outputs": [
    {
     "name": "stdout",
     "output_type": "stream",
     "text": [
      "mse : 0.7044065196327494\n"
     ]
    }
   ],
   "source": [
    "from sklearn.metrics import mean_squared_error\n",
    "\n",
    "y_pred_xgb = xgb_amount_reg.predict(X_test.iloc[:, 1:])\n",
    "print('mse :', mean_squared_error(y_test['amount_spent'], y_pred_xgb))"
   ]
  },
  {
   "cell_type": "markdown",
   "metadata": {},
   "source": [
    "### ExtraTrees"
   ]
  },
  {
   "cell_type": "code",
   "execution_count": 64,
   "metadata": {},
   "outputs": [
    {
     "name": "stdout",
     "output_type": "stream",
     "text": [
      "mse : 0.8328581870360369\n"
     ]
    }
   ],
   "source": [
    "from sklearn.metrics import mean_squared_error\n",
    "\n",
    "y_pred_extree = extree_amount_reg.predict(X_test.iloc[:, 1:])\n",
    "print('mse :', mean_squared_error(y_test['amount_spent'], y_pred_extree))"
   ]
  },
  {
   "cell_type": "markdown",
   "metadata": {},
   "source": [
    "### ElasticNet"
   ]
  },
  {
   "cell_type": "code",
   "execution_count": 65,
   "metadata": {},
   "outputs": [
    {
     "name": "stdout",
     "output_type": "stream",
     "text": [
      "mse : 0.7004694475856131\n"
     ]
    }
   ],
   "source": [
    "from sklearn.metrics import mean_squared_error\n",
    "\n",
    "y_pred_lr = lr_amount_reg.predict(X_test.iloc[:, 1:])\n",
    "print('mse :', mean_squared_error(y_test['amount_spent'], y_pred_lr))"
   ]
  },
  {
   "cell_type": "markdown",
   "metadata": {},
   "source": [
    "# 베이지안 최적화"
   ]
  },
  {
   "cell_type": "code",
   "execution_count": 66,
   "metadata": {},
   "outputs": [
    {
     "name": "stdout",
     "output_type": "stream",
     "text": [
      "[14:25:47] WARNING: src/objective/regression_obj.cu:152: reg:linear is now deprecated in favor of reg:squarederror.\n",
      "[14:25:48] WARNING: src/objective/regression_obj.cu:152: reg:linear is now deprecated in favor of reg:squarederror.\n"
     ]
    }
   ],
   "source": [
    "from sklearn.externals import joblib\n",
    "\n",
    "ensemble_leave_clf = joblib.load('./ensemble_leave_clf.pkl')\n",
    "\n",
    "ensemble_amount_clf = joblib.load('./ensemble_amount_clf.pkl')\n",
    "\n",
    "rf_leave_reg = joblib.load('./rf_leave_reg.pkl')\n",
    "xgb_leave_reg = joblib.load('./xgb_leave_reg.pkl')\n",
    "extree_leave_reg = joblib.load('./extree_leave_reg.pkl')\n",
    "lr_leave_reg = joblib.load('./lr_leave_reg.pkl')\n",
    "\n",
    "rf_amount_reg = joblib.load('./rf_amount_reg.pkl')\n",
    "xgb_amount_reg = joblib.load('./xgb_amount_reg.pkl')\n",
    "extree_amount_reg = joblib.load('./extree_amount_reg.pkl')\n",
    "lr_amount_reg = joblib.load('./lr_amount_reg.pkl')"
   ]
  },
  {
   "cell_type": "code",
   "execution_count": 67,
   "metadata": {},
   "outputs": [],
   "source": [
    "y_test.iloc[:, :3].to_csv('./true.csv', index = False)"
   ]
  },
  {
   "cell_type": "code",
   "execution_count": 68,
   "metadata": {},
   "outputs": [],
   "source": [
    "def predict(model1, model2, model3, model4, model5, model6, model7, model8, model9, model10, data,\n",
    "            w1, w2, w3, w4, w5, w6, w7, w8):\n",
    "    '''\n",
    "    model1 : 생존 여부 예측(classifier)\n",
    "    model2 : 결제 여부 예측(classifier)\n",
    "    model3~6 : 추가 생존 기간 예측(regressor)\n",
    "    model7~10 : 일 평균 결제 금액 예측(regressor)\n",
    "    data : test data\n",
    "    w1~w4 : 추가 생존 기간 예측 모델 weight\n",
    "    w5~w8 : 일 평균 결제 금액 예측 모델 weight\n",
    "    '''\n",
    "    \n",
    "    pred1 = model1.predict(data.iloc[:, 1:])\n",
    "    pred2 = model2.predict(data.iloc[:, 1:])\n",
    "    pred3 = ((w1 * model3.predict(data.iloc[:, 1:])) + (w2 * model4.predict(data.iloc[:, 1:]))\n",
    "            + (w3 * model5.predict(data.iloc[:, 1:])) + (w4 * model6.predict(data.iloc[:, 1:])))\n",
    "    pred4 = ((w5 * model7.predict(data.iloc[:, 1:])) + (w6 * model8.predict(data.iloc[:, 1:]))\n",
    "            + (w7 * model9.predict(data.iloc[:, 1:])) + (w8 * model10.predict(data.iloc[:, 1:])))\n",
    "    \n",
    "    pred3[pred1 == 0] = 64\n",
    "    pred4[pred2 == 0] = 0\n",
    "    pred3[pred3 <= 1] = 1\n",
    "    pred3[pred3 >= 64] = 64\n",
    "    pred4[pred4 <= 0] = 0\n",
    "    \n",
    "    array = np.concatenate([data.iloc[:, 0].values.reshape(-1, 1), pred3.reshape(-1, 1), pred4.reshape(-1, 1)], axis = 1)\n",
    "    df = pd.DataFrame(array)\n",
    "    df.columns = ['acc_id', 'survival_time', 'amount_spent']\n",
    "    df['acc_id'] = df['acc_id'].astype('int32')\n",
    "    df['survival_time'] = round(df['survival_time']).astype('int32')\n",
    "    \n",
    "    return df"
   ]
  },
  {
   "cell_type": "code",
   "execution_count": 69,
   "metadata": {},
   "outputs": [],
   "source": [
    "from score_function import score_function\n",
    "\n",
    "def black_box_function(w1, w2, w3, w4, w5, w6, w7, w8):\n",
    "    test_pred = predict(model1 = ensemble_leave_clf, model2 = ensemble_amount_clf, \n",
    "                            model3 = rf_leave_reg, model4 = xgb_leave_reg,\n",
    "                            model5 = extree_leave_reg, model6 = lr_leave_reg,\n",
    "                            model7 = rf_amount_reg, model8 = xgb_amount_reg,\n",
    "                            model9 = extree_amount_reg, model10 = lr_amount_reg,\n",
    "                            data = X_test,\n",
    "                            w1 = w1, w2 = w2, w3 = w3, w4 = w4, w5 = w5, w6 = w6, w7 = w7, w8 = w8)\n",
    "    \n",
    "    test_pred.to_csv('./y_pred.csv', index = False)\n",
    "    test_score = score_function('./y_pred.csv', './true.csv')\n",
    "    \n",
    "    return test_score"
   ]
  },
  {
   "cell_type": "code",
   "execution_count": 70,
   "metadata": {},
   "outputs": [],
   "source": [
    "from bayes_opt import BayesianOptimization\n",
    "\n",
    "pbounds = {'w1' : (0, 1), 'w2' : (0, 1), 'w3' : (0, 1), 'w4' : (0, 1),\n",
    "          'w5' : (0.05, 1.5), 'w6' : (0.05, 1.5), 'w7' : (0.05, 1.5), 'w8' : (0.05, 1.5)}\n",
    "\n",
    "optimizer = BayesianOptimization(\n",
    "    f = black_box_function,\n",
    "    pbounds = pbounds,\n",
    "    random_state = 42,\n",
    ")"
   ]
  },
  {
   "cell_type": "code",
   "execution_count": 71,
   "metadata": {},
   "outputs": [
    {
     "name": "stdout",
     "output_type": "stream",
     "text": [
      "|   iter    |  target   |    w1     |    w2     |    w3     |    w4     |    w5     |    w6     |    w7     |    w8     |\n",
      "-------------------------------------------------------------------------------------------------------------------------\n",
      "1681.2155036820757\n",
      "| \u001b[0m 1       \u001b[0m | \u001b[0m 1.681e+0\u001b[0m | \u001b[0m 0.3745  \u001b[0m | \u001b[0m 0.9507  \u001b[0m | \u001b[0m 0.732   \u001b[0m | \u001b[0m 0.5987  \u001b[0m | \u001b[0m 0.2762  \u001b[0m | \u001b[0m 0.2762  \u001b[0m | \u001b[0m 0.1342  \u001b[0m | \u001b[0m 1.306   \u001b[0m |\n",
      "2017.3409292846748\n",
      "| \u001b[95m 2       \u001b[0m | \u001b[95m 2.017e+0\u001b[0m | \u001b[95m 0.6011  \u001b[0m | \u001b[95m 0.7081  \u001b[0m | \u001b[95m 0.02058 \u001b[0m | \u001b[95m 0.9699  \u001b[0m | \u001b[95m 1.257   \u001b[0m | \u001b[95m 0.3579  \u001b[0m | \u001b[95m 0.3136  \u001b[0m | \u001b[95m 0.3159  \u001b[0m |\n",
      "3965.5452909079777\n",
      "| \u001b[95m 3       \u001b[0m | \u001b[95m 3.966e+0\u001b[0m | \u001b[95m 0.3042  \u001b[0m | \u001b[95m 0.5248  \u001b[0m | \u001b[95m 0.4319  \u001b[0m | \u001b[95m 0.2912  \u001b[0m | \u001b[95m 0.9372  \u001b[0m | \u001b[95m 0.2523  \u001b[0m | \u001b[95m 0.4736  \u001b[0m | \u001b[95m 0.5812  \u001b[0m |\n",
      "3020.3969795688736\n",
      "| \u001b[0m 4       \u001b[0m | \u001b[0m 3.02e+03\u001b[0m | \u001b[0m 0.4561  \u001b[0m | \u001b[0m 0.7852  \u001b[0m | \u001b[0m 0.1997  \u001b[0m | \u001b[0m 0.5142  \u001b[0m | \u001b[0m 0.909   \u001b[0m | \u001b[0m 0.1174  \u001b[0m | \u001b[0m 0.9309  \u001b[0m | \u001b[0m 0.2973  \u001b[0m |\n",
      "1655.0325787536954\n",
      "| \u001b[0m 5       \u001b[0m | \u001b[0m 1.655e+0\u001b[0m | \u001b[0m 0.06505 \u001b[0m | \u001b[0m 0.9489  \u001b[0m | \u001b[0m 0.9656  \u001b[0m | \u001b[0m 0.8084  \u001b[0m | \u001b[0m 0.4917  \u001b[0m | \u001b[0m 0.1916  \u001b[0m | \u001b[0m 1.042   \u001b[0m | \u001b[0m 0.6882  \u001b[0m |\n",
      "3774.112850243528\n",
      "| \u001b[0m 6       \u001b[0m | \u001b[0m 3.774e+0\u001b[0m | \u001b[0m 0.122   \u001b[0m | \u001b[0m 0.4952  \u001b[0m | \u001b[0m 0.03439 \u001b[0m | \u001b[0m 0.9093  \u001b[0m | \u001b[0m 0.4252  \u001b[0m | \u001b[0m 1.011   \u001b[0m | \u001b[0m 0.502   \u001b[0m | \u001b[0m 0.8041  \u001b[0m |\n",
      "1797.5993495361333\n",
      "| \u001b[0m 7       \u001b[0m | \u001b[0m 1.798e+0\u001b[0m | \u001b[0m 0.5467  \u001b[0m | \u001b[0m 0.1849  \u001b[0m | \u001b[0m 0.9696  \u001b[0m | \u001b[0m 0.7751  \u001b[0m | \u001b[0m 1.412   \u001b[0m | \u001b[0m 1.347   \u001b[0m | \u001b[0m 0.917   \u001b[0m | \u001b[0m 1.387   \u001b[0m |\n",
      "5754.518496035079\n",
      "| \u001b[95m 8       \u001b[0m | \u001b[95m 5.755e+0\u001b[0m | \u001b[95m 0.08849 \u001b[0m | \u001b[95m 0.196   \u001b[0m | \u001b[95m 0.04523 \u001b[0m | \u001b[95m 0.3253  \u001b[0m | \u001b[95m 0.6136  \u001b[0m | \u001b[95m 0.4435  \u001b[0m | \u001b[95m 1.252   \u001b[0m | \u001b[95m 0.5673  \u001b[0m |\n",
      "3288.361671788783\n",
      "| \u001b[0m 9       \u001b[0m | \u001b[0m 3.288e+0\u001b[0m | \u001b[0m 0.2809  \u001b[0m | \u001b[0m 0.5427  \u001b[0m | \u001b[0m 0.1409  \u001b[0m | \u001b[0m 0.8022  \u001b[0m | \u001b[0m 0.1581  \u001b[0m | \u001b[0m 1.481   \u001b[0m | \u001b[0m 1.17    \u001b[0m | \u001b[0m 0.3381  \u001b[0m |\n",
      "2228.0548993027924\n",
      "| \u001b[0m 10      \u001b[0m | \u001b[0m 2.228e+0\u001b[0m | \u001b[0m 0.005522\u001b[0m | \u001b[0m 0.8155  \u001b[0m | \u001b[0m 0.7069  \u001b[0m | \u001b[0m 0.729   \u001b[0m | \u001b[0m 1.168   \u001b[0m | \u001b[0m 0.1574  \u001b[0m | \u001b[0m 0.5698  \u001b[0m | \u001b[0m 0.218   \u001b[0m |\n",
      "3284.250077420123\n",
      "| \u001b[0m 11      \u001b[0m | \u001b[0m 3.284e+0\u001b[0m | \u001b[0m 0.8631  \u001b[0m | \u001b[0m 0.6233  \u001b[0m | \u001b[0m 0.3309  \u001b[0m | \u001b[0m 0.06356 \u001b[0m | \u001b[0m 0.5009  \u001b[0m | \u001b[0m 0.5215  \u001b[0m | \u001b[0m 1.108   \u001b[0m | \u001b[0m 0.9745  \u001b[0m |\n",
      "2315.4463297142493\n",
      "| \u001b[0m 12      \u001b[0m | \u001b[0m 2.315e+0\u001b[0m | \u001b[0m 0.8872  \u001b[0m | \u001b[0m 0.4722  \u001b[0m | \u001b[0m 0.1196  \u001b[0m | \u001b[0m 0.7132  \u001b[0m | \u001b[0m 1.153   \u001b[0m | \u001b[0m 0.8639  \u001b[0m | \u001b[0m 1.168   \u001b[0m | \u001b[0m 0.766   \u001b[0m |\n",
      "4972.790624662644\n",
      "| \u001b[0m 13      \u001b[0m | \u001b[0m 4.973e+0\u001b[0m | \u001b[0m 0.5227  \u001b[0m | \u001b[0m 0.4275  \u001b[0m | \u001b[0m 0.02542 \u001b[0m | \u001b[0m 0.1079  \u001b[0m | \u001b[0m 0.09557 \u001b[0m | \u001b[0m 0.9728  \u001b[0m | \u001b[0m 0.5058  \u001b[0m | \u001b[0m 0.7874  \u001b[0m |\n",
      "1874.0278276441468\n",
      "| \u001b[0m 14      \u001b[0m | \u001b[0m 1.874e+0\u001b[0m | \u001b[0m 0.9076  \u001b[0m | \u001b[0m 0.2493  \u001b[0m | \u001b[0m 0.4104  \u001b[0m | \u001b[0m 0.7556  \u001b[0m | \u001b[0m 0.3818  \u001b[0m | \u001b[0m 0.1616  \u001b[0m | \u001b[0m 0.4701  \u001b[0m | \u001b[0m 0.2838  \u001b[0m |\n",
      "1459.1318332515812\n",
      "| \u001b[0m 15      \u001b[0m | \u001b[0m 1.459e+0\u001b[0m | \u001b[0m 0.9297  \u001b[0m | \u001b[0m 0.8081  \u001b[0m | \u001b[0m 0.6334  \u001b[0m | \u001b[0m 0.8715  \u001b[0m | \u001b[0m 1.215   \u001b[0m | \u001b[0m 0.3205  \u001b[0m | \u001b[0m 1.344   \u001b[0m | \u001b[0m 0.832   \u001b[0m |\n",
      "2725.7946243927818\n",
      "| \u001b[0m 16      \u001b[0m | \u001b[0m 2.726e+0\u001b[0m | \u001b[0m 0.8074  \u001b[0m | \u001b[0m 0.8961  \u001b[0m | \u001b[0m 0.318   \u001b[0m | \u001b[0m 0.1101  \u001b[0m | \u001b[0m 0.3805  \u001b[0m | \u001b[0m 0.6693  \u001b[0m | \u001b[0m 1.236   \u001b[0m | \u001b[0m 1.298   \u001b[0m |\n",
      "5041.910223733343\n",
      "| \u001b[0m 17      \u001b[0m | \u001b[0m 5.042e+0\u001b[0m | \u001b[0m 0.006952\u001b[0m | \u001b[0m 0.5107  \u001b[0m | \u001b[0m 0.4174  \u001b[0m | \u001b[0m 0.2221  \u001b[0m | \u001b[0m 0.2238  \u001b[0m | \u001b[0m 0.5395  \u001b[0m | \u001b[0m 1.417   \u001b[0m | \u001b[0m 0.5186  \u001b[0m |\n",
      "1729.0456586849418\n",
      "| \u001b[0m 18      \u001b[0m | \u001b[0m 1.729e+0\u001b[0m | \u001b[0m 0.5188  \u001b[0m | \u001b[0m 0.703   \u001b[0m | \u001b[0m 0.3636  \u001b[0m | \u001b[0m 0.9718  \u001b[0m | \u001b[0m 1.446   \u001b[0m | \u001b[0m 0.4151  \u001b[0m | \u001b[0m 0.771   \u001b[0m | \u001b[0m 0.4863  \u001b[0m |\n",
      "4192.764808899758\n",
      "| \u001b[0m 19      \u001b[0m | \u001b[0m 4.193e+0\u001b[0m | \u001b[0m 0.2848  \u001b[0m | \u001b[0m 0.03689 \u001b[0m | \u001b[0m 0.6096  \u001b[0m | \u001b[0m 0.5027  \u001b[0m | \u001b[0m 0.1246  \u001b[0m | \u001b[0m 0.454   \u001b[0m | \u001b[0m 1.367   \u001b[0m | \u001b[0m 0.3974  \u001b[0m |\n",
      "3231.9171846608588\n",
      "| \u001b[0m 20      \u001b[0m | \u001b[0m 3.232e+0\u001b[0m | \u001b[0m 0.1449  \u001b[0m | \u001b[0m 0.4895  \u001b[0m | \u001b[0m 0.9857  \u001b[0m | \u001b[0m 0.2421  \u001b[0m | \u001b[0m 1.025   \u001b[0m | \u001b[0m 1.154   \u001b[0m | \u001b[0m 0.3946  \u001b[0m | \u001b[0m 1.106   \u001b[0m |\n",
      "2339.50784971276\n",
      "| \u001b[0m 21      \u001b[0m | \u001b[0m 2.34e+03\u001b[0m | \u001b[0m 0.3678  \u001b[0m | \u001b[0m 0.6323  \u001b[0m | \u001b[0m 0.6335  \u001b[0m | \u001b[0m 0.5358  \u001b[0m | \u001b[0m 0.1809  \u001b[0m | \u001b[0m 1.261   \u001b[0m | \u001b[0m 0.5151  \u001b[0m | \u001b[0m 0.3205  \u001b[0m |\n",
      "4623.704030910928\n",
      "| \u001b[0m 22      \u001b[0m | \u001b[0m 4.624e+0\u001b[0m | \u001b[0m 0.04078 \u001b[0m | \u001b[0m 0.5909  \u001b[0m | \u001b[0m 0.6776  \u001b[0m | \u001b[0m 0.01659 \u001b[0m | \u001b[0m 0.7925  \u001b[0m | \u001b[0m 0.3784  \u001b[0m | \u001b[0m 0.9855  \u001b[0m | \u001b[0m 0.3028  \u001b[0m |\n",
      "2611.1527732400828\n",
      "| \u001b[0m 23      \u001b[0m | \u001b[0m 2.611e+0\u001b[0m | \u001b[0m 0.6909  \u001b[0m | \u001b[0m 0.3867  \u001b[0m | \u001b[0m 0.9367  \u001b[0m | \u001b[0m 0.1375  \u001b[0m | \u001b[0m 0.5445  \u001b[0m | \u001b[0m 0.2145  \u001b[0m | \u001b[0m 1.391   \u001b[0m | \u001b[0m 1.322   \u001b[0m |\n",
      "2190.6005186925213\n",
      "| \u001b[0m 24      \u001b[0m | \u001b[0m 2.191e+0\u001b[0m | \u001b[0m 0.2579  \u001b[0m | \u001b[0m 0.66    \u001b[0m | \u001b[0m 0.8172  \u001b[0m | \u001b[0m 0.5552  \u001b[0m | \u001b[0m 0.818   \u001b[0m | \u001b[0m 0.4007  \u001b[0m | \u001b[0m 0.185   \u001b[0m | \u001b[0m 1.351   \u001b[0m |\n",
      "2377.7534516825294\n",
      "| \u001b[0m 25      \u001b[0m | \u001b[0m 2.378e+0\u001b[0m | \u001b[0m 0.9004  \u001b[0m | \u001b[0m 0.6331  \u001b[0m | \u001b[0m 0.339   \u001b[0m | \u001b[0m 0.3492  \u001b[0m | \u001b[0m 1.103   \u001b[0m | \u001b[0m 1.351   \u001b[0m | \u001b[0m 1.336   \u001b[0m | \u001b[0m 1.181   \u001b[0m |\n",
      "3131.3738034481025\n",
      "| \u001b[0m 26      \u001b[0m | \u001b[0m 3.131e+0\u001b[0m | \u001b[0m 0.642   \u001b[0m | \u001b[0m 0.08414 \u001b[0m | \u001b[0m 0.1616  \u001b[0m | \u001b[0m 0.8986  \u001b[0m | \u001b[0m 0.9293  \u001b[0m | \u001b[0m 0.06334 \u001b[0m | \u001b[0m 0.1971  \u001b[0m | \u001b[0m 1.012   \u001b[0m |\n",
      "4326.248216984792\n",
      "| \u001b[0m 27      \u001b[0m | \u001b[0m 4.326e+0\u001b[0m | \u001b[0m 0.005062\u001b[0m | \u001b[0m 0.1608  \u001b[0m | \u001b[0m 0.5487  \u001b[0m | \u001b[0m 0.6919  \u001b[0m | \u001b[0m 0.9953  \u001b[0m | \u001b[0m 0.3752  \u001b[0m | \u001b[0m 1.083   \u001b[0m | \u001b[0m 0.394   \u001b[0m |\n",
      "1712.5029379655978\n",
      "| \u001b[0m 28      \u001b[0m | \u001b[0m 1.713e+0\u001b[0m | \u001b[0m 0.3254  \u001b[0m | \u001b[0m 0.7465  \u001b[0m | \u001b[0m 0.6496  \u001b[0m | \u001b[0m 0.8492  \u001b[0m | \u001b[0m 1.004   \u001b[0m | \u001b[0m 0.874   \u001b[0m | \u001b[0m 0.1858  \u001b[0m | \u001b[0m 0.5832  \u001b[0m |\n",
      "3208.3328895398663\n",
      "| \u001b[0m 29      \u001b[0m | \u001b[0m 3.208e+0\u001b[0m | \u001b[0m 0.2652  \u001b[0m | \u001b[0m 0.244   \u001b[0m | \u001b[0m 0.973   \u001b[0m | \u001b[0m 0.3931  \u001b[0m | \u001b[0m 1.343   \u001b[0m | \u001b[0m 0.9652  \u001b[0m | \u001b[0m 1.202   \u001b[0m | \u001b[0m 0.7788  \u001b[0m |\n",
      "2767.477868676574\n",
      "| \u001b[0m 30      \u001b[0m | \u001b[0m 2.767e+0\u001b[0m | \u001b[0m 0.5769  \u001b[0m | \u001b[0m 0.4925  \u001b[0m | \u001b[0m 0.1952  \u001b[0m | \u001b[0m 0.7225  \u001b[0m | \u001b[0m 0.4571  \u001b[0m | \u001b[0m 0.08526 \u001b[0m | \u001b[0m 0.9859  \u001b[0m | \u001b[0m 0.3068  \u001b[0m |\n",
      "1678.3378678860186\n",
      "| \u001b[0m 31      \u001b[0m | \u001b[0m 1.678e+0\u001b[0m | \u001b[0m 0.9405  \u001b[0m | \u001b[0m 0.9539  \u001b[0m | \u001b[0m 0.9149  \u001b[0m | \u001b[0m 0.3702  \u001b[0m | \u001b[0m 0.07241 \u001b[0m | \u001b[0m 1.396   \u001b[0m | \u001b[0m 0.6709  \u001b[0m | \u001b[0m 1.452   \u001b[0m |\n",
      "2019.635187049701\n",
      "| \u001b[0m 32      \u001b[0m | \u001b[0m 2.02e+03\u001b[0m | \u001b[0m 0.9636  \u001b[0m | \u001b[0m 0.853   \u001b[0m | \u001b[0m 0.2944  \u001b[0m | \u001b[0m 0.3851  \u001b[0m | \u001b[0m 1.284   \u001b[0m | \u001b[0m 0.5095  \u001b[0m | \u001b[0m 0.2958  \u001b[0m | \u001b[0m 0.8574  \u001b[0m |\n",
      "2311.3543508576176\n",
      "| \u001b[0m 33      \u001b[0m | \u001b[0m 2.311e+0\u001b[0m | \u001b[0m 0.9362  \u001b[0m | \u001b[0m 0.696   \u001b[0m | \u001b[0m 0.5701  \u001b[0m | \u001b[0m 0.09718 \u001b[0m | \u001b[0m 0.9418  \u001b[0m | \u001b[0m 1.486   \u001b[0m | \u001b[0m 0.2531  \u001b[0m | \u001b[0m 0.8016  \u001b[0m |\n",
      "1602.333499271475\n",
      "| \u001b[0m 34      \u001b[0m | \u001b[0m 1.602e+0\u001b[0m | \u001b[0m 0.8774  \u001b[0m | \u001b[0m 0.7408  \u001b[0m | \u001b[0m 0.697   \u001b[0m | \u001b[0m 0.7025  \u001b[0m | \u001b[0m 0.5713  \u001b[0m | \u001b[0m 0.4757  \u001b[0m | \u001b[0m 1.224   \u001b[0m | \u001b[0m 1.225   \u001b[0m |\n",
      "1837.4424053771008\n",
      "| \u001b[0m 35      \u001b[0m | \u001b[0m 1.837e+0\u001b[0m | \u001b[0m 0.8671  \u001b[0m | \u001b[0m 0.9132  \u001b[0m | \u001b[0m 0.5113  \u001b[0m | \u001b[0m 0.5015  \u001b[0m | \u001b[0m 1.208   \u001b[0m | \u001b[0m 0.9924  \u001b[0m | \u001b[0m 1.068   \u001b[0m | \u001b[0m 1.204   \u001b[0m |\n",
      "3673.4527884389963\n",
      "| \u001b[0m 36      \u001b[0m | \u001b[0m 3.673e+0\u001b[0m | \u001b[0m 0.89    \u001b[0m | \u001b[0m 0.338   \u001b[0m | \u001b[0m 0.3756  \u001b[0m | \u001b[0m 0.09398 \u001b[0m | \u001b[0m 0.8885  \u001b[0m | \u001b[0m 0.1021  \u001b[0m | \u001b[0m 0.7251  \u001b[0m | \u001b[0m 0.8368  \u001b[0m |\n"
     ]
    },
    {
     "name": "stdout",
     "output_type": "stream",
     "text": [
      "5487.981055590978\n",
      "| \u001b[0m 37      \u001b[0m | \u001b[0m 5.488e+0\u001b[0m | \u001b[0m 0.2865  \u001b[0m | \u001b[0m 0.5908  \u001b[0m | \u001b[0m 0.0305  \u001b[0m | \u001b[0m 0.03735 \u001b[0m | \u001b[0m 1.243   \u001b[0m | \u001b[0m 0.5723  \u001b[0m | \u001b[0m 0.2342  \u001b[0m | \u001b[0m 0.8073  \u001b[0m |\n",
      "3619.2252774975127\n",
      "| \u001b[0m 38      \u001b[0m | \u001b[0m 3.619e+0\u001b[0m | \u001b[0m 0.77    \u001b[0m | \u001b[0m 0.2158  \u001b[0m | \u001b[0m 0.6229  \u001b[0m | \u001b[0m 0.08535 \u001b[0m | \u001b[0m 0.1249  \u001b[0m | \u001b[0m 0.8205  \u001b[0m | \u001b[0m 0.8339  \u001b[0m | \u001b[0m 0.9743  \u001b[0m |\n",
      "2027.9800896917404\n",
      "| \u001b[0m 39      \u001b[0m | \u001b[0m 2.028e+0\u001b[0m | \u001b[0m 0.7261  \u001b[0m | \u001b[0m 0.9759  \u001b[0m | \u001b[0m 0.5163  \u001b[0m | \u001b[0m 0.323   \u001b[0m | \u001b[0m 1.203   \u001b[0m | \u001b[0m 0.4427  \u001b[0m | \u001b[0m 0.6865  \u001b[0m | \u001b[0m 0.1638  \u001b[0m |\n",
      "1764.6129353090694\n",
      "| \u001b[0m 40      \u001b[0m | \u001b[0m 1.765e+0\u001b[0m | \u001b[0m 0.02535 \u001b[0m | \u001b[0m 0.9626  \u001b[0m | \u001b[0m 0.836   \u001b[0m | \u001b[0m 0.696   \u001b[0m | \u001b[0m 0.643   \u001b[0m | \u001b[0m 0.3013  \u001b[0m | \u001b[0m 0.2768  \u001b[0m | \u001b[0m 0.4129  \u001b[0m |\n",
      "2482.869637863869\n",
      "| \u001b[0m 41      \u001b[0m | \u001b[0m 2.483e+0\u001b[0m | \u001b[0m 0.5492  \u001b[0m | \u001b[0m 0.7146  \u001b[0m | \u001b[0m 0.6602  \u001b[0m | \u001b[0m 0.2799  \u001b[0m | \u001b[0m 1.435   \u001b[0m | \u001b[0m 1.12    \u001b[0m | \u001b[0m 0.8538  \u001b[0m | \u001b[0m 0.937   \u001b[0m |\n",
      "1850.4420680167807\n",
      "| \u001b[0m 42      \u001b[0m | \u001b[0m 1.85e+03\u001b[0m | \u001b[0m 0.4196  \u001b[0m | \u001b[0m 0.2477  \u001b[0m | \u001b[0m 0.356   \u001b[0m | \u001b[0m 0.7578  \u001b[0m | \u001b[0m 0.07087 \u001b[0m | \u001b[0m 0.2183  \u001b[0m | \u001b[0m 0.1167  \u001b[0m | \u001b[0m 0.1091  \u001b[0m |\n",
      "2619.6621589201523\n",
      "| \u001b[0m 43      \u001b[0m | \u001b[0m 2.62e+03\u001b[0m | \u001b[0m 0.8555  \u001b[0m | \u001b[0m 0.7037  \u001b[0m | \u001b[0m 0.4742  \u001b[0m | \u001b[0m 0.09783 \u001b[0m | \u001b[0m 0.7628  \u001b[0m | \u001b[0m 0.7365  \u001b[0m | \u001b[0m 0.3011  \u001b[0m | \u001b[0m 0.6791  \u001b[0m |\n",
      "3722.040703291233\n",
      "| \u001b[0m 44      \u001b[0m | \u001b[0m 3.722e+0\u001b[0m | \u001b[0m 0.3985  \u001b[0m | \u001b[0m 0.6159  \u001b[0m | \u001b[0m 0.6351  \u001b[0m | \u001b[0m 0.0453  \u001b[0m | \u001b[0m 0.5932  \u001b[0m | \u001b[0m 0.9575  \u001b[0m | \u001b[0m 0.7795  \u001b[0m | \u001b[0m 1.292   \u001b[0m |\n",
      "3981.3901916134996\n",
      "| \u001b[0m 45      \u001b[0m | \u001b[0m 3.981e+0\u001b[0m | \u001b[0m 0.6587  \u001b[0m | \u001b[0m 0.1629  \u001b[0m | \u001b[0m 0.07057 \u001b[0m | \u001b[0m 0.6424  \u001b[0m | \u001b[0m 0.08844 \u001b[0m | \u001b[0m 0.8994  \u001b[0m | \u001b[0m 1.413   \u001b[0m | \u001b[0m 0.8844  \u001b[0m |\n",
      "2744.8705896373585\n",
      "| \u001b[0m 46      \u001b[0m | \u001b[0m 2.745e+0\u001b[0m | \u001b[0m 0.3882  \u001b[0m | \u001b[0m 0.6433  \u001b[0m | \u001b[0m 0.4583  \u001b[0m | \u001b[0m 0.5456  \u001b[0m | \u001b[0m 1.415   \u001b[0m | \u001b[0m 0.6098  \u001b[0m | \u001b[0m 1.444   \u001b[0m | \u001b[0m 1.363   \u001b[0m |\n",
      "4832.538145680355\n",
      "| \u001b[0m 47      \u001b[0m | \u001b[0m 4.833e+0\u001b[0m | \u001b[0m 0.1958  \u001b[0m | \u001b[0m 0.06936 \u001b[0m | \u001b[0m 0.1008  \u001b[0m | \u001b[0m 0.01822 \u001b[0m | \u001b[0m 0.1869  \u001b[0m | \u001b[0m 1.04    \u001b[0m | \u001b[0m 0.1532  \u001b[0m | \u001b[0m 0.5125  \u001b[0m |\n",
      "2902.1751756194853\n",
      "| \u001b[0m 48      \u001b[0m | \u001b[0m 2.902e+0\u001b[0m | \u001b[0m 0.8449  \u001b[0m | \u001b[0m 0.02327 \u001b[0m | \u001b[0m 0.8145  \u001b[0m | \u001b[0m 0.2819  \u001b[0m | \u001b[0m 0.2213  \u001b[0m | \u001b[0m 1.06    \u001b[0m | \u001b[0m 0.962   \u001b[0m | \u001b[0m 1.322   \u001b[0m |\n",
      "3015.085750481843\n",
      "| \u001b[0m 49      \u001b[0m | \u001b[0m 3.015e+0\u001b[0m | \u001b[0m 0.7351  \u001b[0m | \u001b[0m 0.8035  \u001b[0m | \u001b[0m 0.282   \u001b[0m | \u001b[0m 0.1774  \u001b[0m | \u001b[0m 1.138   \u001b[0m | \u001b[0m 1.22    \u001b[0m | \u001b[0m 1.486   \u001b[0m | \u001b[0m 0.6483  \u001b[0m |\n",
      "1873.091393710081\n",
      "| \u001b[0m 50      \u001b[0m | \u001b[0m 1.873e+0\u001b[0m | \u001b[0m 0.372   \u001b[0m | \u001b[0m 0.7764  \u001b[0m | \u001b[0m 0.3408  \u001b[0m | \u001b[0m 0.9308  \u001b[0m | \u001b[0m 1.295   \u001b[0m | \u001b[0m 0.672   \u001b[0m | \u001b[0m 1.139   \u001b[0m | \u001b[0m 1.144   \u001b[0m |\n",
      "5698.923575258676\n",
      "| \u001b[0m 51      \u001b[0m | \u001b[0m 5.699e+0\u001b[0m | \u001b[0m 0.04574 \u001b[0m | \u001b[0m 0.2328  \u001b[0m | \u001b[0m 0.1046  \u001b[0m | \u001b[0m 0.1139  \u001b[0m | \u001b[0m 0.6224  \u001b[0m | \u001b[0m 0.5701  \u001b[0m | \u001b[0m 1.024   \u001b[0m | \u001b[0m 0.6185  \u001b[0m |\n",
      "5761.303459168937\n",
      "| \u001b[95m 52      \u001b[0m | \u001b[95m 5.761e+0\u001b[0m | \u001b[95m 0.04335 \u001b[0m | \u001b[95m 0.2135  \u001b[0m | \u001b[95m 0.1152  \u001b[0m | \u001b[95m 0.2403  \u001b[0m | \u001b[95m 0.5904  \u001b[0m | \u001b[95m 0.4911  \u001b[0m | \u001b[95m 1.223   \u001b[0m | \u001b[95m 0.5584  \u001b[0m |\n",
      "5736.289851687235\n",
      "| \u001b[0m 53      \u001b[0m | \u001b[0m 5.736e+0\u001b[0m | \u001b[0m 0.1616  \u001b[0m | \u001b[0m 0.4267  \u001b[0m | \u001b[0m 0.0     \u001b[0m | \u001b[0m 0.0     \u001b[0m | \u001b[0m 1.059   \u001b[0m | \u001b[0m 0.5798  \u001b[0m | \u001b[0m 0.3866  \u001b[0m | \u001b[0m 0.7943  \u001b[0m |\n",
      "5749.578778162714\n",
      "| \u001b[0m 54      \u001b[0m | \u001b[0m 5.75e+03\u001b[0m | \u001b[0m 0.06739 \u001b[0m | \u001b[0m 0.1997  \u001b[0m | \u001b[0m 0.04846 \u001b[0m | \u001b[0m 0.2612  \u001b[0m | \u001b[0m 0.612   \u001b[0m | \u001b[0m 0.4765  \u001b[0m | \u001b[0m 1.191   \u001b[0m | \u001b[0m 0.5849  \u001b[0m |\n",
      "5757.776694406703\n",
      "| \u001b[0m 55      \u001b[0m | \u001b[0m 5.758e+0\u001b[0m | \u001b[0m 0.06045 \u001b[0m | \u001b[0m 0.2025  \u001b[0m | \u001b[0m 0.09596 \u001b[0m | \u001b[0m 0.2869  \u001b[0m | \u001b[0m 0.6053  \u001b[0m | \u001b[0m 0.465   \u001b[0m | \u001b[0m 1.266   \u001b[0m | \u001b[0m 0.5477  \u001b[0m |\n",
      "5729.396954090949\n",
      "| \u001b[0m 56      \u001b[0m | \u001b[0m 5.729e+0\u001b[0m | \u001b[0m 0.06322 \u001b[0m | \u001b[0m 0.2228  \u001b[0m | \u001b[0m 0.09962 \u001b[0m | \u001b[0m 0.2828  \u001b[0m | \u001b[0m 0.5551  \u001b[0m | \u001b[0m 0.475   \u001b[0m | \u001b[0m 1.222   \u001b[0m | \u001b[0m 0.5741  \u001b[0m |\n",
      "5766.88555130677\n",
      "| \u001b[95m 57      \u001b[0m | \u001b[95m 5.767e+0\u001b[0m | \u001b[95m 0.04064 \u001b[0m | \u001b[95m 0.2148  \u001b[0m | \u001b[95m 0.1342  \u001b[0m | \u001b[95m 0.2043  \u001b[0m | \u001b[95m 0.6564  \u001b[0m | \u001b[95m 0.481   \u001b[0m | \u001b[95m 1.203   \u001b[0m | \u001b[95m 0.5394  \u001b[0m |\n",
      "5766.111840160715\n",
      "| \u001b[0m 58      \u001b[0m | \u001b[0m 5.766e+0\u001b[0m | \u001b[0m 0.03655 \u001b[0m | \u001b[0m 0.2024  \u001b[0m | \u001b[0m 0.1134  \u001b[0m | \u001b[0m 0.2179  \u001b[0m | \u001b[0m 0.6347  \u001b[0m | \u001b[0m 0.493   \u001b[0m | \u001b[0m 1.224   \u001b[0m | \u001b[0m 0.5441  \u001b[0m |\n",
      "5767.427079539925\n",
      "| \u001b[95m 59      \u001b[0m | \u001b[95m 5.767e+0\u001b[0m | \u001b[95m 0.06347 \u001b[0m | \u001b[95m 0.1895  \u001b[0m | \u001b[95m 0.07691 \u001b[0m | \u001b[95m 0.27    \u001b[0m | \u001b[95m 0.6518  \u001b[0m | \u001b[95m 0.4419  \u001b[0m | \u001b[95m 1.242   \u001b[0m | \u001b[95m 0.5613  \u001b[0m |\n",
      "5768.076225415381\n",
      "| \u001b[95m 60      \u001b[0m | \u001b[95m 5.768e+0\u001b[0m | \u001b[95m 0.04084 \u001b[0m | \u001b[95m 0.2262  \u001b[0m | \u001b[95m 0.1371  \u001b[0m | \u001b[95m 0.2017  \u001b[0m | \u001b[95m 0.6273  \u001b[0m | \u001b[95m 0.4843  \u001b[0m | \u001b[95m 1.208   \u001b[0m | \u001b[95m 0.5481  \u001b[0m |\n",
      "5761.717993829787\n",
      "| \u001b[0m 61      \u001b[0m | \u001b[0m 5.762e+0\u001b[0m | \u001b[0m 0.0381  \u001b[0m | \u001b[0m 0.2093  \u001b[0m | \u001b[0m 0.1319  \u001b[0m | \u001b[0m 0.2245  \u001b[0m | \u001b[0m 0.6353  \u001b[0m | \u001b[0m 0.4809  \u001b[0m | \u001b[0m 1.205   \u001b[0m | \u001b[0m 0.5453  \u001b[0m |\n",
      "5799.058846460538\n",
      "| \u001b[95m 62      \u001b[0m | \u001b[95m 5.799e+0\u001b[0m | \u001b[95m 0.0937  \u001b[0m | \u001b[95m 0.2207  \u001b[0m | \u001b[95m 0.09748 \u001b[0m | \u001b[95m 0.2068  \u001b[0m | \u001b[95m 0.6417  \u001b[0m | \u001b[95m 0.4942  \u001b[0m | \u001b[95m 1.239   \u001b[0m | \u001b[95m 0.5572  \u001b[0m |\n",
      "5796.371385095619\n",
      "| \u001b[0m 63      \u001b[0m | \u001b[0m 5.796e+0\u001b[0m | \u001b[0m 0.1334  \u001b[0m | \u001b[0m 0.2047  \u001b[0m | \u001b[0m 0.1048  \u001b[0m | \u001b[0m 0.2019  \u001b[0m | \u001b[0m 0.6448  \u001b[0m | \u001b[0m 0.5096  \u001b[0m | \u001b[0m 1.24    \u001b[0m | \u001b[0m 0.563   \u001b[0m |\n",
      "5802.521197003291\n",
      "| \u001b[95m 64      \u001b[0m | \u001b[95m 5.803e+0\u001b[0m | \u001b[95m 0.1162  \u001b[0m | \u001b[95m 0.2392  \u001b[0m | \u001b[95m 0.08017 \u001b[0m | \u001b[95m 0.2211  \u001b[0m | \u001b[95m 0.6611  \u001b[0m | \u001b[95m 0.5039  \u001b[0m | \u001b[95m 1.245   \u001b[0m | \u001b[95m 0.5572  \u001b[0m |\n",
      "5793.675182394964\n",
      "| \u001b[0m 65      \u001b[0m | \u001b[0m 5.794e+0\u001b[0m | \u001b[0m 0.1176  \u001b[0m | \u001b[0m 0.233   \u001b[0m | \u001b[0m 0.08258 \u001b[0m | \u001b[0m 0.2136  \u001b[0m | \u001b[0m 0.6517  \u001b[0m | \u001b[0m 0.4982  \u001b[0m | \u001b[0m 1.244   \u001b[0m | \u001b[0m 0.5528  \u001b[0m |\n",
      "5855.526688182661\n",
      "| \u001b[95m 66      \u001b[0m | \u001b[95m 5.856e+0\u001b[0m | \u001b[95m 0.07695 \u001b[0m | \u001b[95m 0.2348  \u001b[0m | \u001b[95m 0.1307  \u001b[0m | \u001b[95m 0.2204  \u001b[0m | \u001b[95m 0.6786  \u001b[0m | \u001b[95m 0.5409  \u001b[0m | \u001b[95m 1.252   \u001b[0m | \u001b[95m 0.6435  \u001b[0m |\n",
      "5850.851462004411\n",
      "| \u001b[0m 67      \u001b[0m | \u001b[0m 5.851e+0\u001b[0m | \u001b[0m 0.08028 \u001b[0m | \u001b[0m 0.2334  \u001b[0m | \u001b[0m 0.1264  \u001b[0m | \u001b[0m 0.2236  \u001b[0m | \u001b[0m 0.6778  \u001b[0m | \u001b[0m 0.5375  \u001b[0m | \u001b[0m 1.251   \u001b[0m | \u001b[0m 0.6352  \u001b[0m |\n",
      "5900.400398203814\n",
      "| \u001b[95m 68      \u001b[0m | \u001b[95m 5.9e+03 \u001b[0m | \u001b[95m 0.05576 \u001b[0m | \u001b[95m 0.2641  \u001b[0m | \u001b[95m 0.1832  \u001b[0m | \u001b[95m 0.1168  \u001b[0m | \u001b[95m 0.667   \u001b[0m | \u001b[95m 0.5884  \u001b[0m | \u001b[95m 1.237   \u001b[0m | \u001b[95m 0.7039  \u001b[0m |\n",
      "5903.194627378425\n",
      "| \u001b[95m 69      \u001b[0m | \u001b[95m 5.903e+0\u001b[0m | \u001b[95m 0.05547 \u001b[0m | \u001b[95m 0.2637  \u001b[0m | \u001b[95m 0.1824  \u001b[0m | \u001b[95m 0.1166  \u001b[0m | \u001b[95m 0.667   \u001b[0m | \u001b[95m 0.588   \u001b[0m | \u001b[95m 1.238   \u001b[0m | \u001b[95m 0.7045  \u001b[0m |\n",
      "5885.944526113225\n",
      "| \u001b[0m 70      \u001b[0m | \u001b[0m 5.886e+0\u001b[0m | \u001b[0m 0.0361  \u001b[0m | \u001b[0m 0.2417  \u001b[0m | \u001b[0m 0.1237  \u001b[0m | \u001b[0m 0.06969 \u001b[0m | \u001b[0m 0.6527  \u001b[0m | \u001b[0m 0.5618  \u001b[0m | \u001b[0m 1.298   \u001b[0m | \u001b[0m 0.7765  \u001b[0m |\n",
      "5897.266129279857\n",
      "| \u001b[0m 71      \u001b[0m | \u001b[0m 5.897e+0\u001b[0m | \u001b[0m 0.04518 \u001b[0m | \u001b[0m 0.2469  \u001b[0m | \u001b[0m 0.1545  \u001b[0m | \u001b[0m 0.1024  \u001b[0m | \u001b[0m 0.6663  \u001b[0m | \u001b[0m 0.5668  \u001b[0m | \u001b[0m 1.264   \u001b[0m | \u001b[0m 0.7211  \u001b[0m |\n",
      "5932.170877628343\n",
      "| \u001b[95m 72      \u001b[0m | \u001b[95m 5.932e+0\u001b[0m | \u001b[95m 0.04477 \u001b[0m | \u001b[95m 0.282   \u001b[0m | \u001b[95m 0.1446  \u001b[0m | \u001b[95m 0.1074  \u001b[0m | \u001b[95m 0.6087  \u001b[0m | \u001b[95m 0.6343  \u001b[0m | \u001b[95m 1.27    \u001b[0m | \u001b[95m 0.7776  \u001b[0m |\n",
      "5929.6011831242395\n",
      "| \u001b[0m 73      \u001b[0m | \u001b[0m 5.93e+03\u001b[0m | \u001b[0m 0.04516 \u001b[0m | \u001b[0m 0.2813  \u001b[0m | \u001b[0m 0.1466  \u001b[0m | \u001b[0m 0.106   \u001b[0m | \u001b[0m 0.6132  \u001b[0m | \u001b[0m 0.6308  \u001b[0m | \u001b[0m 1.269   \u001b[0m | \u001b[0m 0.7759  \u001b[0m |\n"
     ]
    },
    {
     "name": "stdout",
     "output_type": "stream",
     "text": [
      "5910.3626508223415\n",
      "| \u001b[0m 74      \u001b[0m | \u001b[0m 5.91e+03\u001b[0m | \u001b[0m 0.0347  \u001b[0m | \u001b[0m 0.2602  \u001b[0m | \u001b[0m 0.1237  \u001b[0m | \u001b[0m 0.1116  \u001b[0m | \u001b[0m 0.5443  \u001b[0m | \u001b[0m 0.6747  \u001b[0m | \u001b[0m 1.308   \u001b[0m | \u001b[0m 0.7736  \u001b[0m |\n",
      "5924.537392843931\n",
      "| \u001b[0m 75      \u001b[0m | \u001b[0m 5.925e+0\u001b[0m | \u001b[0m 0.03645 \u001b[0m | \u001b[0m 0.3067  \u001b[0m | \u001b[0m 0.09293 \u001b[0m | \u001b[0m 0.1252  \u001b[0m | \u001b[0m 0.5837  \u001b[0m | \u001b[0m 0.6502  \u001b[0m | \u001b[0m 1.258   \u001b[0m | \u001b[0m 0.8015  \u001b[0m |\n",
      "5924.729933797689\n",
      "| \u001b[0m 76      \u001b[0m | \u001b[0m 5.925e+0\u001b[0m | \u001b[0m 0.04483 \u001b[0m | \u001b[0m 0.2828  \u001b[0m | \u001b[0m 0.1378  \u001b[0m | \u001b[0m 0.1256  \u001b[0m | \u001b[0m 0.5837  \u001b[0m | \u001b[0m 0.6413  \u001b[0m | \u001b[0m 1.273   \u001b[0m | \u001b[0m 0.7834  \u001b[0m |\n",
      "5937.686650841916\n",
      "| \u001b[95m 77      \u001b[0m | \u001b[95m 5.938e+0\u001b[0m | \u001b[95m 0.03605 \u001b[0m | \u001b[95m 0.3034  \u001b[0m | \u001b[95m 0.1105  \u001b[0m | \u001b[95m 0.08126 \u001b[0m | \u001b[95m 0.6253  \u001b[0m | \u001b[95m 0.6913  \u001b[0m | \u001b[95m 1.276   \u001b[0m | \u001b[95m 0.7769  \u001b[0m |\n",
      "5920.734248582808\n",
      "| \u001b[0m 78      \u001b[0m | \u001b[0m 5.921e+0\u001b[0m | \u001b[0m 0.03504 \u001b[0m | \u001b[0m 0.295   \u001b[0m | \u001b[0m 0.1165  \u001b[0m | \u001b[0m 0.07741 \u001b[0m | \u001b[0m 0.6052  \u001b[0m | \u001b[0m 0.6698  \u001b[0m | \u001b[0m 1.268   \u001b[0m | \u001b[0m 0.7849  \u001b[0m |\n",
      "5997.073284966401\n",
      "| \u001b[95m 79      \u001b[0m | \u001b[95m 5.997e+0\u001b[0m | \u001b[95m 0.03195 \u001b[0m | \u001b[95m 0.3119  \u001b[0m | \u001b[95m 0.08362 \u001b[0m | \u001b[95m 0.1489  \u001b[0m | \u001b[95m 0.6542  \u001b[0m | \u001b[95m 0.6686  \u001b[0m | \u001b[95m 1.357   \u001b[0m | \u001b[95m 0.7785  \u001b[0m |\n",
      "5995.593434413673\n",
      "| \u001b[0m 80      \u001b[0m | \u001b[0m 5.996e+0\u001b[0m | \u001b[0m 0.03232 \u001b[0m | \u001b[0m 0.3108  \u001b[0m | \u001b[0m 0.08426 \u001b[0m | \u001b[0m 0.1487  \u001b[0m | \u001b[0m 0.6544  \u001b[0m | \u001b[0m 0.6694  \u001b[0m | \u001b[0m 1.354   \u001b[0m | \u001b[0m 0.7785  \u001b[0m |\n",
      "5988.38194636937\n",
      "| \u001b[0m 81      \u001b[0m | \u001b[0m 5.988e+0\u001b[0m | \u001b[0m 0.02553 \u001b[0m | \u001b[0m 0.3522  \u001b[0m | \u001b[0m 0.08752 \u001b[0m | \u001b[0m 0.1351  \u001b[0m | \u001b[0m 0.634   \u001b[0m | \u001b[0m 0.6516  \u001b[0m | \u001b[0m 1.391   \u001b[0m | \u001b[0m 0.7659  \u001b[0m |\n",
      "5999.937588234478\n",
      "| \u001b[95m 82      \u001b[0m | \u001b[95m 6e+03   \u001b[0m | \u001b[95m 0.0296  \u001b[0m | \u001b[95m 0.3198  \u001b[0m | \u001b[95m 0.069   \u001b[0m | \u001b[95m 0.149   \u001b[0m | \u001b[95m 0.6491  \u001b[0m | \u001b[95m 0.6608  \u001b[0m | \u001b[95m 1.381   \u001b[0m | \u001b[95m 0.7872  \u001b[0m |\n",
      "6005.516199956148\n",
      "| \u001b[95m 83      \u001b[0m | \u001b[95m 6.006e+0\u001b[0m | \u001b[95m 0.02972 \u001b[0m | \u001b[95m 0.3196  \u001b[0m | \u001b[95m 0.06551 \u001b[0m | \u001b[95m 0.1495  \u001b[0m | \u001b[95m 0.6489  \u001b[0m | \u001b[95m 0.6609  \u001b[0m | \u001b[95m 1.383   \u001b[0m | \u001b[95m 0.7899  \u001b[0m |\n",
      "6050.908271944531\n",
      "| \u001b[95m 84      \u001b[0m | \u001b[95m 6.051e+0\u001b[0m | \u001b[95m 0.05714 \u001b[0m | \u001b[95m 0.3555  \u001b[0m | \u001b[95m 0.0     \u001b[0m | \u001b[95m 0.1642  \u001b[0m | \u001b[95m 0.6554  \u001b[0m | \u001b[95m 0.7196  \u001b[0m | \u001b[95m 1.411   \u001b[0m | \u001b[95m 0.8604  \u001b[0m |\n",
      "6034.056528308889\n",
      "| \u001b[0m 85      \u001b[0m | \u001b[0m 6.034e+0\u001b[0m | \u001b[0m 0.04955 \u001b[0m | \u001b[0m 0.3407  \u001b[0m | \u001b[0m 0.0     \u001b[0m | \u001b[0m 0.1641  \u001b[0m | \u001b[0m 0.6538  \u001b[0m | \u001b[0m 0.6998  \u001b[0m | \u001b[0m 1.404   \u001b[0m | \u001b[0m 0.8451  \u001b[0m |\n",
      "6107.041633435501\n",
      "| \u001b[95m 86      \u001b[0m | \u001b[95m 6.107e+0\u001b[0m | \u001b[95m 0.02307 \u001b[0m | \u001b[95m 0.3686  \u001b[0m | \u001b[95m 0.06534 \u001b[0m | \u001b[95m 0.1323  \u001b[0m | \u001b[95m 0.6399  \u001b[0m | \u001b[95m 0.758   \u001b[0m | \u001b[95m 1.465   \u001b[0m | \u001b[95m 0.9185  \u001b[0m |\n",
      "6106.57853424965\n",
      "| \u001b[0m 87      \u001b[0m | \u001b[0m 6.107e+0\u001b[0m | \u001b[0m 0.0267  \u001b[0m | \u001b[0m 0.3692  \u001b[0m | \u001b[0m 0.06343 \u001b[0m | \u001b[0m 0.1333  \u001b[0m | \u001b[0m 0.641   \u001b[0m | \u001b[0m 0.7572  \u001b[0m | \u001b[0m 1.463   \u001b[0m | \u001b[0m 0.9155  \u001b[0m |\n",
      "6107.8277875780595\n",
      "| \u001b[95m 88      \u001b[0m | \u001b[95m 6.108e+0\u001b[0m | \u001b[95m 0.01248 \u001b[0m | \u001b[95m 0.3714  \u001b[0m | \u001b[95m 0.05875 \u001b[0m | \u001b[95m 0.1379  \u001b[0m | \u001b[95m 0.6399  \u001b[0m | \u001b[95m 0.7597  \u001b[0m | \u001b[95m 1.466   \u001b[0m | \u001b[95m 0.922   \u001b[0m |\n",
      "6108.169855578567\n",
      "| \u001b[95m 89      \u001b[0m | \u001b[95m 6.108e+0\u001b[0m | \u001b[95m 0.01298 \u001b[0m | \u001b[95m 0.371   \u001b[0m | \u001b[95m 0.05872 \u001b[0m | \u001b[95m 0.1376  \u001b[0m | \u001b[95m 0.6401  \u001b[0m | \u001b[95m 0.76    \u001b[0m | \u001b[95m 1.467   \u001b[0m | \u001b[95m 0.9222  \u001b[0m |\n",
      "6115.947209703646\n",
      "| \u001b[95m 90      \u001b[0m | \u001b[95m 6.116e+0\u001b[0m | \u001b[95m 0.01411 \u001b[0m | \u001b[95m 0.3675  \u001b[0m | \u001b[95m 0.05268 \u001b[0m | \u001b[95m 0.1369  \u001b[0m | \u001b[95m 0.6419  \u001b[0m | \u001b[95m 0.7664  \u001b[0m | \u001b[95m 1.481   \u001b[0m | \u001b[95m 0.9217  \u001b[0m |\n",
      "6119.125592051922\n",
      "| \u001b[95m 91      \u001b[0m | \u001b[95m 6.119e+0\u001b[0m | \u001b[95m 0.01934 \u001b[0m | \u001b[95m 0.3582  \u001b[0m | \u001b[95m 0.03766 \u001b[0m | \u001b[95m 0.1348  \u001b[0m | \u001b[95m 0.6435  \u001b[0m | \u001b[95m 0.7905  \u001b[0m | \u001b[95m 1.5     \u001b[0m | \u001b[95m 0.9076  \u001b[0m |\n",
      "6116.584314044179\n",
      "| \u001b[0m 92      \u001b[0m | \u001b[0m 6.117e+0\u001b[0m | \u001b[0m 0.0238  \u001b[0m | \u001b[0m 0.3638  \u001b[0m | \u001b[0m 0.0357  \u001b[0m | \u001b[0m 0.1369  \u001b[0m | \u001b[0m 0.6531  \u001b[0m | \u001b[0m 0.762   \u001b[0m | \u001b[0m 1.5     \u001b[0m | \u001b[0m 0.9263  \u001b[0m |\n",
      "6115.843051658968\n",
      "| \u001b[0m 93      \u001b[0m | \u001b[0m 6.116e+0\u001b[0m | \u001b[0m 0.01753 \u001b[0m | \u001b[0m 0.3673  \u001b[0m | \u001b[0m 0.05222 \u001b[0m | \u001b[0m 0.1508  \u001b[0m | \u001b[0m 0.6257  \u001b[0m | \u001b[0m 0.7744  \u001b[0m | \u001b[0m 1.5     \u001b[0m | \u001b[0m 0.9067  \u001b[0m |\n",
      "6119.411556670593\n",
      "| \u001b[95m 94      \u001b[0m | \u001b[95m 6.119e+0\u001b[0m | \u001b[95m 0.01035 \u001b[0m | \u001b[95m 0.3636  \u001b[0m | \u001b[95m 0.05048 \u001b[0m | \u001b[95m 0.1291  \u001b[0m | \u001b[95m 0.6482  \u001b[0m | \u001b[95m 0.7822  \u001b[0m | \u001b[95m 1.5     \u001b[0m | \u001b[95m 0.9163  \u001b[0m |\n",
      "6115.318087125502\n",
      "| \u001b[0m 95      \u001b[0m | \u001b[0m 6.115e+0\u001b[0m | \u001b[0m 0.01623 \u001b[0m | \u001b[0m 0.3517  \u001b[0m | \u001b[0m 0.04141 \u001b[0m | \u001b[0m 0.1317  \u001b[0m | \u001b[0m 0.6348  \u001b[0m | \u001b[0m 0.7836  \u001b[0m | \u001b[0m 1.5     \u001b[0m | \u001b[0m 0.9278  \u001b[0m |\n",
      "6114.5670328571605\n",
      "| \u001b[0m 96      \u001b[0m | \u001b[0m 6.115e+0\u001b[0m | \u001b[0m 0.01635 \u001b[0m | \u001b[0m 0.3669  \u001b[0m | \u001b[0m 0.04441 \u001b[0m | \u001b[0m 0.1386  \u001b[0m | \u001b[0m 0.6523  \u001b[0m | \u001b[0m 0.7779  \u001b[0m | \u001b[0m 1.5     \u001b[0m | \u001b[0m 0.9045  \u001b[0m |\n",
      "6120.558793873864\n",
      "| \u001b[95m 97      \u001b[0m | \u001b[95m 6.121e+0\u001b[0m | \u001b[95m 0.02159 \u001b[0m | \u001b[95m 0.4645  \u001b[0m | \u001b[95m 0.0     \u001b[0m | \u001b[95m 0.08021 \u001b[0m | \u001b[95m 0.6005  \u001b[0m | \u001b[95m 0.8085  \u001b[0m | \u001b[95m 1.5     \u001b[0m | \u001b[95m 0.936   \u001b[0m |\n",
      "6118.899945159795\n",
      "| \u001b[0m 98      \u001b[0m | \u001b[0m 6.119e+0\u001b[0m | \u001b[0m 0.02554 \u001b[0m | \u001b[0m 0.413   \u001b[0m | \u001b[0m 0.02577 \u001b[0m | \u001b[0m 0.1075  \u001b[0m | \u001b[0m 0.6223  \u001b[0m | \u001b[0m 0.796   \u001b[0m | \u001b[0m 1.5     \u001b[0m | \u001b[0m 0.9247  \u001b[0m |\n",
      "6114.77737306159\n",
      "| \u001b[0m 99      \u001b[0m | \u001b[0m 6.115e+0\u001b[0m | \u001b[0m 0.0     \u001b[0m | \u001b[0m 0.4691  \u001b[0m | \u001b[0m 0.0     \u001b[0m | \u001b[0m 0.08352 \u001b[0m | \u001b[0m 0.5985  \u001b[0m | \u001b[0m 0.8111  \u001b[0m | \u001b[0m 1.5     \u001b[0m | \u001b[0m 0.9322  \u001b[0m |\n",
      "6126.7937560968285\n",
      "| \u001b[95m 100     \u001b[0m | \u001b[95m 6.127e+0\u001b[0m | \u001b[95m 0.03452 \u001b[0m | \u001b[95m 0.463   \u001b[0m | \u001b[95m 0.0     \u001b[0m | \u001b[95m 0.07713 \u001b[0m | \u001b[95m 0.6128  \u001b[0m | \u001b[95m 0.8051  \u001b[0m | \u001b[95m 1.5     \u001b[0m | \u001b[95m 0.9451  \u001b[0m |\n",
      "6159.2752481837315\n",
      "| \u001b[95m 101     \u001b[0m | \u001b[95m 6.159e+0\u001b[0m | \u001b[95m 0.02817 \u001b[0m | \u001b[95m 0.481   \u001b[0m | \u001b[95m 0.0     \u001b[0m | \u001b[95m 0.06213 \u001b[0m | \u001b[95m 0.6506  \u001b[0m | \u001b[95m 0.8133  \u001b[0m | \u001b[95m 1.5     \u001b[0m | \u001b[95m 0.9858  \u001b[0m |\n",
      "6192.507229287493\n",
      "| \u001b[95m 102     \u001b[0m | \u001b[95m 6.193e+0\u001b[0m | \u001b[95m 0.007149\u001b[0m | \u001b[95m 0.5093  \u001b[0m | \u001b[95m 0.0     \u001b[0m | \u001b[95m 0.03481 \u001b[0m | \u001b[95m 0.6872  \u001b[0m | \u001b[95m 0.8602  \u001b[0m | \u001b[95m 1.5     \u001b[0m | \u001b[95m 1.047   \u001b[0m |\n",
      "6193.478923181745\n",
      "| \u001b[95m 103     \u001b[0m | \u001b[95m 6.193e+0\u001b[0m | \u001b[95m 0.004685\u001b[0m | \u001b[95m 0.5121  \u001b[0m | \u001b[95m 0.0     \u001b[0m | \u001b[95m 0.03086 \u001b[0m | \u001b[95m 0.6894  \u001b[0m | \u001b[95m 0.8673  \u001b[0m | \u001b[95m 1.5     \u001b[0m | \u001b[95m 1.051   \u001b[0m |\n",
      "6192.741527862053\n",
      "| \u001b[0m 104     \u001b[0m | \u001b[0m 6.193e+0\u001b[0m | \u001b[0m 0.003461\u001b[0m | \u001b[0m 0.5156  \u001b[0m | \u001b[0m 0.0     \u001b[0m | \u001b[0m 0.0224  \u001b[0m | \u001b[0m 0.6868  \u001b[0m | \u001b[0m 0.8792  \u001b[0m | \u001b[0m 1.5     \u001b[0m | \u001b[0m 1.048   \u001b[0m |\n",
      "6196.0630714914805\n",
      "| \u001b[95m 105     \u001b[0m | \u001b[95m 6.196e+0\u001b[0m | \u001b[95m 0.0     \u001b[0m | \u001b[95m 0.5146  \u001b[0m | \u001b[95m 0.0     \u001b[0m | \u001b[95m 0.02827 \u001b[0m | \u001b[95m 0.6931  \u001b[0m | \u001b[95m 0.87    \u001b[0m | \u001b[95m 1.5     \u001b[0m | \u001b[95m 1.06    \u001b[0m |\n",
      "6197.50749656657\n",
      "| \u001b[95m 106     \u001b[0m | \u001b[95m 6.198e+0\u001b[0m | \u001b[95m 0.0     \u001b[0m | \u001b[95m 0.5314  \u001b[0m | \u001b[95m 0.0     \u001b[0m | \u001b[95m 0.0     \u001b[0m | \u001b[95m 0.6953  \u001b[0m | \u001b[95m 0.8389  \u001b[0m | \u001b[95m 1.5     \u001b[0m | \u001b[95m 1.08    \u001b[0m |\n",
      "6203.889298254461\n",
      "| \u001b[95m 107     \u001b[0m | \u001b[95m 6.204e+0\u001b[0m | \u001b[95m 0.0     \u001b[0m | \u001b[95m 0.5226  \u001b[0m | \u001b[95m 0.0     \u001b[0m | \u001b[95m 0.01056 \u001b[0m | \u001b[95m 0.6951  \u001b[0m | \u001b[95m 0.8529  \u001b[0m | \u001b[95m 1.5     \u001b[0m | \u001b[95m 1.075   \u001b[0m |\n",
      "6169.866386010445\n",
      "| \u001b[0m 108     \u001b[0m | \u001b[0m 6.17e+03\u001b[0m | \u001b[0m 0.0     \u001b[0m | \u001b[0m 0.4663  \u001b[0m | \u001b[0m 0.0     \u001b[0m | \u001b[0m 0.0     \u001b[0m | \u001b[0m 0.6974  \u001b[0m | \u001b[0m 0.8663  \u001b[0m | \u001b[0m 1.5     \u001b[0m | \u001b[0m 1.106   \u001b[0m |\n",
      "6196.731911971008\n",
      "| \u001b[0m 109     \u001b[0m | \u001b[0m 6.197e+0\u001b[0m | \u001b[0m 0.0     \u001b[0m | \u001b[0m 0.5292  \u001b[0m | \u001b[0m 0.0     \u001b[0m | \u001b[0m 0.005287\u001b[0m | \u001b[0m 0.6745  \u001b[0m | \u001b[0m 0.8666  \u001b[0m | \u001b[0m 1.5     \u001b[0m | \u001b[0m 1.081   \u001b[0m |\n",
      "6187.527466900816\n",
      "| \u001b[0m 110     \u001b[0m | \u001b[0m 6.188e+0\u001b[0m | \u001b[0m 0.0     \u001b[0m | \u001b[0m 0.5153  \u001b[0m | \u001b[0m 0.0     \u001b[0m | \u001b[0m 0.0     \u001b[0m | \u001b[0m 0.7072  \u001b[0m | \u001b[0m 0.8603  \u001b[0m | \u001b[0m 1.5     \u001b[0m | \u001b[0m 1.068   \u001b[0m |\n"
     ]
    },
    {
     "name": "stdout",
     "output_type": "stream",
     "text": [
      "6221.894696294243\n",
      "| \u001b[95m 111     \u001b[0m | \u001b[95m 6.222e+0\u001b[0m | \u001b[95m 0.0     \u001b[0m | \u001b[95m 0.517   \u001b[0m | \u001b[95m 0.0     \u001b[0m | \u001b[95m 0.04654 \u001b[0m | \u001b[95m 0.7054  \u001b[0m | \u001b[95m 0.8024  \u001b[0m | \u001b[95m 1.5     \u001b[0m | \u001b[95m 1.125   \u001b[0m |\n",
      "6220.498132739546\n",
      "| \u001b[0m 112     \u001b[0m | \u001b[0m 6.22e+03\u001b[0m | \u001b[0m 0.0     \u001b[0m | \u001b[0m 0.5176  \u001b[0m | \u001b[0m 0.0     \u001b[0m | \u001b[0m 0.04544 \u001b[0m | \u001b[0m 0.7045  \u001b[0m | \u001b[0m 0.8045  \u001b[0m | \u001b[0m 1.5     \u001b[0m | \u001b[0m 1.123   \u001b[0m |\n",
      "6218.525731158271\n",
      "| \u001b[0m 113     \u001b[0m | \u001b[0m 6.219e+0\u001b[0m | \u001b[0m 0.0     \u001b[0m | \u001b[0m 0.4996  \u001b[0m | \u001b[0m 0.0     \u001b[0m | \u001b[0m 0.05414 \u001b[0m | \u001b[0m 0.7174  \u001b[0m | \u001b[0m 0.7769  \u001b[0m | \u001b[0m 1.5     \u001b[0m | \u001b[0m 1.144   \u001b[0m |\n",
      "6224.35840753046\n",
      "| \u001b[95m 114     \u001b[0m | \u001b[95m 6.224e+0\u001b[0m | \u001b[95m 0.0     \u001b[0m | \u001b[95m 0.5166  \u001b[0m | \u001b[95m 0.0     \u001b[0m | \u001b[95m 0.04857 \u001b[0m | \u001b[95m 0.71    \u001b[0m | \u001b[95m 0.7996  \u001b[0m | \u001b[95m 1.5     \u001b[0m | \u001b[95m 1.132   \u001b[0m |\n",
      "6242.428630253643\n",
      "| \u001b[95m 115     \u001b[0m | \u001b[95m 6.242e+0\u001b[0m | \u001b[95m 0.0     \u001b[0m | \u001b[95m 0.5317  \u001b[0m | \u001b[95m 0.0     \u001b[0m | \u001b[95m 0.05133 \u001b[0m | \u001b[95m 0.7399  \u001b[0m | \u001b[95m 0.8149  \u001b[0m | \u001b[95m 1.5     \u001b[0m | \u001b[95m 1.18    \u001b[0m |\n",
      "6244.946082204776\n",
      "| \u001b[95m 116     \u001b[0m | \u001b[95m 6.245e+0\u001b[0m | \u001b[95m 0.0     \u001b[0m | \u001b[95m 0.5331  \u001b[0m | \u001b[95m 0.0     \u001b[0m | \u001b[95m 0.05135 \u001b[0m | \u001b[95m 0.7448  \u001b[0m | \u001b[95m 0.817   \u001b[0m | \u001b[95m 1.5     \u001b[0m | \u001b[95m 1.19    \u001b[0m |\n",
      "6256.550435506308\n",
      "| \u001b[95m 117     \u001b[0m | \u001b[95m 6.257e+0\u001b[0m | \u001b[95m 0.0     \u001b[0m | \u001b[95m 0.5313  \u001b[0m | \u001b[95m 0.0     \u001b[0m | \u001b[95m 0.05162 \u001b[0m | \u001b[95m 0.7541  \u001b[0m | \u001b[95m 0.817   \u001b[0m | \u001b[95m 1.5     \u001b[0m | \u001b[95m 1.226   \u001b[0m |\n",
      "6269.464640929383\n",
      "| \u001b[95m 118     \u001b[0m | \u001b[95m 6.269e+0\u001b[0m | \u001b[95m 0.0     \u001b[0m | \u001b[95m 0.5201  \u001b[0m | \u001b[95m 0.0     \u001b[0m | \u001b[95m 0.05427 \u001b[0m | \u001b[95m 0.7572  \u001b[0m | \u001b[95m 0.8072  \u001b[0m | \u001b[95m 1.5     \u001b[0m | \u001b[95m 1.284   \u001b[0m |\n",
      "6271.745686580637\n",
      "| \u001b[95m 119     \u001b[0m | \u001b[95m 6.272e+0\u001b[0m | \u001b[95m 0.0     \u001b[0m | \u001b[95m 0.5183  \u001b[0m | \u001b[95m 0.0     \u001b[0m | \u001b[95m 0.055   \u001b[0m | \u001b[95m 0.7585  \u001b[0m | \u001b[95m 0.8053  \u001b[0m | \u001b[95m 1.5     \u001b[0m | \u001b[95m 1.292   \u001b[0m |\n",
      "6295.551118471879\n",
      "| \u001b[95m 120     \u001b[0m | \u001b[95m 6.296e+0\u001b[0m | \u001b[95m 0.0     \u001b[0m | \u001b[95m 0.5117  \u001b[0m | \u001b[95m 0.0     \u001b[0m | \u001b[95m 0.05925 \u001b[0m | \u001b[95m 0.7962  \u001b[0m | \u001b[95m 0.7937  \u001b[0m | \u001b[95m 1.5     \u001b[0m | \u001b[95m 1.345   \u001b[0m |\n",
      "6307.343724389085\n",
      "| \u001b[95m 121     \u001b[0m | \u001b[95m 6.307e+0\u001b[0m | \u001b[95m 0.0     \u001b[0m | \u001b[95m 0.51    \u001b[0m | \u001b[95m 0.0     \u001b[0m | \u001b[95m 0.05632 \u001b[0m | \u001b[95m 0.8215  \u001b[0m | \u001b[95m 0.7893  \u001b[0m | \u001b[95m 1.5     \u001b[0m | \u001b[95m 1.368   \u001b[0m |\n",
      "6316.708878425946\n",
      "| \u001b[95m 122     \u001b[0m | \u001b[95m 6.317e+0\u001b[0m | \u001b[95m 0.0     \u001b[0m | \u001b[95m 0.5057  \u001b[0m | \u001b[95m 0.0     \u001b[0m | \u001b[95m 0.0312  \u001b[0m | \u001b[95m 0.8489  \u001b[0m | \u001b[95m 0.7859  \u001b[0m | \u001b[95m 1.5     \u001b[0m | \u001b[95m 1.413   \u001b[0m |\n",
      "6311.529375647338\n",
      "| \u001b[0m 123     \u001b[0m | \u001b[0m 6.312e+0\u001b[0m | \u001b[0m 0.0     \u001b[0m | \u001b[0m 0.5063  \u001b[0m | \u001b[0m 0.0     \u001b[0m | \u001b[0m 0.03435 \u001b[0m | \u001b[0m 0.8488  \u001b[0m | \u001b[0m 0.7855  \u001b[0m | \u001b[0m 1.5     \u001b[0m | \u001b[0m 1.411   \u001b[0m |\n",
      "6271.467707188434\n",
      "| \u001b[0m 124     \u001b[0m | \u001b[0m 6.271e+0\u001b[0m | \u001b[0m 0.0     \u001b[0m | \u001b[0m 0.46    \u001b[0m | \u001b[0m 0.0     \u001b[0m | \u001b[0m 0.0     \u001b[0m | \u001b[0m 0.8234  \u001b[0m | \u001b[0m 0.8389  \u001b[0m | \u001b[0m 1.5     \u001b[0m | \u001b[0m 1.401   \u001b[0m |\n",
      "6301.328972401031\n",
      "| \u001b[0m 125     \u001b[0m | \u001b[0m 6.301e+0\u001b[0m | \u001b[0m 0.0     \u001b[0m | \u001b[0m 0.5459  \u001b[0m | \u001b[0m 0.0     \u001b[0m | \u001b[0m 0.0     \u001b[0m | \u001b[0m 0.8097  \u001b[0m | \u001b[0m 0.7596  \u001b[0m | \u001b[0m 1.5     \u001b[0m | \u001b[0m 1.404   \u001b[0m |\n",
      "6297.888775435448\n",
      "| \u001b[0m 126     \u001b[0m | \u001b[0m 6.298e+0\u001b[0m | \u001b[0m 0.0     \u001b[0m | \u001b[0m 0.4997  \u001b[0m | \u001b[0m 0.0     \u001b[0m | \u001b[0m 0.0     \u001b[0m | \u001b[0m 0.8293  \u001b[0m | \u001b[0m 0.7787  \u001b[0m | \u001b[0m 1.5     \u001b[0m | \u001b[0m 1.444   \u001b[0m |\n",
      "6314.9167029294695\n",
      "| \u001b[0m 127     \u001b[0m | \u001b[0m 6.315e+0\u001b[0m | \u001b[0m 0.0     \u001b[0m | \u001b[0m 0.5401  \u001b[0m | \u001b[0m 0.0     \u001b[0m | \u001b[0m 0.0     \u001b[0m | \u001b[0m 0.8521  \u001b[0m | \u001b[0m 0.8145  \u001b[0m | \u001b[0m 1.5     \u001b[0m | \u001b[0m 1.395   \u001b[0m |\n",
      "6292.186831959369\n",
      "| \u001b[0m 128     \u001b[0m | \u001b[0m 6.292e+0\u001b[0m | \u001b[0m 0.0     \u001b[0m | \u001b[0m 0.5096  \u001b[0m | \u001b[0m 0.0     \u001b[0m | \u001b[0m 0.003771\u001b[0m | \u001b[0m 0.8424  \u001b[0m | \u001b[0m 0.7804  \u001b[0m | \u001b[0m 1.5     \u001b[0m | \u001b[0m 1.377   \u001b[0m |\n",
      "6318.742704648805\n",
      "| \u001b[95m 129     \u001b[0m | \u001b[95m 6.319e+0\u001b[0m | \u001b[95m 0.0     \u001b[0m | \u001b[95m 0.548   \u001b[0m | \u001b[95m 0.0     \u001b[0m | \u001b[95m 0.03092 \u001b[0m | \u001b[95m 0.8308  \u001b[0m | \u001b[95m 0.8224  \u001b[0m | \u001b[95m 1.5     \u001b[0m | \u001b[95m 1.436   \u001b[0m |\n",
      "6320.096882897091\n",
      "| \u001b[95m 130     \u001b[0m | \u001b[95m 6.32e+03\u001b[0m | \u001b[95m 0.0     \u001b[0m | \u001b[95m 0.5362  \u001b[0m | \u001b[95m 0.0     \u001b[0m | \u001b[95m 0.023   \u001b[0m | \u001b[95m 0.8383  \u001b[0m | \u001b[95m 0.8074  \u001b[0m | \u001b[95m 1.5     \u001b[0m | \u001b[95m 1.418   \u001b[0m |\n",
      "6335.929881817729\n",
      "| \u001b[95m 131     \u001b[0m | \u001b[95m 6.336e+0\u001b[0m | \u001b[95m 0.0     \u001b[0m | \u001b[95m 0.5474  \u001b[0m | \u001b[95m 0.0     \u001b[0m | \u001b[95m 0.0     \u001b[0m | \u001b[95m 0.8822  \u001b[0m | \u001b[95m 0.8376  \u001b[0m | \u001b[95m 1.5     \u001b[0m | \u001b[95m 1.459   \u001b[0m |\n",
      "6345.897253391271\n",
      "| \u001b[95m 132     \u001b[0m | \u001b[95m 6.346e+0\u001b[0m | \u001b[95m 0.0     \u001b[0m | \u001b[95m 0.5439  \u001b[0m | \u001b[95m 0.0     \u001b[0m | \u001b[95m 0.0     \u001b[0m | \u001b[95m 0.8961  \u001b[0m | \u001b[95m 0.845   \u001b[0m | \u001b[95m 1.5     \u001b[0m | \u001b[95m 1.475   \u001b[0m |\n",
      "6350.615729641034\n",
      "| \u001b[95m 133     \u001b[0m | \u001b[95m 6.351e+0\u001b[0m | \u001b[95m 0.0     \u001b[0m | \u001b[95m 0.4978  \u001b[0m | \u001b[95m 0.0     \u001b[0m | \u001b[95m 0.0     \u001b[0m | \u001b[95m 0.9521  \u001b[0m | \u001b[95m 0.8882  \u001b[0m | \u001b[95m 1.5     \u001b[0m | \u001b[95m 1.5     \u001b[0m |\n",
      "6357.278497979637\n",
      "| \u001b[95m 134     \u001b[0m | \u001b[95m 6.357e+0\u001b[0m | \u001b[95m 0.0     \u001b[0m | \u001b[95m 0.5269  \u001b[0m | \u001b[95m 0.0     \u001b[0m | \u001b[95m 0.001007\u001b[0m | \u001b[95m 0.9296  \u001b[0m | \u001b[95m 0.8585  \u001b[0m | \u001b[95m 1.5     \u001b[0m | \u001b[95m 1.5     \u001b[0m |\n",
      "6353.838505221339\n",
      "| \u001b[0m 135     \u001b[0m | \u001b[0m 6.354e+0\u001b[0m | \u001b[0m 0.0     \u001b[0m | \u001b[0m 0.5264  \u001b[0m | \u001b[0m 0.0     \u001b[0m | \u001b[0m 0.0     \u001b[0m | \u001b[0m 0.9214  \u001b[0m | \u001b[0m 0.8807  \u001b[0m | \u001b[0m 1.5     \u001b[0m | \u001b[0m 1.5     \u001b[0m |\n",
      "6351.56585826406\n",
      "| \u001b[0m 136     \u001b[0m | \u001b[0m 6.352e+0\u001b[0m | \u001b[0m 0.0     \u001b[0m | \u001b[0m 0.5179  \u001b[0m | \u001b[0m 0.0     \u001b[0m | \u001b[0m 0.00176 \u001b[0m | \u001b[0m 0.9287  \u001b[0m | \u001b[0m 0.8557  \u001b[0m | \u001b[0m 1.5     \u001b[0m | \u001b[0m 1.5     \u001b[0m |\n",
      "6361.15271747703\n",
      "| \u001b[95m 137     \u001b[0m | \u001b[95m 6.361e+0\u001b[0m | \u001b[95m 0.0     \u001b[0m | \u001b[95m 0.5934  \u001b[0m | \u001b[95m 0.0     \u001b[0m | \u001b[95m 0.0     \u001b[0m | \u001b[95m 0.9898  \u001b[0m | \u001b[95m 0.901   \u001b[0m | \u001b[95m 1.5     \u001b[0m | \u001b[95m 1.5     \u001b[0m |\n",
      "6359.081808776471\n",
      "| \u001b[0m 138     \u001b[0m | \u001b[0m 6.359e+0\u001b[0m | \u001b[0m 0.0     \u001b[0m | \u001b[0m 0.5632  \u001b[0m | \u001b[0m 0.0     \u001b[0m | \u001b[0m 0.0     \u001b[0m | \u001b[0m 0.9629  \u001b[0m | \u001b[0m 0.8801  \u001b[0m | \u001b[0m 1.5     \u001b[0m | \u001b[0m 1.5     \u001b[0m |\n",
      "6378.823538297502\n",
      "| \u001b[95m 139     \u001b[0m | \u001b[95m 6.379e+0\u001b[0m | \u001b[95m 0.0     \u001b[0m | \u001b[95m 0.5899  \u001b[0m | \u001b[95m 0.0     \u001b[0m | \u001b[95m 0.0     \u001b[0m | \u001b[95m 1.028   \u001b[0m | \u001b[95m 0.9701  \u001b[0m | \u001b[95m 1.5     \u001b[0m | \u001b[95m 1.5     \u001b[0m |\n",
      "6378.737891546035\n",
      "| \u001b[0m 140     \u001b[0m | \u001b[0m 6.379e+0\u001b[0m | \u001b[0m 0.0     \u001b[0m | \u001b[0m 0.5839  \u001b[0m | \u001b[0m 0.0     \u001b[0m | \u001b[0m 0.0     \u001b[0m | \u001b[0m 1.042   \u001b[0m | \u001b[0m 0.9906  \u001b[0m | \u001b[0m 1.5     \u001b[0m | \u001b[0m 1.5     \u001b[0m |\n",
      "6376.37374581817\n",
      "| \u001b[0m 141     \u001b[0m | \u001b[0m 6.376e+0\u001b[0m | \u001b[0m 0.0     \u001b[0m | \u001b[0m 0.5904  \u001b[0m | \u001b[0m 0.0     \u001b[0m | \u001b[0m 0.0     \u001b[0m | \u001b[0m 1.033   \u001b[0m | \u001b[0m 0.9821  \u001b[0m | \u001b[0m 1.5     \u001b[0m | \u001b[0m 1.5     \u001b[0m |\n",
      "6381.776434968263\n",
      "| \u001b[95m 142     \u001b[0m | \u001b[95m 6.382e+0\u001b[0m | \u001b[95m 0.0     \u001b[0m | \u001b[95m 0.5515  \u001b[0m | \u001b[95m 0.0     \u001b[0m | \u001b[95m 0.0     \u001b[0m | \u001b[95m 1.075   \u001b[0m | \u001b[95m 0.9676  \u001b[0m | \u001b[95m 1.5     \u001b[0m | \u001b[95m 1.5     \u001b[0m |\n",
      "6377.937915924843\n",
      "| \u001b[0m 143     \u001b[0m | \u001b[0m 6.378e+0\u001b[0m | \u001b[0m 0.0     \u001b[0m | \u001b[0m 0.5508  \u001b[0m | \u001b[0m 0.0     \u001b[0m | \u001b[0m 0.0     \u001b[0m | \u001b[0m 1.044   \u001b[0m | \u001b[0m 0.9725  \u001b[0m | \u001b[0m 1.5     \u001b[0m | \u001b[0m 1.5     \u001b[0m |\n",
      "6382.883655664037\n",
      "| \u001b[95m 144     \u001b[0m | \u001b[95m 6.383e+0\u001b[0m | \u001b[95m 0.0     \u001b[0m | \u001b[95m 0.6026  \u001b[0m | \u001b[95m 0.0     \u001b[0m | \u001b[95m 0.0     \u001b[0m | \u001b[95m 1.094   \u001b[0m | \u001b[95m 0.9761  \u001b[0m | \u001b[95m 1.5     \u001b[0m | \u001b[95m 1.5     \u001b[0m |\n",
      "6385.452486562557\n",
      "| \u001b[95m 145     \u001b[0m | \u001b[95m 6.385e+0\u001b[0m | \u001b[95m 0.0     \u001b[0m | \u001b[95m 0.5825  \u001b[0m | \u001b[95m 0.0     \u001b[0m | \u001b[95m 0.0     \u001b[0m | \u001b[95m 1.074   \u001b[0m | \u001b[95m 0.9737  \u001b[0m | \u001b[95m 1.5     \u001b[0m | \u001b[95m 1.5     \u001b[0m |\n",
      "6387.31173140247\n",
      "| \u001b[95m 146     \u001b[0m | \u001b[95m 6.387e+0\u001b[0m | \u001b[95m 0.0     \u001b[0m | \u001b[95m 0.5801  \u001b[0m | \u001b[95m 0.0     \u001b[0m | \u001b[95m 0.0     \u001b[0m | \u001b[95m 1.083   \u001b[0m | \u001b[95m 0.9817  \u001b[0m | \u001b[95m 1.5     \u001b[0m | \u001b[95m 1.5     \u001b[0m |\n",
      "6391.148470841559\n",
      "| \u001b[95m 147     \u001b[0m | \u001b[95m 6.391e+0\u001b[0m | \u001b[95m 0.0     \u001b[0m | \u001b[95m 0.5721  \u001b[0m | \u001b[95m 0.0     \u001b[0m | \u001b[95m 0.0     \u001b[0m | \u001b[95m 1.11    \u001b[0m | \u001b[95m 1.005   \u001b[0m | \u001b[95m 1.5     \u001b[0m | \u001b[95m 1.5     \u001b[0m |\n"
     ]
    },
    {
     "name": "stdout",
     "output_type": "stream",
     "text": [
      "6397.618244893149\n",
      "| \u001b[95m 148     \u001b[0m | \u001b[95m 6.398e+0\u001b[0m | \u001b[95m 0.0     \u001b[0m | \u001b[95m 0.5684  \u001b[0m | \u001b[95m 0.0     \u001b[0m | \u001b[95m 0.0     \u001b[0m | \u001b[95m 1.123   \u001b[0m | \u001b[95m 1.016   \u001b[0m | \u001b[95m 1.5     \u001b[0m | \u001b[95m 1.5     \u001b[0m |\n",
      "6417.787603879385\n",
      "| \u001b[95m 149     \u001b[0m | \u001b[95m 6.418e+0\u001b[0m | \u001b[95m 0.0     \u001b[0m | \u001b[95m 0.538   \u001b[0m | \u001b[95m 0.0     \u001b[0m | \u001b[95m 0.0     \u001b[0m | \u001b[95m 1.237   \u001b[0m | \u001b[95m 1.104   \u001b[0m | \u001b[95m 1.5     \u001b[0m | \u001b[95m 1.5     \u001b[0m |\n",
      "6409.619330088153\n",
      "| \u001b[0m 150     \u001b[0m | \u001b[0m 6.41e+03\u001b[0m | \u001b[0m 0.0     \u001b[0m | \u001b[0m 0.5473  \u001b[0m | \u001b[0m 0.0     \u001b[0m | \u001b[0m 0.0     \u001b[0m | \u001b[0m 1.203   \u001b[0m | \u001b[0m 1.078   \u001b[0m | \u001b[0m 1.5     \u001b[0m | \u001b[0m 1.5     \u001b[0m |\n",
      "6419.710287556044\n",
      "| \u001b[95m 151     \u001b[0m | \u001b[95m 6.42e+03\u001b[0m | \u001b[95m 0.0     \u001b[0m | \u001b[95m 0.5177  \u001b[0m | \u001b[95m 0.0     \u001b[0m | \u001b[95m 0.0     \u001b[0m | \u001b[95m 1.298   \u001b[0m | \u001b[95m 1.155   \u001b[0m | \u001b[95m 1.5     \u001b[0m | \u001b[95m 1.5     \u001b[0m |\n",
      "6423.613172072432\n",
      "| \u001b[95m 152     \u001b[0m | \u001b[95m 6.424e+0\u001b[0m | \u001b[95m 0.0     \u001b[0m | \u001b[95m 0.5288  \u001b[0m | \u001b[95m 0.0     \u001b[0m | \u001b[95m 0.0     \u001b[0m | \u001b[95m 1.275   \u001b[0m | \u001b[95m 1.133   \u001b[0m | \u001b[95m 1.5     \u001b[0m | \u001b[95m 1.5     \u001b[0m |\n",
      "6424.259732759553\n",
      "| \u001b[95m 153     \u001b[0m | \u001b[95m 6.424e+0\u001b[0m | \u001b[95m 0.0     \u001b[0m | \u001b[95m 0.5349  \u001b[0m | \u001b[95m 0.0     \u001b[0m | \u001b[95m 0.0     \u001b[0m | \u001b[95m 1.278   \u001b[0m | \u001b[95m 1.132   \u001b[0m | \u001b[95m 1.5     \u001b[0m | \u001b[95m 1.5     \u001b[0m |\n",
      "6421.441317390576\n",
      "| \u001b[0m 154     \u001b[0m | \u001b[0m 6.421e+0\u001b[0m | \u001b[0m 0.0     \u001b[0m | \u001b[0m 0.5398  \u001b[0m | \u001b[0m 0.0     \u001b[0m | \u001b[0m 0.0     \u001b[0m | \u001b[0m 1.281   \u001b[0m | \u001b[0m 1.132   \u001b[0m | \u001b[0m 1.5     \u001b[0m | \u001b[0m 1.5     \u001b[0m |\n",
      "6414.431122536468\n",
      "| \u001b[0m 155     \u001b[0m | \u001b[0m 6.414e+0\u001b[0m | \u001b[0m 0.0     \u001b[0m | \u001b[0m 0.4992  \u001b[0m | \u001b[0m 0.0     \u001b[0m | \u001b[0m 0.0     \u001b[0m | \u001b[0m 1.305   \u001b[0m | \u001b[0m 1.102   \u001b[0m | \u001b[0m 1.5     \u001b[0m | \u001b[0m 1.5     \u001b[0m |\n",
      "6419.372347971391\n",
      "| \u001b[0m 156     \u001b[0m | \u001b[0m 6.419e+0\u001b[0m | \u001b[0m 0.0     \u001b[0m | \u001b[0m 0.52    \u001b[0m | \u001b[0m 0.0     \u001b[0m | \u001b[0m 0.0     \u001b[0m | \u001b[0m 1.277   \u001b[0m | \u001b[0m 1.127   \u001b[0m | \u001b[0m 1.5     \u001b[0m | \u001b[0m 1.5     \u001b[0m |\n",
      "6415.250471821907\n",
      "| \u001b[0m 157     \u001b[0m | \u001b[0m 6.415e+0\u001b[0m | \u001b[0m 0.0     \u001b[0m | \u001b[0m 0.5707  \u001b[0m | \u001b[0m 0.0     \u001b[0m | \u001b[0m 0.0     \u001b[0m | \u001b[0m 1.223   \u001b[0m | \u001b[0m 1.193   \u001b[0m | \u001b[0m 1.5     \u001b[0m | \u001b[0m 1.5     \u001b[0m |\n",
      "6413.476652479572\n",
      "| \u001b[0m 158     \u001b[0m | \u001b[0m 6.413e+0\u001b[0m | \u001b[0m 0.0     \u001b[0m | \u001b[0m 0.5495  \u001b[0m | \u001b[0m 0.0     \u001b[0m | \u001b[0m 0.0     \u001b[0m | \u001b[0m 1.249   \u001b[0m | \u001b[0m 1.155   \u001b[0m | \u001b[0m 1.5     \u001b[0m | \u001b[0m 1.5     \u001b[0m |\n",
      "6408.844620233872\n",
      "| \u001b[0m 159     \u001b[0m | \u001b[0m 6.409e+0\u001b[0m | \u001b[0m 0.0     \u001b[0m | \u001b[0m 0.5783  \u001b[0m | \u001b[0m 0.0     \u001b[0m | \u001b[0m 0.0     \u001b[0m | \u001b[0m 1.202   \u001b[0m | \u001b[0m 1.341   \u001b[0m | \u001b[0m 1.5     \u001b[0m | \u001b[0m 1.5     \u001b[0m |\n",
      "6411.530645062938\n",
      "| \u001b[0m 160     \u001b[0m | \u001b[0m 6.412e+0\u001b[0m | \u001b[0m 0.0     \u001b[0m | \u001b[0m 0.5764  \u001b[0m | \u001b[0m 0.0     \u001b[0m | \u001b[0m 0.0     \u001b[0m | \u001b[0m 1.205   \u001b[0m | \u001b[0m 1.267   \u001b[0m | \u001b[0m 1.5     \u001b[0m | \u001b[0m 1.5     \u001b[0m |\n",
      "6422.793710995922\n",
      "| \u001b[0m 161     \u001b[0m | \u001b[0m 6.423e+0\u001b[0m | \u001b[0m 0.0     \u001b[0m | \u001b[0m 0.5328  \u001b[0m | \u001b[0m 0.0     \u001b[0m | \u001b[0m 0.0     \u001b[0m | \u001b[0m 1.284   \u001b[0m | \u001b[0m 1.117   \u001b[0m | \u001b[0m 1.5     \u001b[0m | \u001b[0m 1.5     \u001b[0m |\n",
      "6423.060670937571\n",
      "| \u001b[0m 162     \u001b[0m | \u001b[0m 6.423e+0\u001b[0m | \u001b[0m 0.0     \u001b[0m | \u001b[0m 0.5316  \u001b[0m | \u001b[0m 0.0     \u001b[0m | \u001b[0m 0.0     \u001b[0m | \u001b[0m 1.285   \u001b[0m | \u001b[0m 1.126   \u001b[0m | \u001b[0m 1.5     \u001b[0m | \u001b[0m 1.5     \u001b[0m |\n",
      "6422.428453286332\n",
      "| \u001b[0m 163     \u001b[0m | \u001b[0m 6.422e+0\u001b[0m | \u001b[0m 0.0     \u001b[0m | \u001b[0m 0.5324  \u001b[0m | \u001b[0m 0.0     \u001b[0m | \u001b[0m 0.0     \u001b[0m | \u001b[0m 1.284   \u001b[0m | \u001b[0m 1.125   \u001b[0m | \u001b[0m 1.5     \u001b[0m | \u001b[0m 1.5     \u001b[0m |\n",
      "6405.140817298296\n",
      "| \u001b[0m 164     \u001b[0m | \u001b[0m 6.405e+0\u001b[0m | \u001b[0m 0.0     \u001b[0m | \u001b[0m 0.6144  \u001b[0m | \u001b[0m 0.0     \u001b[0m | \u001b[0m 0.0     \u001b[0m | \u001b[0m 1.24    \u001b[0m | \u001b[0m 1.354   \u001b[0m | \u001b[0m 1.5     \u001b[0m | \u001b[0m 1.5     \u001b[0m |\n",
      "6422.97109328563\n",
      "| \u001b[0m 165     \u001b[0m | \u001b[0m 6.423e+0\u001b[0m | \u001b[0m 0.0     \u001b[0m | \u001b[0m 0.533   \u001b[0m | \u001b[0m 0.0     \u001b[0m | \u001b[0m 0.0     \u001b[0m | \u001b[0m 1.282   \u001b[0m | \u001b[0m 1.125   \u001b[0m | \u001b[0m 1.5     \u001b[0m | \u001b[0m 1.5     \u001b[0m |\n",
      "6425.635722845351\n",
      "| \u001b[95m 166     \u001b[0m | \u001b[95m 6.426e+0\u001b[0m | \u001b[95m 0.0     \u001b[0m | \u001b[95m 0.5354  \u001b[0m | \u001b[95m 0.0     \u001b[0m | \u001b[95m 0.0     \u001b[0m | \u001b[95m 1.28    \u001b[0m | \u001b[95m 1.121   \u001b[0m | \u001b[95m 1.5     \u001b[0m | \u001b[95m 1.5     \u001b[0m |\n",
      "6418.796207238053\n",
      "| \u001b[0m 167     \u001b[0m | \u001b[0m 6.419e+0\u001b[0m | \u001b[0m 0.0     \u001b[0m | \u001b[0m 0.5412  \u001b[0m | \u001b[0m 0.0     \u001b[0m | \u001b[0m 0.0     \u001b[0m | \u001b[0m 1.269   \u001b[0m | \u001b[0m 1.102   \u001b[0m | \u001b[0m 1.5     \u001b[0m | \u001b[0m 1.5     \u001b[0m |\n",
      "6424.825939112708\n",
      "| \u001b[0m 168     \u001b[0m | \u001b[0m 6.425e+0\u001b[0m | \u001b[0m 0.0     \u001b[0m | \u001b[0m 0.5305  \u001b[0m | \u001b[0m 0.0     \u001b[0m | \u001b[0m 0.0     \u001b[0m | \u001b[0m 1.294   \u001b[0m | \u001b[0m 1.131   \u001b[0m | \u001b[0m 1.5     \u001b[0m | \u001b[0m 1.5     \u001b[0m |\n",
      "6428.603832364865\n",
      "| \u001b[95m 169     \u001b[0m | \u001b[95m 6.429e+0\u001b[0m | \u001b[95m 0.0     \u001b[0m | \u001b[95m 0.519   \u001b[0m | \u001b[95m 0.0     \u001b[0m | \u001b[95m 0.0     \u001b[0m | \u001b[95m 1.345   \u001b[0m | \u001b[95m 1.139   \u001b[0m | \u001b[95m 1.5     \u001b[0m | \u001b[95m 1.5     \u001b[0m |\n",
      "6423.578107064014\n",
      "| \u001b[0m 170     \u001b[0m | \u001b[0m 6.424e+0\u001b[0m | \u001b[0m 0.0     \u001b[0m | \u001b[0m 0.5141  \u001b[0m | \u001b[0m 0.0     \u001b[0m | \u001b[0m 0.0     \u001b[0m | \u001b[0m 1.368   \u001b[0m | \u001b[0m 1.143   \u001b[0m | \u001b[0m 1.5     \u001b[0m | \u001b[0m 1.5     \u001b[0m |\n",
      "6424.608676884137\n",
      "| \u001b[0m 171     \u001b[0m | \u001b[0m 6.425e+0\u001b[0m | \u001b[0m 0.0     \u001b[0m | \u001b[0m 0.5222  \u001b[0m | \u001b[0m 0.0     \u001b[0m | \u001b[0m 0.0     \u001b[0m | \u001b[0m 1.339   \u001b[0m | \u001b[0m 1.135   \u001b[0m | \u001b[0m 1.5     \u001b[0m | \u001b[0m 1.5     \u001b[0m |\n",
      "6378.47758274759\n",
      "| \u001b[0m 172     \u001b[0m | \u001b[0m 6.378e+0\u001b[0m | \u001b[0m 0.0     \u001b[0m | \u001b[0m 0.6279  \u001b[0m | \u001b[0m 0.0     \u001b[0m | \u001b[0m 0.0     \u001b[0m | \u001b[0m 1.156   \u001b[0m | \u001b[0m 1.251   \u001b[0m | \u001b[0m 1.5     \u001b[0m | \u001b[0m 1.5     \u001b[0m |\n",
      "6418.311360159777\n",
      "| \u001b[0m 173     \u001b[0m | \u001b[0m 6.418e+0\u001b[0m | \u001b[0m 0.0     \u001b[0m | \u001b[0m 0.5076  \u001b[0m | \u001b[0m 0.0     \u001b[0m | \u001b[0m 0.0     \u001b[0m | \u001b[0m 1.35    \u001b[0m | \u001b[0m 1.156   \u001b[0m | \u001b[0m 1.5     \u001b[0m | \u001b[0m 1.5     \u001b[0m |\n",
      "6431.001366891975\n",
      "| \u001b[95m 174     \u001b[0m | \u001b[95m 6.431e+0\u001b[0m | \u001b[95m 0.0     \u001b[0m | \u001b[95m 0.5217  \u001b[0m | \u001b[95m 0.0     \u001b[0m | \u001b[95m 0.0     \u001b[0m | \u001b[95m 1.356   \u001b[0m | \u001b[95m 1.127   \u001b[0m | \u001b[95m 1.5     \u001b[0m | \u001b[95m 1.5     \u001b[0m |\n",
      "6426.39821286215\n",
      "| \u001b[0m 175     \u001b[0m | \u001b[0m 6.426e+0\u001b[0m | \u001b[0m 0.0     \u001b[0m | \u001b[0m 0.5155  \u001b[0m | \u001b[0m 0.0     \u001b[0m | \u001b[0m 0.0     \u001b[0m | \u001b[0m 1.388   \u001b[0m | \u001b[0m 1.088   \u001b[0m | \u001b[0m 1.5     \u001b[0m | \u001b[0m 1.5     \u001b[0m |\n",
      "6414.146109321968\n",
      "| \u001b[0m 176     \u001b[0m | \u001b[0m 6.414e+0\u001b[0m | \u001b[0m 0.0     \u001b[0m | \u001b[0m 0.5677  \u001b[0m | \u001b[0m 0.0     \u001b[0m | \u001b[0m 0.0     \u001b[0m | \u001b[0m 1.215   \u001b[0m | \u001b[0m 1.215   \u001b[0m | \u001b[0m 1.5     \u001b[0m | \u001b[0m 1.5     \u001b[0m |\n",
      "6431.282545872351\n",
      "| \u001b[95m 177     \u001b[0m | \u001b[95m 6.431e+0\u001b[0m | \u001b[95m 0.0     \u001b[0m | \u001b[95m 0.5214  \u001b[0m | \u001b[95m 0.0     \u001b[0m | \u001b[95m 0.0     \u001b[0m | \u001b[95m 1.366   \u001b[0m | \u001b[95m 1.111   \u001b[0m | \u001b[95m 1.5     \u001b[0m | \u001b[95m 1.5     \u001b[0m |\n",
      "6432.190983262679\n",
      "| \u001b[95m 178     \u001b[0m | \u001b[95m 6.432e+0\u001b[0m | \u001b[95m 0.0     \u001b[0m | \u001b[95m 0.5217  \u001b[0m | \u001b[95m 0.0     \u001b[0m | \u001b[95m 0.0     \u001b[0m | \u001b[95m 1.366   \u001b[0m | \u001b[95m 1.114   \u001b[0m | \u001b[95m 1.5     \u001b[0m | \u001b[95m 1.5     \u001b[0m |\n",
      "6427.952273512597\n",
      "| \u001b[0m 179     \u001b[0m | \u001b[0m 6.428e+0\u001b[0m | \u001b[0m 0.0     \u001b[0m | \u001b[0m 0.5233  \u001b[0m | \u001b[0m 0.0     \u001b[0m | \u001b[0m 0.0     \u001b[0m | \u001b[0m 1.367   \u001b[0m | \u001b[0m 1.114   \u001b[0m | \u001b[0m 1.5     \u001b[0m | \u001b[0m 1.5     \u001b[0m |\n",
      "6424.417270825695\n",
      "| \u001b[0m 180     \u001b[0m | \u001b[0m 6.424e+0\u001b[0m | \u001b[0m 0.0     \u001b[0m | \u001b[0m 0.4988  \u001b[0m | \u001b[0m 0.0     \u001b[0m | \u001b[0m 0.0     \u001b[0m | \u001b[0m 1.372   \u001b[0m | \u001b[0m 1.106   \u001b[0m | \u001b[0m 1.5     \u001b[0m | \u001b[0m 1.5     \u001b[0m |\n",
      "6430.267801368889\n",
      "| \u001b[0m 181     \u001b[0m | \u001b[0m 6.43e+03\u001b[0m | \u001b[0m 0.0     \u001b[0m | \u001b[0m 0.5215  \u001b[0m | \u001b[0m 0.0     \u001b[0m | \u001b[0m 0.0     \u001b[0m | \u001b[0m 1.358   \u001b[0m | \u001b[0m 1.114   \u001b[0m | \u001b[0m 1.5     \u001b[0m | \u001b[0m 1.5     \u001b[0m |\n",
      "6431.1727995821375\n",
      "| \u001b[0m 182     \u001b[0m | \u001b[0m 6.431e+0\u001b[0m | \u001b[0m 0.0     \u001b[0m | \u001b[0m 0.5199  \u001b[0m | \u001b[0m 0.0     \u001b[0m | \u001b[0m 0.0     \u001b[0m | \u001b[0m 1.363   \u001b[0m | \u001b[0m 1.114   \u001b[0m | \u001b[0m 1.5     \u001b[0m | \u001b[0m 1.5     \u001b[0m |\n",
      "5685.818144067724\n",
      "| \u001b[0m 183     \u001b[0m | \u001b[0m 5.686e+0\u001b[0m | \u001b[0m 0.06896 \u001b[0m | \u001b[0m 0.4406  \u001b[0m | \u001b[0m 0.0     \u001b[0m | \u001b[0m 0.0     \u001b[0m | \u001b[0m 1.195   \u001b[0m | \u001b[0m 0.4967  \u001b[0m | \u001b[0m 0.2986  \u001b[0m | \u001b[0m 0.8017  \u001b[0m |\n",
      "6429.716023750911\n",
      "| \u001b[0m 184     \u001b[0m | \u001b[0m 6.43e+03\u001b[0m | \u001b[0m 0.0     \u001b[0m | \u001b[0m 0.521   \u001b[0m | \u001b[0m 0.0     \u001b[0m | \u001b[0m 0.0     \u001b[0m | \u001b[0m 1.359   \u001b[0m | \u001b[0m 1.116   \u001b[0m | \u001b[0m 1.5     \u001b[0m | \u001b[0m 1.5     \u001b[0m |\n"
     ]
    },
    {
     "name": "stdout",
     "output_type": "stream",
     "text": [
      "6430.118388634056\n",
      "| \u001b[0m 185     \u001b[0m | \u001b[0m 6.43e+03\u001b[0m | \u001b[0m 0.0     \u001b[0m | \u001b[0m 0.5203  \u001b[0m | \u001b[0m 0.0     \u001b[0m | \u001b[0m 0.0     \u001b[0m | \u001b[0m 1.364   \u001b[0m | \u001b[0m 1.112   \u001b[0m | \u001b[0m 1.5     \u001b[0m | \u001b[0m 1.5     \u001b[0m |\n",
      "6431.265633336163\n",
      "| \u001b[0m 186     \u001b[0m | \u001b[0m 6.431e+0\u001b[0m | \u001b[0m 0.0     \u001b[0m | \u001b[0m 0.52    \u001b[0m | \u001b[0m 0.0     \u001b[0m | \u001b[0m 0.0     \u001b[0m | \u001b[0m 1.363   \u001b[0m | \u001b[0m 1.112   \u001b[0m | \u001b[0m 1.5     \u001b[0m | \u001b[0m 1.5     \u001b[0m |\n",
      "6429.024486344002\n",
      "| \u001b[0m 187     \u001b[0m | \u001b[0m 6.429e+0\u001b[0m | \u001b[0m 0.0     \u001b[0m | \u001b[0m 0.5187  \u001b[0m | \u001b[0m 0.0     \u001b[0m | \u001b[0m 0.0     \u001b[0m | \u001b[0m 1.364   \u001b[0m | \u001b[0m 1.114   \u001b[0m | \u001b[0m 1.5     \u001b[0m | \u001b[0m 1.5     \u001b[0m |\n",
      "6428.607255930192\n",
      "| \u001b[0m 188     \u001b[0m | \u001b[0m 6.429e+0\u001b[0m | \u001b[0m 0.0     \u001b[0m | \u001b[0m 0.522   \u001b[0m | \u001b[0m 0.0     \u001b[0m | \u001b[0m 0.0     \u001b[0m | \u001b[0m 1.365   \u001b[0m | \u001b[0m 1.111   \u001b[0m | \u001b[0m 1.5     \u001b[0m | \u001b[0m 1.5     \u001b[0m |\n",
      "6428.114615792154\n",
      "| \u001b[0m 189     \u001b[0m | \u001b[0m 6.428e+0\u001b[0m | \u001b[0m 0.0     \u001b[0m | \u001b[0m 0.5176  \u001b[0m | \u001b[0m 0.0     \u001b[0m | \u001b[0m 0.0     \u001b[0m | \u001b[0m 1.362   \u001b[0m | \u001b[0m 1.119   \u001b[0m | \u001b[0m 1.5     \u001b[0m | \u001b[0m 1.5     \u001b[0m |\n",
      "6428.612439129841\n",
      "| \u001b[0m 190     \u001b[0m | \u001b[0m 6.429e+0\u001b[0m | \u001b[0m 0.0     \u001b[0m | \u001b[0m 0.5244  \u001b[0m | \u001b[0m 0.0     \u001b[0m | \u001b[0m 0.0     \u001b[0m | \u001b[0m 1.359   \u001b[0m | \u001b[0m 1.113   \u001b[0m | \u001b[0m 1.5     \u001b[0m | \u001b[0m 1.5     \u001b[0m |\n",
      "6414.1649989033995\n",
      "| \u001b[0m 191     \u001b[0m | \u001b[0m 6.414e+0\u001b[0m | \u001b[0m 0.0     \u001b[0m | \u001b[0m 0.5787  \u001b[0m | \u001b[0m 0.0     \u001b[0m | \u001b[0m 0.0     \u001b[0m | \u001b[0m 1.238   \u001b[0m | \u001b[0m 1.243   \u001b[0m | \u001b[0m 1.5     \u001b[0m | \u001b[0m 1.5     \u001b[0m |\n",
      "6430.965719578799\n",
      "| \u001b[0m 192     \u001b[0m | \u001b[0m 6.431e+0\u001b[0m | \u001b[0m 0.0     \u001b[0m | \u001b[0m 0.52    \u001b[0m | \u001b[0m 0.0     \u001b[0m | \u001b[0m 0.0     \u001b[0m | \u001b[0m 1.361   \u001b[0m | \u001b[0m 1.115   \u001b[0m | \u001b[0m 1.5     \u001b[0m | \u001b[0m 1.5     \u001b[0m |\n",
      "6414.243352774972\n",
      "| \u001b[0m 193     \u001b[0m | \u001b[0m 6.414e+0\u001b[0m | \u001b[0m 0.0     \u001b[0m | \u001b[0m 0.5763  \u001b[0m | \u001b[0m 0.0     \u001b[0m | \u001b[0m 0.0     \u001b[0m | \u001b[0m 1.227   \u001b[0m | \u001b[0m 1.23    \u001b[0m | \u001b[0m 1.5     \u001b[0m | \u001b[0m 1.5     \u001b[0m |\n",
      "6421.805189025394\n",
      "| \u001b[0m 194     \u001b[0m | \u001b[0m 6.422e+0\u001b[0m | \u001b[0m 0.0     \u001b[0m | \u001b[0m 0.5312  \u001b[0m | \u001b[0m 0.0     \u001b[0m | \u001b[0m 0.0     \u001b[0m | \u001b[0m 1.274   \u001b[0m | \u001b[0m 1.119   \u001b[0m | \u001b[0m 1.5     \u001b[0m | \u001b[0m 1.5     \u001b[0m |\n",
      "6413.326513668874\n",
      "| \u001b[0m 195     \u001b[0m | \u001b[0m 6.413e+0\u001b[0m | \u001b[0m 0.0     \u001b[0m | \u001b[0m 0.5802  \u001b[0m | \u001b[0m 0.0     \u001b[0m | \u001b[0m 0.0     \u001b[0m | \u001b[0m 1.237   \u001b[0m | \u001b[0m 1.307   \u001b[0m | \u001b[0m 1.5     \u001b[0m | \u001b[0m 1.5     \u001b[0m |\n",
      "6430.668392181847\n",
      "| \u001b[0m 196     \u001b[0m | \u001b[0m 6.431e+0\u001b[0m | \u001b[0m 0.0     \u001b[0m | \u001b[0m 0.5219  \u001b[0m | \u001b[0m 0.0     \u001b[0m | \u001b[0m 0.0     \u001b[0m | \u001b[0m 1.364   \u001b[0m | \u001b[0m 1.116   \u001b[0m | \u001b[0m 1.5     \u001b[0m | \u001b[0m 1.5     \u001b[0m |\n",
      "6430.192139720425\n",
      "| \u001b[0m 197     \u001b[0m | \u001b[0m 6.43e+03\u001b[0m | \u001b[0m 0.0     \u001b[0m | \u001b[0m 0.5208  \u001b[0m | \u001b[0m 0.0     \u001b[0m | \u001b[0m 0.0     \u001b[0m | \u001b[0m 1.367   \u001b[0m | \u001b[0m 1.112   \u001b[0m | \u001b[0m 1.5     \u001b[0m | \u001b[0m 1.5     \u001b[0m |\n",
      "6409.841054472803\n",
      "| \u001b[0m 198     \u001b[0m | \u001b[0m 6.41e+03\u001b[0m | \u001b[0m 0.0     \u001b[0m | \u001b[0m 0.584   \u001b[0m | \u001b[0m 0.0     \u001b[0m | \u001b[0m 0.0     \u001b[0m | \u001b[0m 1.232   \u001b[0m | \u001b[0m 1.299   \u001b[0m | \u001b[0m 1.5     \u001b[0m | \u001b[0m 1.5     \u001b[0m |\n",
      "6415.244681447304\n",
      "| \u001b[0m 199     \u001b[0m | \u001b[0m 6.415e+0\u001b[0m | \u001b[0m 0.0     \u001b[0m | \u001b[0m 0.5656  \u001b[0m | \u001b[0m 0.0     \u001b[0m | \u001b[0m 0.0     \u001b[0m | \u001b[0m 1.283   \u001b[0m | \u001b[0m 1.448   \u001b[0m | \u001b[0m 1.5     \u001b[0m | \u001b[0m 1.5     \u001b[0m |\n",
      "6418.252783235419\n",
      "| \u001b[0m 200     \u001b[0m | \u001b[0m 6.418e+0\u001b[0m | \u001b[0m 0.0     \u001b[0m | \u001b[0m 0.568   \u001b[0m | \u001b[0m 0.0     \u001b[0m | \u001b[0m 0.0     \u001b[0m | \u001b[0m 1.268   \u001b[0m | \u001b[0m 1.387   \u001b[0m | \u001b[0m 1.5     \u001b[0m | \u001b[0m 1.5     \u001b[0m |\n",
      "6411.9316054301935\n",
      "| \u001b[0m 201     \u001b[0m | \u001b[0m 6.412e+0\u001b[0m | \u001b[0m 0.0     \u001b[0m | \u001b[0m 0.5879  \u001b[0m | \u001b[0m 0.0     \u001b[0m | \u001b[0m 0.0     \u001b[0m | \u001b[0m 1.259   \u001b[0m | \u001b[0m 1.44    \u001b[0m | \u001b[0m 1.5     \u001b[0m | \u001b[0m 1.5     \u001b[0m |\n",
      "6425.344696337665\n",
      "| \u001b[0m 202     \u001b[0m | \u001b[0m 6.425e+0\u001b[0m | \u001b[0m 0.0     \u001b[0m | \u001b[0m 0.5162  \u001b[0m | \u001b[0m 0.0     \u001b[0m | \u001b[0m 0.0     \u001b[0m | \u001b[0m 1.372   \u001b[0m | \u001b[0m 1.122   \u001b[0m | \u001b[0m 1.5     \u001b[0m | \u001b[0m 1.5     \u001b[0m |\n",
      "6426.421868553566\n",
      "| \u001b[0m 203     \u001b[0m | \u001b[0m 6.426e+0\u001b[0m | \u001b[0m 0.0     \u001b[0m | \u001b[0m 0.518   \u001b[0m | \u001b[0m 0.0     \u001b[0m | \u001b[0m 0.0     \u001b[0m | \u001b[0m 1.361   \u001b[0m | \u001b[0m 1.097   \u001b[0m | \u001b[0m 1.5     \u001b[0m | \u001b[0m 1.5     \u001b[0m |\n",
      "6426.099229226352\n",
      "| \u001b[0m 204     \u001b[0m | \u001b[0m 6.426e+0\u001b[0m | \u001b[0m 0.0     \u001b[0m | \u001b[0m 0.5258  \u001b[0m | \u001b[0m 0.0     \u001b[0m | \u001b[0m 0.0     \u001b[0m | \u001b[0m 1.355   \u001b[0m | \u001b[0m 1.121   \u001b[0m | \u001b[0m 1.5     \u001b[0m | \u001b[0m 1.5     \u001b[0m |\n",
      "6431.829286448047\n",
      "| \u001b[0m 205     \u001b[0m | \u001b[0m 6.432e+0\u001b[0m | \u001b[0m 0.0     \u001b[0m | \u001b[0m 0.5215  \u001b[0m | \u001b[0m 0.0     \u001b[0m | \u001b[0m 0.0     \u001b[0m | \u001b[0m 1.364   \u001b[0m | \u001b[0m 1.119   \u001b[0m | \u001b[0m 1.5     \u001b[0m | \u001b[0m 1.5     \u001b[0m |\n",
      "6421.644671274757\n",
      "| \u001b[0m 206     \u001b[0m | \u001b[0m 6.422e+0\u001b[0m | \u001b[0m 0.0     \u001b[0m | \u001b[0m 0.5152  \u001b[0m | \u001b[0m 0.0     \u001b[0m | \u001b[0m 0.0     \u001b[0m | \u001b[0m 1.355   \u001b[0m | \u001b[0m 1.115   \u001b[0m | \u001b[0m 1.5     \u001b[0m | \u001b[0m 1.5     \u001b[0m |\n",
      "6419.382728358142\n",
      "| \u001b[0m 207     \u001b[0m | \u001b[0m 6.419e+0\u001b[0m | \u001b[0m 0.0     \u001b[0m | \u001b[0m 0.5744  \u001b[0m | \u001b[0m 0.0     \u001b[0m | \u001b[0m 0.0     \u001b[0m | \u001b[0m 1.279   \u001b[0m | \u001b[0m 1.353   \u001b[0m | \u001b[0m 1.5     \u001b[0m | \u001b[0m 1.5     \u001b[0m |\n",
      "6432.977542191343\n",
      "| \u001b[95m 208     \u001b[0m | \u001b[95m 6.433e+0\u001b[0m | \u001b[95m 0.0     \u001b[0m | \u001b[95m 0.5463  \u001b[0m | \u001b[95m 0.0     \u001b[0m | \u001b[95m 0.0     \u001b[0m | \u001b[95m 1.357   \u001b[0m | \u001b[95m 1.15    \u001b[0m | \u001b[95m 1.5     \u001b[0m | \u001b[95m 1.5     \u001b[0m |\n",
      "6418.894773285807\n",
      "| \u001b[0m 209     \u001b[0m | \u001b[0m 6.419e+0\u001b[0m | \u001b[0m 0.0     \u001b[0m | \u001b[0m 0.574   \u001b[0m | \u001b[0m 0.0     \u001b[0m | \u001b[0m 0.0     \u001b[0m | \u001b[0m 1.279   \u001b[0m | \u001b[0m 1.353   \u001b[0m | \u001b[0m 1.5     \u001b[0m | \u001b[0m 1.5     \u001b[0m |\n",
      "6431.912886075628\n",
      "| \u001b[0m 210     \u001b[0m | \u001b[0m 6.432e+0\u001b[0m | \u001b[0m 0.0     \u001b[0m | \u001b[0m 0.5476  \u001b[0m | \u001b[0m 0.0     \u001b[0m | \u001b[0m 0.0     \u001b[0m | \u001b[0m 1.354   \u001b[0m | \u001b[0m 1.153   \u001b[0m | \u001b[0m 1.5     \u001b[0m | \u001b[0m 1.5     \u001b[0m |\n",
      "6433.968540418335\n",
      "| \u001b[95m 211     \u001b[0m | \u001b[95m 6.434e+0\u001b[0m | \u001b[95m 0.0     \u001b[0m | \u001b[95m 0.5387  \u001b[0m | \u001b[95m 0.0     \u001b[0m | \u001b[95m 0.0     \u001b[0m | \u001b[95m 1.343   \u001b[0m | \u001b[95m 1.146   \u001b[0m | \u001b[95m 1.5     \u001b[0m | \u001b[95m 1.5     \u001b[0m |\n",
      "6431.417910180385\n",
      "| \u001b[0m 212     \u001b[0m | \u001b[0m 6.431e+0\u001b[0m | \u001b[0m 0.0     \u001b[0m | \u001b[0m 0.5398  \u001b[0m | \u001b[0m 0.0     \u001b[0m | \u001b[0m 0.0     \u001b[0m | \u001b[0m 1.354   \u001b[0m | \u001b[0m 1.144   \u001b[0m | \u001b[0m 1.5     \u001b[0m | \u001b[0m 1.5     \u001b[0m |\n",
      "6418.42669655847\n",
      "| \u001b[0m 213     \u001b[0m | \u001b[0m 6.418e+0\u001b[0m | \u001b[0m 0.0     \u001b[0m | \u001b[0m 0.5703  \u001b[0m | \u001b[0m 0.0     \u001b[0m | \u001b[0m 0.0     \u001b[0m | \u001b[0m 1.269   \u001b[0m | \u001b[0m 1.352   \u001b[0m | \u001b[0m 1.5     \u001b[0m | \u001b[0m 1.5     \u001b[0m |\n",
      "6434.554403565713\n",
      "| \u001b[95m 214     \u001b[0m | \u001b[95m 6.435e+0\u001b[0m | \u001b[95m 0.0     \u001b[0m | \u001b[95m 0.5442  \u001b[0m | \u001b[95m 0.0     \u001b[0m | \u001b[95m 0.0     \u001b[0m | \u001b[95m 1.344   \u001b[0m | \u001b[95m 1.157   \u001b[0m | \u001b[95m 1.5     \u001b[0m | \u001b[95m 1.5     \u001b[0m |\n",
      "6416.41790617502\n",
      "| \u001b[0m 215     \u001b[0m | \u001b[0m 6.416e+0\u001b[0m | \u001b[0m 0.0     \u001b[0m | \u001b[0m 0.5824  \u001b[0m | \u001b[0m 0.0     \u001b[0m | \u001b[0m 0.0     \u001b[0m | \u001b[0m 1.292   \u001b[0m | \u001b[0m 1.396   \u001b[0m | \u001b[0m 1.5     \u001b[0m | \u001b[0m 1.5     \u001b[0m |\n",
      "6426.551708505749\n",
      "| \u001b[0m 216     \u001b[0m | \u001b[0m 6.427e+0\u001b[0m | \u001b[0m 0.0     \u001b[0m | \u001b[0m 0.549   \u001b[0m | \u001b[0m 0.0     \u001b[0m | \u001b[0m 0.0     \u001b[0m | \u001b[0m 1.337   \u001b[0m | \u001b[0m 1.17    \u001b[0m | \u001b[0m 1.5     \u001b[0m | \u001b[0m 1.5     \u001b[0m |\n",
      "5731.769371078098\n",
      "| \u001b[0m 217     \u001b[0m | \u001b[0m 5.732e+0\u001b[0m | \u001b[0m 0.1588  \u001b[0m | \u001b[0m 0.4271  \u001b[0m | \u001b[0m 4.856e-0\u001b[0m | \u001b[0m 5.485e-0\u001b[0m | \u001b[0m 1.063   \u001b[0m | \u001b[0m 0.5773  \u001b[0m | \u001b[0m 0.3839  \u001b[0m | \u001b[0m 0.7946  \u001b[0m |\n",
      "5730.567395139999\n",
      "| \u001b[0m 218     \u001b[0m | \u001b[0m 5.731e+0\u001b[0m | \u001b[0m 0.1658  \u001b[0m | \u001b[0m 0.426   \u001b[0m | \u001b[0m 0.0     \u001b[0m | \u001b[0m 0.0     \u001b[0m | \u001b[0m 1.053   \u001b[0m | \u001b[0m 0.5837  \u001b[0m | \u001b[0m 0.3907  \u001b[0m | \u001b[0m 0.794   \u001b[0m |\n",
      "6111.658454089769\n",
      "| \u001b[0m 219     \u001b[0m | \u001b[0m 6.112e+0\u001b[0m | \u001b[0m 0.02019 \u001b[0m | \u001b[0m 0.3747  \u001b[0m | \u001b[0m 0.03633 \u001b[0m | \u001b[0m 0.1269  \u001b[0m | \u001b[0m 0.6335  \u001b[0m | \u001b[0m 0.7754  \u001b[0m | \u001b[0m 1.5     \u001b[0m | \u001b[0m 0.9167  \u001b[0m |\n",
      "6420.1866067576875\n",
      "| \u001b[0m 220     \u001b[0m | \u001b[0m 6.42e+03\u001b[0m | \u001b[0m 0.0     \u001b[0m | \u001b[0m 0.575   \u001b[0m | \u001b[0m 0.0     \u001b[0m | \u001b[0m 0.0     \u001b[0m | \u001b[0m 1.277   \u001b[0m | \u001b[0m 1.356   \u001b[0m | \u001b[0m 1.5     \u001b[0m | \u001b[0m 1.5     \u001b[0m |\n",
      "6115.827192881028\n",
      "| \u001b[0m 221     \u001b[0m | \u001b[0m 6.116e+0\u001b[0m | \u001b[0m 0.0209  \u001b[0m | \u001b[0m 0.3587  \u001b[0m | \u001b[0m 0.04495 \u001b[0m | \u001b[0m 0.1414  \u001b[0m | \u001b[0m 0.6419  \u001b[0m | \u001b[0m 0.7776  \u001b[0m | \u001b[0m 1.498   \u001b[0m | \u001b[0m 0.9167  \u001b[0m |\n",
      "5848.7535559252765\n",
      "| \u001b[0m 222     \u001b[0m | \u001b[0m 5.849e+0\u001b[0m | \u001b[0m 0.06598 \u001b[0m | \u001b[0m 0.2465  \u001b[0m | \u001b[0m 0.06564 \u001b[0m | \u001b[0m 0.1887  \u001b[0m | \u001b[0m 0.5655  \u001b[0m | \u001b[0m 0.5745  \u001b[0m | \u001b[0m 1.188   \u001b[0m | \u001b[0m 0.7716  \u001b[0m |\n"
     ]
    },
    {
     "name": "stdout",
     "output_type": "stream",
     "text": [
      "6415.031147978366\n",
      "| \u001b[0m 223     \u001b[0m | \u001b[0m 6.415e+0\u001b[0m | \u001b[0m 0.0     \u001b[0m | \u001b[0m 0.5779  \u001b[0m | \u001b[0m 0.0     \u001b[0m | \u001b[0m 0.0     \u001b[0m | \u001b[0m 1.266   \u001b[0m | \u001b[0m 1.364   \u001b[0m | \u001b[0m 1.5     \u001b[0m | \u001b[0m 1.5     \u001b[0m |\n",
      "6430.241845220493\n",
      "| \u001b[0m 224     \u001b[0m | \u001b[0m 6.43e+03\u001b[0m | \u001b[0m 0.0     \u001b[0m | \u001b[0m 0.5413  \u001b[0m | \u001b[0m 0.0     \u001b[0m | \u001b[0m 0.0     \u001b[0m | \u001b[0m 1.349   \u001b[0m | \u001b[0m 1.146   \u001b[0m | \u001b[0m 1.5     \u001b[0m | \u001b[0m 1.5     \u001b[0m |\n",
      "6226.313694231054\n",
      "| \u001b[0m 225     \u001b[0m | \u001b[0m 6.226e+0\u001b[0m | \u001b[0m 0.04515 \u001b[0m | \u001b[0m 0.5317  \u001b[0m | \u001b[0m 0.05658 \u001b[0m | \u001b[0m 0.0209  \u001b[0m | \u001b[0m 0.7242  \u001b[0m | \u001b[0m 0.919   \u001b[0m | \u001b[0m 1.282   \u001b[0m | \u001b[0m 1.451   \u001b[0m |\n",
      "6096.975504435761\n",
      "| \u001b[0m 226     \u001b[0m | \u001b[0m 6.097e+0\u001b[0m | \u001b[0m 0.01294 \u001b[0m | \u001b[0m 0.3633  \u001b[0m | \u001b[0m 0.05031 \u001b[0m | \u001b[0m 0.1404  \u001b[0m | \u001b[0m 0.633   \u001b[0m | \u001b[0m 0.7625  \u001b[0m | \u001b[0m 1.48    \u001b[0m | \u001b[0m 0.9001  \u001b[0m |\n",
      "6430.758394075007\n",
      "| \u001b[0m 227     \u001b[0m | \u001b[0m 6.431e+0\u001b[0m | \u001b[0m 0.0     \u001b[0m | \u001b[0m 0.5414  \u001b[0m | \u001b[0m 0.0     \u001b[0m | \u001b[0m 0.0     \u001b[0m | \u001b[0m 1.351   \u001b[0m | \u001b[0m 1.15    \u001b[0m | \u001b[0m 1.497   \u001b[0m | \u001b[0m 1.5     \u001b[0m |\n",
      "6319.838126074489\n",
      "| \u001b[0m 228     \u001b[0m | \u001b[0m 6.32e+03\u001b[0m | \u001b[0m 0.0     \u001b[0m | \u001b[0m 0.5538  \u001b[0m | \u001b[0m 0.0     \u001b[0m | \u001b[0m 0.0     \u001b[0m | \u001b[0m 0.9051  \u001b[0m | \u001b[0m 0.8672  \u001b[0m | \u001b[0m 1.376   \u001b[0m | \u001b[0m 1.5     \u001b[0m |\n",
      "6435.6708064662\n",
      "| \u001b[95m 229     \u001b[0m | \u001b[95m 6.436e+0\u001b[0m | \u001b[95m 0.0     \u001b[0m | \u001b[95m 0.5383  \u001b[0m | \u001b[95m 0.0     \u001b[0m | \u001b[95m 0.0     \u001b[0m | \u001b[95m 1.358   \u001b[0m | \u001b[95m 1.145   \u001b[0m | \u001b[95m 1.5     \u001b[0m | \u001b[95m 1.5     \u001b[0m |\n",
      "6434.391464430916\n",
      "| \u001b[0m 230     \u001b[0m | \u001b[0m 6.434e+0\u001b[0m | \u001b[0m 0.0     \u001b[0m | \u001b[0m 0.5317  \u001b[0m | \u001b[0m 0.0     \u001b[0m | \u001b[0m 0.0     \u001b[0m | \u001b[0m 1.366   \u001b[0m | \u001b[0m 1.131   \u001b[0m | \u001b[0m 1.5     \u001b[0m | \u001b[0m 1.5     \u001b[0m |\n",
      "6302.467450476387\n",
      "| \u001b[0m 231     \u001b[0m | \u001b[0m 6.302e+0\u001b[0m | \u001b[0m 0.1017  \u001b[0m | \u001b[0m 0.4789  \u001b[0m | \u001b[0m 0.002432\u001b[0m | \u001b[0m 0.08235 \u001b[0m | \u001b[0m 1.002   \u001b[0m | \u001b[0m 1.142   \u001b[0m | \u001b[0m 1.331   \u001b[0m | \u001b[0m 1.384   \u001b[0m |\n",
      "6060.17329628982\n",
      "| \u001b[0m 232     \u001b[0m | \u001b[0m 6.06e+03\u001b[0m | \u001b[0m 0.04239 \u001b[0m | \u001b[0m 0.3557  \u001b[0m | \u001b[0m 0.02773 \u001b[0m | \u001b[0m 0.1531  \u001b[0m | \u001b[0m 0.6497  \u001b[0m | \u001b[0m 0.719   \u001b[0m | \u001b[0m 1.421   \u001b[0m | \u001b[0m 0.8622  \u001b[0m |\n",
      "6177.1312706816725\n",
      "| \u001b[0m 233     \u001b[0m | \u001b[0m 6.177e+0\u001b[0m | \u001b[0m 0.0758  \u001b[0m | \u001b[0m 0.4879  \u001b[0m | \u001b[0m 0.07588 \u001b[0m | \u001b[0m 0.1351  \u001b[0m | \u001b[0m 0.8807  \u001b[0m | \u001b[0m 1.313   \u001b[0m | \u001b[0m 1.364   \u001b[0m | \u001b[0m 1.488   \u001b[0m |\n",
      "6339.706529620484\n",
      "| \u001b[0m 234     \u001b[0m | \u001b[0m 6.34e+03\u001b[0m | \u001b[0m 0.02988 \u001b[0m | \u001b[0m 0.488   \u001b[0m | \u001b[0m 0.0     \u001b[0m | \u001b[0m 0.01795 \u001b[0m | \u001b[0m 0.9767  \u001b[0m | \u001b[0m 1.163   \u001b[0m | \u001b[0m 1.321   \u001b[0m | \u001b[0m 1.421   \u001b[0m |\n",
      "6125.741608268291\n",
      "| \u001b[0m 235     \u001b[0m | \u001b[0m 6.126e+0\u001b[0m | \u001b[0m 0.02429 \u001b[0m | \u001b[0m 0.4035  \u001b[0m | \u001b[0m 0.04973 \u001b[0m | \u001b[0m 0.1181  \u001b[0m | \u001b[0m 0.6372  \u001b[0m | \u001b[0m 0.7671  \u001b[0m | \u001b[0m 1.469   \u001b[0m | \u001b[0m 0.9414  \u001b[0m |\n",
      "6422.5240362681\n",
      "| \u001b[0m 236     \u001b[0m | \u001b[0m 6.423e+0\u001b[0m | \u001b[0m 0.0     \u001b[0m | \u001b[0m 0.5462  \u001b[0m | \u001b[0m 0.0     \u001b[0m | \u001b[0m 0.0     \u001b[0m | \u001b[0m 1.3     \u001b[0m | \u001b[0m 1.361   \u001b[0m | \u001b[0m 1.5     \u001b[0m | \u001b[0m 1.5     \u001b[0m |\n",
      "6433.358632958739\n",
      "| \u001b[0m 237     \u001b[0m | \u001b[0m 6.433e+0\u001b[0m | \u001b[0m 0.0     \u001b[0m | \u001b[0m 0.5397  \u001b[0m | \u001b[0m 0.0     \u001b[0m | \u001b[0m 0.0     \u001b[0m | \u001b[0m 1.364   \u001b[0m | \u001b[0m 1.152   \u001b[0m | \u001b[0m 1.5     \u001b[0m | \u001b[0m 1.5     \u001b[0m |\n",
      "6250.206486563666\n",
      "| \u001b[0m 238     \u001b[0m | \u001b[0m 6.25e+03\u001b[0m | \u001b[0m 0.0     \u001b[0m | \u001b[0m 0.5193  \u001b[0m | \u001b[0m 7.771e-0\u001b[0m | \u001b[0m 0.04787 \u001b[0m | \u001b[0m 0.7426  \u001b[0m | \u001b[0m 0.808   \u001b[0m | \u001b[0m 1.5     \u001b[0m | \u001b[0m 1.208   \u001b[0m |\n",
      "6196.4162664371115\n",
      "| \u001b[0m 239     \u001b[0m | \u001b[0m 6.196e+0\u001b[0m | \u001b[0m 0.01656 \u001b[0m | \u001b[0m 0.3565  \u001b[0m | \u001b[0m 0.08615 \u001b[0m | \u001b[0m 0.04083 \u001b[0m | \u001b[0m 0.8571  \u001b[0m | \u001b[0m 0.8394  \u001b[0m | \u001b[0m 1.249   \u001b[0m | \u001b[0m 1.231   \u001b[0m |\n",
      "5923.712744661141\n",
      "| \u001b[0m 240     \u001b[0m | \u001b[0m 5.924e+0\u001b[0m | \u001b[0m 0.1365  \u001b[0m | \u001b[0m 0.4899  \u001b[0m | \u001b[0m 0.08293 \u001b[0m | \u001b[0m 0.1888  \u001b[0m | \u001b[0m 0.686   \u001b[0m | \u001b[0m 1.265   \u001b[0m | \u001b[0m 1.261   \u001b[0m | \u001b[0m 1.443   \u001b[0m |\n",
      "6419.21645345212\n",
      "| \u001b[0m 241     \u001b[0m | \u001b[0m 6.419e+0\u001b[0m | \u001b[0m 0.0     \u001b[0m | \u001b[0m 0.5393  \u001b[0m | \u001b[0m 0.0     \u001b[0m | \u001b[0m 0.0     \u001b[0m | \u001b[0m 1.282   \u001b[0m | \u001b[0m 1.401   \u001b[0m | \u001b[0m 1.5     \u001b[0m | \u001b[0m 1.5     \u001b[0m |\n",
      "5785.240803573192\n",
      "| \u001b[0m 242     \u001b[0m | \u001b[0m 5.785e+0\u001b[0m | \u001b[0m 0.18    \u001b[0m | \u001b[0m 0.3005  \u001b[0m | \u001b[0m 0.1595  \u001b[0m | \u001b[0m 0.06775 \u001b[0m | \u001b[0m 0.4538  \u001b[0m | \u001b[0m 0.574   \u001b[0m | \u001b[0m 1.214   \u001b[0m | \u001b[0m 0.712   \u001b[0m |\n",
      "6029.622561500967\n",
      "| \u001b[0m 243     \u001b[0m | \u001b[0m 6.03e+03\u001b[0m | \u001b[0m 0.03926 \u001b[0m | \u001b[0m 0.338   \u001b[0m | \u001b[0m 0.03998 \u001b[0m | \u001b[0m 0.1511  \u001b[0m | \u001b[0m 0.6467  \u001b[0m | \u001b[0m 0.6883  \u001b[0m | \u001b[0m 1.396   \u001b[0m | \u001b[0m 0.8232  \u001b[0m |\n",
      "5592.7325253695635\n",
      "| \u001b[0m 244     \u001b[0m | \u001b[0m 5.593e+0\u001b[0m | \u001b[0m 0.2469  \u001b[0m | \u001b[0m 0.2632  \u001b[0m | \u001b[0m 0.2087  \u001b[0m | \u001b[0m 0.2045  \u001b[0m | \u001b[0m 0.4968  \u001b[0m | \u001b[0m 0.6345  \u001b[0m | \u001b[0m 1.17    \u001b[0m | \u001b[0m 0.8255  \u001b[0m |\n",
      "5980.414333863906\n",
      "| \u001b[0m 245     \u001b[0m | \u001b[0m 5.98e+03\u001b[0m | \u001b[0m 0.02129 \u001b[0m | \u001b[0m 0.2108  \u001b[0m | \u001b[0m 0.1645  \u001b[0m | \u001b[0m 0.1777  \u001b[0m | \u001b[0m 0.8585  \u001b[0m | \u001b[0m 0.5824  \u001b[0m | \u001b[0m 1.205   \u001b[0m | \u001b[0m 0.7764  \u001b[0m |\n",
      "6422.099237329627\n",
      "| \u001b[0m 246     \u001b[0m | \u001b[0m 6.422e+0\u001b[0m | \u001b[0m 0.0     \u001b[0m | \u001b[0m 0.5555  \u001b[0m | \u001b[0m 0.0     \u001b[0m | \u001b[0m 0.0     \u001b[0m | \u001b[0m 1.297   \u001b[0m | \u001b[0m 1.344   \u001b[0m | \u001b[0m 1.5     \u001b[0m | \u001b[0m 1.5     \u001b[0m |\n",
      "6384.7076703286375\n",
      "| \u001b[0m 247     \u001b[0m | \u001b[0m 6.385e+0\u001b[0m | \u001b[0m 0.0     \u001b[0m | \u001b[0m 0.5776  \u001b[0m | \u001b[0m 0.0     \u001b[0m | \u001b[0m 0.0     \u001b[0m | \u001b[0m 1.07    \u001b[0m | \u001b[0m 0.9738  \u001b[0m | \u001b[0m 1.5     \u001b[0m | \u001b[0m 1.5     \u001b[0m |\n",
      "6420.120475026456\n",
      "| \u001b[0m 248     \u001b[0m | \u001b[0m 6.42e+03\u001b[0m | \u001b[0m 0.0     \u001b[0m | \u001b[0m 0.5547  \u001b[0m | \u001b[0m 0.0     \u001b[0m | \u001b[0m 0.0     \u001b[0m | \u001b[0m 1.298   \u001b[0m | \u001b[0m 1.364   \u001b[0m | \u001b[0m 1.5     \u001b[0m | \u001b[0m 1.5     \u001b[0m |\n",
      "6206.0000623099395\n",
      "| \u001b[0m 249     \u001b[0m | \u001b[0m 6.206e+0\u001b[0m | \u001b[0m 0.05536 \u001b[0m | \u001b[0m 0.3861  \u001b[0m | \u001b[0m 0.06903 \u001b[0m | \u001b[0m 0.0905  \u001b[0m | \u001b[0m 0.9558  \u001b[0m | \u001b[0m 0.823   \u001b[0m | \u001b[0m 1.238   \u001b[0m | \u001b[0m 1.1     \u001b[0m |\n",
      "6421.16162812944\n",
      "| \u001b[0m 250     \u001b[0m | \u001b[0m 6.421e+0\u001b[0m | \u001b[0m 0.0     \u001b[0m | \u001b[0m 0.5396  \u001b[0m | \u001b[0m 0.0     \u001b[0m | \u001b[0m 0.0     \u001b[0m | \u001b[0m 1.286   \u001b[0m | \u001b[0m 1.333   \u001b[0m | \u001b[0m 1.5     \u001b[0m | \u001b[0m 1.5     \u001b[0m |\n",
      "6418.9257223614695\n",
      "| \u001b[0m 251     \u001b[0m | \u001b[0m 6.419e+0\u001b[0m | \u001b[0m 0.0     \u001b[0m | \u001b[0m 0.5507  \u001b[0m | \u001b[0m 0.0     \u001b[0m | \u001b[0m 0.0     \u001b[0m | \u001b[0m 1.3     \u001b[0m | \u001b[0m 1.34    \u001b[0m | \u001b[0m 1.5     \u001b[0m | \u001b[0m 1.5     \u001b[0m |\n",
      "6421.866050473353\n",
      "| \u001b[0m 252     \u001b[0m | \u001b[0m 6.422e+0\u001b[0m | \u001b[0m 0.0     \u001b[0m | \u001b[0m 0.5321  \u001b[0m | \u001b[0m 0.0     \u001b[0m | \u001b[0m 0.0     \u001b[0m | \u001b[0m 1.279   \u001b[0m | \u001b[0m 1.111   \u001b[0m | \u001b[0m 1.5     \u001b[0m | \u001b[0m 1.5     \u001b[0m |\n",
      "5591.4646813486115\n",
      "| \u001b[0m 253     \u001b[0m | \u001b[0m 5.591e+0\u001b[0m | \u001b[0m 0.01679 \u001b[0m | \u001b[0m 0.186   \u001b[0m | \u001b[0m 0.05124 \u001b[0m | \u001b[0m 0.06038 \u001b[0m | \u001b[0m 0.4904  \u001b[0m | \u001b[0m 0.7097  \u001b[0m | \u001b[0m 1.242   \u001b[0m | \u001b[0m 0.7032  \u001b[0m |\n",
      "6060.384400417538\n",
      "| \u001b[0m 254     \u001b[0m | \u001b[0m 6.06e+03\u001b[0m | \u001b[0m 0.1366  \u001b[0m | \u001b[0m 0.111   \u001b[0m | \u001b[0m 0.1001  \u001b[0m | \u001b[0m 0.1332  \u001b[0m | \u001b[0m 0.6388  \u001b[0m | \u001b[0m 0.7512  \u001b[0m | \u001b[0m 1.394   \u001b[0m | \u001b[0m 0.9887  \u001b[0m |\n",
      "5914.499810320161\n",
      "| \u001b[0m 255     \u001b[0m | \u001b[0m 5.914e+0\u001b[0m | \u001b[0m 0.01431 \u001b[0m | \u001b[0m 0.4754  \u001b[0m | \u001b[0m 0.1183  \u001b[0m | \u001b[0m 0.2783  \u001b[0m | \u001b[0m 0.869   \u001b[0m | \u001b[0m 0.8317  \u001b[0m | \u001b[0m 1.365   \u001b[0m | \u001b[0m 1.01    \u001b[0m |\n",
      "6198.487665174009\n",
      "| \u001b[0m 256     \u001b[0m | \u001b[0m 6.198e+0\u001b[0m | \u001b[0m 0.05605 \u001b[0m | \u001b[0m 0.4287  \u001b[0m | \u001b[0m 0.1605  \u001b[0m | \u001b[0m 0.03151 \u001b[0m | \u001b[0m 0.6188  \u001b[0m | \u001b[0m 0.9638  \u001b[0m | \u001b[0m 1.3     \u001b[0m | \u001b[0m 1.461   \u001b[0m |\n",
      "6390.517078454339\n",
      "| \u001b[0m 257     \u001b[0m | \u001b[0m 6.391e+0\u001b[0m | \u001b[0m 0.0     \u001b[0m | \u001b[0m 0.4445  \u001b[0m | \u001b[0m 0.0     \u001b[0m | \u001b[0m 0.0     \u001b[0m | \u001b[0m 1.359   \u001b[0m | \u001b[0m 1.02    \u001b[0m | \u001b[0m 1.5     \u001b[0m | \u001b[0m 1.5     \u001b[0m |\n",
      "6420.253732191565\n",
      "| \u001b[0m 258     \u001b[0m | \u001b[0m 6.42e+03\u001b[0m | \u001b[0m 0.0     \u001b[0m | \u001b[0m 0.5417  \u001b[0m | \u001b[0m 0.0     \u001b[0m | \u001b[0m 0.0     \u001b[0m | \u001b[0m 1.282   \u001b[0m | \u001b[0m 1.353   \u001b[0m | \u001b[0m 1.5     \u001b[0m | \u001b[0m 1.5     \u001b[0m |\n",
      "6008.848746353923\n",
      "| \u001b[0m 259     \u001b[0m | \u001b[0m 6.009e+0\u001b[0m | \u001b[0m 0.03441 \u001b[0m | \u001b[0m 0.3274  \u001b[0m | \u001b[0m 0.0469  \u001b[0m | \u001b[0m 0.1503  \u001b[0m | \u001b[0m 0.6467  \u001b[0m | \u001b[0m 0.6739  \u001b[0m | \u001b[0m 1.39    \u001b[0m | \u001b[0m 0.8098  \u001b[0m |\n",
      "6437.201964410818\n",
      "| \u001b[95m 260     \u001b[0m | \u001b[95m 6.437e+0\u001b[0m | \u001b[95m 0.0     \u001b[0m | \u001b[95m 0.5355  \u001b[0m | \u001b[95m 0.0     \u001b[0m | \u001b[95m 0.0     \u001b[0m | \u001b[95m 1.362   \u001b[0m | \u001b[95m 1.14    \u001b[0m | \u001b[95m 1.5     \u001b[0m | \u001b[95m 1.5     \u001b[0m |\n"
     ]
    },
    {
     "name": "stdout",
     "output_type": "stream",
     "text": [
      "6001.409030108353\n",
      "| \u001b[0m 261     \u001b[0m | \u001b[0m 6.001e+0\u001b[0m | \u001b[0m 0.03199 \u001b[0m | \u001b[0m 0.3402  \u001b[0m | \u001b[0m 0.1868  \u001b[0m | \u001b[0m 0.2565  \u001b[0m | \u001b[0m 0.5285  \u001b[0m | \u001b[0m 0.8887  \u001b[0m | \u001b[0m 1.331   \u001b[0m | \u001b[0m 1.434   \u001b[0m |\n",
      "6413.421112261094\n",
      "| \u001b[0m 262     \u001b[0m | \u001b[0m 6.413e+0\u001b[0m | \u001b[0m 0.0     \u001b[0m | \u001b[0m 0.563   \u001b[0m | \u001b[0m 0.0     \u001b[0m | \u001b[0m 0.0     \u001b[0m | \u001b[0m 1.284   \u001b[0m | \u001b[0m 1.325   \u001b[0m | \u001b[0m 1.5     \u001b[0m | \u001b[0m 1.5     \u001b[0m |\n",
      "5978.245911160784\n",
      "| \u001b[0m 263     \u001b[0m | \u001b[0m 5.978e+0\u001b[0m | \u001b[0m 0.02176 \u001b[0m | \u001b[0m 0.2115  \u001b[0m | \u001b[0m 0.1641  \u001b[0m | \u001b[0m 0.1771  \u001b[0m | \u001b[0m 0.8557  \u001b[0m | \u001b[0m 0.5824  \u001b[0m | \u001b[0m 1.205   \u001b[0m | \u001b[0m 0.7755  \u001b[0m |\n",
      "6239.889190248301\n",
      "| \u001b[0m 264     \u001b[0m | \u001b[0m 6.24e+03\u001b[0m | \u001b[0m 0.05245 \u001b[0m | \u001b[0m 0.1422  \u001b[0m | \u001b[0m 0.1556  \u001b[0m | \u001b[0m 0.2621  \u001b[0m | \u001b[0m 0.6741  \u001b[0m | \u001b[0m 0.9494  \u001b[0m | \u001b[0m 1.385   \u001b[0m | \u001b[0m 1.49    \u001b[0m |\n",
      "5683.131547672131\n",
      "| \u001b[0m 265     \u001b[0m | \u001b[0m 5.683e+0\u001b[0m | \u001b[0m 0.06664 \u001b[0m | \u001b[0m 0.4403  \u001b[0m | \u001b[0m 0.0     \u001b[0m | \u001b[0m 0.0     \u001b[0m | \u001b[0m 1.197   \u001b[0m | \u001b[0m 0.4951  \u001b[0m | \u001b[0m 0.2974  \u001b[0m | \u001b[0m 0.8018  \u001b[0m |\n",
      "6059.857492560575\n",
      "| \u001b[0m 266     \u001b[0m | \u001b[0m 6.06e+03\u001b[0m | \u001b[0m 0.05598 \u001b[0m | \u001b[0m 0.3844  \u001b[0m | \u001b[0m 0.04765 \u001b[0m | \u001b[0m 0.1583  \u001b[0m | \u001b[0m 0.5356  \u001b[0m | \u001b[0m 0.6685  \u001b[0m | \u001b[0m 1.426   \u001b[0m | \u001b[0m 1.028   \u001b[0m |\n",
      "5549.695670207517\n",
      "| \u001b[0m 267     \u001b[0m | \u001b[0m 5.55e+03\u001b[0m | \u001b[0m 0.04048 \u001b[0m | \u001b[0m 0.5107  \u001b[0m | \u001b[0m 0.2621  \u001b[0m | \u001b[0m 0.2426  \u001b[0m | \u001b[0m 1.0     \u001b[0m | \u001b[0m 0.8432  \u001b[0m | \u001b[0m 1.255   \u001b[0m | \u001b[0m 0.9522  \u001b[0m |\n",
      "6422.607453604211\n",
      "| \u001b[0m 268     \u001b[0m | \u001b[0m 6.423e+0\u001b[0m | \u001b[0m 0.0     \u001b[0m | \u001b[0m 0.5429  \u001b[0m | \u001b[0m 0.0     \u001b[0m | \u001b[0m 0.0     \u001b[0m | \u001b[0m 1.291   \u001b[0m | \u001b[0m 1.351   \u001b[0m | \u001b[0m 1.5     \u001b[0m | \u001b[0m 1.5     \u001b[0m |\n",
      "6416.55426603774\n",
      "| \u001b[0m 269     \u001b[0m | \u001b[0m 6.417e+0\u001b[0m | \u001b[0m 0.0     \u001b[0m | \u001b[0m 0.553   \u001b[0m | \u001b[0m 0.0     \u001b[0m | \u001b[0m 0.0     \u001b[0m | \u001b[0m 1.283   \u001b[0m | \u001b[0m 1.397   \u001b[0m | \u001b[0m 1.5     \u001b[0m | \u001b[0m 1.5     \u001b[0m |\n",
      "5998.083667393653\n",
      "| \u001b[0m 270     \u001b[0m | \u001b[0m 5.998e+0\u001b[0m | \u001b[0m 0.05933 \u001b[0m | \u001b[0m 0.1858  \u001b[0m | \u001b[0m 0.08116 \u001b[0m | \u001b[0m 0.136   \u001b[0m | \u001b[0m 0.6836  \u001b[0m | \u001b[0m 0.6854  \u001b[0m | \u001b[0m 1.32    \u001b[0m | \u001b[0m 0.9288  \u001b[0m |\n",
      "6202.5141851011085\n",
      "| \u001b[0m 271     \u001b[0m | \u001b[0m 6.203e+0\u001b[0m | \u001b[0m 0.01823 \u001b[0m | \u001b[0m 0.1663  \u001b[0m | \u001b[0m 0.164   \u001b[0m | \u001b[0m 0.3024  \u001b[0m | \u001b[0m 0.881   \u001b[0m | \u001b[0m 0.8044  \u001b[0m | \u001b[0m 1.281   \u001b[0m | \u001b[0m 1.416   \u001b[0m |\n",
      "6344.478815231738\n",
      "| \u001b[0m 272     \u001b[0m | \u001b[0m 6.344e+0\u001b[0m | \u001b[0m 0.0499  \u001b[0m | \u001b[0m 0.4859  \u001b[0m | \u001b[0m 0.001159\u001b[0m | \u001b[0m 0.03642 \u001b[0m | \u001b[0m 0.9835  \u001b[0m | \u001b[0m 1.158   \u001b[0m | \u001b[0m 1.325   \u001b[0m | \u001b[0m 1.412   \u001b[0m |\n",
      "5928.92905157579\n",
      "| \u001b[0m 273     \u001b[0m | \u001b[0m 5.929e+0\u001b[0m | \u001b[0m 0.09791 \u001b[0m | \u001b[0m 0.2091  \u001b[0m | \u001b[0m 0.08141 \u001b[0m | \u001b[0m 0.1932  \u001b[0m | \u001b[0m 0.59    \u001b[0m | \u001b[0m 0.6896  \u001b[0m | \u001b[0m 1.241   \u001b[0m | \u001b[0m 0.8159  \u001b[0m |\n",
      "5925.0316555800555\n",
      "| \u001b[0m 274     \u001b[0m | \u001b[0m 5.925e+0\u001b[0m | \u001b[0m 0.1356  \u001b[0m | \u001b[0m 0.4899  \u001b[0m | \u001b[0m 0.08281 \u001b[0m | \u001b[0m 0.1879  \u001b[0m | \u001b[0m 0.6888  \u001b[0m | \u001b[0m 1.265   \u001b[0m | \u001b[0m 1.262   \u001b[0m | \u001b[0m 1.443   \u001b[0m |\n",
      "5858.60063054162\n",
      "| \u001b[0m 275     \u001b[0m | \u001b[0m 5.859e+0\u001b[0m | \u001b[0m 0.06074 \u001b[0m | \u001b[0m 0.1437  \u001b[0m | \u001b[0m 0.1289  \u001b[0m | \u001b[0m 0.1126  \u001b[0m | \u001b[0m 0.5317  \u001b[0m | \u001b[0m 0.7223  \u001b[0m | \u001b[0m 1.402   \u001b[0m | \u001b[0m 0.6808  \u001b[0m |\n",
      "6263.115913585226\n",
      "| \u001b[0m 276     \u001b[0m | \u001b[0m 6.263e+0\u001b[0m | \u001b[0m 0.0     \u001b[0m | \u001b[0m 0.2215  \u001b[0m | \u001b[0m 0.08118 \u001b[0m | \u001b[0m 0.1893  \u001b[0m | \u001b[0m 0.8354  \u001b[0m | \u001b[0m 0.9526  \u001b[0m | \u001b[0m 1.334   \u001b[0m | \u001b[0m 1.419   \u001b[0m |\n",
      "6375.57920476185\n",
      "| \u001b[0m 277     \u001b[0m | \u001b[0m 6.376e+0\u001b[0m | \u001b[0m 0.0     \u001b[0m | \u001b[0m 0.4431  \u001b[0m | \u001b[0m 0.0     \u001b[0m | \u001b[0m 0.003788\u001b[0m | \u001b[0m 1.216   \u001b[0m | \u001b[0m 1.497   \u001b[0m | \u001b[0m 1.5     \u001b[0m | \u001b[0m 1.5     \u001b[0m |\n",
      "5873.719801439195\n",
      "| \u001b[0m 278     \u001b[0m | \u001b[0m 5.874e+0\u001b[0m | \u001b[0m 1.988e-0\u001b[0m | \u001b[0m 0.1958  \u001b[0m | \u001b[0m 0.2505  \u001b[0m | \u001b[0m 0.1533  \u001b[0m | \u001b[0m 0.7226  \u001b[0m | \u001b[0m 0.5701  \u001b[0m | \u001b[0m 1.226   \u001b[0m | \u001b[0m 0.6001  \u001b[0m |\n",
      "6399.5560527961225\n",
      "| \u001b[0m 279     \u001b[0m | \u001b[0m 6.4e+03 \u001b[0m | \u001b[0m 0.0     \u001b[0m | \u001b[0m 0.5024  \u001b[0m | \u001b[0m 0.0     \u001b[0m | \u001b[0m 0.0     \u001b[0m | \u001b[0m 1.265   \u001b[0m | \u001b[0m 1.427   \u001b[0m | \u001b[0m 1.5     \u001b[0m | \u001b[0m 1.5     \u001b[0m |\n",
      "6247.602709107847\n",
      "| \u001b[0m 280     \u001b[0m | \u001b[0m 6.248e+0\u001b[0m | \u001b[0m 0.002297\u001b[0m | \u001b[0m 0.1479  \u001b[0m | \u001b[0m 0.1248  \u001b[0m | \u001b[0m 0.2379  \u001b[0m | \u001b[0m 0.7859  \u001b[0m | \u001b[0m 0.8601  \u001b[0m | \u001b[0m 1.357   \u001b[0m | \u001b[0m 1.437   \u001b[0m |\n",
      "6158.2589525930025\n",
      "| \u001b[0m 281     \u001b[0m | \u001b[0m 6.158e+0\u001b[0m | \u001b[0m 0.06627 \u001b[0m | \u001b[0m 0.3405  \u001b[0m | \u001b[0m 0.1872  \u001b[0m | \u001b[0m 0.1109  \u001b[0m | \u001b[0m 0.8959  \u001b[0m | \u001b[0m 0.8981  \u001b[0m | \u001b[0m 1.362   \u001b[0m | \u001b[0m 0.9945  \u001b[0m |\n",
      "6424.816392790182\n",
      "| \u001b[0m 282     \u001b[0m | \u001b[0m 6.425e+0\u001b[0m | \u001b[0m 0.0     \u001b[0m | \u001b[0m 0.5308  \u001b[0m | \u001b[0m 0.0     \u001b[0m | \u001b[0m 0.01031 \u001b[0m | \u001b[0m 1.297   \u001b[0m | \u001b[0m 1.353   \u001b[0m | \u001b[0m 1.5     \u001b[0m | \u001b[0m 1.5     \u001b[0m |\n",
      "6423.971196949737\n",
      "| \u001b[0m 283     \u001b[0m | \u001b[0m 6.424e+0\u001b[0m | \u001b[0m 0.0     \u001b[0m | \u001b[0m 0.5314  \u001b[0m | \u001b[0m 0.0     \u001b[0m | \u001b[0m 0.02923 \u001b[0m | \u001b[0m 1.292   \u001b[0m | \u001b[0m 1.358   \u001b[0m | \u001b[0m 1.5     \u001b[0m | \u001b[0m 1.5     \u001b[0m |\n",
      "5483.005746406513\n",
      "| \u001b[0m 284     \u001b[0m | \u001b[0m 5.483e+0\u001b[0m | \u001b[0m 0.1876  \u001b[0m | \u001b[0m 0.4331  \u001b[0m | \u001b[0m 0.1869  \u001b[0m | \u001b[0m 0.272   \u001b[0m | \u001b[0m 0.8792  \u001b[0m | \u001b[0m 1.019   \u001b[0m | \u001b[0m 1.357   \u001b[0m | \u001b[0m 1.047   \u001b[0m |\n",
      "2495.802913322572\n",
      "| \u001b[0m 285     \u001b[0m | \u001b[0m 2.496e+0\u001b[0m | \u001b[0m 0.3187  \u001b[0m | \u001b[0m 0.5939  \u001b[0m | \u001b[0m 0.5354  \u001b[0m | \u001b[0m 0.648   \u001b[0m | \u001b[0m 0.3349  \u001b[0m | \u001b[0m 0.5657  \u001b[0m | \u001b[0m 0.495   \u001b[0m | \u001b[0m 0.6077  \u001b[0m |\n",
      "6421.158599579078\n",
      "| \u001b[0m 286     \u001b[0m | \u001b[0m 6.421e+0\u001b[0m | \u001b[0m 0.0     \u001b[0m | \u001b[0m 0.5261  \u001b[0m | \u001b[0m 0.0     \u001b[0m | \u001b[0m 0.01786 \u001b[0m | \u001b[0m 1.297   \u001b[0m | \u001b[0m 1.354   \u001b[0m | \u001b[0m 1.5     \u001b[0m | \u001b[0m 1.5     \u001b[0m |\n",
      "1774.2521564219671\n",
      "| \u001b[0m 287     \u001b[0m | \u001b[0m 1.774e+0\u001b[0m | \u001b[0m 0.5745  \u001b[0m | \u001b[0m 0.6435  \u001b[0m | \u001b[0m 0.3738  \u001b[0m | \u001b[0m 0.9368  \u001b[0m | \u001b[0m 0.5565  \u001b[0m | \u001b[0m 1.009   \u001b[0m | \u001b[0m 1.488   \u001b[0m | \u001b[0m 0.1736  \u001b[0m |\n",
      "5769.269974161524\n",
      "| \u001b[0m 288     \u001b[0m | \u001b[0m 5.769e+0\u001b[0m | \u001b[0m 0.03844 \u001b[0m | \u001b[0m 0.3821  \u001b[0m | \u001b[0m 0.1857  \u001b[0m | \u001b[0m 0.3201  \u001b[0m | \u001b[0m 0.6433  \u001b[0m | \u001b[0m 1.434   \u001b[0m | \u001b[0m 1.456   \u001b[0m | \u001b[0m 0.7244  \u001b[0m |\n",
      "6325.06579203319\n",
      "| \u001b[0m 289     \u001b[0m | \u001b[0m 6.325e+0\u001b[0m | \u001b[0m 0.0     \u001b[0m | \u001b[0m 0.6207  \u001b[0m | \u001b[0m 0.0     \u001b[0m | \u001b[0m 0.09489 \u001b[0m | \u001b[0m 1.243   \u001b[0m | \u001b[0m 1.411   \u001b[0m | \u001b[0m 1.5     \u001b[0m | \u001b[0m 1.5     \u001b[0m |\n",
      "6198.916655553878\n",
      "| \u001b[0m 290     \u001b[0m | \u001b[0m 6.199e+0\u001b[0m | \u001b[0m 0.1869  \u001b[0m | \u001b[0m 0.4726  \u001b[0m | \u001b[0m 0.0272  \u001b[0m | \u001b[0m 0.04164 \u001b[0m | \u001b[0m 0.9044  \u001b[0m | \u001b[0m 1.242   \u001b[0m | \u001b[0m 1.224   \u001b[0m | \u001b[0m 1.362   \u001b[0m |\n",
      "6009.815606230771\n",
      "| \u001b[0m 291     \u001b[0m | \u001b[0m 6.01e+03\u001b[0m | \u001b[0m 0.03234 \u001b[0m | \u001b[0m 0.3385  \u001b[0m | \u001b[0m 0.1859  \u001b[0m | \u001b[0m 0.2544  \u001b[0m | \u001b[0m 0.5319  \u001b[0m | \u001b[0m 0.89    \u001b[0m | \u001b[0m 1.331   \u001b[0m | \u001b[0m 1.435   \u001b[0m |\n",
      "6412.805625239157\n",
      "| \u001b[0m 292     \u001b[0m | \u001b[0m 6.413e+0\u001b[0m | \u001b[0m 0.0     \u001b[0m | \u001b[0m 0.5558  \u001b[0m | \u001b[0m 0.0     \u001b[0m | \u001b[0m 0.02767 \u001b[0m | \u001b[0m 1.285   \u001b[0m | \u001b[0m 1.354   \u001b[0m | \u001b[0m 1.5     \u001b[0m | \u001b[0m 1.5     \u001b[0m |\n",
      "6399.807240391352\n",
      "| \u001b[0m 293     \u001b[0m | \u001b[0m 6.4e+03 \u001b[0m | \u001b[0m 0.0     \u001b[0m | \u001b[0m 0.4703  \u001b[0m | \u001b[0m 0.0     \u001b[0m | \u001b[0m 0.1216  \u001b[0m | \u001b[0m 1.233   \u001b[0m | \u001b[0m 1.5     \u001b[0m | \u001b[0m 1.5     \u001b[0m | \u001b[0m 1.5     \u001b[0m |\n",
      "6414.2320449149265\n",
      "| \u001b[0m 294     \u001b[0m | \u001b[0m 6.414e+0\u001b[0m | \u001b[0m 0.0     \u001b[0m | \u001b[0m 0.5191  \u001b[0m | \u001b[0m 0.0     \u001b[0m | \u001b[0m 0.06096 \u001b[0m | \u001b[0m 1.288   \u001b[0m | \u001b[0m 1.416   \u001b[0m | \u001b[0m 1.5     \u001b[0m | \u001b[0m 1.5     \u001b[0m |\n",
      "5932.257180556089\n",
      "| \u001b[0m 295     \u001b[0m | \u001b[0m 5.932e+0\u001b[0m | \u001b[0m 0.1352  \u001b[0m | \u001b[0m 0.4896  \u001b[0m | \u001b[0m 0.08211 \u001b[0m | \u001b[0m 0.1855  \u001b[0m | \u001b[0m 0.6937  \u001b[0m | \u001b[0m 1.265   \u001b[0m | \u001b[0m 1.263   \u001b[0m | \u001b[0m 1.443   \u001b[0m |\n",
      "6420.421054168272\n",
      "| \u001b[0m 296     \u001b[0m | \u001b[0m 6.42e+03\u001b[0m | \u001b[0m 0.0     \u001b[0m | \u001b[0m 0.5204  \u001b[0m | \u001b[0m 0.0     \u001b[0m | \u001b[0m 0.03703 \u001b[0m | \u001b[0m 1.284   \u001b[0m | \u001b[0m 1.373   \u001b[0m | \u001b[0m 1.5     \u001b[0m | \u001b[0m 1.5     \u001b[0m |\n",
      "6416.681730077521\n",
      "| \u001b[0m 297     \u001b[0m | \u001b[0m 6.417e+0\u001b[0m | \u001b[0m 0.0     \u001b[0m | \u001b[0m 0.5718  \u001b[0m | \u001b[0m 0.0     \u001b[0m | \u001b[0m 0.0     \u001b[0m | \u001b[0m 1.287   \u001b[0m | \u001b[0m 1.368   \u001b[0m | \u001b[0m 1.5     \u001b[0m | \u001b[0m 1.5     \u001b[0m |\n",
      "3340.0649921957083\n",
      "| \u001b[0m 298     \u001b[0m | \u001b[0m 3.34e+03\u001b[0m | \u001b[0m 0.3907  \u001b[0m | \u001b[0m 0.6631  \u001b[0m | \u001b[0m 0.04569 \u001b[0m | \u001b[0m 0.6905  \u001b[0m | \u001b[0m 1.321   \u001b[0m | \u001b[0m 1.123   \u001b[0m | \u001b[0m 0.9615  \u001b[0m | \u001b[0m 0.7043  \u001b[0m |\n"
     ]
    },
    {
     "name": "stdout",
     "output_type": "stream",
     "text": [
      "6421.6653215481965\n",
      "| \u001b[0m 299     \u001b[0m | \u001b[0m 6.422e+0\u001b[0m | \u001b[0m 0.0     \u001b[0m | \u001b[0m 0.5311  \u001b[0m | \u001b[0m 0.0     \u001b[0m | \u001b[0m 3.42e-10\u001b[0m | \u001b[0m 1.281   \u001b[0m | \u001b[0m 1.353   \u001b[0m | \u001b[0m 1.5     \u001b[0m | \u001b[0m 1.5     \u001b[0m |\n",
      "6057.583683898717\n",
      "| \u001b[0m 300     \u001b[0m | \u001b[0m 6.058e+0\u001b[0m | \u001b[0m 0.1317  \u001b[0m | \u001b[0m 0.1172  \u001b[0m | \u001b[0m 0.09874 \u001b[0m | \u001b[0m 0.1336  \u001b[0m | \u001b[0m 0.6408  \u001b[0m | \u001b[0m 0.7475  \u001b[0m | \u001b[0m 1.39    \u001b[0m | \u001b[0m 0.9842  \u001b[0m |\n",
      "5982.325298121465\n",
      "| \u001b[0m 301     \u001b[0m | \u001b[0m 5.982e+0\u001b[0m | \u001b[0m 0.02004 \u001b[0m | \u001b[0m 0.2089  \u001b[0m | \u001b[0m 0.1657  \u001b[0m | \u001b[0m 0.1788  \u001b[0m | \u001b[0m 0.8643  \u001b[0m | \u001b[0m 0.5827  \u001b[0m | \u001b[0m 1.203   \u001b[0m | \u001b[0m 0.7779  \u001b[0m |\n",
      "6422.974878747821\n",
      "| \u001b[0m 302     \u001b[0m | \u001b[0m 6.423e+0\u001b[0m | \u001b[0m 0.0     \u001b[0m | \u001b[0m 0.5342  \u001b[0m | \u001b[0m 0.0     \u001b[0m | \u001b[0m 0.0     \u001b[0m | \u001b[0m 1.289   \u001b[0m | \u001b[0m 1.354   \u001b[0m | \u001b[0m 1.5     \u001b[0m | \u001b[0m 1.5     \u001b[0m |\n",
      "5968.944594437808\n",
      "| \u001b[0m 303     \u001b[0m | \u001b[0m 5.969e+0\u001b[0m | \u001b[0m 0.02964 \u001b[0m | \u001b[0m 0.1983  \u001b[0m | \u001b[0m 0.05023 \u001b[0m | \u001b[0m 0.06678 \u001b[0m | \u001b[0m 0.6358  \u001b[0m | \u001b[0m 1.279   \u001b[0m | \u001b[0m 1.034   \u001b[0m | \u001b[0m 1.236   \u001b[0m |\n",
      "5769.154753173115\n",
      "| \u001b[0m 304     \u001b[0m | \u001b[0m 5.769e+0\u001b[0m | \u001b[0m 0.03799 \u001b[0m | \u001b[0m 0.3818  \u001b[0m | \u001b[0m 0.1858  \u001b[0m | \u001b[0m 0.321   \u001b[0m | \u001b[0m 0.6431  \u001b[0m | \u001b[0m 1.434   \u001b[0m | \u001b[0m 1.456   \u001b[0m | \u001b[0m 0.724   \u001b[0m |\n",
      "6422.920474043764\n",
      "| \u001b[0m 305     \u001b[0m | \u001b[0m 6.423e+0\u001b[0m | \u001b[0m 0.0     \u001b[0m | \u001b[0m 0.5329  \u001b[0m | \u001b[0m 0.0     \u001b[0m | \u001b[0m 0.0     \u001b[0m | \u001b[0m 1.297   \u001b[0m | \u001b[0m 1.355   \u001b[0m | \u001b[0m 1.5     \u001b[0m | \u001b[0m 1.5     \u001b[0m |\n",
      "1466.7456371260828\n",
      "| \u001b[0m 306     \u001b[0m | \u001b[0m 1.467e+0\u001b[0m | \u001b[0m 0.7429  \u001b[0m | \u001b[0m 0.8052  \u001b[0m | \u001b[0m 0.918   \u001b[0m | \u001b[0m 0.6645  \u001b[0m | \u001b[0m 1.058   \u001b[0m | \u001b[0m 0.3015  \u001b[0m | \u001b[0m 0.2925  \u001b[0m | \u001b[0m 0.4507  \u001b[0m |\n",
      "6416.502915260341\n",
      "| \u001b[0m 307     \u001b[0m | \u001b[0m 6.417e+0\u001b[0m | \u001b[0m 0.0     \u001b[0m | \u001b[0m 0.5555  \u001b[0m | \u001b[0m 0.0     \u001b[0m | \u001b[0m 0.0     \u001b[0m | \u001b[0m 1.263   \u001b[0m | \u001b[0m 1.404   \u001b[0m | \u001b[0m 1.5     \u001b[0m | \u001b[0m 1.5     \u001b[0m |\n",
      "6206.153448804334\n",
      "| \u001b[0m 308     \u001b[0m | \u001b[0m 6.206e+0\u001b[0m | \u001b[0m 0.05328 \u001b[0m | \u001b[0m 0.384   \u001b[0m | \u001b[0m 0.07173 \u001b[0m | \u001b[0m 0.08847 \u001b[0m | \u001b[0m 0.9491  \u001b[0m | \u001b[0m 0.8251  \u001b[0m | \u001b[0m 1.241   \u001b[0m | \u001b[0m 1.105   \u001b[0m |\n",
      "6406.672152626357\n",
      "| \u001b[0m 309     \u001b[0m | \u001b[0m 6.407e+0\u001b[0m | \u001b[0m 0.0     \u001b[0m | \u001b[0m 0.5855  \u001b[0m | \u001b[0m 4.396e-0\u001b[0m | \u001b[0m 0.02438 \u001b[0m | \u001b[0m 1.264   \u001b[0m | \u001b[0m 1.381   \u001b[0m | \u001b[0m 1.5     \u001b[0m | \u001b[0m 1.5     \u001b[0m |\n",
      "6423.467862162014\n",
      "| \u001b[0m 310     \u001b[0m | \u001b[0m 6.423e+0\u001b[0m | \u001b[0m 0.0     \u001b[0m | \u001b[0m 0.5292  \u001b[0m | \u001b[0m 0.0     \u001b[0m | \u001b[0m 0.02588 \u001b[0m | \u001b[0m 1.302   \u001b[0m | \u001b[0m 1.373   \u001b[0m | \u001b[0m 1.5     \u001b[0m | \u001b[0m 1.493   \u001b[0m |\n",
      "6422.75746422693\n",
      "| \u001b[0m 311     \u001b[0m | \u001b[0m 6.423e+0\u001b[0m | \u001b[0m 0.0     \u001b[0m | \u001b[0m 0.5292  \u001b[0m | \u001b[0m 0.0     \u001b[0m | \u001b[0m 0.02691 \u001b[0m | \u001b[0m 1.302   \u001b[0m | \u001b[0m 1.374   \u001b[0m | \u001b[0m 1.5     \u001b[0m | \u001b[0m 1.5     \u001b[0m |\n",
      "6422.3010129409195\n",
      "| \u001b[0m 312     \u001b[0m | \u001b[0m 6.422e+0\u001b[0m | \u001b[0m 0.0     \u001b[0m | \u001b[0m 0.5319  \u001b[0m | \u001b[0m 0.0     \u001b[0m | \u001b[0m 0.01662 \u001b[0m | \u001b[0m 1.296   \u001b[0m | \u001b[0m 1.368   \u001b[0m | \u001b[0m 1.5     \u001b[0m | \u001b[0m 1.49    \u001b[0m |\n",
      "6354.403326480411\n",
      "| \u001b[0m 313     \u001b[0m | \u001b[0m 6.354e+0\u001b[0m | \u001b[0m 0.000190\u001b[0m | \u001b[0m 0.5303  \u001b[0m | \u001b[0m 0.000159\u001b[0m | \u001b[0m 0.001849\u001b[0m | \u001b[0m 0.9439  \u001b[0m | \u001b[0m 0.8804  \u001b[0m | \u001b[0m 1.477   \u001b[0m | \u001b[0m 1.489   \u001b[0m |\n",
      "6415.895652747104\n",
      "| \u001b[0m 314     \u001b[0m | \u001b[0m 6.416e+0\u001b[0m | \u001b[0m 0.0     \u001b[0m | \u001b[0m 0.5727  \u001b[0m | \u001b[0m 0.0     \u001b[0m | \u001b[0m 0.0     \u001b[0m | \u001b[0m 1.272   \u001b[0m | \u001b[0m 1.355   \u001b[0m | \u001b[0m 1.5     \u001b[0m | \u001b[0m 1.5     \u001b[0m |\n",
      "6041.657935554644\n",
      "| \u001b[0m 315     \u001b[0m | \u001b[0m 6.042e+0\u001b[0m | \u001b[0m 0.0963  \u001b[0m | \u001b[0m 0.4725  \u001b[0m | \u001b[0m 0.01281 \u001b[0m | \u001b[0m 0.1144  \u001b[0m | \u001b[0m 0.6634  \u001b[0m | \u001b[0m 0.9103  \u001b[0m | \u001b[0m 1.326   \u001b[0m | \u001b[0m 0.8455  \u001b[0m |\n",
      "6247.105210994346\n",
      "| \u001b[0m 316     \u001b[0m | \u001b[0m 6.247e+0\u001b[0m | \u001b[0m 0.00557 \u001b[0m | \u001b[0m 0.1576  \u001b[0m | \u001b[0m 0.1237  \u001b[0m | \u001b[0m 0.2374  \u001b[0m | \u001b[0m 0.7918  \u001b[0m | \u001b[0m 0.8718  \u001b[0m | \u001b[0m 1.351   \u001b[0m | \u001b[0m 1.436   \u001b[0m |\n",
      "6423.908310237559\n",
      "| \u001b[0m 317     \u001b[0m | \u001b[0m 6.424e+0\u001b[0m | \u001b[0m 0.0     \u001b[0m | \u001b[0m 0.5291  \u001b[0m | \u001b[0m 0.0     \u001b[0m | \u001b[0m 0.02547 \u001b[0m | \u001b[0m 1.298   \u001b[0m | \u001b[0m 1.369   \u001b[0m | \u001b[0m 1.5     \u001b[0m | \u001b[0m 1.497   \u001b[0m |\n",
      "6426.108017050245\n",
      "| \u001b[0m 318     \u001b[0m | \u001b[0m 6.426e+0\u001b[0m | \u001b[0m 0.0     \u001b[0m | \u001b[0m 0.5217  \u001b[0m | \u001b[0m 0.0     \u001b[0m | \u001b[0m 0.0     \u001b[0m | \u001b[0m 1.318   \u001b[0m | \u001b[0m 1.155   \u001b[0m | \u001b[0m 1.5     \u001b[0m | \u001b[0m 1.5     \u001b[0m |\n",
      "6422.669809858862\n",
      "| \u001b[0m 319     \u001b[0m | \u001b[0m 6.423e+0\u001b[0m | \u001b[0m 0.0     \u001b[0m | \u001b[0m 0.526   \u001b[0m | \u001b[0m 0.0     \u001b[0m | \u001b[0m 0.0299  \u001b[0m | \u001b[0m 1.3     \u001b[0m | \u001b[0m 1.364   \u001b[0m | \u001b[0m 1.5     \u001b[0m | \u001b[0m 1.495   \u001b[0m |\n",
      "6008.887592239112\n",
      "| \u001b[0m 320     \u001b[0m | \u001b[0m 6.009e+0\u001b[0m | \u001b[0m 0.03256 \u001b[0m | \u001b[0m 0.3182  \u001b[0m | \u001b[0m 0.05813 \u001b[0m | \u001b[0m 0.154   \u001b[0m | \u001b[0m 0.6519  \u001b[0m | \u001b[0m 0.6651  \u001b[0m | \u001b[0m 1.392   \u001b[0m | \u001b[0m 0.8006  \u001b[0m |\n",
      "6243.676800355467\n",
      "| \u001b[0m 321     \u001b[0m | \u001b[0m 6.244e+0\u001b[0m | \u001b[0m 0.04997 \u001b[0m | \u001b[0m 0.1436  \u001b[0m | \u001b[0m 0.1539  \u001b[0m | \u001b[0m 0.2605  \u001b[0m | \u001b[0m 0.6797  \u001b[0m | \u001b[0m 0.9456  \u001b[0m | \u001b[0m 1.383   \u001b[0m | \u001b[0m 1.487   \u001b[0m |\n",
      "6033.812965032302\n",
      "| \u001b[0m 322     \u001b[0m | \u001b[0m 6.034e+0\u001b[0m | \u001b[0m 0.03333 \u001b[0m | \u001b[0m 0.3334  \u001b[0m | \u001b[0m 0.1834  \u001b[0m | \u001b[0m 0.2482  \u001b[0m | \u001b[0m 0.5416  \u001b[0m | \u001b[0m 0.8938  \u001b[0m | \u001b[0m 1.332   \u001b[0m | \u001b[0m 1.437   \u001b[0m |\n",
      "6335.634742330277\n",
      "| \u001b[0m 323     \u001b[0m | \u001b[0m 6.336e+0\u001b[0m | \u001b[0m 0.07192 \u001b[0m | \u001b[0m 0.4433  \u001b[0m | \u001b[0m 0.003425\u001b[0m | \u001b[0m 0.03351 \u001b[0m | \u001b[0m 0.9732  \u001b[0m | \u001b[0m 1.192   \u001b[0m | \u001b[0m 1.321   \u001b[0m | \u001b[0m 1.427   \u001b[0m |\n",
      "6414.779622804493\n",
      "| \u001b[0m 324     \u001b[0m | \u001b[0m 6.415e+0\u001b[0m | \u001b[0m 0.0     \u001b[0m | \u001b[0m 0.5663  \u001b[0m | \u001b[0m 0.0     \u001b[0m | \u001b[0m 0.0     \u001b[0m | \u001b[0m 1.237   \u001b[0m | \u001b[0m 1.232   \u001b[0m | \u001b[0m 1.5     \u001b[0m | \u001b[0m 1.5     \u001b[0m |\n",
      "6434.971077932298\n",
      "| \u001b[0m 325     \u001b[0m | \u001b[0m 6.435e+0\u001b[0m | \u001b[0m 0.0     \u001b[0m | \u001b[0m 0.534   \u001b[0m | \u001b[0m 0.0     \u001b[0m | \u001b[0m 0.0     \u001b[0m | \u001b[0m 1.365   \u001b[0m | \u001b[0m 1.144   \u001b[0m | \u001b[0m 1.5     \u001b[0m | \u001b[0m 1.5     \u001b[0m |\n",
      "6426.233007806737\n",
      "| \u001b[0m 326     \u001b[0m | \u001b[0m 6.426e+0\u001b[0m | \u001b[0m 0.0     \u001b[0m | \u001b[0m 0.5291  \u001b[0m | \u001b[0m 0.0     \u001b[0m | \u001b[0m 0.03041 \u001b[0m | \u001b[0m 1.293   \u001b[0m | \u001b[0m 1.371   \u001b[0m | \u001b[0m 1.5     \u001b[0m | \u001b[0m 1.494   \u001b[0m |\n",
      "6391.814263151384\n",
      "| \u001b[0m 327     \u001b[0m | \u001b[0m 6.392e+0\u001b[0m | \u001b[0m 0.0     \u001b[0m | \u001b[0m 0.4875  \u001b[0m | \u001b[0m 0.0     \u001b[0m | \u001b[0m 0.1053  \u001b[0m | \u001b[0m 1.202   \u001b[0m | \u001b[0m 1.5     \u001b[0m | \u001b[0m 1.5     \u001b[0m | \u001b[0m 1.399   \u001b[0m |\n",
      "6104.487917847513\n",
      "| \u001b[0m 328     \u001b[0m | \u001b[0m 6.104e+0\u001b[0m | \u001b[0m 0.1313  \u001b[0m | \u001b[0m 0.5291  \u001b[0m | \u001b[0m 0.07882 \u001b[0m | \u001b[0m 0.04847 \u001b[0m | \u001b[0m 0.6917  \u001b[0m | \u001b[0m 1.276   \u001b[0m | \u001b[0m 1.22    \u001b[0m | \u001b[0m 1.456   \u001b[0m |\n",
      "6397.625056908425\n",
      "| \u001b[0m 329     \u001b[0m | \u001b[0m 6.398e+0\u001b[0m | \u001b[0m 0.0     \u001b[0m | \u001b[0m 0.5183  \u001b[0m | \u001b[0m 0.0     \u001b[0m | \u001b[0m 0.07626 \u001b[0m | \u001b[0m 1.261   \u001b[0m | \u001b[0m 1.5     \u001b[0m | \u001b[0m 1.5     \u001b[0m | \u001b[0m 1.464   \u001b[0m |\n",
      "6197.799959516038\n",
      "| \u001b[0m 330     \u001b[0m | \u001b[0m 6.198e+0\u001b[0m | \u001b[0m 0.0178  \u001b[0m | \u001b[0m 0.3576  \u001b[0m | \u001b[0m 0.08561 \u001b[0m | \u001b[0m 0.0426  \u001b[0m | \u001b[0m 0.8599  \u001b[0m | \u001b[0m 0.8391  \u001b[0m | \u001b[0m 1.249   \u001b[0m | \u001b[0m 1.227   \u001b[0m |\n",
      "5827.573445505573\n",
      "| \u001b[0m 331     \u001b[0m | \u001b[0m 5.828e+0\u001b[0m | \u001b[0m 0.1669  \u001b[0m | \u001b[0m 0.3959  \u001b[0m | \u001b[0m 0.1587  \u001b[0m | \u001b[0m 0.1917  \u001b[0m | \u001b[0m 0.4115  \u001b[0m | \u001b[0m 1.075   \u001b[0m | \u001b[0m 1.312   \u001b[0m | \u001b[0m 1.389   \u001b[0m |\n",
      "6405.018532408814\n",
      "| \u001b[0m 332     \u001b[0m | \u001b[0m 6.405e+0\u001b[0m | \u001b[0m 0.0     \u001b[0m | \u001b[0m 0.4339  \u001b[0m | \u001b[0m 0.0     \u001b[0m | \u001b[0m 0.117   \u001b[0m | \u001b[0m 1.138   \u001b[0m | \u001b[0m 1.5     \u001b[0m | \u001b[0m 1.5     \u001b[0m | \u001b[0m 1.453   \u001b[0m |\n",
      "6416.053237874497\n",
      "| \u001b[0m 333     \u001b[0m | \u001b[0m 6.416e+0\u001b[0m | \u001b[0m 0.0     \u001b[0m | \u001b[0m 0.5322  \u001b[0m | \u001b[0m 0.0     \u001b[0m | \u001b[0m 0.04431 \u001b[0m | \u001b[0m 1.287   \u001b[0m | \u001b[0m 1.386   \u001b[0m | \u001b[0m 1.5     \u001b[0m | \u001b[0m 1.481   \u001b[0m |\n",
      "6410.9059836646875\n",
      "| \u001b[0m 334     \u001b[0m | \u001b[0m 6.411e+0\u001b[0m | \u001b[0m 0.0     \u001b[0m | \u001b[0m 0.5904  \u001b[0m | \u001b[0m 0.0     \u001b[0m | \u001b[0m 0.0     \u001b[0m | \u001b[0m 1.28    \u001b[0m | \u001b[0m 1.391   \u001b[0m | \u001b[0m 1.5     \u001b[0m | \u001b[0m 1.5     \u001b[0m |\n",
      "6410.184298875268\n",
      "| \u001b[0m 335     \u001b[0m | \u001b[0m 6.41e+03\u001b[0m | \u001b[0m 0.0     \u001b[0m | \u001b[0m 0.5726  \u001b[0m | \u001b[0m 0.0     \u001b[0m | \u001b[0m 0.0     \u001b[0m | \u001b[0m 1.213   \u001b[0m | \u001b[0m 1.191   \u001b[0m | \u001b[0m 1.5     \u001b[0m | \u001b[0m 1.492   \u001b[0m |\n",
      "6432.840193938039\n",
      "| \u001b[0m 336     \u001b[0m | \u001b[0m 6.433e+0\u001b[0m | \u001b[0m 0.0     \u001b[0m | \u001b[0m 0.5335  \u001b[0m | \u001b[0m 0.0     \u001b[0m | \u001b[0m 0.0     \u001b[0m | \u001b[0m 1.351   \u001b[0m | \u001b[0m 1.154   \u001b[0m | \u001b[0m 1.5     \u001b[0m | \u001b[0m 1.5     \u001b[0m |\n"
     ]
    },
    {
     "name": "stdout",
     "output_type": "stream",
     "text": [
      "5715.180502545953\n",
      "| \u001b[0m 337     \u001b[0m | \u001b[0m 5.715e+0\u001b[0m | \u001b[0m 0.08095 \u001b[0m | \u001b[0m 0.3134  \u001b[0m | \u001b[0m 0.1954  \u001b[0m | \u001b[0m 0.02371 \u001b[0m | \u001b[0m 0.4261  \u001b[0m | \u001b[0m 0.4453  \u001b[0m | \u001b[0m 1.127   \u001b[0m | \u001b[0m 0.7372  \u001b[0m |\n",
      "5913.390622917189\n",
      "| \u001b[0m 338     \u001b[0m | \u001b[0m 5.913e+0\u001b[0m | \u001b[0m 0.05034 \u001b[0m | \u001b[0m 0.2617  \u001b[0m | \u001b[0m 0.157   \u001b[0m | \u001b[0m 0.1181  \u001b[0m | \u001b[0m 0.6563  \u001b[0m | \u001b[0m 0.5962  \u001b[0m | \u001b[0m 1.258   \u001b[0m | \u001b[0m 0.7273  \u001b[0m |\n",
      "6426.387979317888\n",
      "| \u001b[0m 339     \u001b[0m | \u001b[0m 6.426e+0\u001b[0m | \u001b[0m 0.0     \u001b[0m | \u001b[0m 0.5282  \u001b[0m | \u001b[0m 0.0     \u001b[0m | \u001b[0m 0.0     \u001b[0m | \u001b[0m 1.296   \u001b[0m | \u001b[0m 1.139   \u001b[0m | \u001b[0m 1.5     \u001b[0m | \u001b[0m 1.5     \u001b[0m |\n",
      "6421.9576380133\n",
      "| \u001b[0m 340     \u001b[0m | \u001b[0m 6.422e+0\u001b[0m | \u001b[0m 0.0     \u001b[0m | \u001b[0m 0.5343  \u001b[0m | \u001b[0m 0.0     \u001b[0m | \u001b[0m 0.0     \u001b[0m | \u001b[0m 1.271   \u001b[0m | \u001b[0m 1.121   \u001b[0m | \u001b[0m 1.5     \u001b[0m | \u001b[0m 1.5     \u001b[0m |\n",
      "6204.36860038605\n",
      "| \u001b[0m 341     \u001b[0m | \u001b[0m 6.204e+0\u001b[0m | \u001b[0m 0.05428 \u001b[0m | \u001b[0m 0.385   \u001b[0m | \u001b[0m 0.07022 \u001b[0m | \u001b[0m 0.08927 \u001b[0m | \u001b[0m 0.9525  \u001b[0m | \u001b[0m 0.824   \u001b[0m | \u001b[0m 1.239   \u001b[0m | \u001b[0m 1.103   \u001b[0m |\n",
      "6050.0646797633335\n",
      "| \u001b[0m 342     \u001b[0m | \u001b[0m 6.05e+03\u001b[0m | \u001b[0m 0.128   \u001b[0m | \u001b[0m 0.02048 \u001b[0m | \u001b[0m 0.06855 \u001b[0m | \u001b[0m 0.081   \u001b[0m | \u001b[0m 0.7983  \u001b[0m | \u001b[0m 1.121   \u001b[0m | \u001b[0m 1.487   \u001b[0m | \u001b[0m 1.177   \u001b[0m |\n",
      "6213.0669398853715\n",
      "| \u001b[0m 343     \u001b[0m | \u001b[0m 6.213e+0\u001b[0m | \u001b[0m 0.05368 \u001b[0m | \u001b[0m 0.2893  \u001b[0m | \u001b[0m 0.1222  \u001b[0m | \u001b[0m 0.06033 \u001b[0m | \u001b[0m 0.8564  \u001b[0m | \u001b[0m 0.9536  \u001b[0m | \u001b[0m 1.259   \u001b[0m | \u001b[0m 1.174   \u001b[0m |\n",
      "6144.128633859185\n",
      "| \u001b[0m 344     \u001b[0m | \u001b[0m 6.144e+0\u001b[0m | \u001b[0m 0.01588 \u001b[0m | \u001b[0m 0.4661  \u001b[0m | \u001b[0m 0.006214\u001b[0m | \u001b[0m 0.07493 \u001b[0m | \u001b[0m 0.6346  \u001b[0m | \u001b[0m 0.8116  \u001b[0m | \u001b[0m 1.497   \u001b[0m | \u001b[0m 0.9675  \u001b[0m |\n",
      "6405.476976802899\n",
      "| \u001b[0m 345     \u001b[0m | \u001b[0m 6.405e+0\u001b[0m | \u001b[0m 0.0     \u001b[0m | \u001b[0m 0.5216  \u001b[0m | \u001b[0m 0.0     \u001b[0m | \u001b[0m 0.04909 \u001b[0m | \u001b[0m 1.176   \u001b[0m | \u001b[0m 1.5     \u001b[0m | \u001b[0m 1.5     \u001b[0m | \u001b[0m 1.5     \u001b[0m |\n",
      "5996.264327683763\n",
      "| \u001b[0m 346     \u001b[0m | \u001b[0m 5.996e+0\u001b[0m | \u001b[0m 0.03448 \u001b[0m | \u001b[0m 0.6545  \u001b[0m | \u001b[0m 0.06556 \u001b[0m | \u001b[0m 0.1004  \u001b[0m | \u001b[0m 0.7766  \u001b[0m | \u001b[0m 0.8243  \u001b[0m | \u001b[0m 1.361   \u001b[0m | \u001b[0m 1.213   \u001b[0m |\n",
      "6436.854278273237\n",
      "| \u001b[0m 347     \u001b[0m | \u001b[0m 6.437e+0\u001b[0m | \u001b[0m 0.0     \u001b[0m | \u001b[0m 0.5383  \u001b[0m | \u001b[0m 0.0     \u001b[0m | \u001b[0m 0.0     \u001b[0m | \u001b[0m 1.366   \u001b[0m | \u001b[0m 1.149   \u001b[0m | \u001b[0m 1.5     \u001b[0m | \u001b[0m 1.5     \u001b[0m |\n",
      "6212.2214221020195\n",
      "| \u001b[0m 348     \u001b[0m | \u001b[0m 6.212e+0\u001b[0m | \u001b[0m 0.09565 \u001b[0m | \u001b[0m 0.1007  \u001b[0m | \u001b[0m 0.1326  \u001b[0m | \u001b[0m 0.2161  \u001b[0m | \u001b[0m 0.8172  \u001b[0m | \u001b[0m 0.6143  \u001b[0m | \u001b[0m 1.285   \u001b[0m | \u001b[0m 1.466   \u001b[0m |\n",
      "6430.248925078565\n",
      "| \u001b[0m 349     \u001b[0m | \u001b[0m 6.43e+03\u001b[0m | \u001b[0m 0.0     \u001b[0m | \u001b[0m 0.5425  \u001b[0m | \u001b[0m 0.0     \u001b[0m | \u001b[0m 0.0     \u001b[0m | \u001b[0m 1.328   \u001b[0m | \u001b[0m 1.155   \u001b[0m | \u001b[0m 1.5     \u001b[0m | \u001b[0m 1.5     \u001b[0m |\n",
      "6266.076907079888\n",
      "| \u001b[0m 350     \u001b[0m | \u001b[0m 6.266e+0\u001b[0m | \u001b[0m 0.06365 \u001b[0m | \u001b[0m 0.365   \u001b[0m | \u001b[0m 0.1289  \u001b[0m | \u001b[0m 0.1622  \u001b[0m | \u001b[0m 1.127   \u001b[0m | \u001b[0m 1.216   \u001b[0m | \u001b[0m 1.417   \u001b[0m | \u001b[0m 1.485   \u001b[0m |\n",
      "6277.611620374197\n",
      "| \u001b[0m 351     \u001b[0m | \u001b[0m 6.278e+0\u001b[0m | \u001b[0m 0.03511 \u001b[0m | \u001b[0m 0.3507  \u001b[0m | \u001b[0m 0.1313  \u001b[0m | \u001b[0m 0.1324  \u001b[0m | \u001b[0m 0.6977  \u001b[0m | \u001b[0m 1.168   \u001b[0m | \u001b[0m 1.44    \u001b[0m | \u001b[0m 1.438   \u001b[0m |\n",
      "5933.59417217253\n",
      "| \u001b[0m 352     \u001b[0m | \u001b[0m 5.934e+0\u001b[0m | \u001b[0m 0.1619  \u001b[0m | \u001b[0m 0.3089  \u001b[0m | \u001b[0m 0.04483 \u001b[0m | \u001b[0m 0.2667  \u001b[0m | \u001b[0m 0.6377  \u001b[0m | \u001b[0m 0.6179  \u001b[0m | \u001b[0m 1.332   \u001b[0m | \u001b[0m 1.029   \u001b[0m |\n",
      "6391.319582219313\n",
      "| \u001b[0m 353     \u001b[0m | \u001b[0m 6.391e+0\u001b[0m | \u001b[0m 0.0     \u001b[0m | \u001b[0m 0.4336  \u001b[0m | \u001b[0m 0.05288 \u001b[0m | \u001b[0m 0.09518 \u001b[0m | \u001b[0m 1.157   \u001b[0m | \u001b[0m 1.5     \u001b[0m | \u001b[0m 1.497   \u001b[0m | \u001b[0m 1.429   \u001b[0m |\n",
      "6423.278974461533\n",
      "| \u001b[0m 354     \u001b[0m | \u001b[0m 6.423e+0\u001b[0m | \u001b[0m 0.0     \u001b[0m | \u001b[0m 0.5279  \u001b[0m | \u001b[0m 1.295e-0\u001b[0m | \u001b[0m 0.02703 \u001b[0m | \u001b[0m 1.293   \u001b[0m | \u001b[0m 1.378   \u001b[0m | \u001b[0m 1.5     \u001b[0m | \u001b[0m 1.497   \u001b[0m |\n",
      "2180.7282326479335\n",
      "| \u001b[0m 355     \u001b[0m | \u001b[0m 2.181e+0\u001b[0m | \u001b[0m 0.4035  \u001b[0m | \u001b[0m 0.3082  \u001b[0m | \u001b[0m 0.6449  \u001b[0m | \u001b[0m 0.8432  \u001b[0m | \u001b[0m 1.43    \u001b[0m | \u001b[0m 1.069   \u001b[0m | \u001b[0m 0.3327  \u001b[0m | \u001b[0m 0.9869  \u001b[0m |\n",
      "6239.191330664235\n",
      "| \u001b[0m 356     \u001b[0m | \u001b[0m 6.239e+0\u001b[0m | \u001b[0m 0.05399 \u001b[0m | \u001b[0m 0.5384  \u001b[0m | \u001b[0m 0.004529\u001b[0m | \u001b[0m 0.1749  \u001b[0m | \u001b[0m 1.377   \u001b[0m | \u001b[0m 1.403   \u001b[0m | \u001b[0m 1.454   \u001b[0m | \u001b[0m 1.366   \u001b[0m |\n",
      "6334.316005346472\n",
      "| \u001b[0m 357     \u001b[0m | \u001b[0m 6.334e+0\u001b[0m | \u001b[0m 0.03148 \u001b[0m | \u001b[0m 0.4254  \u001b[0m | \u001b[0m 0.1061  \u001b[0m | \u001b[0m 0.04655 \u001b[0m | \u001b[0m 0.9473  \u001b[0m | \u001b[0m 1.1     \u001b[0m | \u001b[0m 1.371   \u001b[0m | \u001b[0m 1.426   \u001b[0m |\n",
      "6074.83261426196\n",
      "| \u001b[0m 358     \u001b[0m | \u001b[0m 6.075e+0\u001b[0m | \u001b[0m 0.0214  \u001b[0m | \u001b[0m 0.2928  \u001b[0m | \u001b[0m 0.045   \u001b[0m | \u001b[0m 0.1399  \u001b[0m | \u001b[0m 0.5132  \u001b[0m | \u001b[0m 0.7075  \u001b[0m | \u001b[0m 1.471   \u001b[0m | \u001b[0m 1.08    \u001b[0m |\n",
      "5980.376761494189\n",
      "| \u001b[0m 359     \u001b[0m | \u001b[0m 5.98e+03\u001b[0m | \u001b[0m 0.08199 \u001b[0m | \u001b[0m 0.2191  \u001b[0m | \u001b[0m 0.1798  \u001b[0m | \u001b[0m 0.3561  \u001b[0m | \u001b[0m 0.9087  \u001b[0m | \u001b[0m 0.903   \u001b[0m | \u001b[0m 1.211   \u001b[0m | \u001b[0m 1.341   \u001b[0m |\n",
      "1976.3152826591365\n",
      "| \u001b[0m 360     \u001b[0m | \u001b[0m 1.976e+0\u001b[0m | \u001b[0m 0.5113  \u001b[0m | \u001b[0m 0.6721  \u001b[0m | \u001b[0m 0.3346  \u001b[0m | \u001b[0m 0.8412  \u001b[0m | \u001b[0m 0.6703  \u001b[0m | \u001b[0m 1.265   \u001b[0m | \u001b[0m 0.9921  \u001b[0m | \u001b[0m 0.6186  \u001b[0m |\n",
      "6420.47394701703\n",
      "| \u001b[0m 361     \u001b[0m | \u001b[0m 6.42e+03\u001b[0m | \u001b[0m 0.01786 \u001b[0m | \u001b[0m 0.5313  \u001b[0m | \u001b[0m 0.0     \u001b[0m | \u001b[0m 0.02164 \u001b[0m | \u001b[0m 1.293   \u001b[0m | \u001b[0m 1.37    \u001b[0m | \u001b[0m 1.5     \u001b[0m | \u001b[0m 1.5     \u001b[0m |\n",
      "5910.297534387874\n",
      "| \u001b[0m 362     \u001b[0m | \u001b[0m 5.91e+03\u001b[0m | \u001b[0m 0.05087 \u001b[0m | \u001b[0m 0.2574  \u001b[0m | \u001b[0m 0.17    \u001b[0m | \u001b[0m 0.1153  \u001b[0m | \u001b[0m 0.6654  \u001b[0m | \u001b[0m 0.5825  \u001b[0m | \u001b[0m 1.25    \u001b[0m | \u001b[0m 0.7137  \u001b[0m |\n",
      "5851.664951979892\n",
      "| \u001b[0m 363     \u001b[0m | \u001b[0m 5.852e+0\u001b[0m | \u001b[0m 0.2369  \u001b[0m | \u001b[0m 0.4508  \u001b[0m | \u001b[0m 0.06775 \u001b[0m | \u001b[0m 0.1651  \u001b[0m | \u001b[0m 0.73    \u001b[0m | \u001b[0m 1.377   \u001b[0m | \u001b[0m 1.143   \u001b[0m | \u001b[0m 1.41    \u001b[0m |\n",
      "5764.680644267045\n",
      "| \u001b[0m 364     \u001b[0m | \u001b[0m 5.765e+0\u001b[0m | \u001b[0m 0.08282 \u001b[0m | \u001b[0m 0.2625  \u001b[0m | \u001b[0m 0.2268  \u001b[0m | \u001b[0m 0.2687  \u001b[0m | \u001b[0m 0.6965  \u001b[0m | \u001b[0m 0.6523  \u001b[0m | \u001b[0m 1.252   \u001b[0m | \u001b[0m 0.7313  \u001b[0m |\n",
      "3614.1670875225045\n",
      "| \u001b[0m 365     \u001b[0m | \u001b[0m 3.614e+0\u001b[0m | \u001b[0m 0.1702  \u001b[0m | \u001b[0m 0.6069  \u001b[0m | \u001b[0m 0.332   \u001b[0m | \u001b[0m 0.4914  \u001b[0m | \u001b[0m 1.333   \u001b[0m | \u001b[0m 0.07964 \u001b[0m | \u001b[0m 0.1093  \u001b[0m | \u001b[0m 0.1617  \u001b[0m |\n",
      "6169.33043526147\n",
      "| \u001b[0m 366     \u001b[0m | \u001b[0m 6.169e+0\u001b[0m | \u001b[0m 0.03206 \u001b[0m | \u001b[0m 0.2559  \u001b[0m | \u001b[0m 0.1695  \u001b[0m | \u001b[0m 0.08171 \u001b[0m | \u001b[0m 0.9194  \u001b[0m | \u001b[0m 0.9738  \u001b[0m | \u001b[0m 1.271   \u001b[0m | \u001b[0m 0.9327  \u001b[0m |\n",
      "5853.245536737118\n",
      "| \u001b[0m 367     \u001b[0m | \u001b[0m 5.853e+0\u001b[0m | \u001b[0m 0.04077 \u001b[0m | \u001b[0m 0.06473 \u001b[0m | \u001b[0m 0.07764 \u001b[0m | \u001b[0m 0.09152 \u001b[0m | \u001b[0m 0.373   \u001b[0m | \u001b[0m 1.235   \u001b[0m | \u001b[0m 1.232   \u001b[0m | \u001b[0m 1.325   \u001b[0m |\n",
      "5751.296874623522\n",
      "| \u001b[0m 368     \u001b[0m | \u001b[0m 5.751e+0\u001b[0m | \u001b[0m 0.1654  \u001b[0m | \u001b[0m 0.3312  \u001b[0m | \u001b[0m 0.1678  \u001b[0m | \u001b[0m 0.3034  \u001b[0m | \u001b[0m 1.08    \u001b[0m | \u001b[0m 0.8129  \u001b[0m | \u001b[0m 1.105   \u001b[0m | \u001b[0m 1.346   \u001b[0m |\n",
      "6042.907714331072\n",
      "| \u001b[0m 369     \u001b[0m | \u001b[0m 6.043e+0\u001b[0m | \u001b[0m 0.1634  \u001b[0m | \u001b[0m 0.2518  \u001b[0m | \u001b[0m 0.1992  \u001b[0m | \u001b[0m 0.2008  \u001b[0m | \u001b[0m 0.9792  \u001b[0m | \u001b[0m 0.9399  \u001b[0m | \u001b[0m 1.125   \u001b[0m | \u001b[0m 1.433   \u001b[0m |\n",
      "6411.649410610461\n",
      "| \u001b[0m 370     \u001b[0m | \u001b[0m 6.412e+0\u001b[0m | \u001b[0m 0.0     \u001b[0m | \u001b[0m 0.572   \u001b[0m | \u001b[0m 0.006947\u001b[0m | \u001b[0m 0.0     \u001b[0m | \u001b[0m 1.219   \u001b[0m | \u001b[0m 1.199   \u001b[0m | \u001b[0m 1.5     \u001b[0m | \u001b[0m 1.5     \u001b[0m |\n",
      "6202.108314002071\n",
      "| \u001b[0m 371     \u001b[0m | \u001b[0m 6.202e+0\u001b[0m | \u001b[0m 0.0165  \u001b[0m | \u001b[0m 0.5697  \u001b[0m | \u001b[0m 0.1108  \u001b[0m | \u001b[0m 0.08309 \u001b[0m | \u001b[0m 1.271   \u001b[0m | \u001b[0m 1.218   \u001b[0m | \u001b[0m 1.249   \u001b[0m | \u001b[0m 1.434   \u001b[0m |\n",
      "6418.70408397491\n",
      "| \u001b[0m 372     \u001b[0m | \u001b[0m 6.419e+0\u001b[0m | \u001b[0m 0.002357\u001b[0m | \u001b[0m 0.5618  \u001b[0m | \u001b[0m 0.000151\u001b[0m | \u001b[0m 0.003885\u001b[0m | \u001b[0m 1.25    \u001b[0m | \u001b[0m 1.336   \u001b[0m | \u001b[0m 1.5     \u001b[0m | \u001b[0m 1.498   \u001b[0m |\n",
      "2457.944177914042\n",
      "| \u001b[0m 373     \u001b[0m | \u001b[0m 2.458e+0\u001b[0m | \u001b[0m 0.6906  \u001b[0m | \u001b[0m 0.8374  \u001b[0m | \u001b[0m 0.489   \u001b[0m | \u001b[0m 0.1752  \u001b[0m | \u001b[0m 1.276   \u001b[0m | \u001b[0m 1.479   \u001b[0m | \u001b[0m 0.2187  \u001b[0m | \u001b[0m 1.423   \u001b[0m |\n",
      "6162.91696852387\n",
      "| \u001b[0m 374     \u001b[0m | \u001b[0m 6.163e+0\u001b[0m | \u001b[0m 0.06431 \u001b[0m | \u001b[0m 0.3373  \u001b[0m | \u001b[0m 0.1844  \u001b[0m | \u001b[0m 0.1091  \u001b[0m | \u001b[0m 0.897   \u001b[0m | \u001b[0m 0.9003  \u001b[0m | \u001b[0m 1.357   \u001b[0m | \u001b[0m 0.9943  \u001b[0m |\n"
     ]
    },
    {
     "name": "stdout",
     "output_type": "stream",
     "text": [
      "6388.7626808463365\n",
      "| \u001b[0m 375     \u001b[0m | \u001b[0m 6.389e+0\u001b[0m | \u001b[0m 0.0     \u001b[0m | \u001b[0m 0.4562  \u001b[0m | \u001b[0m 0.0     \u001b[0m | \u001b[0m 0.09963 \u001b[0m | \u001b[0m 1.166   \u001b[0m | \u001b[0m 1.5     \u001b[0m | \u001b[0m 1.394   \u001b[0m | \u001b[0m 1.436   \u001b[0m |\n",
      "6392.257895659341\n",
      "| \u001b[0m 376     \u001b[0m | \u001b[0m 6.392e+0\u001b[0m | \u001b[0m 0.04948 \u001b[0m | \u001b[0m 0.5716  \u001b[0m | \u001b[0m 0.0     \u001b[0m | \u001b[0m 0.0     \u001b[0m | \u001b[0m 1.212   \u001b[0m | \u001b[0m 1.23    \u001b[0m | \u001b[0m 1.5     \u001b[0m | \u001b[0m 1.5     \u001b[0m |\n",
      "6419.972348429497\n",
      "| \u001b[0m 377     \u001b[0m | \u001b[0m 6.42e+03\u001b[0m | \u001b[0m 0.0     \u001b[0m | \u001b[0m 0.5817  \u001b[0m | \u001b[0m 0.0     \u001b[0m | \u001b[0m 0.0     \u001b[0m | \u001b[0m 1.34    \u001b[0m | \u001b[0m 1.425   \u001b[0m | \u001b[0m 1.5     \u001b[0m | \u001b[0m 1.5     \u001b[0m |\n",
      "6034.484200250484\n",
      "| \u001b[0m 378     \u001b[0m | \u001b[0m 6.034e+0\u001b[0m | \u001b[0m 0.06528 \u001b[0m | \u001b[0m 0.2175  \u001b[0m | \u001b[0m 0.04074 \u001b[0m | \u001b[0m 0.1863  \u001b[0m | \u001b[0m 0.7182  \u001b[0m | \u001b[0m 0.5797  \u001b[0m | \u001b[0m 1.43    \u001b[0m | \u001b[0m 0.8757  \u001b[0m |\n",
      "6033.205430614142\n",
      "| \u001b[0m 379     \u001b[0m | \u001b[0m 6.033e+0\u001b[0m | \u001b[0m 0.05869 \u001b[0m | \u001b[0m 0.637   \u001b[0m | \u001b[0m 0.1783  \u001b[0m | \u001b[0m 0.008214\u001b[0m | \u001b[0m 1.18    \u001b[0m | \u001b[0m 1.397   \u001b[0m | \u001b[0m 1.449   \u001b[0m | \u001b[0m 1.308   \u001b[0m |\n",
      "5991.0598058654805\n",
      "| \u001b[0m 380     \u001b[0m | \u001b[0m 5.991e+0\u001b[0m | \u001b[0m 0.03007 \u001b[0m | \u001b[0m 0.319   \u001b[0m | \u001b[0m 0.05429 \u001b[0m | \u001b[0m 0.1489  \u001b[0m | \u001b[0m 0.6477  \u001b[0m | \u001b[0m 0.6591  \u001b[0m | \u001b[0m 1.385   \u001b[0m | \u001b[0m 0.7974  \u001b[0m |\n",
      "6422.7197765792125\n",
      "| \u001b[0m 381     \u001b[0m | \u001b[0m 6.423e+0\u001b[0m | \u001b[0m 0.0     \u001b[0m | \u001b[0m 0.5703  \u001b[0m | \u001b[0m 0.0     \u001b[0m | \u001b[0m 0.001213\u001b[0m | \u001b[0m 1.323   \u001b[0m | \u001b[0m 1.414   \u001b[0m | \u001b[0m 1.5     \u001b[0m | \u001b[0m 1.5     \u001b[0m |\n",
      "2854.7890696416653\n",
      "| \u001b[0m 382     \u001b[0m | \u001b[0m 2.855e+0\u001b[0m | \u001b[0m 0.9337  \u001b[0m | \u001b[0m 0.9187  \u001b[0m | \u001b[0m 0.1533  \u001b[0m | \u001b[0m 0.02737 \u001b[0m | \u001b[0m 0.131   \u001b[0m | \u001b[0m 1.208   \u001b[0m | \u001b[0m 0.5712  \u001b[0m | \u001b[0m 0.8816  \u001b[0m |\n",
      "6417.535276557984\n",
      "| \u001b[0m 383     \u001b[0m | \u001b[0m 6.418e+0\u001b[0m | \u001b[0m 0.0     \u001b[0m | \u001b[0m 0.5542  \u001b[0m | \u001b[0m 0.0     \u001b[0m | \u001b[0m 0.009528\u001b[0m | \u001b[0m 1.321   \u001b[0m | \u001b[0m 1.414   \u001b[0m | \u001b[0m 1.5     \u001b[0m | \u001b[0m 1.5     \u001b[0m |\n",
      "6415.505653414451\n",
      "| \u001b[0m 384     \u001b[0m | \u001b[0m 6.416e+0\u001b[0m | \u001b[0m 0.01245 \u001b[0m | \u001b[0m 0.5537  \u001b[0m | \u001b[0m 0.0     \u001b[0m | \u001b[0m 0.0     \u001b[0m | \u001b[0m 1.246   \u001b[0m | \u001b[0m 1.34    \u001b[0m | \u001b[0m 1.496   \u001b[0m | \u001b[0m 1.499   \u001b[0m |\n",
      "6269.83314797435\n",
      "| \u001b[0m 385     \u001b[0m | \u001b[0m 6.27e+03\u001b[0m | \u001b[0m 0.02571 \u001b[0m | \u001b[0m 0.3153  \u001b[0m | \u001b[0m 0.1603  \u001b[0m | \u001b[0m 0.1407  \u001b[0m | \u001b[0m 0.9231  \u001b[0m | \u001b[0m 1.018   \u001b[0m | \u001b[0m 1.316   \u001b[0m | \u001b[0m 1.331   \u001b[0m |\n",
      "5854.306416015779\n",
      "| \u001b[0m 386     \u001b[0m | \u001b[0m 5.854e+0\u001b[0m | \u001b[0m 0.04079 \u001b[0m | \u001b[0m 0.06522 \u001b[0m | \u001b[0m 0.07757 \u001b[0m | \u001b[0m 0.09154 \u001b[0m | \u001b[0m 0.3738  \u001b[0m | \u001b[0m 1.235   \u001b[0m | \u001b[0m 1.232   \u001b[0m | \u001b[0m 1.325   \u001b[0m |\n",
      "6410.242492806526\n",
      "| \u001b[0m 387     \u001b[0m | \u001b[0m 6.41e+03\u001b[0m | \u001b[0m 0.0     \u001b[0m | \u001b[0m 0.4638  \u001b[0m | \u001b[0m 0.0     \u001b[0m | \u001b[0m 0.09548 \u001b[0m | \u001b[0m 1.181   \u001b[0m | \u001b[0m 1.5     \u001b[0m | \u001b[0m 1.5     \u001b[0m | \u001b[0m 1.454   \u001b[0m |\n",
      "6407.950448210259\n",
      "| \u001b[0m 388     \u001b[0m | \u001b[0m 6.408e+0\u001b[0m | \u001b[0m 0.0     \u001b[0m | \u001b[0m 0.4622  \u001b[0m | \u001b[0m 0.0     \u001b[0m | \u001b[0m 0.09823 \u001b[0m | \u001b[0m 1.179   \u001b[0m | \u001b[0m 1.5     \u001b[0m | \u001b[0m 1.5     \u001b[0m | \u001b[0m 1.453   \u001b[0m |\n",
      "6358.695603813594\n",
      "| \u001b[0m 389     \u001b[0m | \u001b[0m 6.359e+0\u001b[0m | \u001b[0m 0.0     \u001b[0m | \u001b[0m 0.3921  \u001b[0m | \u001b[0m 0.0     \u001b[0m | \u001b[0m 0.08008 \u001b[0m | \u001b[0m 1.059   \u001b[0m | \u001b[0m 1.5     \u001b[0m | \u001b[0m 1.487   \u001b[0m | \u001b[0m 1.428   \u001b[0m |\n",
      "6423.784092977471\n",
      "| \u001b[0m 390     \u001b[0m | \u001b[0m 6.424e+0\u001b[0m | \u001b[0m 0.001522\u001b[0m | \u001b[0m 0.5302  \u001b[0m | \u001b[0m 1.805e-0\u001b[0m | \u001b[0m 0.0275  \u001b[0m | \u001b[0m 1.292   \u001b[0m | \u001b[0m 1.368   \u001b[0m | \u001b[0m 1.5     \u001b[0m | \u001b[0m 1.499   \u001b[0m |\n",
      "3035.0816280440695\n",
      "| \u001b[0m 391     \u001b[0m | \u001b[0m 3.035e+0\u001b[0m | \u001b[0m 0.6846  \u001b[0m | \u001b[0m 0.37    \u001b[0m | \u001b[0m 0.8319  \u001b[0m | \u001b[0m 0.08638 \u001b[0m | \u001b[0m 0.6981  \u001b[0m | \u001b[0m 0.6129  \u001b[0m | \u001b[0m 1.116   \u001b[0m | \u001b[0m 0.6306  \u001b[0m |\n",
      "6255.826583726177\n",
      "| \u001b[0m 392     \u001b[0m | \u001b[0m 6.256e+0\u001b[0m | \u001b[0m 0.0445  \u001b[0m | \u001b[0m 0.2482  \u001b[0m | \u001b[0m 0.04632 \u001b[0m | \u001b[0m 0.1768  \u001b[0m | \u001b[0m 1.155   \u001b[0m | \u001b[0m 0.7714  \u001b[0m | \u001b[0m 1.091   \u001b[0m | \u001b[0m 1.361   \u001b[0m |\n",
      "6405.8709182983275\n",
      "| \u001b[0m 393     \u001b[0m | \u001b[0m 6.406e+0\u001b[0m | \u001b[0m 0.0     \u001b[0m | \u001b[0m 0.478   \u001b[0m | \u001b[0m 0.0     \u001b[0m | \u001b[0m 0.06846 \u001b[0m | \u001b[0m 1.193   \u001b[0m | \u001b[0m 1.5     \u001b[0m | \u001b[0m 1.5     \u001b[0m | \u001b[0m 1.48    \u001b[0m |\n",
      "5980.699211562809\n",
      "| \u001b[0m 394     \u001b[0m | \u001b[0m 5.981e+0\u001b[0m | \u001b[0m 0.195   \u001b[0m | \u001b[0m 0.5559  \u001b[0m | \u001b[0m 0.1056  \u001b[0m | \u001b[0m 0.01373 \u001b[0m | \u001b[0m 0.7461  \u001b[0m | \u001b[0m 1.481   \u001b[0m | \u001b[0m 1.219   \u001b[0m | \u001b[0m 1.345   \u001b[0m |\n",
      "6165.470734338871\n",
      "| \u001b[0m 395     \u001b[0m | \u001b[0m 6.165e+0\u001b[0m | \u001b[0m 0.06398 \u001b[0m | \u001b[0m 0.3368  \u001b[0m | \u001b[0m 0.1838  \u001b[0m | \u001b[0m 0.1088  \u001b[0m | \u001b[0m 0.8972  \u001b[0m | \u001b[0m 0.9006  \u001b[0m | \u001b[0m 1.356   \u001b[0m | \u001b[0m 0.9946  \u001b[0m |\n",
      "6210.5394004762875\n",
      "| \u001b[0m 396     \u001b[0m | \u001b[0m 6.211e+0\u001b[0m | \u001b[0m 0.007966\u001b[0m | \u001b[0m 0.2572  \u001b[0m | \u001b[0m 0.07447 \u001b[0m | \u001b[0m 0.1493  \u001b[0m | \u001b[0m 1.049   \u001b[0m | \u001b[0m 0.809   \u001b[0m | \u001b[0m 1.288   \u001b[0m | \u001b[0m 1.07    \u001b[0m |\n",
      "5982.887912788337\n",
      "| \u001b[0m 397     \u001b[0m | \u001b[0m 5.983e+0\u001b[0m | \u001b[0m 0.01994 \u001b[0m | \u001b[0m 0.2084  \u001b[0m | \u001b[0m 0.166   \u001b[0m | \u001b[0m 0.1789  \u001b[0m | \u001b[0m 0.8641  \u001b[0m | \u001b[0m 0.5831  \u001b[0m | \u001b[0m 1.204   \u001b[0m | \u001b[0m 0.7778  \u001b[0m |\n",
      "6233.764326772599\n",
      "| \u001b[0m 398     \u001b[0m | \u001b[0m 6.234e+0\u001b[0m | \u001b[0m 0.001254\u001b[0m | \u001b[0m 0.1966  \u001b[0m | \u001b[0m 0.04981 \u001b[0m | \u001b[0m 0.295   \u001b[0m | \u001b[0m 1.098   \u001b[0m | \u001b[0m 0.7718  \u001b[0m | \u001b[0m 1.258   \u001b[0m | \u001b[0m 1.186   \u001b[0m |\n",
      "6405.277791021231\n",
      "| \u001b[0m 399     \u001b[0m | \u001b[0m 6.405e+0\u001b[0m | \u001b[0m 0.0     \u001b[0m | \u001b[0m 0.4811  \u001b[0m | \u001b[0m 0.0     \u001b[0m | \u001b[0m 0.0758  \u001b[0m | \u001b[0m 1.173   \u001b[0m | \u001b[0m 1.5     \u001b[0m | \u001b[0m 1.5     \u001b[0m | \u001b[0m 1.454   \u001b[0m |\n",
      "6411.752190440259\n",
      "| \u001b[0m 400     \u001b[0m | \u001b[0m 6.412e+0\u001b[0m | \u001b[0m 0.0     \u001b[0m | \u001b[0m 0.4424  \u001b[0m | \u001b[0m 0.0     \u001b[0m | \u001b[0m 0.1095  \u001b[0m | \u001b[0m 1.213   \u001b[0m | \u001b[0m 1.5     \u001b[0m | \u001b[0m 1.5     \u001b[0m | \u001b[0m 1.449   \u001b[0m |\n",
      "2129.2410446866447\n",
      "| \u001b[0m 401     \u001b[0m | \u001b[0m 2.129e+0\u001b[0m | \u001b[0m 0.835   \u001b[0m | \u001b[0m 0.5897  \u001b[0m | \u001b[0m 0.8284  \u001b[0m | \u001b[0m 0.2107  \u001b[0m | \u001b[0m 0.784   \u001b[0m | \u001b[0m 0.2309  \u001b[0m | \u001b[0m 1.236   \u001b[0m | \u001b[0m 0.8613  \u001b[0m |\n",
      "6049.790684973482\n",
      "| \u001b[0m 402     \u001b[0m | \u001b[0m 6.05e+03\u001b[0m | \u001b[0m 0.01859 \u001b[0m | \u001b[0m 0.4149  \u001b[0m | \u001b[0m 0.2416  \u001b[0m | \u001b[0m 0.08241 \u001b[0m | \u001b[0m 0.4964  \u001b[0m | \u001b[0m 1.119   \u001b[0m | \u001b[0m 1.319   \u001b[0m | \u001b[0m 1.133   \u001b[0m |\n",
      "6016.944052945649\n",
      "| \u001b[0m 403     \u001b[0m | \u001b[0m 6.017e+0\u001b[0m | \u001b[0m 0.04047 \u001b[0m | \u001b[0m 0.6634  \u001b[0m | \u001b[0m 0.008727\u001b[0m | \u001b[0m 0.1176  \u001b[0m | \u001b[0m 0.665   \u001b[0m | \u001b[0m 0.8256  \u001b[0m | \u001b[0m 1.359   \u001b[0m | \u001b[0m 1.228   \u001b[0m |\n",
      "6410.7439544216795\n",
      "| \u001b[0m 404     \u001b[0m | \u001b[0m 6.411e+0\u001b[0m | \u001b[0m 0.0     \u001b[0m | \u001b[0m 0.4482  \u001b[0m | \u001b[0m 0.0     \u001b[0m | \u001b[0m 0.1069  \u001b[0m | \u001b[0m 1.213   \u001b[0m | \u001b[0m 1.5     \u001b[0m | \u001b[0m 1.5     \u001b[0m | \u001b[0m 1.451   \u001b[0m |\n",
      "6400.509052063088\n",
      "| \u001b[0m 405     \u001b[0m | \u001b[0m 6.401e+0\u001b[0m | \u001b[0m 0.0     \u001b[0m | \u001b[0m 0.3867  \u001b[0m | \u001b[0m 0.0     \u001b[0m | \u001b[0m 0.1315  \u001b[0m | \u001b[0m 1.184   \u001b[0m | \u001b[0m 1.5     \u001b[0m | \u001b[0m 1.499   \u001b[0m | \u001b[0m 1.446   \u001b[0m |\n",
      "4810.445775699812\n",
      "| \u001b[0m 406     \u001b[0m | \u001b[0m 4.81e+03\u001b[0m | \u001b[0m 0.4718  \u001b[0m | \u001b[0m 0.05503 \u001b[0m | \u001b[0m 0.5135  \u001b[0m | \u001b[0m 0.04702 \u001b[0m | \u001b[0m 0.2213  \u001b[0m | \u001b[0m 1.359   \u001b[0m | \u001b[0m 0.4664  \u001b[0m | \u001b[0m 0.1465  \u001b[0m |\n",
      "6398.900278699105\n",
      "| \u001b[0m 407     \u001b[0m | \u001b[0m 6.399e+0\u001b[0m | \u001b[0m 0.0     \u001b[0m | \u001b[0m 0.4347  \u001b[0m | \u001b[0m 0.0     \u001b[0m | \u001b[0m 0.1044  \u001b[0m | \u001b[0m 1.198   \u001b[0m | \u001b[0m 1.5     \u001b[0m | \u001b[0m 1.5     \u001b[0m | \u001b[0m 1.452   \u001b[0m |\n",
      "5998.068098368881\n",
      "| \u001b[0m 408     \u001b[0m | \u001b[0m 5.998e+0\u001b[0m | \u001b[0m 0.1683  \u001b[0m | \u001b[0m 0.1881  \u001b[0m | \u001b[0m 0.1951  \u001b[0m | \u001b[0m 0.2888  \u001b[0m | \u001b[0m 0.8835  \u001b[0m | \u001b[0m 0.9015  \u001b[0m | \u001b[0m 1.298   \u001b[0m | \u001b[0m 1.468   \u001b[0m |\n",
      "6349.340284166282\n",
      "| \u001b[0m 409     \u001b[0m | \u001b[0m 6.349e+0\u001b[0m | \u001b[0m 0.0     \u001b[0m | \u001b[0m 0.3645  \u001b[0m | \u001b[0m 0.000613\u001b[0m | \u001b[0m 0.2703  \u001b[0m | \u001b[0m 1.25    \u001b[0m | \u001b[0m 1.5     \u001b[0m | \u001b[0m 1.487   \u001b[0m | \u001b[0m 1.381   \u001b[0m |\n",
      "6383.44209259239\n",
      "| \u001b[0m 410     \u001b[0m | \u001b[0m 6.383e+0\u001b[0m | \u001b[0m 0.0     \u001b[0m | \u001b[0m 0.4254  \u001b[0m | \u001b[0m 0.01522 \u001b[0m | \u001b[0m 0.1769  \u001b[0m | \u001b[0m 1.24    \u001b[0m | \u001b[0m 1.5     \u001b[0m | \u001b[0m 1.494   \u001b[0m | \u001b[0m 1.424   \u001b[0m |\n",
      "6368.695432712473\n",
      "| \u001b[0m 411     \u001b[0m | \u001b[0m 6.369e+0\u001b[0m | \u001b[0m 0.0     \u001b[0m | \u001b[0m 0.2934  \u001b[0m | \u001b[0m 0.0     \u001b[0m | \u001b[0m 0.2282  \u001b[0m | \u001b[0m 1.1     \u001b[0m | \u001b[0m 1.5     \u001b[0m | \u001b[0m 1.5     \u001b[0m | \u001b[0m 1.407   \u001b[0m |\n",
      "6008.930990864506\n",
      "| \u001b[0m 412     \u001b[0m | \u001b[0m 6.009e+0\u001b[0m | \u001b[0m 0.1399  \u001b[0m | \u001b[0m 0.5552  \u001b[0m | \u001b[0m 0.1295  \u001b[0m | \u001b[0m 0.06876 \u001b[0m | \u001b[0m 1.313   \u001b[0m | \u001b[0m 1.393   \u001b[0m | \u001b[0m 1.41    \u001b[0m | \u001b[0m 1.446   \u001b[0m |\n"
     ]
    },
    {
     "name": "stdout",
     "output_type": "stream",
     "text": [
      "6422.056118941074\n",
      "| \u001b[0m 413     \u001b[0m | \u001b[0m 6.422e+0\u001b[0m | \u001b[0m 0.0     \u001b[0m | \u001b[0m 0.5744  \u001b[0m | \u001b[0m 0.0     \u001b[0m | \u001b[0m 0.0     \u001b[0m | \u001b[0m 1.321   \u001b[0m | \u001b[0m 1.405   \u001b[0m | \u001b[0m 1.5     \u001b[0m | \u001b[0m 1.5     \u001b[0m |\n",
      "5906.104040133306\n",
      "| \u001b[0m 414     \u001b[0m | \u001b[0m 5.906e+0\u001b[0m | \u001b[0m 0.1888  \u001b[0m | \u001b[0m 0.3865  \u001b[0m | \u001b[0m 0.1864  \u001b[0m | \u001b[0m 0.1584  \u001b[0m | \u001b[0m 1.056   \u001b[0m | \u001b[0m 1.299   \u001b[0m | \u001b[0m 1.345   \u001b[0m | \u001b[0m 1.453   \u001b[0m |\n",
      "6359.675012442566\n",
      "| \u001b[0m 415     \u001b[0m | \u001b[0m 6.36e+03\u001b[0m | \u001b[0m 0.0     \u001b[0m | \u001b[0m 0.468   \u001b[0m | \u001b[0m 0.05425 \u001b[0m | \u001b[0m 0.1197  \u001b[0m | \u001b[0m 1.074   \u001b[0m | \u001b[0m 1.5     \u001b[0m | \u001b[0m 1.5     \u001b[0m | \u001b[0m 1.463   \u001b[0m |\n",
      "3326.8408828771626\n",
      "| \u001b[0m 416     \u001b[0m | \u001b[0m 3.327e+0\u001b[0m | \u001b[0m 0.4249  \u001b[0m | \u001b[0m 0.05337 \u001b[0m | \u001b[0m 0.3543  \u001b[0m | \u001b[0m 0.8846  \u001b[0m | \u001b[0m 0.6297  \u001b[0m | \u001b[0m 0.7303  \u001b[0m | \u001b[0m 0.5159  \u001b[0m | \u001b[0m 0.4966  \u001b[0m |\n",
      "6346.842804802672\n",
      "| \u001b[0m 417     \u001b[0m | \u001b[0m 6.347e+0\u001b[0m | \u001b[0m 0.0     \u001b[0m | \u001b[0m 0.434   \u001b[0m | \u001b[0m 0.02537 \u001b[0m | \u001b[0m 0.1167  \u001b[0m | \u001b[0m 1.084   \u001b[0m | \u001b[0m 1.205   \u001b[0m | \u001b[0m 1.272   \u001b[0m | \u001b[0m 1.427   \u001b[0m |\n",
      "6158.121563698851\n",
      "| \u001b[0m 418     \u001b[0m | \u001b[0m 6.158e+0\u001b[0m | \u001b[0m 0.07564 \u001b[0m | \u001b[0m 0.6444  \u001b[0m | \u001b[0m 0.01345 \u001b[0m | \u001b[0m 0.07001 \u001b[0m | \u001b[0m 0.9134  \u001b[0m | \u001b[0m 1.117   \u001b[0m | \u001b[0m 1.42    \u001b[0m | \u001b[0m 1.364   \u001b[0m |\n",
      "2302.7948546459806\n",
      "| \u001b[0m 419     \u001b[0m | \u001b[0m 2.303e+0\u001b[0m | \u001b[0m 0.5983  \u001b[0m | \u001b[0m 0.9479  \u001b[0m | \u001b[0m 0.03384 \u001b[0m | \u001b[0m 0.6646  \u001b[0m | \u001b[0m 1.412   \u001b[0m | \u001b[0m 0.3889  \u001b[0m | \u001b[0m 1.438   \u001b[0m | \u001b[0m 1.336   \u001b[0m |\n",
      "6289.256170278954\n",
      "| \u001b[0m 420     \u001b[0m | \u001b[0m 6.289e+0\u001b[0m | \u001b[0m 0.02675 \u001b[0m | \u001b[0m 0.3025  \u001b[0m | \u001b[0m 0.1912  \u001b[0m | \u001b[0m 0.09038 \u001b[0m | \u001b[0m 0.9378  \u001b[0m | \u001b[0m 0.9674  \u001b[0m | \u001b[0m 1.499   \u001b[0m | \u001b[0m 1.068   \u001b[0m |\n",
      "6096.6570644326\n",
      "| \u001b[0m 421     \u001b[0m | \u001b[0m 6.097e+0\u001b[0m | \u001b[0m 0.008097\u001b[0m | \u001b[0m 0.6658  \u001b[0m | \u001b[0m 0.05692 \u001b[0m | \u001b[0m 0.06915 \u001b[0m | \u001b[0m 0.8481  \u001b[0m | \u001b[0m 0.8921  \u001b[0m | \u001b[0m 1.426   \u001b[0m | \u001b[0m 1.114   \u001b[0m |\n",
      "5746.892688043863\n",
      "| \u001b[0m 422     \u001b[0m | \u001b[0m 5.747e+0\u001b[0m | \u001b[0m 0.006149\u001b[0m | \u001b[0m 0.08288 \u001b[0m | \u001b[0m 0.1455  \u001b[0m | \u001b[0m 0.1249  \u001b[0m | \u001b[0m 0.6199  \u001b[0m | \u001b[0m 0.6455  \u001b[0m | \u001b[0m 1.426   \u001b[0m | \u001b[0m 0.6072  \u001b[0m |\n",
      "6214.833025873185\n",
      "| \u001b[0m 423     \u001b[0m | \u001b[0m 6.215e+0\u001b[0m | \u001b[0m 0.1117  \u001b[0m | \u001b[0m 0.3669  \u001b[0m | \u001b[0m 0.1515  \u001b[0m | \u001b[0m 0.06658 \u001b[0m | \u001b[0m 0.8682  \u001b[0m | \u001b[0m 1.263   \u001b[0m | \u001b[0m 1.133   \u001b[0m | \u001b[0m 1.467   \u001b[0m |\n",
      "3775.3779590246086\n",
      "| \u001b[0m 424     \u001b[0m | \u001b[0m 3.775e+0\u001b[0m | \u001b[0m 0.7567  \u001b[0m | \u001b[0m 0.3339  \u001b[0m | \u001b[0m 0.3221  \u001b[0m | \u001b[0m 0.2554  \u001b[0m | \u001b[0m 1.398   \u001b[0m | \u001b[0m 0.4353  \u001b[0m | \u001b[0m 0.5047  \u001b[0m | \u001b[0m 1.362   \u001b[0m |\n",
      "6199.1977720110835\n",
      "| \u001b[0m 425     \u001b[0m | \u001b[0m 6.199e+0\u001b[0m | \u001b[0m 0.05682 \u001b[0m | \u001b[0m 0.3303  \u001b[0m | \u001b[0m 0.1727  \u001b[0m | \u001b[0m 0.09781 \u001b[0m | \u001b[0m 0.9041  \u001b[0m | \u001b[0m 0.898   \u001b[0m | \u001b[0m 1.358   \u001b[0m | \u001b[0m 1.025   \u001b[0m |\n",
      "6204.667306064621\n",
      "| \u001b[0m 426     \u001b[0m | \u001b[0m 6.205e+0\u001b[0m | \u001b[0m 0.06529 \u001b[0m | \u001b[0m 0.2861  \u001b[0m | \u001b[0m 0.07907 \u001b[0m | \u001b[0m 0.06245 \u001b[0m | \u001b[0m 0.7554  \u001b[0m | \u001b[0m 1.244   \u001b[0m | \u001b[0m 1.12    \u001b[0m | \u001b[0m 1.334   \u001b[0m |\n",
      "6217.51929334564\n",
      "| \u001b[0m 427     \u001b[0m | \u001b[0m 6.218e+0\u001b[0m | \u001b[0m 0.04956 \u001b[0m | \u001b[0m 0.2984  \u001b[0m | \u001b[0m 0.1195  \u001b[0m | \u001b[0m 0.06242 \u001b[0m | \u001b[0m 0.8613  \u001b[0m | \u001b[0m 0.941   \u001b[0m | \u001b[0m 1.262   \u001b[0m | \u001b[0m 1.177   \u001b[0m |\n",
      "6406.636210817898\n",
      "| \u001b[0m 428     \u001b[0m | \u001b[0m 6.407e+0\u001b[0m | \u001b[0m 0.0     \u001b[0m | \u001b[0m 0.4505  \u001b[0m | \u001b[0m 0.0     \u001b[0m | \u001b[0m 0.1254  \u001b[0m | \u001b[0m 1.236   \u001b[0m | \u001b[0m 1.5     \u001b[0m | \u001b[0m 1.5     \u001b[0m | \u001b[0m 1.442   \u001b[0m |\n",
      "6377.731697436506\n",
      "| \u001b[0m 429     \u001b[0m | \u001b[0m 6.378e+0\u001b[0m | \u001b[0m 0.0     \u001b[0m | \u001b[0m 0.4068  \u001b[0m | \u001b[0m 0.0     \u001b[0m | \u001b[0m 0.1812  \u001b[0m | \u001b[0m 1.123   \u001b[0m | \u001b[0m 1.5     \u001b[0m | \u001b[0m 1.471   \u001b[0m | \u001b[0m 1.413   \u001b[0m |\n",
      "6003.498729287098\n",
      "| \u001b[0m 430     \u001b[0m | \u001b[0m 6.003e+0\u001b[0m | \u001b[0m 0.128   \u001b[0m | \u001b[0m 0.1153  \u001b[0m | \u001b[0m 0.1314  \u001b[0m | \u001b[0m 0.05454 \u001b[0m | \u001b[0m 0.7111  \u001b[0m | \u001b[0m 0.6167  \u001b[0m | \u001b[0m 1.29    \u001b[0m | \u001b[0m 1.098   \u001b[0m |\n",
      "6395.6792171518255\n",
      "| \u001b[0m 431     \u001b[0m | \u001b[0m 6.396e+0\u001b[0m | \u001b[0m 0.0     \u001b[0m | \u001b[0m 0.2919  \u001b[0m | \u001b[0m 0.03089 \u001b[0m | \u001b[0m 0.1927  \u001b[0m | \u001b[0m 1.224   \u001b[0m | \u001b[0m 1.5     \u001b[0m | \u001b[0m 1.5     \u001b[0m | \u001b[0m 1.423   \u001b[0m |\n",
      "6192.549841495533\n",
      "| \u001b[0m 432     \u001b[0m | \u001b[0m 6.193e+0\u001b[0m | \u001b[0m 0.08931 \u001b[0m | \u001b[0m 0.1694  \u001b[0m | \u001b[0m 0.09172 \u001b[0m | \u001b[0m 0.2119  \u001b[0m | \u001b[0m 0.8249  \u001b[0m | \u001b[0m 0.5436  \u001b[0m | \u001b[0m 1.246   \u001b[0m | \u001b[0m 1.442   \u001b[0m |\n",
      "6389.619589798615\n",
      "| \u001b[0m 433     \u001b[0m | \u001b[0m 6.39e+03\u001b[0m | \u001b[0m 0.0     \u001b[0m | \u001b[0m 0.4898  \u001b[0m | \u001b[0m 0.0     \u001b[0m | \u001b[0m 0.1082  \u001b[0m | \u001b[0m 1.187   \u001b[0m | \u001b[0m 1.5     \u001b[0m | \u001b[0m 1.5     \u001b[0m | \u001b[0m 1.462   \u001b[0m |\n",
      "6411.528629814678\n",
      "| \u001b[0m 434     \u001b[0m | \u001b[0m 6.412e+0\u001b[0m | \u001b[0m 0.0     \u001b[0m | \u001b[0m 0.5005  \u001b[0m | \u001b[0m 0.0     \u001b[0m | \u001b[0m 0.04235 \u001b[0m | \u001b[0m 1.261   \u001b[0m | \u001b[0m 1.5     \u001b[0m | \u001b[0m 1.5     \u001b[0m | \u001b[0m 1.5     \u001b[0m |\n",
      "6245.140935659945\n",
      "| \u001b[0m 435     \u001b[0m | \u001b[0m 6.245e+0\u001b[0m | \u001b[0m 0.005691\u001b[0m | \u001b[0m 0.2258  \u001b[0m | \u001b[0m 0.02925 \u001b[0m | \u001b[0m 0.2017  \u001b[0m | \u001b[0m 1.074   \u001b[0m | \u001b[0m 0.8524  \u001b[0m | \u001b[0m 1.152   \u001b[0m | \u001b[0m 1.421   \u001b[0m |\n",
      "6373.096173526737\n",
      "| \u001b[0m 436     \u001b[0m | \u001b[0m 6.373e+0\u001b[0m | \u001b[0m 0.000464\u001b[0m | \u001b[0m 0.4813  \u001b[0m | \u001b[0m 0.04802 \u001b[0m | \u001b[0m 0.03527 \u001b[0m | \u001b[0m 1.009   \u001b[0m | \u001b[0m 1.106   \u001b[0m | \u001b[0m 1.498   \u001b[0m | \u001b[0m 1.409   \u001b[0m |\n",
      "1828.9714680288798\n",
      "| \u001b[0m 437     \u001b[0m | \u001b[0m 1.829e+0\u001b[0m | \u001b[0m 0.136   \u001b[0m | \u001b[0m 0.3354  \u001b[0m | \u001b[0m 0.9858  \u001b[0m | \u001b[0m 0.9524  \u001b[0m | \u001b[0m 0.2493  \u001b[0m | \u001b[0m 1.2     \u001b[0m | \u001b[0m 1.246   \u001b[0m | \u001b[0m 1.384   \u001b[0m |\n",
      "6113.611410563104\n",
      "| \u001b[0m 438     \u001b[0m | \u001b[0m 6.114e+0\u001b[0m | \u001b[0m 0.1092  \u001b[0m | \u001b[0m 0.3443  \u001b[0m | \u001b[0m 0.05525 \u001b[0m | \u001b[0m 0.3042  \u001b[0m | \u001b[0m 1.042   \u001b[0m | \u001b[0m 0.9262  \u001b[0m | \u001b[0m 1.391   \u001b[0m | \u001b[0m 1.359   \u001b[0m |\n",
      "6400.692230293524\n",
      "| \u001b[0m 439     \u001b[0m | \u001b[0m 6.401e+0\u001b[0m | \u001b[0m 0.0     \u001b[0m | \u001b[0m 0.3399  \u001b[0m | \u001b[0m 0.0     \u001b[0m | \u001b[0m 0.2043  \u001b[0m | \u001b[0m 1.195   \u001b[0m | \u001b[0m 1.5     \u001b[0m | \u001b[0m 1.5     \u001b[0m | \u001b[0m 1.459   \u001b[0m |\n",
      "6406.844246567048\n",
      "| \u001b[0m 440     \u001b[0m | \u001b[0m 6.407e+0\u001b[0m | \u001b[0m 0.0     \u001b[0m | \u001b[0m 0.5289  \u001b[0m | \u001b[0m 0.0     \u001b[0m | \u001b[0m 0.0     \u001b[0m | \u001b[0m 1.174   \u001b[0m | \u001b[0m 1.5     \u001b[0m | \u001b[0m 1.5     \u001b[0m | \u001b[0m 1.5     \u001b[0m |\n",
      "6250.672515551244\n",
      "| \u001b[0m 441     \u001b[0m | \u001b[0m 6.251e+0\u001b[0m | \u001b[0m 0.011   \u001b[0m | \u001b[0m 0.2196  \u001b[0m | \u001b[0m 0.2063  \u001b[0m | \u001b[0m 0.156   \u001b[0m | \u001b[0m 0.6518  \u001b[0m | \u001b[0m 1.003   \u001b[0m | \u001b[0m 1.339   \u001b[0m | \u001b[0m 1.448   \u001b[0m |\n",
      "3269.156172972063\n",
      "| \u001b[0m 442     \u001b[0m | \u001b[0m 3.269e+0\u001b[0m | \u001b[0m 0.8209  \u001b[0m | \u001b[0m 0.4851  \u001b[0m | \u001b[0m 0.07651 \u001b[0m | \u001b[0m 0.4561  \u001b[0m | \u001b[0m 0.6108  \u001b[0m | \u001b[0m 0.8978  \u001b[0m | \u001b[0m 1.087   \u001b[0m | \u001b[0m 0.9637  \u001b[0m |\n",
      "6247.604542866255\n",
      "| \u001b[0m 443     \u001b[0m | \u001b[0m 6.248e+0\u001b[0m | \u001b[0m 0.09688 \u001b[0m | \u001b[0m 0.2569  \u001b[0m | \u001b[0m 0.1032  \u001b[0m | \u001b[0m 0.003759\u001b[0m | \u001b[0m 1.014   \u001b[0m | \u001b[0m 1.225   \u001b[0m | \u001b[0m 1.07    \u001b[0m | \u001b[0m 1.433   \u001b[0m |\n",
      "6391.105066768752\n",
      "| \u001b[0m 444     \u001b[0m | \u001b[0m 6.391e+0\u001b[0m | \u001b[0m 0.0     \u001b[0m | \u001b[0m 0.3458  \u001b[0m | \u001b[0m 0.0     \u001b[0m | \u001b[0m 0.1764  \u001b[0m | \u001b[0m 1.204   \u001b[0m | \u001b[0m 1.5     \u001b[0m | \u001b[0m 1.5     \u001b[0m | \u001b[0m 1.363   \u001b[0m |\n",
      "6207.3896261851505\n",
      "| \u001b[0m 445     \u001b[0m | \u001b[0m 6.207e+0\u001b[0m | \u001b[0m 0.09299 \u001b[0m | \u001b[0m 0.1223  \u001b[0m | \u001b[0m 0.1203  \u001b[0m | \u001b[0m 0.2154  \u001b[0m | \u001b[0m 0.8199  \u001b[0m | \u001b[0m 0.5949  \u001b[0m | \u001b[0m 1.273   \u001b[0m | \u001b[0m 1.458   \u001b[0m |\n",
      "6417.667968656628\n",
      "| \u001b[0m 446     \u001b[0m | \u001b[0m 6.418e+0\u001b[0m | \u001b[0m 0.0     \u001b[0m | \u001b[0m 0.4793  \u001b[0m | \u001b[0m 0.0     \u001b[0m | \u001b[0m 0.07647 \u001b[0m | \u001b[0m 1.257   \u001b[0m | \u001b[0m 1.5     \u001b[0m | \u001b[0m 1.5     \u001b[0m | \u001b[0m 1.5     \u001b[0m |\n",
      "6101.873218902087\n",
      "| \u001b[0m 447     \u001b[0m | \u001b[0m 6.102e+0\u001b[0m | \u001b[0m 0.1769  \u001b[0m | \u001b[0m 0.4602  \u001b[0m | \u001b[0m 0.113   \u001b[0m | \u001b[0m 0.04056 \u001b[0m | \u001b[0m 0.6284  \u001b[0m | \u001b[0m 1.075   \u001b[0m | \u001b[0m 1.38    \u001b[0m | \u001b[0m 1.407   \u001b[0m |\n",
      "6399.3662432516\n",
      "| \u001b[0m 448     \u001b[0m | \u001b[0m 6.399e+0\u001b[0m | \u001b[0m 0.0     \u001b[0m | \u001b[0m 0.366   \u001b[0m | \u001b[0m 0.01871 \u001b[0m | \u001b[0m 0.1687  \u001b[0m | \u001b[0m 1.192   \u001b[0m | \u001b[0m 1.5     \u001b[0m | \u001b[0m 1.5     \u001b[0m | \u001b[0m 1.428   \u001b[0m |\n",
      "1501.4174295262123\n",
      "| \u001b[0m 449     \u001b[0m | \u001b[0m 1.501e+0\u001b[0m | \u001b[0m 0.8007  \u001b[0m | \u001b[0m 0.5705  \u001b[0m | \u001b[0m 0.8435  \u001b[0m | \u001b[0m 0.7828  \u001b[0m | \u001b[0m 0.2916  \u001b[0m | \u001b[0m 0.5741  \u001b[0m | \u001b[0m 0.5057  \u001b[0m | \u001b[0m 1.442   \u001b[0m |\n",
      "6206.885452771662\n",
      "| \u001b[0m 450     \u001b[0m | \u001b[0m 6.207e+0\u001b[0m | \u001b[0m 0.01511 \u001b[0m | \u001b[0m 0.1375  \u001b[0m | \u001b[0m 0.06047 \u001b[0m | \u001b[0m 0.2622  \u001b[0m | \u001b[0m 0.9734  \u001b[0m | \u001b[0m 0.6925  \u001b[0m | \u001b[0m 1.274   \u001b[0m | \u001b[0m 1.343   \u001b[0m |\n"
     ]
    },
    {
     "name": "stdout",
     "output_type": "stream",
     "text": [
      "6335.212100861771\n",
      "| \u001b[0m 451     \u001b[0m | \u001b[0m 6.335e+0\u001b[0m | \u001b[0m 0.04905 \u001b[0m | \u001b[0m 0.4575  \u001b[0m | \u001b[0m 0.02695 \u001b[0m | \u001b[0m 0.04825 \u001b[0m | \u001b[0m 0.9838  \u001b[0m | \u001b[0m 1.165   \u001b[0m | \u001b[0m 1.334   \u001b[0m | \u001b[0m 1.421   \u001b[0m |\n",
      "6217.61559660244\n",
      "| \u001b[0m 452     \u001b[0m | \u001b[0m 6.218e+0\u001b[0m | \u001b[0m 0.02086 \u001b[0m | \u001b[0m 0.2688  \u001b[0m | \u001b[0m 0.002204\u001b[0m | \u001b[0m 0.3151  \u001b[0m | \u001b[0m 1.023   \u001b[0m | \u001b[0m 0.8228  \u001b[0m | \u001b[0m 1.341   \u001b[0m | \u001b[0m 1.08    \u001b[0m |\n",
      "1951.5640494811917\n",
      "| \u001b[0m 453     \u001b[0m | \u001b[0m 1.952e+0\u001b[0m | \u001b[0m 0.3255  \u001b[0m | \u001b[0m 0.6124  \u001b[0m | \u001b[0m 0.8345  \u001b[0m | \u001b[0m 0.6411  \u001b[0m | \u001b[0m 0.1297  \u001b[0m | \u001b[0m 0.4178  \u001b[0m | \u001b[0m 0.7291  \u001b[0m | \u001b[0m 1.3     \u001b[0m |\n",
      "6388.097548529246\n",
      "| \u001b[0m 454     \u001b[0m | \u001b[0m 6.388e+0\u001b[0m | \u001b[0m 0.0     \u001b[0m | \u001b[0m 0.3207  \u001b[0m | \u001b[0m 0.0     \u001b[0m | \u001b[0m 0.1936  \u001b[0m | \u001b[0m 1.278   \u001b[0m | \u001b[0m 1.5     \u001b[0m | \u001b[0m 1.418   \u001b[0m | \u001b[0m 1.436   \u001b[0m |\n",
      "6203.476670691796\n",
      "| \u001b[0m 455     \u001b[0m | \u001b[0m 6.203e+0\u001b[0m | \u001b[0m 0.1282  \u001b[0m | \u001b[0m 0.3608  \u001b[0m | \u001b[0m 0.04466 \u001b[0m | \u001b[0m 0.04588 \u001b[0m | \u001b[0m 0.7116  \u001b[0m | \u001b[0m 1.078   \u001b[0m | \u001b[0m 1.305   \u001b[0m | \u001b[0m 1.194   \u001b[0m |\n",
      "6253.137305659121\n",
      "| \u001b[0m 456     \u001b[0m | \u001b[0m 6.253e+0\u001b[0m | \u001b[0m 0.03974 \u001b[0m | \u001b[0m 0.245   \u001b[0m | \u001b[0m 0.04471 \u001b[0m | \u001b[0m 0.1807  \u001b[0m | \u001b[0m 1.144   \u001b[0m | \u001b[0m 0.7813  \u001b[0m | \u001b[0m 1.1     \u001b[0m | \u001b[0m 1.367   \u001b[0m |\n",
      "6092.6967107635\n",
      "| \u001b[0m 457     \u001b[0m | \u001b[0m 6.093e+0\u001b[0m | \u001b[0m 0.03414 \u001b[0m | \u001b[0m 0.2132  \u001b[0m | \u001b[0m 0.2493  \u001b[0m | \u001b[0m 0.2613  \u001b[0m | \u001b[0m 0.9134  \u001b[0m | \u001b[0m 0.7443  \u001b[0m | \u001b[0m 1.388   \u001b[0m | \u001b[0m 1.072   \u001b[0m |\n",
      "5911.366521463866\n",
      "| \u001b[0m 458     \u001b[0m | \u001b[0m 5.911e+0\u001b[0m | \u001b[0m 0.1204  \u001b[0m | \u001b[0m 0.4029  \u001b[0m | \u001b[0m 0.2368  \u001b[0m | \u001b[0m 0.1176  \u001b[0m | \u001b[0m 0.8968  \u001b[0m | \u001b[0m 0.8626  \u001b[0m | \u001b[0m 1.253   \u001b[0m | \u001b[0m 1.048   \u001b[0m |\n",
      "6407.973211226466\n",
      "| \u001b[0m 459     \u001b[0m | \u001b[0m 6.408e+0\u001b[0m | \u001b[0m 0.0     \u001b[0m | \u001b[0m 0.3737  \u001b[0m | \u001b[0m 0.0     \u001b[0m | \u001b[0m 0.1614  \u001b[0m | \u001b[0m 1.242   \u001b[0m | \u001b[0m 1.5     \u001b[0m | \u001b[0m 1.485   \u001b[0m | \u001b[0m 1.449   \u001b[0m |\n",
      "6022.626100939656\n",
      "| \u001b[0m 460     \u001b[0m | \u001b[0m 6.023e+0\u001b[0m | \u001b[0m 0.02946 \u001b[0m | \u001b[0m 0.3403  \u001b[0m | \u001b[0m 0.06181 \u001b[0m | \u001b[0m 0.155   \u001b[0m | \u001b[0m 0.6429  \u001b[0m | \u001b[0m 0.6988  \u001b[0m | \u001b[0m 1.396   \u001b[0m | \u001b[0m 0.7928  \u001b[0m |\n",
      "5947.553593565807\n",
      "| \u001b[0m 461     \u001b[0m | \u001b[0m 5.948e+0\u001b[0m | \u001b[0m 0.02707 \u001b[0m | \u001b[0m 0.3059  \u001b[0m | \u001b[0m 0.1192  \u001b[0m | \u001b[0m 0.2154  \u001b[0m | \u001b[0m 0.468   \u001b[0m | \u001b[0m 0.6194  \u001b[0m | \u001b[0m 1.352   \u001b[0m | \u001b[0m 0.9585  \u001b[0m |\n",
      "6206.846448413732\n",
      "| \u001b[0m 462     \u001b[0m | \u001b[0m 6.207e+0\u001b[0m | \u001b[0m 0.05326 \u001b[0m | \u001b[0m 0.3747  \u001b[0m | \u001b[0m 0.08105 \u001b[0m | \u001b[0m 0.1012  \u001b[0m | \u001b[0m 0.9511  \u001b[0m | \u001b[0m 0.8321  \u001b[0m | \u001b[0m 1.258   \u001b[0m | \u001b[0m 1.087   \u001b[0m |\n",
      "6381.648257556711\n",
      "| \u001b[0m 463     \u001b[0m | \u001b[0m 6.382e+0\u001b[0m | \u001b[0m 0.0     \u001b[0m | \u001b[0m 0.2572  \u001b[0m | \u001b[0m 0.0     \u001b[0m | \u001b[0m 0.217   \u001b[0m | \u001b[0m 1.227   \u001b[0m | \u001b[0m 1.5     \u001b[0m | \u001b[0m 1.5     \u001b[0m | \u001b[0m 1.436   \u001b[0m |\n",
      "6353.660819057813\n",
      "| \u001b[0m 464     \u001b[0m | \u001b[0m 6.354e+0\u001b[0m | \u001b[0m 0.0     \u001b[0m | \u001b[0m 0.3757  \u001b[0m | \u001b[0m 0.1162  \u001b[0m | \u001b[0m 0.1066  \u001b[0m | \u001b[0m 0.9668  \u001b[0m | \u001b[0m 1.095   \u001b[0m | \u001b[0m 1.5     \u001b[0m | \u001b[0m 1.38    \u001b[0m |\n",
      "6009.017064104003\n",
      "| \u001b[0m 465     \u001b[0m | \u001b[0m 6.009e+0\u001b[0m | \u001b[0m 0.07061 \u001b[0m | \u001b[0m 0.1923  \u001b[0m | \u001b[0m 0.08041 \u001b[0m | \u001b[0m 0.1431  \u001b[0m | \u001b[0m 0.6748  \u001b[0m | \u001b[0m 0.6831  \u001b[0m | \u001b[0m 1.34    \u001b[0m | \u001b[0m 0.9284  \u001b[0m |\n",
      "6342.079222120527\n",
      "| \u001b[0m 466     \u001b[0m | \u001b[0m 6.342e+0\u001b[0m | \u001b[0m 0.05655 \u001b[0m | \u001b[0m 0.4668  \u001b[0m | \u001b[0m 0.003971\u001b[0m | \u001b[0m 0.03574 \u001b[0m | \u001b[0m 0.9788  \u001b[0m | \u001b[0m 1.177   \u001b[0m | \u001b[0m 1.32    \u001b[0m | \u001b[0m 1.419   \u001b[0m |\n",
      "4952.698219613519\n",
      "| \u001b[0m 467     \u001b[0m | \u001b[0m 4.953e+0\u001b[0m | \u001b[0m 0.4121  \u001b[0m | \u001b[0m 0.02267 \u001b[0m | \u001b[0m 0.3265  \u001b[0m | \u001b[0m 0.3789  \u001b[0m | \u001b[0m 1.132   \u001b[0m | \u001b[0m 0.1357  \u001b[0m | \u001b[0m 0.8271  \u001b[0m | \u001b[0m 0.3579  \u001b[0m |\n",
      "6419.9000605145775\n",
      "| \u001b[0m 468     \u001b[0m | \u001b[0m 6.42e+03\u001b[0m | \u001b[0m 0.0     \u001b[0m | \u001b[0m 0.4697  \u001b[0m | \u001b[0m 0.003573\u001b[0m | \u001b[0m 0.08213 \u001b[0m | \u001b[0m 1.262   \u001b[0m | \u001b[0m 1.5     \u001b[0m | \u001b[0m 1.5     \u001b[0m | \u001b[0m 1.5     \u001b[0m |\n",
      "6303.466805234245\n",
      "| \u001b[0m 469     \u001b[0m | \u001b[0m 6.303e+0\u001b[0m | \u001b[0m 0.000568\u001b[0m | \u001b[0m 0.5038  \u001b[0m | \u001b[0m 0.001017\u001b[0m | \u001b[0m 0.01052 \u001b[0m | \u001b[0m 0.8332  \u001b[0m | \u001b[0m 0.8158  \u001b[0m | \u001b[0m 1.492   \u001b[0m | \u001b[0m 1.415   \u001b[0m |\n",
      "6216.265528664897\n",
      "| \u001b[0m 470     \u001b[0m | \u001b[0m 6.216e+0\u001b[0m | \u001b[0m 0.01137 \u001b[0m | \u001b[0m 0.2622  \u001b[0m | \u001b[0m 0.07235 \u001b[0m | \u001b[0m 0.159   \u001b[0m | \u001b[0m 1.042   \u001b[0m | \u001b[0m 0.8108  \u001b[0m | \u001b[0m 1.289   \u001b[0m | \u001b[0m 1.075   \u001b[0m |\n",
      "2201.045365332274\n",
      "| \u001b[0m 471     \u001b[0m | \u001b[0m 2.201e+0\u001b[0m | \u001b[0m 0.5789  \u001b[0m | \u001b[0m 0.7018  \u001b[0m | \u001b[0m 0.692   \u001b[0m | \u001b[0m 0.2371  \u001b[0m | \u001b[0m 0.1101  \u001b[0m | \u001b[0m 1.082   \u001b[0m | \u001b[0m 0.3105  \u001b[0m | \u001b[0m 0.1336  \u001b[0m |\n",
      "6249.905621126418\n",
      "| \u001b[0m 472     \u001b[0m | \u001b[0m 6.25e+03\u001b[0m | \u001b[0m 0.01551 \u001b[0m | \u001b[0m 0.2188  \u001b[0m | \u001b[0m 0.1972  \u001b[0m | \u001b[0m 0.1662  \u001b[0m | \u001b[0m 0.6574  \u001b[0m | \u001b[0m 0.9961  \u001b[0m | \u001b[0m 1.343   \u001b[0m | \u001b[0m 1.449   \u001b[0m |\n",
      "6391.043358085461\n",
      "| \u001b[0m 473     \u001b[0m | \u001b[0m 6.391e+0\u001b[0m | \u001b[0m 0.0     \u001b[0m | \u001b[0m 0.3482  \u001b[0m | \u001b[0m 0.0     \u001b[0m | \u001b[0m 0.1657  \u001b[0m | \u001b[0m 1.138   \u001b[0m | \u001b[0m 1.5     \u001b[0m | \u001b[0m 1.5     \u001b[0m | \u001b[0m 1.482   \u001b[0m |\n",
      "5734.050754374039\n",
      "| \u001b[0m 474     \u001b[0m | \u001b[0m 5.734e+0\u001b[0m | \u001b[0m 0.2414  \u001b[0m | \u001b[0m 0.4903  \u001b[0m | \u001b[0m 0.1355  \u001b[0m | \u001b[0m 0.1351  \u001b[0m | \u001b[0m 0.8128  \u001b[0m | \u001b[0m 1.056   \u001b[0m | \u001b[0m 1.388   \u001b[0m | \u001b[0m 1.49    \u001b[0m |\n",
      "6413.145273159362\n",
      "| \u001b[0m 475     \u001b[0m | \u001b[0m 6.413e+0\u001b[0m | \u001b[0m 0.0     \u001b[0m | \u001b[0m 0.5714  \u001b[0m | \u001b[0m 0.0     \u001b[0m | \u001b[0m 0.0     \u001b[0m | \u001b[0m 1.218   \u001b[0m | \u001b[0m 1.197   \u001b[0m | \u001b[0m 1.5     \u001b[0m | \u001b[0m 1.5     \u001b[0m |\n",
      "6406.783751207343\n",
      "| \u001b[0m 476     \u001b[0m | \u001b[0m 6.407e+0\u001b[0m | \u001b[0m 0.0     \u001b[0m | \u001b[0m 0.3795  \u001b[0m | \u001b[0m 0.0     \u001b[0m | \u001b[0m 0.1596  \u001b[0m | \u001b[0m 1.219   \u001b[0m | \u001b[0m 1.5     \u001b[0m | \u001b[0m 1.491   \u001b[0m | \u001b[0m 1.444   \u001b[0m |\n",
      "6409.431096799709\n",
      "| \u001b[0m 477     \u001b[0m | \u001b[0m 6.409e+0\u001b[0m | \u001b[0m 0.0     \u001b[0m | \u001b[0m 0.4612  \u001b[0m | \u001b[0m 0.02707 \u001b[0m | \u001b[0m 0.08735 \u001b[0m | \u001b[0m 1.273   \u001b[0m | \u001b[0m 1.5     \u001b[0m | \u001b[0m 1.5     \u001b[0m | \u001b[0m 1.498   \u001b[0m |\n",
      "3985.2151085773776\n",
      "| \u001b[0m 478     \u001b[0m | \u001b[0m 3.985e+0\u001b[0m | \u001b[0m 0.4255  \u001b[0m | \u001b[0m 0.1236  \u001b[0m | \u001b[0m 0.6031  \u001b[0m | \u001b[0m 0.3963  \u001b[0m | \u001b[0m 1.071   \u001b[0m | \u001b[0m 0.586   \u001b[0m | \u001b[0m 0.2644  \u001b[0m | \u001b[0m 1.154   \u001b[0m |\n",
      "6338.6803991234965\n",
      "| \u001b[0m 479     \u001b[0m | \u001b[0m 6.339e+0\u001b[0m | \u001b[0m 0.03597 \u001b[0m | \u001b[0m 0.3267  \u001b[0m | \u001b[0m 0.03891 \u001b[0m | \u001b[0m 0.1873  \u001b[0m | \u001b[0m 1.106   \u001b[0m | \u001b[0m 0.8006  \u001b[0m | \u001b[0m 1.421   \u001b[0m | \u001b[0m 1.312   \u001b[0m |\n",
      "6424.354870880221\n",
      "| \u001b[0m 480     \u001b[0m | \u001b[0m 6.424e+0\u001b[0m | \u001b[0m 0.0     \u001b[0m | \u001b[0m 0.5337  \u001b[0m | \u001b[0m 0.0     \u001b[0m | \u001b[0m 0.0     \u001b[0m | \u001b[0m 1.29    \u001b[0m | \u001b[0m 1.134   \u001b[0m | \u001b[0m 1.5     \u001b[0m | \u001b[0m 1.5     \u001b[0m |\n",
      "6437.736119126102\n",
      "| \u001b[95m 481     \u001b[0m | \u001b[95m 6.438e+0\u001b[0m | \u001b[95m 0.0     \u001b[0m | \u001b[95m 0.5361  \u001b[0m | \u001b[95m 0.0     \u001b[0m | \u001b[95m 0.0     \u001b[0m | \u001b[95m 1.368   \u001b[0m | \u001b[95m 1.139   \u001b[0m | \u001b[95m 1.5     \u001b[0m | \u001b[95m 1.5     \u001b[0m |\n",
      "6279.972007240015\n",
      "| \u001b[0m 482     \u001b[0m | \u001b[0m 6.28e+03\u001b[0m | \u001b[0m 0.08392 \u001b[0m | \u001b[0m 0.3967  \u001b[0m | \u001b[0m 0.05256 \u001b[0m | \u001b[0m 0.1442  \u001b[0m | \u001b[0m 1.178   \u001b[0m | \u001b[0m 1.296   \u001b[0m | \u001b[0m 1.136   \u001b[0m | \u001b[0m 1.405   \u001b[0m |\n",
      "6027.140216571885\n",
      "| \u001b[0m 483     \u001b[0m | \u001b[0m 6.027e+0\u001b[0m | \u001b[0m 0.01968 \u001b[0m | \u001b[0m 0.6181  \u001b[0m | \u001b[0m 0.1348  \u001b[0m | \u001b[0m 0.09889 \u001b[0m | \u001b[0m 0.817   \u001b[0m | \u001b[0m 0.8285  \u001b[0m | \u001b[0m 1.435   \u001b[0m | \u001b[0m 1.381   \u001b[0m |\n",
      "6416.365646937593\n",
      "| \u001b[0m 484     \u001b[0m | \u001b[0m 6.416e+0\u001b[0m | \u001b[0m 0.0     \u001b[0m | \u001b[0m 0.446   \u001b[0m | \u001b[0m 0.0     \u001b[0m | \u001b[0m 0.09747 \u001b[0m | \u001b[0m 1.28    \u001b[0m | \u001b[0m 1.5     \u001b[0m | \u001b[0m 1.5     \u001b[0m | \u001b[0m 1.5     \u001b[0m |\n",
      "6406.787765479463\n",
      "| \u001b[0m 485     \u001b[0m | \u001b[0m 6.407e+0\u001b[0m | \u001b[0m 0.0     \u001b[0m | \u001b[0m 0.5231  \u001b[0m | \u001b[0m 0.007997\u001b[0m | \u001b[0m 0.02247 \u001b[0m | \u001b[0m 1.181   \u001b[0m | \u001b[0m 1.5     \u001b[0m | \u001b[0m 1.5     \u001b[0m | \u001b[0m 1.5     \u001b[0m |\n",
      "6020.251771981479\n",
      "| \u001b[0m 486     \u001b[0m | \u001b[0m 6.02e+03\u001b[0m | \u001b[0m 0.03328 \u001b[0m | \u001b[0m 0.3344  \u001b[0m | \u001b[0m 0.06408 \u001b[0m | \u001b[0m 0.1522  \u001b[0m | \u001b[0m 0.6457  \u001b[0m | \u001b[0m 0.6836  \u001b[0m | \u001b[0m 1.394   \u001b[0m | \u001b[0m 0.7999  \u001b[0m |\n",
      "6413.672200987615\n",
      "| \u001b[0m 487     \u001b[0m | \u001b[0m 6.414e+0\u001b[0m | \u001b[0m 0.0     \u001b[0m | \u001b[0m 0.4608  \u001b[0m | \u001b[0m 0.0     \u001b[0m | \u001b[0m 0.08485 \u001b[0m | \u001b[0m 1.262   \u001b[0m | \u001b[0m 1.5     \u001b[0m | \u001b[0m 1.496   \u001b[0m | \u001b[0m 1.49    \u001b[0m |\n",
      "5921.867542610258\n",
      "| \u001b[0m 488     \u001b[0m | \u001b[0m 5.922e+0\u001b[0m | \u001b[0m 0.04936 \u001b[0m | \u001b[0m 0.1472  \u001b[0m | \u001b[0m 0.0154  \u001b[0m | \u001b[0m 0.2465  \u001b[0m | \u001b[0m 0.6247  \u001b[0m | \u001b[0m 0.5547  \u001b[0m | \u001b[0m 1.374   \u001b[0m | \u001b[0m 0.8888  \u001b[0m |\n"
     ]
    },
    {
     "name": "stdout",
     "output_type": "stream",
     "text": [
      "6285.223814455634\n",
      "| \u001b[0m 489     \u001b[0m | \u001b[0m 6.285e+0\u001b[0m | \u001b[0m 0.02814 \u001b[0m | \u001b[0m 0.3037  \u001b[0m | \u001b[0m 0.1903  \u001b[0m | \u001b[0m 0.09117 \u001b[0m | \u001b[0m 0.9359  \u001b[0m | \u001b[0m 0.964   \u001b[0m | \u001b[0m 1.492   \u001b[0m | \u001b[0m 1.066   \u001b[0m |\n",
      "6396.02581598958\n",
      "| \u001b[0m 490     \u001b[0m | \u001b[0m 6.396e+0\u001b[0m | \u001b[0m 0.000296\u001b[0m | \u001b[0m 0.3244  \u001b[0m | \u001b[0m 0.0     \u001b[0m | \u001b[0m 0.2096  \u001b[0m | \u001b[0m 1.225   \u001b[0m | \u001b[0m 1.499   \u001b[0m | \u001b[0m 1.473   \u001b[0m | \u001b[0m 1.413   \u001b[0m |\n",
      "6031.9180938075615\n",
      "| \u001b[0m 491     \u001b[0m | \u001b[0m 6.032e+0\u001b[0m | \u001b[0m 0.05377 \u001b[0m | \u001b[0m 0.224   \u001b[0m | \u001b[0m 0.3499  \u001b[0m | \u001b[0m 0.1613  \u001b[0m | \u001b[0m 1.005   \u001b[0m | \u001b[0m 0.9905  \u001b[0m | \u001b[0m 1.259   \u001b[0m | \u001b[0m 0.866   \u001b[0m |\n",
      "6294.406246013111\n",
      "| \u001b[0m 492     \u001b[0m | \u001b[0m 6.294e+0\u001b[0m | \u001b[0m 0.07003 \u001b[0m | \u001b[0m 0.1029  \u001b[0m | \u001b[0m 0.333   \u001b[0m | \u001b[0m 0.07009 \u001b[0m | \u001b[0m 0.9334  \u001b[0m | \u001b[0m 0.8921  \u001b[0m | \u001b[0m 1.467   \u001b[0m | \u001b[0m 1.26    \u001b[0m |\n",
      "6416.071256949695\n",
      "| \u001b[0m 493     \u001b[0m | \u001b[0m 6.416e+0\u001b[0m | \u001b[0m 0.0     \u001b[0m | \u001b[0m 0.4676  \u001b[0m | \u001b[0m 0.0     \u001b[0m | \u001b[0m 0.0863  \u001b[0m | \u001b[0m 1.269   \u001b[0m | \u001b[0m 1.5     \u001b[0m | \u001b[0m 1.5     \u001b[0m | \u001b[0m 1.5     \u001b[0m |\n",
      "4464.060931681349\n",
      "| \u001b[0m 494     \u001b[0m | \u001b[0m 4.464e+0\u001b[0m | \u001b[0m 0.2705  \u001b[0m | \u001b[0m 0.04623 \u001b[0m | \u001b[0m 0.2638  \u001b[0m | \u001b[0m 0.6699  \u001b[0m | \u001b[0m 0.2439  \u001b[0m | \u001b[0m 1.092   \u001b[0m | \u001b[0m 0.1527  \u001b[0m | \u001b[0m 0.9227  \u001b[0m |\n",
      "6279.076530737204\n",
      "| \u001b[0m 495     \u001b[0m | \u001b[0m 6.279e+0\u001b[0m | \u001b[0m 0.02637 \u001b[0m | \u001b[0m 0.3159  \u001b[0m | \u001b[0m 0.1522  \u001b[0m | \u001b[0m 0.1384  \u001b[0m | \u001b[0m 0.9196  \u001b[0m | \u001b[0m 1.016   \u001b[0m | \u001b[0m 1.321   \u001b[0m | \u001b[0m 1.335   \u001b[0m |\n",
      "6407.06036712785\n",
      "| \u001b[0m 496     \u001b[0m | \u001b[0m 6.407e+0\u001b[0m | \u001b[0m 0.0     \u001b[0m | \u001b[0m 0.3636  \u001b[0m | \u001b[0m 0.0     \u001b[0m | \u001b[0m 0.1551  \u001b[0m | \u001b[0m 1.267   \u001b[0m | \u001b[0m 1.5     \u001b[0m | \u001b[0m 1.5     \u001b[0m | \u001b[0m 1.5     \u001b[0m |\n",
      "6411.691978871133\n",
      "| \u001b[0m 497     \u001b[0m | \u001b[0m 6.412e+0\u001b[0m | \u001b[0m 0.0     \u001b[0m | \u001b[0m 0.449   \u001b[0m | \u001b[0m 0.0031  \u001b[0m | \u001b[0m 0.09117 \u001b[0m | \u001b[0m 1.254   \u001b[0m | \u001b[0m 1.5     \u001b[0m | \u001b[0m 1.5     \u001b[0m | \u001b[0m 1.5     \u001b[0m |\n",
      "6413.812354654831\n",
      "| \u001b[0m 498     \u001b[0m | \u001b[0m 6.414e+0\u001b[0m | \u001b[0m 0.0     \u001b[0m | \u001b[0m 0.3642  \u001b[0m | \u001b[0m 0.0     \u001b[0m | \u001b[0m 0.1709  \u001b[0m | \u001b[0m 1.315   \u001b[0m | \u001b[0m 1.5     \u001b[0m | \u001b[0m 1.5     \u001b[0m | \u001b[0m 1.46    \u001b[0m |\n",
      "6362.164334710696\n",
      "| \u001b[0m 499     \u001b[0m | \u001b[0m 6.362e+0\u001b[0m | \u001b[0m 0.0     \u001b[0m | \u001b[0m 0.2721  \u001b[0m | \u001b[0m 0.08708 \u001b[0m | \u001b[0m 0.1588  \u001b[0m | \u001b[0m 1.124   \u001b[0m | \u001b[0m 0.9248  \u001b[0m | \u001b[0m 1.486   \u001b[0m | \u001b[0m 1.29    \u001b[0m |\n",
      "6420.933930343282\n",
      "| \u001b[0m 500     \u001b[0m | \u001b[0m 6.421e+0\u001b[0m | \u001b[0m 0.0     \u001b[0m | \u001b[0m 0.529   \u001b[0m | \u001b[0m 0.0     \u001b[0m | \u001b[0m 0.0     \u001b[0m | \u001b[0m 1.258   \u001b[0m | \u001b[0m 1.102   \u001b[0m | \u001b[0m 1.5     \u001b[0m | \u001b[0m 1.5     \u001b[0m |\n",
      "6419.182729072157\n",
      "| \u001b[0m 501     \u001b[0m | \u001b[0m 6.419e+0\u001b[0m | \u001b[0m 0.0     \u001b[0m | \u001b[0m 0.4082  \u001b[0m | \u001b[0m 0.0     \u001b[0m | \u001b[0m 0.1319  \u001b[0m | \u001b[0m 1.302   \u001b[0m | \u001b[0m 1.5     \u001b[0m | \u001b[0m 1.5     \u001b[0m | \u001b[0m 1.491   \u001b[0m |\n",
      "6101.649520771668\n",
      "| \u001b[0m 502     \u001b[0m | \u001b[0m 6.102e+0\u001b[0m | \u001b[0m 0.1324  \u001b[0m | \u001b[0m 0.5217  \u001b[0m | \u001b[0m 0.07883 \u001b[0m | \u001b[0m 0.05658 \u001b[0m | \u001b[0m 0.6999  \u001b[0m | \u001b[0m 1.274   \u001b[0m | \u001b[0m 1.223   \u001b[0m | \u001b[0m 1.451   \u001b[0m |\n",
      "3630.2115549638543\n",
      "| \u001b[0m 503     \u001b[0m | \u001b[0m 3.63e+03\u001b[0m | \u001b[0m 0.6619  \u001b[0m | \u001b[0m 0.7353  \u001b[0m | \u001b[0m 0.3219  \u001b[0m | \u001b[0m 0.03004 \u001b[0m | \u001b[0m 1.162   \u001b[0m | \u001b[0m 0.8027  \u001b[0m | \u001b[0m 0.7295  \u001b[0m | \u001b[0m 1.048   \u001b[0m |\n",
      "6421.198982515879\n",
      "| \u001b[0m 504     \u001b[0m | \u001b[0m 6.421e+0\u001b[0m | \u001b[0m 0.0     \u001b[0m | \u001b[0m 0.4781  \u001b[0m | \u001b[0m 0.009833\u001b[0m | \u001b[0m 0.07326 \u001b[0m | \u001b[0m 1.254   \u001b[0m | \u001b[0m 1.5     \u001b[0m | \u001b[0m 1.5     \u001b[0m | \u001b[0m 1.487   \u001b[0m |\n",
      "5877.037635474383\n",
      "| \u001b[0m 505     \u001b[0m | \u001b[0m 5.877e+0\u001b[0m | \u001b[0m 0.02858 \u001b[0m | \u001b[0m 0.2333  \u001b[0m | \u001b[0m 0.07907 \u001b[0m | \u001b[0m 0.1128  \u001b[0m | \u001b[0m 0.7971  \u001b[0m | \u001b[0m 0.6201  \u001b[0m | \u001b[0m 1.23    \u001b[0m | \u001b[0m 0.6881  \u001b[0m |\n",
      "6347.960581067213\n",
      "| \u001b[0m 506     \u001b[0m | \u001b[0m 6.348e+0\u001b[0m | \u001b[0m 0.002382\u001b[0m | \u001b[0m 0.2981  \u001b[0m | \u001b[0m 0.04582 \u001b[0m | \u001b[0m 0.1727  \u001b[0m | \u001b[0m 1.125   \u001b[0m | \u001b[0m 0.8778  \u001b[0m | \u001b[0m 1.427   \u001b[0m | \u001b[0m 1.3     \u001b[0m |\n",
      "2736.8358234404905\n",
      "| \u001b[0m 507     \u001b[0m | \u001b[0m 2.737e+0\u001b[0m | \u001b[0m 0.06028 \u001b[0m | \u001b[0m 0.5618  \u001b[0m | \u001b[0m 0.6437  \u001b[0m | \u001b[0m 0.7477  \u001b[0m | \u001b[0m 1.248   \u001b[0m | \u001b[0m 1.294   \u001b[0m | \u001b[0m 0.9796  \u001b[0m | \u001b[0m 0.4188  \u001b[0m |\n",
      "6418.086500450455\n",
      "| \u001b[0m 508     \u001b[0m | \u001b[0m 6.418e+0\u001b[0m | \u001b[0m 0.0     \u001b[0m | \u001b[0m 0.4036  \u001b[0m | \u001b[0m 0.0     \u001b[0m | \u001b[0m 0.137   \u001b[0m | \u001b[0m 1.305   \u001b[0m | \u001b[0m 1.5     \u001b[0m | \u001b[0m 1.5     \u001b[0m | \u001b[0m 1.485   \u001b[0m |\n",
      "6336.209400022654\n",
      "| \u001b[0m 509     \u001b[0m | \u001b[0m 6.336e+0\u001b[0m | \u001b[0m 0.0     \u001b[0m | \u001b[0m 0.2254  \u001b[0m | \u001b[0m 0.197   \u001b[0m | \u001b[0m 0.1094  \u001b[0m | \u001b[0m 1.024   \u001b[0m | \u001b[0m 0.9348  \u001b[0m | \u001b[0m 1.5     \u001b[0m | \u001b[0m 1.257   \u001b[0m |\n",
      "6413.967832501775\n",
      "| \u001b[0m 510     \u001b[0m | \u001b[0m 6.414e+0\u001b[0m | \u001b[0m 0.0     \u001b[0m | \u001b[0m 0.5234  \u001b[0m | \u001b[0m 0.0     \u001b[0m | \u001b[0m 0.0     \u001b[0m | \u001b[0m 1.269   \u001b[0m | \u001b[0m 1.097   \u001b[0m | \u001b[0m 1.5     \u001b[0m | \u001b[0m 1.5     \u001b[0m |\n",
      "6419.838513083177\n",
      "| \u001b[0m 511     \u001b[0m | \u001b[0m 6.42e+03\u001b[0m | \u001b[0m 0.0     \u001b[0m | \u001b[0m 0.4754  \u001b[0m | \u001b[0m 0.013   \u001b[0m | \u001b[0m 0.07222 \u001b[0m | \u001b[0m 1.247   \u001b[0m | \u001b[0m 1.5     \u001b[0m | \u001b[0m 1.5     \u001b[0m | \u001b[0m 1.468   \u001b[0m |\n",
      "6416.209869583358\n",
      "| \u001b[0m 512     \u001b[0m | \u001b[0m 6.416e+0\u001b[0m | \u001b[0m 0.0     \u001b[0m | \u001b[0m 0.4739  \u001b[0m | \u001b[0m 0.01109 \u001b[0m | \u001b[0m 0.07419 \u001b[0m | \u001b[0m 1.244   \u001b[0m | \u001b[0m 1.5     \u001b[0m | \u001b[0m 1.5     \u001b[0m | \u001b[0m 1.467   \u001b[0m |\n",
      "6120.32154597774\n",
      "| \u001b[0m 513     \u001b[0m | \u001b[0m 6.12e+03\u001b[0m | \u001b[0m 0.03343 \u001b[0m | \u001b[0m 0.3364  \u001b[0m | \u001b[0m 0.216   \u001b[0m | \u001b[0m 0.2104  \u001b[0m | \u001b[0m 1.243   \u001b[0m | \u001b[0m 1.323   \u001b[0m | \u001b[0m 1.089   \u001b[0m | \u001b[0m 1.379   \u001b[0m |\n",
      "6348.67248858115\n",
      "| \u001b[0m 514     \u001b[0m | \u001b[0m 6.349e+0\u001b[0m | \u001b[0m 0.01127 \u001b[0m | \u001b[0m 0.436   \u001b[0m | \u001b[0m 0.02822 \u001b[0m | \u001b[0m 0.1099  \u001b[0m | \u001b[0m 1.076   \u001b[0m | \u001b[0m 1.203   \u001b[0m | \u001b[0m 1.28    \u001b[0m | \u001b[0m 1.426   \u001b[0m |\n",
      "6371.980337061706\n",
      "| \u001b[0m 515     \u001b[0m | \u001b[0m 6.372e+0\u001b[0m | \u001b[0m 0.0     \u001b[0m | \u001b[0m 0.4723  \u001b[0m | \u001b[0m 0.05405 \u001b[0m | \u001b[0m 0.02632 \u001b[0m | \u001b[0m 1.043   \u001b[0m | \u001b[0m 1.057   \u001b[0m | \u001b[0m 1.5     \u001b[0m | \u001b[0m 1.4     \u001b[0m |\n",
      "6411.369598727563\n",
      "| \u001b[0m 516     \u001b[0m | \u001b[0m 6.411e+0\u001b[0m | \u001b[0m 0.0     \u001b[0m | \u001b[0m 0.5754  \u001b[0m | \u001b[0m 0.01586 \u001b[0m | \u001b[0m 0.0     \u001b[0m | \u001b[0m 1.32    \u001b[0m | \u001b[0m 1.423   \u001b[0m | \u001b[0m 1.5     \u001b[0m | \u001b[0m 1.5     \u001b[0m |\n",
      "6421.45547773241\n",
      "| \u001b[0m 517     \u001b[0m | \u001b[0m 6.421e+0\u001b[0m | \u001b[0m 0.0     \u001b[0m | \u001b[0m 0.5344  \u001b[0m | \u001b[0m 0.0     \u001b[0m | \u001b[0m 0.0     \u001b[0m | \u001b[0m 1.267   \u001b[0m | \u001b[0m 1.117   \u001b[0m | \u001b[0m 1.5     \u001b[0m | \u001b[0m 1.5     \u001b[0m |\n",
      "6379.711837772944\n",
      "| \u001b[0m 518     \u001b[0m | \u001b[0m 6.38e+03\u001b[0m | \u001b[0m 0.000811\u001b[0m | \u001b[0m 0.5736  \u001b[0m | \u001b[0m 0.003769\u001b[0m | \u001b[0m 0.002794\u001b[0m | \u001b[0m 1.041   \u001b[0m | \u001b[0m 0.9678  \u001b[0m | \u001b[0m 1.497   \u001b[0m | \u001b[0m 1.493   \u001b[0m |\n",
      "6297.482736464897\n",
      "| \u001b[0m 519     \u001b[0m | \u001b[0m 6.297e+0\u001b[0m | \u001b[0m 0.0     \u001b[0m | \u001b[0m 0.169   \u001b[0m | \u001b[0m 0.2761  \u001b[0m | \u001b[0m 0.08177 \u001b[0m | \u001b[0m 0.9627  \u001b[0m | \u001b[0m 1.0     \u001b[0m | \u001b[0m 1.5     \u001b[0m | \u001b[0m 1.102   \u001b[0m |\n",
      "2330.4623981970035\n",
      "| \u001b[0m 520     \u001b[0m | \u001b[0m 2.33e+03\u001b[0m | \u001b[0m 0.3571  \u001b[0m | \u001b[0m 0.8375  \u001b[0m | \u001b[0m 0.3859  \u001b[0m | \u001b[0m 0.6351  \u001b[0m | \u001b[0m 0.1631  \u001b[0m | \u001b[0m 0.6867  \u001b[0m | \u001b[0m 0.8698  \u001b[0m | \u001b[0m 1.262   \u001b[0m |\n",
      "6357.408044911987\n",
      "| \u001b[0m 521     \u001b[0m | \u001b[0m 6.357e+0\u001b[0m | \u001b[0m 0.0236  \u001b[0m | \u001b[0m 0.2564  \u001b[0m | \u001b[0m 0.07652 \u001b[0m | \u001b[0m 0.1735  \u001b[0m | \u001b[0m 1.096   \u001b[0m | \u001b[0m 0.8516  \u001b[0m | \u001b[0m 1.5     \u001b[0m | \u001b[0m 1.291   \u001b[0m |\n",
      "5947.345761614693\n",
      "| \u001b[0m 522     \u001b[0m | \u001b[0m 5.947e+0\u001b[0m | \u001b[0m 0.09209 \u001b[0m | \u001b[0m 0.1535  \u001b[0m | \u001b[0m 0.1028  \u001b[0m | \u001b[0m 0.1415  \u001b[0m | \u001b[0m 0.6376  \u001b[0m | \u001b[0m 0.5677  \u001b[0m | \u001b[0m 1.386   \u001b[0m | \u001b[0m 0.8282  \u001b[0m |\n",
      "5917.140705390615\n",
      "| \u001b[0m 523     \u001b[0m | \u001b[0m 5.917e+0\u001b[0m | \u001b[0m 0.1267  \u001b[0m | \u001b[0m 0.1379  \u001b[0m | \u001b[0m 0.0807  \u001b[0m | \u001b[0m 0.1076  \u001b[0m | \u001b[0m 0.5655  \u001b[0m | \u001b[0m 0.6279  \u001b[0m | \u001b[0m 1.346   \u001b[0m | \u001b[0m 0.9085  \u001b[0m |\n",
      "5876.959122209468\n",
      "| \u001b[0m 524     \u001b[0m | \u001b[0m 5.877e+0\u001b[0m | \u001b[0m 0.04137 \u001b[0m | \u001b[0m 0.07898 \u001b[0m | \u001b[0m 0.07583 \u001b[0m | \u001b[0m 0.09183 \u001b[0m | \u001b[0m 0.3953  \u001b[0m | \u001b[0m 1.234   \u001b[0m | \u001b[0m 1.219   \u001b[0m | \u001b[0m 1.321   \u001b[0m |\n",
      "5634.923799200286\n",
      "| \u001b[0m 525     \u001b[0m | \u001b[0m 5.635e+0\u001b[0m | \u001b[0m 0.2866  \u001b[0m | \u001b[0m 0.2055  \u001b[0m | \u001b[0m 0.09364 \u001b[0m | \u001b[0m 0.407   \u001b[0m | \u001b[0m 0.7248  \u001b[0m | \u001b[0m 0.9585  \u001b[0m | \u001b[0m 1.374   \u001b[0m | \u001b[0m 1.178   \u001b[0m |\n",
      "6222.499004200595\n",
      "| \u001b[0m 526     \u001b[0m | \u001b[0m 6.222e+0\u001b[0m | \u001b[0m 0.02184 \u001b[0m | \u001b[0m 0.1666  \u001b[0m | \u001b[0m 0.1538  \u001b[0m | \u001b[0m 0.2888  \u001b[0m | \u001b[0m 0.8737  \u001b[0m | \u001b[0m 0.8127  \u001b[0m | \u001b[0m 1.289   \u001b[0m | \u001b[0m 1.415   \u001b[0m |\n"
     ]
    },
    {
     "name": "stdout",
     "output_type": "stream",
     "text": [
      "6381.234010902029\n",
      "| \u001b[0m 527     \u001b[0m | \u001b[0m 6.381e+0\u001b[0m | \u001b[0m 0.000118\u001b[0m | \u001b[0m 0.3255  \u001b[0m | \u001b[0m 0.001041\u001b[0m | \u001b[0m 0.1947  \u001b[0m | \u001b[0m 1.144   \u001b[0m | \u001b[0m 1.499   \u001b[0m | \u001b[0m 1.498   \u001b[0m | \u001b[0m 1.423   \u001b[0m |\n",
      "1708.2048845616675\n",
      "| \u001b[0m 528     \u001b[0m | \u001b[0m 1.708e+0\u001b[0m | \u001b[0m 0.8909  \u001b[0m | \u001b[0m 0.04281 \u001b[0m | \u001b[0m 0.9083  \u001b[0m | \u001b[0m 0.7748  \u001b[0m | \u001b[0m 0.3755  \u001b[0m | \u001b[0m 0.251   \u001b[0m | \u001b[0m 0.8854  \u001b[0m | \u001b[0m 1.311   \u001b[0m |\n",
      "6414.881965476896\n",
      "| \u001b[0m 529     \u001b[0m | \u001b[0m 6.415e+0\u001b[0m | \u001b[0m 0.0     \u001b[0m | \u001b[0m 0.4112  \u001b[0m | \u001b[0m 0.0     \u001b[0m | \u001b[0m 0.1263  \u001b[0m | \u001b[0m 1.306   \u001b[0m | \u001b[0m 1.5     \u001b[0m | \u001b[0m 1.5     \u001b[0m | \u001b[0m 1.499   \u001b[0m |\n",
      "6379.402899437648\n",
      "| \u001b[0m 530     \u001b[0m | \u001b[0m 6.379e+0\u001b[0m | \u001b[0m 0.0     \u001b[0m | \u001b[0m 0.2928  \u001b[0m | \u001b[0m 0.09679 \u001b[0m | \u001b[0m 0.1458  \u001b[0m | \u001b[0m 1.152   \u001b[0m | \u001b[0m 0.979   \u001b[0m | \u001b[0m 1.5     \u001b[0m | \u001b[0m 1.314   \u001b[0m |\n",
      "6222.974051830132\n",
      "| \u001b[0m 531     \u001b[0m | \u001b[0m 6.223e+0\u001b[0m | \u001b[0m 0.1811  \u001b[0m | \u001b[0m 0.5049  \u001b[0m | \u001b[0m 0.04456 \u001b[0m | \u001b[0m 0.036   \u001b[0m | \u001b[0m 1.011   \u001b[0m | \u001b[0m 1.07    \u001b[0m | \u001b[0m 1.492   \u001b[0m | \u001b[0m 1.428   \u001b[0m |\n",
      "6215.603105016439\n",
      "| \u001b[0m 532     \u001b[0m | \u001b[0m 6.216e+0\u001b[0m | \u001b[0m 0.01677 \u001b[0m | \u001b[0m 0.1426  \u001b[0m | \u001b[0m 0.06504 \u001b[0m | \u001b[0m 0.2614  \u001b[0m | \u001b[0m 0.9708  \u001b[0m | \u001b[0m 0.7009  \u001b[0m | \u001b[0m 1.274   \u001b[0m | \u001b[0m 1.344   \u001b[0m |\n",
      "5786.71330389022\n",
      "| \u001b[0m 533     \u001b[0m | \u001b[0m 5.787e+0\u001b[0m | \u001b[0m 0.082   \u001b[0m | \u001b[0m 0.5474  \u001b[0m | \u001b[0m 0.1449  \u001b[0m | \u001b[0m 0.1732  \u001b[0m | \u001b[0m 0.5755  \u001b[0m | \u001b[0m 0.9903  \u001b[0m | \u001b[0m 1.211   \u001b[0m | \u001b[0m 1.412   \u001b[0m |\n",
      "6376.9735646866875\n",
      "| \u001b[0m 534     \u001b[0m | \u001b[0m 6.377e+0\u001b[0m | \u001b[0m 0.006217\u001b[0m | \u001b[0m 0.3112  \u001b[0m | \u001b[0m 0.09149 \u001b[0m | \u001b[0m 0.1387  \u001b[0m | \u001b[0m 1.197   \u001b[0m | \u001b[0m 1.029   \u001b[0m | \u001b[0m 1.5     \u001b[0m | \u001b[0m 1.343   \u001b[0m |\n",
      "6370.94584230414\n",
      "| \u001b[0m 535     \u001b[0m | \u001b[0m 6.371e+0\u001b[0m | \u001b[0m 0.01582 \u001b[0m | \u001b[0m 0.3056  \u001b[0m | \u001b[0m 0.1015  \u001b[0m | \u001b[0m 0.1273  \u001b[0m | \u001b[0m 1.148   \u001b[0m | \u001b[0m 0.9881  \u001b[0m | \u001b[0m 1.5     \u001b[0m | \u001b[0m 1.337   \u001b[0m |\n",
      "6369.076418680082\n",
      "| \u001b[0m 536     \u001b[0m | \u001b[0m 6.369e+0\u001b[0m | \u001b[0m 0.0     \u001b[0m | \u001b[0m 0.2923  \u001b[0m | \u001b[0m 0.08825 \u001b[0m | \u001b[0m 0.1735  \u001b[0m | \u001b[0m 1.185   \u001b[0m | \u001b[0m 1.025   \u001b[0m | \u001b[0m 1.5     \u001b[0m | \u001b[0m 1.297   \u001b[0m |\n",
      "6197.494698263394\n",
      "| \u001b[0m 537     \u001b[0m | \u001b[0m 6.197e+0\u001b[0m | \u001b[0m 0.08943 \u001b[0m | \u001b[0m 0.1551  \u001b[0m | \u001b[0m 0.09987 \u001b[0m | \u001b[0m 0.2136  \u001b[0m | \u001b[0m 0.8254  \u001b[0m | \u001b[0m 0.561   \u001b[0m | \u001b[0m 1.255   \u001b[0m | \u001b[0m 1.446   \u001b[0m |\n",
      "2001.576304817542\n",
      "| \u001b[0m 538     \u001b[0m | \u001b[0m 2.002e+0\u001b[0m | \u001b[0m 0.8839  \u001b[0m | \u001b[0m 0.945   \u001b[0m | \u001b[0m 0.6106  \u001b[0m | \u001b[0m 0.2719  \u001b[0m | \u001b[0m 1.092   \u001b[0m | \u001b[0m 0.07644 \u001b[0m | \u001b[0m 1.352   \u001b[0m | \u001b[0m 1.153   \u001b[0m |\n",
      "6234.046122779486\n",
      "| \u001b[0m 539     \u001b[0m | \u001b[0m 6.234e+0\u001b[0m | \u001b[0m 0.1767  \u001b[0m | \u001b[0m 0.3953  \u001b[0m | \u001b[0m 0.01316 \u001b[0m | \u001b[0m 0.1707  \u001b[0m | \u001b[0m 1.268   \u001b[0m | \u001b[0m 1.065   \u001b[0m | \u001b[0m 1.415   \u001b[0m | \u001b[0m 1.254   \u001b[0m |\n",
      "6402.993393611056\n",
      "| \u001b[0m 540     \u001b[0m | \u001b[0m 6.403e+0\u001b[0m | \u001b[0m 0.0     \u001b[0m | \u001b[0m 0.454   \u001b[0m | \u001b[0m 0.01697 \u001b[0m | \u001b[0m 0.09923 \u001b[0m | \u001b[0m 1.196   \u001b[0m | \u001b[0m 1.5     \u001b[0m | \u001b[0m 1.5     \u001b[0m | \u001b[0m 1.406   \u001b[0m |\n",
      "6278.2969699583255\n",
      "| \u001b[0m 541     \u001b[0m | \u001b[0m 6.278e+0\u001b[0m | \u001b[0m 0.02119 \u001b[0m | \u001b[0m 0.1115  \u001b[0m | \u001b[0m 0.2007  \u001b[0m | \u001b[0m 0.1575  \u001b[0m | \u001b[0m 1.316   \u001b[0m | \u001b[0m 1.01    \u001b[0m | \u001b[0m 1.055   \u001b[0m | \u001b[0m 1.269   \u001b[0m |\n",
      "6413.732416743564\n",
      "| \u001b[0m 542     \u001b[0m | \u001b[0m 6.414e+0\u001b[0m | \u001b[0m 0.000531\u001b[0m | \u001b[0m 0.3428  \u001b[0m | \u001b[0m 0.003379\u001b[0m | \u001b[0m 0.1861  \u001b[0m | \u001b[0m 1.281   \u001b[0m | \u001b[0m 1.498   \u001b[0m | \u001b[0m 1.474   \u001b[0m | \u001b[0m 1.45    \u001b[0m |\n",
      "6316.948396251112\n",
      "| \u001b[0m 543     \u001b[0m | \u001b[0m 6.317e+0\u001b[0m | \u001b[0m 0.0     \u001b[0m | \u001b[0m 0.5177  \u001b[0m | \u001b[0m 0.00111 \u001b[0m | \u001b[0m 0.01275 \u001b[0m | \u001b[0m 0.8406  \u001b[0m | \u001b[0m 0.7844  \u001b[0m | \u001b[0m 1.5     \u001b[0m | \u001b[0m 1.423   \u001b[0m |\n",
      "6410.780851135367\n",
      "| \u001b[0m 544     \u001b[0m | \u001b[0m 6.411e+0\u001b[0m | \u001b[0m 0.0     \u001b[0m | \u001b[0m 0.3515  \u001b[0m | \u001b[0m 0.0     \u001b[0m | \u001b[0m 0.1935  \u001b[0m | \u001b[0m 1.281   \u001b[0m | \u001b[0m 1.5     \u001b[0m | \u001b[0m 1.5     \u001b[0m | \u001b[0m 1.455   \u001b[0m |\n",
      "6301.872556418577\n",
      "| \u001b[0m 545     \u001b[0m | \u001b[0m 6.302e+0\u001b[0m | \u001b[0m 0.00037 \u001b[0m | \u001b[0m 0.526   \u001b[0m | \u001b[0m 0.000745\u001b[0m | \u001b[0m 0.02835 \u001b[0m | \u001b[0m 0.812   \u001b[0m | \u001b[0m 0.7936  \u001b[0m | \u001b[0m 1.5     \u001b[0m | \u001b[0m 1.374   \u001b[0m |\n",
      "6086.37474092468\n",
      "| \u001b[0m 546     \u001b[0m | \u001b[0m 6.086e+0\u001b[0m | \u001b[0m 0.03056 \u001b[0m | \u001b[0m 0.3179  \u001b[0m | \u001b[0m 0.04707 \u001b[0m | \u001b[0m 0.1448  \u001b[0m | \u001b[0m 0.5279  \u001b[0m | \u001b[0m 0.7012  \u001b[0m | \u001b[0m 1.458   \u001b[0m | \u001b[0m 1.056   \u001b[0m |\n",
      "6417.54280304454\n",
      "| \u001b[0m 547     \u001b[0m | \u001b[0m 6.418e+0\u001b[0m | \u001b[0m 0.0     \u001b[0m | \u001b[0m 0.5813  \u001b[0m | \u001b[0m 0.0     \u001b[0m | \u001b[0m 0.0     \u001b[0m | \u001b[0m 1.327   \u001b[0m | \u001b[0m 1.418   \u001b[0m | \u001b[0m 1.5     \u001b[0m | \u001b[0m 1.5     \u001b[0m |\n",
      "6419.6931146645165\n",
      "| \u001b[0m 548     \u001b[0m | \u001b[0m 6.42e+03\u001b[0m | \u001b[0m 0.0     \u001b[0m | \u001b[0m 0.5629  \u001b[0m | \u001b[0m 0.0     \u001b[0m | \u001b[0m 0.0     \u001b[0m | \u001b[0m 1.383   \u001b[0m | \u001b[0m 1.419   \u001b[0m | \u001b[0m 1.5     \u001b[0m | \u001b[0m 1.492   \u001b[0m |\n",
      "5814.543749858375\n",
      "| \u001b[0m 549     \u001b[0m | \u001b[0m 5.815e+0\u001b[0m | \u001b[0m 0.09293 \u001b[0m | \u001b[0m 0.2211  \u001b[0m | \u001b[0m 0.2702  \u001b[0m | \u001b[0m 0.2382  \u001b[0m | \u001b[0m 0.8567  \u001b[0m | \u001b[0m 0.6272  \u001b[0m | \u001b[0m 1.248   \u001b[0m | \u001b[0m 0.6742  \u001b[0m |\n",
      "6432.077171573583\n",
      "| \u001b[0m 550     \u001b[0m | \u001b[0m 6.432e+0\u001b[0m | \u001b[0m 0.0     \u001b[0m | \u001b[0m 0.5479  \u001b[0m | \u001b[0m 1.601e-1\u001b[0m | \u001b[0m 0.0     \u001b[0m | \u001b[0m 1.346   \u001b[0m | \u001b[0m 1.163   \u001b[0m | \u001b[0m 1.5     \u001b[0m | \u001b[0m 1.5     \u001b[0m |\n",
      "=========================================================================================================================\n"
     ]
    }
   ],
   "source": [
    "optimizer.maximize(\n",
    "    init_points = 50,\n",
    "    n_iter = 500\n",
    ")"
   ]
  },
  {
   "cell_type": "code",
   "execution_count": 72,
   "metadata": {},
   "outputs": [
    {
     "name": "stdout",
     "output_type": "stream",
     "text": [
      "{'target': 6437.736119126102, 'params': {'w1': 0.0, 'w2': 0.5361283013725007, 'w3': 0.0, 'w4': 0.0, 'w5': 1.3675901396673014, 'w6': 1.1385865634353487, 'w7': 1.5, 'w8': 1.4999999990570498}}\n"
     ]
    }
   ],
   "source": [
    "print(optimizer.max)"
   ]
  },
  {
   "cell_type": "markdown",
   "metadata": {},
   "source": [
    "베이지안 최적화를 통한 weight값이 실제 예측에 쓰인 값과 다를 수 있는데 이는 매 실행마다 결과가 다르기 때문이며 성능에는 크게 영향을 미치지 않는 것으로 판단됩니다. 이를 참고해 주시기 바랍니다."
   ]
  },
  {
   "cell_type": "code",
   "execution_count": null,
   "metadata": {},
   "outputs": [],
   "source": []
  }
 ],
 "metadata": {
  "kernelspec": {
   "display_name": "Python 3",
   "language": "python",
   "name": "python3"
  },
  "language_info": {
   "codemirror_mode": {
    "name": "ipython",
    "version": 3
   },
   "file_extension": ".py",
   "mimetype": "text/x-python",
   "name": "python",
   "nbconvert_exporter": "python",
   "pygments_lexer": "ipython3",
   "version": "3.6.5"
  }
 },
 "nbformat": 4,
 "nbformat_minor": 2
}
