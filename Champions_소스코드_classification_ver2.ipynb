{
 "cells": [
  {
   "cell_type": "code",
   "execution_count": 1,
   "metadata": {},
   "outputs": [],
   "source": [
    "import pandas as pd\n",
    "import numpy as np\n",
    "import matplotlib.pyplot as plt\n",
    "import seaborn as sns"
   ]
  },
  {
   "cell_type": "code",
   "execution_count": 2,
   "metadata": {},
   "outputs": [],
   "source": [
    "train1 = pd.read_csv('/home/user3/anaconda3/빅콘테스트/train_activity.csv', engine = 'python')\n",
    "train2 = pd.read_csv('/home/user3/anaconda3/빅콘테스트/train_combat.csv', engine = 'python')\n",
    "train3 = pd.read_csv('/home/user3/anaconda3/빅콘테스트/train_pledge.csv', engine = 'python')\n",
    "train4 = pd.read_csv('/home/user3/anaconda3/빅콘테스트/train_payment.csv', engine = 'python')\n",
    "train5 = pd.read_csv('/home/user3/anaconda3/빅콘테스트/train_trade.csv', engine = 'python')\n",
    "y_train = pd.read_csv('/home/user3/anaconda3/빅콘테스트/train_label.csv', engine = 'python')"
   ]
  },
  {
   "cell_type": "code",
   "execution_count": 3,
   "metadata": {},
   "outputs": [
    {
     "name": "stderr",
     "output_type": "stream",
     "text": [
      "/home/user3/.conda/envs/hun/lib/python3.6/site-packages/ipykernel_launcher.py:3: SettingWithCopyWarning: \n",
      "A value is trying to be set on a copy of a slice from a DataFrame\n",
      "\n",
      "See the caveats in the documentation: http://pandas.pydata.org/pandas-docs/stable/indexing.html#indexing-view-versus-copy\n",
      "  This is separate from the ipykernel package so we can avoid doing imports until\n"
     ]
    }
   ],
   "source": [
    "# 잔존 고객 0, 이탈 고객 1\n",
    "y_train['leave'] = 0\n",
    "y_train['leave'][y_train.survival_time < 64] = 1"
   ]
  },
  {
   "cell_type": "code",
   "execution_count": 4,
   "metadata": {},
   "outputs": [
    {
     "name": "stderr",
     "output_type": "stream",
     "text": [
      "/home/user3/.conda/envs/hun/lib/python3.6/site-packages/ipykernel_launcher.py:3: SettingWithCopyWarning: \n",
      "A value is trying to be set on a copy of a slice from a DataFrame\n",
      "\n",
      "See the caveats in the documentation: http://pandas.pydata.org/pandas-docs/stable/indexing.html#indexing-view-versus-copy\n",
      "  This is separate from the ipykernel package so we can avoid doing imports until\n"
     ]
    }
   ],
   "source": [
    "# 결제 기록이 없으면 0, 결제 기록이 있으면 1\n",
    "y_train['amount'] = 0\n",
    "y_train['amount'][y_train.amount_spent > 0] = 1"
   ]
  },
  {
   "cell_type": "code",
   "execution_count": 5,
   "metadata": {},
   "outputs": [],
   "source": [
    "from sklearn.model_selection import StratifiedShuffleSplit\n",
    "\n",
    "split = StratifiedShuffleSplit(n_splits = 1, test_size = 0.25, random_state = 42)\n",
    "for train_index, test_index in split.split(y_train, y_train['leave']):\n",
    "    strat_y_train = y_train.loc[train_index]\n",
    "    strat_y_test = y_train.loc[test_index]"
   ]
  },
  {
   "cell_type": "code",
   "execution_count": 6,
   "metadata": {},
   "outputs": [
    {
     "data": {
      "text/plain": [
       "(30000, 10000)"
      ]
     },
     "execution_count": 6,
     "metadata": {},
     "output_type": "execute_result"
    }
   ],
   "source": [
    "len(strat_y_train), len(strat_y_test)"
   ]
  },
  {
   "cell_type": "code",
   "execution_count": 7,
   "metadata": {},
   "outputs": [
    {
     "data": {
      "text/plain": [
       "(0.4501, 0.4501)"
      ]
     },
     "execution_count": 7,
     "metadata": {},
     "output_type": "execute_result"
    }
   ],
   "source": [
    "strat_y_train['leave'].mean(), strat_y_test['leave'].mean()"
   ]
  },
  {
   "cell_type": "code",
   "execution_count": 8,
   "metadata": {},
   "outputs": [],
   "source": [
    "y_train = strat_y_train.sort_values(['acc_id'], ascending = True)\n",
    "y_test = strat_y_test.sort_values(['acc_id'], ascending = True)"
   ]
  },
  {
   "cell_type": "code",
   "execution_count": 9,
   "metadata": {},
   "outputs": [],
   "source": [
    "train_id = y_train['acc_id'].values\n",
    "test_id = y_test['acc_id'].values"
   ]
  },
  {
   "cell_type": "code",
   "execution_count": 10,
   "metadata": {},
   "outputs": [],
   "source": [
    "pd.DataFrame(y_train['acc_id']).to_csv('train_index.csv', index = False)\n",
    "pd.DataFrame(y_test['acc_id']).to_csv('test_index.csv', index = False)"
   ]
  },
  {
   "cell_type": "markdown",
   "metadata": {},
   "source": [
    "# 2. 모델링"
   ]
  },
  {
   "cell_type": "code",
   "execution_count": 11,
   "metadata": {},
   "outputs": [],
   "source": [
    "X_train = pd.read_csv('X_train_ver2.csv')"
   ]
  },
  {
   "cell_type": "code",
   "execution_count": 12,
   "metadata": {},
   "outputs": [
    {
     "data": {
      "text/html": [
       "<div>\n",
       "<style scoped>\n",
       "    .dataframe tbody tr th:only-of-type {\n",
       "        vertical-align: middle;\n",
       "    }\n",
       "\n",
       "    .dataframe tbody tr th {\n",
       "        vertical-align: top;\n",
       "    }\n",
       "\n",
       "    .dataframe thead th {\n",
       "        text-align: right;\n",
       "    }\n",
       "</style>\n",
       "<table border=\"1\" class=\"dataframe\">\n",
       "  <thead>\n",
       "    <tr style=\"text-align: right;\">\n",
       "      <th></th>\n",
       "      <th>acc_id</th>\n",
       "      <th>level</th>\n",
       "      <th>playtime_1</th>\n",
       "      <th>playtime_2</th>\n",
       "      <th>playtime_3</th>\n",
       "      <th>playtime_4</th>\n",
       "      <th>npc_kill_1</th>\n",
       "      <th>npc_kill_2</th>\n",
       "      <th>npc_kill_3</th>\n",
       "      <th>npc_kill_4</th>\n",
       "      <th>...</th>\n",
       "      <th>target_type_1_week3_etc</th>\n",
       "      <th>target_type_1_week4_etc</th>\n",
       "      <th>source_weapon</th>\n",
       "      <th>target_weapon</th>\n",
       "      <th>source_armor</th>\n",
       "      <th>target_armor</th>\n",
       "      <th>source_accessory</th>\n",
       "      <th>target_accessory</th>\n",
       "      <th>source_spell</th>\n",
       "      <th>target_spell</th>\n",
       "    </tr>\n",
       "  </thead>\n",
       "  <tbody>\n",
       "    <tr>\n",
       "      <th>0</th>\n",
       "      <td>2.0</td>\n",
       "      <td>0</td>\n",
       "      <td>22.919696</td>\n",
       "      <td>22.980553</td>\n",
       "      <td>22.659883</td>\n",
       "      <td>22.973531</td>\n",
       "      <td>0.000000</td>\n",
       "      <td>0.000000</td>\n",
       "      <td>0.000000</td>\n",
       "      <td>0.000000</td>\n",
       "      <td>...</td>\n",
       "      <td>0.000000e+00</td>\n",
       "      <td>0.000000</td>\n",
       "      <td>0</td>\n",
       "      <td>0</td>\n",
       "      <td>1</td>\n",
       "      <td>0</td>\n",
       "      <td>0</td>\n",
       "      <td>0</td>\n",
       "      <td>0</td>\n",
       "      <td>0</td>\n",
       "    </tr>\n",
       "    <tr>\n",
       "      <th>1</th>\n",
       "      <td>5.0</td>\n",
       "      <td>15</td>\n",
       "      <td>0.000000</td>\n",
       "      <td>0.589845</td>\n",
       "      <td>0.213000</td>\n",
       "      <td>5.313287</td>\n",
       "      <td>0.000000</td>\n",
       "      <td>0.310229</td>\n",
       "      <td>0.162887</td>\n",
       "      <td>2.763336</td>\n",
       "      <td>...</td>\n",
       "      <td>0.000000e+00</td>\n",
       "      <td>0.000000</td>\n",
       "      <td>0</td>\n",
       "      <td>0</td>\n",
       "      <td>0</td>\n",
       "      <td>0</td>\n",
       "      <td>0</td>\n",
       "      <td>0</td>\n",
       "      <td>0</td>\n",
       "      <td>0</td>\n",
       "    </tr>\n",
       "    <tr>\n",
       "      <th>2</th>\n",
       "      <td>8.0</td>\n",
       "      <td>16</td>\n",
       "      <td>4.987936</td>\n",
       "      <td>4.889629</td>\n",
       "      <td>4.653223</td>\n",
       "      <td>4.267014</td>\n",
       "      <td>26.808113</td>\n",
       "      <td>1.325063</td>\n",
       "      <td>1.444694</td>\n",
       "      <td>1.594739</td>\n",
       "      <td>...</td>\n",
       "      <td>0.000000e+00</td>\n",
       "      <td>0.000000</td>\n",
       "      <td>0</td>\n",
       "      <td>0</td>\n",
       "      <td>0</td>\n",
       "      <td>0</td>\n",
       "      <td>0</td>\n",
       "      <td>0</td>\n",
       "      <td>1</td>\n",
       "      <td>0</td>\n",
       "    </tr>\n",
       "    <tr>\n",
       "      <th>3</th>\n",
       "      <td>17.0</td>\n",
       "      <td>16</td>\n",
       "      <td>5.406914</td>\n",
       "      <td>9.048973</td>\n",
       "      <td>7.831832</td>\n",
       "      <td>6.176989</td>\n",
       "      <td>25.931158</td>\n",
       "      <td>1.328780</td>\n",
       "      <td>1.362575</td>\n",
       "      <td>1.834339</td>\n",
       "      <td>...</td>\n",
       "      <td>7.190952e-08</td>\n",
       "      <td>0.000029</td>\n",
       "      <td>1</td>\n",
       "      <td>1</td>\n",
       "      <td>0</td>\n",
       "      <td>1</td>\n",
       "      <td>1</td>\n",
       "      <td>1</td>\n",
       "      <td>0</td>\n",
       "      <td>1</td>\n",
       "    </tr>\n",
       "    <tr>\n",
       "      <th>4</th>\n",
       "      <td>21.0</td>\n",
       "      <td>16</td>\n",
       "      <td>6.048253</td>\n",
       "      <td>7.363701</td>\n",
       "      <td>4.966870</td>\n",
       "      <td>3.452466</td>\n",
       "      <td>4.379366</td>\n",
       "      <td>4.602406</td>\n",
       "      <td>0.654252</td>\n",
       "      <td>1.135141</td>\n",
       "      <td>...</td>\n",
       "      <td>0.000000e+00</td>\n",
       "      <td>0.000000</td>\n",
       "      <td>1</td>\n",
       "      <td>0</td>\n",
       "      <td>0</td>\n",
       "      <td>1</td>\n",
       "      <td>0</td>\n",
       "      <td>1</td>\n",
       "      <td>0</td>\n",
       "      <td>0</td>\n",
       "    </tr>\n",
       "  </tbody>\n",
       "</table>\n",
       "<p>5 rows × 147 columns</p>\n",
       "</div>"
      ],
      "text/plain": [
       "   acc_id  level  playtime_1  playtime_2  playtime_3  playtime_4  npc_kill_1  \\\n",
       "0     2.0      0   22.919696   22.980553   22.659883   22.973531    0.000000   \n",
       "1     5.0     15    0.000000    0.589845    0.213000    5.313287    0.000000   \n",
       "2     8.0     16    4.987936    4.889629    4.653223    4.267014   26.808113   \n",
       "3    17.0     16    5.406914    9.048973    7.831832    6.176989   25.931158   \n",
       "4    21.0     16    6.048253    7.363701    4.966870    3.452466    4.379366   \n",
       "\n",
       "   npc_kill_2  npc_kill_3  npc_kill_4  ...  target_type_1_week3_etc  \\\n",
       "0    0.000000    0.000000    0.000000  ...             0.000000e+00   \n",
       "1    0.310229    0.162887    2.763336  ...             0.000000e+00   \n",
       "2    1.325063    1.444694    1.594739  ...             0.000000e+00   \n",
       "3    1.328780    1.362575    1.834339  ...             7.190952e-08   \n",
       "4    4.602406    0.654252    1.135141  ...             0.000000e+00   \n",
       "\n",
       "   target_type_1_week4_etc  source_weapon  target_weapon  source_armor  \\\n",
       "0                 0.000000              0              0             1   \n",
       "1                 0.000000              0              0             0   \n",
       "2                 0.000000              0              0             0   \n",
       "3                 0.000029              1              1             0   \n",
       "4                 0.000000              1              0             0   \n",
       "\n",
       "   target_armor  source_accessory  target_accessory  source_spell  \\\n",
       "0             0                 0                 0             0   \n",
       "1             0                 0                 0             0   \n",
       "2             0                 0                 0             1   \n",
       "3             1                 1                 1             0   \n",
       "4             1                 0                 1             0   \n",
       "\n",
       "   target_spell  \n",
       "0             0  \n",
       "1             0  \n",
       "2             0  \n",
       "3             1  \n",
       "4             0  \n",
       "\n",
       "[5 rows x 147 columns]"
      ]
     },
     "execution_count": 12,
     "metadata": {},
     "output_type": "execute_result"
    }
   ],
   "source": [
    "X_train.head()"
   ]
  },
  {
   "cell_type": "markdown",
   "metadata": {},
   "source": [
    "**feature**\n",
    "- 범주형 : 'server', 'class', 'weapon' 거래 여부, 'armor' 거래 여부, 'accessory' 거래 여부, 'spell' 거래 여부            \n",
    "- 연속형 : 그 외('acc_id' 제외)     \n",
    "\n",
    "**target**\n",
    "- 잔존 여부 : 'leave', 'survival_time'                     \n",
    "- 결제 여부 : 'amount', 'amount_spent'"
   ]
  },
  {
   "cell_type": "code",
   "execution_count": 13,
   "metadata": {},
   "outputs": [],
   "source": [
    "X_train_columns = X_train.columns"
   ]
  },
  {
   "cell_type": "markdown",
   "metadata": {},
   "source": [
    "### 정규화(MinMax)"
   ]
  },
  {
   "cell_type": "code",
   "execution_count": 14,
   "metadata": {},
   "outputs": [],
   "source": [
    "from sklearn.preprocessing import MinMaxScaler\n",
    "\n",
    "minMaxScaler = MinMaxScaler()\n",
    "# X_train = minMaxScaler.fit_transform(X_train.iloc[:, 1:])\n",
    "\n",
    "X_train = X_train.iloc[:, 1:]"
   ]
  },
  {
   "cell_type": "markdown",
   "metadata": {},
   "source": [
    "## 생존 여부"
   ]
  },
  {
   "cell_type": "markdown",
   "metadata": {},
   "source": [
    "### AdaBoost"
   ]
  },
  {
   "cell_type": "code",
   "execution_count": 15,
   "metadata": {},
   "outputs": [
    {
     "name": "stdout",
     "output_type": "stream",
     "text": [
      "Fitting 5 folds for each of 4 candidates, totalling 20 fits\n"
     ]
    },
    {
     "name": "stderr",
     "output_type": "stream",
     "text": [
      "[Parallel(n_jobs=-1)]: Using backend LokyBackend with 32 concurrent workers.\n",
      "[Parallel(n_jobs=-1)]: Done  12 out of  20 | elapsed:    3.1s remaining:    2.1s\n",
      "[Parallel(n_jobs=-1)]: Done  20 out of  20 | elapsed:    3.4s finished\n"
     ]
    },
    {
     "data": {
      "text/plain": [
       "GridSearchCV(cv=5, error_score='raise-deprecating',\n",
       "             estimator=DecisionTreeClassifier(class_weight=None,\n",
       "                                              criterion='gini', max_depth=None,\n",
       "                                              max_features=None,\n",
       "                                              max_leaf_nodes=None,\n",
       "                                              min_impurity_decrease=0.0,\n",
       "                                              min_impurity_split=None,\n",
       "                                              min_samples_leaf=1,\n",
       "                                              min_samples_split=2,\n",
       "                                              min_weight_fraction_leaf=0.0,\n",
       "                                              presort=False, random_state=42,\n",
       "                                              splitter='best'),\n",
       "             iid='warn', n_jobs=-1, param_grid=[{'max_depth': [7, 8, 9, 10]}],\n",
       "             pre_dispatch='2*n_jobs', refit=True, return_train_score=False,\n",
       "             scoring='accuracy', verbose=2)"
      ]
     },
     "execution_count": 15,
     "metadata": {},
     "output_type": "execute_result"
    }
   ],
   "source": [
    "from sklearn.model_selection import GridSearchCV\n",
    "from sklearn.tree import DecisionTreeClassifier\n",
    "\n",
    "tree = DecisionTreeClassifier(random_state = 42)\n",
    "\n",
    "param_grid = [\n",
    "    {'max_depth' : [7, 8, 9, 10]}\n",
    "  ]\n",
    "\n",
    "grid_search = GridSearchCV(tree, param_grid, cv = 5,\n",
    "                           scoring = 'accuracy', verbose = 2, n_jobs = -1)\n",
    "grid_search.fit(X_train, y_train['leave'])"
   ]
  },
  {
   "cell_type": "code",
   "execution_count": 16,
   "metadata": {},
   "outputs": [
    {
     "name": "stdout",
     "output_type": "stream",
     "text": [
      "0.7161\n",
      "{'max_depth': 9}\n"
     ]
    }
   ],
   "source": [
    "print(grid_search.best_score_)\n",
    "print(grid_search.best_params_)"
   ]
  },
  {
   "cell_type": "code",
   "execution_count": 17,
   "metadata": {},
   "outputs": [
    {
     "name": "stdout",
     "output_type": "stream",
     "text": [
      "Fitting 5 folds for each of 9 candidates, totalling 45 fits\n"
     ]
    },
    {
     "name": "stderr",
     "output_type": "stream",
     "text": [
      "[Parallel(n_jobs=-1)]: Using backend LokyBackend with 32 concurrent workers.\n",
      "[Parallel(n_jobs=-1)]: Done   5 out of  45 | elapsed:  5.9min remaining: 47.0min\n",
      "[Parallel(n_jobs=-1)]: Done  28 out of  45 | elapsed: 13.2min remaining:  8.0min\n",
      "[Parallel(n_jobs=-1)]: Done  45 out of  45 | elapsed: 19.3min finished\n"
     ]
    },
    {
     "data": {
      "text/plain": [
       "GridSearchCV(cv=5, error_score='raise-deprecating',\n",
       "             estimator=AdaBoostClassifier(algorithm='SAMME.R',\n",
       "                                          base_estimator=DecisionTreeClassifier(class_weight=None,\n",
       "                                                                                criterion='gini',\n",
       "                                                                                max_depth=9,\n",
       "                                                                                max_features=None,\n",
       "                                                                                max_leaf_nodes=None,\n",
       "                                                                                min_impurity_decrease=0.0,\n",
       "                                                                                min_impurity_split=None,\n",
       "                                                                                min_samples_leaf=1,\n",
       "                                                                                min_samples_split=2,\n",
       "                                                                                min_weight_fraction_leaf=0.0,\n",
       "                                                                                presort=False,\n",
       "                                                                                random_state=None,\n",
       "                                                                                splitter='best'),\n",
       "                                          learning_rate=1.0, n_estimators=50,\n",
       "                                          random_state=42),\n",
       "             iid='warn', n_jobs=-1,\n",
       "             param_grid=[{'learning_rate': [0.001, 0.01, 0.1],\n",
       "                          'n_estimators': [300, 500, 750]}],\n",
       "             pre_dispatch='2*n_jobs', refit=True, return_train_score=False,\n",
       "             scoring='accuracy', verbose=2)"
      ]
     },
     "execution_count": 17,
     "metadata": {},
     "output_type": "execute_result"
    }
   ],
   "source": [
    "from sklearn.model_selection import GridSearchCV\n",
    "from sklearn.ensemble import AdaBoostClassifier\n",
    "\n",
    "ada = AdaBoostClassifier(base_estimator = DecisionTreeClassifier(max_depth = 9), random_state = 42)\n",
    "\n",
    "param_grid = [\n",
    "    {'learning_rate' : [0.001, 0.01, 0.1], 'n_estimators' : [300, 500, 750]}\n",
    "  ]\n",
    "\n",
    "grid_search = GridSearchCV(ada, param_grid, cv = 5,\n",
    "                           scoring = 'accuracy', verbose = 2, n_jobs = -1)\n",
    "grid_search.fit(X_train, y_train['leave'])"
   ]
  },
  {
   "cell_type": "code",
   "execution_count": 18,
   "metadata": {},
   "outputs": [
    {
     "name": "stdout",
     "output_type": "stream",
     "text": [
      "0.7512666666666666\n",
      "{'learning_rate': 0.1, 'n_estimators': 750}\n"
     ]
    }
   ],
   "source": [
    "print(grid_search.best_score_)\n",
    "print(grid_search.best_params_)"
   ]
  },
  {
   "cell_type": "code",
   "execution_count": 19,
   "metadata": {},
   "outputs": [
    {
     "name": "stderr",
     "output_type": "stream",
     "text": [
      "/home/user3/.conda/envs/hun/lib/python3.6/site-packages/sklearn/externals/joblib/__init__.py:15: DeprecationWarning: sklearn.externals.joblib is deprecated in 0.21 and will be removed in 0.23. Please import this functionality directly from joblib, which can be installed with: pip install joblib. If this warning is raised when loading pickled models, you may need to re-serialize those models with scikit-learn 0.21+.\n",
      "  warnings.warn(msg, category=DeprecationWarning)\n"
     ]
    },
    {
     "data": {
      "text/plain": [
       "['./빅콘테스트/model/version2/ada_leave_clf_version2.pkl']"
      ]
     },
     "execution_count": 19,
     "metadata": {},
     "output_type": "execute_result"
    }
   ],
   "source": [
    "from sklearn.externals import joblib\n",
    "\n",
    "# ada_leave_clf = AdaBoostClassifier(random_state = 42, base_estimator = DecisionTreeClassifier(max_depth = 9),\n",
    "#                                    n_estimators = 500, learning_rate = 0.001)\n",
    "# ada_leave_clf.fit(X_train, y_train['leave'])\n",
    "ada_leave_clf = grid_search.best_estimator_\n",
    "joblib.dump(ada_leave_clf, './빅콘테스트/model/version2/ada_leave_clf_version2.pkl')"
   ]
  },
  {
   "cell_type": "markdown",
   "metadata": {},
   "source": [
    "### GradientBoost"
   ]
  },
  {
   "cell_type": "code",
   "execution_count": 20,
   "metadata": {},
   "outputs": [
    {
     "name": "stdout",
     "output_type": "stream",
     "text": [
      "Fitting 5 folds for each of 8 candidates, totalling 40 fits\n"
     ]
    },
    {
     "name": "stderr",
     "output_type": "stream",
     "text": [
      "[Parallel(n_jobs=-1)]: Using backend LokyBackend with 32 concurrent workers.\n",
      "[Parallel(n_jobs=-1)]: Done   1 tasks      | elapsed:  8.1min\n",
      "[Parallel(n_jobs=-1)]: Done  19 out of  40 | elapsed: 12.6min remaining: 13.9min\n",
      "[Parallel(n_jobs=-1)]: Done  40 out of  40 | elapsed: 20.7min remaining:    0.0s\n",
      "[Parallel(n_jobs=-1)]: Done  40 out of  40 | elapsed: 20.7min finished\n"
     ]
    },
    {
     "data": {
      "text/plain": [
       "GridSearchCV(cv=5, error_score='raise-deprecating',\n",
       "             estimator=GradientBoostingClassifier(criterion='friedman_mse',\n",
       "                                                  init=None, learning_rate=0.1,\n",
       "                                                  loss='deviance', max_depth=3,\n",
       "                                                  max_features=None,\n",
       "                                                  max_leaf_nodes=None,\n",
       "                                                  min_impurity_decrease=0.0,\n",
       "                                                  min_impurity_split=None,\n",
       "                                                  min_samples_leaf=1,\n",
       "                                                  min_samples_split=2,\n",
       "                                                  min_weight_fraction_leaf=0.0,\n",
       "                                                  n_estimators=100,\n",
       "                                                  n_iter_no_change=None,\n",
       "                                                  presort='auto',\n",
       "                                                  random_state=42,\n",
       "                                                  subsample=1.0, tol=0.0001,\n",
       "                                                  validation_fraction=0.1,\n",
       "                                                  verbose=0, warm_start=False),\n",
       "             iid='warn', n_jobs=-1,\n",
       "             param_grid=[{'learning_rate': [0.001, 0.01], 'max_depth': [8, 9],\n",
       "                          'n_estimators': [300, 500]}],\n",
       "             pre_dispatch='2*n_jobs', refit=True, return_train_score=False,\n",
       "             scoring='accuracy', verbose=2)"
      ]
     },
     "execution_count": 20,
     "metadata": {},
     "output_type": "execute_result"
    }
   ],
   "source": [
    "from sklearn.model_selection import GridSearchCV\n",
    "from sklearn.ensemble import GradientBoostingClassifier\n",
    "\n",
    "gb = GradientBoostingClassifier(random_state=42)\n",
    "\n",
    "param_grid = [\n",
    "    {'learning_rate' : [0.001, 0.01],\n",
    "     'max_depth' : [8, 9],\n",
    "     'n_estimators' : [300, 500]}\n",
    "  ]\n",
    "\n",
    "grid_search = GridSearchCV(gb, param_grid, cv = 5,\n",
    "                           scoring = 'accuracy', verbose = 2, n_jobs = -1)\n",
    "grid_search.fit(X_train, y_train['leave'])"
   ]
  },
  {
   "cell_type": "code",
   "execution_count": 21,
   "metadata": {},
   "outputs": [
    {
     "name": "stdout",
     "output_type": "stream",
     "text": [
      "0.7513333333333333\n",
      "{'learning_rate': 0.01, 'max_depth': 9, 'n_estimators': 500}\n"
     ]
    }
   ],
   "source": [
    "print(grid_search.best_score_)\n",
    "print(grid_search.best_params_)"
   ]
  },
  {
   "cell_type": "code",
   "execution_count": 22,
   "metadata": {
    "scrolled": true
   },
   "outputs": [
    {
     "data": {
      "text/plain": [
       "['./빅콘테스트/model/version2/gb_leave_clf_version2.pkl']"
      ]
     },
     "execution_count": 22,
     "metadata": {},
     "output_type": "execute_result"
    }
   ],
   "source": [
    "from sklearn.externals import joblib\n",
    "\n",
    "# gb_leave_clf = GradientBoostingClassifier(random_state = 42, learning_rate = 0.001, max_depth = 9, n_estimators = 300)\n",
    "# gb_leave_clf.fit(X_train, y_train['leave'])\n",
    "gb_leave_clf = grid_search.best_estimator_\n",
    "joblib.dump(gb_leave_clf, './빅콘테스트/model/version2/gb_leave_clf_version2.pkl')"
   ]
  },
  {
   "cell_type": "markdown",
   "metadata": {},
   "source": [
    "### RandomForest"
   ]
  },
  {
   "cell_type": "code",
   "execution_count": 23,
   "metadata": {},
   "outputs": [
    {
     "name": "stdout",
     "output_type": "stream",
     "text": [
      "Fitting 5 folds for each of 12 candidates, totalling 60 fits\n"
     ]
    },
    {
     "name": "stderr",
     "output_type": "stream",
     "text": [
      "[Parallel(n_jobs=-1)]: Using backend LokyBackend with 32 concurrent workers.\n",
      "[Parallel(n_jobs=-1)]: Done  28 out of  60 | elapsed:  1.7min remaining:  2.0min\n",
      "[Parallel(n_jobs=-1)]: Done  60 out of  60 | elapsed:  3.1min finished\n"
     ]
    },
    {
     "data": {
      "text/plain": [
       "GridSearchCV(cv=5, error_score='raise-deprecating',\n",
       "             estimator=RandomForestClassifier(bootstrap=True, class_weight=None,\n",
       "                                              criterion='gini', max_depth=None,\n",
       "                                              max_features='auto',\n",
       "                                              max_leaf_nodes=None,\n",
       "                                              min_impurity_decrease=0.0,\n",
       "                                              min_impurity_split=None,\n",
       "                                              min_samples_leaf=1,\n",
       "                                              min_samples_split=2,\n",
       "                                              min_weight_fraction_leaf=0.0,\n",
       "                                              n_estimators='warn', n_jobs=None,\n",
       "                                              oob_score=False, random_state=42,\n",
       "                                              verbose=0, warm_start=False),\n",
       "             iid='warn', n_jobs=-1,\n",
       "             param_grid=[{'max_features': [12, 13, 14, 15],\n",
       "                          'n_estimators': [300, 500, 750]}],\n",
       "             pre_dispatch='2*n_jobs', refit=True, return_train_score=False,\n",
       "             scoring='accuracy', verbose=2)"
      ]
     },
     "execution_count": 23,
     "metadata": {},
     "output_type": "execute_result"
    }
   ],
   "source": [
    "from sklearn.model_selection import GridSearchCV\n",
    "from sklearn.ensemble import RandomForestClassifier\n",
    "\n",
    "rf = RandomForestClassifier(random_state=42)\n",
    "\n",
    "param_grid = [\n",
    "    {'n_estimators' : [300, 500, 750], 'max_features' : [12, 13, 14, 15]}\n",
    "  ]\n",
    "\n",
    "grid_search = GridSearchCV(rf, param_grid, cv = 5,\n",
    "                           scoring = 'accuracy', verbose = 2, n_jobs = -1)\n",
    "grid_search.fit(X_train, y_train['leave'])"
   ]
  },
  {
   "cell_type": "code",
   "execution_count": 24,
   "metadata": {},
   "outputs": [
    {
     "name": "stdout",
     "output_type": "stream",
     "text": [
      "0.7616\n",
      "{'max_features': 14, 'n_estimators': 750}\n"
     ]
    }
   ],
   "source": [
    "print(grid_search.best_score_)\n",
    "print(grid_search.best_params_)"
   ]
  },
  {
   "cell_type": "code",
   "execution_count": 25,
   "metadata": {},
   "outputs": [
    {
     "data": {
      "text/plain": [
       "['./빅콘테스트/model/version2/rf_leave_clf_version2.pkl']"
      ]
     },
     "execution_count": 25,
     "metadata": {},
     "output_type": "execute_result"
    }
   ],
   "source": [
    "from sklearn.externals import joblib\n",
    "\n",
    "# rf_leave_clf = RandomForestClassifier(random_state = 42, max_features = 19, n_estimators = 750)\n",
    "# rf_leave_clf.fit(X_train, y_train['leave'])\n",
    "rf_leave_clf = grid_search.best_estimator_\n",
    "joblib.dump(rf_leave_clf, './빅콘테스트/model/version2/rf_leave_clf_version2.pkl')"
   ]
  },
  {
   "cell_type": "code",
   "execution_count": 26,
   "metadata": {},
   "outputs": [
    {
     "data": {
      "text/html": [
       "<div>\n",
       "<style scoped>\n",
       "    .dataframe tbody tr th:only-of-type {\n",
       "        vertical-align: middle;\n",
       "    }\n",
       "\n",
       "    .dataframe tbody tr th {\n",
       "        vertical-align: top;\n",
       "    }\n",
       "\n",
       "    .dataframe thead th {\n",
       "        text-align: right;\n",
       "    }\n",
       "</style>\n",
       "<table border=\"1\" class=\"dataframe\">\n",
       "  <thead>\n",
       "    <tr style=\"text-align: right;\">\n",
       "      <th></th>\n",
       "      <th>feature</th>\n",
       "      <th>importance</th>\n",
       "    </tr>\n",
       "  </thead>\n",
       "  <tbody>\n",
       "    <tr>\n",
       "      <th>49</th>\n",
       "      <td>enchant_count_1</td>\n",
       "      <td>0.000059</td>\n",
       "    </tr>\n",
       "    <tr>\n",
       "      <th>50</th>\n",
       "      <td>enchant_count_2</td>\n",
       "      <td>0.000084</td>\n",
       "    </tr>\n",
       "    <tr>\n",
       "      <th>52</th>\n",
       "      <td>enchant_count_4</td>\n",
       "      <td>0.000188</td>\n",
       "    </tr>\n",
       "    <tr>\n",
       "      <th>85</th>\n",
       "      <td>server_group_2</td>\n",
       "      <td>0.000232</td>\n",
       "    </tr>\n",
       "    <tr>\n",
       "      <th>51</th>\n",
       "      <td>enchant_count_3</td>\n",
       "      <td>0.000253</td>\n",
       "    </tr>\n",
       "    <tr>\n",
       "      <th>83</th>\n",
       "      <td>server_group_0</td>\n",
       "      <td>0.000281</td>\n",
       "    </tr>\n",
       "    <tr>\n",
       "      <th>84</th>\n",
       "      <td>server_group_1</td>\n",
       "      <td>0.000397</td>\n",
       "    </tr>\n",
       "    <tr>\n",
       "      <th>119</th>\n",
       "      <td>target_type_1_week2_enchant_scroll</td>\n",
       "      <td>0.000500</td>\n",
       "    </tr>\n",
       "    <tr>\n",
       "      <th>71</th>\n",
       "      <td>combat_same_pledge_cnt_3</td>\n",
       "      <td>0.000530</td>\n",
       "    </tr>\n",
       "    <tr>\n",
       "      <th>112</th>\n",
       "      <td>source_type_1_week3_enchant_scroll</td>\n",
       "      <td>0.000545</td>\n",
       "    </tr>\n",
       "    <tr>\n",
       "      <th>72</th>\n",
       "      <td>combat_same_pledge_cnt_4</td>\n",
       "      <td>0.000562</td>\n",
       "    </tr>\n",
       "    <tr>\n",
       "      <th>113</th>\n",
       "      <td>source_type_1_week4_enchant_scroll</td>\n",
       "      <td>0.000563</td>\n",
       "    </tr>\n",
       "    <tr>\n",
       "      <th>120</th>\n",
       "      <td>target_type_1_week3_enchant_scroll</td>\n",
       "      <td>0.000567</td>\n",
       "    </tr>\n",
       "    <tr>\n",
       "      <th>106</th>\n",
       "      <td>source_type_0_week1_enchant_scroll</td>\n",
       "      <td>0.000570</td>\n",
       "    </tr>\n",
       "    <tr>\n",
       "      <th>70</th>\n",
       "      <td>combat_same_pledge_cnt_2</td>\n",
       "      <td>0.000572</td>\n",
       "    </tr>\n",
       "    <tr>\n",
       "      <th>121</th>\n",
       "      <td>target_type_1_week4_enchant_scroll</td>\n",
       "      <td>0.000583</td>\n",
       "    </tr>\n",
       "    <tr>\n",
       "      <th>110</th>\n",
       "      <td>source_type_1_week1_enchant_scroll</td>\n",
       "      <td>0.000584</td>\n",
       "    </tr>\n",
       "    <tr>\n",
       "      <th>118</th>\n",
       "      <td>target_type_1_week1_enchant_scroll</td>\n",
       "      <td>0.000587</td>\n",
       "    </tr>\n",
       "    <tr>\n",
       "      <th>111</th>\n",
       "      <td>source_type_1_week2_enchant_scroll</td>\n",
       "      <td>0.000598</td>\n",
       "    </tr>\n",
       "    <tr>\n",
       "      <th>92</th>\n",
       "      <td>class_6</td>\n",
       "      <td>0.000604</td>\n",
       "    </tr>\n",
       "    <tr>\n",
       "      <th>57</th>\n",
       "      <td>combat_random_attacker_cnt_1</td>\n",
       "      <td>0.000644</td>\n",
       "    </tr>\n",
       "    <tr>\n",
       "      <th>58</th>\n",
       "      <td>combat_random_attacker_cnt_2</td>\n",
       "      <td>0.000653</td>\n",
       "    </tr>\n",
       "    <tr>\n",
       "      <th>108</th>\n",
       "      <td>source_type_0_week3_enchant_scroll</td>\n",
       "      <td>0.000667</td>\n",
       "    </tr>\n",
       "    <tr>\n",
       "      <th>35</th>\n",
       "      <td>exp_recovery_3</td>\n",
       "      <td>0.000678</td>\n",
       "    </tr>\n",
       "    <tr>\n",
       "      <th>59</th>\n",
       "      <td>combat_random_attacker_cnt_3</td>\n",
       "      <td>0.000730</td>\n",
       "    </tr>\n",
       "    <tr>\n",
       "      <th>107</th>\n",
       "      <td>source_type_0_week2_enchant_scroll</td>\n",
       "      <td>0.000740</td>\n",
       "    </tr>\n",
       "    <tr>\n",
       "      <th>36</th>\n",
       "      <td>exp_recovery_4</td>\n",
       "      <td>0.000747</td>\n",
       "    </tr>\n",
       "    <tr>\n",
       "      <th>33</th>\n",
       "      <td>exp_recovery_1</td>\n",
       "      <td>0.000811</td>\n",
       "    </tr>\n",
       "    <tr>\n",
       "      <th>60</th>\n",
       "      <td>combat_random_attacker_cnt_4</td>\n",
       "      <td>0.000872</td>\n",
       "    </tr>\n",
       "    <tr>\n",
       "      <th>109</th>\n",
       "      <td>source_type_0_week4_enchant_scroll</td>\n",
       "      <td>0.000902</td>\n",
       "    </tr>\n",
       "    <tr>\n",
       "      <th>...</th>\n",
       "      <td>...</td>\n",
       "      <td>...</td>\n",
       "    </tr>\n",
       "    <tr>\n",
       "      <th>41</th>\n",
       "      <td>private_shop_1</td>\n",
       "      <td>0.011436</td>\n",
       "    </tr>\n",
       "    <tr>\n",
       "      <th>16</th>\n",
       "      <td>party_exp_4</td>\n",
       "      <td>0.011918</td>\n",
       "    </tr>\n",
       "    <tr>\n",
       "      <th>17</th>\n",
       "      <td>quest_exp_1</td>\n",
       "      <td>0.012374</td>\n",
       "    </tr>\n",
       "    <tr>\n",
       "      <th>18</th>\n",
       "      <td>quest_exp_2</td>\n",
       "      <td>0.012570</td>\n",
       "    </tr>\n",
       "    <tr>\n",
       "      <th>19</th>\n",
       "      <td>quest_exp_3</td>\n",
       "      <td>0.012821</td>\n",
       "    </tr>\n",
       "    <tr>\n",
       "      <th>43</th>\n",
       "      <td>private_shop_3</td>\n",
       "      <td>0.013373</td>\n",
       "    </tr>\n",
       "    <tr>\n",
       "      <th>20</th>\n",
       "      <td>quest_exp_4</td>\n",
       "      <td>0.014360</td>\n",
       "    </tr>\n",
       "    <tr>\n",
       "      <th>42</th>\n",
       "      <td>private_shop_2</td>\n",
       "      <td>0.014487</td>\n",
       "    </tr>\n",
       "    <tr>\n",
       "      <th>6</th>\n",
       "      <td>npc_kill_2</td>\n",
       "      <td>0.015731</td>\n",
       "    </tr>\n",
       "    <tr>\n",
       "      <th>39</th>\n",
       "      <td>fishing_3</td>\n",
       "      <td>0.015975</td>\n",
       "    </tr>\n",
       "    <tr>\n",
       "      <th>38</th>\n",
       "      <td>fishing_2</td>\n",
       "      <td>0.016016</td>\n",
       "    </tr>\n",
       "    <tr>\n",
       "      <th>40</th>\n",
       "      <td>fishing_4</td>\n",
       "      <td>0.016926</td>\n",
       "    </tr>\n",
       "    <tr>\n",
       "      <th>37</th>\n",
       "      <td>fishing_1</td>\n",
       "      <td>0.016979</td>\n",
       "    </tr>\n",
       "    <tr>\n",
       "      <th>46</th>\n",
       "      <td>game_money_change_2</td>\n",
       "      <td>0.017662</td>\n",
       "    </tr>\n",
       "    <tr>\n",
       "      <th>44</th>\n",
       "      <td>private_shop_4</td>\n",
       "      <td>0.017779</td>\n",
       "    </tr>\n",
       "    <tr>\n",
       "      <th>7</th>\n",
       "      <td>npc_kill_3</td>\n",
       "      <td>0.017855</td>\n",
       "    </tr>\n",
       "    <tr>\n",
       "      <th>47</th>\n",
       "      <td>game_money_change_3</td>\n",
       "      <td>0.018012</td>\n",
       "    </tr>\n",
       "    <tr>\n",
       "      <th>0</th>\n",
       "      <td>level</td>\n",
       "      <td>0.018674</td>\n",
       "    </tr>\n",
       "    <tr>\n",
       "      <th>45</th>\n",
       "      <td>game_money_change_1</td>\n",
       "      <td>0.019268</td>\n",
       "    </tr>\n",
       "    <tr>\n",
       "      <th>11</th>\n",
       "      <td>solo_exp_3</td>\n",
       "      <td>0.019954</td>\n",
       "    </tr>\n",
       "    <tr>\n",
       "      <th>10</th>\n",
       "      <td>solo_exp_2</td>\n",
       "      <td>0.020407</td>\n",
       "    </tr>\n",
       "    <tr>\n",
       "      <th>12</th>\n",
       "      <td>solo_exp_4</td>\n",
       "      <td>0.021252</td>\n",
       "    </tr>\n",
       "    <tr>\n",
       "      <th>48</th>\n",
       "      <td>game_money_change_4</td>\n",
       "      <td>0.021272</td>\n",
       "    </tr>\n",
       "    <tr>\n",
       "      <th>9</th>\n",
       "      <td>solo_exp_1</td>\n",
       "      <td>0.021639</td>\n",
       "    </tr>\n",
       "    <tr>\n",
       "      <th>8</th>\n",
       "      <td>npc_kill_4</td>\n",
       "      <td>0.023300</td>\n",
       "    </tr>\n",
       "    <tr>\n",
       "      <th>2</th>\n",
       "      <td>playtime_2</td>\n",
       "      <td>0.031500</td>\n",
       "    </tr>\n",
       "    <tr>\n",
       "      <th>5</th>\n",
       "      <td>npc_kill_1</td>\n",
       "      <td>0.031915</td>\n",
       "    </tr>\n",
       "    <tr>\n",
       "      <th>1</th>\n",
       "      <td>playtime_1</td>\n",
       "      <td>0.033873</td>\n",
       "    </tr>\n",
       "    <tr>\n",
       "      <th>4</th>\n",
       "      <td>playtime_4</td>\n",
       "      <td>0.035132</td>\n",
       "    </tr>\n",
       "    <tr>\n",
       "      <th>3</th>\n",
       "      <td>playtime_3</td>\n",
       "      <td>0.035132</td>\n",
       "    </tr>\n",
       "  </tbody>\n",
       "</table>\n",
       "<p>146 rows × 2 columns</p>\n",
       "</div>"
      ],
      "text/plain": [
       "                                feature  importance\n",
       "49                      enchant_count_1    0.000059\n",
       "50                      enchant_count_2    0.000084\n",
       "52                      enchant_count_4    0.000188\n",
       "85                       server_group_2    0.000232\n",
       "51                      enchant_count_3    0.000253\n",
       "83                       server_group_0    0.000281\n",
       "84                       server_group_1    0.000397\n",
       "119  target_type_1_week2_enchant_scroll    0.000500\n",
       "71             combat_same_pledge_cnt_3    0.000530\n",
       "112  source_type_1_week3_enchant_scroll    0.000545\n",
       "72             combat_same_pledge_cnt_4    0.000562\n",
       "113  source_type_1_week4_enchant_scroll    0.000563\n",
       "120  target_type_1_week3_enchant_scroll    0.000567\n",
       "106  source_type_0_week1_enchant_scroll    0.000570\n",
       "70             combat_same_pledge_cnt_2    0.000572\n",
       "121  target_type_1_week4_enchant_scroll    0.000583\n",
       "110  source_type_1_week1_enchant_scroll    0.000584\n",
       "118  target_type_1_week1_enchant_scroll    0.000587\n",
       "111  source_type_1_week2_enchant_scroll    0.000598\n",
       "92                              class_6    0.000604\n",
       "57         combat_random_attacker_cnt_1    0.000644\n",
       "58         combat_random_attacker_cnt_2    0.000653\n",
       "108  source_type_0_week3_enchant_scroll    0.000667\n",
       "35                       exp_recovery_3    0.000678\n",
       "59         combat_random_attacker_cnt_3    0.000730\n",
       "107  source_type_0_week2_enchant_scroll    0.000740\n",
       "36                       exp_recovery_4    0.000747\n",
       "33                       exp_recovery_1    0.000811\n",
       "60         combat_random_attacker_cnt_4    0.000872\n",
       "109  source_type_0_week4_enchant_scroll    0.000902\n",
       "..                                  ...         ...\n",
       "41                       private_shop_1    0.011436\n",
       "16                          party_exp_4    0.011918\n",
       "17                          quest_exp_1    0.012374\n",
       "18                          quest_exp_2    0.012570\n",
       "19                          quest_exp_3    0.012821\n",
       "43                       private_shop_3    0.013373\n",
       "20                          quest_exp_4    0.014360\n",
       "42                       private_shop_2    0.014487\n",
       "6                            npc_kill_2    0.015731\n",
       "39                            fishing_3    0.015975\n",
       "38                            fishing_2    0.016016\n",
       "40                            fishing_4    0.016926\n",
       "37                            fishing_1    0.016979\n",
       "46                  game_money_change_2    0.017662\n",
       "44                       private_shop_4    0.017779\n",
       "7                            npc_kill_3    0.017855\n",
       "47                  game_money_change_3    0.018012\n",
       "0                                 level    0.018674\n",
       "45                  game_money_change_1    0.019268\n",
       "11                           solo_exp_3    0.019954\n",
       "10                           solo_exp_2    0.020407\n",
       "12                           solo_exp_4    0.021252\n",
       "48                  game_money_change_4    0.021272\n",
       "9                            solo_exp_1    0.021639\n",
       "8                            npc_kill_4    0.023300\n",
       "2                            playtime_2    0.031500\n",
       "5                            npc_kill_1    0.031915\n",
       "1                            playtime_1    0.033873\n",
       "4                            playtime_4    0.035132\n",
       "3                            playtime_3    0.035132\n",
       "\n",
       "[146 rows x 2 columns]"
      ]
     },
     "execution_count": 26,
     "metadata": {},
     "output_type": "execute_result"
    }
   ],
   "source": [
    "Importance = pd.DataFrame({'feature' : X_train_columns[1:], 'importance' : rf_leave_clf.feature_importances_}).sort_values(by = 'importance', ascending = True)\n",
    "Importance"
   ]
  },
  {
   "cell_type": "markdown",
   "metadata": {},
   "source": [
    "### XGBoost"
   ]
  },
  {
   "cell_type": "code",
   "execution_count": 27,
   "metadata": {},
   "outputs": [
    {
     "name": "stdout",
     "output_type": "stream",
     "text": [
      "Fitting 5 folds for each of 36 candidates, totalling 180 fits\n"
     ]
    },
    {
     "name": "stderr",
     "output_type": "stream",
     "text": [
      "[Parallel(n_jobs=-1)]: Using backend LokyBackend with 32 concurrent workers.\n",
      "[Parallel(n_jobs=-1)]: Done  98 tasks      | elapsed:  2.5min\n",
      "[Parallel(n_jobs=-1)]: Done 180 out of 180 | elapsed:  4.1min finished\n"
     ]
    },
    {
     "data": {
      "text/plain": [
       "GridSearchCV(cv=5, error_score='raise-deprecating',\n",
       "             estimator=XGBClassifier(base_score=0.5, booster='gbtree',\n",
       "                                     colsample_bylevel=1, colsample_bytree=1,\n",
       "                                     gamma=0, learning_rate=0.1,\n",
       "                                     max_delta_step=0, max_depth=3,\n",
       "                                     min_child_weight=1, missing=None,\n",
       "                                     n_estimators=100, n_jobs=1, nthread=None,\n",
       "                                     objective='binary:logistic',\n",
       "                                     random_state=42, reg_alpha=0, reg_lambda=1,\n",
       "                                     scale_pos_weight=1, seed=None, silent=True,\n",
       "                                     subsample=1),\n",
       "             iid='warn', n_jobs=-1,\n",
       "             param_grid=[{'gamma': [0, 1, 3],\n",
       "                          'learning_rate': [0.001, 0.01, 0.1],\n",
       "                          'max_depth': [9, 10, 11, 12]}],\n",
       "             pre_dispatch='2*n_jobs', refit=True, return_train_score=False,\n",
       "             scoring='accuracy', verbose=2)"
      ]
     },
     "execution_count": 27,
     "metadata": {},
     "output_type": "execute_result"
    }
   ],
   "source": [
    "# 버전에 따라 eta 또는 learing_rate\n",
    "\n",
    "from xgboost import XGBClassifier\n",
    "\n",
    "xgb = XGBClassifier(random_state=42)\n",
    "\n",
    "param_grid = [\n",
    "    {'learning_rate' : [0.001, 0.01, 0.1], 'max_depth' : [9, 10, 11, 12], 'gamma' : [0, 1, 3]}\n",
    "  ]\n",
    "\n",
    "grid_search = GridSearchCV(xgb, param_grid, cv = 5,\n",
    "                           scoring = 'accuracy', verbose = 2, n_jobs = -1)\n",
    "\n",
    "grid_search.fit(X_train, y_train['leave'])"
   ]
  },
  {
   "cell_type": "code",
   "execution_count": 28,
   "metadata": {},
   "outputs": [
    {
     "name": "stdout",
     "output_type": "stream",
     "text": [
      "0.7553333333333333\n",
      "{'gamma': 0, 'learning_rate': 0.1, 'max_depth': 10}\n"
     ]
    }
   ],
   "source": [
    "print(grid_search.best_score_)\n",
    "print(grid_search.best_params_)"
   ]
  },
  {
   "cell_type": "code",
   "execution_count": 29,
   "metadata": {},
   "outputs": [
    {
     "data": {
      "text/plain": [
       "['./빅콘테스트/model/version2/xgb_leave_clf_version2.pkl']"
      ]
     },
     "execution_count": 29,
     "metadata": {},
     "output_type": "execute_result"
    }
   ],
   "source": [
    "from sklearn.externals import joblib\n",
    "\n",
    "# xgb_leave_clf = XGBClassifier(random_state = 42, eta = 0.1, gamma = 1, max_depth = 11)\n",
    "# xgb_leave_clf.fit(X_train, y_train['leave'])\n",
    "xgb_leave_clf = grid_search.best_estimator_\n",
    "joblib.dump(xgb_leave_clf, './빅콘테스트/model/version2/xgb_leave_clf_version2.pkl')"
   ]
  },
  {
   "cell_type": "code",
   "execution_count": 30,
   "metadata": {},
   "outputs": [
    {
     "data": {
      "text/html": [
       "<div>\n",
       "<style scoped>\n",
       "    .dataframe tbody tr th:only-of-type {\n",
       "        vertical-align: middle;\n",
       "    }\n",
       "\n",
       "    .dataframe tbody tr th {\n",
       "        vertical-align: top;\n",
       "    }\n",
       "\n",
       "    .dataframe thead th {\n",
       "        text-align: right;\n",
       "    }\n",
       "</style>\n",
       "<table border=\"1\" class=\"dataframe\">\n",
       "  <thead>\n",
       "    <tr style=\"text-align: right;\">\n",
       "      <th></th>\n",
       "      <th>feature</th>\n",
       "      <th>importance</th>\n",
       "    </tr>\n",
       "  </thead>\n",
       "  <tbody>\n",
       "    <tr>\n",
       "      <th>49</th>\n",
       "      <td>enchant_count_1</td>\n",
       "      <td>0.000000</td>\n",
       "    </tr>\n",
       "    <tr>\n",
       "      <th>50</th>\n",
       "      <td>enchant_count_2</td>\n",
       "      <td>0.000000</td>\n",
       "    </tr>\n",
       "    <tr>\n",
       "      <th>84</th>\n",
       "      <td>server_group_1</td>\n",
       "      <td>0.000089</td>\n",
       "    </tr>\n",
       "    <tr>\n",
       "      <th>51</th>\n",
       "      <td>enchant_count_3</td>\n",
       "      <td>0.000133</td>\n",
       "    </tr>\n",
       "    <tr>\n",
       "      <th>83</th>\n",
       "      <td>server_group_0</td>\n",
       "      <td>0.000178</td>\n",
       "    </tr>\n",
       "    <tr>\n",
       "      <th>92</th>\n",
       "      <td>class_6</td>\n",
       "      <td>0.000222</td>\n",
       "    </tr>\n",
       "    <tr>\n",
       "      <th>36</th>\n",
       "      <td>exp_recovery_4</td>\n",
       "      <td>0.000267</td>\n",
       "    </tr>\n",
       "    <tr>\n",
       "      <th>72</th>\n",
       "      <td>combat_same_pledge_cnt_4</td>\n",
       "      <td>0.000311</td>\n",
       "    </tr>\n",
       "    <tr>\n",
       "      <th>71</th>\n",
       "      <td>combat_same_pledge_cnt_3</td>\n",
       "      <td>0.000355</td>\n",
       "    </tr>\n",
       "    <tr>\n",
       "      <th>70</th>\n",
       "      <td>combat_same_pledge_cnt_2</td>\n",
       "      <td>0.000355</td>\n",
       "    </tr>\n",
       "    <tr>\n",
       "      <th>59</th>\n",
       "      <td>combat_random_attacker_cnt_3</td>\n",
       "      <td>0.000400</td>\n",
       "    </tr>\n",
       "    <tr>\n",
       "      <th>60</th>\n",
       "      <td>combat_random_attacker_cnt_4</td>\n",
       "      <td>0.000400</td>\n",
       "    </tr>\n",
       "    <tr>\n",
       "      <th>57</th>\n",
       "      <td>combat_random_attacker_cnt_1</td>\n",
       "      <td>0.000444</td>\n",
       "    </tr>\n",
       "    <tr>\n",
       "      <th>52</th>\n",
       "      <td>enchant_count_4</td>\n",
       "      <td>0.000489</td>\n",
       "    </tr>\n",
       "    <tr>\n",
       "      <th>58</th>\n",
       "      <td>combat_random_attacker_cnt_2</td>\n",
       "      <td>0.000489</td>\n",
       "    </tr>\n",
       "    <tr>\n",
       "      <th>35</th>\n",
       "      <td>exp_recovery_3</td>\n",
       "      <td>0.000489</td>\n",
       "    </tr>\n",
       "    <tr>\n",
       "      <th>85</th>\n",
       "      <td>server_group_2</td>\n",
       "      <td>0.000489</td>\n",
       "    </tr>\n",
       "    <tr>\n",
       "      <th>34</th>\n",
       "      <td>exp_recovery_2</td>\n",
       "      <td>0.000533</td>\n",
       "    </tr>\n",
       "    <tr>\n",
       "      <th>33</th>\n",
       "      <td>exp_recovery_1</td>\n",
       "      <td>0.000711</td>\n",
       "    </tr>\n",
       "    <tr>\n",
       "      <th>110</th>\n",
       "      <td>source_type_1_week1_enchant_scroll</td>\n",
       "      <td>0.000711</td>\n",
       "    </tr>\n",
       "    <tr>\n",
       "      <th>69</th>\n",
       "      <td>combat_same_pledge_cnt_1</td>\n",
       "      <td>0.000711</td>\n",
       "    </tr>\n",
       "    <tr>\n",
       "      <th>112</th>\n",
       "      <td>source_type_1_week3_enchant_scroll</td>\n",
       "      <td>0.000755</td>\n",
       "    </tr>\n",
       "    <tr>\n",
       "      <th>91</th>\n",
       "      <td>class_5</td>\n",
       "      <td>0.000800</td>\n",
       "    </tr>\n",
       "    <tr>\n",
       "      <th>86</th>\n",
       "      <td>class_0</td>\n",
       "      <td>0.000800</td>\n",
       "    </tr>\n",
       "    <tr>\n",
       "      <th>144</th>\n",
       "      <td>source_spell</td>\n",
       "      <td>0.000933</td>\n",
       "    </tr>\n",
       "    <tr>\n",
       "      <th>111</th>\n",
       "      <td>source_type_1_week2_enchant_scroll</td>\n",
       "      <td>0.000933</td>\n",
       "    </tr>\n",
       "    <tr>\n",
       "      <th>107</th>\n",
       "      <td>source_type_0_week2_enchant_scroll</td>\n",
       "      <td>0.001022</td>\n",
       "    </tr>\n",
       "    <tr>\n",
       "      <th>96</th>\n",
       "      <td>pledge_group_2.0</td>\n",
       "      <td>0.001066</td>\n",
       "    </tr>\n",
       "    <tr>\n",
       "      <th>120</th>\n",
       "      <td>target_type_1_week3_enchant_scroll</td>\n",
       "      <td>0.001111</td>\n",
       "    </tr>\n",
       "    <tr>\n",
       "      <th>141</th>\n",
       "      <td>target_armor</td>\n",
       "      <td>0.001111</td>\n",
       "    </tr>\n",
       "    <tr>\n",
       "      <th>...</th>\n",
       "      <td>...</td>\n",
       "      <td>...</td>\n",
       "    </tr>\n",
       "    <tr>\n",
       "      <th>133</th>\n",
       "      <td>target_type_0_week4_etc</td>\n",
       "      <td>0.010175</td>\n",
       "    </tr>\n",
       "    <tr>\n",
       "      <th>38</th>\n",
       "      <td>fishing_2</td>\n",
       "      <td>0.010175</td>\n",
       "    </tr>\n",
       "    <tr>\n",
       "      <th>41</th>\n",
       "      <td>private_shop_1</td>\n",
       "      <td>0.010531</td>\n",
       "    </tr>\n",
       "    <tr>\n",
       "      <th>98</th>\n",
       "      <td>source_type_1_week1_adena</td>\n",
       "      <td>0.010797</td>\n",
       "    </tr>\n",
       "    <tr>\n",
       "      <th>101</th>\n",
       "      <td>source_type_1_week4_adena</td>\n",
       "      <td>0.011641</td>\n",
       "    </tr>\n",
       "    <tr>\n",
       "      <th>0</th>\n",
       "      <td>level</td>\n",
       "      <td>0.012175</td>\n",
       "    </tr>\n",
       "    <tr>\n",
       "      <th>16</th>\n",
       "      <td>party_exp_4</td>\n",
       "      <td>0.012308</td>\n",
       "    </tr>\n",
       "    <tr>\n",
       "      <th>17</th>\n",
       "      <td>quest_exp_1</td>\n",
       "      <td>0.012441</td>\n",
       "    </tr>\n",
       "    <tr>\n",
       "      <th>19</th>\n",
       "      <td>quest_exp_3</td>\n",
       "      <td>0.013063</td>\n",
       "    </tr>\n",
       "    <tr>\n",
       "      <th>40</th>\n",
       "      <td>fishing_4</td>\n",
       "      <td>0.013330</td>\n",
       "    </tr>\n",
       "    <tr>\n",
       "      <th>11</th>\n",
       "      <td>solo_exp_3</td>\n",
       "      <td>0.014085</td>\n",
       "    </tr>\n",
       "    <tr>\n",
       "      <th>10</th>\n",
       "      <td>solo_exp_2</td>\n",
       "      <td>0.014263</td>\n",
       "    </tr>\n",
       "    <tr>\n",
       "      <th>18</th>\n",
       "      <td>quest_exp_2</td>\n",
       "      <td>0.015018</td>\n",
       "    </tr>\n",
       "    <tr>\n",
       "      <th>44</th>\n",
       "      <td>private_shop_4</td>\n",
       "      <td>0.015507</td>\n",
       "    </tr>\n",
       "    <tr>\n",
       "      <th>12</th>\n",
       "      <td>solo_exp_4</td>\n",
       "      <td>0.015551</td>\n",
       "    </tr>\n",
       "    <tr>\n",
       "      <th>82</th>\n",
       "      <td>amount_mean</td>\n",
       "      <td>0.016662</td>\n",
       "    </tr>\n",
       "    <tr>\n",
       "      <th>5</th>\n",
       "      <td>npc_kill_1</td>\n",
       "      <td>0.016884</td>\n",
       "    </tr>\n",
       "    <tr>\n",
       "      <th>9</th>\n",
       "      <td>solo_exp_1</td>\n",
       "      <td>0.016929</td>\n",
       "    </tr>\n",
       "    <tr>\n",
       "      <th>20</th>\n",
       "      <td>quest_exp_4</td>\n",
       "      <td>0.017062</td>\n",
       "    </tr>\n",
       "    <tr>\n",
       "      <th>6</th>\n",
       "      <td>npc_kill_2</td>\n",
       "      <td>0.017729</td>\n",
       "    </tr>\n",
       "    <tr>\n",
       "      <th>7</th>\n",
       "      <td>npc_kill_3</td>\n",
       "      <td>0.017995</td>\n",
       "    </tr>\n",
       "    <tr>\n",
       "      <th>8</th>\n",
       "      <td>npc_kill_4</td>\n",
       "      <td>0.022527</td>\n",
       "    </tr>\n",
       "    <tr>\n",
       "      <th>45</th>\n",
       "      <td>game_money_change_1</td>\n",
       "      <td>0.025682</td>\n",
       "    </tr>\n",
       "    <tr>\n",
       "      <th>46</th>\n",
       "      <td>game_money_change_2</td>\n",
       "      <td>0.026526</td>\n",
       "    </tr>\n",
       "    <tr>\n",
       "      <th>47</th>\n",
       "      <td>game_money_change_3</td>\n",
       "      <td>0.026615</td>\n",
       "    </tr>\n",
       "    <tr>\n",
       "      <th>1</th>\n",
       "      <td>playtime_1</td>\n",
       "      <td>0.028126</td>\n",
       "    </tr>\n",
       "    <tr>\n",
       "      <th>2</th>\n",
       "      <td>playtime_2</td>\n",
       "      <td>0.028837</td>\n",
       "    </tr>\n",
       "    <tr>\n",
       "      <th>48</th>\n",
       "      <td>game_money_change_4</td>\n",
       "      <td>0.031547</td>\n",
       "    </tr>\n",
       "    <tr>\n",
       "      <th>3</th>\n",
       "      <td>playtime_3</td>\n",
       "      <td>0.031725</td>\n",
       "    </tr>\n",
       "    <tr>\n",
       "      <th>4</th>\n",
       "      <td>playtime_4</td>\n",
       "      <td>0.038212</td>\n",
       "    </tr>\n",
       "  </tbody>\n",
       "</table>\n",
       "<p>146 rows × 2 columns</p>\n",
       "</div>"
      ],
      "text/plain": [
       "                                feature  importance\n",
       "49                      enchant_count_1    0.000000\n",
       "50                      enchant_count_2    0.000000\n",
       "84                       server_group_1    0.000089\n",
       "51                      enchant_count_3    0.000133\n",
       "83                       server_group_0    0.000178\n",
       "92                              class_6    0.000222\n",
       "36                       exp_recovery_4    0.000267\n",
       "72             combat_same_pledge_cnt_4    0.000311\n",
       "71             combat_same_pledge_cnt_3    0.000355\n",
       "70             combat_same_pledge_cnt_2    0.000355\n",
       "59         combat_random_attacker_cnt_3    0.000400\n",
       "60         combat_random_attacker_cnt_4    0.000400\n",
       "57         combat_random_attacker_cnt_1    0.000444\n",
       "52                      enchant_count_4    0.000489\n",
       "58         combat_random_attacker_cnt_2    0.000489\n",
       "35                       exp_recovery_3    0.000489\n",
       "85                       server_group_2    0.000489\n",
       "34                       exp_recovery_2    0.000533\n",
       "33                       exp_recovery_1    0.000711\n",
       "110  source_type_1_week1_enchant_scroll    0.000711\n",
       "69             combat_same_pledge_cnt_1    0.000711\n",
       "112  source_type_1_week3_enchant_scroll    0.000755\n",
       "91                              class_5    0.000800\n",
       "86                              class_0    0.000800\n",
       "144                        source_spell    0.000933\n",
       "111  source_type_1_week2_enchant_scroll    0.000933\n",
       "107  source_type_0_week2_enchant_scroll    0.001022\n",
       "96                     pledge_group_2.0    0.001066\n",
       "120  target_type_1_week3_enchant_scroll    0.001111\n",
       "141                        target_armor    0.001111\n",
       "..                                  ...         ...\n",
       "133             target_type_0_week4_etc    0.010175\n",
       "38                            fishing_2    0.010175\n",
       "41                       private_shop_1    0.010531\n",
       "98            source_type_1_week1_adena    0.010797\n",
       "101           source_type_1_week4_adena    0.011641\n",
       "0                                 level    0.012175\n",
       "16                          party_exp_4    0.012308\n",
       "17                          quest_exp_1    0.012441\n",
       "19                          quest_exp_3    0.013063\n",
       "40                            fishing_4    0.013330\n",
       "11                           solo_exp_3    0.014085\n",
       "10                           solo_exp_2    0.014263\n",
       "18                          quest_exp_2    0.015018\n",
       "44                       private_shop_4    0.015507\n",
       "12                           solo_exp_4    0.015551\n",
       "82                          amount_mean    0.016662\n",
       "5                            npc_kill_1    0.016884\n",
       "9                            solo_exp_1    0.016929\n",
       "20                          quest_exp_4    0.017062\n",
       "6                            npc_kill_2    0.017729\n",
       "7                            npc_kill_3    0.017995\n",
       "8                            npc_kill_4    0.022527\n",
       "45                  game_money_change_1    0.025682\n",
       "46                  game_money_change_2    0.026526\n",
       "47                  game_money_change_3    0.026615\n",
       "1                            playtime_1    0.028126\n",
       "2                            playtime_2    0.028837\n",
       "48                  game_money_change_4    0.031547\n",
       "3                            playtime_3    0.031725\n",
       "4                            playtime_4    0.038212\n",
       "\n",
       "[146 rows x 2 columns]"
      ]
     },
     "execution_count": 30,
     "metadata": {},
     "output_type": "execute_result"
    }
   ],
   "source": [
    "Importance = pd.DataFrame({'feature' : X_train_columns[1:], 'importance' : xgb_leave_clf.feature_importances_}).sort_values(by = 'importance', ascending = True)\n",
    "Importance"
   ]
  },
  {
   "cell_type": "markdown",
   "metadata": {},
   "source": [
    "### Ensemble"
   ]
  },
  {
   "cell_type": "code",
   "execution_count": 34,
   "metadata": {},
   "outputs": [
    {
     "data": {
      "text/plain": [
       "0.7602004668842722"
      ]
     },
     "execution_count": 34,
     "metadata": {},
     "output_type": "execute_result"
    }
   ],
   "source": [
    "from sklearn.ensemble import VotingClassifier\n",
    "from sklearn.model_selection import cross_val_score\n",
    "\n",
    "voting_leave_clf_1 = VotingClassifier(\n",
    "    estimators=[('ada', ada_leave_clf), ('gb', gb_leave_clf), ('rf', rf_leave_clf), ('xgb', xgb_leave_clf)],\n",
    "    voting='soft', n_jobs = -1)\n",
    "\n",
    "cv_value = cross_val_score(voting_leave_clf_1, X_train,\n",
    "                           y_train['leave'], cv = 5,\n",
    "                           scoring = \"accuracy\")\n",
    "np.mean(cv_value)"
   ]
  },
  {
   "cell_type": "code",
   "execution_count": 35,
   "metadata": {},
   "outputs": [
    {
     "data": {
      "text/plain": [
       "0.7606334335675953"
      ]
     },
     "execution_count": 35,
     "metadata": {},
     "output_type": "execute_result"
    }
   ],
   "source": [
    "from sklearn.ensemble import VotingClassifier\n",
    "from sklearn.model_selection import cross_val_score\n",
    "\n",
    "voting_leave_clf_2 = VotingClassifier(\n",
    "    estimators=[('rf', rf_leave_clf), ('xgb', xgb_leave_clf)],\n",
    "    voting='soft', n_jobs = -1)\n",
    "\n",
    "cv_value = cross_val_score(voting_leave_clf_2, X_train,\n",
    "                           y_train['leave'], cv = 5,\n",
    "                           scoring = \"accuracy\")\n",
    "np.mean(cv_value)"
   ]
  },
  {
   "cell_type": "code",
   "execution_count": 36,
   "metadata": {},
   "outputs": [
    {
     "data": {
      "text/plain": [
       "['./빅콘테스트/model/version2/voting_leave_clf_1_version2.pkl']"
      ]
     },
     "execution_count": 36,
     "metadata": {},
     "output_type": "execute_result"
    }
   ],
   "source": [
    "voting_leave_clf_1.fit(X_train, y_train['leave'])\n",
    "joblib.dump(voting_leave_clf_1, './빅콘테스트/model/version2/voting_leave_clf_1_version2.pkl')"
   ]
  },
  {
   "cell_type": "code",
   "execution_count": 37,
   "metadata": {},
   "outputs": [
    {
     "data": {
      "text/plain": [
       "['./빅콘테스트/model/version2/voting_leave_clf_2_version2.pkl']"
      ]
     },
     "execution_count": 37,
     "metadata": {},
     "output_type": "execute_result"
    }
   ],
   "source": [
    "voting_leave_clf_2.fit(X_train, y_train['leave'])\n",
    "joblib.dump(voting_leave_clf_2, './빅콘테스트/model/version2/voting_leave_clf_2_version2.pkl')"
   ]
  },
  {
   "cell_type": "markdown",
   "metadata": {},
   "source": [
    "### MLP(Multi Layer Perceptron)"
   ]
  },
  {
   "cell_type": "code",
   "execution_count": 38,
   "metadata": {},
   "outputs": [
    {
     "name": "stderr",
     "output_type": "stream",
     "text": [
      "Using TensorFlow backend.\n"
     ]
    },
    {
     "name": "stdout",
     "output_type": "stream",
     "text": [
      "_________________________________________________________________\n",
      "Layer (type)                 Output Shape              Param #   \n",
      "=================================================================\n",
      "input_1 (InputLayer)         (None, 146)               0         \n",
      "_________________________________________________________________\n",
      "dense_1 (Dense)              (None, 1024)              150528    \n",
      "_________________________________________________________________\n",
      "dense_2 (Dense)              (None, 512)               524800    \n",
      "_________________________________________________________________\n",
      "dense_3 (Dense)              (None, 256)               131328    \n",
      "_________________________________________________________________\n",
      "dense_4 (Dense)              (None, 128)               32896     \n",
      "_________________________________________________________________\n",
      "dropout_1 (Dropout)          (None, 128)               0         \n",
      "_________________________________________________________________\n",
      "dense_5 (Dense)              (None, 64)                8256      \n",
      "_________________________________________________________________\n",
      "dropout_2 (Dropout)          (None, 64)                0         \n",
      "_________________________________________________________________\n",
      "dense_6 (Dense)              (None, 32)                2080      \n",
      "_________________________________________________________________\n",
      "leave_output (Dense)         (None, 1)                 33        \n",
      "=================================================================\n",
      "Total params: 849,921\n",
      "Trainable params: 849,921\n",
      "Non-trainable params: 0\n",
      "_________________________________________________________________\n"
     ]
    }
   ],
   "source": [
    "from keras.layers import Input, Dense, Dropout\n",
    "from keras.models import Model\n",
    "\n",
    "input = Input(shape = (X_train.shape[1], ))\n",
    "\n",
    "fc1 = Dense(1024, activation='relu')(input)\n",
    "fc2 = Dense(512, activation='relu')(fc1)\n",
    "fc3 = Dense(256, activation='relu')(fc2)\n",
    "fc4 = Dense(128, activation='relu')(fc3)\n",
    "fc4_drop = Dropout(0.1)(fc4)\n",
    "fc5 = Dense(64, activation='relu')(fc4_drop)\n",
    "fc5_drop = Dropout(0.1)(fc5)\n",
    "fc6 = Dense(32, activation='relu')(fc5_drop)\n",
    "\n",
    "leave_out = Dense(1, activation='sigmoid', name='leave_output')(fc6)\n",
    "\n",
    "mlp_leave_clf = Model(inputs = input, outputs = leave_out)\n",
    "mlp_leave_clf.summary()"
   ]
  },
  {
   "cell_type": "code",
   "execution_count": 39,
   "metadata": {},
   "outputs": [
    {
     "name": "stdout",
     "output_type": "stream",
     "text": [
      "Train on 24000 samples, validate on 6000 samples\n",
      "Epoch 1/150\n",
      "24000/24000 [==============================] - 11s 438us/step - loss: 0.5999 - acc: 0.6956 - val_loss: 0.5655 - val_acc: 0.7168\n",
      "\n",
      "Epoch 00001: val_loss improved from inf to 0.56552, saving model to ./빅콘테스트/model/version2/mlp_leave_clf.hdf5\n",
      "Epoch 2/150\n",
      "24000/24000 [==============================] - 1s 60us/step - loss: 0.5520 - acc: 0.7231 - val_loss: 0.5634 - val_acc: 0.7192\n",
      "\n",
      "Epoch 00002: val_loss improved from 0.56552 to 0.56339, saving model to ./빅콘테스트/model/version2/mlp_leave_clf.hdf5\n",
      "Epoch 3/150\n",
      "24000/24000 [==============================] - 1s 60us/step - loss: 0.5352 - acc: 0.7308 - val_loss: 0.5537 - val_acc: 0.7287\n",
      "\n",
      "Epoch 00003: val_loss improved from 0.56339 to 0.55365, saving model to ./빅콘테스트/model/version2/mlp_leave_clf.hdf5\n",
      "Epoch 4/150\n",
      "24000/24000 [==============================] - 1s 58us/step - loss: 0.5227 - acc: 0.7382 - val_loss: 0.5861 - val_acc: 0.7263\n",
      "\n",
      "Epoch 00004: val_loss did not improve from 0.55365\n",
      "Epoch 5/150\n",
      "24000/24000 [==============================] - 1s 58us/step - loss: 0.5104 - acc: 0.7473 - val_loss: 0.6165 - val_acc: 0.7170\n",
      "\n",
      "Epoch 00005: val_loss did not improve from 0.55365\n",
      "Epoch 6/150\n",
      "24000/24000 [==============================] - 1s 59us/step - loss: 0.4999 - acc: 0.7520 - val_loss: 0.5604 - val_acc: 0.7222\n",
      "\n",
      "Epoch 00006: val_loss did not improve from 0.55365\n",
      "Epoch 7/150\n",
      "24000/24000 [==============================] - 1s 59us/step - loss: 0.4894 - acc: 0.7624 - val_loss: 0.5730 - val_acc: 0.7202\n",
      "\n",
      "Epoch 00007: val_loss did not improve from 0.55365\n",
      "Epoch 8/150\n",
      "24000/24000 [==============================] - 1s 59us/step - loss: 0.4746 - acc: 0.7689 - val_loss: 0.6045 - val_acc: 0.7305\n",
      "\n",
      "Epoch 00008: val_loss did not improve from 0.55365\n",
      "Epoch 9/150\n",
      "24000/24000 [==============================] - 1s 60us/step - loss: 0.4604 - acc: 0.7792 - val_loss: 0.5807 - val_acc: 0.7295\n",
      "\n",
      "Epoch 00009: val_loss did not improve from 0.55365\n",
      "Epoch 10/150\n",
      "24000/24000 [==============================] - 1s 60us/step - loss: 0.4476 - acc: 0.7883 - val_loss: 0.5802 - val_acc: 0.7277\n",
      "\n",
      "Epoch 00010: val_loss did not improve from 0.55365\n",
      "Epoch 11/150\n",
      "24000/24000 [==============================] - 1s 58us/step - loss: 0.4381 - acc: 0.7972 - val_loss: 0.7805 - val_acc: 0.7287\n",
      "\n",
      "Epoch 00011: val_loss did not improve from 0.55365\n",
      "Epoch 12/150\n",
      "24000/24000 [==============================] - 1s 59us/step - loss: 0.4240 - acc: 0.8047 - val_loss: 0.6346 - val_acc: 0.7173\n",
      "\n",
      "Epoch 00012: val_loss did not improve from 0.55365\n",
      "Epoch 13/150\n",
      "24000/24000 [==============================] - 1s 57us/step - loss: 0.4096 - acc: 0.8157 - val_loss: 0.6872 - val_acc: 0.7255\n",
      "\n",
      "Epoch 00013: val_loss did not improve from 0.55365\n",
      "Epoch 14/150\n",
      "24000/24000 [==============================] - 1s 58us/step - loss: 0.3381 - acc: 0.8468 - val_loss: 0.9040 - val_acc: 0.7227\n",
      "\n",
      "Epoch 00014: val_loss did not improve from 0.55365\n",
      "Epoch 15/150\n",
      "24000/24000 [==============================] - 1s 59us/step - loss: 0.3073 - acc: 0.8609 - val_loss: 1.0703 - val_acc: 0.7222\n",
      "\n",
      "Epoch 00015: val_loss did not improve from 0.55365\n",
      "Epoch 16/150\n",
      "24000/24000 [==============================] - 1s 59us/step - loss: 0.2934 - acc: 0.8676 - val_loss: 1.0832 - val_acc: 0.7215\n",
      "\n",
      "Epoch 00016: val_loss did not improve from 0.55365\n",
      "Epoch 17/150\n",
      "24000/24000 [==============================] - 1s 59us/step - loss: 0.2815 - acc: 0.8731 - val_loss: 1.2453 - val_acc: 0.7190\n",
      "\n",
      "Epoch 00017: val_loss did not improve from 0.55365\n",
      "Epoch 18/150\n",
      "24000/24000 [==============================] - 1s 61us/step - loss: 0.2738 - acc: 0.8796 - val_loss: 1.2974 - val_acc: 0.7187\n",
      "\n",
      "Epoch 00018: val_loss did not improve from 0.55365\n",
      "Epoch 19/150\n",
      "24000/24000 [==============================] - 1s 59us/step - loss: 0.2646 - acc: 0.8830 - val_loss: 1.3709 - val_acc: 0.7183\n",
      "\n",
      "Epoch 00019: val_loss did not improve from 0.55365\n",
      "Epoch 20/150\n",
      "24000/24000 [==============================] - 1s 59us/step - loss: 0.2580 - acc: 0.8890 - val_loss: 1.4107 - val_acc: 0.7132\n",
      "\n",
      "Epoch 00020: val_loss did not improve from 0.55365\n",
      "Epoch 21/150\n",
      "24000/24000 [==============================] - 1s 59us/step - loss: 0.2476 - acc: 0.8919 - val_loss: 1.4914 - val_acc: 0.7183\n",
      "\n",
      "Epoch 00021: val_loss did not improve from 0.55365\n",
      "Epoch 22/150\n",
      "24000/24000 [==============================] - 1s 58us/step - loss: 0.2408 - acc: 0.8960 - val_loss: 1.5816 - val_acc: 0.7120\n",
      "\n",
      "Epoch 00022: val_loss did not improve from 0.55365\n",
      "Epoch 23/150\n",
      "24000/24000 [==============================] - 1s 60us/step - loss: 0.2362 - acc: 0.8999 - val_loss: 1.7183 - val_acc: 0.7125\n",
      "\n",
      "Epoch 00023: val_loss did not improve from 0.55365\n"
     ]
    }
   ],
   "source": [
    "from keras.callbacks import EarlyStopping, ReduceLROnPlateau, ModelCheckpoint\n",
    "\n",
    "model_path = './빅콘테스트/model/version2/mlp_leave_clf.hdf5'\n",
    "\n",
    "mlp_leave_clf.compile(optimizer = 'rmsprop', loss = {'leave_output' : 'binary_crossentropy'},\n",
    "              metrics = {'leave_output' : 'acc'})\n",
    "\n",
    "callbacks_list = [EarlyStopping(monitor = 'val_loss', patience = 20),\n",
    "                 ReduceLROnPlateau(monitor = 'val_loss', factor = 0.1, patience = 10),\n",
    "                 ModelCheckpoint(filepath = model_path, monitor = 'val_loss', verbose = 1, save_best_only = True)]\n",
    "\n",
    "history = mlp_leave_clf.fit(X_train, y_train['leave'],\n",
    "                            epochs = 150, batch_size = 128, \n",
    "                            callbacks = callbacks_list,\n",
    "                            validation_split = 0.2,\n",
    "                            shuffle = True)"
   ]
  },
  {
   "cell_type": "markdown",
   "metadata": {},
   "source": [
    "## 결제 여부"
   ]
  },
  {
   "cell_type": "markdown",
   "metadata": {},
   "source": [
    "### AdaBoost"
   ]
  },
  {
   "cell_type": "code",
   "execution_count": 40,
   "metadata": {},
   "outputs": [
    {
     "name": "stdout",
     "output_type": "stream",
     "text": [
      "Fitting 5 folds for each of 4 candidates, totalling 20 fits\n"
     ]
    },
    {
     "name": "stderr",
     "output_type": "stream",
     "text": [
      "[Parallel(n_jobs=-1)]: Using backend LokyBackend with 32 concurrent workers.\n",
      "[Parallel(n_jobs=-1)]: Done  12 out of  20 | elapsed:    1.6s remaining:    1.1s\n",
      "[Parallel(n_jobs=-1)]: Done  20 out of  20 | elapsed:    1.8s finished\n"
     ]
    },
    {
     "data": {
      "text/plain": [
       "GridSearchCV(cv=5, error_score='raise-deprecating',\n",
       "             estimator=DecisionTreeClassifier(class_weight=None,\n",
       "                                              criterion='gini', max_depth=None,\n",
       "                                              max_features=None,\n",
       "                                              max_leaf_nodes=None,\n",
       "                                              min_impurity_decrease=0.0,\n",
       "                                              min_impurity_split=None,\n",
       "                                              min_samples_leaf=1,\n",
       "                                              min_samples_split=2,\n",
       "                                              min_weight_fraction_leaf=0.0,\n",
       "                                              presort=False, random_state=42,\n",
       "                                              splitter='best'),\n",
       "             iid='warn', n_jobs=-1, param_grid=[{'max_depth': [7, 8, 9, 10]}],\n",
       "             pre_dispatch='2*n_jobs', refit=True, return_train_score=False,\n",
       "             scoring='accuracy', verbose=2)"
      ]
     },
     "execution_count": 40,
     "metadata": {},
     "output_type": "execute_result"
    }
   ],
   "source": [
    "from sklearn.model_selection import GridSearchCV\n",
    "from sklearn.tree import DecisionTreeClassifier\n",
    "\n",
    "tree = DecisionTreeClassifier(random_state = 42)\n",
    "\n",
    "param_grid = [\n",
    "    {'max_depth' : [7, 8, 9, 10]}\n",
    "  ]\n",
    "\n",
    "grid_search = GridSearchCV(tree, param_grid, cv = 5,\n",
    "                           scoring = 'accuracy', verbose = 2, n_jobs = -1)\n",
    "grid_search.fit(X_train, y_train['amount'])"
   ]
  },
  {
   "cell_type": "code",
   "execution_count": 41,
   "metadata": {},
   "outputs": [
    {
     "name": "stdout",
     "output_type": "stream",
     "text": [
      "0.8415333333333334\n",
      "{'max_depth': 7}\n"
     ]
    }
   ],
   "source": [
    "print(grid_search.best_score_)\n",
    "print(grid_search.best_params_)"
   ]
  },
  {
   "cell_type": "code",
   "execution_count": 42,
   "metadata": {},
   "outputs": [
    {
     "name": "stdout",
     "output_type": "stream",
     "text": [
      "Fitting 5 folds for each of 9 candidates, totalling 45 fits\n"
     ]
    },
    {
     "name": "stderr",
     "output_type": "stream",
     "text": [
      "[Parallel(n_jobs=-1)]: Using backend LokyBackend with 32 concurrent workers.\n",
      "[Parallel(n_jobs=-1)]: Done   5 out of  45 | elapsed:  4.7min remaining: 37.3min\n",
      "[Parallel(n_jobs=-1)]: Done  28 out of  45 | elapsed: 10.5min remaining:  6.4min\n",
      "[Parallel(n_jobs=-1)]: Done  45 out of  45 | elapsed: 15.1min finished\n"
     ]
    },
    {
     "data": {
      "text/plain": [
       "GridSearchCV(cv=5, error_score='raise-deprecating',\n",
       "             estimator=AdaBoostClassifier(algorithm='SAMME.R',\n",
       "                                          base_estimator=DecisionTreeClassifier(class_weight=None,\n",
       "                                                                                criterion='gini',\n",
       "                                                                                max_depth=7,\n",
       "                                                                                max_features=None,\n",
       "                                                                                max_leaf_nodes=None,\n",
       "                                                                                min_impurity_decrease=0.0,\n",
       "                                                                                min_impurity_split=None,\n",
       "                                                                                min_samples_leaf=1,\n",
       "                                                                                min_samples_split=2,\n",
       "                                                                                min_weight_fraction_leaf=0.0,\n",
       "                                                                                presort=False,\n",
       "                                                                                random_state=None,\n",
       "                                                                                splitter='best'),\n",
       "                                          learning_rate=1.0, n_estimators=50,\n",
       "                                          random_state=42),\n",
       "             iid='warn', n_jobs=-1,\n",
       "             param_grid=[{'learning_rate': [0.001, 0.01, 0.1],\n",
       "                          'n_estimators': [300, 500, 750]}],\n",
       "             pre_dispatch='2*n_jobs', refit=True, return_train_score=False,\n",
       "             scoring='accuracy', verbose=2)"
      ]
     },
     "execution_count": 42,
     "metadata": {},
     "output_type": "execute_result"
    }
   ],
   "source": [
    "from sklearn.model_selection import GridSearchCV\n",
    "from sklearn.ensemble import AdaBoostClassifier\n",
    "\n",
    "ada = AdaBoostClassifier(base_estimator = DecisionTreeClassifier(max_depth = 7), random_state = 42)\n",
    "\n",
    "param_grid = [\n",
    "    {'learning_rate' : [0.001, 0.01, 0.1], 'n_estimators' : [300, 500, 750]}\n",
    "  ]\n",
    "\n",
    "grid_search = GridSearchCV(ada, param_grid, cv = 5,\n",
    "                           scoring = 'accuracy', verbose = 2, n_jobs = -1)\n",
    "grid_search.fit(X_train, y_train['amount'])"
   ]
  },
  {
   "cell_type": "code",
   "execution_count": 43,
   "metadata": {},
   "outputs": [
    {
     "name": "stdout",
     "output_type": "stream",
     "text": [
      "0.8504333333333334\n",
      "{'learning_rate': 0.01, 'n_estimators': 300}\n"
     ]
    }
   ],
   "source": [
    "print(grid_search.best_score_)\n",
    "print(grid_search.best_params_)"
   ]
  },
  {
   "cell_type": "code",
   "execution_count": 44,
   "metadata": {},
   "outputs": [
    {
     "data": {
      "text/plain": [
       "['./빅콘테스트/model/version2/ada_amount_clf_version2.pkl']"
      ]
     },
     "execution_count": 44,
     "metadata": {},
     "output_type": "execute_result"
    }
   ],
   "source": [
    "# ada_leave_clf = AdaBoostClassifier(random_state = 42, base_estimator = DecisionTreeClassifier(max_depth = 9),\n",
    "#                                    n_estimators = 500, learning_rate = 0.001)\n",
    "# ada_amount_clf.fit(X_train, y_train['amount'])\n",
    "ada_amount_clf = grid_search.best_estimator_\n",
    "joblib.dump(ada_amount_clf, './빅콘테스트/model/version2/ada_amount_clf_version2.pkl')"
   ]
  },
  {
   "cell_type": "markdown",
   "metadata": {},
   "source": [
    "### GradientBoost"
   ]
  },
  {
   "cell_type": "code",
   "execution_count": 45,
   "metadata": {},
   "outputs": [
    {
     "name": "stdout",
     "output_type": "stream",
     "text": [
      "Fitting 5 folds for each of 8 candidates, totalling 40 fits\n"
     ]
    },
    {
     "name": "stderr",
     "output_type": "stream",
     "text": [
      "[Parallel(n_jobs=-1)]: Using backend LokyBackend with 32 concurrent workers.\n",
      "[Parallel(n_jobs=-1)]: Done   1 tasks      | elapsed:  8.7min\n",
      "[Parallel(n_jobs=-1)]: Done  19 out of  40 | elapsed: 13.0min remaining: 14.4min\n",
      "[Parallel(n_jobs=-1)]: Done  40 out of  40 | elapsed: 21.3min remaining:    0.0s\n",
      "[Parallel(n_jobs=-1)]: Done  40 out of  40 | elapsed: 21.3min finished\n"
     ]
    },
    {
     "data": {
      "text/plain": [
       "GridSearchCV(cv=5, error_score='raise-deprecating',\n",
       "             estimator=GradientBoostingClassifier(criterion='friedman_mse',\n",
       "                                                  init=None, learning_rate=0.1,\n",
       "                                                  loss='deviance', max_depth=3,\n",
       "                                                  max_features=None,\n",
       "                                                  max_leaf_nodes=None,\n",
       "                                                  min_impurity_decrease=0.0,\n",
       "                                                  min_impurity_split=None,\n",
       "                                                  min_samples_leaf=1,\n",
       "                                                  min_samples_split=2,\n",
       "                                                  min_weight_fraction_leaf=0.0,\n",
       "                                                  n_estimators=100,\n",
       "                                                  n_iter_no_change=None,\n",
       "                                                  presort='auto',\n",
       "                                                  random_state=42,\n",
       "                                                  subsample=1.0, tol=0.0001,\n",
       "                                                  validation_fraction=0.1,\n",
       "                                                  verbose=0, warm_start=False),\n",
       "             iid='warn', n_jobs=-1,\n",
       "             param_grid=[{'learning_rate': [0.001, 0.01], 'max_depth': [8, 9],\n",
       "                          'n_estimators': [300, 500]}],\n",
       "             pre_dispatch='2*n_jobs', refit=True, return_train_score=False,\n",
       "             scoring='accuracy', verbose=2)"
      ]
     },
     "execution_count": 45,
     "metadata": {},
     "output_type": "execute_result"
    }
   ],
   "source": [
    "gb = GradientBoostingClassifier(random_state=42)\n",
    "\n",
    "param_grid = [\n",
    "    {'learning_rate' : [0.001, 0.01],\n",
    "     'max_depth' : [8, 9],\n",
    "     'n_estimators' : [300, 500]}\n",
    "  ]\n",
    "\n",
    "grid_search = GridSearchCV(gb, param_grid, cv = 5,\n",
    "                           scoring = 'accuracy', verbose = 2, n_jobs = -1)\n",
    "grid_search.fit(X_train, y_train['amount'])"
   ]
  },
  {
   "cell_type": "code",
   "execution_count": 46,
   "metadata": {},
   "outputs": [
    {
     "name": "stdout",
     "output_type": "stream",
     "text": [
      "0.8562333333333333\n",
      "{'learning_rate': 0.01, 'max_depth': 9, 'n_estimators': 500}\n"
     ]
    }
   ],
   "source": [
    "print(grid_search.best_score_)\n",
    "print(grid_search.best_params_)"
   ]
  },
  {
   "cell_type": "code",
   "execution_count": 47,
   "metadata": {},
   "outputs": [
    {
     "data": {
      "text/plain": [
       "['./빅콘테스트/model/version2/gb_amount_clf_version2.pkl']"
      ]
     },
     "execution_count": 47,
     "metadata": {},
     "output_type": "execute_result"
    }
   ],
   "source": [
    "# gb_amount_clf = GradientBoostingClassifier(random_state = 42, learning_rate = 0.001, max_depth = 9, n_estimators = 300)\n",
    "# gb_amount_clf.fit(X_train, y_train['amount'])\n",
    "gb_amount_clf = grid_search.best_estimator_\n",
    "joblib.dump(gb_amount_clf, './빅콘테스트/model/version2/gb_amount_clf_version2.pkl')"
   ]
  },
  {
   "cell_type": "markdown",
   "metadata": {},
   "source": [
    "### RandomForest"
   ]
  },
  {
   "cell_type": "code",
   "execution_count": 48,
   "metadata": {},
   "outputs": [
    {
     "name": "stdout",
     "output_type": "stream",
     "text": [
      "Fitting 5 folds for each of 12 candidates, totalling 60 fits\n"
     ]
    },
    {
     "name": "stderr",
     "output_type": "stream",
     "text": [
      "[Parallel(n_jobs=-1)]: Using backend LokyBackend with 32 concurrent workers.\n",
      "[Parallel(n_jobs=-1)]: Done  28 out of  60 | elapsed:  1.7min remaining:  2.0min\n",
      "[Parallel(n_jobs=-1)]: Done  60 out of  60 | elapsed:  3.1min finished\n"
     ]
    },
    {
     "data": {
      "text/plain": [
       "GridSearchCV(cv=5, error_score='raise-deprecating',\n",
       "             estimator=RandomForestClassifier(bootstrap=True, class_weight=None,\n",
       "                                              criterion='gini', max_depth=None,\n",
       "                                              max_features='auto',\n",
       "                                              max_leaf_nodes=None,\n",
       "                                              min_impurity_decrease=0.0,\n",
       "                                              min_impurity_split=None,\n",
       "                                              min_samples_leaf=1,\n",
       "                                              min_samples_split=2,\n",
       "                                              min_weight_fraction_leaf=0.0,\n",
       "                                              n_estimators='warn', n_jobs=None,\n",
       "                                              oob_score=False, random_state=42,\n",
       "                                              verbose=0, warm_start=False),\n",
       "             iid='warn', n_jobs=-1,\n",
       "             param_grid=[{'max_features': [12, 13, 14, 15],\n",
       "                          'n_estimators': [300, 500, 750]}],\n",
       "             pre_dispatch='2*n_jobs', refit=True, return_train_score=False,\n",
       "             scoring='accuracy', verbose=2)"
      ]
     },
     "execution_count": 48,
     "metadata": {},
     "output_type": "execute_result"
    }
   ],
   "source": [
    "rf = RandomForestClassifier(random_state=42)\n",
    "\n",
    "param_grid = [\n",
    "    {'n_estimators' : [300, 500, 750], 'max_features' : [12, 13, 14, 15]}\n",
    "  ]\n",
    "\n",
    "grid_search = GridSearchCV(rf, param_grid, cv = 5,\n",
    "                           scoring = 'accuracy', verbose = 2, n_jobs = -1)\n",
    "grid_search.fit(X_train, y_train['amount'])"
   ]
  },
  {
   "cell_type": "code",
   "execution_count": 49,
   "metadata": {},
   "outputs": [
    {
     "name": "stdout",
     "output_type": "stream",
     "text": [
      "0.8585333333333334\n",
      "{'max_features': 15, 'n_estimators': 500}\n"
     ]
    }
   ],
   "source": [
    "print(grid_search.best_score_)\n",
    "print(grid_search.best_params_)"
   ]
  },
  {
   "cell_type": "code",
   "execution_count": 50,
   "metadata": {},
   "outputs": [
    {
     "data": {
      "text/plain": [
       "['./빅콘테스트/model/version2/rf_amount_clf_version2.pkl']"
      ]
     },
     "execution_count": 50,
     "metadata": {},
     "output_type": "execute_result"
    }
   ],
   "source": [
    "# rf_amount_clf = RandomForestClassifier(random_state = 42, max_features = 19, n_estimators = 750)\n",
    "# rf_amount_clf.fit(X_train, y_train['amount'])\n",
    "rf_amount_clf = grid_search.best_estimator_\n",
    "joblib.dump(rf_amount_clf, './빅콘테스트/model/version2/rf_amount_clf_version2.pkl')"
   ]
  },
  {
   "cell_type": "code",
   "execution_count": 51,
   "metadata": {},
   "outputs": [
    {
     "data": {
      "text/html": [
       "<div>\n",
       "<style scoped>\n",
       "    .dataframe tbody tr th:only-of-type {\n",
       "        vertical-align: middle;\n",
       "    }\n",
       "\n",
       "    .dataframe tbody tr th {\n",
       "        vertical-align: top;\n",
       "    }\n",
       "\n",
       "    .dataframe thead th {\n",
       "        text-align: right;\n",
       "    }\n",
       "</style>\n",
       "<table border=\"1\" class=\"dataframe\">\n",
       "  <thead>\n",
       "    <tr style=\"text-align: right;\">\n",
       "      <th></th>\n",
       "      <th>feature</th>\n",
       "      <th>importance</th>\n",
       "    </tr>\n",
       "  </thead>\n",
       "  <tbody>\n",
       "    <tr>\n",
       "      <th>49</th>\n",
       "      <td>enchant_count_1</td>\n",
       "      <td>0.000045</td>\n",
       "    </tr>\n",
       "    <tr>\n",
       "      <th>50</th>\n",
       "      <td>enchant_count_2</td>\n",
       "      <td>0.000057</td>\n",
       "    </tr>\n",
       "    <tr>\n",
       "      <th>52</th>\n",
       "      <td>enchant_count_4</td>\n",
       "      <td>0.000104</td>\n",
       "    </tr>\n",
       "    <tr>\n",
       "      <th>83</th>\n",
       "      <td>server_group_0</td>\n",
       "      <td>0.000107</td>\n",
       "    </tr>\n",
       "    <tr>\n",
       "      <th>85</th>\n",
       "      <td>server_group_2</td>\n",
       "      <td>0.000222</td>\n",
       "    </tr>\n",
       "    <tr>\n",
       "      <th>51</th>\n",
       "      <td>enchant_count_3</td>\n",
       "      <td>0.000245</td>\n",
       "    </tr>\n",
       "    <tr>\n",
       "      <th>84</th>\n",
       "      <td>server_group_1</td>\n",
       "      <td>0.000249</td>\n",
       "    </tr>\n",
       "    <tr>\n",
       "      <th>71</th>\n",
       "      <td>combat_same_pledge_cnt_3</td>\n",
       "      <td>0.000270</td>\n",
       "    </tr>\n",
       "    <tr>\n",
       "      <th>72</th>\n",
       "      <td>combat_same_pledge_cnt_4</td>\n",
       "      <td>0.000365</td>\n",
       "    </tr>\n",
       "    <tr>\n",
       "      <th>57</th>\n",
       "      <td>combat_random_attacker_cnt_1</td>\n",
       "      <td>0.000385</td>\n",
       "    </tr>\n",
       "    <tr>\n",
       "      <th>70</th>\n",
       "      <td>combat_same_pledge_cnt_2</td>\n",
       "      <td>0.000391</td>\n",
       "    </tr>\n",
       "    <tr>\n",
       "      <th>59</th>\n",
       "      <td>combat_random_attacker_cnt_3</td>\n",
       "      <td>0.000394</td>\n",
       "    </tr>\n",
       "    <tr>\n",
       "      <th>33</th>\n",
       "      <td>exp_recovery_1</td>\n",
       "      <td>0.000422</td>\n",
       "    </tr>\n",
       "    <tr>\n",
       "      <th>35</th>\n",
       "      <td>exp_recovery_3</td>\n",
       "      <td>0.000468</td>\n",
       "    </tr>\n",
       "    <tr>\n",
       "      <th>119</th>\n",
       "      <td>target_type_1_week2_enchant_scroll</td>\n",
       "      <td>0.000480</td>\n",
       "    </tr>\n",
       "    <tr>\n",
       "      <th>58</th>\n",
       "      <td>combat_random_attacker_cnt_2</td>\n",
       "      <td>0.000518</td>\n",
       "    </tr>\n",
       "    <tr>\n",
       "      <th>120</th>\n",
       "      <td>target_type_1_week3_enchant_scroll</td>\n",
       "      <td>0.000523</td>\n",
       "    </tr>\n",
       "    <tr>\n",
       "      <th>36</th>\n",
       "      <td>exp_recovery_4</td>\n",
       "      <td>0.000525</td>\n",
       "    </tr>\n",
       "    <tr>\n",
       "      <th>118</th>\n",
       "      <td>target_type_1_week1_enchant_scroll</td>\n",
       "      <td>0.000530</td>\n",
       "    </tr>\n",
       "    <tr>\n",
       "      <th>34</th>\n",
       "      <td>exp_recovery_2</td>\n",
       "      <td>0.000543</td>\n",
       "    </tr>\n",
       "    <tr>\n",
       "      <th>112</th>\n",
       "      <td>source_type_1_week3_enchant_scroll</td>\n",
       "      <td>0.000544</td>\n",
       "    </tr>\n",
       "    <tr>\n",
       "      <th>111</th>\n",
       "      <td>source_type_1_week2_enchant_scroll</td>\n",
       "      <td>0.000567</td>\n",
       "    </tr>\n",
       "    <tr>\n",
       "      <th>60</th>\n",
       "      <td>combat_random_attacker_cnt_4</td>\n",
       "      <td>0.000587</td>\n",
       "    </tr>\n",
       "    <tr>\n",
       "      <th>113</th>\n",
       "      <td>source_type_1_week4_enchant_scroll</td>\n",
       "      <td>0.000597</td>\n",
       "    </tr>\n",
       "    <tr>\n",
       "      <th>110</th>\n",
       "      <td>source_type_1_week1_enchant_scroll</td>\n",
       "      <td>0.000608</td>\n",
       "    </tr>\n",
       "    <tr>\n",
       "      <th>92</th>\n",
       "      <td>class_6</td>\n",
       "      <td>0.000630</td>\n",
       "    </tr>\n",
       "    <tr>\n",
       "      <th>121</th>\n",
       "      <td>target_type_1_week4_enchant_scroll</td>\n",
       "      <td>0.000652</td>\n",
       "    </tr>\n",
       "    <tr>\n",
       "      <th>69</th>\n",
       "      <td>combat_same_pledge_cnt_1</td>\n",
       "      <td>0.000808</td>\n",
       "    </tr>\n",
       "    <tr>\n",
       "      <th>109</th>\n",
       "      <td>source_type_0_week4_enchant_scroll</td>\n",
       "      <td>0.000834</td>\n",
       "    </tr>\n",
       "    <tr>\n",
       "      <th>107</th>\n",
       "      <td>source_type_0_week2_enchant_scroll</td>\n",
       "      <td>0.000860</td>\n",
       "    </tr>\n",
       "    <tr>\n",
       "      <th>...</th>\n",
       "      <td>...</td>\n",
       "      <td>...</td>\n",
       "    </tr>\n",
       "    <tr>\n",
       "      <th>80</th>\n",
       "      <td>combat_num_opponent_4</td>\n",
       "      <td>0.007810</td>\n",
       "    </tr>\n",
       "    <tr>\n",
       "      <th>133</th>\n",
       "      <td>target_type_0_week4_etc</td>\n",
       "      <td>0.009278</td>\n",
       "    </tr>\n",
       "    <tr>\n",
       "      <th>6</th>\n",
       "      <td>npc_kill_2</td>\n",
       "      <td>0.010052</td>\n",
       "    </tr>\n",
       "    <tr>\n",
       "      <th>45</th>\n",
       "      <td>game_money_change_1</td>\n",
       "      <td>0.011359</td>\n",
       "    </tr>\n",
       "    <tr>\n",
       "      <th>46</th>\n",
       "      <td>game_money_change_2</td>\n",
       "      <td>0.011504</td>\n",
       "    </tr>\n",
       "    <tr>\n",
       "      <th>9</th>\n",
       "      <td>solo_exp_1</td>\n",
       "      <td>0.011554</td>\n",
       "    </tr>\n",
       "    <tr>\n",
       "      <th>5</th>\n",
       "      <td>npc_kill_1</td>\n",
       "      <td>0.011745</td>\n",
       "    </tr>\n",
       "    <tr>\n",
       "      <th>47</th>\n",
       "      <td>game_money_change_3</td>\n",
       "      <td>0.011890</td>\n",
       "    </tr>\n",
       "    <tr>\n",
       "      <th>48</th>\n",
       "      <td>game_money_change_4</td>\n",
       "      <td>0.013712</td>\n",
       "    </tr>\n",
       "    <tr>\n",
       "      <th>10</th>\n",
       "      <td>solo_exp_2</td>\n",
       "      <td>0.014113</td>\n",
       "    </tr>\n",
       "    <tr>\n",
       "      <th>7</th>\n",
       "      <td>npc_kill_3</td>\n",
       "      <td>0.015351</td>\n",
       "    </tr>\n",
       "    <tr>\n",
       "      <th>0</th>\n",
       "      <td>level</td>\n",
       "      <td>0.015720</td>\n",
       "    </tr>\n",
       "    <tr>\n",
       "      <th>17</th>\n",
       "      <td>quest_exp_1</td>\n",
       "      <td>0.016433</td>\n",
       "    </tr>\n",
       "    <tr>\n",
       "      <th>1</th>\n",
       "      <td>playtime_1</td>\n",
       "      <td>0.016980</td>\n",
       "    </tr>\n",
       "    <tr>\n",
       "      <th>22</th>\n",
       "      <td>rich_monster_2</td>\n",
       "      <td>0.017050</td>\n",
       "    </tr>\n",
       "    <tr>\n",
       "      <th>12</th>\n",
       "      <td>solo_exp_4</td>\n",
       "      <td>0.017342</td>\n",
       "    </tr>\n",
       "    <tr>\n",
       "      <th>11</th>\n",
       "      <td>solo_exp_3</td>\n",
       "      <td>0.017376</td>\n",
       "    </tr>\n",
       "    <tr>\n",
       "      <th>18</th>\n",
       "      <td>quest_exp_2</td>\n",
       "      <td>0.017496</td>\n",
       "    </tr>\n",
       "    <tr>\n",
       "      <th>8</th>\n",
       "      <td>npc_kill_4</td>\n",
       "      <td>0.019456</td>\n",
       "    </tr>\n",
       "    <tr>\n",
       "      <th>3</th>\n",
       "      <td>playtime_3</td>\n",
       "      <td>0.019475</td>\n",
       "    </tr>\n",
       "    <tr>\n",
       "      <th>37</th>\n",
       "      <td>fishing_1</td>\n",
       "      <td>0.020269</td>\n",
       "    </tr>\n",
       "    <tr>\n",
       "      <th>2</th>\n",
       "      <td>playtime_2</td>\n",
       "      <td>0.020301</td>\n",
       "    </tr>\n",
       "    <tr>\n",
       "      <th>4</th>\n",
       "      <td>playtime_4</td>\n",
       "      <td>0.025511</td>\n",
       "    </tr>\n",
       "    <tr>\n",
       "      <th>19</th>\n",
       "      <td>quest_exp_3</td>\n",
       "      <td>0.026532</td>\n",
       "    </tr>\n",
       "    <tr>\n",
       "      <th>38</th>\n",
       "      <td>fishing_2</td>\n",
       "      <td>0.026985</td>\n",
       "    </tr>\n",
       "    <tr>\n",
       "      <th>39</th>\n",
       "      <td>fishing_3</td>\n",
       "      <td>0.031074</td>\n",
       "    </tr>\n",
       "    <tr>\n",
       "      <th>20</th>\n",
       "      <td>quest_exp_4</td>\n",
       "      <td>0.040968</td>\n",
       "    </tr>\n",
       "    <tr>\n",
       "      <th>40</th>\n",
       "      <td>fishing_4</td>\n",
       "      <td>0.049250</td>\n",
       "    </tr>\n",
       "    <tr>\n",
       "      <th>82</th>\n",
       "      <td>amount_mean</td>\n",
       "      <td>0.094104</td>\n",
       "    </tr>\n",
       "    <tr>\n",
       "      <th>81</th>\n",
       "      <td>amount_cnt</td>\n",
       "      <td>0.098221</td>\n",
       "    </tr>\n",
       "  </tbody>\n",
       "</table>\n",
       "<p>146 rows × 2 columns</p>\n",
       "</div>"
      ],
      "text/plain": [
       "                                feature  importance\n",
       "49                      enchant_count_1    0.000045\n",
       "50                      enchant_count_2    0.000057\n",
       "52                      enchant_count_4    0.000104\n",
       "83                       server_group_0    0.000107\n",
       "85                       server_group_2    0.000222\n",
       "51                      enchant_count_3    0.000245\n",
       "84                       server_group_1    0.000249\n",
       "71             combat_same_pledge_cnt_3    0.000270\n",
       "72             combat_same_pledge_cnt_4    0.000365\n",
       "57         combat_random_attacker_cnt_1    0.000385\n",
       "70             combat_same_pledge_cnt_2    0.000391\n",
       "59         combat_random_attacker_cnt_3    0.000394\n",
       "33                       exp_recovery_1    0.000422\n",
       "35                       exp_recovery_3    0.000468\n",
       "119  target_type_1_week2_enchant_scroll    0.000480\n",
       "58         combat_random_attacker_cnt_2    0.000518\n",
       "120  target_type_1_week3_enchant_scroll    0.000523\n",
       "36                       exp_recovery_4    0.000525\n",
       "118  target_type_1_week1_enchant_scroll    0.000530\n",
       "34                       exp_recovery_2    0.000543\n",
       "112  source_type_1_week3_enchant_scroll    0.000544\n",
       "111  source_type_1_week2_enchant_scroll    0.000567\n",
       "60         combat_random_attacker_cnt_4    0.000587\n",
       "113  source_type_1_week4_enchant_scroll    0.000597\n",
       "110  source_type_1_week1_enchant_scroll    0.000608\n",
       "92                              class_6    0.000630\n",
       "121  target_type_1_week4_enchant_scroll    0.000652\n",
       "69             combat_same_pledge_cnt_1    0.000808\n",
       "109  source_type_0_week4_enchant_scroll    0.000834\n",
       "107  source_type_0_week2_enchant_scroll    0.000860\n",
       "..                                  ...         ...\n",
       "80                combat_num_opponent_4    0.007810\n",
       "133             target_type_0_week4_etc    0.009278\n",
       "6                            npc_kill_2    0.010052\n",
       "45                  game_money_change_1    0.011359\n",
       "46                  game_money_change_2    0.011504\n",
       "9                            solo_exp_1    0.011554\n",
       "5                            npc_kill_1    0.011745\n",
       "47                  game_money_change_3    0.011890\n",
       "48                  game_money_change_4    0.013712\n",
       "10                           solo_exp_2    0.014113\n",
       "7                            npc_kill_3    0.015351\n",
       "0                                 level    0.015720\n",
       "17                          quest_exp_1    0.016433\n",
       "1                            playtime_1    0.016980\n",
       "22                       rich_monster_2    0.017050\n",
       "12                           solo_exp_4    0.017342\n",
       "11                           solo_exp_3    0.017376\n",
       "18                          quest_exp_2    0.017496\n",
       "8                            npc_kill_4    0.019456\n",
       "3                            playtime_3    0.019475\n",
       "37                            fishing_1    0.020269\n",
       "2                            playtime_2    0.020301\n",
       "4                            playtime_4    0.025511\n",
       "19                          quest_exp_3    0.026532\n",
       "38                            fishing_2    0.026985\n",
       "39                            fishing_3    0.031074\n",
       "20                          quest_exp_4    0.040968\n",
       "40                            fishing_4    0.049250\n",
       "82                          amount_mean    0.094104\n",
       "81                           amount_cnt    0.098221\n",
       "\n",
       "[146 rows x 2 columns]"
      ]
     },
     "execution_count": 51,
     "metadata": {},
     "output_type": "execute_result"
    }
   ],
   "source": [
    "Importance = pd.DataFrame({'feature' : X_train_columns[1:], 'importance' : rf_amount_clf.feature_importances_}).sort_values(by = 'importance', ascending = True)\n",
    "Importance"
   ]
  },
  {
   "cell_type": "markdown",
   "metadata": {},
   "source": [
    "### XGBoost"
   ]
  },
  {
   "cell_type": "code",
   "execution_count": 52,
   "metadata": {},
   "outputs": [
    {
     "name": "stdout",
     "output_type": "stream",
     "text": [
      "Fitting 5 folds for each of 36 candidates, totalling 180 fits\n"
     ]
    },
    {
     "name": "stderr",
     "output_type": "stream",
     "text": [
      "[Parallel(n_jobs=-1)]: Using backend LokyBackend with 32 concurrent workers.\n",
      "[Parallel(n_jobs=-1)]: Done  98 tasks      | elapsed:  2.5min\n",
      "[Parallel(n_jobs=-1)]: Done 180 out of 180 | elapsed:  4.1min finished\n"
     ]
    },
    {
     "data": {
      "text/plain": [
       "GridSearchCV(cv=5, error_score='raise-deprecating',\n",
       "             estimator=XGBClassifier(base_score=0.5, booster='gbtree',\n",
       "                                     colsample_bylevel=1, colsample_bytree=1,\n",
       "                                     gamma=0, learning_rate=0.1,\n",
       "                                     max_delta_step=0, max_depth=3,\n",
       "                                     min_child_weight=1, missing=None,\n",
       "                                     n_estimators=100, n_jobs=1, nthread=None,\n",
       "                                     objective='binary:logistic',\n",
       "                                     random_state=42, reg_alpha=0, reg_lambda=1,\n",
       "                                     scale_pos_weight=1, seed=None, silent=True,\n",
       "                                     subsample=1),\n",
       "             iid='warn', n_jobs=-1,\n",
       "             param_grid=[{'gamma': [0, 1, 3],\n",
       "                          'learning_rate': [0.001, 0.01, 0.1],\n",
       "                          'max_depth': [9, 10, 11, 12]}],\n",
       "             pre_dispatch='2*n_jobs', refit=True, return_train_score=False,\n",
       "             scoring='accuracy', verbose=2)"
      ]
     },
     "execution_count": 52,
     "metadata": {},
     "output_type": "execute_result"
    }
   ],
   "source": [
    "from xgboost import XGBClassifier\n",
    "\n",
    "xgb = XGBClassifier(random_state=42)\n",
    "\n",
    "param_grid = [\n",
    "    {'learning_rate' : [0.001, 0.01, 0.1], 'max_depth' : [9, 10, 11, 12], 'gamma' : [0, 1, 3]}\n",
    "  ]\n",
    "\n",
    "grid_search = GridSearchCV(xgb, param_grid, cv = 5,\n",
    "                           scoring = 'accuracy', verbose = 2, n_jobs = -1)\n",
    "\n",
    "grid_search.fit(X_train, y_train['amount'])"
   ]
  },
  {
   "cell_type": "code",
   "execution_count": 53,
   "metadata": {},
   "outputs": [
    {
     "name": "stdout",
     "output_type": "stream",
     "text": [
      "0.8575333333333334\n",
      "{'gamma': 3, 'learning_rate': 0.1, 'max_depth': 11}\n"
     ]
    }
   ],
   "source": [
    "print(grid_search.best_score_)\n",
    "print(grid_search.best_params_)"
   ]
  },
  {
   "cell_type": "code",
   "execution_count": 54,
   "metadata": {},
   "outputs": [
    {
     "data": {
      "text/plain": [
       "['./빅콘테스트/model/version2/xgb_amount_clf_version2.pkl']"
      ]
     },
     "execution_count": 54,
     "metadata": {},
     "output_type": "execute_result"
    }
   ],
   "source": [
    "# xgb_amount_clf = XGBClassifier(random_state = 42, eta = 0.1, gamma = 1, max_depth = 11)\n",
    "# xgb_amount_clf.fit(X_train, y_train['amount'])\n",
    "xgb_amount_clf = grid_search.best_estimator_\n",
    "joblib.dump(xgb_amount_clf, './빅콘테스트/model/version2/xgb_amount_clf_version2.pkl')"
   ]
  },
  {
   "cell_type": "code",
   "execution_count": 55,
   "metadata": {},
   "outputs": [
    {
     "data": {
      "text/html": [
       "<div>\n",
       "<style scoped>\n",
       "    .dataframe tbody tr th:only-of-type {\n",
       "        vertical-align: middle;\n",
       "    }\n",
       "\n",
       "    .dataframe tbody tr th {\n",
       "        vertical-align: top;\n",
       "    }\n",
       "\n",
       "    .dataframe thead th {\n",
       "        text-align: right;\n",
       "    }\n",
       "</style>\n",
       "<table border=\"1\" class=\"dataframe\">\n",
       "  <thead>\n",
       "    <tr style=\"text-align: right;\">\n",
       "      <th></th>\n",
       "      <th>feature</th>\n",
       "      <th>importance</th>\n",
       "    </tr>\n",
       "  </thead>\n",
       "  <tbody>\n",
       "    <tr>\n",
       "      <th>52</th>\n",
       "      <td>enchant_count_4</td>\n",
       "      <td>0.000000</td>\n",
       "    </tr>\n",
       "    <tr>\n",
       "      <th>83</th>\n",
       "      <td>server_group_0</td>\n",
       "      <td>0.000000</td>\n",
       "    </tr>\n",
       "    <tr>\n",
       "      <th>85</th>\n",
       "      <td>server_group_2</td>\n",
       "      <td>0.000000</td>\n",
       "    </tr>\n",
       "    <tr>\n",
       "      <th>49</th>\n",
       "      <td>enchant_count_1</td>\n",
       "      <td>0.000068</td>\n",
       "    </tr>\n",
       "    <tr>\n",
       "      <th>71</th>\n",
       "      <td>combat_same_pledge_cnt_3</td>\n",
       "      <td>0.000068</td>\n",
       "    </tr>\n",
       "    <tr>\n",
       "      <th>50</th>\n",
       "      <td>enchant_count_2</td>\n",
       "      <td>0.000068</td>\n",
       "    </tr>\n",
       "    <tr>\n",
       "      <th>51</th>\n",
       "      <td>enchant_count_3</td>\n",
       "      <td>0.000136</td>\n",
       "    </tr>\n",
       "    <tr>\n",
       "      <th>33</th>\n",
       "      <td>exp_recovery_1</td>\n",
       "      <td>0.000136</td>\n",
       "    </tr>\n",
       "    <tr>\n",
       "      <th>70</th>\n",
       "      <td>combat_same_pledge_cnt_2</td>\n",
       "      <td>0.000204</td>\n",
       "    </tr>\n",
       "    <tr>\n",
       "      <th>36</th>\n",
       "      <td>exp_recovery_4</td>\n",
       "      <td>0.000204</td>\n",
       "    </tr>\n",
       "    <tr>\n",
       "      <th>58</th>\n",
       "      <td>combat_random_attacker_cnt_2</td>\n",
       "      <td>0.000272</td>\n",
       "    </tr>\n",
       "    <tr>\n",
       "      <th>59</th>\n",
       "      <td>combat_random_attacker_cnt_3</td>\n",
       "      <td>0.000272</td>\n",
       "    </tr>\n",
       "    <tr>\n",
       "      <th>35</th>\n",
       "      <td>exp_recovery_3</td>\n",
       "      <td>0.000408</td>\n",
       "    </tr>\n",
       "    <tr>\n",
       "      <th>84</th>\n",
       "      <td>server_group_1</td>\n",
       "      <td>0.000408</td>\n",
       "    </tr>\n",
       "    <tr>\n",
       "      <th>72</th>\n",
       "      <td>combat_same_pledge_cnt_4</td>\n",
       "      <td>0.000408</td>\n",
       "    </tr>\n",
       "    <tr>\n",
       "      <th>69</th>\n",
       "      <td>combat_same_pledge_cnt_1</td>\n",
       "      <td>0.000476</td>\n",
       "    </tr>\n",
       "    <tr>\n",
       "      <th>57</th>\n",
       "      <td>combat_random_attacker_cnt_1</td>\n",
       "      <td>0.000544</td>\n",
       "    </tr>\n",
       "    <tr>\n",
       "      <th>107</th>\n",
       "      <td>source_type_0_week2_enchant_scroll</td>\n",
       "      <td>0.000612</td>\n",
       "    </tr>\n",
       "    <tr>\n",
       "      <th>144</th>\n",
       "      <td>source_spell</td>\n",
       "      <td>0.000612</td>\n",
       "    </tr>\n",
       "    <tr>\n",
       "      <th>92</th>\n",
       "      <td>class_6</td>\n",
       "      <td>0.000952</td>\n",
       "    </tr>\n",
       "    <tr>\n",
       "      <th>34</th>\n",
       "      <td>exp_recovery_2</td>\n",
       "      <td>0.000952</td>\n",
       "    </tr>\n",
       "    <tr>\n",
       "      <th>60</th>\n",
       "      <td>combat_random_attacker_cnt_4</td>\n",
       "      <td>0.001020</td>\n",
       "    </tr>\n",
       "    <tr>\n",
       "      <th>120</th>\n",
       "      <td>target_type_1_week3_enchant_scroll</td>\n",
       "      <td>0.001020</td>\n",
       "    </tr>\n",
       "    <tr>\n",
       "      <th>119</th>\n",
       "      <td>target_type_1_week2_enchant_scroll</td>\n",
       "      <td>0.001088</td>\n",
       "    </tr>\n",
       "    <tr>\n",
       "      <th>94</th>\n",
       "      <td>pledge_group_0.0</td>\n",
       "      <td>0.001224</td>\n",
       "    </tr>\n",
       "    <tr>\n",
       "      <th>109</th>\n",
       "      <td>source_type_0_week4_enchant_scroll</td>\n",
       "      <td>0.001224</td>\n",
       "    </tr>\n",
       "    <tr>\n",
       "      <th>91</th>\n",
       "      <td>class_5</td>\n",
       "      <td>0.001360</td>\n",
       "    </tr>\n",
       "    <tr>\n",
       "      <th>95</th>\n",
       "      <td>pledge_group_1.0</td>\n",
       "      <td>0.001360</td>\n",
       "    </tr>\n",
       "    <tr>\n",
       "      <th>138</th>\n",
       "      <td>source_weapon</td>\n",
       "      <td>0.001360</td>\n",
       "    </tr>\n",
       "    <tr>\n",
       "      <th>89</th>\n",
       "      <td>class_3</td>\n",
       "      <td>0.001360</td>\n",
       "    </tr>\n",
       "    <tr>\n",
       "      <th>...</th>\n",
       "      <td>...</td>\n",
       "      <td>...</td>\n",
       "    </tr>\n",
       "    <tr>\n",
       "      <th>101</th>\n",
       "      <td>source_type_1_week4_adena</td>\n",
       "      <td>0.009523</td>\n",
       "    </tr>\n",
       "    <tr>\n",
       "      <th>133</th>\n",
       "      <td>target_type_0_week4_etc</td>\n",
       "      <td>0.009863</td>\n",
       "    </tr>\n",
       "    <tr>\n",
       "      <th>14</th>\n",
       "      <td>party_exp_2</td>\n",
       "      <td>0.011496</td>\n",
       "    </tr>\n",
       "    <tr>\n",
       "      <th>38</th>\n",
       "      <td>fishing_2</td>\n",
       "      <td>0.011700</td>\n",
       "    </tr>\n",
       "    <tr>\n",
       "      <th>17</th>\n",
       "      <td>quest_exp_1</td>\n",
       "      <td>0.012040</td>\n",
       "    </tr>\n",
       "    <tr>\n",
       "      <th>0</th>\n",
       "      <td>level</td>\n",
       "      <td>0.013468</td>\n",
       "    </tr>\n",
       "    <tr>\n",
       "      <th>81</th>\n",
       "      <td>amount_cnt</td>\n",
       "      <td>0.013605</td>\n",
       "    </tr>\n",
       "    <tr>\n",
       "      <th>16</th>\n",
       "      <td>party_exp_4</td>\n",
       "      <td>0.013945</td>\n",
       "    </tr>\n",
       "    <tr>\n",
       "      <th>37</th>\n",
       "      <td>fishing_1</td>\n",
       "      <td>0.014489</td>\n",
       "    </tr>\n",
       "    <tr>\n",
       "      <th>11</th>\n",
       "      <td>solo_exp_3</td>\n",
       "      <td>0.015101</td>\n",
       "    </tr>\n",
       "    <tr>\n",
       "      <th>6</th>\n",
       "      <td>npc_kill_2</td>\n",
       "      <td>0.015373</td>\n",
       "    </tr>\n",
       "    <tr>\n",
       "      <th>10</th>\n",
       "      <td>solo_exp_2</td>\n",
       "      <td>0.015781</td>\n",
       "    </tr>\n",
       "    <tr>\n",
       "      <th>19</th>\n",
       "      <td>quest_exp_3</td>\n",
       "      <td>0.015781</td>\n",
       "    </tr>\n",
       "    <tr>\n",
       "      <th>40</th>\n",
       "      <td>fishing_4</td>\n",
       "      <td>0.016938</td>\n",
       "    </tr>\n",
       "    <tr>\n",
       "      <th>5</th>\n",
       "      <td>npc_kill_1</td>\n",
       "      <td>0.017550</td>\n",
       "    </tr>\n",
       "    <tr>\n",
       "      <th>9</th>\n",
       "      <td>solo_exp_1</td>\n",
       "      <td>0.020271</td>\n",
       "    </tr>\n",
       "    <tr>\n",
       "      <th>7</th>\n",
       "      <td>npc_kill_3</td>\n",
       "      <td>0.020543</td>\n",
       "    </tr>\n",
       "    <tr>\n",
       "      <th>12</th>\n",
       "      <td>solo_exp_4</td>\n",
       "      <td>0.020611</td>\n",
       "    </tr>\n",
       "    <tr>\n",
       "      <th>18</th>\n",
       "      <td>quest_exp_2</td>\n",
       "      <td>0.021359</td>\n",
       "    </tr>\n",
       "    <tr>\n",
       "      <th>20</th>\n",
       "      <td>quest_exp_4</td>\n",
       "      <td>0.022107</td>\n",
       "    </tr>\n",
       "    <tr>\n",
       "      <th>46</th>\n",
       "      <td>game_money_change_2</td>\n",
       "      <td>0.022856</td>\n",
       "    </tr>\n",
       "    <tr>\n",
       "      <th>2</th>\n",
       "      <td>playtime_2</td>\n",
       "      <td>0.024556</td>\n",
       "    </tr>\n",
       "    <tr>\n",
       "      <th>1</th>\n",
       "      <td>playtime_1</td>\n",
       "      <td>0.024760</td>\n",
       "    </tr>\n",
       "    <tr>\n",
       "      <th>8</th>\n",
       "      <td>npc_kill_4</td>\n",
       "      <td>0.025032</td>\n",
       "    </tr>\n",
       "    <tr>\n",
       "      <th>45</th>\n",
       "      <td>game_money_change_1</td>\n",
       "      <td>0.025304</td>\n",
       "    </tr>\n",
       "    <tr>\n",
       "      <th>47</th>\n",
       "      <td>game_money_change_3</td>\n",
       "      <td>0.025372</td>\n",
       "    </tr>\n",
       "    <tr>\n",
       "      <th>3</th>\n",
       "      <td>playtime_3</td>\n",
       "      <td>0.028774</td>\n",
       "    </tr>\n",
       "    <tr>\n",
       "      <th>48</th>\n",
       "      <td>game_money_change_4</td>\n",
       "      <td>0.031562</td>\n",
       "    </tr>\n",
       "    <tr>\n",
       "      <th>82</th>\n",
       "      <td>amount_mean</td>\n",
       "      <td>0.032447</td>\n",
       "    </tr>\n",
       "    <tr>\n",
       "      <th>4</th>\n",
       "      <td>playtime_4</td>\n",
       "      <td>0.035168</td>\n",
       "    </tr>\n",
       "  </tbody>\n",
       "</table>\n",
       "<p>146 rows × 2 columns</p>\n",
       "</div>"
      ],
      "text/plain": [
       "                                feature  importance\n",
       "52                      enchant_count_4    0.000000\n",
       "83                       server_group_0    0.000000\n",
       "85                       server_group_2    0.000000\n",
       "49                      enchant_count_1    0.000068\n",
       "71             combat_same_pledge_cnt_3    0.000068\n",
       "50                      enchant_count_2    0.000068\n",
       "51                      enchant_count_3    0.000136\n",
       "33                       exp_recovery_1    0.000136\n",
       "70             combat_same_pledge_cnt_2    0.000204\n",
       "36                       exp_recovery_4    0.000204\n",
       "58         combat_random_attacker_cnt_2    0.000272\n",
       "59         combat_random_attacker_cnt_3    0.000272\n",
       "35                       exp_recovery_3    0.000408\n",
       "84                       server_group_1    0.000408\n",
       "72             combat_same_pledge_cnt_4    0.000408\n",
       "69             combat_same_pledge_cnt_1    0.000476\n",
       "57         combat_random_attacker_cnt_1    0.000544\n",
       "107  source_type_0_week2_enchant_scroll    0.000612\n",
       "144                        source_spell    0.000612\n",
       "92                              class_6    0.000952\n",
       "34                       exp_recovery_2    0.000952\n",
       "60         combat_random_attacker_cnt_4    0.001020\n",
       "120  target_type_1_week3_enchant_scroll    0.001020\n",
       "119  target_type_1_week2_enchant_scroll    0.001088\n",
       "94                     pledge_group_0.0    0.001224\n",
       "109  source_type_0_week4_enchant_scroll    0.001224\n",
       "91                              class_5    0.001360\n",
       "95                     pledge_group_1.0    0.001360\n",
       "138                       source_weapon    0.001360\n",
       "89                              class_3    0.001360\n",
       "..                                  ...         ...\n",
       "101           source_type_1_week4_adena    0.009523\n",
       "133             target_type_0_week4_etc    0.009863\n",
       "14                          party_exp_2    0.011496\n",
       "38                            fishing_2    0.011700\n",
       "17                          quest_exp_1    0.012040\n",
       "0                                 level    0.013468\n",
       "81                           amount_cnt    0.013605\n",
       "16                          party_exp_4    0.013945\n",
       "37                            fishing_1    0.014489\n",
       "11                           solo_exp_3    0.015101\n",
       "6                            npc_kill_2    0.015373\n",
       "10                           solo_exp_2    0.015781\n",
       "19                          quest_exp_3    0.015781\n",
       "40                            fishing_4    0.016938\n",
       "5                            npc_kill_1    0.017550\n",
       "9                            solo_exp_1    0.020271\n",
       "7                            npc_kill_3    0.020543\n",
       "12                           solo_exp_4    0.020611\n",
       "18                          quest_exp_2    0.021359\n",
       "20                          quest_exp_4    0.022107\n",
       "46                  game_money_change_2    0.022856\n",
       "2                            playtime_2    0.024556\n",
       "1                            playtime_1    0.024760\n",
       "8                            npc_kill_4    0.025032\n",
       "45                  game_money_change_1    0.025304\n",
       "47                  game_money_change_3    0.025372\n",
       "3                            playtime_3    0.028774\n",
       "48                  game_money_change_4    0.031562\n",
       "82                          amount_mean    0.032447\n",
       "4                            playtime_4    0.035168\n",
       "\n",
       "[146 rows x 2 columns]"
      ]
     },
     "execution_count": 55,
     "metadata": {},
     "output_type": "execute_result"
    }
   ],
   "source": [
    "Importance = pd.DataFrame({'feature' : X_train_columns[1:], 'importance' : xgb_amount_clf.feature_importances_}).sort_values(by = 'importance', ascending = True)\n",
    "Importance"
   ]
  },
  {
   "cell_type": "markdown",
   "metadata": {},
   "source": [
    "### Ensemble"
   ]
  },
  {
   "cell_type": "code",
   "execution_count": 56,
   "metadata": {},
   "outputs": [
    {
     "data": {
      "text/plain": [
       "0.8586"
      ]
     },
     "execution_count": 56,
     "metadata": {},
     "output_type": "execute_result"
    }
   ],
   "source": [
    "voting_amount_clf_1 = VotingClassifier(\n",
    "    estimators=[('ada', ada_amount_clf), ('gb', gb_amount_clf), ('rf', rf_amount_clf), ('xgb', xgb_amount_clf)],\n",
    "    voting='soft', n_jobs = -1)\n",
    "\n",
    "cv_value = cross_val_score(voting_amount_clf_1, X_train,\n",
    "                           y_train['amount'], cv = 5,\n",
    "                           scoring = \"accuracy\")\n",
    "np.mean(cv_value)"
   ]
  },
  {
   "cell_type": "code",
   "execution_count": 57,
   "metadata": {},
   "outputs": [
    {
     "data": {
      "text/plain": [
       "0.8596666666666666"
      ]
     },
     "execution_count": 57,
     "metadata": {},
     "output_type": "execute_result"
    }
   ],
   "source": [
    "voting_amount_clf_2 = VotingClassifier(\n",
    "    estimators=[('rf', rf_amount_clf), ('xgb', xgb_amount_clf)],\n",
    "    voting='soft', n_jobs = -1)\n",
    "\n",
    "cv_value = cross_val_score(voting_amount_clf_2, X_train,\n",
    "                           y_train['amount'], cv = 5,\n",
    "                           scoring = \"accuracy\")\n",
    "np.mean(cv_value)"
   ]
  },
  {
   "cell_type": "code",
   "execution_count": 58,
   "metadata": {},
   "outputs": [
    {
     "data": {
      "text/plain": [
       "['./빅콘테스트/model/version2/voting_amount_clf_1_version2.pkl']"
      ]
     },
     "execution_count": 58,
     "metadata": {},
     "output_type": "execute_result"
    }
   ],
   "source": [
    "voting_amount_clf_1.fit(X_train, y_train['amount'])\n",
    "joblib.dump(voting_amount_clf_1, './빅콘테스트/model/version2/voting_amount_clf_1_version2.pkl')"
   ]
  },
  {
   "cell_type": "code",
   "execution_count": 59,
   "metadata": {},
   "outputs": [
    {
     "data": {
      "text/plain": [
       "['./빅콘테스트/model/version2/voting_amount_clf_2_version2.pkl']"
      ]
     },
     "execution_count": 59,
     "metadata": {},
     "output_type": "execute_result"
    }
   ],
   "source": [
    "voting_amount_clf_2.fit(X_train, y_train['amount'])\n",
    "joblib.dump(voting_amount_clf_2, './빅콘테스트/model/version2/voting_amount_clf_2_version2.pkl')"
   ]
  },
  {
   "cell_type": "markdown",
   "metadata": {},
   "source": [
    "### MLP(Multi Layer Perceptron)"
   ]
  },
  {
   "cell_type": "code",
   "execution_count": 60,
   "metadata": {},
   "outputs": [
    {
     "name": "stdout",
     "output_type": "stream",
     "text": [
      "_________________________________________________________________\n",
      "Layer (type)                 Output Shape              Param #   \n",
      "=================================================================\n",
      "input_2 (InputLayer)         (None, 146)               0         \n",
      "_________________________________________________________________\n",
      "dense_7 (Dense)              (None, 1024)              150528    \n",
      "_________________________________________________________________\n",
      "dense_8 (Dense)              (None, 512)               524800    \n",
      "_________________________________________________________________\n",
      "dense_9 (Dense)              (None, 256)               131328    \n",
      "_________________________________________________________________\n",
      "dense_10 (Dense)             (None, 128)               32896     \n",
      "_________________________________________________________________\n",
      "dropout_3 (Dropout)          (None, 128)               0         \n",
      "_________________________________________________________________\n",
      "dense_11 (Dense)             (None, 64)                8256      \n",
      "_________________________________________________________________\n",
      "dropout_4 (Dropout)          (None, 64)                0         \n",
      "_________________________________________________________________\n",
      "dense_12 (Dense)             (None, 32)                2080      \n",
      "_________________________________________________________________\n",
      "amount_output (Dense)        (None, 1)                 33        \n",
      "=================================================================\n",
      "Total params: 849,921\n",
      "Trainable params: 849,921\n",
      "Non-trainable params: 0\n",
      "_________________________________________________________________\n"
     ]
    }
   ],
   "source": [
    "input = Input(shape = (X_train.shape[1], ))\n",
    "\n",
    "fc1 = Dense(1024, activation='relu')(input)\n",
    "fc2 = Dense(512, activation='relu')(fc1)\n",
    "fc3 = Dense(256, activation='relu')(fc2)\n",
    "fc4 = Dense(128, activation='relu')(fc3)\n",
    "fc4_drop = Dropout(0.1)(fc4)\n",
    "fc5 = Dense(64, activation='relu')(fc4_drop)\n",
    "fc5_drop = Dropout(0.1)(fc5)\n",
    "fc6 = Dense(32, activation='relu')(fc5_drop)\n",
    "\n",
    "amount_out = Dense(1, activation='sigmoid', name='amount_output')(fc6)\n",
    "\n",
    "mlp_amount_clf = Model(inputs = input, outputs = amount_out)\n",
    "mlp_amount_clf.summary()"
   ]
  },
  {
   "cell_type": "code",
   "execution_count": 61,
   "metadata": {},
   "outputs": [
    {
     "name": "stdout",
     "output_type": "stream",
     "text": [
      "Train on 24000 samples, validate on 6000 samples\n",
      "Epoch 1/150\n",
      "24000/24000 [==============================] - 2s 82us/step - loss: 0.4796 - acc: 0.7856 - val_loss: 0.4451 - val_acc: 0.8090\n",
      "\n",
      "Epoch 00001: val_loss improved from inf to 0.44513, saving model to ./빅콘테스트/model/version2/mlp_amount_clf.hdf5\n",
      "Epoch 2/150\n",
      "24000/24000 [==============================] - 1s 62us/step - loss: 0.4068 - acc: 0.8280 - val_loss: 0.4604 - val_acc: 0.8233\n",
      "\n",
      "Epoch 00002: val_loss did not improve from 0.44513\n",
      "Epoch 3/150\n",
      "24000/24000 [==============================] - 2s 65us/step - loss: 0.3902 - acc: 0.8377 - val_loss: 0.4078 - val_acc: 0.8327\n",
      "\n",
      "Epoch 00003: val_loss improved from 0.44513 to 0.40779, saving model to ./빅콘테스트/model/version2/mlp_amount_clf.hdf5\n",
      "Epoch 4/150\n",
      "24000/24000 [==============================] - 1s 62us/step - loss: 0.3776 - acc: 0.8452 - val_loss: 0.4166 - val_acc: 0.8327\n",
      "\n",
      "Epoch 00004: val_loss did not improve from 0.40779\n",
      "Epoch 5/150\n",
      "24000/24000 [==============================] - 1s 61us/step - loss: 0.3670 - acc: 0.8505 - val_loss: 0.4381 - val_acc: 0.8327\n",
      "\n",
      "Epoch 00005: val_loss did not improve from 0.40779\n",
      "Epoch 6/150\n",
      "24000/24000 [==============================] - 1s 62us/step - loss: 0.3604 - acc: 0.8531 - val_loss: 0.4133 - val_acc: 0.8337\n",
      "\n",
      "Epoch 00006: val_loss did not improve from 0.40779\n",
      "Epoch 7/150\n",
      "24000/24000 [==============================] - 2s 63us/step - loss: 0.3497 - acc: 0.8588 - val_loss: 0.4180 - val_acc: 0.8322\n",
      "\n",
      "Epoch 00007: val_loss did not improve from 0.40779\n",
      "Epoch 8/150\n",
      "24000/24000 [==============================] - 2s 64us/step - loss: 0.3380 - acc: 0.8612 - val_loss: 0.4404 - val_acc: 0.8330\n",
      "\n",
      "Epoch 00008: val_loss did not improve from 0.40779\n",
      "Epoch 9/150\n",
      "24000/24000 [==============================] - 1s 61us/step - loss: 0.3312 - acc: 0.8653 - val_loss: 0.4498 - val_acc: 0.8333\n",
      "\n",
      "Epoch 00009: val_loss did not improve from 0.40779\n",
      "Epoch 10/150\n",
      "24000/24000 [==============================] - 1s 61us/step - loss: 0.3212 - acc: 0.8698 - val_loss: 0.4294 - val_acc: 0.8362\n",
      "\n",
      "Epoch 00010: val_loss did not improve from 0.40779\n",
      "Epoch 11/150\n",
      "24000/24000 [==============================] - 1s 62us/step - loss: 0.3153 - acc: 0.8732 - val_loss: 0.4903 - val_acc: 0.8185\n",
      "\n",
      "Epoch 00011: val_loss did not improve from 0.40779\n",
      "Epoch 12/150\n",
      "24000/24000 [==============================] - 2s 65us/step - loss: 0.3035 - acc: 0.8788 - val_loss: 0.4636 - val_acc: 0.8200\n",
      "\n",
      "Epoch 00012: val_loss did not improve from 0.40779\n",
      "Epoch 13/150\n",
      "24000/24000 [==============================] - 1s 62us/step - loss: 0.2982 - acc: 0.8808 - val_loss: 0.4696 - val_acc: 0.8317\n",
      "\n",
      "Epoch 00013: val_loss did not improve from 0.40779\n",
      "Epoch 14/150\n",
      "24000/24000 [==============================] - 2s 63us/step - loss: 0.2434 - acc: 0.8980 - val_loss: 0.5909 - val_acc: 0.8315\n",
      "\n",
      "Epoch 00014: val_loss did not improve from 0.40779\n",
      "Epoch 15/150\n",
      "24000/24000 [==============================] - 1s 62us/step - loss: 0.2258 - acc: 0.9050 - val_loss: 0.7173 - val_acc: 0.8250\n",
      "\n",
      "Epoch 00015: val_loss did not improve from 0.40779\n",
      "Epoch 16/150\n",
      "24000/24000 [==============================] - 2s 64us/step - loss: 0.2139 - acc: 0.9091 - val_loss: 0.8532 - val_acc: 0.8298\n",
      "\n",
      "Epoch 00016: val_loss did not improve from 0.40779\n",
      "Epoch 17/150\n",
      "24000/24000 [==============================] - 2s 64us/step - loss: 0.2062 - acc: 0.9130 - val_loss: 0.9114 - val_acc: 0.8278\n",
      "\n",
      "Epoch 00017: val_loss did not improve from 0.40779\n",
      "Epoch 18/150\n",
      "24000/24000 [==============================] - 1s 62us/step - loss: 0.2023 - acc: 0.9157 - val_loss: 0.9669 - val_acc: 0.8212\n",
      "\n",
      "Epoch 00018: val_loss did not improve from 0.40779\n",
      "Epoch 19/150\n",
      "24000/24000 [==============================] - 1s 62us/step - loss: 0.1944 - acc: 0.9191 - val_loss: 1.0025 - val_acc: 0.8178\n",
      "\n",
      "Epoch 00019: val_loss did not improve from 0.40779\n",
      "Epoch 20/150\n",
      "24000/24000 [==============================] - 1s 62us/step - loss: 0.1904 - acc: 0.9217 - val_loss: 1.0157 - val_acc: 0.8103\n",
      "\n",
      "Epoch 00020: val_loss did not improve from 0.40779\n",
      "Epoch 21/150\n",
      "24000/24000 [==============================] - 2s 65us/step - loss: 0.1847 - acc: 0.9241 - val_loss: 1.1356 - val_acc: 0.8158\n",
      "\n",
      "Epoch 00021: val_loss did not improve from 0.40779\n",
      "Epoch 22/150\n",
      "24000/24000 [==============================] - 1s 62us/step - loss: 0.1820 - acc: 0.9265 - val_loss: 1.0646 - val_acc: 0.8087\n",
      "\n",
      "Epoch 00022: val_loss did not improve from 0.40779\n",
      "Epoch 23/150\n",
      "24000/24000 [==============================] - 1s 62us/step - loss: 0.1768 - acc: 0.9290 - val_loss: 1.1756 - val_acc: 0.8168\n",
      "\n",
      "Epoch 00023: val_loss did not improve from 0.40779\n"
     ]
    }
   ],
   "source": [
    "model_path = './빅콘테스트/model/version2/mlp_amount_clf.hdf5'\n",
    "\n",
    "mlp_amount_clf.compile(optimizer = 'rmsprop', loss = {'amount_output' : 'binary_crossentropy'},\n",
    "              metrics = {'amount_output' : 'acc'})\n",
    "\n",
    "callbacks_list = [EarlyStopping(monitor = 'val_loss', patience = 20),\n",
    "                 ReduceLROnPlateau(monitor = 'val_loss', factor = 0.1, patience = 10),\n",
    "                 ModelCheckpoint(filepath = model_path, monitor = 'val_loss', verbose = 1, save_best_only = True)]\n",
    "\n",
    "history = mlp_amount_clf.fit(X_train, y_train['amount'],\n",
    "                             epochs = 150, batch_size = 128, \n",
    "                             callbacks = callbacks_list,\n",
    "                             validation_split = 0.2,\n",
    "                             shuffle = True)"
   ]
  },
  {
   "cell_type": "markdown",
   "metadata": {},
   "source": [
    "# 3. 테스트"
   ]
  },
  {
   "cell_type": "markdown",
   "metadata": {},
   "source": [
    "## 잔존 여부"
   ]
  },
  {
   "cell_type": "code",
   "execution_count": 62,
   "metadata": {},
   "outputs": [],
   "source": [
    "X_test = pd.read_csv('X_test_ver2.csv')"
   ]
  },
  {
   "cell_type": "code",
   "execution_count": 63,
   "metadata": {},
   "outputs": [],
   "source": [
    "# X_test = minMaxScaler.transform(X_test.iloc[:, 1:])\n",
    "X_test = X_test.iloc[:, 1:]"
   ]
  },
  {
   "cell_type": "markdown",
   "metadata": {},
   "source": [
    "### AdaBoost"
   ]
  },
  {
   "cell_type": "code",
   "execution_count": 64,
   "metadata": {},
   "outputs": [
    {
     "data": {
      "text/plain": [
       "array([0, 0, 0, ..., 1, 0, 0])"
      ]
     },
     "execution_count": 64,
     "metadata": {},
     "output_type": "execute_result"
    }
   ],
   "source": [
    "y_pred_ada = ada_leave_clf.predict(X_test)\n",
    "y_pred_ada"
   ]
  },
  {
   "cell_type": "code",
   "execution_count": 65,
   "metadata": {},
   "outputs": [
    {
     "name": "stdout",
     "output_type": "stream",
     "text": [
      "acc : 0.7543\n",
      "recall : 0.6758498111530771\n"
     ]
    },
    {
     "data": {
      "text/plain": [
       "array([[4501,  998],\n",
       "       [1459, 3042]])"
      ]
     },
     "execution_count": 65,
     "metadata": {},
     "output_type": "execute_result"
    }
   ],
   "source": [
    "from sklearn.metrics import accuracy_score, recall_score, confusion_matrix\n",
    "\n",
    "print('acc :', accuracy_score(y_test['leave'], y_pred_ada))\n",
    "print('recall :', recall_score(y_test['leave'], y_pred_ada))\n",
    "confusion_matrix(y_test['leave'], y_pred_ada)"
   ]
  },
  {
   "cell_type": "markdown",
   "metadata": {},
   "source": [
    "### GradintBoost"
   ]
  },
  {
   "cell_type": "code",
   "execution_count": 66,
   "metadata": {},
   "outputs": [
    {
     "data": {
      "text/plain": [
       "array([0, 0, 0, ..., 0, 0, 0])"
      ]
     },
     "execution_count": 66,
     "metadata": {},
     "output_type": "execute_result"
    }
   ],
   "source": [
    "y_pred_gb = gb_leave_clf.predict(X_test)\n",
    "y_pred_gb"
   ]
  },
  {
   "cell_type": "code",
   "execution_count": 67,
   "metadata": {},
   "outputs": [
    {
     "name": "stdout",
     "output_type": "stream",
     "text": [
      "acc : 0.7575\n",
      "recall : 0.6949566762941568\n"
     ]
    },
    {
     "data": {
      "text/plain": [
       "array([[4447, 1052],\n",
       "       [1373, 3128]])"
      ]
     },
     "execution_count": 67,
     "metadata": {},
     "output_type": "execute_result"
    }
   ],
   "source": [
    "print('acc :', accuracy_score(y_test['leave'], y_pred_gb))\n",
    "print('recall :', recall_score(y_test['leave'], y_pred_gb))\n",
    "confusion_matrix(y_test['leave'], y_pred_gb)"
   ]
  },
  {
   "cell_type": "markdown",
   "metadata": {},
   "source": [
    "### RandomForest"
   ]
  },
  {
   "cell_type": "code",
   "execution_count": 68,
   "metadata": {},
   "outputs": [
    {
     "data": {
      "text/plain": [
       "array([0, 0, 0, ..., 0, 0, 0])"
      ]
     },
     "execution_count": 68,
     "metadata": {},
     "output_type": "execute_result"
    }
   ],
   "source": [
    "y_pred_rf = rf_leave_clf.predict(X_test)\n",
    "y_pred_rf"
   ]
  },
  {
   "cell_type": "code",
   "execution_count": 69,
   "metadata": {},
   "outputs": [
    {
     "name": "stdout",
     "output_type": "stream",
     "text": [
      "acc : 0.7681\n",
      "recall : 0.70228838035992\n"
     ]
    },
    {
     "data": {
      "text/plain": [
       "array([[4520,  979],\n",
       "       [1340, 3161]])"
      ]
     },
     "execution_count": 69,
     "metadata": {},
     "output_type": "execute_result"
    }
   ],
   "source": [
    "print('acc :', accuracy_score(y_test['leave'], y_pred_rf))\n",
    "print('recall :', recall_score(y_test['leave'], y_pred_rf))\n",
    "confusion_matrix(y_test['leave'], y_pred_rf)"
   ]
  },
  {
   "cell_type": "markdown",
   "metadata": {},
   "source": [
    "### XGBoost"
   ]
  },
  {
   "cell_type": "code",
   "execution_count": 70,
   "metadata": {},
   "outputs": [
    {
     "data": {
      "text/plain": [
       "array([0, 0, 0, ..., 0, 0, 0])"
      ]
     },
     "execution_count": 70,
     "metadata": {},
     "output_type": "execute_result"
    }
   ],
   "source": [
    "y_pred_xgb = xgb_leave_clf.predict(X_test)\n",
    "y_pred_xgb"
   ]
  },
  {
   "cell_type": "code",
   "execution_count": 71,
   "metadata": {},
   "outputs": [
    {
     "name": "stdout",
     "output_type": "stream",
     "text": [
      "acc : 0.7589\n",
      "recall : 0.704287936014219\n"
     ]
    },
    {
     "data": {
      "text/plain": [
       "array([[4419, 1080],\n",
       "       [1331, 3170]])"
      ]
     },
     "execution_count": 71,
     "metadata": {},
     "output_type": "execute_result"
    }
   ],
   "source": [
    "print('acc :', accuracy_score(y_test['leave'], y_pred_xgb))\n",
    "print('recall :', recall_score(y_test['leave'], y_pred_xgb))\n",
    "confusion_matrix(y_test['leave'], y_pred_xgb)"
   ]
  },
  {
   "cell_type": "markdown",
   "metadata": {},
   "source": [
    "### Ensemble"
   ]
  },
  {
   "cell_type": "code",
   "execution_count": 72,
   "metadata": {},
   "outputs": [
    {
     "data": {
      "text/plain": [
       "array([0, 0, 0, ..., 0, 0, 0])"
      ]
     },
     "execution_count": 72,
     "metadata": {},
     "output_type": "execute_result"
    }
   ],
   "source": [
    "y_pred_ensemble_1 = voting_leave_clf_1.predict(X_test)\n",
    "y_pred_ensemble_1"
   ]
  },
  {
   "cell_type": "code",
   "execution_count": 73,
   "metadata": {},
   "outputs": [
    {
     "name": "stdout",
     "output_type": "stream",
     "text": [
      "acc : 0.7673\n",
      "recall : 0.7002888247056209\n"
     ]
    },
    {
     "data": {
      "text/plain": [
       "array([[4521,  978],\n",
       "       [1349, 3152]])"
      ]
     },
     "execution_count": 73,
     "metadata": {},
     "output_type": "execute_result"
    }
   ],
   "source": [
    "print('acc :', accuracy_score(y_test['leave'], y_pred_ensemble_1))\n",
    "print('recall :', recall_score(y_test['leave'], y_pred_ensemble_1))\n",
    "confusion_matrix(y_test['leave'], y_pred_ensemble_1)"
   ]
  },
  {
   "cell_type": "code",
   "execution_count": 74,
   "metadata": {},
   "outputs": [
    {
     "data": {
      "text/plain": [
       "array([0, 0, 0, ..., 0, 0, 0])"
      ]
     },
     "execution_count": 74,
     "metadata": {},
     "output_type": "execute_result"
    }
   ],
   "source": [
    "y_pred_ensemble_2 = voting_leave_clf_2.predict(X_test)\n",
    "y_pred_ensemble_2"
   ]
  },
  {
   "cell_type": "code",
   "execution_count": 75,
   "metadata": {},
   "outputs": [
    {
     "name": "stdout",
     "output_type": "stream",
     "text": [
      "acc : 0.7671\n",
      "recall : 0.7040657631637414\n"
     ]
    },
    {
     "data": {
      "text/plain": [
       "array([[4502,  997],\n",
       "       [1332, 3169]])"
      ]
     },
     "execution_count": 75,
     "metadata": {},
     "output_type": "execute_result"
    }
   ],
   "source": [
    "print('acc :', accuracy_score(y_test['leave'], y_pred_ensemble_2))\n",
    "print('recall :', recall_score(y_test['leave'], y_pred_ensemble_2))\n",
    "confusion_matrix(y_test['leave'], y_pred_ensemble_2)"
   ]
  },
  {
   "cell_type": "markdown",
   "metadata": {},
   "source": [
    "### MLP(Multi Layer Perceptron)"
   ]
  },
  {
   "cell_type": "code",
   "execution_count": 76,
   "metadata": {},
   "outputs": [],
   "source": [
    "y_pred_mlp = mlp_leave_clf.predict(X_test)\n",
    "y_pred_mlp = np.where(y_pred_mlp >= 0.5, 1, 0)"
   ]
  },
  {
   "cell_type": "code",
   "execution_count": 77,
   "metadata": {},
   "outputs": [
    {
     "name": "stdout",
     "output_type": "stream",
     "text": [
      "acc : 0.7074\n",
      "recall : 0.6551877360586537\n"
     ]
    },
    {
     "data": {
      "text/plain": [
       "array([[4125, 1374],\n",
       "       [1552, 2949]])"
      ]
     },
     "execution_count": 77,
     "metadata": {},
     "output_type": "execute_result"
    }
   ],
   "source": [
    "print('acc :', accuracy_score(y_test['leave'], y_pred_mlp))\n",
    "print('recall :', recall_score(y_test['leave'], y_pred_mlp))\n",
    "confusion_matrix(y_test['leave'], y_pred_mlp)"
   ]
  },
  {
   "cell_type": "markdown",
   "metadata": {},
   "source": [
    "## 결제 여부"
   ]
  },
  {
   "cell_type": "markdown",
   "metadata": {},
   "source": [
    "### AdaBoost"
   ]
  },
  {
   "cell_type": "code",
   "execution_count": 78,
   "metadata": {},
   "outputs": [
    {
     "data": {
      "text/plain": [
       "array([1, 1, 1, ..., 1, 0, 1])"
      ]
     },
     "execution_count": 78,
     "metadata": {},
     "output_type": "execute_result"
    }
   ],
   "source": [
    "y_pred_ada = ada_amount_clf.predict(X_test)\n",
    "y_pred_ada"
   ]
  },
  {
   "cell_type": "code",
   "execution_count": 79,
   "metadata": {},
   "outputs": [
    {
     "name": "stdout",
     "output_type": "stream",
     "text": [
      "acc : 0.851\n",
      "recall : 0.9043358568479009\n"
     ]
    },
    {
     "data": {
      "text/plain": [
       "array([[3254,  934],\n",
       "       [ 556, 5256]])"
      ]
     },
     "execution_count": 79,
     "metadata": {},
     "output_type": "execute_result"
    }
   ],
   "source": [
    "print('acc :', accuracy_score(y_test['amount'], y_pred_ada))\n",
    "print('recall :', recall_score(y_test['amount'], y_pred_ada))\n",
    "confusion_matrix(y_test['amount'], y_pred_ada)"
   ]
  },
  {
   "cell_type": "markdown",
   "metadata": {},
   "source": [
    "### GradientBoost"
   ]
  },
  {
   "cell_type": "code",
   "execution_count": 80,
   "metadata": {},
   "outputs": [
    {
     "data": {
      "text/plain": [
       "array([1, 1, 1, ..., 1, 0, 1])"
      ]
     },
     "execution_count": 80,
     "metadata": {},
     "output_type": "execute_result"
    }
   ],
   "source": [
    "y_pred_gb = gb_amount_clf.predict(X_test)\n",
    "y_pred_gb"
   ]
  },
  {
   "cell_type": "code",
   "execution_count": 81,
   "metadata": {},
   "outputs": [
    {
     "name": "stdout",
     "output_type": "stream",
     "text": [
      "acc : 0.8559\n",
      "recall : 0.9077770130763937\n"
     ]
    },
    {
     "data": {
      "text/plain": [
       "array([[3283,  905],\n",
       "       [ 536, 5276]])"
      ]
     },
     "execution_count": 81,
     "metadata": {},
     "output_type": "execute_result"
    }
   ],
   "source": [
    "print('acc :', accuracy_score(y_test['amount'], y_pred_gb))\n",
    "print('recall :', recall_score(y_test['amount'], y_pred_gb))\n",
    "confusion_matrix(y_test['amount'], y_pred_gb)"
   ]
  },
  {
   "cell_type": "markdown",
   "metadata": {},
   "source": [
    "### RandomForest"
   ]
  },
  {
   "cell_type": "code",
   "execution_count": 82,
   "metadata": {},
   "outputs": [
    {
     "data": {
      "text/plain": [
       "array([1, 1, 1, ..., 1, 0, 1])"
      ]
     },
     "execution_count": 82,
     "metadata": {},
     "output_type": "execute_result"
    }
   ],
   "source": [
    "y_pred_rf = rf_amount_clf.predict(X_test)\n",
    "y_pred_rf"
   ]
  },
  {
   "cell_type": "code",
   "execution_count": 83,
   "metadata": {},
   "outputs": [
    {
     "name": "stdout",
     "output_type": "stream",
     "text": [
      "acc : 0.8586\n",
      "recall : 0.9230901582931865\n"
     ]
    },
    {
     "data": {
      "text/plain": [
       "array([[3221,  967],\n",
       "       [ 447, 5365]])"
      ]
     },
     "execution_count": 83,
     "metadata": {},
     "output_type": "execute_result"
    }
   ],
   "source": [
    "print('acc :', accuracy_score(y_test['amount'], y_pred_rf))\n",
    "print('recall :', recall_score(y_test['amount'], y_pred_rf))\n",
    "confusion_matrix(y_test['amount'], y_pred_rf)"
   ]
  },
  {
   "cell_type": "markdown",
   "metadata": {},
   "source": [
    "### XGBoost"
   ]
  },
  {
   "cell_type": "code",
   "execution_count": 84,
   "metadata": {},
   "outputs": [
    {
     "data": {
      "text/plain": [
       "array([1, 1, 1, ..., 1, 0, 1])"
      ]
     },
     "execution_count": 84,
     "metadata": {},
     "output_type": "execute_result"
    }
   ],
   "source": [
    "y_pred_xgb = xgb_amount_clf.predict(X_test)\n",
    "y_pred_xgb"
   ]
  },
  {
   "cell_type": "code",
   "execution_count": 85,
   "metadata": {},
   "outputs": [
    {
     "name": "stdout",
     "output_type": "stream",
     "text": [
      "acc : 0.8568\n",
      "recall : 0.9070887818306951\n"
     ]
    },
    {
     "data": {
      "text/plain": [
       "array([[3296,  892],\n",
       "       [ 540, 5272]])"
      ]
     },
     "execution_count": 85,
     "metadata": {},
     "output_type": "execute_result"
    }
   ],
   "source": [
    "print('acc :', accuracy_score(y_test['amount'], y_pred_xgb))\n",
    "print('recall :', recall_score(y_test['amount'], y_pred_xgb))\n",
    "confusion_matrix(y_test['amount'], y_pred_xgb)"
   ]
  },
  {
   "cell_type": "markdown",
   "metadata": {},
   "source": [
    "### Ensemble"
   ]
  },
  {
   "cell_type": "code",
   "execution_count": 86,
   "metadata": {},
   "outputs": [
    {
     "data": {
      "text/plain": [
       "array([1, 1, 1, ..., 1, 0, 1])"
      ]
     },
     "execution_count": 86,
     "metadata": {},
     "output_type": "execute_result"
    }
   ],
   "source": [
    "y_pred_ensemble_1 = voting_amount_clf_1.predict(X_test)\n",
    "y_pred_ensemble_1"
   ]
  },
  {
   "cell_type": "code",
   "execution_count": 87,
   "metadata": {},
   "outputs": [
    {
     "name": "stdout",
     "output_type": "stream",
     "text": [
      "acc : 0.8572\n",
      "recall : 0.9124225739848589\n"
     ]
    },
    {
     "data": {
      "text/plain": [
       "array([[3269,  919],\n",
       "       [ 509, 5303]])"
      ]
     },
     "execution_count": 87,
     "metadata": {},
     "output_type": "execute_result"
    }
   ],
   "source": [
    "print('acc :', accuracy_score(y_test['amount'], y_pred_ensemble_1))\n",
    "print('recall :', recall_score(y_test['amount'], y_pred_ensemble_1))\n",
    "confusion_matrix(y_test['amount'], y_pred_ensemble_1)"
   ]
  },
  {
   "cell_type": "code",
   "execution_count": 88,
   "metadata": {},
   "outputs": [
    {
     "data": {
      "text/plain": [
       "array([1, 1, 1, ..., 1, 0, 1])"
      ]
     },
     "execution_count": 88,
     "metadata": {},
     "output_type": "execute_result"
    }
   ],
   "source": [
    "y_pred_ensemble_2 = voting_amount_clf_2.predict(X_test)\n",
    "y_pred_ensemble_2"
   ]
  },
  {
   "cell_type": "code",
   "execution_count": 89,
   "metadata": {},
   "outputs": [
    {
     "name": "stdout",
     "output_type": "stream",
     "text": [
      "acc : 0.858\n",
      "recall : 0.9151754989676532\n"
     ]
    },
    {
     "data": {
      "text/plain": [
       "array([[3261,  927],\n",
       "       [ 493, 5319]])"
      ]
     },
     "execution_count": 89,
     "metadata": {},
     "output_type": "execute_result"
    }
   ],
   "source": [
    "print('acc :', accuracy_score(y_test['amount'], y_pred_ensemble_2))\n",
    "print('recall :', recall_score(y_test['amount'], y_pred_ensemble_2))\n",
    "confusion_matrix(y_test['amount'], y_pred_ensemble_2)"
   ]
  },
  {
   "cell_type": "markdown",
   "metadata": {},
   "source": [
    "### MLP(Multi Layer Perceptron)"
   ]
  },
  {
   "cell_type": "code",
   "execution_count": 90,
   "metadata": {},
   "outputs": [],
   "source": [
    "y_pred_mlp = mlp_amount_clf.predict(X_test)\n",
    "y_pred_mlp = np.where(y_pred_mlp >= 0.5, 1, 0)"
   ]
  },
  {
   "cell_type": "code",
   "execution_count": 91,
   "metadata": {},
   "outputs": [
    {
     "name": "stdout",
     "output_type": "stream",
     "text": [
      "acc : 0.823\n",
      "recall : 0.85719201651755\n"
     ]
    },
    {
     "data": {
      "text/plain": [
       "array([[3248,  940],\n",
       "       [ 830, 4982]])"
      ]
     },
     "execution_count": 91,
     "metadata": {},
     "output_type": "execute_result"
    }
   ],
   "source": [
    "print('acc :', accuracy_score(y_test['amount'], y_pred_mlp))\n",
    "print('recall :', recall_score(y_test['amount'], y_pred_mlp))\n",
    "confusion_matrix(y_test['amount'], y_pred_mlp)"
   ]
  },
  {
   "cell_type": "markdown",
   "metadata": {},
   "source": [
    "# non class"
   ]
  },
  {
   "cell_type": "code",
   "execution_count": 92,
   "metadata": {},
   "outputs": [],
   "source": [
    "X_train_non_class = pd.read_csv('X_train_ver2_non_class.csv')"
   ]
  },
  {
   "cell_type": "markdown",
   "metadata": {},
   "source": [
    "## 생존 여부"
   ]
  },
  {
   "cell_type": "markdown",
   "metadata": {},
   "source": [
    "### RandomForest"
   ]
  },
  {
   "cell_type": "code",
   "execution_count": 94,
   "metadata": {},
   "outputs": [
    {
     "name": "stdout",
     "output_type": "stream",
     "text": [
      "Fitting 5 folds for each of 12 candidates, totalling 60 fits\n"
     ]
    },
    {
     "name": "stderr",
     "output_type": "stream",
     "text": [
      "[Parallel(n_jobs=-1)]: Using backend LokyBackend with 32 concurrent workers.\n",
      "[Parallel(n_jobs=-1)]: Done  28 out of  60 | elapsed:  1.8min remaining:  2.1min\n",
      "[Parallel(n_jobs=-1)]: Done  60 out of  60 | elapsed:  3.2min finished\n"
     ]
    },
    {
     "data": {
      "text/plain": [
       "GridSearchCV(cv=5, error_score='raise-deprecating',\n",
       "             estimator=RandomForestClassifier(bootstrap=True, class_weight=None,\n",
       "                                              criterion='gini', max_depth=None,\n",
       "                                              max_features='auto',\n",
       "                                              max_leaf_nodes=None,\n",
       "                                              min_impurity_decrease=0.0,\n",
       "                                              min_impurity_split=None,\n",
       "                                              min_samples_leaf=1,\n",
       "                                              min_samples_split=2,\n",
       "                                              min_weight_fraction_leaf=0.0,\n",
       "                                              n_estimators='warn', n_jobs=None,\n",
       "                                              oob_score=False, random_state=42,\n",
       "                                              verbose=0, warm_start=False),\n",
       "             iid='warn', n_jobs=-1,\n",
       "             param_grid=[{'max_features': [12, 13, 14, 15],\n",
       "                          'n_estimators': [300, 500, 750]}],\n",
       "             pre_dispatch='2*n_jobs', refit=True, return_train_score=False,\n",
       "             scoring='accuracy', verbose=2)"
      ]
     },
     "execution_count": 94,
     "metadata": {},
     "output_type": "execute_result"
    }
   ],
   "source": [
    "from sklearn.model_selection import GridSearchCV\n",
    "from sklearn.ensemble import RandomForestClassifier\n",
    "\n",
    "rf = RandomForestClassifier(random_state=42)\n",
    "\n",
    "param_grid = [\n",
    "    {'n_estimators' : [300, 500, 750], 'max_features' : [12, 13, 14, 15]}\n",
    "  ]\n",
    "\n",
    "grid_search = GridSearchCV(rf, param_grid, cv = 5,\n",
    "                           scoring = 'accuracy', verbose = 2, n_jobs = -1)\n",
    "\n",
    "grid_search.fit(X_train_non_class.iloc[:, 1:], y_train['leave'])"
   ]
  },
  {
   "cell_type": "code",
   "execution_count": 95,
   "metadata": {},
   "outputs": [
    {
     "name": "stdout",
     "output_type": "stream",
     "text": [
      "0.7624\n",
      "{'max_features': 15, 'n_estimators': 750}\n"
     ]
    }
   ],
   "source": [
    "print(grid_search.best_score_)\n",
    "print(grid_search.best_params_)"
   ]
  },
  {
   "cell_type": "code",
   "execution_count": 96,
   "metadata": {},
   "outputs": [
    {
     "data": {
      "text/plain": [
       "['./빅콘테스트/model/version2/rf_leave_non_class_clf_version2.pkl']"
      ]
     },
     "execution_count": 96,
     "metadata": {},
     "output_type": "execute_result"
    }
   ],
   "source": [
    "from sklearn.externals import joblib\n",
    "\n",
    "# rf_leave_non_class_clf = RandomForestClassifier(random_state = 42, max_features = 19, n_estimators = 750)\n",
    "# rf_leave_non_class_clf.fit(X_train_non_class.iloc[:, 1:], y_train['leave'])\n",
    "rf_leave_non_class_clf = grid_search.best_estimator_\n",
    "joblib.dump(rf_leave_non_class_clf, './빅콘테스트/model/version2/rf_leave_non_class_clf_version2.pkl')"
   ]
  },
  {
   "cell_type": "markdown",
   "metadata": {},
   "source": [
    "### XGBoost"
   ]
  },
  {
   "cell_type": "code",
   "execution_count": 97,
   "metadata": {},
   "outputs": [
    {
     "name": "stdout",
     "output_type": "stream",
     "text": [
      "Fitting 5 folds for each of 36 candidates, totalling 180 fits\n"
     ]
    },
    {
     "name": "stderr",
     "output_type": "stream",
     "text": [
      "[Parallel(n_jobs=-1)]: Using backend LokyBackend with 32 concurrent workers.\n",
      "[Parallel(n_jobs=-1)]: Done  98 tasks      | elapsed:  2.5min\n",
      "[Parallel(n_jobs=-1)]: Done 180 out of 180 | elapsed:  4.0min finished\n"
     ]
    },
    {
     "data": {
      "text/plain": [
       "GridSearchCV(cv=5, error_score='raise-deprecating',\n",
       "             estimator=XGBClassifier(base_score=0.5, booster='gbtree',\n",
       "                                     colsample_bylevel=1, colsample_bytree=1,\n",
       "                                     gamma=0, learning_rate=0.1,\n",
       "                                     max_delta_step=0, max_depth=3,\n",
       "                                     min_child_weight=1, missing=None,\n",
       "                                     n_estimators=100, n_jobs=1, nthread=None,\n",
       "                                     objective='binary:logistic',\n",
       "                                     random_state=42, reg_alpha=0, reg_lambda=1,\n",
       "                                     scale_pos_weight=1, seed=None, silent=True,\n",
       "                                     subsample=1),\n",
       "             iid='warn', n_jobs=-1,\n",
       "             param_grid=[{'gamma': [0, 1, 3],\n",
       "                          'learning_rate': [0.001, 0.01, 0.1],\n",
       "                          'max_depth': [9, 10, 11, 12]}],\n",
       "             pre_dispatch='2*n_jobs', refit=True, return_train_score=False,\n",
       "             scoring='accuracy', verbose=2)"
      ]
     },
     "execution_count": 97,
     "metadata": {},
     "output_type": "execute_result"
    }
   ],
   "source": [
    "from xgboost import XGBClassifier\n",
    "\n",
    "xgb = XGBClassifier(random_state=42)\n",
    "\n",
    "param_grid = [\n",
    "    {'learning_rate' : [0.001, 0.01, 0.1], 'max_depth' : [9, 10, 11, 12], 'gamma' : [0, 1, 3]}\n",
    "  ]\n",
    "\n",
    "grid_search = GridSearchCV(xgb, param_grid, cv = 5,\n",
    "                           scoring = 'accuracy', verbose = 2, n_jobs = -1)\n",
    "\n",
    "grid_search.fit(X_train_non_class.iloc[:, 1:], y_train['leave'])"
   ]
  },
  {
   "cell_type": "code",
   "execution_count": 98,
   "metadata": {},
   "outputs": [
    {
     "name": "stdout",
     "output_type": "stream",
     "text": [
      "0.7558666666666667\n",
      "{'gamma': 0, 'learning_rate': 0.1, 'max_depth': 12}\n"
     ]
    }
   ],
   "source": [
    "print(grid_search.best_score_)\n",
    "print(grid_search.best_params_)"
   ]
  },
  {
   "cell_type": "code",
   "execution_count": 99,
   "metadata": {},
   "outputs": [
    {
     "data": {
      "text/plain": [
       "['./빅콘테스트/model/version2/xgb_leave_non_class_clf_version2.pkl']"
      ]
     },
     "execution_count": 99,
     "metadata": {},
     "output_type": "execute_result"
    }
   ],
   "source": [
    "from sklearn.externals import joblib\n",
    "\n",
    "# xgb_leave_non_class_clf = XGBClassifier(random_state = 42, eta = 0.1, gamma = 1, max_depth = 11)\n",
    "# xgb_leave_non_class_clf.fit(X_train_non_class.iloc[:, 1:], y_train['leave'])\n",
    "xgb_leave_non_class_clf = grid_search.best_estimator_\n",
    "joblib.dump(xgb_leave_non_class_clf, './빅콘테스트/model/version2/xgb_leave_non_class_clf_version2.pkl')"
   ]
  },
  {
   "cell_type": "markdown",
   "metadata": {},
   "source": [
    "### Ensemble"
   ]
  },
  {
   "cell_type": "code",
   "execution_count": 100,
   "metadata": {},
   "outputs": [
    {
     "data": {
      "text/plain": [
       "0.7612336169018598"
      ]
     },
     "execution_count": 100,
     "metadata": {},
     "output_type": "execute_result"
    }
   ],
   "source": [
    "from sklearn.ensemble import VotingClassifier\n",
    "from sklearn.model_selection import cross_val_score\n",
    "\n",
    "voting_leave_non_class_clf_2 = VotingClassifier(\n",
    "    estimators=[('rf', rf_leave_non_class_clf), ('xgb', xgb_leave_non_class_clf)],\n",
    "    voting='soft', n_jobs = -1)\n",
    "\n",
    "cv_value = cross_val_score(voting_leave_non_class_clf_2, X_train_non_class.iloc[:, 1:],\n",
    "                           y_train['leave'], cv = 5,\n",
    "                           scoring = \"accuracy\")\n",
    "np.mean(cv_value)"
   ]
  },
  {
   "cell_type": "code",
   "execution_count": 101,
   "metadata": {},
   "outputs": [
    {
     "data": {
      "text/plain": [
       "['./빅콘테스트/model/version2/voting_leave_non_class_clf_2_version2.pkl']"
      ]
     },
     "execution_count": 101,
     "metadata": {},
     "output_type": "execute_result"
    }
   ],
   "source": [
    "voting_leave_non_class_clf_2.fit(X_train_non_class.iloc[:, 1:], y_train['leave'])\n",
    "joblib.dump(voting_leave_non_class_clf_2, './빅콘테스트/model/version2/voting_leave_non_class_clf_2_version2.pkl')"
   ]
  },
  {
   "cell_type": "markdown",
   "metadata": {},
   "source": [
    "## 결제 여부"
   ]
  },
  {
   "cell_type": "markdown",
   "metadata": {},
   "source": [
    "### RandomForest"
   ]
  },
  {
   "cell_type": "code",
   "execution_count": 102,
   "metadata": {},
   "outputs": [
    {
     "name": "stdout",
     "output_type": "stream",
     "text": [
      "Fitting 5 folds for each of 12 candidates, totalling 60 fits\n"
     ]
    },
    {
     "name": "stderr",
     "output_type": "stream",
     "text": [
      "[Parallel(n_jobs=-1)]: Using backend LokyBackend with 32 concurrent workers.\n",
      "[Parallel(n_jobs=-1)]: Done  28 out of  60 | elapsed:  1.7min remaining:  1.9min\n",
      "[Parallel(n_jobs=-1)]: Done  60 out of  60 | elapsed:  3.1min finished\n"
     ]
    },
    {
     "data": {
      "text/plain": [
       "GridSearchCV(cv=5, error_score='raise-deprecating',\n",
       "             estimator=RandomForestClassifier(bootstrap=True, class_weight=None,\n",
       "                                              criterion='gini', max_depth=None,\n",
       "                                              max_features='auto',\n",
       "                                              max_leaf_nodes=None,\n",
       "                                              min_impurity_decrease=0.0,\n",
       "                                              min_impurity_split=None,\n",
       "                                              min_samples_leaf=1,\n",
       "                                              min_samples_split=2,\n",
       "                                              min_weight_fraction_leaf=0.0,\n",
       "                                              n_estimators='warn', n_jobs=None,\n",
       "                                              oob_score=False, random_state=42,\n",
       "                                              verbose=0, warm_start=False),\n",
       "             iid='warn', n_jobs=-1,\n",
       "             param_grid=[{'max_features': [12, 13, 14, 15],\n",
       "                          'n_estimators': [300, 500, 750]}],\n",
       "             pre_dispatch='2*n_jobs', refit=True, return_train_score=False,\n",
       "             scoring='accuracy', verbose=2)"
      ]
     },
     "execution_count": 102,
     "metadata": {},
     "output_type": "execute_result"
    }
   ],
   "source": [
    "from sklearn.model_selection import GridSearchCV\n",
    "from sklearn.ensemble import RandomForestClassifier\n",
    "\n",
    "rf = RandomForestClassifier(random_state=42)\n",
    "\n",
    "param_grid = [\n",
    "    {'n_estimators' : [300, 500, 750], 'max_features' : [12, 13, 14, 15]}\n",
    "  ]\n",
    "\n",
    "grid_search = GridSearchCV(rf, param_grid, cv = 5,\n",
    "                           scoring = 'accuracy', verbose = 2, n_jobs = -1)\n",
    "\n",
    "grid_search.fit(X_train_non_class.iloc[:, 1:], y_train['amount'])"
   ]
  },
  {
   "cell_type": "code",
   "execution_count": 103,
   "metadata": {},
   "outputs": [
    {
     "name": "stdout",
     "output_type": "stream",
     "text": [
      "0.8585333333333334\n",
      "{'max_features': 13, 'n_estimators': 500}\n"
     ]
    }
   ],
   "source": [
    "print(grid_search.best_score_)\n",
    "print(grid_search.best_params_)"
   ]
  },
  {
   "cell_type": "code",
   "execution_count": 104,
   "metadata": {},
   "outputs": [
    {
     "data": {
      "text/plain": [
       "['./빅콘테스트/model/version2/rf_amount_non_class_clf_version2.pkl']"
      ]
     },
     "execution_count": 104,
     "metadata": {},
     "output_type": "execute_result"
    }
   ],
   "source": [
    "from sklearn.externals import joblib\n",
    "\n",
    "# rf_amount_non_class_clf = RandomForestClassifier(random_state = 42, max_features = 19, n_estimators = 750)\n",
    "# rf_amount_non_class_clf.fit(X_train_non_class.iloc[:, 1:], y_train['amount'])\n",
    "rf_amount_non_class_clf = grid_search.best_estimator_\n",
    "joblib.dump(rf_amount_non_class_clf, './빅콘테스트/model/version2/rf_amount_non_class_clf_version2.pkl')"
   ]
  },
  {
   "cell_type": "markdown",
   "metadata": {},
   "source": [
    "### XGBoost"
   ]
  },
  {
   "cell_type": "code",
   "execution_count": 105,
   "metadata": {},
   "outputs": [
    {
     "name": "stdout",
     "output_type": "stream",
     "text": [
      "Fitting 5 folds for each of 36 candidates, totalling 180 fits\n"
     ]
    },
    {
     "name": "stderr",
     "output_type": "stream",
     "text": [
      "[Parallel(n_jobs=-1)]: Using backend LokyBackend with 32 concurrent workers.\n",
      "[Parallel(n_jobs=-1)]: Done  98 tasks      | elapsed:  2.4min\n",
      "[Parallel(n_jobs=-1)]: Done 180 out of 180 | elapsed:  4.0min finished\n"
     ]
    },
    {
     "data": {
      "text/plain": [
       "GridSearchCV(cv=5, error_score='raise-deprecating',\n",
       "             estimator=XGBClassifier(base_score=0.5, booster='gbtree',\n",
       "                                     colsample_bylevel=1, colsample_bytree=1,\n",
       "                                     gamma=0, learning_rate=0.1,\n",
       "                                     max_delta_step=0, max_depth=3,\n",
       "                                     min_child_weight=1, missing=None,\n",
       "                                     n_estimators=100, n_jobs=1, nthread=None,\n",
       "                                     objective='binary:logistic',\n",
       "                                     random_state=42, reg_alpha=0, reg_lambda=1,\n",
       "                                     scale_pos_weight=1, seed=None, silent=True,\n",
       "                                     subsample=1),\n",
       "             iid='warn', n_jobs=-1,\n",
       "             param_grid=[{'gamma': [0, 1, 3],\n",
       "                          'learning_rate': [0.001, 0.01, 0.1],\n",
       "                          'max_depth': [9, 10, 11, 12]}],\n",
       "             pre_dispatch='2*n_jobs', refit=True, return_train_score=False,\n",
       "             scoring='accuracy', verbose=2)"
      ]
     },
     "execution_count": 105,
     "metadata": {},
     "output_type": "execute_result"
    }
   ],
   "source": [
    "from xgboost import XGBClassifier\n",
    "\n",
    "xgb = XGBClassifier(random_state=42)\n",
    "\n",
    "param_grid = [\n",
    "    {'learning_rate' : [0.001, 0.01, 0.1], 'max_depth' : [9, 10, 11, 12], 'gamma' : [0, 1, 3]}\n",
    "  ]\n",
    "\n",
    "grid_search = GridSearchCV(xgb, param_grid, cv = 5,\n",
    "                           scoring = 'accuracy', verbose = 2, n_jobs = -1)\n",
    "\n",
    "grid_search.fit(X_train_non_class.iloc[:, 1:], y_train['amount'])"
   ]
  },
  {
   "cell_type": "code",
   "execution_count": 106,
   "metadata": {},
   "outputs": [
    {
     "name": "stdout",
     "output_type": "stream",
     "text": [
      "0.8573333333333333\n",
      "{'gamma': 0, 'learning_rate': 0.1, 'max_depth': 10}\n"
     ]
    }
   ],
   "source": [
    "print(grid_search.best_score_)\n",
    "print(grid_search.best_params_)"
   ]
  },
  {
   "cell_type": "code",
   "execution_count": 107,
   "metadata": {},
   "outputs": [
    {
     "data": {
      "text/plain": [
       "['./빅콘테스트/model/version2/xgb_amount_non_class_clf_version2.pkl']"
      ]
     },
     "execution_count": 107,
     "metadata": {},
     "output_type": "execute_result"
    }
   ],
   "source": [
    "from sklearn.externals import joblib\n",
    "\n",
    "# xgb_amount_non_class_clf = XGBClassifier(random_state = 42, eta = 0.1, gamma = 1, max_depth = 11)\n",
    "# xgb_amount_non_class_clf.fit(X_train_non_class.iloc[:, 1:], y_train['amount'])\n",
    "xgb_amount_non_class_clf = grid_search.best_estimator_\n",
    "joblib.dump(xgb_amount_non_class_clf, './빅콘테스트/model/version2/xgb_amount_non_class_clf_version2.pkl')"
   ]
  },
  {
   "cell_type": "markdown",
   "metadata": {},
   "source": [
    "### Ensemble"
   ]
  },
  {
   "cell_type": "code",
   "execution_count": 108,
   "metadata": {},
   "outputs": [
    {
     "data": {
      "text/plain": [
       "0.8593"
      ]
     },
     "execution_count": 108,
     "metadata": {},
     "output_type": "execute_result"
    }
   ],
   "source": [
    "from sklearn.ensemble import VotingClassifier\n",
    "from sklearn.model_selection import cross_val_score\n",
    "\n",
    "voting_amount_non_class_clf_2 = VotingClassifier(\n",
    "    estimators=[('rf', rf_amount_non_class_clf), ('xgb', xgb_amount_non_class_clf)],\n",
    "    voting='soft', n_jobs = -1)\n",
    "\n",
    "cv_value = cross_val_score(voting_amount_non_class_clf_2, X_train_non_class.iloc[:, 1:],\n",
    "                           y_train['amount'], cv = 5,\n",
    "                           scoring = \"accuracy\")\n",
    "np.mean(cv_value)"
   ]
  },
  {
   "cell_type": "code",
   "execution_count": 109,
   "metadata": {},
   "outputs": [
    {
     "data": {
      "text/plain": [
       "['./빅콘테스트/model/version2/voting_amount_non_class_clf_2_version2.pkl']"
      ]
     },
     "execution_count": 109,
     "metadata": {},
     "output_type": "execute_result"
    }
   ],
   "source": [
    "voting_amount_non_class_clf_2.fit(X_train_non_class.iloc[:, 1:], y_train['amount'])\n",
    "joblib.dump(voting_amount_non_class_clf_2, './빅콘테스트/model/version2/voting_amount_non_class_clf_2_version2.pkl')"
   ]
  },
  {
   "cell_type": "markdown",
   "metadata": {},
   "source": [
    "# 테스트"
   ]
  },
  {
   "cell_type": "code",
   "execution_count": 111,
   "metadata": {},
   "outputs": [],
   "source": [
    "X_test_non_class = pd.read_csv('X_test_ver2_non_class.csv')"
   ]
  },
  {
   "cell_type": "markdown",
   "metadata": {},
   "source": [
    "## 잔존 여부"
   ]
  },
  {
   "cell_type": "markdown",
   "metadata": {},
   "source": [
    "### RandomForest"
   ]
  },
  {
   "cell_type": "code",
   "execution_count": 112,
   "metadata": {},
   "outputs": [
    {
     "data": {
      "text/plain": [
       "array([0, 0, 0, ..., 0, 0, 0])"
      ]
     },
     "execution_count": 112,
     "metadata": {},
     "output_type": "execute_result"
    }
   ],
   "source": [
    "y_pred_rf = rf_leave_non_class_clf.predict(X_test_non_class.iloc[:, 1:])\n",
    "y_pred_rf"
   ]
  },
  {
   "cell_type": "code",
   "execution_count": 113,
   "metadata": {},
   "outputs": [
    {
     "name": "stdout",
     "output_type": "stream",
     "text": [
      "acc : 0.767\n",
      "recall : 0.6987336147522772\n"
     ]
    },
    {
     "data": {
      "text/plain": [
       "array([[4525,  974],\n",
       "       [1356, 3145]])"
      ]
     },
     "execution_count": 113,
     "metadata": {},
     "output_type": "execute_result"
    }
   ],
   "source": [
    "from sklearn.metrics import accuracy_score, recall_score, confusion_matrix\n",
    "\n",
    "print('acc :', accuracy_score(y_test['leave'], y_pred_rf))\n",
    "print('recall :', recall_score(y_test['leave'], y_pred_rf))\n",
    "confusion_matrix(y_test['leave'], y_pred_rf)"
   ]
  },
  {
   "cell_type": "markdown",
   "metadata": {},
   "source": [
    "### XGBoost"
   ]
  },
  {
   "cell_type": "code",
   "execution_count": 114,
   "metadata": {},
   "outputs": [
    {
     "data": {
      "text/plain": [
       "array([0, 0, 0, ..., 0, 0, 0])"
      ]
     },
     "execution_count": 114,
     "metadata": {},
     "output_type": "execute_result"
    }
   ],
   "source": [
    "y_pred_xgb = xgb_leave_non_class_clf.predict(X_test_non_class.iloc[:, 1:])\n",
    "y_pred_xgb"
   ]
  },
  {
   "cell_type": "code",
   "execution_count": 115,
   "metadata": {},
   "outputs": [
    {
     "name": "stdout",
     "output_type": "stream",
     "text": [
      "acc : 0.7616\n",
      "recall : 0.7047322817151744\n"
     ]
    },
    {
     "data": {
      "text/plain": [
       "array([[4444, 1055],\n",
       "       [1329, 3172]])"
      ]
     },
     "execution_count": 115,
     "metadata": {},
     "output_type": "execute_result"
    }
   ],
   "source": [
    "from sklearn.metrics import accuracy_score, recall_score, confusion_matrix\n",
    "\n",
    "print('acc :', accuracy_score(y_test['leave'], y_pred_xgb))\n",
    "print('recall :', recall_score(y_test['leave'], y_pred_xgb))\n",
    "confusion_matrix(y_test['leave'], y_pred_xgb)"
   ]
  },
  {
   "cell_type": "markdown",
   "metadata": {},
   "source": [
    "### Ensemble"
   ]
  },
  {
   "cell_type": "code",
   "execution_count": 116,
   "metadata": {},
   "outputs": [
    {
     "data": {
      "text/plain": [
       "array([0, 0, 0, ..., 0, 0, 0])"
      ]
     },
     "execution_count": 116,
     "metadata": {},
     "output_type": "execute_result"
    }
   ],
   "source": [
    "y_pred_ensemble_2 = voting_leave_non_class_clf_2.predict(X_test_non_class.iloc[:, 1:])\n",
    "y_pred_ensemble_2"
   ]
  },
  {
   "cell_type": "code",
   "execution_count": 117,
   "metadata": {},
   "outputs": [
    {
     "name": "stdout",
     "output_type": "stream",
     "text": [
      "acc : 0.7657\n",
      "recall : 0.7069540102199511\n"
     ]
    },
    {
     "data": {
      "text/plain": [
       "array([[4475, 1024],\n",
       "       [1319, 3182]])"
      ]
     },
     "execution_count": 117,
     "metadata": {},
     "output_type": "execute_result"
    }
   ],
   "source": [
    "from sklearn.metrics import accuracy_score, recall_score, confusion_matrix\n",
    "\n",
    "print('acc :', accuracy_score(y_test['leave'], y_pred_ensemble_2))\n",
    "print('recall :', recall_score(y_test['leave'], y_pred_ensemble_2))\n",
    "confusion_matrix(y_test['leave'], y_pred_ensemble_2)"
   ]
  },
  {
   "cell_type": "markdown",
   "metadata": {},
   "source": [
    "## 결제 여부"
   ]
  },
  {
   "cell_type": "markdown",
   "metadata": {},
   "source": [
    "### RandomForest"
   ]
  },
  {
   "cell_type": "code",
   "execution_count": 118,
   "metadata": {},
   "outputs": [
    {
     "data": {
      "text/plain": [
       "array([1, 1, 1, ..., 1, 0, 1])"
      ]
     },
     "execution_count": 118,
     "metadata": {},
     "output_type": "execute_result"
    }
   ],
   "source": [
    "y_pred_rf = rf_amount_non_class_clf.predict(X_test_non_class.iloc[:, 1:])\n",
    "y_pred_rf"
   ]
  },
  {
   "cell_type": "code",
   "execution_count": 119,
   "metadata": {},
   "outputs": [
    {
     "name": "stdout",
     "output_type": "stream",
     "text": [
      "acc : 0.8585\n",
      "recall : 0.9230901582931865\n"
     ]
    },
    {
     "data": {
      "text/plain": [
       "array([[3220,  968],\n",
       "       [ 447, 5365]])"
      ]
     },
     "execution_count": 119,
     "metadata": {},
     "output_type": "execute_result"
    }
   ],
   "source": [
    "from sklearn.metrics import accuracy_score, recall_score, confusion_matrix\n",
    "\n",
    "print('acc :', accuracy_score(y_test['amount'], y_pred_rf))\n",
    "print('recall :', recall_score(y_test['amount'], y_pred_rf))\n",
    "confusion_matrix(y_test['amount'], y_pred_rf)"
   ]
  },
  {
   "cell_type": "markdown",
   "metadata": {},
   "source": [
    "### XGBoost"
   ]
  },
  {
   "cell_type": "code",
   "execution_count": 120,
   "metadata": {},
   "outputs": [
    {
     "data": {
      "text/plain": [
       "array([1, 1, 1, ..., 1, 0, 1])"
      ]
     },
     "execution_count": 120,
     "metadata": {},
     "output_type": "execute_result"
    }
   ],
   "source": [
    "y_pred_xgb = xgb_amount_non_class_clf.predict(X_test_non_class.iloc[:, 1:])\n",
    "y_pred_xgb"
   ]
  },
  {
   "cell_type": "code",
   "execution_count": 121,
   "metadata": {},
   "outputs": [
    {
     "name": "stdout",
     "output_type": "stream",
     "text": [
      "acc : 0.8564\n",
      "recall : 0.9091534755677908\n"
     ]
    },
    {
     "data": {
      "text/plain": [
       "array([[3280,  908],\n",
       "       [ 528, 5284]])"
      ]
     },
     "execution_count": 121,
     "metadata": {},
     "output_type": "execute_result"
    }
   ],
   "source": [
    "from sklearn.metrics import accuracy_score, recall_score, confusion_matrix\n",
    "\n",
    "print('acc :', accuracy_score(y_test['amount'], y_pred_xgb))\n",
    "print('recall :', recall_score(y_test['amount'], y_pred_xgb))\n",
    "confusion_matrix(y_test['amount'], y_pred_xgb)"
   ]
  },
  {
   "cell_type": "markdown",
   "metadata": {},
   "source": [
    "### Ensemble"
   ]
  },
  {
   "cell_type": "code",
   "execution_count": 122,
   "metadata": {},
   "outputs": [
    {
     "data": {
      "text/plain": [
       "array([1, 1, 1, ..., 1, 0, 1])"
      ]
     },
     "execution_count": 122,
     "metadata": {},
     "output_type": "execute_result"
    }
   ],
   "source": [
    "y_pred_ensemble_2 = voting_amount_non_class_clf_2.predict(X_test_non_class.iloc[:, 1:])\n",
    "y_pred_ensemble_2"
   ]
  },
  {
   "cell_type": "code",
   "execution_count": 123,
   "metadata": {},
   "outputs": [
    {
     "name": "stdout",
     "output_type": "stream",
     "text": [
      "acc : 0.8577\n",
      "recall : 0.9170681348933242\n"
     ]
    },
    {
     "data": {
      "text/plain": [
       "array([[3247,  941],\n",
       "       [ 482, 5330]])"
      ]
     },
     "execution_count": 123,
     "metadata": {},
     "output_type": "execute_result"
    }
   ],
   "source": [
    "from sklearn.metrics import accuracy_score, recall_score, confusion_matrix\n",
    "\n",
    "print('acc :', accuracy_score(y_test['amount'], y_pred_ensemble_2))\n",
    "print('recall :', recall_score(y_test['amount'], y_pred_ensemble_2))\n",
    "confusion_matrix(y_test['amount'], y_pred_ensemble_2)"
   ]
  },
  {
   "cell_type": "markdown",
   "metadata": {},
   "source": [
    "# 플레이 시간 변동"
   ]
  },
  {
   "cell_type": "code",
   "execution_count": 599,
   "metadata": {},
   "outputs": [],
   "source": [
    "X_train_fluctuation = pd.read_csv('X_train_ver2_fluctuation.csv')"
   ]
  },
  {
   "cell_type": "markdown",
   "metadata": {},
   "source": [
    "## 이탈 여부"
   ]
  },
  {
   "cell_type": "markdown",
   "metadata": {},
   "source": [
    "### RandomForest"
   ]
  },
  {
   "cell_type": "code",
   "execution_count": 600,
   "metadata": {},
   "outputs": [
    {
     "name": "stdout",
     "output_type": "stream",
     "text": [
      "Fitting 5 folds for each of 12 candidates, totalling 60 fits\n"
     ]
    },
    {
     "name": "stderr",
     "output_type": "stream",
     "text": [
      "[Parallel(n_jobs=-1)]: Using backend LokyBackend with 32 concurrent workers.\n",
      "[Parallel(n_jobs=-1)]: Done  28 out of  60 | elapsed:  3.3min remaining:  3.8min\n",
      "[Parallel(n_jobs=-1)]: Done  60 out of  60 | elapsed:  5.1min finished\n"
     ]
    },
    {
     "data": {
      "text/plain": [
       "GridSearchCV(cv=5, error_score='raise-deprecating',\n",
       "             estimator=RandomForestClassifier(bootstrap=True, class_weight=None,\n",
       "                                              criterion='gini', max_depth=None,\n",
       "                                              max_features='auto',\n",
       "                                              max_leaf_nodes=None,\n",
       "                                              min_impurity_decrease=0.0,\n",
       "                                              min_impurity_split=None,\n",
       "                                              min_samples_leaf=1,\n",
       "                                              min_samples_split=2,\n",
       "                                              min_weight_fraction_leaf=0.0,\n",
       "                                              n_estimators='warn', n_jobs=None,\n",
       "                                              oob_score=False, random_state=42,\n",
       "                                              verbose=0, warm_start=False),\n",
       "             iid='warn', n_jobs=-1,\n",
       "             param_grid=[{'max_features': [12, 13, 14, 15],\n",
       "                          'n_estimators': [300, 500, 750]}],\n",
       "             pre_dispatch='2*n_jobs', refit=True, return_train_score=False,\n",
       "             scoring='accuracy', verbose=2)"
      ]
     },
     "execution_count": 600,
     "metadata": {},
     "output_type": "execute_result"
    }
   ],
   "source": [
    "from sklearn.model_selection import GridSearchCV\n",
    "from sklearn.ensemble import RandomForestClassifier\n",
    "\n",
    "rf = RandomForestClassifier(random_state=42)\n",
    "\n",
    "# 12, 13, 14, 15\n",
    "param_grid = [\n",
    "    {'n_estimators' : [300, 500, 750], 'max_features' : [12, 13, 14, 15]}\n",
    "  ]\n",
    "\n",
    "grid_search = GridSearchCV(rf, param_grid, cv = 5,\n",
    "                           scoring = 'accuracy', verbose = 2, n_jobs = -1)\n",
    "\n",
    "grid_search.fit(X_train_fluctuation.iloc[:, 1:], y_train['leave'])"
   ]
  },
  {
   "cell_type": "code",
   "execution_count": 601,
   "metadata": {},
   "outputs": [
    {
     "name": "stdout",
     "output_type": "stream",
     "text": [
      "0.7673666666666666\n",
      "{'max_features': 15, 'n_estimators': 500}\n"
     ]
    }
   ],
   "source": [
    "print(grid_search.best_score_)\n",
    "print(grid_search.best_params_)"
   ]
  },
  {
   "cell_type": "code",
   "execution_count": 602,
   "metadata": {},
   "outputs": [
    {
     "data": {
      "text/plain": [
       "['./빅콘테스트/model/version2/rf_leave_fluctuation_clf_version2.pkl']"
      ]
     },
     "execution_count": 602,
     "metadata": {},
     "output_type": "execute_result"
    }
   ],
   "source": [
    "from sklearn.externals import joblib\n",
    "\n",
    "# rf_leave_fluctuation_clf = RandomForestClassifier(random_state = 42, max_features = 15, n_estimators = 500)\n",
    "# rf_leave_fluctuation_clf.fit(X_train_fluctuation.iloc[:, 1:], y_train['leave'])\n",
    "rf_leave_fluctuation_clf = grid_search.best_estimator_\n",
    "joblib.dump(rf_leave_fluctuation_clf, './빅콘테스트/model/version2/rf_leave_fluctuation_clf_version2.pkl')"
   ]
  },
  {
   "cell_type": "markdown",
   "metadata": {},
   "source": [
    "### XGBoost"
   ]
  },
  {
   "cell_type": "code",
   "execution_count": 603,
   "metadata": {},
   "outputs": [
    {
     "name": "stdout",
     "output_type": "stream",
     "text": [
      "Fitting 5 folds for each of 36 candidates, totalling 180 fits\n"
     ]
    },
    {
     "name": "stderr",
     "output_type": "stream",
     "text": [
      "[Parallel(n_jobs=-1)]: Using backend LokyBackend with 32 concurrent workers.\n",
      "[Parallel(n_jobs=-1)]: Done  98 tasks      | elapsed:  2.4min\n",
      "[Parallel(n_jobs=-1)]: Done 180 out of 180 | elapsed:  3.9min finished\n"
     ]
    },
    {
     "data": {
      "text/plain": [
       "GridSearchCV(cv=5, error_score='raise-deprecating',\n",
       "             estimator=XGBClassifier(base_score=0.5, booster='gbtree',\n",
       "                                     colsample_bylevel=1, colsample_bytree=1,\n",
       "                                     gamma=0, learning_rate=0.1,\n",
       "                                     max_delta_step=0, max_depth=3,\n",
       "                                     min_child_weight=1, missing=None,\n",
       "                                     n_estimators=100, n_jobs=1, nthread=None,\n",
       "                                     objective='binary:logistic',\n",
       "                                     random_state=42, reg_alpha=0, reg_lambda=1,\n",
       "                                     scale_pos_weight=1, seed=None, silent=True,\n",
       "                                     subsample=1),\n",
       "             iid='warn', n_jobs=-1,\n",
       "             param_grid=[{'gamma': [0, 1, 3],\n",
       "                          'learning_rate': [0.001, 0.01, 0.1],\n",
       "                          'max_depth': [9, 10, 11, 12]}],\n",
       "             pre_dispatch='2*n_jobs', refit=True, return_train_score=False,\n",
       "             scoring='accuracy', verbose=2)"
      ]
     },
     "execution_count": 603,
     "metadata": {},
     "output_type": "execute_result"
    }
   ],
   "source": [
    "from xgboost import XGBClassifier\n",
    "\n",
    "xgb = XGBClassifier(random_state=42)\n",
    "\n",
    "# 9, 10, 11, 12\n",
    "param_grid = [\n",
    "    {'learning_rate' : [0.001, 0.01, 0.1], 'max_depth' : [9, 10, 11, 12], 'gamma' : [0, 1, 3]}\n",
    "  ]\n",
    "\n",
    "grid_search = GridSearchCV(xgb, param_grid, cv = 5,\n",
    "                           scoring = 'accuracy', verbose = 2, n_jobs = -1)\n",
    "\n",
    "grid_search.fit(X_train_fluctuation.iloc[:, 1:], y_train['leave'])"
   ]
  },
  {
   "cell_type": "code",
   "execution_count": 604,
   "metadata": {},
   "outputs": [
    {
     "name": "stdout",
     "output_type": "stream",
     "text": [
      "0.7608333333333334\n",
      "{'gamma': 1, 'learning_rate': 0.1, 'max_depth': 10}\n"
     ]
    }
   ],
   "source": [
    "print(grid_search.best_score_)\n",
    "print(grid_search.best_params_)"
   ]
  },
  {
   "cell_type": "code",
   "execution_count": 605,
   "metadata": {},
   "outputs": [
    {
     "data": {
      "text/plain": [
       "['./빅콘테스트/model/version2/xgb_leave_fluctuation_clf_version2.pkl']"
      ]
     },
     "execution_count": 605,
     "metadata": {},
     "output_type": "execute_result"
    }
   ],
   "source": [
    "from sklearn.externals import joblib\n",
    "\n",
    "# xgb_leave_fluctuation_clf = XGBClassifier(random_state = 42, learning_rate = 0.1, gamma = 1, max_depth = 10)\n",
    "# xgb_leave_fluctuation_clf.fit(X_train_fluctuation.iloc[:, 1:], y_train['leave'])\n",
    "xgb_leave_fluctuation_clf = grid_search.best_estimator_\n",
    "joblib.dump(xgb_leave_fluctuation_clf, './빅콘테스트/model/version2/xgb_leave_fluctuation_clf_version2.pkl')"
   ]
  },
  {
   "cell_type": "markdown",
   "metadata": {},
   "source": [
    "### Ensemble"
   ]
  },
  {
   "cell_type": "code",
   "execution_count": 606,
   "metadata": {},
   "outputs": [
    {
     "data": {
      "text/plain": [
       "0.7662334559324109"
      ]
     },
     "execution_count": 606,
     "metadata": {},
     "output_type": "execute_result"
    }
   ],
   "source": [
    "from sklearn.ensemble import VotingClassifier\n",
    "from sklearn.model_selection import cross_val_score\n",
    "\n",
    "voting_leave_fluctuation_clf_2 = VotingClassifier(\n",
    "    estimators=[('rf', rf_leave_fluctuation_clf), ('xgb', xgb_leave_fluctuation_clf)],\n",
    "    voting='soft', n_jobs = -1)\n",
    "\n",
    "cv_value = cross_val_score(voting_leave_fluctuation_clf_2, X_train_fluctuation.iloc[:, 1:],\n",
    "                           y_train['leave'], cv = 5,\n",
    "                           scoring = \"accuracy\")\n",
    "np.mean(cv_value)"
   ]
  },
  {
   "cell_type": "code",
   "execution_count": 607,
   "metadata": {},
   "outputs": [
    {
     "data": {
      "text/plain": [
       "['./빅콘테스트/model/version2/voting_leave_fluctuation_clf_2_version2.pkl']"
      ]
     },
     "execution_count": 607,
     "metadata": {},
     "output_type": "execute_result"
    }
   ],
   "source": [
    "voting_leave_fluctuation_clf_2.fit(X_train_fluctuation.iloc[:, 1:], y_train['leave'])\n",
    "joblib.dump(voting_leave_fluctuation_clf_2, './빅콘테스트/model/version2/voting_leave_fluctuation_clf_2_version2.pkl')"
   ]
  },
  {
   "cell_type": "markdown",
   "metadata": {},
   "source": [
    "## 결제 여부"
   ]
  },
  {
   "cell_type": "markdown",
   "metadata": {},
   "source": [
    "### RandomForest"
   ]
  },
  {
   "cell_type": "code",
   "execution_count": 608,
   "metadata": {},
   "outputs": [
    {
     "name": "stdout",
     "output_type": "stream",
     "text": [
      "Fitting 5 folds for each of 12 candidates, totalling 60 fits\n"
     ]
    },
    {
     "name": "stderr",
     "output_type": "stream",
     "text": [
      "[Parallel(n_jobs=-1)]: Using backend LokyBackend with 32 concurrent workers.\n",
      "[Parallel(n_jobs=-1)]: Done  28 out of  60 | elapsed:  1.8min remaining:  2.1min\n",
      "[Parallel(n_jobs=-1)]: Done  60 out of  60 | elapsed:  3.3min finished\n"
     ]
    },
    {
     "data": {
      "text/plain": [
       "GridSearchCV(cv=5, error_score='raise-deprecating',\n",
       "             estimator=RandomForestClassifier(bootstrap=True, class_weight=None,\n",
       "                                              criterion='gini', max_depth=None,\n",
       "                                              max_features='auto',\n",
       "                                              max_leaf_nodes=None,\n",
       "                                              min_impurity_decrease=0.0,\n",
       "                                              min_impurity_split=None,\n",
       "                                              min_samples_leaf=1,\n",
       "                                              min_samples_split=2,\n",
       "                                              min_weight_fraction_leaf=0.0,\n",
       "                                              n_estimators='warn', n_jobs=None,\n",
       "                                              oob_score=False, random_state=42,\n",
       "                                              verbose=0, warm_start=False),\n",
       "             iid='warn', n_jobs=-1,\n",
       "             param_grid=[{'max_features': [12, 13, 14, 15],\n",
       "                          'n_estimators': [300, 500, 750]}],\n",
       "             pre_dispatch='2*n_jobs', refit=True, return_train_score=False,\n",
       "             scoring='accuracy', verbose=2)"
      ]
     },
     "execution_count": 608,
     "metadata": {},
     "output_type": "execute_result"
    }
   ],
   "source": [
    "from sklearn.model_selection import GridSearchCV\n",
    "from sklearn.ensemble import RandomForestClassifier\n",
    "\n",
    "rf = RandomForestClassifier(random_state=42)\n",
    "\n",
    "param_grid = [\n",
    "    {'n_estimators' : [300, 500, 750], 'max_features' : [12, 13, 14, 15]}\n",
    "  ]\n",
    "\n",
    "grid_search = GridSearchCV(rf, param_grid, cv = 5,\n",
    "                           scoring = 'accuracy', verbose = 2, n_jobs = -1)\n",
    "\n",
    "grid_search.fit(X_train_fluctuation.iloc[:, 1:], y_train['amount'])"
   ]
  },
  {
   "cell_type": "code",
   "execution_count": 609,
   "metadata": {},
   "outputs": [
    {
     "name": "stdout",
     "output_type": "stream",
     "text": [
      "0.8588666666666667\n",
      "{'max_features': 12, 'n_estimators': 750}\n"
     ]
    }
   ],
   "source": [
    "print(grid_search.best_score_)\n",
    "print(grid_search.best_params_)"
   ]
  },
  {
   "cell_type": "code",
   "execution_count": 610,
   "metadata": {},
   "outputs": [
    {
     "data": {
      "text/plain": [
       "['./빅콘테스트/model/version2/rf_amount_fluctuation_clf_version2.pkl']"
      ]
     },
     "execution_count": 610,
     "metadata": {},
     "output_type": "execute_result"
    }
   ],
   "source": [
    "from sklearn.externals import joblib\n",
    "\n",
    "# rf_amount_fluctuation_clf = RandomForestClassifier(random_state = 42, max_features = 12, n_estimators = 750)\n",
    "# rf_amount_fluctuation_clf.fit(X_train_fluctuation.iloc[:, 1:], y_train['amount'])\n",
    "rf_amount_fluctuation_clf = grid_search.best_estimator_\n",
    "joblib.dump(rf_amount_fluctuation_clf, './빅콘테스트/model/version2/rf_amount_fluctuation_clf_version2.pkl')"
   ]
  },
  {
   "cell_type": "markdown",
   "metadata": {},
   "source": [
    "### XGBoost"
   ]
  },
  {
   "cell_type": "code",
   "execution_count": 611,
   "metadata": {},
   "outputs": [
    {
     "name": "stdout",
     "output_type": "stream",
     "text": [
      "Fitting 5 folds for each of 36 candidates, totalling 180 fits\n"
     ]
    },
    {
     "name": "stderr",
     "output_type": "stream",
     "text": [
      "[Parallel(n_jobs=-1)]: Using backend LokyBackend with 32 concurrent workers.\n",
      "[Parallel(n_jobs=-1)]: Done  98 tasks      | elapsed:  2.3min\n",
      "[Parallel(n_jobs=-1)]: Done 180 out of 180 | elapsed:  3.7min finished\n"
     ]
    },
    {
     "data": {
      "text/plain": [
       "GridSearchCV(cv=5, error_score='raise-deprecating',\n",
       "             estimator=XGBClassifier(base_score=0.5, booster='gbtree',\n",
       "                                     colsample_bylevel=1, colsample_bytree=1,\n",
       "                                     gamma=0, learning_rate=0.1,\n",
       "                                     max_delta_step=0, max_depth=3,\n",
       "                                     min_child_weight=1, missing=None,\n",
       "                                     n_estimators=100, n_jobs=1, nthread=None,\n",
       "                                     objective='binary:logistic',\n",
       "                                     random_state=42, reg_alpha=0, reg_lambda=1,\n",
       "                                     scale_pos_weight=1, seed=None, silent=True,\n",
       "                                     subsample=1),\n",
       "             iid='warn', n_jobs=-1,\n",
       "             param_grid=[{'gamma': [0, 1, 3],\n",
       "                          'learning_rate': [0.001, 0.01, 0.1],\n",
       "                          'max_depth': [9, 10, 11, 12]}],\n",
       "             pre_dispatch='2*n_jobs', refit=True, return_train_score=False,\n",
       "             scoring='accuracy', verbose=2)"
      ]
     },
     "execution_count": 611,
     "metadata": {},
     "output_type": "execute_result"
    }
   ],
   "source": [
    "from xgboost import XGBClassifier\n",
    "\n",
    "xgb = XGBClassifier(random_state=42)\n",
    "\n",
    "param_grid = [\n",
    "    {'learning_rate' : [0.001, 0.01, 0.1], 'max_depth' : [9, 10, 11, 12], 'gamma' : [0, 1, 3]}\n",
    "  ]\n",
    "\n",
    "grid_search = GridSearchCV(xgb, param_grid, cv = 5,\n",
    "                           scoring = 'accuracy', verbose = 2, n_jobs = -1)\n",
    "\n",
    "grid_search.fit(X_train_fluctuation.iloc[:, 1:], y_train['amount'])"
   ]
  },
  {
   "cell_type": "code",
   "execution_count": 612,
   "metadata": {},
   "outputs": [
    {
     "name": "stdout",
     "output_type": "stream",
     "text": [
      "0.8570333333333333\n",
      "{'gamma': 1, 'learning_rate': 0.1, 'max_depth': 9}\n"
     ]
    }
   ],
   "source": [
    "print(grid_search.best_score_)\n",
    "print(grid_search.best_params_)"
   ]
  },
  {
   "cell_type": "code",
   "execution_count": 613,
   "metadata": {},
   "outputs": [
    {
     "data": {
      "text/plain": [
       "['./빅콘테스트/model/version2/xgb_amount_fluctuation_clf_version2.pkl']"
      ]
     },
     "execution_count": 613,
     "metadata": {},
     "output_type": "execute_result"
    }
   ],
   "source": [
    "from sklearn.externals import joblib\n",
    "\n",
    "# xgb_amount_fluctuation_clf = XGBClassifier(random_state = 42, learning_rate = 0.1, gamma = 1, max_depth = 9)\n",
    "# xgb_amount_fluctuation_clf.fit(X_train_fluctuation.iloc[:, 1:], y_train['amount'])\n",
    "xgb_amount_fluctuation_clf = grid_search.best_estimator_\n",
    "joblib.dump(xgb_amount_fluctuation_clf, './빅콘테스트/model/version2/xgb_amount_fluctuation_clf_version2.pkl')"
   ]
  },
  {
   "cell_type": "markdown",
   "metadata": {},
   "source": [
    "### Ensemble"
   ]
  },
  {
   "cell_type": "code",
   "execution_count": 614,
   "metadata": {},
   "outputs": [
    {
     "data": {
      "text/plain": [
       "0.8594333333333333"
      ]
     },
     "execution_count": 614,
     "metadata": {},
     "output_type": "execute_result"
    }
   ],
   "source": [
    "from sklearn.ensemble import VotingClassifier\n",
    "from sklearn.model_selection import cross_val_score\n",
    "\n",
    "voting_amount_fluctuation_clf_2 = VotingClassifier(\n",
    "    estimators=[('rf', rf_amount_fluctuation_clf), ('xgb', xgb_amount_fluctuation_clf)],\n",
    "    voting='soft', n_jobs = -1)\n",
    "\n",
    "cv_value = cross_val_score(voting_amount_fluctuation_clf_2, X_train_fluctuation.iloc[:, 1:],\n",
    "                           y_train['amount'], cv = 5,\n",
    "                           scoring = \"accuracy\")\n",
    "np.mean(cv_value)"
   ]
  },
  {
   "cell_type": "code",
   "execution_count": 615,
   "metadata": {},
   "outputs": [
    {
     "data": {
      "text/plain": [
       "['./빅콘테스트/model/version2/voting_amount_fluctuation_clf_2_version2.pkl']"
      ]
     },
     "execution_count": 615,
     "metadata": {},
     "output_type": "execute_result"
    }
   ],
   "source": [
    "voting_amount_fluctuation_clf_2.fit(X_train_fluctuation.iloc[:, 1:], y_train['amount'])\n",
    "joblib.dump(voting_amount_fluctuation_clf_2, './빅콘테스트/model/version2/voting_amount_fluctuation_clf_2_version2.pkl')"
   ]
  },
  {
   "cell_type": "markdown",
   "metadata": {},
   "source": [
    "# 테스트"
   ]
  },
  {
   "cell_type": "code",
   "execution_count": 637,
   "metadata": {},
   "outputs": [],
   "source": [
    "X_test_fluctuation = pd.read_csv('X_test_ver2_fluctuation.csv')"
   ]
  },
  {
   "cell_type": "markdown",
   "metadata": {},
   "source": [
    "## 잔존 여부"
   ]
  },
  {
   "cell_type": "markdown",
   "metadata": {},
   "source": [
    "### RandomForest"
   ]
  },
  {
   "cell_type": "code",
   "execution_count": 638,
   "metadata": {},
   "outputs": [
    {
     "data": {
      "text/plain": [
       "array([0, 0, 0, ..., 0, 0, 0])"
      ]
     },
     "execution_count": 638,
     "metadata": {},
     "output_type": "execute_result"
    }
   ],
   "source": [
    "y_pred_rf = rf_leave_fluctuation_clf.predict(X_test_fluctuation.iloc[:, 1:])\n",
    "y_pred_rf"
   ]
  },
  {
   "cell_type": "code",
   "execution_count": 639,
   "metadata": {},
   "outputs": [
    {
     "name": "stdout",
     "output_type": "stream",
     "text": [
      "acc : 0.7711\n",
      "recall : 0.7051766274161297\n"
     ]
    },
    {
     "data": {
      "text/plain": [
       "array([[4537,  962],\n",
       "       [1327, 3174]])"
      ]
     },
     "execution_count": 639,
     "metadata": {},
     "output_type": "execute_result"
    }
   ],
   "source": [
    "from sklearn.metrics import accuracy_score, recall_score, confusion_matrix\n",
    "\n",
    "print('acc :', accuracy_score(y_test['leave'], y_pred_rf))\n",
    "print('recall :', recall_score(y_test['leave'], y_pred_rf))\n",
    "confusion_matrix(y_test['leave'], y_pred_rf)"
   ]
  },
  {
   "cell_type": "markdown",
   "metadata": {},
   "source": [
    "### XGBoost"
   ]
  },
  {
   "cell_type": "code",
   "execution_count": 640,
   "metadata": {},
   "outputs": [
    {
     "data": {
      "text/plain": [
       "array([0, 0, 0, ..., 0, 0, 0])"
      ]
     },
     "execution_count": 640,
     "metadata": {},
     "output_type": "execute_result"
    }
   ],
   "source": [
    "y_pred_xgb = xgb_leave_fluctuation_clf.predict(X_test_fluctuation.iloc[:, 1:])\n",
    "y_pred_xgb"
   ]
  },
  {
   "cell_type": "code",
   "execution_count": 641,
   "metadata": {},
   "outputs": [
    {
     "name": "stdout",
     "output_type": "stream",
     "text": [
      "acc : 0.7648\n",
      "recall : 0.7105087758275939\n"
     ]
    },
    {
     "data": {
      "text/plain": [
       "array([[4450, 1049],\n",
       "       [1303, 3198]])"
      ]
     },
     "execution_count": 641,
     "metadata": {},
     "output_type": "execute_result"
    }
   ],
   "source": [
    "from sklearn.metrics import accuracy_score, recall_score, confusion_matrix\n",
    "\n",
    "print('acc :', accuracy_score(y_test['leave'], y_pred_xgb))\n",
    "print('recall :', recall_score(y_test['leave'], y_pred_xgb))\n",
    "confusion_matrix(y_test['leave'], y_pred_xgb)"
   ]
  },
  {
   "cell_type": "markdown",
   "metadata": {},
   "source": [
    "### Ensemble"
   ]
  },
  {
   "cell_type": "code",
   "execution_count": 642,
   "metadata": {},
   "outputs": [
    {
     "data": {
      "text/plain": [
       "array([0, 0, 0, ..., 0, 0, 0])"
      ]
     },
     "execution_count": 642,
     "metadata": {},
     "output_type": "execute_result"
    }
   ],
   "source": [
    "y_pred_ensemble_2 = voting_leave_fluctuation_clf_2.predict(X_test_fluctuation.iloc[:, 1:])\n",
    "y_pred_ensemble_2"
   ]
  },
  {
   "cell_type": "code",
   "execution_count": 643,
   "metadata": {},
   "outputs": [
    {
     "name": "stdout",
     "output_type": "stream",
     "text": [
      "acc : 0.7706\n",
      "recall : 0.7096200844256831\n"
     ]
    },
    {
     "data": {
      "text/plain": [
       "array([[4512,  987],\n",
       "       [1307, 3194]])"
      ]
     },
     "execution_count": 643,
     "metadata": {},
     "output_type": "execute_result"
    }
   ],
   "source": [
    "from sklearn.metrics import accuracy_score, recall_score, confusion_matrix\n",
    "\n",
    "print('acc :', accuracy_score(y_test['leave'], y_pred_ensemble_2))\n",
    "print('recall :', recall_score(y_test['leave'], y_pred_ensemble_2))\n",
    "confusion_matrix(y_test['leave'], y_pred_ensemble_2)"
   ]
  },
  {
   "cell_type": "markdown",
   "metadata": {},
   "source": [
    "## 결제 여부"
   ]
  },
  {
   "cell_type": "markdown",
   "metadata": {},
   "source": [
    "### RandomForest"
   ]
  },
  {
   "cell_type": "code",
   "execution_count": 644,
   "metadata": {},
   "outputs": [
    {
     "data": {
      "text/plain": [
       "array([1, 1, 1, ..., 1, 0, 1])"
      ]
     },
     "execution_count": 644,
     "metadata": {},
     "output_type": "execute_result"
    }
   ],
   "source": [
    "y_pred_rf = rf_amount_fluctuation_clf.predict(X_test_fluctuation.iloc[:, 1:])\n",
    "y_pred_rf"
   ]
  },
  {
   "cell_type": "code",
   "execution_count": 645,
   "metadata": {},
   "outputs": [
    {
     "name": "stdout",
     "output_type": "stream",
     "text": [
      "acc : 0.8564\n",
      "recall : 0.9210254645560908\n"
     ]
    },
    {
     "data": {
      "text/plain": [
       "array([[3211,  977],\n",
       "       [ 459, 5353]])"
      ]
     },
     "execution_count": 645,
     "metadata": {},
     "output_type": "execute_result"
    }
   ],
   "source": [
    "from sklearn.metrics import accuracy_score, recall_score, confusion_matrix\n",
    "\n",
    "print('acc :', accuracy_score(y_test['amount'], y_pred_rf))\n",
    "print('recall :', recall_score(y_test['amount'], y_pred_rf))\n",
    "confusion_matrix(y_test['amount'], y_pred_rf)"
   ]
  },
  {
   "cell_type": "markdown",
   "metadata": {},
   "source": [
    "### XGBoost"
   ]
  },
  {
   "cell_type": "code",
   "execution_count": 646,
   "metadata": {},
   "outputs": [
    {
     "data": {
      "text/plain": [
       "array([1, 1, 1, ..., 1, 0, 1])"
      ]
     },
     "execution_count": 646,
     "metadata": {},
     "output_type": "execute_result"
    }
   ],
   "source": [
    "y_pred_xgb = xgb_amount_fluctuation_clf.predict(X_test_fluctuation.iloc[:, 1:])\n",
    "y_pred_xgb"
   ]
  },
  {
   "cell_type": "code",
   "execution_count": 647,
   "metadata": {},
   "outputs": [
    {
     "name": "stdout",
     "output_type": "stream",
     "text": [
      "acc : 0.8556\n",
      "recall : 0.9110461114934618\n"
     ]
    },
    {
     "data": {
      "text/plain": [
       "array([[3261,  927],\n",
       "       [ 517, 5295]])"
      ]
     },
     "execution_count": 647,
     "metadata": {},
     "output_type": "execute_result"
    }
   ],
   "source": [
    "from sklearn.metrics import accuracy_score, recall_score, confusion_matrix\n",
    "\n",
    "print('acc :', accuracy_score(y_test['amount'], y_pred_xgb))\n",
    "print('recall :', recall_score(y_test['amount'], y_pred_xgb))\n",
    "confusion_matrix(y_test['amount'], y_pred_xgb)"
   ]
  },
  {
   "cell_type": "markdown",
   "metadata": {},
   "source": [
    "### Ensemble"
   ]
  },
  {
   "cell_type": "code",
   "execution_count": 648,
   "metadata": {},
   "outputs": [
    {
     "data": {
      "text/plain": [
       "array([1, 1, 1, ..., 1, 0, 1])"
      ]
     },
     "execution_count": 648,
     "metadata": {},
     "output_type": "execute_result"
    }
   ],
   "source": [
    "y_pred_ensemble_2 = voting_amount_fluctuation_clf_2.predict(X_test_fluctuation.iloc[:, 1:])\n",
    "y_pred_ensemble_2"
   ]
  },
  {
   "cell_type": "code",
   "execution_count": 649,
   "metadata": {},
   "outputs": [
    {
     "name": "stdout",
     "output_type": "stream",
     "text": [
      "acc : 0.8569\n",
      "recall : 0.9179284239504474\n"
     ]
    },
    {
     "data": {
      "text/plain": [
       "array([[3234,  954],\n",
       "       [ 477, 5335]])"
      ]
     },
     "execution_count": 649,
     "metadata": {},
     "output_type": "execute_result"
    }
   ],
   "source": [
    "from sklearn.metrics import accuracy_score, recall_score, confusion_matrix\n",
    "\n",
    "print('acc :', accuracy_score(y_test['amount'], y_pred_ensemble_2))\n",
    "print('recall :', recall_score(y_test['amount'], y_pred_ensemble_2))\n",
    "confusion_matrix(y_test['amount'], y_pred_ensemble_2)"
   ]
  },
  {
   "cell_type": "markdown",
   "metadata": {},
   "source": [
    "# 교차검증 X"
   ]
  },
  {
   "cell_type": "code",
   "execution_count": 695,
   "metadata": {},
   "outputs": [],
   "source": [
    "X_train_fluctuation = pd.read_csv('X_train_ver2_fluctuation.csv')"
   ]
  },
  {
   "cell_type": "code",
   "execution_count": 675,
   "metadata": {},
   "outputs": [],
   "source": [
    "np.random.seed(42)\n",
    "idx = np.random.permutation(30000)\n",
    "\n",
    "y_train.index = range(0, len(y_train))\n",
    "X_train_fluctuation_shuffle = X_train_fluctuation.loc[idx]\n",
    "y_train_shuffle = y_train.loc[idx]\n",
    "\n",
    "X_train_fluctuation_1 = X_train_fluctuation_shuffle[:15000]\n",
    "X_train_fluctuation_2 = X_train_fluctuation_shuffle[15000:]\n",
    "y_train_1 = y_train_shuffle[:15000]\n",
    "y_train_2 = y_train_shuffle[15000:]"
   ]
  },
  {
   "cell_type": "markdown",
   "metadata": {},
   "source": [
    "## 이탈 여부"
   ]
  },
  {
   "cell_type": "code",
   "execution_count": 697,
   "metadata": {},
   "outputs": [
    {
     "data": {
      "text/plain": [
       "['./빅콘테스트/model/version2/rf_leave_fluctuation_clf_version2.pkl']"
      ]
     },
     "execution_count": 697,
     "metadata": {},
     "output_type": "execute_result"
    }
   ],
   "source": [
    "from sklearn.ensemble import RandomForestClassifier\n",
    "from sklearn.externals import joblib\n",
    "\n",
    "rf_leave_fluctuation_clf = RandomForestClassifier(random_state = 42, max_features = 15, n_estimators = 500)\n",
    "rf_leave_fluctuation_clf.fit(X_train_fluctuation.iloc[:, 1:], y_train['leave'])\n",
    "joblib.dump(rf_leave_fluctuation_clf, './빅콘테스트/model/version2/rf_leave_fluctuation_clf_version2.pkl')"
   ]
  },
  {
   "cell_type": "code",
   "execution_count": 698,
   "metadata": {},
   "outputs": [
    {
     "data": {
      "text/plain": [
       "['./빅콘테스트/model/version2/xgb_leave_fluctuation_clf_version2.pkl']"
      ]
     },
     "execution_count": 698,
     "metadata": {},
     "output_type": "execute_result"
    }
   ],
   "source": [
    "from xgboost import XGBClassifier\n",
    "from sklearn.externals import joblib\n",
    "\n",
    "xgb_leave_fluctuation_clf = XGBClassifier(random_state = 42, learning_rate = 0.1, gamma = 1, max_depth = 10)\n",
    "xgb_leave_fluctuation_clf.fit(X_train_fluctuation.iloc[:, 1:], y_train['leave'])\n",
    "joblib.dump(xgb_leave_fluctuation_clf, './빅콘테스트/model/version2/xgb_leave_fluctuation_clf_version2.pkl')"
   ]
  },
  {
   "cell_type": "code",
   "execution_count": 699,
   "metadata": {},
   "outputs": [
    {
     "data": {
      "text/plain": [
       "['./빅콘테스트/model/version2/voting_leave_fluctuation_clf_2_version2.pkl']"
      ]
     },
     "execution_count": 699,
     "metadata": {},
     "output_type": "execute_result"
    }
   ],
   "source": [
    "from sklearn.ensemble import VotingClassifier\n",
    "from sklearn.externals import joblib\n",
    "\n",
    "voting_leave_fluctuation_clf_2 = VotingClassifier(\n",
    "    estimators=[('rf', rf_leave_fluctuation_clf), ('xgb', xgb_leave_fluctuation_clf)],\n",
    "    voting='soft', n_jobs = -1)\n",
    "\n",
    "voting_leave_fluctuation_clf_2.fit(X_train_fluctuation.iloc[:, 1:], y_train['leave'])\n",
    "joblib.dump(voting_leave_fluctuation_clf_2, './빅콘테스트/model/version2/voting_leave_fluctuation_clf_2_version2.pkl')"
   ]
  },
  {
   "cell_type": "markdown",
   "metadata": {},
   "source": [
    "## 결제 여부"
   ]
  },
  {
   "cell_type": "code",
   "execution_count": 700,
   "metadata": {},
   "outputs": [
    {
     "data": {
      "text/plain": [
       "['./빅콘테스트/model/version2/rf_amount_fluctuation_clf_version2.pkl']"
      ]
     },
     "execution_count": 700,
     "metadata": {},
     "output_type": "execute_result"
    }
   ],
   "source": [
    "from sklearn.ensemble import RandomForestClassifier\n",
    "from sklearn.externals import joblib\n",
    "\n",
    "rf_amount_fluctuation_clf = RandomForestClassifier(random_state = 42, max_features = 12, n_estimators = 750)\n",
    "rf_amount_fluctuation_clf.fit(X_train_fluctuation.iloc[:, 1:], y_train['amount'])\n",
    "joblib.dump(rf_amount_fluctuation_clf, './빅콘테스트/model/version2/rf_amount_fluctuation_clf_version2.pkl')"
   ]
  },
  {
   "cell_type": "code",
   "execution_count": 701,
   "metadata": {},
   "outputs": [
    {
     "data": {
      "text/plain": [
       "['./빅콘테스트/model/version2/xgb_amount_fluctuation_clf_version2.pkl']"
      ]
     },
     "execution_count": 701,
     "metadata": {},
     "output_type": "execute_result"
    }
   ],
   "source": [
    "from xgboost import XGBClassifier\n",
    "from sklearn.externals import joblib\n",
    "\n",
    "xgb_amount_fluctuation_clf = XGBClassifier(random_state = 42, learning_rate = 0.1, gamma = 1, max_depth = 9)\n",
    "xgb_amount_fluctuation_clf.fit(X_train_fluctuation.iloc[:, 1:], y_train['amount'])\n",
    "joblib.dump(xgb_amount_fluctuation_clf, './빅콘테스트/model/version2/xgb_amount_fluctuation_clf_version2.pkl')"
   ]
  },
  {
   "cell_type": "code",
   "execution_count": 702,
   "metadata": {},
   "outputs": [
    {
     "data": {
      "text/plain": [
       "['./빅콘테스트/model/version2/voting_amount_fluctuation_clf_2_version2.pkl']"
      ]
     },
     "execution_count": 702,
     "metadata": {},
     "output_type": "execute_result"
    }
   ],
   "source": [
    "from sklearn.ensemble import VotingClassifier\n",
    "from sklearn.externals import joblib\n",
    "\n",
    "voting_amount_fluctuation_clf_2 = VotingClassifier(\n",
    "    estimators=[('rf', rf_amount_fluctuation_clf), ('xgb', xgb_amount_fluctuation_clf)],\n",
    "    voting='soft', n_jobs = -1)\n",
    "\n",
    "voting_amount_fluctuation_clf_2.fit(X_train_fluctuation.iloc[:, 1:], y_train['amount'])\n",
    "joblib.dump(voting_amount_fluctuation_clf_2, './빅콘테스트/model/version2/voting_amount_fluctuation_clf_2_version2.pkl')"
   ]
  },
  {
   "cell_type": "markdown",
   "metadata": {},
   "source": [
    "## 스태킹"
   ]
  },
  {
   "cell_type": "code",
   "execution_count": 687,
   "metadata": {},
   "outputs": [],
   "source": [
    "leave_pred1 = rf_leave_fluctuation_clf.predict_proba(X_train_fluctuation_2.iloc[:, 1:])\n",
    "leave_pred2 = xgb_leave_fluctuation_clf.predict_proba(X_train_fluctuation_2.iloc[:, 1:])\n",
    "leave_pred3 = voting_leave_fluctuation_clf_2.predict_proba(X_train_fluctuation_2.iloc[:, 1:])\n",
    "\n",
    "leave_pred = np.concatenate([leave_pred1, leave_pred2, leave_pred3], axis = 1)"
   ]
  },
  {
   "cell_type": "code",
   "execution_count": 688,
   "metadata": {},
   "outputs": [
    {
     "name": "stdout",
     "output_type": "stream",
     "text": [
      "Fitting 5 folds for each of 6 candidates, totalling 30 fits\n"
     ]
    },
    {
     "name": "stderr",
     "output_type": "stream",
     "text": [
      "[Parallel(n_jobs=-1)]: Using backend LokyBackend with 32 concurrent workers.\n",
      "[Parallel(n_jobs=-1)]: Done  15 out of  30 | elapsed:    0.2s remaining:    0.2s\n",
      "[Parallel(n_jobs=-1)]: Done  30 out of  30 | elapsed:    0.6s finished\n",
      "/home/user3/.conda/envs/hun/lib/python3.6/site-packages/sklearn/linear_model/logistic.py:432: FutureWarning: Default solver will be changed to 'lbfgs' in 0.22. Specify a solver to silence this warning.\n",
      "  FutureWarning)\n"
     ]
    },
    {
     "data": {
      "text/plain": [
       "GridSearchCV(cv=5, error_score='raise-deprecating',\n",
       "             estimator=LogisticRegression(C=1.0, class_weight=None, dual=False,\n",
       "                                          fit_intercept=True,\n",
       "                                          intercept_scaling=1, l1_ratio=None,\n",
       "                                          max_iter=100, multi_class='warn',\n",
       "                                          n_jobs=None, penalty='l2',\n",
       "                                          random_state=42, solver='warn',\n",
       "                                          tol=0.0001, verbose=0,\n",
       "                                          warm_start=False),\n",
       "             iid='warn', n_jobs=-1,\n",
       "             param_grid=[{'C': [0.1, 1, 3], 'penalty': ['l1', 'l2']}],\n",
       "             pre_dispatch='2*n_jobs', refit=True, return_train_score=False,\n",
       "             scoring='accuracy', verbose=2)"
      ]
     },
     "execution_count": 688,
     "metadata": {},
     "output_type": "execute_result"
    }
   ],
   "source": [
    "from sklearn.model_selection import GridSearchCV\n",
    "from sklearn.linear_model import LogisticRegression\n",
    "\n",
    "lr = LogisticRegression(random_state = 42)\n",
    "\n",
    "param_grid = [\n",
    "    {'penalty' : ['l1', 'l2'], 'C' : [0.1, 1, 3]}\n",
    "  ]\n",
    "\n",
    "grid_search = GridSearchCV(lr, param_grid, cv = 5,\n",
    "                           scoring = 'accuracy', verbose = 2, n_jobs = -1)\n",
    "grid_search.fit(leave_pred, y_train_2['leave'])"
   ]
  },
  {
   "cell_type": "code",
   "execution_count": 689,
   "metadata": {},
   "outputs": [
    {
     "name": "stdout",
     "output_type": "stream",
     "text": [
      "0.7598\n",
      "{'C': 0.1, 'penalty': 'l2'}\n"
     ]
    }
   ],
   "source": [
    "print(grid_search.best_score_)\n",
    "print(grid_search.best_params_)"
   ]
  },
  {
   "cell_type": "code",
   "execution_count": 690,
   "metadata": {},
   "outputs": [
    {
     "data": {
      "text/plain": [
       "['./빅콘테스트/model/version2/lr_leave_fluctuation_clf_version2.pkl']"
      ]
     },
     "execution_count": 690,
     "metadata": {},
     "output_type": "execute_result"
    }
   ],
   "source": [
    "lr_leave_fluctuation_clf = grid_search.best_estimator_\n",
    "joblib.dump(lr_leave_fluctuation_clf, './빅콘테스트/model/version2/lr_leave_fluctuation_clf_version2.pkl')"
   ]
  },
  {
   "cell_type": "code",
   "execution_count": 691,
   "metadata": {},
   "outputs": [],
   "source": [
    "amount_pred1 = rf_amount_fluctuation_clf.predict_proba(X_train_fluctuation_2.iloc[:, 1:])\n",
    "amount_pred2 = xgb_amount_fluctuation_clf.predict_proba(X_train_fluctuation_2.iloc[:, 1:])\n",
    "amount_pred3 = voting_amount_fluctuation_clf_2.predict_proba(X_train_fluctuation_2.iloc[:, 1:])\n",
    "\n",
    "amount_pred = np.concatenate([amount_pred1, amount_pred2, amount_pred3], axis = 1)"
   ]
  },
  {
   "cell_type": "code",
   "execution_count": 692,
   "metadata": {},
   "outputs": [
    {
     "name": "stdout",
     "output_type": "stream",
     "text": [
      "Fitting 5 folds for each of 6 candidates, totalling 30 fits\n"
     ]
    },
    {
     "name": "stderr",
     "output_type": "stream",
     "text": [
      "[Parallel(n_jobs=-1)]: Using backend LokyBackend with 32 concurrent workers.\n",
      "[Parallel(n_jobs=-1)]: Done  15 out of  30 | elapsed:    0.1s remaining:    0.1s\n",
      "[Parallel(n_jobs=-1)]: Done  30 out of  30 | elapsed:    0.2s finished\n",
      "/home/user3/.conda/envs/hun/lib/python3.6/site-packages/sklearn/linear_model/logistic.py:432: FutureWarning: Default solver will be changed to 'lbfgs' in 0.22. Specify a solver to silence this warning.\n",
      "  FutureWarning)\n"
     ]
    },
    {
     "data": {
      "text/plain": [
       "GridSearchCV(cv=5, error_score='raise-deprecating',\n",
       "             estimator=LogisticRegression(C=1.0, class_weight=None, dual=False,\n",
       "                                          fit_intercept=True,\n",
       "                                          intercept_scaling=1, l1_ratio=None,\n",
       "                                          max_iter=100, multi_class='warn',\n",
       "                                          n_jobs=None, penalty='l2',\n",
       "                                          random_state=42, solver='warn',\n",
       "                                          tol=0.0001, verbose=0,\n",
       "                                          warm_start=False),\n",
       "             iid='warn', n_jobs=-1,\n",
       "             param_grid=[{'C': [0.1, 1, 3], 'penalty': ['l1', 'l2']}],\n",
       "             pre_dispatch='2*n_jobs', refit=True, return_train_score=False,\n",
       "             scoring='accuracy', verbose=2)"
      ]
     },
     "execution_count": 692,
     "metadata": {},
     "output_type": "execute_result"
    }
   ],
   "source": [
    "from sklearn.model_selection import GridSearchCV\n",
    "from sklearn.linear_model import LogisticRegression\n",
    "\n",
    "lr = LogisticRegression(random_state = 42)\n",
    "\n",
    "param_grid = [\n",
    "    {'penalty' : ['l1', 'l2'], 'C' : [0.1, 1, 3]}\n",
    "  ]\n",
    "\n",
    "grid_search = GridSearchCV(lr, param_grid, cv = 5,\n",
    "                           scoring = 'accuracy', verbose = 2, n_jobs = -1)\n",
    "grid_search.fit(amount_pred, y_train_2['amount'])"
   ]
  },
  {
   "cell_type": "code",
   "execution_count": 693,
   "metadata": {},
   "outputs": [
    {
     "name": "stdout",
     "output_type": "stream",
     "text": [
      "0.9998666666666667\n",
      "{'C': 0.1, 'penalty': 'l1'}\n"
     ]
    }
   ],
   "source": [
    "print(grid_search.best_score_)\n",
    "print(grid_search.best_params_)"
   ]
  },
  {
   "cell_type": "code",
   "execution_count": 694,
   "metadata": {},
   "outputs": [
    {
     "data": {
      "text/plain": [
       "['./빅콘테스트/model/version2/lr_amount_fluctuation_clf_version2.pkl']"
      ]
     },
     "execution_count": 694,
     "metadata": {},
     "output_type": "execute_result"
    }
   ],
   "source": [
    "lr_amount_fluctuation_clf = grid_search.best_estimator_\n",
    "joblib.dump(lr_amount_fluctuation_clf, './빅콘테스트/model/version2/lr_amount_fluctuation_clf_version2.pkl')"
   ]
  },
  {
   "cell_type": "code",
   "execution_count": null,
   "metadata": {},
   "outputs": [],
   "source": []
  }
 ],
 "metadata": {
  "kernelspec": {
   "display_name": "Python [conda env:hun]",
   "language": "python",
   "name": "conda-env-hun-py"
  },
  "language_info": {
   "codemirror_mode": {
    "name": "ipython",
    "version": 3
   },
   "file_extension": ".py",
   "mimetype": "text/x-python",
   "name": "python",
   "nbconvert_exporter": "python",
   "pygments_lexer": "ipython3",
   "version": "3.7.3"
  }
 },
 "nbformat": 4,
 "nbformat_minor": 2
}
