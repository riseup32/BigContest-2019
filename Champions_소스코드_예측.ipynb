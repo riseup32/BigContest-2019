{
 "cells": [
  {
   "cell_type": "code",
   "execution_count": 1,
   "metadata": {},
   "outputs": [],
   "source": [
    "import pandas as pd\n",
    "import numpy as np\n",
    "import matplotlib.pyplot as plt\n",
    "import seaborn as sns"
   ]
  },
  {
   "cell_type": "markdown",
   "metadata": {},
   "source": [
    "# 예측 함수"
   ]
  },
  {
   "cell_type": "code",
   "execution_count": 2,
   "metadata": {},
   "outputs": [
    {
     "name": "stderr",
     "output_type": "stream",
     "text": [
      "/home/user3/.conda/envs/hun/lib/python3.6/site-packages/sklearn/externals/joblib/__init__.py:15: DeprecationWarning: sklearn.externals.joblib is deprecated in 0.21 and will be removed in 0.23. Please import this functionality directly from joblib, which can be installed with: pip install joblib. If this warning is raised when loading pickled models, you may need to re-serialize those models with scikit-learn 0.21+.\n",
      "  warnings.warn(msg, category=DeprecationWarning)\n"
     ]
    }
   ],
   "source": [
    "from sklearn.externals import joblib\n",
    "from score_function import score_function\n",
    "\n",
    "voting_leave_clf_2 = joblib.load('./빅콘테스트/model/version2/voting_leave_clf_2_version2.pkl')\n",
    "voting_amount_clf_2 = joblib.load('./빅콘테스트/model/version2/voting_amount_clf_2_version2.pkl')\n",
    "rf_leave_reg = joblib.load('./빅콘테스트/model/version2/rf_leave_reg_version2.pkl')\n",
    "rf_amount_reg = joblib.load('./빅콘테스트/model/version2/rf_amount_reg_version2.pkl')"
   ]
  },
  {
   "cell_type": "code",
   "execution_count": 3,
   "metadata": {},
   "outputs": [],
   "source": [
    "X_test = pd.read_csv('X_test_ver2.csv')\n",
    "X_test1 = pd.read_csv('X_test1_ver2.csv')\n",
    "X_test2 = pd.read_csv('X_test2_ver2.csv')"
   ]
  },
  {
   "cell_type": "code",
   "execution_count": 245,
   "metadata": {},
   "outputs": [],
   "source": [
    "def predict(model1, model2, model3, model4, data):\n",
    "    '''\n",
    "    model1 : 생존 여부 예측(classifier)\n",
    "    model2 : 결제 여부 예측(classifier)\n",
    "    model3 : 추가 생존 기간 예측(regressor)\n",
    "    model4 : 일 평균 결제 금액 예측(regressor)\n",
    "    data : test data\n",
    "    '''\n",
    "    \n",
    "    pred1 = model1.predict(data.iloc[:, 1:])\n",
    "    pred2 = model2.predict(data.iloc[:, 1:])\n",
    "    pred3 = model3.predict(data.iloc[:, 1:])\n",
    "    pred4 = model4.predict(data.iloc[:, 1:])\n",
    "    \n",
    "    pred3[pred1 == 0] = 64\n",
    "    pred4[pred2 == 0] = 0\n",
    "    pred3[pred3 <= 1] = 1\n",
    "    pred4[pred4 <= 0] = 0\n",
    "    \n",
    "    array = np.concatenate([data.iloc[:, 0].values.reshape(-1, 1), pred3.reshape(-1, 1), pred4.reshape(-1, 1)], axis = 1)\n",
    "    df = pd.DataFrame(array)\n",
    "    df.columns = ['acc_id', 'survival_time', 'amount_spent']\n",
    "    df['acc_id'] = df['acc_id'].astype('int32')\n",
    "    df['survival_time'] = round(df['survival_time']).astype('int32')\n",
    "    \n",
    "    return df"
   ]
  },
  {
   "cell_type": "markdown",
   "metadata": {},
   "source": [
    "### 1"
   ]
  },
  {
   "cell_type": "code",
   "execution_count": null,
   "metadata": {},
   "outputs": [],
   "source": [
    "voting_leave_clf_2 = joblib.load('./빅콘테스트/model/version2/voting_leave_clf_2_version2.pkl')\n",
    "voting_amount_clf_2 = joblib.load('./빅콘테스트/model/version2/voting_amount_clf_2_version2.pkl')\n",
    "rf_leave_reg = joblib.load('./빅콘테스트/model/version2/rf_leave_reg_version2.pkl')\n",
    "rf_amount_reg = joblib.load('./빅콘테스트/model/version2/rf_amount_reg_version2.pkl')"
   ]
  },
  {
   "cell_type": "code",
   "execution_count": 5,
   "metadata": {},
   "outputs": [],
   "source": [
    "test_pred = predict(model1 = voting_leave_clf_2, model2 = voting_amount_clf_2,\n",
    "               model3 = rf_leave_reg, model4 = rf_amount_reg, data = X_test)"
   ]
  },
  {
   "cell_type": "code",
   "execution_count": 6,
   "metadata": {},
   "outputs": [],
   "source": [
    "test_pred.to_csv('y_pred_ver2.csv', index = False)"
   ]
  },
  {
   "cell_type": "code",
   "execution_count": 7,
   "metadata": {},
   "outputs": [
    {
     "name": "stdout",
     "output_type": "stream",
     "text": [
      "3562.091169600622\n"
     ]
    },
    {
     "data": {
      "text/plain": [
       "3562.091169600622"
      ]
     },
     "execution_count": 7,
     "metadata": {},
     "output_type": "execute_result"
    }
   ],
   "source": [
    "score_function('y_pred_ver2.csv', 'true.csv')"
   ]
  },
  {
   "cell_type": "code",
   "execution_count": 8,
   "metadata": {},
   "outputs": [],
   "source": [
    "test1_pred = predict(model1 = voting_leave_clf_2, model2 = voting_amount_clf_2,\n",
    "               model3 = rf_leave_reg, model4 = rf_amount_reg, data = X_test1)"
   ]
  },
  {
   "cell_type": "code",
   "execution_count": 9,
   "metadata": {},
   "outputs": [],
   "source": [
    "test2_pred = predict(model1 = voting_leave_clf_2, model2 = voting_amount_clf_2,\n",
    "               model3 = rf_leave_reg, model4 = rf_amount_reg, data = X_test2)"
   ]
  },
  {
   "cell_type": "code",
   "execution_count": 10,
   "metadata": {},
   "outputs": [],
   "source": [
    "test1_pred.to_csv('test1_predict.csv', index = False)\n",
    "test2_pred.to_csv('test2_predict.csv', index = False)"
   ]
  },
  {
   "cell_type": "markdown",
   "metadata": {},
   "source": [
    "### 2"
   ]
  },
  {
   "cell_type": "code",
   "execution_count": 13,
   "metadata": {},
   "outputs": [],
   "source": [
    "voting_leave_clf_1 = joblib.load('./빅콘테스트/model/version2/voting_leave_clf_1_version2.pkl')\n",
    "voting_amount_clf_1 = joblib.load('./빅콘테스트/model/version2/voting_amount_clf_1_version2.pkl')\n",
    "rf_leave_reg = joblib.load('./빅콘테스트/model/version2/rf_leave_reg_version2.pkl')\n",
    "rf_amount_reg = joblib.load('./빅콘테스트/model/version2/rf_amount_reg_version2.pkl')"
   ]
  },
  {
   "cell_type": "code",
   "execution_count": 14,
   "metadata": {},
   "outputs": [],
   "source": [
    "test_pred = predict(model1 = voting_leave_clf_1, model2 = voting_amount_clf_1,\n",
    "               model3 = rf_leave_reg, model4 = rf_amount_reg, data = X_test)"
   ]
  },
  {
   "cell_type": "code",
   "execution_count": 15,
   "metadata": {},
   "outputs": [],
   "source": [
    "test_pred.to_csv('y_pred_ver2.csv', index = False)"
   ]
  },
  {
   "cell_type": "code",
   "execution_count": 16,
   "metadata": {},
   "outputs": [
    {
     "name": "stdout",
     "output_type": "stream",
     "text": [
      "3513.51326092601\n"
     ]
    },
    {
     "data": {
      "text/plain": [
       "3513.51326092601"
      ]
     },
     "execution_count": 16,
     "metadata": {},
     "output_type": "execute_result"
    }
   ],
   "source": [
    "score_function('y_pred_ver2.csv', 'true.csv')"
   ]
  },
  {
   "cell_type": "code",
   "execution_count": 17,
   "metadata": {},
   "outputs": [],
   "source": [
    "test1_pred = predict(model1 = voting_leave_clf_1, model2 = voting_amount_clf_1,\n",
    "               model3 = rf_leave_reg, model4 = rf_amount_reg, data = X_test1)"
   ]
  },
  {
   "cell_type": "code",
   "execution_count": 18,
   "metadata": {},
   "outputs": [],
   "source": [
    "test2_pred = predict(model1 = voting_leave_clf_1, model2 = voting_amount_clf_1,\n",
    "               model3 = rf_leave_reg, model4 = rf_amount_reg, data = X_test2)"
   ]
  },
  {
   "cell_type": "code",
   "execution_count": 19,
   "metadata": {},
   "outputs": [],
   "source": [
    "test1_pred.to_csv('test1_predict.csv', index = False)\n",
    "test2_pred.to_csv('test2_predict.csv', index = False)"
   ]
  },
  {
   "cell_type": "markdown",
   "metadata": {},
   "source": [
    "### 3"
   ]
  },
  {
   "cell_type": "code",
   "execution_count": 20,
   "metadata": {},
   "outputs": [],
   "source": [
    "rf_leave_clf = joblib.load('./빅콘테스트/model/version2/rf_leave_clf_version2.pkl')\n",
    "rf_amount_clf = joblib.load('./빅콘테스트/model/version2/rf_amount_clf_version2.pkl')\n",
    "rf_leave_reg = joblib.load('./빅콘테스트/model/version2/rf_leave_reg_version2.pkl')\n",
    "rf_amount_reg = joblib.load('./빅콘테스트/model/version2/rf_amount_reg_version2.pkl')"
   ]
  },
  {
   "cell_type": "code",
   "execution_count": 21,
   "metadata": {},
   "outputs": [],
   "source": [
    "test_pred = predict(model1 = rf_leave_clf, model2 = rf_amount_clf,\n",
    "               model3 = rf_leave_reg, model4 = rf_amount_reg, data = X_test)"
   ]
  },
  {
   "cell_type": "code",
   "execution_count": 22,
   "metadata": {},
   "outputs": [],
   "source": [
    "test_pred.to_csv('y_pred_ver2.csv', index = False)"
   ]
  },
  {
   "cell_type": "code",
   "execution_count": 23,
   "metadata": {},
   "outputs": [
    {
     "name": "stdout",
     "output_type": "stream",
     "text": [
      "3641.661128033314\n"
     ]
    },
    {
     "data": {
      "text/plain": [
       "3641.661128033314"
      ]
     },
     "execution_count": 23,
     "metadata": {},
     "output_type": "execute_result"
    }
   ],
   "source": [
    "score_function('y_pred_ver2.csv', 'true.csv')"
   ]
  },
  {
   "cell_type": "code",
   "execution_count": 24,
   "metadata": {},
   "outputs": [],
   "source": [
    "test1_pred = predict(model1 = rf_leave_clf, model2 = rf_amount_clf,\n",
    "               model3 = rf_leave_reg, model4 = rf_amount_reg, data = X_test1)"
   ]
  },
  {
   "cell_type": "code",
   "execution_count": 25,
   "metadata": {},
   "outputs": [],
   "source": [
    "test2_pred = predict(model1 = rf_leave_clf, model2 = rf_amount_clf,\n",
    "               model3 = rf_leave_reg, model4 = rf_amount_reg, data = X_test2)"
   ]
  },
  {
   "cell_type": "code",
   "execution_count": 26,
   "metadata": {},
   "outputs": [],
   "source": [
    "test1_pred.to_csv('test1_predict.csv', index = False)\n",
    "test2_pred.to_csv('test2_predict.csv', index = False)"
   ]
  },
  {
   "cell_type": "markdown",
   "metadata": {},
   "source": [
    "### 4"
   ]
  },
  {
   "cell_type": "code",
   "execution_count": 66,
   "metadata": {},
   "outputs": [],
   "source": [
    "voting_leave_clf_2 = joblib.load('./빅콘테스트/model/version2/voting_leave_clf_2_version2.pkl')\n",
    "voting_amount_clf_2 = joblib.load('./빅콘테스트/model/version2/voting_amount_clf_2_version2.pkl')\n",
    "rf_leave_reg = joblib.load('./빅콘테스트/model/version2/rf_leave_reg_version2.pkl')\n",
    "rf_amount_all_reg = joblib.load('./빅콘테스트/model/version2/rf_amount_all_reg_version2.pkl')"
   ]
  },
  {
   "cell_type": "code",
   "execution_count": 67,
   "metadata": {},
   "outputs": [],
   "source": [
    "test_pred = predict(model1 = voting_leave_clf_2, model2 = voting_amount_clf_2,\n",
    "               model3 = rf_leave_reg, model4 = rf_amount_all_reg, data = X_test)"
   ]
  },
  {
   "cell_type": "code",
   "execution_count": 68,
   "metadata": {},
   "outputs": [],
   "source": [
    "test_pred.to_csv('y_pred_ver2.csv', index = False)"
   ]
  },
  {
   "cell_type": "code",
   "execution_count": 69,
   "metadata": {},
   "outputs": [
    {
     "name": "stdout",
     "output_type": "stream",
     "text": [
      "3162.9492150316373\n"
     ]
    },
    {
     "data": {
      "text/plain": [
       "3162.9492150316373"
      ]
     },
     "execution_count": 69,
     "metadata": {},
     "output_type": "execute_result"
    }
   ],
   "source": [
    "score_function('y_pred_ver2.csv', 'true.csv')"
   ]
  },
  {
   "cell_type": "code",
   "execution_count": 70,
   "metadata": {},
   "outputs": [],
   "source": [
    "test1_pred = predict(model1 = voting_leave_clf_2, model2 = voting_amount_clf_2,\n",
    "               model3 = rf_leave_reg, model4 = rf_amount_all_reg, data = X_test1)"
   ]
  },
  {
   "cell_type": "code",
   "execution_count": 71,
   "metadata": {},
   "outputs": [],
   "source": [
    "test2_pred = predict(model1 = voting_leave_clf_2, model2 = voting_amount_clf_2,\n",
    "               model3 = rf_leave_reg, model4 = rf_amount_all_reg, data = X_test2)"
   ]
  },
  {
   "cell_type": "code",
   "execution_count": 72,
   "metadata": {},
   "outputs": [],
   "source": [
    "test1_pred.to_csv('test1_predict.csv', index = False)\n",
    "test2_pred.to_csv('test2_predict.csv', index = False)"
   ]
  },
  {
   "cell_type": "markdown",
   "metadata": {},
   "source": [
    "### 5(X)"
   ]
  },
  {
   "cell_type": "code",
   "execution_count": 89,
   "metadata": {},
   "outputs": [],
   "source": [
    "voting_leave_clf_2 = joblib.load('./빅콘테스트/model/version2/voting_leave_clf_2_version2.pkl')\n",
    "voting_amount_clf_2 = joblib.load('./빅콘테스트/model/version2/voting_amount_clf_2_version2.pkl')\n",
    "xgb_leave_reg = joblib.load('./빅콘테스트/model/version2/xgb_leave_reg_version2.pkl')\n",
    "xgb_amount_reg = joblib.load('./빅콘테스트/model/version2/xgb_amount_reg_version2.pkl')"
   ]
  },
  {
   "cell_type": "code",
   "execution_count": 90,
   "metadata": {},
   "outputs": [],
   "source": [
    "test_pred = predict(model1 = voting_leave_clf_2, model2 = voting_amount_clf_2,\n",
    "               model3 = xgb_leave_reg, model4 = xgb_amount_reg, data = X_test)"
   ]
  },
  {
   "cell_type": "code",
   "execution_count": 91,
   "metadata": {},
   "outputs": [],
   "source": [
    "test_pred.to_csv('y_pred_ver2.csv', index = False)"
   ]
  },
  {
   "cell_type": "code",
   "execution_count": 92,
   "metadata": {},
   "outputs": [
    {
     "name": "stdout",
     "output_type": "stream",
     "text": [
      "3512.248917570354\n"
     ]
    },
    {
     "data": {
      "text/plain": [
       "3512.248917570354"
      ]
     },
     "execution_count": 92,
     "metadata": {},
     "output_type": "execute_result"
    }
   ],
   "source": [
    "score_function('y_pred_ver2.csv', 'true.csv')"
   ]
  },
  {
   "cell_type": "code",
   "execution_count": 93,
   "metadata": {},
   "outputs": [],
   "source": [
    "test1_pred = predict(model1 = voting_leave_clf_2, model2 = voting_amount_clf_2,\n",
    "               model3 = xgb_leave_reg, model4 = xgb_amount_reg, data = X_test1)"
   ]
  },
  {
   "cell_type": "code",
   "execution_count": 94,
   "metadata": {},
   "outputs": [],
   "source": [
    "test2_pred = predict(model1 = voting_leave_clf_2, model2 = voting_amount_clf_2,\n",
    "               model3 = xgb_leave_reg, model4 = xgb_amount_reg, data = X_test2)"
   ]
  },
  {
   "cell_type": "code",
   "execution_count": 95,
   "metadata": {},
   "outputs": [],
   "source": [
    "test1_pred.to_csv('test1_predict.csv', index = False)\n",
    "test2_pred.to_csv('test2_predict.csv', index = False)"
   ]
  },
  {
   "cell_type": "markdown",
   "metadata": {},
   "source": [
    "### 6"
   ]
  },
  {
   "cell_type": "code",
   "execution_count": 96,
   "metadata": {},
   "outputs": [],
   "source": [
    "voting_leave_clf_2 = joblib.load('./빅콘테스트/model/version2/voting_leave_clf_2_version2.pkl')\n",
    "voting_amount_clf_2 = joblib.load('./빅콘테스트/model/version2/voting_amount_clf_2_version2.pkl')\n",
    "rf_leave_reg = joblib.load('./빅콘테스트/model/version2/rf_leave_reg_version2.pkl')\n",
    "rf_amount_sub_reg = joblib.load('./빅콘테스트/model/version2/rf_amount_sub_reg_version2.pkl')"
   ]
  },
  {
   "cell_type": "code",
   "execution_count": 97,
   "metadata": {},
   "outputs": [],
   "source": [
    "test_pred = predict(model1 = voting_leave_clf_2, model2 = voting_amount_clf_2,\n",
    "               model3 = rf_leave_reg, model4 = rf_amount_sub_reg, data = X_test)"
   ]
  },
  {
   "cell_type": "code",
   "execution_count": 98,
   "metadata": {},
   "outputs": [],
   "source": [
    "test_pred.to_csv('y_pred_ver2.csv', index = False)"
   ]
  },
  {
   "cell_type": "code",
   "execution_count": 99,
   "metadata": {},
   "outputs": [
    {
     "name": "stdout",
     "output_type": "stream",
     "text": [
      "3737.0070332179434\n"
     ]
    },
    {
     "data": {
      "text/plain": [
       "3737.0070332179434"
      ]
     },
     "execution_count": 99,
     "metadata": {},
     "output_type": "execute_result"
    }
   ],
   "source": [
    "score_function('y_pred_ver2.csv', 'true.csv')"
   ]
  },
  {
   "cell_type": "code",
   "execution_count": 100,
   "metadata": {},
   "outputs": [],
   "source": [
    "test1_pred = predict(model1 = voting_leave_clf_2, model2 = voting_amount_clf_2,\n",
    "               model3 = rf_leave_reg, model4 = rf_amount_sub_reg, data = X_test1)"
   ]
  },
  {
   "cell_type": "code",
   "execution_count": 101,
   "metadata": {},
   "outputs": [],
   "source": [
    "test2_pred = predict(model1 = voting_leave_clf_2, model2 = voting_amount_clf_2,\n",
    "               model3 = rf_leave_reg, model4 = rf_amount_sub_reg, data = X_test2)"
   ]
  },
  {
   "cell_type": "code",
   "execution_count": 102,
   "metadata": {},
   "outputs": [],
   "source": [
    "test1_pred.to_csv('test1_predict.csv', index = False)\n",
    "test2_pred.to_csv('test2_predict.csv', index = False)"
   ]
  },
  {
   "cell_type": "code",
   "execution_count": 111,
   "metadata": {},
   "outputs": [
    {
     "name": "stdout",
     "output_type": "stream",
     "text": [
      "0\n",
      "0\n",
      "0\n",
      "0\n"
     ]
    }
   ],
   "source": [
    "print((test1_pred['survival_time'] > 64).sum())\n",
    "print((test2_pred['survival_time'] > 64).sum())\n",
    "print((test1_pred['survival_time'] <= 0).sum())\n",
    "print((test2_pred['survival_time'] <= 0).sum())"
   ]
  },
  {
   "cell_type": "code",
   "execution_count": 113,
   "metadata": {},
   "outputs": [
    {
     "name": "stdout",
     "output_type": "stream",
     "text": [
      "0\n",
      "0\n"
     ]
    }
   ],
   "source": [
    "print((test1_pred['amount_spent'] < 0).sum())\n",
    "print((test2_pred['amount_spent'] < 0).sum())"
   ]
  },
  {
   "cell_type": "markdown",
   "metadata": {},
   "source": [
    "### 7"
   ]
  },
  {
   "cell_type": "code",
   "execution_count": 116,
   "metadata": {},
   "outputs": [],
   "source": [
    "voting_leave_clf_2 = joblib.load('./빅콘테스트/model/version2/voting_leave_clf_2_version2.pkl')\n",
    "voting_amount_clf_2 = joblib.load('./빅콘테스트/model/version2/voting_amount_clf_2_version2.pkl')\n",
    "rf_leave_reg = joblib.load('./빅콘테스트/model/version2/rf_leave_reg_version2.pkl')\n",
    "rf_amount_sub_reg = joblib.load('./빅콘테스트/model/version2/rf_amount_sub_reg_version2.pkl')"
   ]
  },
  {
   "cell_type": "code",
   "execution_count": 117,
   "metadata": {},
   "outputs": [],
   "source": [
    "test_pred = predict(model1 = voting_leave_clf_2, model2 = voting_amount_clf_2,\n",
    "               model3 = rf_leave_reg, model4 = rf_amount_sub_reg, data = X_test)"
   ]
  },
  {
   "cell_type": "code",
   "execution_count": 118,
   "metadata": {},
   "outputs": [],
   "source": [
    "test_pred.to_csv('y_pred_ver2.csv', index = False)"
   ]
  },
  {
   "cell_type": "code",
   "execution_count": 119,
   "metadata": {},
   "outputs": [
    {
     "name": "stdout",
     "output_type": "stream",
     "text": [
      "3737.0070332179434\n"
     ]
    },
    {
     "data": {
      "text/plain": [
       "3737.0070332179434"
      ]
     },
     "execution_count": 119,
     "metadata": {},
     "output_type": "execute_result"
    }
   ],
   "source": [
    "score_function('y_pred_ver2.csv', 'true.csv')"
   ]
  },
  {
   "cell_type": "code",
   "execution_count": 135,
   "metadata": {},
   "outputs": [],
   "source": [
    "test1_pred = predict(model1 = voting_leave_clf_2, model2 = voting_amount_clf_2,\n",
    "               model3 = rf_leave_reg, model4 = rf_amount_sub_reg, data = X_test1)"
   ]
  },
  {
   "cell_type": "code",
   "execution_count": 136,
   "metadata": {},
   "outputs": [],
   "source": [
    "test2_pred = predict(model1 = voting_leave_clf_2, model2 = voting_amount_clf_2,\n",
    "               model3 = rf_leave_reg, model4 = rf_amount_sub_reg, data = X_test2)"
   ]
  },
  {
   "cell_type": "code",
   "execution_count": 140,
   "metadata": {},
   "outputs": [
    {
     "name": "stderr",
     "output_type": "stream",
     "text": [
      "/home/user3/.conda/envs/hun/lib/python3.6/site-packages/ipykernel_launcher.py:1: SettingWithCopyWarning: \n",
      "A value is trying to be set on a copy of a slice from a DataFrame\n",
      "\n",
      "See the caveats in the documentation: http://pandas.pydata.org/pandas-docs/stable/indexing.html#indexing-view-versus-copy\n",
      "  \"\"\"Entry point for launching an IPython kernel.\n"
     ]
    }
   ],
   "source": [
    "test1_pred['amount_spent'][test1_pred['survival_time'] != 64] = 1"
   ]
  },
  {
   "cell_type": "code",
   "execution_count": 141,
   "metadata": {},
   "outputs": [
    {
     "name": "stderr",
     "output_type": "stream",
     "text": [
      "/home/user3/.conda/envs/hun/lib/python3.6/site-packages/ipykernel_launcher.py:1: SettingWithCopyWarning: \n",
      "A value is trying to be set on a copy of a slice from a DataFrame\n",
      "\n",
      "See the caveats in the documentation: http://pandas.pydata.org/pandas-docs/stable/indexing.html#indexing-view-versus-copy\n",
      "  \"\"\"Entry point for launching an IPython kernel.\n"
     ]
    }
   ],
   "source": [
    "test2_pred['amount_spent'][test2_pred['survival_time'] != 64] = 1"
   ]
  },
  {
   "cell_type": "code",
   "execution_count": 144,
   "metadata": {},
   "outputs": [],
   "source": [
    "test1_pred.to_csv('test1_predict.csv', index = False)\n",
    "test2_pred.to_csv('test2_predict.csv', index = False)"
   ]
  },
  {
   "cell_type": "markdown",
   "metadata": {},
   "source": [
    "### 8"
   ]
  },
  {
   "cell_type": "code",
   "execution_count": 145,
   "metadata": {},
   "outputs": [],
   "source": [
    "X_test_non_class = pd.read_csv('X_test_ver2_non_class.csv')\n",
    "X_test1_non_class = pd.read_csv('X_test1_ver2_non_class.csv')\n",
    "X_test2_non_class = pd.read_csv('X_test2_ver2_non_class.csv')"
   ]
  },
  {
   "cell_type": "code",
   "execution_count": 146,
   "metadata": {},
   "outputs": [],
   "source": [
    "voting_leave_non_class_clf_2 = joblib.load('./빅콘테스트/model/version2/voting_leave_non_class_clf_2_version2.pkl')\n",
    "voting_amount_non_class_clf_2 = joblib.load('./빅콘테스트/model/version2/voting_amount_non_class_clf_2_version2.pkl')\n",
    "rf_leave_non_class_reg = joblib.load('./빅콘테스트/model/version2/rf_leave_non_class_reg_version2.pkl')\n",
    "rf_amount_non_class_sub_reg = joblib.load('./빅콘테스트/model/version2/rf_amount_non_class_sub_reg_version2.pkl')"
   ]
  },
  {
   "cell_type": "code",
   "execution_count": 148,
   "metadata": {},
   "outputs": [],
   "source": [
    "test_pred = predict(model1 = voting_leave_non_class_clf_2, model2 = voting_amount_non_class_clf_2,\n",
    "               model3 = rf_leave_non_class_reg, model4 = rf_amount_non_class_sub_reg, data = X_test_non_class)"
   ]
  },
  {
   "cell_type": "code",
   "execution_count": 149,
   "metadata": {},
   "outputs": [],
   "source": [
    "test_pred.to_csv('y_pred_ver2.csv', index = False)"
   ]
  },
  {
   "cell_type": "code",
   "execution_count": 150,
   "metadata": {},
   "outputs": [
    {
     "name": "stdout",
     "output_type": "stream",
     "text": [
      "3726.1661498385643\n"
     ]
    },
    {
     "data": {
      "text/plain": [
       "3726.1661498385643"
      ]
     },
     "execution_count": 150,
     "metadata": {},
     "output_type": "execute_result"
    }
   ],
   "source": [
    "score_function('y_pred_ver2.csv', 'true.csv')"
   ]
  },
  {
   "cell_type": "code",
   "execution_count": 151,
   "metadata": {},
   "outputs": [],
   "source": [
    "test1_pred = predict(model1 = voting_leave_non_class_clf_2, model2 = voting_amount_non_class_clf_2,\n",
    "               model3 = rf_leave_non_class_reg, model4 = rf_amount_non_class_sub_reg, data = X_test1_non_class)"
   ]
  },
  {
   "cell_type": "code",
   "execution_count": 152,
   "metadata": {},
   "outputs": [],
   "source": [
    "test2_pred = predict(model1 = voting_leave_non_class_clf_2, model2 = voting_amount_non_class_clf_2,\n",
    "               model3 = rf_leave_non_class_reg, model4 = rf_amount_non_class_sub_reg, data = X_test2_non_class)"
   ]
  },
  {
   "cell_type": "code",
   "execution_count": 153,
   "metadata": {},
   "outputs": [
    {
     "name": "stdout",
     "output_type": "stream",
     "text": [
      "0\n",
      "0\n",
      "0\n",
      "0\n"
     ]
    }
   ],
   "source": [
    "print((test1_pred['survival_time'] > 64).sum())\n",
    "print((test2_pred['survival_time'] > 64).sum())\n",
    "print((test1_pred['survival_time'] <= 0).sum())\n",
    "print((test2_pred['survival_time'] <= 0).sum())"
   ]
  },
  {
   "cell_type": "code",
   "execution_count": 154,
   "metadata": {},
   "outputs": [
    {
     "name": "stdout",
     "output_type": "stream",
     "text": [
      "0\n",
      "0\n"
     ]
    }
   ],
   "source": [
    "print((test1_pred['amount_spent'] < 0).sum())\n",
    "print((test2_pred['amount_spent'] < 0).sum())"
   ]
  },
  {
   "cell_type": "code",
   "execution_count": 155,
   "metadata": {},
   "outputs": [],
   "source": [
    "test1_pred.to_csv('test1_predict.csv', index = False)\n",
    "test2_pred.to_csv('test2_predict.csv', index = False)"
   ]
  },
  {
   "cell_type": "markdown",
   "metadata": {},
   "source": [
    "### 9(플레이 시간 변동 O)"
   ]
  },
  {
   "cell_type": "code",
   "execution_count": 160,
   "metadata": {},
   "outputs": [],
   "source": [
    "X_test_fluctuation = pd.read_csv('X_test_ver2_fluctuation.csv')\n",
    "X_test1_fluctuation = pd.read_csv('X_test1_ver2_fluctuation.csv')\n",
    "X_test2_fluctuation = pd.read_csv('X_test2_ver2_fluctuation.csv')"
   ]
  },
  {
   "cell_type": "code",
   "execution_count": 164,
   "metadata": {},
   "outputs": [],
   "source": [
    "voting_leave_fluctuation_clf_2 = joblib.load('./빅콘테스트/model/version2/voting_leave_fluctuation_clf_2_version2.pkl')\n",
    "voting_amount_fluctuation_clf_2 = joblib.load('./빅콘테스트/model/version2/voting_amount_fluctuation_clf_2_version2.pkl')\n",
    "rf_leave_fluctuation_reg = joblib.load('./빅콘테스트/model/version2/rf_leave_fluctuation_reg_version2.pkl')\n",
    "rf_amount_fluctuation_sub_reg = joblib.load('./빅콘테스트/model/version2/rf_amount_fluctuation_sub_reg_version2.pkl')"
   ]
  },
  {
   "cell_type": "code",
   "execution_count": 165,
   "metadata": {},
   "outputs": [],
   "source": [
    "test_pred = predict(model1 = voting_leave_fluctuation_clf_2, model2 = voting_amount_fluctuation_clf_2,\n",
    "               model3 = rf_leave_fluctuation_reg, model4 = rf_amount_fluctuation_sub_reg, data = X_test_fluctuation)"
   ]
  },
  {
   "cell_type": "code",
   "execution_count": 166,
   "metadata": {},
   "outputs": [],
   "source": [
    "test_pred.to_csv('y_pred_ver2.csv', index = False)"
   ]
  },
  {
   "cell_type": "code",
   "execution_count": 167,
   "metadata": {},
   "outputs": [
    {
     "name": "stdout",
     "output_type": "stream",
     "text": [
      "3825.7068673818894\n"
     ]
    },
    {
     "data": {
      "text/plain": [
       "3825.7068673818894"
      ]
     },
     "execution_count": 167,
     "metadata": {},
     "output_type": "execute_result"
    }
   ],
   "source": [
    "score_function('y_pred_ver2.csv', 'true.csv')"
   ]
  },
  {
   "cell_type": "code",
   "execution_count": 168,
   "metadata": {},
   "outputs": [],
   "source": [
    "test1_pred = predict(model1 = voting_leave_fluctuation_clf_2, model2 = voting_amount_fluctuation_clf_2,\n",
    "               model3 = rf_leave_fluctuation_reg, model4 = rf_amount_fluctuation_sub_reg, data = X_test1_fluctuation)"
   ]
  },
  {
   "cell_type": "code",
   "execution_count": 169,
   "metadata": {},
   "outputs": [],
   "source": [
    "test2_pred = predict(model1 = voting_leave_fluctuation_clf_2, model2 = voting_amount_fluctuation_clf_2,\n",
    "               model3 = rf_leave_fluctuation_reg, model4 = rf_amount_fluctuation_sub_reg, data = X_test2_fluctuation)"
   ]
  },
  {
   "cell_type": "code",
   "execution_count": 170,
   "metadata": {},
   "outputs": [
    {
     "name": "stdout",
     "output_type": "stream",
     "text": [
      "0\n",
      "0\n",
      "0\n",
      "0\n"
     ]
    }
   ],
   "source": [
    "print((test1_pred['survival_time'] > 64).sum())\n",
    "print((test2_pred['survival_time'] > 64).sum())\n",
    "print((test1_pred['survival_time'] <= 0).sum())\n",
    "print((test2_pred['survival_time'] <= 0).sum())"
   ]
  },
  {
   "cell_type": "code",
   "execution_count": 171,
   "metadata": {},
   "outputs": [
    {
     "name": "stdout",
     "output_type": "stream",
     "text": [
      "0\n",
      "0\n"
     ]
    }
   ],
   "source": [
    "print((test1_pred['amount_spent'] < 0).sum())\n",
    "print((test2_pred['amount_spent'] < 0).sum())"
   ]
  },
  {
   "cell_type": "code",
   "execution_count": 172,
   "metadata": {},
   "outputs": [],
   "source": [
    "test1_pred.to_csv('test1_predict.csv', index = False)\n",
    "test2_pred.to_csv('test2_predict.csv', index = False)"
   ]
  },
  {
   "cell_type": "markdown",
   "metadata": {},
   "source": [
    "### 10(유저별 접속일수, 서버수, 캐릭터수)"
   ]
  },
  {
   "cell_type": "code",
   "execution_count": 173,
   "metadata": {},
   "outputs": [],
   "source": [
    "X_test_fluctuation = pd.read_csv('X_test_ver2_fluctuation.csv')\n",
    "X_test1_fluctuation = pd.read_csv('X_test1_ver2_fluctuation.csv')\n",
    "X_test2_fluctuation = pd.read_csv('X_test2_ver2_fluctuation.csv')"
   ]
  },
  {
   "cell_type": "code",
   "execution_count": 174,
   "metadata": {},
   "outputs": [],
   "source": [
    "voting_leave_fluctuation_clf_2 = joblib.load('./빅콘테스트/model/version2/voting_leave_fluctuation_clf_2_version2.pkl')\n",
    "voting_amount_fluctuation_clf_2 = joblib.load('./빅콘테스트/model/version2/voting_amount_fluctuation_clf_2_version2.pkl')\n",
    "rf_leave_fluctuation_reg = joblib.load('./빅콘테스트/model/version2/rf_leave_fluctuation_reg_version2.pkl')\n",
    "rf_amount_fluctuation_sub_reg = joblib.load('./빅콘테스트/model/version2/rf_amount_fluctuation_sub_reg_version2.pkl')"
   ]
  },
  {
   "cell_type": "code",
   "execution_count": 175,
   "metadata": {},
   "outputs": [],
   "source": [
    "test_pred = predict(model1 = voting_leave_fluctuation_clf_2, model2 = voting_amount_fluctuation_clf_2,\n",
    "               model3 = rf_leave_fluctuation_reg, model4 = rf_amount_fluctuation_sub_reg, data = X_test_fluctuation)"
   ]
  },
  {
   "cell_type": "code",
   "execution_count": 176,
   "metadata": {},
   "outputs": [],
   "source": [
    "test_pred.to_csv('y_pred_ver2.csv', index = False)"
   ]
  },
  {
   "cell_type": "code",
   "execution_count": 177,
   "metadata": {},
   "outputs": [
    {
     "name": "stdout",
     "output_type": "stream",
     "text": [
      "3742.9571345701715\n"
     ]
    },
    {
     "data": {
      "text/plain": [
       "3742.9571345701715"
      ]
     },
     "execution_count": 177,
     "metadata": {},
     "output_type": "execute_result"
    }
   ],
   "source": [
    "score_function('y_pred_ver2.csv', 'true.csv')"
   ]
  },
  {
   "cell_type": "code",
   "execution_count": 178,
   "metadata": {},
   "outputs": [],
   "source": [
    "test1_pred = predict(model1 = voting_leave_fluctuation_clf_2, model2 = voting_amount_fluctuation_clf_2,\n",
    "               model3 = rf_leave_fluctuation_reg, model4 = rf_amount_fluctuation_sub_reg, data = X_test1_fluctuation)"
   ]
  },
  {
   "cell_type": "code",
   "execution_count": 179,
   "metadata": {},
   "outputs": [],
   "source": [
    "test2_pred = predict(model1 = voting_leave_fluctuation_clf_2, model2 = voting_amount_fluctuation_clf_2,\n",
    "               model3 = rf_leave_fluctuation_reg, model4 = rf_amount_fluctuation_sub_reg, data = X_test2_fluctuation)"
   ]
  },
  {
   "cell_type": "code",
   "execution_count": 180,
   "metadata": {},
   "outputs": [
    {
     "name": "stdout",
     "output_type": "stream",
     "text": [
      "0\n",
      "0\n",
      "0\n",
      "0\n"
     ]
    }
   ],
   "source": [
    "print((test1_pred['survival_time'] > 64).sum())\n",
    "print((test2_pred['survival_time'] > 64).sum())\n",
    "print((test1_pred['survival_time'] <= 0).sum())\n",
    "print((test2_pred['survival_time'] <= 0).sum())"
   ]
  },
  {
   "cell_type": "code",
   "execution_count": 181,
   "metadata": {},
   "outputs": [
    {
     "name": "stdout",
     "output_type": "stream",
     "text": [
      "0\n",
      "0\n"
     ]
    }
   ],
   "source": [
    "print((test1_pred['amount_spent'] < 0).sum())\n",
    "print((test2_pred['amount_spent'] < 0).sum())"
   ]
  },
  {
   "cell_type": "code",
   "execution_count": 182,
   "metadata": {},
   "outputs": [],
   "source": [
    "test1_pred.to_csv('test1_predict.csv', index = False)\n",
    "test2_pred.to_csv('test2_predict.csv', index = False)"
   ]
  },
  {
   "cell_type": "markdown",
   "metadata": {},
   "source": [
    "### 11(불필요한 주차별 데이터 28일 평균)"
   ]
  },
  {
   "cell_type": "code",
   "execution_count": 204,
   "metadata": {},
   "outputs": [],
   "source": [
    "X_test_fluctuation = pd.read_csv('X_test_ver2_fluctuation.csv')\n",
    "X_test1_fluctuation = pd.read_csv('X_test1_ver2_fluctuation.csv')\n",
    "X_test2_fluctuation = pd.read_csv('X_test2_ver2_fluctuation.csv')"
   ]
  },
  {
   "cell_type": "code",
   "execution_count": 205,
   "metadata": {},
   "outputs": [],
   "source": [
    "voting_leave_fluctuation_clf_2 = joblib.load('./빅콘테스트/model/version2/voting_leave_fluctuation_clf_2_version2.pkl')\n",
    "voting_amount_fluctuation_clf_2 = joblib.load('./빅콘테스트/model/version2/voting_amount_fluctuation_clf_2_version2.pkl')\n",
    "rf_leave_fluctuation_reg = joblib.load('./빅콘테스트/model/version2/rf_leave_fluctuation_reg_version2.pkl')\n",
    "rf_amount_fluctuation_sub_reg = joblib.load('./빅콘테스트/model/version2/rf_amount_fluctuation_sub_reg_version2.pkl')"
   ]
  },
  {
   "cell_type": "code",
   "execution_count": 206,
   "metadata": {},
   "outputs": [],
   "source": [
    "test_pred = predict(model1 = voting_leave_fluctuation_clf_2, model2 = voting_amount_fluctuation_clf_2,\n",
    "               model3 = rf_leave_fluctuation_reg, model4 = rf_amount_fluctuation_sub_reg, data = X_test_fluctuation)"
   ]
  },
  {
   "cell_type": "code",
   "execution_count": 207,
   "metadata": {},
   "outputs": [],
   "source": [
    "test_pred.to_csv('y_pred_ver2.csv', index = False)"
   ]
  },
  {
   "cell_type": "code",
   "execution_count": 208,
   "metadata": {},
   "outputs": [
    {
     "name": "stdout",
     "output_type": "stream",
     "text": [
      "3787.889418967064\n"
     ]
    },
    {
     "data": {
      "text/plain": [
       "3787.889418967064"
      ]
     },
     "execution_count": 208,
     "metadata": {},
     "output_type": "execute_result"
    }
   ],
   "source": [
    "score_function('y_pred_ver2.csv', 'true.csv')"
   ]
  },
  {
   "cell_type": "code",
   "execution_count": 209,
   "metadata": {},
   "outputs": [],
   "source": [
    "test1_pred = predict(model1 = voting_leave_fluctuation_clf_2, model2 = voting_amount_fluctuation_clf_2,\n",
    "               model3 = rf_leave_fluctuation_reg, model4 = rf_amount_fluctuation_sub_reg, data = X_test1_fluctuation)"
   ]
  },
  {
   "cell_type": "code",
   "execution_count": 210,
   "metadata": {},
   "outputs": [],
   "source": [
    "test2_pred = predict(model1 = voting_leave_fluctuation_clf_2, model2 = voting_amount_fluctuation_clf_2,\n",
    "               model3 = rf_leave_fluctuation_reg, model4 = rf_amount_fluctuation_sub_reg, data = X_test2_fluctuation)"
   ]
  },
  {
   "cell_type": "code",
   "execution_count": 211,
   "metadata": {},
   "outputs": [
    {
     "name": "stdout",
     "output_type": "stream",
     "text": [
      "0\n",
      "0\n",
      "0\n",
      "0\n"
     ]
    }
   ],
   "source": [
    "print((test1_pred['survival_time'] > 64).sum())\n",
    "print((test2_pred['survival_time'] > 64).sum())\n",
    "print((test1_pred['survival_time'] <= 0).sum())\n",
    "print((test2_pred['survival_time'] <= 0).sum())"
   ]
  },
  {
   "cell_type": "code",
   "execution_count": 212,
   "metadata": {},
   "outputs": [
    {
     "name": "stdout",
     "output_type": "stream",
     "text": [
      "0\n",
      "0\n"
     ]
    }
   ],
   "source": [
    "print((test1_pred['amount_spent'] < 0).sum())\n",
    "print((test2_pred['amount_spent'] < 0).sum())"
   ]
  },
  {
   "cell_type": "code",
   "execution_count": 213,
   "metadata": {},
   "outputs": [],
   "source": [
    "test1_pred.to_csv('test1_predict.csv', index = False)\n",
    "test2_pred.to_csv('test2_predict.csv', index = False)"
   ]
  },
  {
   "cell_type": "markdown",
   "metadata": {},
   "source": [
    "### 12(플레이 시간 변동 X)"
   ]
  },
  {
   "cell_type": "code",
   "execution_count": 194,
   "metadata": {},
   "outputs": [],
   "source": [
    "X_test_fluctuation = pd.read_csv('X_test_ver2_non_fluctuation.csv')\n",
    "X_test1_fluctuation = pd.read_csv('X_test1_ver2_non_fluctuation.csv')\n",
    "X_test2_fluctuation = pd.read_csv('X_test2_ver2_non_fluctuation.csv')"
   ]
  },
  {
   "cell_type": "code",
   "execution_count": 195,
   "metadata": {},
   "outputs": [],
   "source": [
    "voting_leave_fluctuation_clf_2 = joblib.load('./빅콘테스트/model/version2/voting_leave_fluctuation_clf_2_version2.pkl')\n",
    "voting_amount_fluctuation_clf_2 = joblib.load('./빅콘테스트/model/version2/voting_amount_fluctuation_clf_2_version2.pkl')\n",
    "rf_leave_fluctuation_reg = joblib.load('./빅콘테스트/model/version2/rf_leave_fluctuation_reg_version2.pkl')\n",
    "rf_amount_fluctuation_sub_reg = joblib.load('./빅콘테스트/model/version2/rf_amount_fluctuation_sub_reg_version2.pkl')"
   ]
  },
  {
   "cell_type": "code",
   "execution_count": 196,
   "metadata": {},
   "outputs": [],
   "source": [
    "test_pred = predict(model1 = voting_leave_fluctuation_clf_2, model2 = voting_amount_fluctuation_clf_2,\n",
    "               model3 = rf_leave_fluctuation_reg, model4 = rf_amount_fluctuation_sub_reg, data = X_test_fluctuation)"
   ]
  },
  {
   "cell_type": "code",
   "execution_count": 197,
   "metadata": {},
   "outputs": [],
   "source": [
    "test_pred.to_csv('y_pred_ver2.csv', index = False)"
   ]
  },
  {
   "cell_type": "code",
   "execution_count": 198,
   "metadata": {},
   "outputs": [
    {
     "name": "stdout",
     "output_type": "stream",
     "text": [
      "3728.215010730838\n"
     ]
    },
    {
     "data": {
      "text/plain": [
       "3728.215010730838"
      ]
     },
     "execution_count": 198,
     "metadata": {},
     "output_type": "execute_result"
    }
   ],
   "source": [
    "score_function('y_pred_ver2.csv', 'true.csv')"
   ]
  },
  {
   "cell_type": "code",
   "execution_count": 199,
   "metadata": {},
   "outputs": [],
   "source": [
    "test1_pred = predict(model1 = voting_leave_fluctuation_clf_2, model2 = voting_amount_fluctuation_clf_2,\n",
    "               model3 = rf_leave_fluctuation_reg, model4 = rf_amount_fluctuation_sub_reg, data = X_test1_fluctuation)"
   ]
  },
  {
   "cell_type": "code",
   "execution_count": 200,
   "metadata": {},
   "outputs": [],
   "source": [
    "test2_pred = predict(model1 = voting_leave_fluctuation_clf_2, model2 = voting_amount_fluctuation_clf_2,\n",
    "               model3 = rf_leave_fluctuation_reg, model4 = rf_amount_fluctuation_sub_reg, data = X_test2_fluctuation)"
   ]
  },
  {
   "cell_type": "code",
   "execution_count": 201,
   "metadata": {},
   "outputs": [
    {
     "name": "stdout",
     "output_type": "stream",
     "text": [
      "0\n",
      "0\n",
      "0\n",
      "0\n"
     ]
    }
   ],
   "source": [
    "print((test1_pred['survival_time'] > 64).sum())\n",
    "print((test2_pred['survival_time'] > 64).sum())\n",
    "print((test1_pred['survival_time'] <= 0).sum())\n",
    "print((test2_pred['survival_time'] <= 0).sum())"
   ]
  },
  {
   "cell_type": "code",
   "execution_count": 202,
   "metadata": {},
   "outputs": [
    {
     "name": "stdout",
     "output_type": "stream",
     "text": [
      "0\n",
      "0\n"
     ]
    }
   ],
   "source": [
    "print((test1_pred['amount_spent'] < 0).sum())\n",
    "print((test2_pred['amount_spent'] < 0).sum())"
   ]
  },
  {
   "cell_type": "code",
   "execution_count": 203,
   "metadata": {},
   "outputs": [],
   "source": [
    "test1_pred.to_csv('test1_predict.csv', index = False)\n",
    "test2_pred.to_csv('test2_predict.csv', index = False)"
   ]
  },
  {
   "cell_type": "markdown",
   "metadata": {},
   "source": [
    "### 14(주차별 -> 합, 평균, 표준편차)"
   ]
  },
  {
   "cell_type": "code",
   "execution_count": 273,
   "metadata": {},
   "outputs": [],
   "source": [
    "X_test_fluctuation = pd.read_csv('X_test_ver2_fluctuation.csv')\n",
    "X_test1_fluctuation = pd.read_csv('X_test1_ver2_fluctuation.csv')\n",
    "X_test2_fluctuation = pd.read_csv('X_test2_ver2_fluctuation.csv')"
   ]
  },
  {
   "cell_type": "code",
   "execution_count": 274,
   "metadata": {},
   "outputs": [],
   "source": [
    "voting_leave_fluctuation_clf_2 = joblib.load('./빅콘테스트/model/version2/voting_leave_fluctuation_clf_2_version2.pkl')\n",
    "voting_amount_fluctuation_clf_2 = joblib.load('./빅콘테스트/model/version2/voting_amount_fluctuation_clf_2_version2.pkl')\n",
    "rf_leave_fluctuation_reg = joblib.load('./빅콘테스트/model/version2/rf_leave_fluctuation_reg_version2.pkl')\n",
    "rf_amount_fluctuation_sub_reg = joblib.load('./빅콘테스트/model/version2/rf_amount_fluctuation_sub_reg_version2.pkl')"
   ]
  },
  {
   "cell_type": "code",
   "execution_count": 275,
   "metadata": {},
   "outputs": [],
   "source": [
    "test_pred = predict(model1 = voting_leave_fluctuation_clf_2, model2 = voting_amount_fluctuation_clf_2,\n",
    "               model3 = rf_leave_fluctuation_reg, model4 = rf_amount_fluctuation_sub_reg, data = X_test_fluctuation)"
   ]
  },
  {
   "cell_type": "code",
   "execution_count": 276,
   "metadata": {},
   "outputs": [],
   "source": [
    "test_pred.to_csv('y_pred_ver2.csv', index = False)"
   ]
  },
  {
   "cell_type": "code",
   "execution_count": 277,
   "metadata": {},
   "outputs": [
    {
     "name": "stdout",
     "output_type": "stream",
     "text": [
      "3885.6601248006496\n"
     ]
    },
    {
     "data": {
      "text/plain": [
       "3885.6601248006496"
      ]
     },
     "execution_count": 277,
     "metadata": {},
     "output_type": "execute_result"
    }
   ],
   "source": [
    "score_function('y_pred_ver2.csv', 'true.csv')"
   ]
  },
  {
   "cell_type": "code",
   "execution_count": 278,
   "metadata": {},
   "outputs": [],
   "source": [
    "test1_pred = predict(model1 = voting_leave_fluctuation_clf_2, model2 = voting_amount_fluctuation_clf_2,\n",
    "               model3 = rf_leave_fluctuation_reg, model4 = rf_amount_fluctuation_sub_reg, data = X_test1_fluctuation)"
   ]
  },
  {
   "cell_type": "code",
   "execution_count": 279,
   "metadata": {},
   "outputs": [],
   "source": [
    "test2_pred = predict(model1 = voting_leave_fluctuation_clf_2, model2 = voting_amount_fluctuation_clf_2,\n",
    "               model3 = rf_leave_fluctuation_reg, model4 = rf_amount_fluctuation_sub_reg, data = X_test2_fluctuation)"
   ]
  },
  {
   "cell_type": "code",
   "execution_count": 280,
   "metadata": {},
   "outputs": [
    {
     "name": "stdout",
     "output_type": "stream",
     "text": [
      "0\n",
      "0\n",
      "0\n",
      "0\n"
     ]
    }
   ],
   "source": [
    "print((test1_pred['survival_time'] > 64).sum())\n",
    "print((test2_pred['survival_time'] > 64).sum())\n",
    "print((test1_pred['survival_time'] <= 0).sum())\n",
    "print((test2_pred['survival_time'] <= 0).sum())"
   ]
  },
  {
   "cell_type": "code",
   "execution_count": 281,
   "metadata": {},
   "outputs": [
    {
     "name": "stdout",
     "output_type": "stream",
     "text": [
      "0\n",
      "0\n"
     ]
    }
   ],
   "source": [
    "print((test1_pred['amount_spent'] < 0).sum())\n",
    "print((test2_pred['amount_spent'] < 0).sum())"
   ]
  },
  {
   "cell_type": "code",
   "execution_count": 282,
   "metadata": {},
   "outputs": [],
   "source": [
    "test1_pred.to_csv('test1_predict.csv', index = False)\n",
    "test2_pred.to_csv('test2_predict.csv', index = False)"
   ]
  },
  {
   "cell_type": "markdown",
   "metadata": {},
   "source": [
    "### 15(합, 평균, 표준편차, 평활)"
   ]
  },
  {
   "cell_type": "code",
   "execution_count": 293,
   "metadata": {},
   "outputs": [],
   "source": [
    "X_test_fluctuation = pd.read_csv('X_test_ver2_fluctuation.csv')\n",
    "X_test1_fluctuation = pd.read_csv('X_test1_ver2_fluctuation.csv')\n",
    "X_test2_fluctuation = pd.read_csv('X_test2_ver2_fluctuation.csv')"
   ]
  },
  {
   "cell_type": "code",
   "execution_count": 294,
   "metadata": {},
   "outputs": [],
   "source": [
    "voting_leave_fluctuation_clf_2 = joblib.load('./빅콘테스트/model/version2/voting_leave_fluctuation_clf_2_version2.pkl')\n",
    "voting_amount_fluctuation_clf_2 = joblib.load('./빅콘테스트/model/version2/voting_amount_fluctuation_clf_2_version2.pkl')\n",
    "rf_leave_fluctuation_reg = joblib.load('./빅콘테스트/model/version2/rf_leave_fluctuation_reg_version2.pkl')\n",
    "rf_amount_fluctuation_sub_reg = joblib.load('./빅콘테스트/model/version2/rf_amount_fluctuation_sub_reg_version2.pkl')"
   ]
  },
  {
   "cell_type": "code",
   "execution_count": 295,
   "metadata": {},
   "outputs": [],
   "source": [
    "test_pred = predict(model1 = voting_leave_fluctuation_clf_2, model2 = voting_amount_fluctuation_clf_2,\n",
    "               model3 = rf_leave_fluctuation_reg, model4 = rf_amount_fluctuation_sub_reg, data = X_test_fluctuation)"
   ]
  },
  {
   "cell_type": "code",
   "execution_count": 296,
   "metadata": {},
   "outputs": [],
   "source": [
    "test_pred.to_csv('y_pred_ver2.csv', index = False)"
   ]
  },
  {
   "cell_type": "code",
   "execution_count": 297,
   "metadata": {},
   "outputs": [
    {
     "name": "stdout",
     "output_type": "stream",
     "text": [
      "3952.2757757732365\n"
     ]
    },
    {
     "data": {
      "text/plain": [
       "3952.2757757732365"
      ]
     },
     "execution_count": 297,
     "metadata": {},
     "output_type": "execute_result"
    }
   ],
   "source": [
    "score_function('y_pred_ver2.csv', 'true.csv')"
   ]
  },
  {
   "cell_type": "code",
   "execution_count": 298,
   "metadata": {},
   "outputs": [],
   "source": [
    "test1_pred = predict(model1 = voting_leave_fluctuation_clf_2, model2 = voting_amount_fluctuation_clf_2,\n",
    "               model3 = rf_leave_fluctuation_reg, model4 = rf_amount_fluctuation_sub_reg, data = X_test1_fluctuation)"
   ]
  },
  {
   "cell_type": "code",
   "execution_count": 299,
   "metadata": {},
   "outputs": [],
   "source": [
    "test2_pred = predict(model1 = voting_leave_fluctuation_clf_2, model2 = voting_amount_fluctuation_clf_2,\n",
    "               model3 = rf_leave_fluctuation_reg, model4 = rf_amount_fluctuation_sub_reg, data = X_test2_fluctuation)"
   ]
  },
  {
   "cell_type": "code",
   "execution_count": 300,
   "metadata": {},
   "outputs": [
    {
     "name": "stdout",
     "output_type": "stream",
     "text": [
      "0\n",
      "0\n",
      "0\n",
      "0\n"
     ]
    }
   ],
   "source": [
    "print((test1_pred['survival_time'] > 64).sum())\n",
    "print((test2_pred['survival_time'] > 64).sum())\n",
    "print((test1_pred['survival_time'] <= 0).sum())\n",
    "print((test2_pred['survival_time'] <= 0).sum())"
   ]
  },
  {
   "cell_type": "code",
   "execution_count": 301,
   "metadata": {},
   "outputs": [
    {
     "name": "stdout",
     "output_type": "stream",
     "text": [
      "0\n",
      "0\n"
     ]
    }
   ],
   "source": [
    "print((test1_pred['amount_spent'] < 0).sum())\n",
    "print((test2_pred['amount_spent'] < 0).sum())"
   ]
  },
  {
   "cell_type": "code",
   "execution_count": 302,
   "metadata": {},
   "outputs": [],
   "source": [
    "test1_pred.to_csv('test1_predict.csv', index = False)\n",
    "test2_pred.to_csv('test2_predict.csv', index = False)"
   ]
  },
  {
   "cell_type": "markdown",
   "metadata": {},
   "source": [
    "### 16(불필요한 주차별 데이터 28일 평균, 평활)"
   ]
  },
  {
   "cell_type": "code",
   "execution_count": 303,
   "metadata": {},
   "outputs": [],
   "source": [
    "X_test_fluctuation = pd.read_csv('X_test_ver2_fluctuation.csv')\n",
    "X_test1_fluctuation = pd.read_csv('X_test1_ver2_fluctuation.csv')\n",
    "X_test2_fluctuation = pd.read_csv('X_test2_ver2_fluctuation.csv')"
   ]
  },
  {
   "cell_type": "code",
   "execution_count": 304,
   "metadata": {},
   "outputs": [],
   "source": [
    "voting_leave_fluctuation_clf_2 = joblib.load('./빅콘테스트/model/version2/voting_leave_fluctuation_clf_2_version2.pkl')\n",
    "voting_amount_fluctuation_clf_2 = joblib.load('./빅콘테스트/model/version2/voting_amount_fluctuation_clf_2_version2.pkl')\n",
    "rf_leave_fluctuation_reg = joblib.load('./빅콘테스트/model/version2/rf_leave_fluctuation_reg_version2.pkl')\n",
    "rf_amount_fluctuation_sub_reg = joblib.load('./빅콘테스트/model/version2/rf_amount_fluctuation_sub_reg_version2.pkl')"
   ]
  },
  {
   "cell_type": "code",
   "execution_count": 305,
   "metadata": {},
   "outputs": [],
   "source": [
    "test_pred = predict(model1 = voting_leave_fluctuation_clf_2, model2 = voting_amount_fluctuation_clf_2,\n",
    "               model3 = rf_leave_fluctuation_reg, model4 = rf_amount_fluctuation_sub_reg, data = X_test_fluctuation)"
   ]
  },
  {
   "cell_type": "code",
   "execution_count": 306,
   "metadata": {},
   "outputs": [],
   "source": [
    "test_pred.to_csv('y_pred_ver2.csv', index = False)"
   ]
  },
  {
   "cell_type": "code",
   "execution_count": 307,
   "metadata": {},
   "outputs": [
    {
     "name": "stdout",
     "output_type": "stream",
     "text": [
      "3847.6879222350726\n"
     ]
    },
    {
     "data": {
      "text/plain": [
       "3847.6879222350726"
      ]
     },
     "execution_count": 307,
     "metadata": {},
     "output_type": "execute_result"
    }
   ],
   "source": [
    "score_function('y_pred_ver2.csv', 'true.csv')"
   ]
  },
  {
   "cell_type": "code",
   "execution_count": 308,
   "metadata": {},
   "outputs": [],
   "source": [
    "test1_pred = predict(model1 = voting_leave_fluctuation_clf_2, model2 = voting_amount_fluctuation_clf_2,\n",
    "               model3 = rf_leave_fluctuation_reg, model4 = rf_amount_fluctuation_sub_reg, data = X_test1_fluctuation)"
   ]
  },
  {
   "cell_type": "code",
   "execution_count": 309,
   "metadata": {},
   "outputs": [],
   "source": [
    "test2_pred = predict(model1 = voting_leave_fluctuation_clf_2, model2 = voting_amount_fluctuation_clf_2,\n",
    "               model3 = rf_leave_fluctuation_reg, model4 = rf_amount_fluctuation_sub_reg, data = X_test2_fluctuation)"
   ]
  },
  {
   "cell_type": "code",
   "execution_count": 310,
   "metadata": {},
   "outputs": [
    {
     "name": "stdout",
     "output_type": "stream",
     "text": [
      "0\n",
      "0\n",
      "0\n",
      "0\n"
     ]
    }
   ],
   "source": [
    "print((test1_pred['survival_time'] > 64).sum())\n",
    "print((test2_pred['survival_time'] > 64).sum())\n",
    "print((test1_pred['survival_time'] <= 0).sum())\n",
    "print((test2_pred['survival_time'] <= 0).sum())"
   ]
  },
  {
   "cell_type": "code",
   "execution_count": 311,
   "metadata": {},
   "outputs": [
    {
     "name": "stdout",
     "output_type": "stream",
     "text": [
      "0\n",
      "0\n"
     ]
    }
   ],
   "source": [
    "print((test1_pred['amount_spent'] < 0).sum())\n",
    "print((test2_pred['amount_spent'] < 0).sum())"
   ]
  },
  {
   "cell_type": "code",
   "execution_count": 312,
   "metadata": {},
   "outputs": [],
   "source": [
    "test1_pred.to_csv('test1_predict.csv', index = False)\n",
    "test2_pred.to_csv('test2_predict.csv', index = False)"
   ]
  },
  {
   "cell_type": "markdown",
   "metadata": {},
   "source": [
    "### 17(불필요한 주차별 데이터 28일 평균, 평활, combat data는 주차별로)"
   ]
  },
  {
   "cell_type": "code",
   "execution_count": 313,
   "metadata": {},
   "outputs": [],
   "source": [
    "X_test_fluctuation = pd.read_csv('X_test_ver2_fluctuation.csv')\n",
    "X_test1_fluctuation = pd.read_csv('X_test1_ver2_fluctuation.csv')\n",
    "X_test2_fluctuation = pd.read_csv('X_test2_ver2_fluctuation.csv')"
   ]
  },
  {
   "cell_type": "code",
   "execution_count": 314,
   "metadata": {},
   "outputs": [],
   "source": [
    "voting_leave_fluctuation_clf_2 = joblib.load('./빅콘테스트/model/version2/voting_leave_fluctuation_clf_2_version2.pkl')\n",
    "voting_amount_fluctuation_clf_2 = joblib.load('./빅콘테스트/model/version2/voting_amount_fluctuation_clf_2_version2.pkl')\n",
    "rf_leave_fluctuation_reg = joblib.load('./빅콘테스트/model/version2/rf_leave_fluctuation_reg_version2.pkl')\n",
    "rf_amount_fluctuation_sub_reg = joblib.load('./빅콘테스트/model/version2/rf_amount_fluctuation_sub_reg_version2.pkl')"
   ]
  },
  {
   "cell_type": "code",
   "execution_count": 315,
   "metadata": {},
   "outputs": [],
   "source": [
    "test_pred = predict(model1 = voting_leave_fluctuation_clf_2, model2 = voting_amount_fluctuation_clf_2,\n",
    "               model3 = rf_leave_fluctuation_reg, model4 = rf_amount_fluctuation_sub_reg, data = X_test_fluctuation)"
   ]
  },
  {
   "cell_type": "code",
   "execution_count": 316,
   "metadata": {},
   "outputs": [],
   "source": [
    "test_pred.to_csv('y_pred_ver2.csv', index = False)"
   ]
  },
  {
   "cell_type": "code",
   "execution_count": 317,
   "metadata": {},
   "outputs": [
    {
     "name": "stdout",
     "output_type": "stream",
     "text": [
      "3815.231264301299\n"
     ]
    },
    {
     "data": {
      "text/plain": [
       "3815.231264301299"
      ]
     },
     "execution_count": 317,
     "metadata": {},
     "output_type": "execute_result"
    }
   ],
   "source": [
    "score_function('y_pred_ver2.csv', 'true.csv')"
   ]
  },
  {
   "cell_type": "code",
   "execution_count": 318,
   "metadata": {},
   "outputs": [],
   "source": [
    "test1_pred = predict(model1 = voting_leave_fluctuation_clf_2, model2 = voting_amount_fluctuation_clf_2,\n",
    "               model3 = rf_leave_fluctuation_reg, model4 = rf_amount_fluctuation_sub_reg, data = X_test1_fluctuation)"
   ]
  },
  {
   "cell_type": "code",
   "execution_count": 319,
   "metadata": {},
   "outputs": [],
   "source": [
    "test2_pred = predict(model1 = voting_leave_fluctuation_clf_2, model2 = voting_amount_fluctuation_clf_2,\n",
    "               model3 = rf_leave_fluctuation_reg, model4 = rf_amount_fluctuation_sub_reg, data = X_test2_fluctuation)"
   ]
  },
  {
   "cell_type": "code",
   "execution_count": 320,
   "metadata": {},
   "outputs": [
    {
     "name": "stdout",
     "output_type": "stream",
     "text": [
      "0\n",
      "0\n",
      "0\n",
      "0\n"
     ]
    }
   ],
   "source": [
    "print((test1_pred['survival_time'] > 64).sum())\n",
    "print((test2_pred['survival_time'] > 64).sum())\n",
    "print((test1_pred['survival_time'] <= 0).sum())\n",
    "print((test2_pred['survival_time'] <= 0).sum())"
   ]
  },
  {
   "cell_type": "code",
   "execution_count": 321,
   "metadata": {},
   "outputs": [
    {
     "name": "stdout",
     "output_type": "stream",
     "text": [
      "0\n",
      "0\n"
     ]
    }
   ],
   "source": [
    "print((test1_pred['amount_spent'] < 0).sum())\n",
    "print((test2_pred['amount_spent'] < 0).sum())"
   ]
  },
  {
   "cell_type": "code",
   "execution_count": 322,
   "metadata": {},
   "outputs": [],
   "source": [
    "test1_pred.to_csv('test1_predict.csv', index = False)\n",
    "test2_pred.to_csv('test2_predict.csv', index = False)"
   ]
  },
  {
   "cell_type": "markdown",
   "metadata": {},
   "source": [
    "### 18(불필요한 주차별 데이터 28일 평균, 추가 평활)"
   ]
  },
  {
   "cell_type": "code",
   "execution_count": 333,
   "metadata": {},
   "outputs": [],
   "source": [
    "X_test_fluctuation = pd.read_csv('X_test_ver2_fluctuation.csv')\n",
    "X_test1_fluctuation = pd.read_csv('X_test1_ver2_fluctuation.csv')\n",
    "X_test2_fluctuation = pd.read_csv('X_test2_ver2_fluctuation.csv')"
   ]
  },
  {
   "cell_type": "code",
   "execution_count": 334,
   "metadata": {},
   "outputs": [],
   "source": [
    "voting_leave_fluctuation_clf_2 = joblib.load('./빅콘테스트/model/version2/voting_leave_fluctuation_clf_2_version2.pkl')\n",
    "voting_amount_fluctuation_clf_2 = joblib.load('./빅콘테스트/model/version2/voting_amount_fluctuation_clf_2_version2.pkl')\n",
    "rf_leave_fluctuation_reg = joblib.load('./빅콘테스트/model/version2/rf_leave_fluctuation_reg_version2.pkl')\n",
    "rf_amount_fluctuation_sub_reg = joblib.load('./빅콘테스트/model/version2/rf_amount_fluctuation_sub_reg_version2.pkl')"
   ]
  },
  {
   "cell_type": "code",
   "execution_count": 335,
   "metadata": {},
   "outputs": [],
   "source": [
    "test_pred = predict(model1 = voting_leave_fluctuation_clf_2, model2 = voting_amount_fluctuation_clf_2,\n",
    "               model3 = rf_leave_fluctuation_reg, model4 = rf_amount_fluctuation_sub_reg, data = X_test_fluctuation)"
   ]
  },
  {
   "cell_type": "code",
   "execution_count": 336,
   "metadata": {},
   "outputs": [],
   "source": [
    "test_pred.to_csv('y_pred_ver2.csv', index = False)"
   ]
  },
  {
   "cell_type": "code",
   "execution_count": 338,
   "metadata": {},
   "outputs": [
    {
     "name": "stdout",
     "output_type": "stream",
     "text": [
      "3824.5182336773937\n"
     ]
    },
    {
     "data": {
      "text/plain": [
       "3824.5182336773937"
      ]
     },
     "execution_count": 338,
     "metadata": {},
     "output_type": "execute_result"
    }
   ],
   "source": [
    "score_function('y_pred_ver2.csv', 'true.csv')"
   ]
  },
  {
   "cell_type": "code",
   "execution_count": 339,
   "metadata": {},
   "outputs": [],
   "source": [
    "test1_pred = predict(model1 = voting_leave_fluctuation_clf_2, model2 = voting_amount_fluctuation_clf_2,\n",
    "               model3 = rf_leave_fluctuation_reg, model4 = rf_amount_fluctuation_sub_reg, data = X_test1_fluctuation)"
   ]
  },
  {
   "cell_type": "code",
   "execution_count": 340,
   "metadata": {},
   "outputs": [],
   "source": [
    "test2_pred = predict(model1 = voting_leave_fluctuation_clf_2, model2 = voting_amount_fluctuation_clf_2,\n",
    "               model3 = rf_leave_fluctuation_reg, model4 = rf_amount_fluctuation_sub_reg, data = X_test2_fluctuation)"
   ]
  },
  {
   "cell_type": "code",
   "execution_count": 341,
   "metadata": {},
   "outputs": [
    {
     "name": "stdout",
     "output_type": "stream",
     "text": [
      "0\n",
      "0\n",
      "0\n",
      "0\n"
     ]
    }
   ],
   "source": [
    "print((test1_pred['survival_time'] > 64).sum())\n",
    "print((test2_pred['survival_time'] > 64).sum())\n",
    "print((test1_pred['survival_time'] <= 0).sum())\n",
    "print((test2_pred['survival_time'] <= 0).sum())"
   ]
  },
  {
   "cell_type": "code",
   "execution_count": 342,
   "metadata": {},
   "outputs": [
    {
     "name": "stdout",
     "output_type": "stream",
     "text": [
      "0\n",
      "0\n"
     ]
    }
   ],
   "source": [
    "print((test1_pred['amount_spent'] < 0).sum())\n",
    "print((test2_pred['amount_spent'] < 0).sum())"
   ]
  },
  {
   "cell_type": "code",
   "execution_count": 343,
   "metadata": {},
   "outputs": [],
   "source": [
    "test1_pred.to_csv('test1_predict.csv', index = False)\n",
    "test2_pred.to_csv('test2_predict.csv', index = False)"
   ]
  },
  {
   "cell_type": "markdown",
   "metadata": {},
   "source": [
    "### 19(불필요한 주차별 데이터 28일 평균, 추가 평활, 군집X)"
   ]
  },
  {
   "cell_type": "code",
   "execution_count": 344,
   "metadata": {},
   "outputs": [],
   "source": [
    "X_test_fluctuation = pd.read_csv('X_test_ver1_fluctuation.csv')\n",
    "X_test1_fluctuation = pd.read_csv('X_test1_ver1_fluctuation.csv')\n",
    "X_test2_fluctuation = pd.read_csv('X_test2_ver1_fluctuation.csv')"
   ]
  },
  {
   "cell_type": "code",
   "execution_count": 345,
   "metadata": {},
   "outputs": [],
   "source": [
    "voting_leave_fluctuation_clf_2 = joblib.load('./빅콘테스트/model/version1/voting_leave_fluctuation_clf_2_version1.pkl')\n",
    "voting_amount_fluctuation_clf_2 = joblib.load('./빅콘테스트/model/version1/voting_amount_fluctuation_clf_2_version1.pkl')\n",
    "rf_leave_fluctuation_reg = joblib.load('./빅콘테스트/model/version1/rf_leave_fluctuation_reg_version1.pkl')\n",
    "rf_amount_fluctuation_sub_reg = joblib.load('./빅콘테스트/model/version1/rf_amount_fluctuation_sub_reg_version1.pkl')"
   ]
  },
  {
   "cell_type": "code",
   "execution_count": 346,
   "metadata": {},
   "outputs": [],
   "source": [
    "test_pred = predict(model1 = voting_leave_fluctuation_clf_2, model2 = voting_amount_fluctuation_clf_2,\n",
    "               model3 = rf_leave_fluctuation_reg, model4 = rf_amount_fluctuation_sub_reg, data = X_test_fluctuation)"
   ]
  },
  {
   "cell_type": "code",
   "execution_count": 347,
   "metadata": {},
   "outputs": [],
   "source": [
    "test_pred.to_csv('y_pred_ver2.csv', index = False)"
   ]
  },
  {
   "cell_type": "code",
   "execution_count": 348,
   "metadata": {},
   "outputs": [
    {
     "name": "stdout",
     "output_type": "stream",
     "text": [
      "3818.477933616757\n"
     ]
    },
    {
     "data": {
      "text/plain": [
       "3818.477933616757"
      ]
     },
     "execution_count": 348,
     "metadata": {},
     "output_type": "execute_result"
    }
   ],
   "source": [
    "score_function('y_pred_ver2.csv', 'true.csv')"
   ]
  },
  {
   "cell_type": "code",
   "execution_count": 349,
   "metadata": {},
   "outputs": [],
   "source": [
    "test1_pred = predict(model1 = voting_leave_fluctuation_clf_2, model2 = voting_amount_fluctuation_clf_2,\n",
    "               model3 = rf_leave_fluctuation_reg, model4 = rf_amount_fluctuation_sub_reg, data = X_test1_fluctuation)"
   ]
  },
  {
   "cell_type": "code",
   "execution_count": 350,
   "metadata": {},
   "outputs": [],
   "source": [
    "test2_pred = predict(model1 = voting_leave_fluctuation_clf_2, model2 = voting_amount_fluctuation_clf_2,\n",
    "               model3 = rf_leave_fluctuation_reg, model4 = rf_amount_fluctuation_sub_reg, data = X_test2_fluctuation)"
   ]
  },
  {
   "cell_type": "code",
   "execution_count": 351,
   "metadata": {},
   "outputs": [
    {
     "name": "stdout",
     "output_type": "stream",
     "text": [
      "0\n",
      "0\n",
      "0\n",
      "0\n"
     ]
    }
   ],
   "source": [
    "print((test1_pred['survival_time'] > 64).sum())\n",
    "print((test2_pred['survival_time'] > 64).sum())\n",
    "print((test1_pred['survival_time'] <= 0).sum())\n",
    "print((test2_pred['survival_time'] <= 0).sum())"
   ]
  },
  {
   "cell_type": "code",
   "execution_count": 352,
   "metadata": {},
   "outputs": [
    {
     "name": "stdout",
     "output_type": "stream",
     "text": [
      "0\n",
      "0\n"
     ]
    }
   ],
   "source": [
    "print((test1_pred['amount_spent'] < 0).sum())\n",
    "print((test2_pred['amount_spent'] < 0).sum())"
   ]
  },
  {
   "cell_type": "code",
   "execution_count": 353,
   "metadata": {},
   "outputs": [],
   "source": [
    "test1_pred.to_csv('test1_predict.csv', index = False)\n",
    "test2_pred.to_csv('test2_predict.csv', index = False)"
   ]
  },
  {
   "cell_type": "markdown",
   "metadata": {},
   "source": [
    "### 20(불필요한 주차별 데이터 28일 평균, combat_same_pledge_cnt만 추가 평활)"
   ]
  },
  {
   "cell_type": "code",
   "execution_count": 354,
   "metadata": {},
   "outputs": [],
   "source": [
    "X_test_fluctuation = pd.read_csv('X_test_ver2_fluctuation.csv')\n",
    "X_test1_fluctuation = pd.read_csv('X_test1_ver2_fluctuation.csv')\n",
    "X_test2_fluctuation = pd.read_csv('X_test2_ver2_fluctuation.csv')"
   ]
  },
  {
   "cell_type": "code",
   "execution_count": 355,
   "metadata": {},
   "outputs": [],
   "source": [
    "voting_leave_fluctuation_clf_2 = joblib.load('./빅콘테스트/model/version2/voting_leave_fluctuation_clf_2_version2.pkl')\n",
    "voting_amount_fluctuation_clf_2 = joblib.load('./빅콘테스트/model/version2/voting_amount_fluctuation_clf_2_version2.pkl')\n",
    "rf_leave_fluctuation_reg = joblib.load('./빅콘테스트/model/version2/rf_leave_fluctuation_reg_version2.pkl')\n",
    "rf_amount_fluctuation_sub_reg = joblib.load('./빅콘테스트/model/version2/rf_amount_fluctuation_sub_reg_version2.pkl')"
   ]
  },
  {
   "cell_type": "code",
   "execution_count": 356,
   "metadata": {},
   "outputs": [],
   "source": [
    "test_pred = predict(model1 = voting_leave_fluctuation_clf_2, model2 = voting_amount_fluctuation_clf_2,\n",
    "               model3 = rf_leave_fluctuation_reg, model4 = rf_amount_fluctuation_sub_reg, data = X_test_fluctuation)"
   ]
  },
  {
   "cell_type": "code",
   "execution_count": 357,
   "metadata": {},
   "outputs": [],
   "source": [
    "test_pred.to_csv('y_pred_ver2.csv', index = False)"
   ]
  },
  {
   "cell_type": "code",
   "execution_count": 358,
   "metadata": {},
   "outputs": [
    {
     "name": "stdout",
     "output_type": "stream",
     "text": [
      "3828.3368332474934\n"
     ]
    },
    {
     "data": {
      "text/plain": [
       "3828.3368332474934"
      ]
     },
     "execution_count": 358,
     "metadata": {},
     "output_type": "execute_result"
    }
   ],
   "source": [
    "score_function('y_pred_ver2.csv', 'true.csv')"
   ]
  },
  {
   "cell_type": "code",
   "execution_count": 359,
   "metadata": {},
   "outputs": [],
   "source": [
    "test1_pred = predict(model1 = voting_leave_fluctuation_clf_2, model2 = voting_amount_fluctuation_clf_2,\n",
    "               model3 = rf_leave_fluctuation_reg, model4 = rf_amount_fluctuation_sub_reg, data = X_test1_fluctuation)"
   ]
  },
  {
   "cell_type": "code",
   "execution_count": 360,
   "metadata": {},
   "outputs": [],
   "source": [
    "test2_pred = predict(model1 = voting_leave_fluctuation_clf_2, model2 = voting_amount_fluctuation_clf_2,\n",
    "               model3 = rf_leave_fluctuation_reg, model4 = rf_amount_fluctuation_sub_reg, data = X_test2_fluctuation)"
   ]
  },
  {
   "cell_type": "code",
   "execution_count": 361,
   "metadata": {},
   "outputs": [
    {
     "name": "stdout",
     "output_type": "stream",
     "text": [
      "0\n",
      "0\n",
      "0\n",
      "0\n"
     ]
    }
   ],
   "source": [
    "print((test1_pred['survival_time'] > 64).sum())\n",
    "print((test2_pred['survival_time'] > 64).sum())\n",
    "print((test1_pred['survival_time'] <= 0).sum())\n",
    "print((test2_pred['survival_time'] <= 0).sum())"
   ]
  },
  {
   "cell_type": "code",
   "execution_count": 362,
   "metadata": {},
   "outputs": [
    {
     "name": "stdout",
     "output_type": "stream",
     "text": [
      "0\n",
      "0\n"
     ]
    }
   ],
   "source": [
    "print((test1_pred['amount_spent'] < 0).sum())\n",
    "print((test2_pred['amount_spent'] < 0).sum())"
   ]
  },
  {
   "cell_type": "code",
   "execution_count": 363,
   "metadata": {},
   "outputs": [],
   "source": [
    "test1_pred.to_csv('test1_predict.csv', index = False)\n",
    "test2_pred.to_csv('test2_predict.csv', index = False)"
   ]
  },
  {
   "cell_type": "markdown",
   "metadata": {},
   "source": [
    "### 21(불필요한 주차별 데이터 28일 평균, 평활, 레별 변화)"
   ]
  },
  {
   "cell_type": "code",
   "execution_count": 364,
   "metadata": {},
   "outputs": [],
   "source": [
    "X_test_fluctuation = pd.read_csv('X_test_ver2_fluctuation.csv')\n",
    "X_test1_fluctuation = pd.read_csv('X_test1_ver2_fluctuation.csv')\n",
    "X_test2_fluctuation = pd.read_csv('X_test2_ver2_fluctuation.csv')"
   ]
  },
  {
   "cell_type": "code",
   "execution_count": 365,
   "metadata": {},
   "outputs": [],
   "source": [
    "voting_leave_fluctuation_clf_2 = joblib.load('./빅콘테스트/model/version2/voting_leave_fluctuation_clf_2_version2.pkl')\n",
    "voting_amount_fluctuation_clf_2 = joblib.load('./빅콘테스트/model/version2/voting_amount_fluctuation_clf_2_version2.pkl')\n",
    "rf_leave_fluctuation_reg = joblib.load('./빅콘테스트/model/version2/rf_leave_fluctuation_reg_version2.pkl')\n",
    "rf_amount_fluctuation_sub_reg = joblib.load('./빅콘테스트/model/version2/rf_amount_fluctuation_sub_reg_version2.pkl')"
   ]
  },
  {
   "cell_type": "code",
   "execution_count": 366,
   "metadata": {},
   "outputs": [],
   "source": [
    "test_pred = predict(model1 = voting_leave_fluctuation_clf_2, model2 = voting_amount_fluctuation_clf_2,\n",
    "               model3 = rf_leave_fluctuation_reg, model4 = rf_amount_fluctuation_sub_reg, data = X_test_fluctuation)"
   ]
  },
  {
   "cell_type": "code",
   "execution_count": 367,
   "metadata": {},
   "outputs": [],
   "source": [
    "test_pred.to_csv('y_pred_ver2.csv', index = False)"
   ]
  },
  {
   "cell_type": "code",
   "execution_count": 368,
   "metadata": {},
   "outputs": [
    {
     "name": "stdout",
     "output_type": "stream",
     "text": [
      "3849.3591022439277\n"
     ]
    },
    {
     "data": {
      "text/plain": [
       "3849.3591022439277"
      ]
     },
     "execution_count": 368,
     "metadata": {},
     "output_type": "execute_result"
    }
   ],
   "source": [
    "score_function('y_pred_ver2.csv', 'true.csv')"
   ]
  },
  {
   "cell_type": "code",
   "execution_count": 369,
   "metadata": {},
   "outputs": [],
   "source": [
    "test1_pred = predict(model1 = voting_leave_fluctuation_clf_2, model2 = voting_amount_fluctuation_clf_2,\n",
    "               model3 = rf_leave_fluctuation_reg, model4 = rf_amount_fluctuation_sub_reg, data = X_test1_fluctuation)"
   ]
  },
  {
   "cell_type": "code",
   "execution_count": 370,
   "metadata": {},
   "outputs": [],
   "source": [
    "test2_pred = predict(model1 = voting_leave_fluctuation_clf_2, model2 = voting_amount_fluctuation_clf_2,\n",
    "               model3 = rf_leave_fluctuation_reg, model4 = rf_amount_fluctuation_sub_reg, data = X_test2_fluctuation)"
   ]
  },
  {
   "cell_type": "code",
   "execution_count": 371,
   "metadata": {},
   "outputs": [
    {
     "name": "stdout",
     "output_type": "stream",
     "text": [
      "0\n",
      "0\n",
      "0\n",
      "0\n"
     ]
    }
   ],
   "source": [
    "print((test1_pred['survival_time'] > 64).sum())\n",
    "print((test2_pred['survival_time'] > 64).sum())\n",
    "print((test1_pred['survival_time'] <= 0).sum())\n",
    "print((test2_pred['survival_time'] <= 0).sum())"
   ]
  },
  {
   "cell_type": "code",
   "execution_count": 372,
   "metadata": {},
   "outputs": [
    {
     "name": "stdout",
     "output_type": "stream",
     "text": [
      "0\n",
      "0\n"
     ]
    }
   ],
   "source": [
    "print((test1_pred['amount_spent'] < 0).sum())\n",
    "print((test2_pred['amount_spent'] < 0).sum())"
   ]
  },
  {
   "cell_type": "code",
   "execution_count": 373,
   "metadata": {},
   "outputs": [],
   "source": [
    "test1_pred.to_csv('test1_predict.csv', index = False)\n",
    "test2_pred.to_csv('test2_predict.csv', index = False)"
   ]
  },
  {
   "cell_type": "markdown",
   "metadata": {},
   "source": [
    "### 22(불필요한 주차별 데이터 28일 평균, 평활, 아데나 변동량 절댓값)"
   ]
  },
  {
   "cell_type": "code",
   "execution_count": 374,
   "metadata": {},
   "outputs": [],
   "source": [
    "X_test_fluctuation = pd.read_csv('X_test_ver2_fluctuation.csv')\n",
    "X_test1_fluctuation = pd.read_csv('X_test1_ver2_fluctuation.csv')\n",
    "X_test2_fluctuation = pd.read_csv('X_test2_ver2_fluctuation.csv')"
   ]
  },
  {
   "cell_type": "code",
   "execution_count": 375,
   "metadata": {},
   "outputs": [],
   "source": [
    "voting_leave_fluctuation_clf_2 = joblib.load('./빅콘테스트/model/version2/voting_leave_fluctuation_clf_2_version2.pkl')\n",
    "voting_amount_fluctuation_clf_2 = joblib.load('./빅콘테스트/model/version2/voting_amount_fluctuation_clf_2_version2.pkl')\n",
    "rf_leave_fluctuation_reg = joblib.load('./빅콘테스트/model/version2/rf_leave_fluctuation_reg_version2.pkl')\n",
    "rf_amount_fluctuation_sub_reg = joblib.load('./빅콘테스트/model/version2/rf_amount_fluctuation_sub_reg_version2.pkl')"
   ]
  },
  {
   "cell_type": "code",
   "execution_count": 376,
   "metadata": {},
   "outputs": [],
   "source": [
    "test_pred = predict(model1 = voting_leave_fluctuation_clf_2, model2 = voting_amount_fluctuation_clf_2,\n",
    "               model3 = rf_leave_fluctuation_reg, model4 = rf_amount_fluctuation_sub_reg, data = X_test_fluctuation)"
   ]
  },
  {
   "cell_type": "code",
   "execution_count": 377,
   "metadata": {},
   "outputs": [],
   "source": [
    "test_pred.to_csv('y_pred_ver2.csv', index = False)"
   ]
  },
  {
   "cell_type": "code",
   "execution_count": 378,
   "metadata": {},
   "outputs": [
    {
     "name": "stdout",
     "output_type": "stream",
     "text": [
      "3787.3416979526187\n"
     ]
    },
    {
     "data": {
      "text/plain": [
       "3787.3416979526187"
      ]
     },
     "execution_count": 378,
     "metadata": {},
     "output_type": "execute_result"
    }
   ],
   "source": [
    "score_function('y_pred_ver2.csv', 'true.csv')"
   ]
  },
  {
   "cell_type": "code",
   "execution_count": 379,
   "metadata": {},
   "outputs": [],
   "source": [
    "test1_pred = predict(model1 = voting_leave_fluctuation_clf_2, model2 = voting_amount_fluctuation_clf_2,\n",
    "               model3 = rf_leave_fluctuation_reg, model4 = rf_amount_fluctuation_sub_reg, data = X_test1_fluctuation)"
   ]
  },
  {
   "cell_type": "code",
   "execution_count": 380,
   "metadata": {},
   "outputs": [],
   "source": [
    "test2_pred = predict(model1 = voting_leave_fluctuation_clf_2, model2 = voting_amount_fluctuation_clf_2,\n",
    "               model3 = rf_leave_fluctuation_reg, model4 = rf_amount_fluctuation_sub_reg, data = X_test2_fluctuation)"
   ]
  },
  {
   "cell_type": "code",
   "execution_count": 381,
   "metadata": {},
   "outputs": [
    {
     "name": "stdout",
     "output_type": "stream",
     "text": [
      "0\n",
      "0\n",
      "0\n",
      "0\n"
     ]
    }
   ],
   "source": [
    "print((test1_pred['survival_time'] > 64).sum())\n",
    "print((test2_pred['survival_time'] > 64).sum())\n",
    "print((test1_pred['survival_time'] <= 0).sum())\n",
    "print((test2_pred['survival_time'] <= 0).sum())"
   ]
  },
  {
   "cell_type": "code",
   "execution_count": 382,
   "metadata": {},
   "outputs": [
    {
     "name": "stdout",
     "output_type": "stream",
     "text": [
      "0\n",
      "0\n"
     ]
    }
   ],
   "source": [
    "print((test1_pred['amount_spent'] < 0).sum())\n",
    "print((test2_pred['amount_spent'] < 0).sum())"
   ]
  },
  {
   "cell_type": "code",
   "execution_count": 383,
   "metadata": {},
   "outputs": [],
   "source": [
    "test1_pred.to_csv('test1_predict.csv', index = False)\n",
    "test2_pred.to_csv('test2_predict.csv', index = False)"
   ]
  },
  {
   "cell_type": "markdown",
   "metadata": {},
   "source": [
    "### 23(불필요한 주차별 데이터 28일 평균, 평활, 하이퍼파라미터 변화)"
   ]
  },
  {
   "cell_type": "code",
   "execution_count": 437,
   "metadata": {},
   "outputs": [],
   "source": [
    "X_test_fluctuation = pd.read_csv('X_test_ver2_fluctuation.csv')\n",
    "X_test1_fluctuation = pd.read_csv('X_test1_ver2_fluctuation.csv')\n",
    "X_test2_fluctuation = pd.read_csv('X_test2_ver2_fluctuation.csv')"
   ]
  },
  {
   "cell_type": "code",
   "execution_count": 438,
   "metadata": {},
   "outputs": [],
   "source": [
    "voting_leave_fluctuation_clf_2 = joblib.load('./빅콘테스트/model/version2/voting_leave_fluctuation_clf_2_version2.pkl')\n",
    "voting_amount_fluctuation_clf_2 = joblib.load('./빅콘테스트/model/version2/voting_amount_fluctuation_clf_2_version2.pkl')\n",
    "rf_leave_fluctuation_reg = joblib.load('./빅콘테스트/model/version2/rf_leave_fluctuation_reg_version2.pkl')\n",
    "rf_amount_fluctuation_sub_reg = joblib.load('./빅콘테스트/model/version2/rf_amount_fluctuation_sub_reg_version2.pkl')"
   ]
  },
  {
   "cell_type": "code",
   "execution_count": 439,
   "metadata": {},
   "outputs": [],
   "source": [
    "test_pred = predict(model1 = voting_leave_fluctuation_clf_2, model2 = voting_amount_fluctuation_clf_2,\n",
    "               model3 = rf_leave_fluctuation_reg, model4 = rf_amount_fluctuation_sub_reg, data = X_test_fluctuation)"
   ]
  },
  {
   "cell_type": "code",
   "execution_count": 440,
   "metadata": {},
   "outputs": [],
   "source": [
    "test_pred.to_csv('y_pred_ver2.csv', index = False)"
   ]
  },
  {
   "cell_type": "code",
   "execution_count": 441,
   "metadata": {},
   "outputs": [
    {
     "name": "stdout",
     "output_type": "stream",
     "text": [
      "3770.0732552809627\n"
     ]
    },
    {
     "data": {
      "text/plain": [
       "3770.0732552809627"
      ]
     },
     "execution_count": 441,
     "metadata": {},
     "output_type": "execute_result"
    }
   ],
   "source": [
    "score_function('y_pred_ver2.csv', 'true.csv')"
   ]
  },
  {
   "cell_type": "code",
   "execution_count": 442,
   "metadata": {},
   "outputs": [],
   "source": [
    "test_pred = pd.read_csv('y_pred_ver2.csv')\n",
    "true = pd.read_csv('true.csv')"
   ]
  },
  {
   "cell_type": "code",
   "execution_count": 448,
   "metadata": {},
   "outputs": [
    {
     "data": {
      "text/plain": [
       "7695"
      ]
     },
     "execution_count": 448,
     "metadata": {},
     "output_type": "execute_result"
    }
   ],
   "source": [
    "(((test_pred['survival_time'] == 64) & (true['survival_time'] == 64)) | ((test_pred['survival_time'] != 64) & (true['survival_time'] != 64))).sum()"
   ]
  },
  {
   "cell_type": "code",
   "execution_count": 482,
   "metadata": {},
   "outputs": [
    {
     "data": {
      "text/plain": [
       "8576"
      ]
     },
     "execution_count": 482,
     "metadata": {},
     "output_type": "execute_result"
    }
   ],
   "source": [
    "(((test_pred['amount_spent'] == 0) & (true['amount_spent'] == 0)) | ((test_pred['amount_spent'] != 0) & (true['amount_spent'] != 0))).sum()"
   ]
  },
  {
   "cell_type": "code",
   "execution_count": 520,
   "metadata": {},
   "outputs": [
    {
     "data": {
      "text/plain": [
       "1.4169501871765862"
      ]
     },
     "execution_count": 520,
     "metadata": {},
     "output_type": "execute_result"
    }
   ],
   "source": [
    "diff = test_pred['amount_spent'][(test_pred['survival_time'] != 64) & (true['survival_time'] != 64)] - true['amount_spent'][(test_pred['survival_time'] != 64) & (true['survival_time'] != 64)]\n",
    "(diff ** 2).mean()\n",
    "# test_pred['amount_spent'][(test_pred['survival_time'] != 64) & (true['survival_time'] != 64)][diff > 0]\n",
    "# diff[diff > 0]"
   ]
  },
  {
   "cell_type": "code",
   "execution_count": 489,
   "metadata": {},
   "outputs": [
    {
     "data": {
      "text/plain": [
       "2.160010089635298"
      ]
     },
     "execution_count": 489,
     "metadata": {},
     "output_type": "execute_result"
    }
   ],
   "source": [
    "np.percentile(true['amount_spent'][(test_pred['survival_time'] != 64) & (true['survival_time'] != 64)], 99)"
   ]
  },
  {
   "cell_type": "code",
   "execution_count": 469,
   "metadata": {},
   "outputs": [
    {
     "data": {
      "text/plain": [
       "172.53360298693218"
      ]
     },
     "execution_count": 469,
     "metadata": {},
     "output_type": "execute_result"
    }
   ],
   "source": [
    "diff = test_pred['survival_time'][(test_pred['survival_time'] != 64) & (true['survival_time'] != 64)] - true['survival_time'][(test_pred['survival_time'] != 64) & (true['survival_time'] != 64)]\n",
    "(diff ** 2).mean()"
   ]
  },
  {
   "cell_type": "code",
   "execution_count": 389,
   "metadata": {},
   "outputs": [],
   "source": [
    "test1_pred = predict(model1 = voting_leave_fluctuation_clf_2, model2 = voting_amount_fluctuation_clf_2,\n",
    "               model3 = rf_leave_fluctuation_reg, model4 = rf_amount_fluctuation_sub_reg, data = X_test1_fluctuation)"
   ]
  },
  {
   "cell_type": "code",
   "execution_count": 390,
   "metadata": {},
   "outputs": [],
   "source": [
    "test2_pred = predict(model1 = voting_leave_fluctuation_clf_2, model2 = voting_amount_fluctuation_clf_2,\n",
    "               model3 = rf_leave_fluctuation_reg, model4 = rf_amount_fluctuation_sub_reg, data = X_test2_fluctuation)"
   ]
  },
  {
   "cell_type": "code",
   "execution_count": 391,
   "metadata": {},
   "outputs": [
    {
     "name": "stdout",
     "output_type": "stream",
     "text": [
      "0\n",
      "0\n",
      "0\n",
      "0\n"
     ]
    }
   ],
   "source": [
    "print((test1_pred['survival_time'] > 64).sum())\n",
    "print((test2_pred['survival_time'] > 64).sum())\n",
    "print((test1_pred['survival_time'] <= 0).sum())\n",
    "print((test2_pred['survival_time'] <= 0).sum())"
   ]
  },
  {
   "cell_type": "code",
   "execution_count": 392,
   "metadata": {},
   "outputs": [
    {
     "name": "stdout",
     "output_type": "stream",
     "text": [
      "0\n",
      "0\n"
     ]
    }
   ],
   "source": [
    "print((test1_pred['amount_spent'] < 0).sum())\n",
    "print((test2_pred['amount_spent'] < 0).sum())"
   ]
  },
  {
   "cell_type": "code",
   "execution_count": 393,
   "metadata": {},
   "outputs": [],
   "source": [
    "test1_pred.to_csv('test1_predict.csv', index = False)\n",
    "test2_pred.to_csv('test2_predict.csv', index = False)"
   ]
  },
  {
   "cell_type": "markdown",
   "metadata": {},
   "source": [
    "### 24(불필요한 주차별 데이터 28일 평균, 평활, 모델 변화)"
   ]
  },
  {
   "cell_type": "code",
   "execution_count": 394,
   "metadata": {},
   "outputs": [],
   "source": [
    "X_test_fluctuation = pd.read_csv('X_test_ver2_fluctuation.csv')\n",
    "X_test1_fluctuation = pd.read_csv('X_test1_ver2_fluctuation.csv')\n",
    "X_test2_fluctuation = pd.read_csv('X_test2_ver2_fluctuation.csv')"
   ]
  },
  {
   "cell_type": "code",
   "execution_count": 396,
   "metadata": {},
   "outputs": [],
   "source": [
    "voting_leave_fluctuation_clf_2 = joblib.load('./빅콘테스트/model/version2/voting_leave_fluctuation_clf_2_version2.pkl')\n",
    "voting_amount_fluctuation_clf_2 = joblib.load('./빅콘테스트/model/version2/voting_amount_fluctuation_clf_2_version2.pkl')\n",
    "voting_leave_fluctuation_reg = joblib.load('./빅콘테스트/model/version2/voting_leave_fluctuation_reg_version2.pkl')\n",
    "voting_amount_fluctuation_sub_reg = joblib.load('./빅콘테스트/model/version2/voting_amount_fluctuation_sub_reg_version2.pkl')"
   ]
  },
  {
   "cell_type": "code",
   "execution_count": 397,
   "metadata": {},
   "outputs": [],
   "source": [
    "test_pred = predict(model1 = voting_leave_fluctuation_clf_2, model2 = voting_amount_fluctuation_clf_2,\n",
    "               model3 = voting_leave_fluctuation_reg, model4 = voting_amount_fluctuation_sub_reg, data = X_test_fluctuation)"
   ]
  },
  {
   "cell_type": "code",
   "execution_count": 398,
   "metadata": {},
   "outputs": [],
   "source": [
    "test_pred.to_csv('y_pred_ver2.csv', index = False)"
   ]
  },
  {
   "cell_type": "code",
   "execution_count": 399,
   "metadata": {},
   "outputs": [
    {
     "name": "stdout",
     "output_type": "stream",
     "text": [
      "3674.467015759227\n"
     ]
    },
    {
     "data": {
      "text/plain": [
       "3674.467015759227"
      ]
     },
     "execution_count": 399,
     "metadata": {},
     "output_type": "execute_result"
    }
   ],
   "source": [
    "score_function('y_pred_ver2.csv', 'true.csv')"
   ]
  },
  {
   "cell_type": "code",
   "execution_count": 400,
   "metadata": {},
   "outputs": [],
   "source": [
    "test1_pred = predict(model1 = voting_leave_fluctuation_clf_2, model2 = voting_amount_fluctuation_clf_2,\n",
    "               model3 = voting_leave_fluctuation_reg, model4 = voting_amount_fluctuation_sub_reg, data = X_test1_fluctuation)"
   ]
  },
  {
   "cell_type": "code",
   "execution_count": 401,
   "metadata": {},
   "outputs": [],
   "source": [
    "test2_pred = predict(model1 = voting_leave_fluctuation_clf_2, model2 = voting_amount_fluctuation_clf_2,\n",
    "               model3 = voting_leave_fluctuation_reg, model4 = voting_amount_fluctuation_sub_reg, data = X_test2_fluctuation)"
   ]
  },
  {
   "cell_type": "code",
   "execution_count": 402,
   "metadata": {},
   "outputs": [
    {
     "name": "stdout",
     "output_type": "stream",
     "text": [
      "0\n",
      "0\n",
      "0\n",
      "0\n"
     ]
    }
   ],
   "source": [
    "print((test1_pred['survival_time'] > 64).sum())\n",
    "print((test2_pred['survival_time'] > 64).sum())\n",
    "print((test1_pred['survival_time'] <= 0).sum())\n",
    "print((test2_pred['survival_time'] <= 0).sum())"
   ]
  },
  {
   "cell_type": "code",
   "execution_count": 403,
   "metadata": {},
   "outputs": [
    {
     "name": "stdout",
     "output_type": "stream",
     "text": [
      "0\n",
      "0\n"
     ]
    }
   ],
   "source": [
    "print((test1_pred['amount_spent'] < 0).sum())\n",
    "print((test2_pred['amount_spent'] < 0).sum())"
   ]
  },
  {
   "cell_type": "code",
   "execution_count": 404,
   "metadata": {},
   "outputs": [],
   "source": [
    "test1_pred.to_csv('test1_predict.csv', index = False)\n",
    "test2_pred.to_csv('test2_predict.csv', index = False)"
   ]
  },
  {
   "cell_type": "markdown",
   "metadata": {},
   "source": [
    "### 25(불필요한 주차별 데이터 28일 평균, 평활, 표준편차)"
   ]
  },
  {
   "cell_type": "code",
   "execution_count": 405,
   "metadata": {},
   "outputs": [],
   "source": [
    "X_test_fluctuation = pd.read_csv('X_test_ver2_fluctuation.csv')\n",
    "X_test1_fluctuation = pd.read_csv('X_test1_ver2_fluctuation.csv')\n",
    "X_test2_fluctuation = pd.read_csv('X_test2_ver2_fluctuation.csv')"
   ]
  },
  {
   "cell_type": "code",
   "execution_count": 407,
   "metadata": {},
   "outputs": [],
   "source": [
    "voting_leave_fluctuation_clf_2 = joblib.load('./빅콘테스트/model/version2/voting_leave_fluctuation_clf_2_version2.pkl')\n",
    "voting_amount_fluctuation_clf_2 = joblib.load('./빅콘테스트/model/version2/voting_amount_fluctuation_clf_2_version2.pkl')\n",
    "rf_leave_fluctuation_reg = joblib.load('./빅콘테스트/model/version2/rf_leave_fluctuation_reg_version2.pkl')\n",
    "rf_amount_fluctuation_sub_reg = joblib.load('./빅콘테스트/model/version2/rf_amount_fluctuation_sub_reg_version2.pkl')"
   ]
  },
  {
   "cell_type": "code",
   "execution_count": 408,
   "metadata": {},
   "outputs": [],
   "source": [
    "test_pred = predict(model1 = voting_leave_fluctuation_clf_2, model2 = voting_amount_fluctuation_clf_2,\n",
    "               model3 = rf_leave_fluctuation_reg, model4 = rf_amount_fluctuation_sub_reg, data = X_test_fluctuation)"
   ]
  },
  {
   "cell_type": "code",
   "execution_count": 409,
   "metadata": {},
   "outputs": [],
   "source": [
    "test_pred.to_csv('y_pred_ver2.csv', index = False)"
   ]
  },
  {
   "cell_type": "code",
   "execution_count": 410,
   "metadata": {},
   "outputs": [
    {
     "name": "stdout",
     "output_type": "stream",
     "text": [
      "3910.646994113332\n"
     ]
    },
    {
     "data": {
      "text/plain": [
       "3910.646994113332"
      ]
     },
     "execution_count": 410,
     "metadata": {},
     "output_type": "execute_result"
    }
   ],
   "source": [
    "score_function('y_pred_ver2.csv', 'true.csv')"
   ]
  },
  {
   "cell_type": "code",
   "execution_count": 411,
   "metadata": {},
   "outputs": [],
   "source": [
    "test1_pred = predict(model1 = voting_leave_fluctuation_clf_2, model2 = voting_amount_fluctuation_clf_2,\n",
    "               model3 = rf_leave_fluctuation_reg, model4 = rf_amount_fluctuation_sub_reg, data = X_test1_fluctuation)"
   ]
  },
  {
   "cell_type": "code",
   "execution_count": 412,
   "metadata": {},
   "outputs": [],
   "source": [
    "test2_pred = predict(model1 = voting_leave_fluctuation_clf_2, model2 = voting_amount_fluctuation_clf_2,\n",
    "               model3 = rf_leave_fluctuation_reg, model4 = rf_amount_fluctuation_sub_reg, data = X_test2_fluctuation)"
   ]
  },
  {
   "cell_type": "code",
   "execution_count": 413,
   "metadata": {},
   "outputs": [
    {
     "name": "stdout",
     "output_type": "stream",
     "text": [
      "0\n",
      "0\n",
      "0\n",
      "0\n"
     ]
    }
   ],
   "source": [
    "print((test1_pred['survival_time'] > 64).sum())\n",
    "print((test2_pred['survival_time'] > 64).sum())\n",
    "print((test1_pred['survival_time'] <= 0).sum())\n",
    "print((test2_pred['survival_time'] <= 0).sum())"
   ]
  },
  {
   "cell_type": "code",
   "execution_count": 414,
   "metadata": {},
   "outputs": [
    {
     "name": "stdout",
     "output_type": "stream",
     "text": [
      "0\n",
      "0\n"
     ]
    }
   ],
   "source": [
    "print((test1_pred['amount_spent'] < 0).sum())\n",
    "print((test2_pred['amount_spent'] < 0).sum())"
   ]
  },
  {
   "cell_type": "code",
   "execution_count": 415,
   "metadata": {},
   "outputs": [],
   "source": [
    "test1_pred.to_csv('test1_predict.csv', index = False)\n",
    "test2_pred.to_csv('test2_predict.csv', index = False)"
   ]
  },
  {
   "cell_type": "markdown",
   "metadata": {},
   "source": [
    "### 26(스태킹)"
   ]
  },
  {
   "cell_type": "code",
   "execution_count": 428,
   "metadata": {},
   "outputs": [],
   "source": [
    "def predict_2(model1, model2, model3, model4, model5, model6, model7, model8, model9, model10, data):\n",
    "    '''\n",
    "    model1~model4 : 생존 여부 예측(classifier)\n",
    "    model5~model8 : 결제 여부 예측(classifier)\n",
    "    model9 : 추가 생존 기간 예측(regressor)\n",
    "    model10 : 일 평균 결제 금액 예측(regressor)\n",
    "    data : test data\n",
    "    '''\n",
    "    \n",
    "    leave_pred1 = model1.predict_proba(data.iloc[:, 1:])\n",
    "    leave_pred2 = model2.predict_proba(data.iloc[:, 1:])\n",
    "    leave_pred3 = model3.predict_proba(data.iloc[:, 1:])\n",
    "    leave_pred = np.concatenate([leave_pred1, leave_pred2, leave_pred3], axis = 1)\n",
    "    \n",
    "    amount_pred1 = model5.predict_proba(data.iloc[:, 1:])\n",
    "    amount_pred2 = model6.predict_proba(data.iloc[:, 1:])\n",
    "    amount_pred3 = model7.predict_proba(data.iloc[:, 1:])\n",
    "    amount_pred = np.concatenate([amount_pred1, amount_pred2, amount_pred3], axis = 1)\n",
    "    \n",
    "    pred1 = model4.predict(leave_pred)\n",
    "    pred2 = model8.predict(amount_pred)\n",
    "    pred3 = model9.predict(data.iloc[:, 1:])\n",
    "    pred4 = model10.predict(data.iloc[:, 1:])\n",
    "    \n",
    "    pred3[pred1 == 0] = 64\n",
    "    pred4[pred2 == 0] = 0\n",
    "    pred3[pred3 <= 1] = 1\n",
    "    pred4[pred4 <= 0] = 0\n",
    "    \n",
    "    array = np.concatenate([data.iloc[:, 0].values.reshape(-1, 1), pred3.reshape(-1, 1), pred4.reshape(-1, 1)], axis = 1)\n",
    "    df = pd.DataFrame(array)\n",
    "    df.columns = ['acc_id', 'survival_time', 'amount_spent']\n",
    "    df['acc_id'] = df['acc_id'].astype('int32')\n",
    "    df['survival_time'] = round(df['survival_time']).astype('int32')\n",
    "    \n",
    "    return df"
   ]
  },
  {
   "cell_type": "code",
   "execution_count": 424,
   "metadata": {},
   "outputs": [],
   "source": [
    "X_test_fluctuation = pd.read_csv('X_test_ver2_fluctuation.csv')\n",
    "X_test1_fluctuation = pd.read_csv('X_test1_ver2_fluctuation.csv')\n",
    "X_test2_fluctuation = pd.read_csv('X_test2_ver2_fluctuation.csv')"
   ]
  },
  {
   "cell_type": "code",
   "execution_count": 425,
   "metadata": {},
   "outputs": [],
   "source": [
    "rf_leave_fluctuation_clf = joblib.load('./빅콘테스트/model/version2/rf_leave_fluctuation_clf_version2.pkl')\n",
    "xgb_leave_fluctuation_clf = joblib.load('./빅콘테스트/model/version2/xgb_leave_fluctuation_clf_version2.pkl')\n",
    "voting_leave_fluctuation_clf_2 = joblib.load('./빅콘테스트/model/version2/voting_leave_fluctuation_clf_2_version2.pkl')\n",
    "lr_leave_fluctuation_clf = joblib.load('./빅콘테스트/model/version2/lr_leave_fluctuation_clf_version2.pkl')\n",
    "rf_amount_fluctuation_clf = joblib.load('./빅콘테스트/model/version2/rf_amount_fluctuation_clf_version2.pkl')\n",
    "xgb_amount_fluctuation_clf = joblib.load('./빅콘테스트/model/version2/xgb_amount_fluctuation_clf_version2.pkl')\n",
    "voting_amount_fluctuation_clf_2 = joblib.load('./빅콘테스트/model/version2/voting_amount_fluctuation_clf_2_version2.pkl')\n",
    "lr_amount_fluctuation_clf = joblib.load('./빅콘테스트/model/version2/lr_amount_fluctuation_clf_version2.pkl')\n",
    "rf_leave_fluctuation_reg = joblib.load('./빅콘테스트/model/version2/rf_leave_fluctuation_reg_version2.pkl')\n",
    "rf_amount_fluctuation_sub_reg = joblib.load('./빅콘테스트/model/version2/rf_amount_fluctuation_sub_reg_version2.pkl')"
   ]
  },
  {
   "cell_type": "code",
   "execution_count": 429,
   "metadata": {},
   "outputs": [],
   "source": [
    "test_pred = predict_2(model1 = rf_leave_fluctuation_clf, model2 = xgb_amount_fluctuation_clf,\n",
    "                      model3 = voting_leave_fluctuation_clf_2, model4 = lr_leave_fluctuation_clf,\n",
    "                      model5 = rf_amount_fluctuation_clf, model6 = xgb_amount_fluctuation_clf,\n",
    "                      model7 = voting_amount_fluctuation_clf_2, model8 = lr_amount_fluctuation_clf,\n",
    "                      model9 = rf_leave_fluctuation_reg, model10 = rf_amount_fluctuation_sub_reg,\n",
    "                      data = X_test_fluctuation)"
   ]
  },
  {
   "cell_type": "code",
   "execution_count": 430,
   "metadata": {},
   "outputs": [],
   "source": [
    "test_pred.to_csv('y_pred_ver2.csv', index = False)"
   ]
  },
  {
   "cell_type": "code",
   "execution_count": 431,
   "metadata": {},
   "outputs": [
    {
     "name": "stdout",
     "output_type": "stream",
     "text": [
      "4860.737228844297\n"
     ]
    },
    {
     "data": {
      "text/plain": [
       "4860.737228844297"
      ]
     },
     "execution_count": 431,
     "metadata": {},
     "output_type": "execute_result"
    }
   ],
   "source": [
    "score_function('y_pred_ver2.csv', 'true.csv')"
   ]
  },
  {
   "cell_type": "code",
   "execution_count": 432,
   "metadata": {},
   "outputs": [],
   "source": [
    "test1_pred = predict_2(model1 = rf_leave_fluctuation_clf, model2 = xgb_amount_fluctuation_clf,\n",
    "                      model3 = voting_leave_fluctuation_clf_2, model4 = lr_leave_fluctuation_clf,\n",
    "                      model5 = rf_amount_fluctuation_clf, model6 = xgb_amount_fluctuation_clf,\n",
    "                      model7 = voting_amount_fluctuation_clf_2, model8 = lr_amount_fluctuation_clf,\n",
    "                      model9 = rf_leave_fluctuation_reg, model10 = rf_amount_fluctuation_sub_reg,\n",
    "                      data = X_test1_fluctuation)"
   ]
  },
  {
   "cell_type": "code",
   "execution_count": 433,
   "metadata": {},
   "outputs": [],
   "source": [
    "test2_pred = predict_2(model1 = rf_leave_fluctuation_clf, model2 = xgb_amount_fluctuation_clf,\n",
    "                      model3 = voting_leave_fluctuation_clf_2, model4 = lr_leave_fluctuation_clf,\n",
    "                      model5 = rf_amount_fluctuation_clf, model6 = xgb_amount_fluctuation_clf,\n",
    "                      model7 = voting_amount_fluctuation_clf_2, model8 = lr_amount_fluctuation_clf,\n",
    "                      model9 = rf_leave_fluctuation_reg, model10 = rf_amount_fluctuation_sub_reg,\n",
    "                      data = X_test2_fluctuation)"
   ]
  },
  {
   "cell_type": "code",
   "execution_count": 434,
   "metadata": {},
   "outputs": [
    {
     "name": "stdout",
     "output_type": "stream",
     "text": [
      "0\n",
      "0\n",
      "0\n",
      "0\n"
     ]
    }
   ],
   "source": [
    "print((test1_pred['survival_time'] > 64).sum())\n",
    "print((test2_pred['survival_time'] > 64).sum())\n",
    "print((test1_pred['survival_time'] <= 0).sum())\n",
    "print((test2_pred['survival_time'] <= 0).sum())"
   ]
  },
  {
   "cell_type": "code",
   "execution_count": 435,
   "metadata": {},
   "outputs": [
    {
     "name": "stdout",
     "output_type": "stream",
     "text": [
      "0\n",
      "0\n"
     ]
    }
   ],
   "source": [
    "print((test1_pred['amount_spent'] < 0).sum())\n",
    "print((test2_pred['amount_spent'] < 0).sum())"
   ]
  },
  {
   "cell_type": "code",
   "execution_count": 436,
   "metadata": {},
   "outputs": [],
   "source": [
    "test1_pred.to_csv('test1_predict.csv', index = False)\n",
    "test2_pred.to_csv('test2_predict.csv', index = False)"
   ]
  },
  {
   "cell_type": "markdown",
   "metadata": {},
   "source": [
    "### 27(불필요한 주차별 데이터 28일 평균, 평활, 하이퍼파라미터 변화, outlier)"
   ]
  },
  {
   "cell_type": "code",
   "execution_count": 491,
   "metadata": {},
   "outputs": [],
   "source": [
    "X_test_fluctuation = pd.read_csv('X_test_ver2_fluctuation.csv')\n",
    "X_test1_fluctuation = pd.read_csv('X_test1_ver2_fluctuation.csv')\n",
    "X_test2_fluctuation = pd.read_csv('X_test2_ver2_fluctuation.csv')"
   ]
  },
  {
   "cell_type": "code",
   "execution_count": 492,
   "metadata": {},
   "outputs": [],
   "source": [
    "voting_leave_fluctuation_clf_2 = joblib.load('./빅콘테스트/model/version2/voting_leave_fluctuation_clf_2_version2.pkl')\n",
    "voting_amount_fluctuation_clf_2 = joblib.load('./빅콘테스트/model/version2/voting_amount_fluctuation_clf_2_version2.pkl')\n",
    "rf_leave_fluctuation_reg = joblib.load('./빅콘테스트/model/version2/rf_leave_fluctuation_reg_version2.pkl')\n",
    "rf_amount_fluctuation_sub_reg = joblib.load('./빅콘테스트/model/version2/rf_amount_fluctuation_sub_reg_version2.pkl')"
   ]
  },
  {
   "cell_type": "code",
   "execution_count": 493,
   "metadata": {},
   "outputs": [],
   "source": [
    "test_pred = predict(model1 = voting_leave_fluctuation_clf_2, model2 = voting_amount_fluctuation_clf_2,\n",
    "               model3 = rf_leave_fluctuation_reg, model4 = rf_amount_fluctuation_sub_reg, data = X_test_fluctuation)"
   ]
  },
  {
   "cell_type": "code",
   "execution_count": 494,
   "metadata": {},
   "outputs": [],
   "source": [
    "test_pred.to_csv('y_pred_ver2.csv', index = False)"
   ]
  },
  {
   "cell_type": "code",
   "execution_count": 495,
   "metadata": {},
   "outputs": [
    {
     "name": "stdout",
     "output_type": "stream",
     "text": [
      "3318.475078311698\n"
     ]
    },
    {
     "data": {
      "text/plain": [
       "3318.475078311698"
      ]
     },
     "execution_count": 495,
     "metadata": {},
     "output_type": "execute_result"
    }
   ],
   "source": [
    "score_function('y_pred_ver2.csv', 'true.csv')"
   ]
  },
  {
   "cell_type": "code",
   "execution_count": 496,
   "metadata": {},
   "outputs": [],
   "source": [
    "test_pred = pd.read_csv('y_pred_ver2.csv')\n",
    "true = pd.read_csv('true.csv')"
   ]
  },
  {
   "cell_type": "code",
   "execution_count": 497,
   "metadata": {},
   "outputs": [
    {
     "data": {
      "text/plain": [
       "1.206809829762899"
      ]
     },
     "execution_count": 497,
     "metadata": {},
     "output_type": "execute_result"
    }
   ],
   "source": [
    "diff = test_pred['amount_spent'][(test_pred['survival_time'] != 64) & (true['survival_time'] != 64)] - true['amount_spent'][(test_pred['survival_time'] != 64) & (true['survival_time'] != 64)]\n",
    "(diff ** 2).mean()"
   ]
  },
  {
   "cell_type": "code",
   "execution_count": 498,
   "metadata": {},
   "outputs": [],
   "source": [
    "test1_pred = predict(model1 = voting_leave_fluctuation_clf_2, model2 = voting_amount_fluctuation_clf_2,\n",
    "               model3 = rf_leave_fluctuation_reg, model4 = rf_amount_fluctuation_sub_reg, data = X_test1_fluctuation)"
   ]
  },
  {
   "cell_type": "code",
   "execution_count": 499,
   "metadata": {},
   "outputs": [],
   "source": [
    "test2_pred = predict(model1 = voting_leave_fluctuation_clf_2, model2 = voting_amount_fluctuation_clf_2,\n",
    "               model3 = rf_leave_fluctuation_reg, model4 = rf_amount_fluctuation_sub_reg, data = X_test2_fluctuation)"
   ]
  },
  {
   "cell_type": "code",
   "execution_count": 500,
   "metadata": {},
   "outputs": [
    {
     "name": "stdout",
     "output_type": "stream",
     "text": [
      "0\n",
      "0\n",
      "0\n",
      "0\n"
     ]
    }
   ],
   "source": [
    "print((test1_pred['survival_time'] > 64).sum())\n",
    "print((test2_pred['survival_time'] > 64).sum())\n",
    "print((test1_pred['survival_time'] <= 0).sum())\n",
    "print((test2_pred['survival_time'] <= 0).sum())"
   ]
  },
  {
   "cell_type": "code",
   "execution_count": 501,
   "metadata": {},
   "outputs": [
    {
     "name": "stdout",
     "output_type": "stream",
     "text": [
      "0\n",
      "0\n"
     ]
    }
   ],
   "source": [
    "print((test1_pred['amount_spent'] < 0).sum())\n",
    "print((test2_pred['amount_spent'] < 0).sum())"
   ]
  },
  {
   "cell_type": "code",
   "execution_count": 502,
   "metadata": {},
   "outputs": [],
   "source": [
    "test1_pred.to_csv('test1_predict.csv', index = False)\n",
    "test2_pred.to_csv('test2_predict.csv', index = False)"
   ]
  },
  {
   "cell_type": "markdown",
   "metadata": {},
   "source": [
    "### 28(불필요한 주차별 데이터 28일 평균, 평활, 하이퍼파라미터 변화, 1.5배)"
   ]
  },
  {
   "cell_type": "code",
   "execution_count": 589,
   "metadata": {},
   "outputs": [],
   "source": [
    "X_test_fluctuation = pd.read_csv('X_test_ver2_fluctuation.csv')\n",
    "X_test1_fluctuation = pd.read_csv('X_test1_ver2_fluctuation.csv')\n",
    "X_test2_fluctuation = pd.read_csv('X_test2_ver2_fluctuation.csv')"
   ]
  },
  {
   "cell_type": "code",
   "execution_count": 590,
   "metadata": {},
   "outputs": [],
   "source": [
    "voting_leave_fluctuation_clf_2 = joblib.load('./빅콘테스트/model/version2/voting_leave_fluctuation_clf_2_version2.pkl')\n",
    "voting_amount_fluctuation_clf_2 = joblib.load('./빅콘테스트/model/version2/voting_amount_fluctuation_clf_2_version2.pkl')\n",
    "rf_leave_fluctuation_reg = joblib.load('./빅콘테스트/model/version2/rf_leave_fluctuation_reg_version2.pkl')\n",
    "rf_amount_fluctuation_sub_reg = joblib.load('./빅콘테스트/model/version2/rf_amount_fluctuation_sub_reg_version2.pkl')"
   ]
  },
  {
   "cell_type": "code",
   "execution_count": 591,
   "metadata": {},
   "outputs": [],
   "source": [
    "test_pred = predict(model1 = voting_leave_fluctuation_clf_2, model2 = voting_amount_fluctuation_clf_2,\n",
    "               model3 = rf_leave_fluctuation_reg, model4 = rf_amount_fluctuation_sub_reg, data = X_test_fluctuation)"
   ]
  },
  {
   "cell_type": "code",
   "execution_count": 592,
   "metadata": {},
   "outputs": [],
   "source": [
    "test_pred['amount_spent'] = test_pred['amount_spent'] * 1.5"
   ]
  },
  {
   "cell_type": "code",
   "execution_count": 593,
   "metadata": {},
   "outputs": [],
   "source": [
    "test_pred.to_csv('y_pred_ver2.csv', index = False)"
   ]
  },
  {
   "cell_type": "code",
   "execution_count": 594,
   "metadata": {},
   "outputs": [
    {
     "name": "stdout",
     "output_type": "stream",
     "text": [
      "4366.1566619649275\n"
     ]
    },
    {
     "data": {
      "text/plain": [
       "4366.1566619649275"
      ]
     },
     "execution_count": 594,
     "metadata": {},
     "output_type": "execute_result"
    }
   ],
   "source": [
    "score_function('y_pred_ver2.csv', 'true.csv')"
   ]
  },
  {
   "cell_type": "code",
   "execution_count": 595,
   "metadata": {},
   "outputs": [],
   "source": [
    "test1_pred = predict(model1 = voting_leave_fluctuation_clf_2, model2 = voting_amount_fluctuation_clf_2,\n",
    "               model3 = rf_leave_fluctuation_reg, model4 = rf_amount_fluctuation_sub_reg, data = X_test1_fluctuation)"
   ]
  },
  {
   "cell_type": "code",
   "execution_count": 596,
   "metadata": {},
   "outputs": [],
   "source": [
    "test1_pred['amount_spent'] = test1_pred['amount_spent'] * 1.5"
   ]
  },
  {
   "cell_type": "code",
   "execution_count": 597,
   "metadata": {},
   "outputs": [],
   "source": [
    "test2_pred = predict(model1 = voting_leave_fluctuation_clf_2, model2 = voting_amount_fluctuation_clf_2,\n",
    "               model3 = rf_leave_fluctuation_reg, model4 = rf_amount_fluctuation_sub_reg, data = X_test2_fluctuation)"
   ]
  },
  {
   "cell_type": "code",
   "execution_count": 598,
   "metadata": {},
   "outputs": [],
   "source": [
    "test2_pred['amount_spent'] = test2_pred['amount_spent'] * 1.5"
   ]
  },
  {
   "cell_type": "code",
   "execution_count": 599,
   "metadata": {},
   "outputs": [
    {
     "name": "stdout",
     "output_type": "stream",
     "text": [
      "0\n",
      "0\n",
      "0\n",
      "0\n"
     ]
    }
   ],
   "source": [
    "print((test1_pred['survival_time'] > 64).sum())\n",
    "print((test2_pred['survival_time'] > 64).sum())\n",
    "print((test1_pred['survival_time'] <= 0).sum())\n",
    "print((test2_pred['survival_time'] <= 0).sum())"
   ]
  },
  {
   "cell_type": "code",
   "execution_count": 600,
   "metadata": {},
   "outputs": [
    {
     "name": "stdout",
     "output_type": "stream",
     "text": [
      "0\n",
      "0\n"
     ]
    }
   ],
   "source": [
    "print((test1_pred['amount_spent'] < 0).sum())\n",
    "print((test2_pred['amount_spent'] < 0).sum())"
   ]
  },
  {
   "cell_type": "code",
   "execution_count": 601,
   "metadata": {},
   "outputs": [
    {
     "name": "stdout",
     "output_type": "stream",
     "text": [
      "3002.161221483341\n",
      "9810.75141179012\n",
      "12922.00945342759\n"
     ]
    }
   ],
   "source": [
    "print(test_pred['amount_spent'].sum())\n",
    "print(test1_pred['amount_spent'].sum())\n",
    "print(test2_pred['amount_spent'].sum())"
   ]
  },
  {
   "cell_type": "code",
   "execution_count": 602,
   "metadata": {},
   "outputs": [],
   "source": [
    "test1_pred.to_csv('test1_predict.csv', index = False)\n",
    "test2_pred.to_csv('test2_predict.csv', index = False)"
   ]
  },
  {
   "cell_type": "markdown",
   "metadata": {},
   "source": [
    "### 29(불필요한 주차별 데이터 28일 평균, 평활)"
   ]
  },
  {
   "cell_type": "code",
   "execution_count": 618,
   "metadata": {},
   "outputs": [],
   "source": [
    "def predict(model1, model2, model3, model4, model5, model6, model7, model8, model9, model10,\n",
    "            model11, model12, model13, model14, model15, model16, model17, model18, data):\n",
    "    '''\n",
    "    model1 : 생존 여부 예측(classifier)\n",
    "    model2 : 결제 여부 예측(classifier)\n",
    "    model3 : 추가 생존 기간 예측(regressor)\n",
    "    model4~18 : 일 평균 결제 금액 예측(regressor)\n",
    "    data : test data\n",
    "    '''\n",
    "    \n",
    "    pred1 = model1.predict(data.iloc[:, 1:])\n",
    "    pred2 = model2.predict(data.iloc[:, 1:])\n",
    "    pred3 = model3.predict(data.iloc[:, 1:])\n",
    "    pred4 = (0.1 * model4.predict(data.iloc[:, 1:]) + 0.1 * model5.predict(data.iloc[:, 1:]) + 0.1 * model6.predict(data.iloc[:, 1:])\n",
    "            + 0.1 * model7.predict(data.iloc[:, 1:]) + 0.1 * model8.predict(data.iloc[:, 1:]) + 0.1 * model9.predict(data.iloc[:, 1:])\n",
    "            + 0.1 * model10.predict(data.iloc[:, 1:]) + 0.1 * model11.predict(data.iloc[:, 1:]) + 0.1 * model12.predict(data.iloc[:, 1:])\n",
    "            + 0.1 * model13.predict(data.iloc[:, 1:]) + 0.1 * model14.predict(data.iloc[:, 1:]) + 0.1 * model15.predict(data.iloc[:, 1:]))\n",
    "    \n",
    "    pred3[pred1 == 0] = 64\n",
    "    pred4[pred2 == 0] = 0\n",
    "    pred3[pred3 <= 1] = 1\n",
    "    pred4[pred4 <= 0] = 0\n",
    "    \n",
    "    array = np.concatenate([data.iloc[:, 0].values.reshape(-1, 1), pred3.reshape(-1, 1), pred4.reshape(-1, 1)], axis = 1)\n",
    "    df = pd.DataFrame(array)\n",
    "    df.columns = ['acc_id', 'survival_time', 'amount_spent']\n",
    "    df['acc_id'] = df['acc_id'].astype('int32')\n",
    "    df['survival_time'] = round(df['survival_time']).astype('int32')\n",
    "    \n",
    "    return df"
   ]
  },
  {
   "cell_type": "code",
   "execution_count": 619,
   "metadata": {},
   "outputs": [],
   "source": [
    "X_test_fluctuation = pd.read_csv('X_test_ver2_fluctuation.csv')\n",
    "X_test1_fluctuation = pd.read_csv('X_test1_ver2_fluctuation.csv')\n",
    "X_test2_fluctuation = pd.read_csv('X_test2_ver2_fluctuation.csv')"
   ]
  },
  {
   "cell_type": "code",
   "execution_count": 621,
   "metadata": {},
   "outputs": [],
   "source": [
    "voting_leave_fluctuation_clf_2 = joblib.load('./빅콘테스트/model/version2/voting_leave_fluctuation_clf_2_version2.pkl')\n",
    "voting_amount_fluctuation_clf_2 = joblib.load('./빅콘테스트/model/version2/voting_amount_fluctuation_clf_2_version2.pkl')\n",
    "rf_leave_fluctuation_reg = joblib.load('./빅콘테스트/model/version2/rf_leave_fluctuation_reg_version2.pkl')\n",
    "rf_amount_fluctuation_sub_reg_1 = joblib.load('./빅콘테스트/model/version2/rf_amount_fluctuation_sub_reg_1_version2.pkl')\n",
    "rf_amount_fluctuation_sub_reg_2 = joblib.load('./빅콘테스트/model/version2/rf_amount_fluctuation_sub_reg_2_version2.pkl')\n",
    "rf_amount_fluctuation_sub_reg_3 = joblib.load('./빅콘테스트/model/version2/rf_amount_fluctuation_sub_reg_3_version2.pkl')\n",
    "rf_amount_fluctuation_sub_reg_4 = joblib.load('./빅콘테스트/model/version2/rf_amount_fluctuation_sub_reg_4_version2.pkl')\n",
    "rf_amount_fluctuation_sub_reg_5 = joblib.load('./빅콘테스트/model/version2/rf_amount_fluctuation_sub_reg_5_version2.pkl')\n",
    "rf_amount_fluctuation_sub_reg_6 = joblib.load('./빅콘테스트/model/version2/rf_amount_fluctuation_sub_reg_6_version2.pkl')\n",
    "rf_amount_fluctuation_sub_reg_7 = joblib.load('./빅콘테스트/model/version2/rf_amount_fluctuation_sub_reg_7_version2.pkl')\n",
    "rf_amount_fluctuation_sub_reg_8 = joblib.load('./빅콘테스트/model/version2/rf_amount_fluctuation_sub_reg_8_version2.pkl')\n",
    "rf_amount_fluctuation_sub_reg_9 = joblib.load('./빅콘테스트/model/version2/rf_amount_fluctuation_sub_reg_9_version2.pkl')\n",
    "rf_amount_fluctuation_sub_reg_10 = joblib.load('./빅콘테스트/model/version2/rf_amount_fluctuation_sub_reg_10_version2.pkl')\n",
    "rf_amount_fluctuation_sub_reg_11 = joblib.load('./빅콘테스트/model/version2/rf_amount_fluctuation_sub_reg_11_version2.pkl')\n",
    "rf_amount_fluctuation_sub_reg_12 = joblib.load('./빅콘테스트/model/version2/rf_amount_fluctuation_sub_reg_12_version2.pkl')\n",
    "rf_amount_fluctuation_sub_reg_13 = joblib.load('./빅콘테스트/model/version2/rf_amount_fluctuation_sub_reg_13_version2.pkl')\n",
    "rf_amount_fluctuation_sub_reg_14 = joblib.load('./빅콘테스트/model/version2/rf_amount_fluctuation_sub_reg_14_version2.pkl')\n",
    "rf_amount_fluctuation_sub_reg_15 = joblib.load('./빅콘테스트/model/version2/rf_amount_fluctuation_sub_reg_15_version2.pkl')"
   ]
  },
  {
   "cell_type": "code",
   "execution_count": 623,
   "metadata": {},
   "outputs": [],
   "source": [
    "test_pred = predict(model1 = voting_leave_fluctuation_clf_2, model2 = voting_amount_fluctuation_clf_2, \n",
    "                    model3 = rf_leave_fluctuation_reg, model4 = rf_amount_fluctuation_sub_reg_1, \n",
    "                    model5 = rf_amount_fluctuation_sub_reg_2, model6 = rf_amount_fluctuation_sub_reg_3,\n",
    "                    model7 = rf_amount_fluctuation_sub_reg_4, model8 = rf_amount_fluctuation_sub_reg_5,\n",
    "                    model9 = rf_amount_fluctuation_sub_reg_6, model10 = rf_amount_fluctuation_sub_reg_7,\n",
    "                    model11 = rf_amount_fluctuation_sub_reg_8, model12 = rf_amount_fluctuation_sub_reg_9,\n",
    "                    model13 = rf_amount_fluctuation_sub_reg_10, model14 = rf_amount_fluctuation_sub_reg_11,\n",
    "                    model15 = rf_amount_fluctuation_sub_reg_12, model16 = rf_amount_fluctuation_sub_reg_13,\n",
    "                    model17 = rf_amount_fluctuation_sub_reg_13, model18 = rf_amount_fluctuation_sub_reg_15,\n",
    "                    data = X_test_fluctuation)"
   ]
  },
  {
   "cell_type": "code",
   "execution_count": 624,
   "metadata": {},
   "outputs": [],
   "source": [
    "test_pred['amount_spent'] = test_pred['amount_spent']"
   ]
  },
  {
   "cell_type": "code",
   "execution_count": 625,
   "metadata": {},
   "outputs": [],
   "source": [
    "test_pred.to_csv('y_pred_ver2.csv', index = False)"
   ]
  },
  {
   "cell_type": "code",
   "execution_count": 626,
   "metadata": {},
   "outputs": [
    {
     "name": "stdout",
     "output_type": "stream",
     "text": [
      "4117.981791517369\n"
     ]
    },
    {
     "data": {
      "text/plain": [
       "4117.981791517369"
      ]
     },
     "execution_count": 626,
     "metadata": {},
     "output_type": "execute_result"
    }
   ],
   "source": [
    "score_function('y_pred_ver2.csv', 'true.csv')"
   ]
  },
  {
   "cell_type": "code",
   "execution_count": 627,
   "metadata": {},
   "outputs": [],
   "source": [
    "test1_pred = predict(model1 = voting_leave_fluctuation_clf_2, model2 = voting_amount_fluctuation_clf_2, \n",
    "                    model3 = rf_leave_fluctuation_reg, model4 = rf_amount_fluctuation_sub_reg_1, \n",
    "                    model5 = rf_amount_fluctuation_sub_reg_2, model6 = rf_amount_fluctuation_sub_reg_3,\n",
    "                    model7 = rf_amount_fluctuation_sub_reg_4, model8 = rf_amount_fluctuation_sub_reg_5,\n",
    "                    model9 = rf_amount_fluctuation_sub_reg_6, model10 = rf_amount_fluctuation_sub_reg_7,\n",
    "                    model11 = rf_amount_fluctuation_sub_reg_8, model12 = rf_amount_fluctuation_sub_reg_9,\n",
    "                    model13 = rf_amount_fluctuation_sub_reg_10, model14 = rf_amount_fluctuation_sub_reg_11,\n",
    "                    model15 = rf_amount_fluctuation_sub_reg_12, model16 = rf_amount_fluctuation_sub_reg_13,\n",
    "                    model17 = rf_amount_fluctuation_sub_reg_13, model18 = rf_amount_fluctuation_sub_reg_15,\n",
    "                    data = X_test1_fluctuation)"
   ]
  },
  {
   "cell_type": "code",
   "execution_count": 628,
   "metadata": {},
   "outputs": [],
   "source": [
    "test2_pred = predict(model1 = voting_leave_fluctuation_clf_2, model2 = voting_amount_fluctuation_clf_2, \n",
    "                    model3 = rf_leave_fluctuation_reg, model4 = rf_amount_fluctuation_sub_reg_1, \n",
    "                    model5 = rf_amount_fluctuation_sub_reg_2, model6 = rf_amount_fluctuation_sub_reg_3,\n",
    "                    model7 = rf_amount_fluctuation_sub_reg_4, model8 = rf_amount_fluctuation_sub_reg_5,\n",
    "                    model9 = rf_amount_fluctuation_sub_reg_6, model10 = rf_amount_fluctuation_sub_reg_7,\n",
    "                    model11 = rf_amount_fluctuation_sub_reg_8, model12 = rf_amount_fluctuation_sub_reg_9,\n",
    "                    model13 = rf_amount_fluctuation_sub_reg_10, model14 = rf_amount_fluctuation_sub_reg_11,\n",
    "                    model15 = rf_amount_fluctuation_sub_reg_12, model16 = rf_amount_fluctuation_sub_reg_13,\n",
    "                    model17 = rf_amount_fluctuation_sub_reg_13, model18 = rf_amount_fluctuation_sub_reg_15,\n",
    "                    data = X_test2_fluctuation)"
   ]
  },
  {
   "cell_type": "code",
   "execution_count": 629,
   "metadata": {},
   "outputs": [
    {
     "name": "stdout",
     "output_type": "stream",
     "text": [
      "0\n",
      "0\n",
      "0\n",
      "0\n"
     ]
    }
   ],
   "source": [
    "print((test1_pred['survival_time'] > 64).sum())\n",
    "print((test2_pred['survival_time'] > 64).sum())\n",
    "print((test1_pred['survival_time'] <= 0).sum())\n",
    "print((test2_pred['survival_time'] <= 0).sum())"
   ]
  },
  {
   "cell_type": "code",
   "execution_count": 630,
   "metadata": {},
   "outputs": [
    {
     "name": "stdout",
     "output_type": "stream",
     "text": [
      "0\n",
      "0\n"
     ]
    }
   ],
   "source": [
    "print((test1_pred['amount_spent'] < 0).sum())\n",
    "print((test2_pred['amount_spent'] < 0).sum())"
   ]
  },
  {
   "cell_type": "code",
   "execution_count": 631,
   "metadata": {},
   "outputs": [
    {
     "name": "stdout",
     "output_type": "stream",
     "text": [
      "2405.6167258652317\n",
      "8135.024722021177\n",
      "10518.389806442145\n"
     ]
    }
   ],
   "source": [
    "print(test_pred['amount_spent'].sum())\n",
    "print(test1_pred['amount_spent'].sum())\n",
    "print(test2_pred['amount_spent'].sum())"
   ]
  },
  {
   "cell_type": "code",
   "execution_count": 632,
   "metadata": {},
   "outputs": [],
   "source": [
    "test1_pred.to_csv('test1_predict.csv', index = False)\n",
    "test2_pred.to_csv('test2_predict.csv', index = False)"
   ]
  },
  {
   "cell_type": "code",
   "execution_count": null,
   "metadata": {},
   "outputs": [],
   "source": []
  }
 ],
 "metadata": {
  "kernelspec": {
   "display_name": "Python [conda env:hun] *",
   "language": "python",
   "name": "conda-env-hun-py"
  },
  "language_info": {
   "codemirror_mode": {
    "name": "ipython",
    "version": 3
   },
   "file_extension": ".py",
   "mimetype": "text/x-python",
   "name": "python",
   "nbconvert_exporter": "python",
   "pygments_lexer": "ipython3",
   "version": "3.6.8"
  }
 },
 "nbformat": 4,
 "nbformat_minor": 2
}
